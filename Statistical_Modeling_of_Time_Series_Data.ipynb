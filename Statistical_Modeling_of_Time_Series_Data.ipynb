{
  "nbformat": 4,
  "nbformat_minor": 0,
  "metadata": {
    "colab": {
      "name": "Statistical Modeling of Time Series Data.ipynb",
      "provenance": [],
      "authorship_tag": "ABX9TyPriT9Zb2FFHIDDANN6GMXq"
    },
    "kernelspec": {
      "name": "python3",
      "display_name": "Python 3"
    },
    "language_info": {
      "name": "python"
    }
  },
  "cells": [
    {
      "cell_type": "markdown",
      "source": [
        "[Reference](https://pub.towardsai.net/statistical-modeling-of-time-series-data-part-1-data-preparation-and-preprocessing-b52f26f6213c)"
      ],
      "metadata": {
        "id": "OR57jPR4isSc"
      }
    },
    {
      "cell_type": "markdown",
      "source": [
        "# Downloading the Data from Yahoo Finance\n"
      ],
      "metadata": {
        "id": "vOq8SGXEiwW_"
      }
    },
    {
      "cell_type": "code",
      "source": [
        "!pip install yfinance --upgrade --no-cache-dir"
      ],
      "metadata": {
        "colab": {
          "base_uri": "https://localhost:8080/"
        },
        "id": "3bc6tuKfij99",
        "outputId": "19b42a26-f3d6-45ab-b763-fbcb68aef743"
      },
      "execution_count": 2,
      "outputs": [
        {
          "output_type": "stream",
          "name": "stdout",
          "text": [
            "Collecting yfinance\n",
            "  Downloading yfinance-0.1.69-py2.py3-none-any.whl (26 kB)\n",
            "Collecting lxml>=4.5.1\n",
            "  Downloading lxml-4.7.1-cp37-cp37m-manylinux_2_17_x86_64.manylinux2014_x86_64.manylinux_2_24_x86_64.whl (6.4 MB)\n",
            "\u001b[K     |████████████████████████████████| 6.4 MB 19.5 MB/s \n",
            "\u001b[?25hRequirement already satisfied: multitasking>=0.0.7 in /usr/local/lib/python3.7/dist-packages (from yfinance) (0.0.10)\n",
            "Requirement already satisfied: pandas>=0.24 in /usr/local/lib/python3.7/dist-packages (from yfinance) (1.1.5)\n",
            "Collecting requests>=2.26\n",
            "  Downloading requests-2.27.1-py2.py3-none-any.whl (63 kB)\n",
            "\u001b[K     |████████████████████████████████| 63 kB 1.5 MB/s \n",
            "\u001b[?25hRequirement already satisfied: numpy>=1.15 in /usr/local/lib/python3.7/dist-packages (from yfinance) (1.19.5)\n",
            "Requirement already satisfied: python-dateutil>=2.7.3 in /usr/local/lib/python3.7/dist-packages (from pandas>=0.24->yfinance) (2.8.2)\n",
            "Requirement already satisfied: pytz>=2017.2 in /usr/local/lib/python3.7/dist-packages (from pandas>=0.24->yfinance) (2018.9)\n",
            "Requirement already satisfied: six>=1.5 in /usr/local/lib/python3.7/dist-packages (from python-dateutil>=2.7.3->pandas>=0.24->yfinance) (1.15.0)\n",
            "Requirement already satisfied: idna<4,>=2.5 in /usr/local/lib/python3.7/dist-packages (from requests>=2.26->yfinance) (2.10)\n",
            "Requirement already satisfied: certifi>=2017.4.17 in /usr/local/lib/python3.7/dist-packages (from requests>=2.26->yfinance) (2021.10.8)\n",
            "Requirement already satisfied: urllib3<1.27,>=1.21.1 in /usr/local/lib/python3.7/dist-packages (from requests>=2.26->yfinance) (1.24.3)\n",
            "Requirement already satisfied: charset-normalizer~=2.0.0 in /usr/local/lib/python3.7/dist-packages (from requests>=2.26->yfinance) (2.0.10)\n",
            "Installing collected packages: requests, lxml, yfinance\n",
            "  Attempting uninstall: requests\n",
            "    Found existing installation: requests 2.23.0\n",
            "    Uninstalling requests-2.23.0:\n",
            "      Successfully uninstalled requests-2.23.0\n",
            "  Attempting uninstall: lxml\n",
            "    Found existing installation: lxml 4.2.6\n",
            "    Uninstalling lxml-4.2.6:\n",
            "      Successfully uninstalled lxml-4.2.6\n",
            "\u001b[31mERROR: pip's dependency resolver does not currently take into account all the packages that are installed. This behaviour is the source of the following dependency conflicts.\n",
            "google-colab 1.0.0 requires requests~=2.23.0, but you have requests 2.27.1 which is incompatible.\n",
            "datascience 0.10.6 requires folium==0.2.1, but you have folium 0.8.3 which is incompatible.\u001b[0m\n",
            "Successfully installed lxml-4.7.1 requests-2.27.1 yfinance-0.1.69\n"
          ]
        }
      ]
    },
    {
      "cell_type": "code",
      "execution_count": 3,
      "metadata": {
        "colab": {
          "base_uri": "https://localhost:8080/"
        },
        "id": "g1QlgceBieM9",
        "outputId": "b96fc164-351f-4f03-bb21-ba3ae669d7cf"
      },
      "outputs": [
        {
          "output_type": "stream",
          "name": "stdout",
          "text": [
            "\r[*********************100%***********************]  1 of 1 completed\n"
          ]
        }
      ],
      "source": [
        "import pandas as pd\n",
        "import numpy as np\n",
        "\n",
        "import matplotlib.pyplot as plt\n",
        "import seaborn as sns\n",
        "sns.set()\n",
        "\n",
        "import yfinance\n",
        "\n",
        "raw_data = yfinance.download (tickers = \"^GSPC\", start = \"1994-01-07\", \n",
        "                              end = \"2019-09-01\", interval = \"1d\")"
      ]
    },
    {
      "cell_type": "markdown",
      "source": [
        "# Extracting Relevant Series\n"
      ],
      "metadata": {
        "id": "vUBCHXFmi7C5"
      }
    },
    {
      "cell_type": "code",
      "source": [
        "# Create a new dataframe with one column - \"spx\"\n",
        "data = pd.DataFrame(columns = [\"spx\"])\n",
        "# Copy closing prices of S&P 500 to this new column\n",
        "data[\"spx\"] = raw_data[\"Close\"]\n",
        "# Ensure that the dates are ordered in business week fashion (5 days a week)\n",
        "data = data.asfreq(\"b\")"
      ],
      "metadata": {
        "id": "paAnZQ1CihBd"
      },
      "execution_count": 4,
      "outputs": []
    },
    {
      "cell_type": "markdown",
      "source": [
        "# Handling Missing Values\n"
      ],
      "metadata": {
        "id": "tqq6qpZQi8RB"
      }
    },
    {
      "cell_type": "code",
      "source": [
        "print(\"Null values - \",data.spx.isnull().sum())\n",
        "\n",
        "print(\"\\nStatistical Description of the series - \")\n",
        "print(data.describe())\n",
        "\n",
        "data.spx = data.spx.fillna(method='ffill')\n",
        "print(\"\\nNull values - \",data.spx.isnull().sum())"
      ],
      "metadata": {
        "colab": {
          "base_uri": "https://localhost:8080/"
        },
        "id": "1QQ01rVuihdN",
        "outputId": "5f76b043-a26a-4f45-804d-62a6b0e9240a"
      },
      "execution_count": 5,
      "outputs": [
        {
          "output_type": "stream",
          "name": "stdout",
          "text": [
            "Null values -  233\n",
            "\n",
            "Statistical Description of the series - \n",
            "               spx\n",
            "count  6458.000000\n",
            "mean   1380.755686\n",
            "std     595.173638\n",
            "min     438.920013\n",
            "25%    1023.952515\n",
            "50%    1263.834961\n",
            "75%    1562.492493\n",
            "max    3025.860107\n",
            "\n",
            "Null values -  0\n"
          ]
        }
      ]
    },
    {
      "cell_type": "markdown",
      "source": [
        "# Deriving S&P Returns and Volatility\n"
      ],
      "metadata": {
        "id": "YWmAVQRAi-ei"
      }
    },
    {
      "cell_type": "code",
      "source": [
        "# Calculating returns and volatility based on previous formulas\n",
        "data[\"spx_ret\"] = data.spx.pct_change(1).mul(100)\n",
        "data[\"spx_vol\"] = data.spx_ret.abs()"
      ],
      "metadata": {
        "id": "Z2zQqcBOiole"
      },
      "execution_count": 6,
      "outputs": []
    }
  ]
}