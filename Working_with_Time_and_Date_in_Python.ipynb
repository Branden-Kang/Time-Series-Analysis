{
  "nbformat": 4,
  "nbformat_minor": 0,
  "metadata": {
    "colab": {
      "name": "Working with Time and Date in Python.ipynb",
      "provenance": [],
      "authorship_tag": "ABX9TyOYIAkfFa1HBLwsMFO0MF8w"
    },
    "kernelspec": {
      "name": "python3",
      "display_name": "Python 3"
    },
    "language_info": {
      "name": "python"
    }
  },
  "cells": [
    {
      "cell_type": "markdown",
      "metadata": {
        "id": "_9gB8UQ02JDR"
      },
      "source": [
        "[Reference](https://medium.com/@arturasvy/working-with-time-and-date-in-python-6cce748f90f5)"
      ]
    },
    {
      "cell_type": "code",
      "metadata": {
        "id": "SOkQkN_P2H67"
      },
      "source": [
        "import datetime"
      ],
      "execution_count": 1,
      "outputs": []
    },
    {
      "cell_type": "code",
      "metadata": {
        "colab": {
          "base_uri": "https://localhost:8080/"
        },
        "id": "yflyf9OH2L6V",
        "outputId": "e15a7709-fe0b-41ee-cd03-529beeb34ef2"
      },
      "source": [
        "current_time = datetime.datetime.now()\n",
        "print(current_time)"
      ],
      "execution_count": 2,
      "outputs": [
        {
          "output_type": "stream",
          "name": "stdout",
          "text": [
            "2021-09-21 10:13:46.153259\n"
          ]
        }
      ]
    },
    {
      "cell_type": "code",
      "metadata": {
        "colab": {
          "base_uri": "https://localhost:8080/"
        },
        "id": "V64Vcy8s2M1N",
        "outputId": "ab047bd2-4cbc-42ad-fbeb-f3d9f4caade4"
      },
      "source": [
        "current_time = datetime.datetime.now()\n",
        "print(current_time)\n",
        "current_time_utc = datetime.datetime.now(tz=datetime.timezone.utc)\n",
        "print(current_time_utc)"
      ],
      "execution_count": 3,
      "outputs": [
        {
          "output_type": "stream",
          "name": "stdout",
          "text": [
            "2021-09-21 10:13:51.933748\n",
            "2021-09-21 10:13:51.933999+00:00\n"
          ]
        }
      ]
    },
    {
      "cell_type": "code",
      "metadata": {
        "colab": {
          "base_uri": "https://localhost:8080/"
        },
        "id": "KK567HEx2Ow2",
        "outputId": "3e2acd71-4eed-460f-9e6d-4cafd8db4aa0"
      },
      "source": [
        "current_time_without_ms = str(datetime.datetime.now()).split('.')[0]\n",
        "print(current_time_without_ms)"
      ],
      "execution_count": 4,
      "outputs": [
        {
          "output_type": "stream",
          "name": "stdout",
          "text": [
            "2021-09-21 10:14:02\n"
          ]
        }
      ]
    },
    {
      "cell_type": "code",
      "metadata": {
        "colab": {
          "base_uri": "https://localhost:8080/"
        },
        "id": "BYH7_bZb2RZV",
        "outputId": "6432f30d-d08a-43d9-83c9-eaf65c43ca74"
      },
      "source": [
        "current_time = datetime.datetime.now()\n",
        "year = current_time.year\n",
        "month = current_time.month\n",
        "day = current_time.day\n",
        "hour = current_time.hour\n",
        "minute = current_time.minute\n",
        "second = current_time.second\n",
        "print(f\"{year}-{month:02d}-{day:02d} {hour:02d}:{minute:02d}:{second:02d}\")"
      ],
      "execution_count": 5,
      "outputs": [
        {
          "output_type": "stream",
          "name": "stdout",
          "text": [
            "2021-09-21 10:14:09\n"
          ]
        }
      ]
    },
    {
      "cell_type": "code",
      "metadata": {
        "colab": {
          "base_uri": "https://localhost:8080/"
        },
        "id": "OYwfsMo_2TET",
        "outputId": "58daa2d4-8c87-404f-9077-40f19d85f1fe"
      },
      "source": [
        "example_time = \"2021-09-10 16:54:23\"\n",
        "datetime_object = datetime.datetime.strptime(example_time, '%Y-%m-%d %H:%M:%S')\n",
        "utc_time = datetime_object.replace(tzinfo=datetime.timezone.utc)\n",
        "current_timestamp = datetime.datetime.timestamp(utc_time)\n",
        "print(current_timestamp)"
      ],
      "execution_count": 6,
      "outputs": [
        {
          "output_type": "stream",
          "name": "stdout",
          "text": [
            "1631292863.0\n"
          ]
        }
      ]
    },
    {
      "cell_type": "code",
      "metadata": {
        "colab": {
          "base_uri": "https://localhost:8080/"
        },
        "id": "vFti7N4S2Va0",
        "outputId": "aba432a5-ed2f-44de-da81-d721d9ab7ea9"
      },
      "source": [
        "timestamp = 1631292863\n",
        "time_and_date_utc = datetime.datetime.fromtimestamp(timestamp, tz=datetime.timezone.utc)\n",
        "print(time_and_date_utc)"
      ],
      "execution_count": 7,
      "outputs": [
        {
          "output_type": "stream",
          "name": "stdout",
          "text": [
            "2021-09-10 16:54:23+00:00\n"
          ]
        }
      ]
    },
    {
      "cell_type": "code",
      "metadata": {
        "colab": {
          "base_uri": "https://localhost:8080/"
        },
        "id": "Bn7Nzmb72XHU",
        "outputId": "32a51141-0b01-495f-d3de-5070031b6bf0"
      },
      "source": [
        "# Timedelta option using\n",
        "start_time_and_date = \"2021-08-10 17:45:00\"\n",
        "date_time_obj = datetime.datetime.strptime(start_time_and_date, '%Y-%m-%d %H:%M:%S')\n",
        "\n",
        "# Calculating future date\n",
        "future_time_and_date = date_time_obj + datetime.timedelta(days=2, hours=3, minutes=22)\n",
        "# Calculating past date\n",
        "past_time_and_date = date_time_obj + datetime.timedelta(days=-4, hours=-2, minutes=-13)\n",
        "\n",
        "print(past_time_and_date)\n",
        "print(future_time_and_date)"
      ],
      "execution_count": 8,
      "outputs": [
        {
          "output_type": "stream",
          "name": "stdout",
          "text": [
            "2021-08-06 15:32:00\n",
            "2021-08-12 21:07:00\n"
          ]
        }
      ]
    },
    {
      "cell_type": "code",
      "metadata": {
        "colab": {
          "base_uri": "https://localhost:8080/"
        },
        "id": "ZMq0KKHB2aCl",
        "outputId": "9137b4b9-c414-4e30-bd41-a2077b1690b3"
      },
      "source": [
        "date1 = \"2021-08-06 15:32:00\"\n",
        "date2 = \"2021-08-12 21:07:00\"\n",
        "\n",
        "date_time_obj_1 = datetime.datetime.strptime(date1, '%Y-%m-%d %H:%M:%S')\n",
        "date_time_obj_2 = datetime.datetime.strptime(date2, '%Y-%m-%d %H:%M:%S')\n",
        "\n",
        "diff = date_time_obj_2 - date_time_obj_1\n",
        "print(diff)"
      ],
      "execution_count": 9,
      "outputs": [
        {
          "output_type": "stream",
          "name": "stdout",
          "text": [
            "6 days, 5:35:00\n"
          ]
        }
      ]
    },
    {
      "cell_type": "code",
      "metadata": {
        "colab": {
          "base_uri": "https://localhost:8080/"
        },
        "id": "8NTxqjK12cNf",
        "outputId": "9a1f75ff-63c8-415b-fb97-72924eba8acb"
      },
      "source": [
        "date_example_1 = \"2021-08-06 16:00:00\"\n",
        "date_example_2 = \"2021/08/06 16/00/00\"\n",
        "date_example_3 = \"06 August 21 - 16:00:00\"\n",
        "date_example_4 = \"06 August 21 - 4 PM\"\n",
        "date_example_5 = \"Aug 2021, 06 / 4 PM\"\n",
        "date_time_obj_example_1 = datetime.datetime.strptime(date_example_1, '%Y-%m-%d %H:%M:%S')\n",
        "date_time_obj_example_2 = datetime.datetime.strptime(date_example_2, '%Y/%m/%d %H/%M/%S')\n",
        "date_time_obj_example_3 = datetime.datetime.strptime(date_example_3, '%d %B %y - %H:%M:%S')\n",
        "date_time_obj_example_4 = datetime.datetime.strptime(date_example_4, '%d %B %y - %I %p')\n",
        "date_time_obj_example_5 = datetime.datetime.strptime(date_example_5, '%b %Y, %d / %I %p')\n",
        "print(date_time_obj_example_1)\n",
        "print(date_time_obj_example_2)\n",
        "print(date_time_obj_example_3)\n",
        "print(date_time_obj_example_4)\n",
        "print(date_time_obj_example_5)"
      ],
      "execution_count": 10,
      "outputs": [
        {
          "output_type": "stream",
          "name": "stdout",
          "text": [
            "2021-08-06 16:00:00\n",
            "2021-08-06 16:00:00\n",
            "2021-08-06 16:00:00\n",
            "2021-08-06 16:00:00\n",
            "2021-08-06 16:00:00\n"
          ]
        }
      ]
    },
    {
      "cell_type": "code",
      "metadata": {
        "colab": {
          "base_uri": "https://localhost:8080/"
        },
        "id": "6deKFdq62fLR",
        "outputId": "1f238645-419d-4ba4-bd2e-913fcade0e4f"
      },
      "source": [
        "example_time = \"2021-08-06 16:00:00\"\n",
        "datetime_object = datetime.datetime.strptime(example_time, '%Y-%m-%d %H:%M:%S')\n",
        "date_example_1 = datetime_object.strftime('%Y-%m-%d %H:%M:%S')\n",
        "date_example_2 = datetime_object.strftime('%Y/%m/%d %H/%M/%S')\n",
        "date_example_3 = datetime_object.strftime('%d %B %y - %H:%M:%S')\n",
        "date_example_4 = datetime_object.strftime('%d %B %y - %I %p')\n",
        "date_example_5 = datetime_object.strftime('%b %Y, %d / %I %p')\n",
        "print(date_example_1)\n",
        "print(date_example_2)\n",
        "print(date_example_3)\n",
        "print(date_example_4)\n",
        "print(date_example_5)"
      ],
      "execution_count": 11,
      "outputs": [
        {
          "output_type": "stream",
          "name": "stdout",
          "text": [
            "2021-08-06 16:00:00\n",
            "2021/08/06 16/00/00\n",
            "06 August 21 - 16:00:00\n",
            "06 August 21 - 04 PM\n",
            "Aug 2021, 06 / 04 PM\n"
          ]
        }
      ]
    }
  ]
}