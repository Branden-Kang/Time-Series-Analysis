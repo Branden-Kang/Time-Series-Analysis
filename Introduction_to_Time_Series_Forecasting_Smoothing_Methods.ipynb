{
  "nbformat": 4,
  "nbformat_minor": 0,
  "metadata": {
    "colab": {
      "name": "Introduction to Time Series Forecasting: Smoothing Methods.ipynb",
      "provenance": [],
      "authorship_tag": "ABX9TyPZPKBWAMPD6AlQ7Smns2WB"
    },
    "kernelspec": {
      "name": "python3",
      "display_name": "Python 3"
    },
    "language_info": {
      "name": "python"
    }
  },
  "cells": [
    {
      "cell_type": "markdown",
      "source": [
        "[Reference](https://medium.com/codex/introduction-to-time-series-forecasting-smoothing-methods-9a904c00d0fd)"
      ],
      "metadata": {
        "id": "E7zIouB6SVec"
      }
    },
    {
      "cell_type": "code",
      "execution_count": 1,
      "metadata": {
        "colab": {
          "base_uri": "https://localhost:8080/"
        },
        "id": "aZ00jUE9Ptu1",
        "outputId": "d12baf8a-fac2-41f5-96c1-1baa5e06e78d"
      },
      "outputs": [
        {
          "output_type": "stream",
          "name": "stderr",
          "text": [
            "/usr/local/lib/python3.7/dist-packages/statsmodels/tools/_testing.py:19: FutureWarning: pandas.util.testing is deprecated. Use the functions in the public API at pandas.testing instead.\n",
            "  import pandas.util.testing as tm\n"
          ]
        }
      ],
      "source": [
        "import itertools\n",
        "import warnings\n",
        "import matplotlib.pyplot as plt\n",
        "import numpy as np\n",
        "import statsmodels.api as sm\n",
        "from sklearn.metrics import mean_absolute_error\n",
        "from statsmodels.tsa.holtwinters import ExponentialSmoothing"
      ]
    },
    {
      "cell_type": "code",
      "source": [
        "data = sm.datasets.co2.load_pandas()\n",
        "y = data.data\n",
        "y.head()"
      ],
      "metadata": {
        "colab": {
          "base_uri": "https://localhost:8080/",
          "height": 204
        },
        "id": "uTCSTC1WQkCR",
        "outputId": "900a8cd4-b351-4628-c130-19eb635fa66c"
      },
      "execution_count": 2,
      "outputs": [
        {
          "output_type": "execute_result",
          "data": {
            "text/html": [
              "\n",
              "  <div id=\"df-c20d7e7a-ace3-424f-b845-25869c98ef67\">\n",
              "    <div class=\"colab-df-container\">\n",
              "      <div>\n",
              "<style scoped>\n",
              "    .dataframe tbody tr th:only-of-type {\n",
              "        vertical-align: middle;\n",
              "    }\n",
              "\n",
              "    .dataframe tbody tr th {\n",
              "        vertical-align: top;\n",
              "    }\n",
              "\n",
              "    .dataframe thead th {\n",
              "        text-align: right;\n",
              "    }\n",
              "</style>\n",
              "<table border=\"1\" class=\"dataframe\">\n",
              "  <thead>\n",
              "    <tr style=\"text-align: right;\">\n",
              "      <th></th>\n",
              "      <th>co2</th>\n",
              "    </tr>\n",
              "  </thead>\n",
              "  <tbody>\n",
              "    <tr>\n",
              "      <th>1958-03-29</th>\n",
              "      <td>316.1</td>\n",
              "    </tr>\n",
              "    <tr>\n",
              "      <th>1958-04-05</th>\n",
              "      <td>317.3</td>\n",
              "    </tr>\n",
              "    <tr>\n",
              "      <th>1958-04-12</th>\n",
              "      <td>317.6</td>\n",
              "    </tr>\n",
              "    <tr>\n",
              "      <th>1958-04-19</th>\n",
              "      <td>317.5</td>\n",
              "    </tr>\n",
              "    <tr>\n",
              "      <th>1958-04-26</th>\n",
              "      <td>316.4</td>\n",
              "    </tr>\n",
              "  </tbody>\n",
              "</table>\n",
              "</div>\n",
              "      <button class=\"colab-df-convert\" onclick=\"convertToInteractive('df-c20d7e7a-ace3-424f-b845-25869c98ef67')\"\n",
              "              title=\"Convert this dataframe to an interactive table.\"\n",
              "              style=\"display:none;\">\n",
              "        \n",
              "  <svg xmlns=\"http://www.w3.org/2000/svg\" height=\"24px\"viewBox=\"0 0 24 24\"\n",
              "       width=\"24px\">\n",
              "    <path d=\"M0 0h24v24H0V0z\" fill=\"none\"/>\n",
              "    <path d=\"M18.56 5.44l.94 2.06.94-2.06 2.06-.94-2.06-.94-.94-2.06-.94 2.06-2.06.94zm-11 1L8.5 8.5l.94-2.06 2.06-.94-2.06-.94L8.5 2.5l-.94 2.06-2.06.94zm10 10l.94 2.06.94-2.06 2.06-.94-2.06-.94-.94-2.06-.94 2.06-2.06.94z\"/><path d=\"M17.41 7.96l-1.37-1.37c-.4-.4-.92-.59-1.43-.59-.52 0-1.04.2-1.43.59L10.3 9.45l-7.72 7.72c-.78.78-.78 2.05 0 2.83L4 21.41c.39.39.9.59 1.41.59.51 0 1.02-.2 1.41-.59l7.78-7.78 2.81-2.81c.8-.78.8-2.07 0-2.86zM5.41 20L4 18.59l7.72-7.72 1.47 1.35L5.41 20z\"/>\n",
              "  </svg>\n",
              "      </button>\n",
              "      \n",
              "  <style>\n",
              "    .colab-df-container {\n",
              "      display:flex;\n",
              "      flex-wrap:wrap;\n",
              "      gap: 12px;\n",
              "    }\n",
              "\n",
              "    .colab-df-convert {\n",
              "      background-color: #E8F0FE;\n",
              "      border: none;\n",
              "      border-radius: 50%;\n",
              "      cursor: pointer;\n",
              "      display: none;\n",
              "      fill: #1967D2;\n",
              "      height: 32px;\n",
              "      padding: 0 0 0 0;\n",
              "      width: 32px;\n",
              "    }\n",
              "\n",
              "    .colab-df-convert:hover {\n",
              "      background-color: #E2EBFA;\n",
              "      box-shadow: 0px 1px 2px rgba(60, 64, 67, 0.3), 0px 1px 3px 1px rgba(60, 64, 67, 0.15);\n",
              "      fill: #174EA6;\n",
              "    }\n",
              "\n",
              "    [theme=dark] .colab-df-convert {\n",
              "      background-color: #3B4455;\n",
              "      fill: #D2E3FC;\n",
              "    }\n",
              "\n",
              "    [theme=dark] .colab-df-convert:hover {\n",
              "      background-color: #434B5C;\n",
              "      box-shadow: 0px 1px 3px 1px rgba(0, 0, 0, 0.15);\n",
              "      filter: drop-shadow(0px 1px 2px rgba(0, 0, 0, 0.3));\n",
              "      fill: #FFFFFF;\n",
              "    }\n",
              "  </style>\n",
              "\n",
              "      <script>\n",
              "        const buttonEl =\n",
              "          document.querySelector('#df-c20d7e7a-ace3-424f-b845-25869c98ef67 button.colab-df-convert');\n",
              "        buttonEl.style.display =\n",
              "          google.colab.kernel.accessAllowed ? 'block' : 'none';\n",
              "\n",
              "        async function convertToInteractive(key) {\n",
              "          const element = document.querySelector('#df-c20d7e7a-ace3-424f-b845-25869c98ef67');\n",
              "          const dataTable =\n",
              "            await google.colab.kernel.invokeFunction('convertToInteractive',\n",
              "                                                     [key], {});\n",
              "          if (!dataTable) return;\n",
              "\n",
              "          const docLinkHtml = 'Like what you see? Visit the ' +\n",
              "            '<a target=\"_blank\" href=https://colab.research.google.com/notebooks/data_table.ipynb>data table notebook</a>'\n",
              "            + ' to learn more about interactive tables.';\n",
              "          element.innerHTML = '';\n",
              "          dataTable['output_type'] = 'display_data';\n",
              "          await google.colab.output.renderOutput(dataTable, element);\n",
              "          const docLink = document.createElement('div');\n",
              "          docLink.innerHTML = docLinkHtml;\n",
              "          element.appendChild(docLink);\n",
              "        }\n",
              "      </script>\n",
              "    </div>\n",
              "  </div>\n",
              "  "
            ],
            "text/plain": [
              "              co2\n",
              "1958-03-29  316.1\n",
              "1958-04-05  317.3\n",
              "1958-04-12  317.6\n",
              "1958-04-19  317.5\n",
              "1958-04-26  316.4"
            ]
          },
          "metadata": {},
          "execution_count": 2
        }
      ]
    },
    {
      "cell_type": "code",
      "source": [
        "y = y['co2'].resample('MS').mean()"
      ],
      "metadata": {
        "id": "omxtDUVjQmPh"
      },
      "execution_count": 3,
      "outputs": []
    },
    {
      "cell_type": "code",
      "source": [
        "y.isnull().sum()"
      ],
      "metadata": {
        "colab": {
          "base_uri": "https://localhost:8080/"
        },
        "id": "vbi7D1g7Qni_",
        "outputId": "9504619a-635c-4577-b468-9a6159490a82"
      },
      "execution_count": 4,
      "outputs": [
        {
          "output_type": "execute_result",
          "data": {
            "text/plain": [
              "5"
            ]
          },
          "metadata": {},
          "execution_count": 4
        }
      ]
    },
    {
      "cell_type": "code",
      "source": [
        "y = y.fillna(y.bfill())"
      ],
      "metadata": {
        "id": "Cdp4INYzQogh"
      },
      "execution_count": 5,
      "outputs": []
    },
    {
      "cell_type": "code",
      "source": [
        "y.plot(figsize=(15, 6))\n",
        "plt.show()"
      ],
      "metadata": {
        "colab": {
          "base_uri": "https://localhost:8080/",
          "height": 273
        },
        "id": "af08qoQjQpsY",
        "outputId": "e18f92ae-cd68-496b-eace-d9408ac7c9c2"
      },
      "execution_count": 6,
      "outputs": [
        {
          "output_type": "display_data",
          "data": {
            "image/png": "[encoded data removed]",
            "text/plain": [
              "<Figure size 1080x432 with 1 Axes>"
            ]
          },
          "metadata": {
            "needs_background": "light"
          }
        }
      ]
    },
    {
      "cell_type": "markdown",
      "source": [
        "# Creating A Function To Compare Train, Test and Forecasted Values\n"
      ],
      "metadata": {
        "id": "ub6W6BkORgD9"
      }
    },
    {
      "cell_type": "code",
      "source": [
        "def plot_co2(train, test, y_pred, title):\n",
        "    \"\"\"\n",
        "        This function to visualize the act and predicted value of y\n",
        "    \"\"\"\n",
        "    mae = mean_absolute_error(test, y_pred)\n",
        "    train[\"1985\":].plot(legend=True, label=\"TRAIN\", title=f\"{title}, MAE: {round(mae,2)}\")\n",
        "    test.plot(legend=True, label=\"TEST\", figsize=(6, 4))\n",
        "    y_pred.plot(legend=True, label=\"PREDICTION\")\n",
        "    plt.show()"
      ],
      "metadata": {
        "id": "b5Y4O3-tRfIw"
      },
      "execution_count": 7,
      "outputs": []
    },
    {
      "cell_type": "markdown",
      "source": [
        "# Creating TES Model\n"
      ],
      "metadata": {
        "id": "Xd2FgEqwRjf2"
      }
    },
    {
      "cell_type": "code",
      "source": [
        "# from 1958 to end of the 1997\n",
        "train = y[:'1997-12-01']\n",
        "len(train)  # 478 month\n",
        "# from 1998 to first month of the 2001\n",
        "test = y['1998-01-01':]\n",
        "len(test)  # 48 ay"
      ],
      "metadata": {
        "colab": {
          "base_uri": "https://localhost:8080/"
        },
        "id": "4wifw_QWRhkX",
        "outputId": "14f32c20-c952-4f22-e911-b04817679223"
      },
      "execution_count": 8,
      "outputs": [
        {
          "output_type": "execute_result",
          "data": {
            "text/plain": [
              "48"
            ]
          },
          "metadata": {},
          "execution_count": 8
        }
      ]
    },
    {
      "cell_type": "code",
      "source": [
        "tes_model = ExponentialSmoothing(train,\n",
        "   trend=\"add\",\n",
        "   seasonal=\"add\",\n",
        "   seasonal_periods=12\n",
        "   ).fit(smoothing_level=0.5,\n",
        "         # smoothing_trend=0.5,\n",
        "         smoothing_seasonal=0.5\n",
        "   )"
      ],
      "metadata": {
        "id": "MWsduBOTRkvK"
      },
      "execution_count": 10,
      "outputs": []
    },
    {
      "cell_type": "code",
      "source": [
        "y_pred = tes_model.forecast(48)"
      ],
      "metadata": {
        "id": "bS4NLwtSRmVY"
      },
      "execution_count": 11,
      "outputs": []
    },
    {
      "cell_type": "code",
      "source": [
        "plot_co2(train, test, y_pred, \"Triple Exponential Smoothing\")"
      ],
      "metadata": {
        "colab": {
          "base_uri": "https://localhost:8080/",
          "height": 281
        },
        "id": "RaGnOHSjRquv",
        "outputId": "9d893b58-15c0-4535-a368-6f554a4d26d4"
      },
      "execution_count": 12,
      "outputs": [
        {
          "output_type": "display_data",
          "data": {
            "image/png": "[encoded data removed]",
            "text/plain": [
              "<Figure size 432x288 with 1 Axes>"
            ]
          },
          "metadata": {
            "needs_background": "light"
          }
        }
      ]
    },
    {
      "cell_type": "markdown",
      "source": [
        "# Hyperparameter Optimization for Triple Exponential Smoothing\n"
      ],
      "metadata": {
        "id": "zZ_glFeqRxK4"
      }
    },
    {
      "cell_type": "code",
      "source": [
        "def tes_optimizer(train, test, abg, trend_mode='add', seasonal_mode = 'add', seasonal_period=12,step=48):\n",
        "    \"\"\"\n",
        "        This function to optimize hyperparameters for the TES model\n",
        "    \"\"\"\n",
        "    best_alpha, best_beta, best_gamma, best_mae = None, None, None, float(\"inf\")\n",
        "    for comb in abg:\n",
        "            tes_model = ExponentialSmoothing(train, trend=trend_mode, seasonal=seasonal_mode, seasonal_periods=seasonal_period).\\\n",
        "                fit(smoothing_level=comb[0], smoothing_seasonal=comb[2])\n",
        "            y_pred = tes_model.forecast(step)\n",
        "            mae = mean_absolute_error(test, y_pred)\n",
        "            if mae < best_mae:\n",
        "                best_alpha, best_beta, best_gamma, best_mae = comb[0], comb[1], comb[2], mae\n",
        "            print([round(comb[0], 2), round(comb[1], 2), round(comb[2], 2), round(mae, 2)])\n",
        "    print(\"best_alpha:\", round(best_alpha, 2), \"best_beta:\", round(best_beta, 2), \"best_gamma:\", round(best_gamma, 2),\n",
        "            \"best_mae:\", round(best_mae, 4))\n",
        "    return best_alpha, best_beta, best_gamma, best_mae"
      ],
      "metadata": {
        "id": "k2aKhv5JRrzz"
      },
      "execution_count": 18,
      "outputs": []
    },
    {
      "cell_type": "code",
      "source": [
        "alphas = betas = gammas = np.arange(0.10, 1, 0.20)\n",
        "abg = list(itertools.product(alphas, betas, gammas))"
      ],
      "metadata": {
        "id": "601kBYS9Rzw0"
      },
      "execution_count": 19,
      "outputs": []
    },
    {
      "cell_type": "code",
      "source": [
        "best_alpha, best_beta, best_gamma, best_mae = tes_optimizer(train,test, abg)"
      ],
      "metadata": {
        "colab": {
          "base_uri": "https://localhost:8080/"
        },
        "id": "UDrc3vxnR3QA",
        "outputId": "d62dc342-8a22-425d-fd16-5c834f402e04"
      },
      "execution_count": 20,
      "outputs": [
        {
          "output_type": "stream",
          "name": "stdout",
          "text": [
            "[0.1, 0.1, 0.1, 1.26]\n",
            "[0.1, 0.1, 0.3, 1.29]\n",
            "[0.1, 0.1, 0.5, 1.35]\n",
            "[0.1, 0.1, 0.7, 1.41]\n",
            "[0.1, 0.1, 0.9, 3.07]\n",
            "[0.1, 0.3, 0.1, 1.26]\n",
            "[0.1, 0.3, 0.3, 1.29]\n",
            "[0.1, 0.3, 0.5, 1.35]\n",
            "[0.1, 0.3, 0.7, 1.41]\n",
            "[0.1, 0.3, 0.9, 3.07]\n",
            "[0.1, 0.5, 0.1, 1.26]\n",
            "[0.1, 0.5, 0.3, 1.29]\n",
            "[0.1, 0.5, 0.5, 1.35]\n",
            "[0.1, 0.5, 0.7, 1.41]\n",
            "[0.1, 0.5, 0.9, 3.07]\n",
            "[0.1, 0.7, 0.1, 1.26]\n",
            "[0.1, 0.7, 0.3, 1.29]\n",
            "[0.1, 0.7, 0.5, 1.35]\n",
            "[0.1, 0.7, 0.7, 1.41]\n",
            "[0.1, 0.7, 0.9, 3.07]\n",
            "[0.1, 0.9, 0.1, 1.26]\n",
            "[0.1, 0.9, 0.3, 1.29]\n",
            "[0.1, 0.9, 0.5, 1.35]\n",
            "[0.1, 0.9, 0.7, 1.41]\n",
            "[0.1, 0.9, 0.9, 3.07]\n",
            "[0.3, 0.1, 0.1, 1.18]\n",
            "[0.3, 0.1, 0.3, 1.13]\n",
            "[0.3, 0.1, 0.5, 1.15]\n",
            "[0.3, 0.1, 0.7, 2.72]\n",
            "[0.3, 0.1, 0.9, 2.68]\n",
            "[0.3, 0.3, 0.1, 1.18]\n",
            "[0.3, 0.3, 0.3, 1.13]\n",
            "[0.3, 0.3, 0.5, 1.15]\n",
            "[0.3, 0.3, 0.7, 2.72]\n",
            "[0.3, 0.3, 0.9, 2.68]\n",
            "[0.3, 0.5, 0.1, 1.18]\n",
            "[0.3, 0.5, 0.3, 1.13]\n",
            "[0.3, 0.5, 0.5, 1.15]\n",
            "[0.3, 0.5, 0.7, 2.72]\n",
            "[0.3, 0.5, 0.9, 2.68]\n",
            "[0.3, 0.7, 0.1, 1.18]\n",
            "[0.3, 0.7, 0.3, 1.13]\n",
            "[0.3, 0.7, 0.5, 1.15]\n",
            "[0.3, 0.7, 0.7, 2.72]\n",
            "[0.3, 0.7, 0.9, 2.68]\n",
            "[0.3, 0.9, 0.1, 1.18]\n",
            "[0.3, 0.9, 0.3, 1.13]\n",
            "[0.3, 0.9, 0.5, 1.15]\n",
            "[0.3, 0.9, 0.7, 2.72]\n",
            "[0.3, 0.9, 0.9, 2.68]\n",
            "[0.5, 0.1, 0.1, 1.07]\n",
            "[0.5, 0.1, 0.3, 1.05]\n",
            "[0.5, 0.1, 0.5, 2.44]\n",
            "[0.5, 0.1, 0.7, 2.39]\n",
            "[0.5, 0.1, 0.9, 2.57]\n",
            "[0.5, 0.3, 0.1, 1.07]\n",
            "[0.5, 0.3, 0.3, 1.05]\n",
            "[0.5, 0.3, 0.5, 2.44]\n",
            "[0.5, 0.3, 0.7, 2.39]\n",
            "[0.5, 0.3, 0.9, 2.57]\n",
            "[0.5, 0.5, 0.1, 1.07]\n",
            "[0.5, 0.5, 0.3, 1.05]\n",
            "[0.5, 0.5, 0.5, 2.44]\n",
            "[0.5, 0.5, 0.7, 2.39]\n",
            "[0.5, 0.5, 0.9, 2.57]\n",
            "[0.5, 0.7, 0.1, 1.07]\n",
            "[0.5, 0.7, 0.3, 1.05]\n",
            "[0.5, 0.7, 0.5, 2.44]\n",
            "[0.5, 0.7, 0.7, 2.39]\n",
            "[0.5, 0.7, 0.9, 2.57]\n",
            "[0.5, 0.9, 0.1, 1.07]\n",
            "[0.5, 0.9, 0.3, 1.05]\n",
            "[0.5, 0.9, 0.5, 2.44]\n",
            "[0.5, 0.9, 0.7, 2.39]\n",
            "[0.5, 0.9, 0.9, 2.57]\n",
            "[0.7, 0.1, 0.1, 1.37]\n",
            "[0.7, 0.1, 0.3, 2.41]\n",
            "[0.7, 0.1, 0.5, 2.45]\n",
            "[0.7, 0.1, 0.7, 2.16]\n",
            "[0.7, 0.1, 0.9, 1.91]\n",
            "[0.7, 0.3, 0.1, 1.37]\n",
            "[0.7, 0.3, 0.3, 2.41]\n",
            "[0.7, 0.3, 0.5, 2.45]\n",
            "[0.7, 0.3, 0.7, 2.16]\n",
            "[0.7, 0.3, 0.9, 1.91]\n",
            "[0.7, 0.5, 0.1, 1.37]\n",
            "[0.7, 0.5, 0.3, 2.41]\n",
            "[0.7, 0.5, 0.5, 2.45]\n",
            "[0.7, 0.5, 0.7, 2.16]\n",
            "[0.7, 0.5, 0.9, 1.91]\n",
            "[0.7, 0.7, 0.1, 1.37]\n",
            "[0.7, 0.7, 0.3, 2.41]\n",
            "[0.7, 0.7, 0.5, 2.45]\n",
            "[0.7, 0.7, 0.7, 2.16]\n",
            "[0.7, 0.7, 0.9, 1.91]\n",
            "[0.7, 0.9, 0.1, 1.37]\n",
            "[0.7, 0.9, 0.3, 2.41]\n",
            "[0.7, 0.9, 0.5, 2.45]\n",
            "[0.7, 0.9, 0.7, 2.16]\n",
            "[0.7, 0.9, 0.9, 1.91]\n",
            "[0.9, 0.1, 0.1, 2.44]\n",
            "[0.9, 0.1, 0.3, 2.42]\n",
            "[0.9, 0.1, 0.5, 2.32]\n",
            "[0.9, 0.1, 0.7, 2.57]\n",
            "[0.9, 0.1, 0.9, 2.04]\n",
            "[0.9, 0.3, 0.1, 2.44]\n",
            "[0.9, 0.3, 0.3, 2.42]\n",
            "[0.9, 0.3, 0.5, 2.32]\n",
            "[0.9, 0.3, 0.7, 2.57]\n",
            "[0.9, 0.3, 0.9, 2.04]\n",
            "[0.9, 0.5, 0.1, 2.44]\n",
            "[0.9, 0.5, 0.3, 2.42]\n",
            "[0.9, 0.5, 0.5, 2.32]\n",
            "[0.9, 0.5, 0.7, 2.57]\n",
            "[0.9, 0.5, 0.9, 2.04]\n",
            "[0.9, 0.7, 0.1, 2.44]\n",
            "[0.9, 0.7, 0.3, 2.42]\n",
            "[0.9, 0.7, 0.5, 2.32]\n",
            "[0.9, 0.7, 0.7, 2.57]\n",
            "[0.9, 0.7, 0.9, 2.04]\n",
            "[0.9, 0.9, 0.1, 2.44]\n",
            "[0.9, 0.9, 0.3, 2.42]\n",
            "[0.9, 0.9, 0.5, 2.32]\n",
            "[0.9, 0.9, 0.7, 2.57]\n",
            "[0.9, 0.9, 0.9, 2.04]\n",
            "best_alpha: 0.5 best_beta: 0.1 best_gamma: 0.3 best_mae: 1.0539\n"
          ]
        }
      ]
    },
    {
      "cell_type": "markdown",
      "source": [
        "# Final The Best TES Model\n"
      ],
      "metadata": {
        "id": "ibLoJHAFSMDa"
      }
    },
    {
      "cell_type": "code",
      "source": [
        "final_tes_model = ExponentialSmoothing(train, trend=\"add\", seasonal=\"add\", seasonal_periods=12).fit(smoothing_level=best_alpha, smoothing_seasonal=best_gamma)"
      ],
      "metadata": {
        "id": "pTd2H34ZR4fh"
      },
      "execution_count": 23,
      "outputs": []
    },
    {
      "cell_type": "code",
      "source": [
        "y_pred = final_tes_model.forecast(48)"
      ],
      "metadata": {
        "id": "hnA3fFVNSKvM"
      },
      "execution_count": 24,
      "outputs": []
    }
  ]
}