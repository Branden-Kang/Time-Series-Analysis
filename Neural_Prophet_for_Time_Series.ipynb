{
  "nbformat": 4,
  "nbformat_minor": 0,
  "metadata": {
    "colab": {
      "name": "Neural Prophet for Time Series.ipynb",
      "provenance": [],
      "authorship_tag": "ABX9TyN1r/kyyy3Hzb16PMT46/fA"
    },
    "kernelspec": {
      "name": "python3",
      "display_name": "Python 3"
    },
    "language_info": {
      "name": "python"
    }
  },
  "cells": [
    {
      "cell_type": "markdown",
      "source": [
        "[Reference](https://bobrupakroy.medium.com/neural-prophet-for-time-series-27bfeeaa5c7d)"
      ],
      "metadata": {
        "id": "UCjzCaJJnhlB"
      }
    },
    {
      "cell_type": "code",
      "execution_count": 1,
      "metadata": {
        "id": "qHkpIb6wg_jr"
      },
      "outputs": [],
      "source": [
        "import numpy as np\n",
        "import pandas as pd\n",
        "import matplotlib.pyplot as plt\n",
        "#Load the dataset\n",
        "data = pd.read_csv(\"dataset.csv\") \n",
        "data.head(5)\n",
        "#Selecting the important columns the date and the value\n",
        "data = data[[\"Date\",\"Close\"]\n",
        "            \n",
        "data = data.rename(columns = {\"Date\":\"ds\",\"Close\":\"y\"}) \n",
        "data.head(5)\n",
        "\n",
        "from neuralprophet import NeuralProphet\n",
        "#model = NeuralProphet() #default model\n",
        "model = NeuralProphet(growth='linear',\n",
        "    n_forecasts=60,\n",
        "    n_lags=60,\n",
        "    n_changepoints=50,\n",
        "    yearly_seasonality=True,\n",
        "    weekly_seasonality=False,\n",
        "    daily_seasonality=False,\n",
        "    batch_size=64,\n",
        "    epochs=100,\n",
        "    learning_rate=1.0,\n",
        "    impute_missing= \"true\",\n",
        "    normalize=\"auto\",\n",
        "    )\n",
        "metrics = model.fit(data,freq = \"D\")\n",
        "#or\n",
        "#metircs = model.fit(data,freq = \"D\", valid_p=0.30,epochs=100)\n",
        "#-----------------------------------------------------------\n",
        "#Fore more options\n",
        "help(NeuralProphet)\n",
        "\n",
        "# Predictions\n",
        "future = m.make_future_dataframe(data, periods=60, n_historic_predictions=len(data)) \n",
        "prediction = m.predict(future)\n",
        "\n",
        "m.plot_components(prediction)\n",
        "plt.show()"
      ]
    }
  ]
}