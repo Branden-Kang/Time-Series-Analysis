{
  "nbformat": 4,
  "nbformat_minor": 0,
  "metadata": {
    "colab": {
      "provenance": [],
      "authorship_tag": "ABX9TyOQ16EbrGJtGsUobpmbmdAb"
    },
    "kernelspec": {
      "name": "python3",
      "display_name": "Python 3"
    },
    "language_info": {
      "name": "python"
    }
  },
  "cells": [
    {
      "cell_type": "markdown",
      "source": [
        "[Reference](https://medium.com/@HeCanThink/functime-a-python-library-for-efficient-time-series-feature-extraction-and-forecasting-5339f9a26b15)"
      ],
      "metadata": {
        "id": "oidorPs97GQi"
      }
    },
    {
      "cell_type": "code",
      "execution_count": 1,
      "metadata": {
        "colab": {
          "base_uri": "https://localhost:8080/"
        },
        "id": "b4AweFL_7BT_",
        "outputId": "8c4057de-bb26-46d9-d1a7-ac1742a04965"
      },
      "outputs": [
        {
          "output_type": "stream",
          "name": "stdout",
          "text": [
            "Collecting functime\n",
            "  Downloading functime-0.9.5-cp310-cp310-manylinux_2_17_x86_64.manylinux2014_x86_64.whl (5.2 MB)\n",
            "\u001b[2K     \u001b[90m━━━━━━━━━━━━━━━━━━━━━━━━━━━━━━━━━━━━━━━━\u001b[0m \u001b[32m5.2/5.2 MB\u001b[0m \u001b[31m13.1 MB/s\u001b[0m eta \u001b[36m0:00:00\u001b[0m\n",
            "\u001b[?25hRequirement already satisfied: cloudpickle in /usr/local/lib/python3.10/dist-packages (from functime) (2.2.1)\n",
            "Collecting flaml<3,>=2.0.2 (from functime)\n",
            "  Downloading FLAML-2.1.1-py3-none-any.whl (295 kB)\n",
            "\u001b[2K     \u001b[90m━━━━━━━━━━━━━━━━━━━━━━━━━━━━━━━━━━━━━━━━\u001b[0m \u001b[32m295.2/295.2 kB\u001b[0m \u001b[31m28.9 MB/s\u001b[0m eta \u001b[36m0:00:00\u001b[0m\n",
            "\u001b[?25hRequirement already satisfied: holidays in /usr/local/lib/python3.10/dist-packages (from functime) (0.42)\n",
            "Requirement already satisfied: numpy in /usr/local/lib/python3.10/dist-packages (from functime) (1.25.2)\n",
            "Collecting polars>=0.20.7 (from functime)\n",
            "  Downloading polars-0.20.10-cp38-abi3-manylinux_2_17_x86_64.manylinux2014_x86_64.whl (26.8 MB)\n",
            "\u001b[2K     \u001b[90m━━━━━━━━━━━━━━━━━━━━━━━━━━━━━━━━━━━━━━━━\u001b[0m \u001b[32m26.8/26.8 MB\u001b[0m \u001b[31m40.9 MB/s\u001b[0m eta \u001b[36m0:00:00\u001b[0m\n",
            "\u001b[?25hRequirement already satisfied: scikit-learn<2,>=1.2.2 in /usr/local/lib/python3.10/dist-packages (from functime) (1.2.2)\n",
            "Requirement already satisfied: scipy in /usr/local/lib/python3.10/dist-packages (from functime) (1.11.4)\n",
            "Requirement already satisfied: tqdm in /usr/local/lib/python3.10/dist-packages (from functime) (4.66.2)\n",
            "Requirement already satisfied: joblib>=1.1.1 in /usr/local/lib/python3.10/dist-packages (from scikit-learn<2,>=1.2.2->functime) (1.3.2)\n",
            "Requirement already satisfied: threadpoolctl>=2.0.0 in /usr/local/lib/python3.10/dist-packages (from scikit-learn<2,>=1.2.2->functime) (3.3.0)\n",
            "Requirement already satisfied: python-dateutil in /usr/local/lib/python3.10/dist-packages (from holidays->functime) (2.8.2)\n",
            "Requirement already satisfied: six>=1.5 in /usr/local/lib/python3.10/dist-packages (from python-dateutil->holidays->functime) (1.16.0)\n",
            "Installing collected packages: polars, flaml, functime\n",
            "  Attempting uninstall: polars\n",
            "    Found existing installation: polars 0.20.2\n",
            "    Uninstalling polars-0.20.2:\n",
            "      Successfully uninstalled polars-0.20.2\n",
            "Successfully installed flaml-2.1.1 functime-0.9.5 polars-0.20.10\n"
          ]
        }
      ],
      "source": [
        "pip install functime"
      ]
    },
    {
      "cell_type": "code",
      "source": [
        "# pip install \"functime[llm,lgb]\""
      ],
      "metadata": {
        "id": "WsekdIYA7KKv"
      },
      "execution_count": 2,
      "outputs": []
    },
    {
      "cell_type": "code",
      "source": [
        "#Importing the libraries and the dataset\n",
        "import polars as pl\n",
        "\n",
        "from functime.plotting import plot_forecasts, plot_panel\n",
        "from functime.preprocessing import (\n",
        "    boxcox,\n",
        "    deseasonalize_fourier,\n",
        "    detrend,\n",
        "    diff,\n",
        "    fractional_diff,\n",
        "    scale,\n",
        "    yeojohnson,\n",
        ")\n",
        "data = pl.read_parquet(\"https://github.com/TracecatHQ/functime/raw/main/data/commodities.parquet\")\n",
        "entity_col, time_col, target_col = data.columns\n",
        "data.head()"
      ],
      "metadata": {
        "colab": {
          "base_uri": "https://localhost:8080/",
          "height": 252
        },
        "id": "WD19rXBd7Lrg",
        "outputId": "7e1661b0-abe1-4d05-a7ec-ef6bb11d6051"
      },
      "execution_count": 3,
      "outputs": [
        {
          "output_type": "execute_result",
          "data": {
            "text/plain": [
              "shape: (5, 3)\n",
              "┌────────────────┬─────────────────────┬────────┐\n",
              "│ commodity_type ┆ time                ┆ price  │\n",
              "│ ---            ┆ ---                 ┆ ---    │\n",
              "│ str            ┆ datetime[ns]        ┆ f64    │\n",
              "╞════════════════╪═════════════════════╪════════╡\n",
              "│ Aluminum       ┆ 1960-01-01 00:00:00 ┆ 511.47 │\n",
              "│ Aluminum       ┆ 1960-02-01 00:00:00 ┆ 511.47 │\n",
              "│ Aluminum       ┆ 1960-03-01 00:00:00 ┆ 511.47 │\n",
              "│ Aluminum       ┆ 1960-04-01 00:00:00 ┆ 511.47 │\n",
              "│ Aluminum       ┆ 1960-05-01 00:00:00 ┆ 511.47 │\n",
              "└────────────────┴─────────────────────┴────────┘"
            ],
            "text/html": [
              "<div><style>\n",
              ".dataframe > thead > tr,\n",
              ".dataframe > tbody > tr {\n",
              "  text-align: right;\n",
              "  white-space: pre-wrap;\n",
              "}\n",
              "</style>\n",
              "<small>shape: (5, 3)</small><table border=\"1\" class=\"dataframe\"><thead><tr><th>commodity_type</th><th>time</th><th>price</th></tr><tr><td>str</td><td>datetime[ns]</td><td>f64</td></tr></thead><tbody><tr><td>&quot;Aluminum&quot;</td><td>1960-01-01 00:00:00</td><td>511.47</td></tr><tr><td>&quot;Aluminum&quot;</td><td>1960-02-01 00:00:00</td><td>511.47</td></tr><tr><td>&quot;Aluminum&quot;</td><td>1960-03-01 00:00:00</td><td>511.47</td></tr><tr><td>&quot;Aluminum&quot;</td><td>1960-04-01 00:00:00</td><td>511.47</td></tr><tr><td>&quot;Aluminum&quot;</td><td>1960-05-01 00:00:00</td><td>511.47</td></tr></tbody></table></div>"
            ]
          },
          "metadata": {},
          "execution_count": 3
        }
      ]
    },
    {
      "cell_type": "code",
      "source": [
        "data.get_column(\"commodity_type\").n_unique()"
      ],
      "metadata": {
        "colab": {
          "base_uri": "https://localhost:8080/"
        },
        "id": "pa08jsjS7Oj8",
        "outputId": "a63440ac-d91c-4f45-f1e6-d1fa890c13e6"
      },
      "execution_count": 4,
      "outputs": [
        {
          "output_type": "execute_result",
          "data": {
            "text/plain": [
              "71"
            ]
          },
          "metadata": {},
          "execution_count": 4
        }
      ]
    },
    {
      "cell_type": "code",
      "source": [
        "most_volatile_commodities = (\n",
        "    data.group_by(entity_col)\n",
        "    .agg((pl.col(target_col).std() / pl.col(target_col).mean()).alias(\"cv\"))\n",
        "    .top_k(k=4, by=\"cv\")\n",
        ")\n",
        "most_volatile_commodities"
      ],
      "metadata": {
        "colab": {
          "base_uri": "https://localhost:8080/",
          "height": 221
        },
        "id": "cUJHMRLO7P-U",
        "outputId": "5a89d165-232d-409d-9802-250716a08189"
      },
      "execution_count": 5,
      "outputs": [
        {
          "output_type": "execute_result",
          "data": {
            "text/plain": [
              "shape: (4, 2)\n",
              "┌─────────────────────┬──────────┐\n",
              "│ commodity_type      ┆ cv       │\n",
              "│ ---                 ┆ ---      │\n",
              "│ str                 ┆ f64      │\n",
              "╞═════════════════════╪══════════╡\n",
              "│ Natural gas, Europe ┆ 1.341444 │\n",
              "│ Phosphate rock      ┆ 1.104353 │\n",
              "│ Potassium chloride  ┆ 1.070662 │\n",
              "│ Crude oil, Dubai    ┆ 0.987116 │\n",
              "└─────────────────────┴──────────┘"
            ],
            "text/html": [
              "<div><style>\n",
              ".dataframe > thead > tr,\n",
              ".dataframe > tbody > tr {\n",
              "  text-align: right;\n",
              "  white-space: pre-wrap;\n",
              "}\n",
              "</style>\n",
              "<small>shape: (4, 2)</small><table border=\"1\" class=\"dataframe\"><thead><tr><th>commodity_type</th><th>cv</th></tr><tr><td>str</td><td>f64</td></tr></thead><tbody><tr><td>&quot;Natural gas, E…</td><td>1.341444</td></tr><tr><td>&quot;Phosphate rock…</td><td>1.104353</td></tr><tr><td>&quot;Potassium chlo…</td><td>1.070662</td></tr><tr><td>&quot;Crude oil, Dub…</td><td>0.987116</td></tr></tbody></table></div>"
            ]
          },
          "metadata": {},
          "execution_count": 5
        }
      ]
    },
    {
      "cell_type": "code",
      "source": [
        "# selected = most_volatile_commodities.get_column(entity_col)\n",
        "# y = data.filter(pl.col(entity_col).is_in(selected))\n",
        "# figure = plot_panel(y=y, height=800, width=1000,replace=True)\n",
        "# figure.show()"
      ],
      "metadata": {
        "id": "sWV8Y0747RO6"
      },
      "execution_count": 12,
      "outputs": []
    },
    {
      "cell_type": "code",
      "source": [
        "# transformer = detrend(freq=\"1mo\", method=\"linear\")\n",
        "# y_detrended = y.pipe(transformer).collect()\n",
        "# figure = plot_forecasts(\n",
        "#     y_true=y, y_pred=y_detrended.group_by(entity_col).tail(64), height=800, width=1000\n",
        "# )\n",
        "# figure.show()"
      ],
      "metadata": {
        "id": "POn3kgxd7Skv"
      },
      "execution_count": 13,
      "outputs": []
    },
    {
      "cell_type": "code",
      "source": [
        "# m4_data = pl.read_parquet(\"https://github.com/TracecatHQ/functime/raw/main/data/m4_1w_train.parquet\")\n",
        "# m4_entity_col, m4_time_col, m4_target_col = m4_data.columns\n",
        "# y_m4 = m4_data.filter(pl.col(m4_entity_col).is_in([\"W174\", \"W175\", \"W176\", \"W178\"]))\n",
        "# figure = plot_panel(y=y_m4, height=800, width=1000)\n",
        "# figure.show()"
      ],
      "metadata": {
        "id": "OpynoPaR7VYf"
      },
      "execution_count": 15,
      "outputs": []
    },
    {
      "cell_type": "code",
      "source": [
        "# # Fourier Terms\n",
        "# transformer = deseasonalize_fourier(sp=12, K=3)\n",
        "# y_deseasonalized = y_m4.pipe(transformer).collect()\n",
        "# y_seasonal = transformer.state.artifacts[\"X_seasonal\"].collect()\n",
        "# figure = plot_panel(\n",
        "#     y=y_seasonal.group_by(m4_entity_col).tail(64), height=800, width=1000\n",
        "# )\n",
        "# figure.show()"
      ],
      "metadata": {
        "id": "HQaH9qxi8HW3"
      },
      "execution_count": 17,
      "outputs": []
    },
    {
      "cell_type": "code",
      "source": [
        "# y_deseasonalized = y_m4.pipe(transformer).collect()\n",
        "# y_original = transformer.invert(y_deseasonalized).collect()\n",
        "# figure = plot_panel(\n",
        "#     y=y_original.group_by(m4_entity_col).tail(64), height=800, width=1000\n",
        "# )\n",
        "# figure.show()"
      ],
      "metadata": {
        "id": "4RUaPHEl8KKc"
      },
      "execution_count": 18,
      "outputs": []
    },
    {
      "cell_type": "code",
      "source": [
        "# transformer = diff(order=1)\n",
        "# y_diff = y.pipe(transformer).collect()\n",
        "# figure = plot_forecasts(\n",
        "#     y_true=y, y_pred=y_diff.group_by(entity_col).tail(64), height=800, width=1000\n",
        "# )\n",
        "# figure.show()"
      ],
      "metadata": {
        "id": "X_pSgdHp8M_f"
      },
      "execution_count": 19,
      "outputs": []
    },
    {
      "cell_type": "code",
      "source": [
        "# transformer = fractional_diff(d=0.3, min_weight=1e-3)\n",
        "# y_diff = y.pipe(transformer).collect()\n",
        "# figure = plot_forecasts(\n",
        "#     y_true=y, y_pred=y_diff.group_by(entity_col).tail(64), height=800, width=1000\n",
        "# )\n",
        "# figure.show()"
      ],
      "metadata": {
        "id": "XNYPmRtA8Onv"
      },
      "execution_count": 20,
      "outputs": []
    },
    {
      "cell_type": "code",
      "source": [
        "# transformer = diff(order=1, sp=12)\n",
        "# y_seas_diff = y.pipe(transformer).collect()\n",
        "# figure = plot_forecasts(\n",
        "#     y_true=y, y_pred=y_seas_diff.group_by(entity_col).tail(64), height=800, width=1000\n",
        "# )\n",
        "# figure.show()"
      ],
      "metadata": {
        "id": "cSfm64Hv8REP"
      },
      "execution_count": 21,
      "outputs": []
    },
    {
      "cell_type": "code",
      "source": [
        "# transformer = scale(use_mean=True, use_std=True)\n",
        "# y_scaled = y_m4.pipe(transformer).collect()\n",
        "# figure = plot_panel(y=y_scaled.group_by(m4_entity_col).tail(64), height=800, width=1000)\n",
        "# figure.show()"
      ],
      "metadata": {
        "id": "l2vRvG688Ssf"
      },
      "execution_count": 22,
      "outputs": []
    },
    {
      "cell_type": "code",
      "source": [
        "# transformer = boxcox(method=\"mle\")\n",
        "# y_boxcox = y.pipe(transformer).collect()\n",
        "# figure = plot_panel(y=y_boxcox.group_by(entity_col).tail(64), height=800, width=1000)\n",
        "# figure.show()"
      ],
      "metadata": {
        "id": "Z6j8H8oR8V1I"
      },
      "execution_count": 23,
      "outputs": []
    },
    {
      "cell_type": "code",
      "source": [
        "# transformer = yeojohnson()\n",
        "# y_yeojohnson = y.pipe(transformer).collect()\n",
        "# figure = plot_panel(\n",
        "#     y=y_yeojohnson.group_by(entity_col).tail(64), height=800, width=1000\n",
        "# )\n",
        "# figure.show()"
      ],
      "metadata": {
        "id": "tNE2wrvh8X1D"
      },
      "execution_count": 24,
      "outputs": []
    },
    {
      "cell_type": "code",
      "source": [
        "import polars as pl\n",
        "import numpy as np\n",
        "from functime.feature_extractors import FeatureExtractor, binned_entropy\n",
        "\n",
        "# Load commodities price data\n",
        "y = pl.read_parquet(\"https://github.com/TracecatHQ/functime/raw/main/data/commodities.parquet\")\n",
        "\n",
        "# Get column names (\"commodity_type\", \"time\", \"price\")\n",
        "entity_col, time_col, value_col = y.columns\n",
        "\n",
        "# Extract a single feature from a single time-series\n",
        "binned_entropy = binned_entropy(\n",
        "    pl.Series(np.random.normal(0, 1, size=10)),\n",
        "    bin_count=10\n",
        ")\n",
        "\n",
        "# Also works on LazyFrames with query optimization\n",
        "features = (\n",
        "    pl.LazyFrame({\n",
        "        \"index\": [0, 1, 2, 3, 4, 5, 6, 7, 8, 9],\n",
        "        \"value\": np.random.normal(0, 1, size=10)\n",
        "    })\n",
        "    .select(\n",
        "        binned_entropy=pl.col(\"value\").ts.binned_entropy(bin_count=10),\n",
        "        lempel_ziv_complexity=pl.col(\"value\").ts.lempel_ziv_complexity(threshold=3),\n",
        "        longest_streak_above_mean=pl.col(\"value\").ts.longest_streak_above_mean(),\n",
        "    )\n",
        "    .collect()\n",
        ")\n",
        "\n",
        "# Extract features blazingly fast on many stacked time-series using `group_by`\n",
        "features = (\n",
        "    y.group_by(entity_col)\n",
        "    .agg(\n",
        "        binned_entropy=pl.col(value_col).ts.binned_entropy(bin_count=10),\n",
        "        lempel_ziv_complexity=pl.col(value_col).ts.lempel_ziv_complexity(threshold=3),\n",
        "        longest_streak_above_mean=pl.col(value_col).ts.longest_streak_above_mean(),\n",
        "    )\n",
        ")\n",
        "\n",
        "# Extract features blazingly fast on windows of many time-series using `group_by_dynamic`\n",
        "features = (\n",
        "    # Compute rolling features at yearly intervals\n",
        "    y.group_by_dynamic(\n",
        "        time_col,\n",
        "        every=\"12mo\",\n",
        "        by=entity_col,\n",
        "    )\n",
        "    .agg(\n",
        "        binned_entropy=pl.col(value_col).ts.binned_entropy(bin_count=10),\n",
        "        lempel_ziv_complexity=pl.col(value_col).ts.lempel_ziv_complexity(threshold=3),\n",
        "        longest_streak_above_mean=pl.col(value_col).ts.longest_streak_above_mean(),\n",
        "    )\n",
        ")"
      ],
      "metadata": {
        "id": "tPcxAMtF8ZmP"
      },
      "execution_count": 25,
      "outputs": []
    },
    {
      "cell_type": "code",
      "source": [
        "import polars as pl\n",
        "from functime.cross_validation import train_test_split\n",
        "from functime.seasonality import add_fourier_terms\n",
        "from functime.forecasting import linear_model\n",
        "from functime.preprocessing import scale\n",
        "from functime.metrics import mase\n",
        "\n",
        "# Load commodities price data\n",
        "y = pl.read_parquet(\"https://github.com/TracecatHQ/functime/raw/main/data/commodities.parquet\")\n",
        "entity_col, time_col = y.columns[:2]\n",
        "\n",
        "# Time series split\n",
        "y_train, y_test = y.pipe(train_test_split(test_size=3))\n",
        "\n",
        "# Fit-predict\n",
        "forecaster = linear_model(freq=\"1mo\", lags=24)\n",
        "forecaster.fit(y=y_train)\n",
        "y_pred = forecaster.predict(fh=3)\n",
        "\n",
        "# functime functional design\n",
        "# fit-predict in a single line\n",
        "y_pred = linear_model(freq=\"1mo\", lags=24)(y=y_train, fh=3)\n",
        "\n",
        "# Score forecasts in parallel\n",
        "scores = mase(y_true=y_test, y_pred=y_pred, y_train=y_train)\n",
        "\n",
        "# Forecast with target transforms and feature transforms\n",
        "forecaster = linear_model(\n",
        "    freq=\"1mo\",\n",
        "    lags=24,\n",
        "    target_transform=scale(),\n",
        "    feature_transform=add_fourier_terms(sp=12, K=6)\n",
        ")\n",
        "\n",
        "# Forecast with exogenous regressors!\n",
        "# Just pass them into X\n",
        "X = (\n",
        "    y.select([entity_col, time_col])\n",
        "    .pipe(add_fourier_terms(sp=12, K=6)).collect()\n",
        ")\n",
        "X_train, X_future = y.pipe(train_test_split(test_size=3))\n",
        "forecaster = linear_model(freq=\"1mo\", lags=24)\n",
        "forecaster.fit(y=y_train, X=X_train)\n",
        "y_pred = forecaster.predict(fh=3, X=X_future)\n",
        "y_pred.head()"
      ],
      "metadata": {
        "colab": {
          "base_uri": "https://localhost:8080/",
          "height": 252
        },
        "id": "bV41Djim8bHP",
        "outputId": "8a9c861c-669a-4992-fa3e-6210deb30d3d"
      },
      "execution_count": 26,
      "outputs": [
        {
          "output_type": "execute_result",
          "data": {
            "text/plain": [
              "shape: (5, 3)\n",
              "┌────────────────┬─────────────────────┬─────────────┐\n",
              "│ commodity_type ┆ time                ┆ price       │\n",
              "│ ---            ┆ ---                 ┆ ---         │\n",
              "│ str            ┆ datetime[μs]        ┆ f64         │\n",
              "╞════════════════╪═════════════════════╪═════════════╡\n",
              "│ Copper         ┆ 2023-01-01 00:00:00 ┆ 9037.948242 │\n",
              "│ Copper         ┆ 2023-02-01 00:00:00 ┆ 8936.589844 │\n",
              "│ Copper         ┆ 2023-03-01 00:00:00 ┆ 8856.30957  │\n",
              "│ Banana, US     ┆ 2023-01-01 00:00:00 ┆ 1.680122    │\n",
              "│ Banana, US     ┆ 2023-02-01 00:00:00 ┆ 1.660122    │\n",
              "└────────────────┴─────────────────────┴─────────────┘"
            ],
            "text/html": [
              "<div><style>\n",
              ".dataframe > thead > tr,\n",
              ".dataframe > tbody > tr {\n",
              "  text-align: right;\n",
              "  white-space: pre-wrap;\n",
              "}\n",
              "</style>\n",
              "<small>shape: (5, 3)</small><table border=\"1\" class=\"dataframe\"><thead><tr><th>commodity_type</th><th>time</th><th>price</th></tr><tr><td>str</td><td>datetime[μs]</td><td>f64</td></tr></thead><tbody><tr><td>&quot;Copper&quot;</td><td>2023-01-01 00:00:00</td><td>9037.948242</td></tr><tr><td>&quot;Copper&quot;</td><td>2023-02-01 00:00:00</td><td>8936.589844</td></tr><tr><td>&quot;Copper&quot;</td><td>2023-03-01 00:00:00</td><td>8856.30957</td></tr><tr><td>&quot;Banana, US&quot;</td><td>2023-01-01 00:00:00</td><td>1.680122</td></tr><tr><td>&quot;Banana, US&quot;</td><td>2023-02-01 00:00:00</td><td>1.660122</td></tr></tbody></table></div>"
            ]
          },
          "metadata": {},
          "execution_count": 26
        }
      ]
    }
  ]
}