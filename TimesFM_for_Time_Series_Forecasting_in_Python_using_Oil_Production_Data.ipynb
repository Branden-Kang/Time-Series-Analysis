{
  "nbformat": 4,
  "nbformat_minor": 0,
  "metadata": {
    "colab": {
      "provenance": [],
      "authorship_tag": "ABX9TyNmcluB+KuOrLBFU7V1ZaSI"
    },
    "kernelspec": {
      "name": "python3",
      "display_name": "Python 3"
    },
    "language_info": {
      "name": "python"
    }
  },
  "cells": [
    {
      "cell_type": "markdown",
      "source": [
        "[Reference](https://medium.com/@kylejones_47003/timesfm-for-time-series-forecasting-in-python-using-oil-production-data-b0a59b89d3ff)"
      ],
      "metadata": {
        "id": "uqU6oHhQzGeZ"
      }
    },
    {
      "cell_type": "code",
      "execution_count": 1,
      "metadata": {
        "id": "cwDr2Pc5y81r"
      },
      "outputs": [],
      "source": [
        "import timesfm\n",
        "import pandas as pd\n",
        "import matplotlib.pyplot as plt\n",
        "from sklearn.model_selection import TimeSeriesSplit\n",
        "\n",
        "# Load real oil production data\n",
        "df = pd.read_csv(\"north_dakota_production.csv\")\n",
        "# Select top two wells with nonzero oil production\n",
        "top_wells = df[df[\"Oil\"] > 0].nlargest(2, \"Oil\")[\"API_WELLNO\"]\n",
        "df = df[df[\"API_WELLNO\"].isin(top_wells)].rename(columns={\"API_WELLNO\": \"unique_id\", \"Date\": \"ds\", \"Oil\": \"y\"})\n",
        "df[\"ds\"] = pd.to_datetime(df[\"ds\"])\n",
        "\n",
        "# Train-test split using TimeSeriesSplit\n",
        "tscv = TimeSeriesSplit(n_splits=5, test_size=int(0.2 * len(df)))\n",
        "train_idx, test_idx = list(tscv.split(df))[-1]\n",
        "train_df, test_df = df.iloc[train_idx], df.iloc[test_idx]\n",
        "\n",
        "# Initialize TimesFM Model\n",
        "tfm = timesfm.TimesFm(\n",
        "    hparams=timesfm.TimesFmHparams(\n",
        "        per_core_batch_size=32, horizon_len=128, input_patch_len=32, output_patch_len=128,\n",
        "        num_layers=50, model_dims=1280, use_positional_embedding=False\n",
        "    ),\n",
        "    checkpoint=timesfm.TimesFmCheckpoint(huggingface_repo_id=\"google/timesfm-2.0-500m-pytorch\"),\n",
        ")\n",
        "\n",
        "# Generate forecast\n",
        "forecast_df = tfm.forecast_on_df(inputs=train_df, freq=\"M\", value_name=\"y\", num_jobs=-1)\n",
        "forecast_df[\"ds\"] = pd.to_datetime(forecast_df[\"ds\"])\n",
        "# Aggregate forecast\n",
        "forecast_df = forecast_df.groupby(\"ds\")[\"timesfm\"].mean().reset_index()\n",
        "\n",
        "# Restrict forecast to match test period\n",
        "forecast_df = forecast_df[forecast_df[\"ds\"].between(test_df[\"ds\"].min(), test_df[\"ds\"].max())]"
      ]
    },
    {
      "cell_type": "code",
      "source": [
        "# Plot results\n",
        "plt.figure(figsize=(12, 6))\n",
        "plt.plot(df[\"ds\"], df[\"y\"], label=\"Monthly Oil Production\",  color=\"black\", alpha=0.3)\n",
        "plt.plot(test_df[\"ds\"], test_df[\"y\"], label=\"Test Data\", color=\"blue\")\n",
        "plt.plot(forecast_df[\"ds\"], forecast_df[\"timesfm\"], label=\"Forecast\",  color=\"red\")\n",
        "\n",
        "# Save and show\n",
        "plt.savefig(\"timesfm_test_forecast_tufte.png\", dpi=300)\n",
        "plt.show()"
      ],
      "metadata": {
        "id": "ErFycy23zWyv"
      },
      "execution_count": 2,
      "outputs": []
    }
  ]
}