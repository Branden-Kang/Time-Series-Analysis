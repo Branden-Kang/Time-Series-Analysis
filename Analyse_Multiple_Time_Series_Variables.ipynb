{
  "nbformat": 4,
  "nbformat_minor": 0,
  "metadata": {
    "colab": {
      "name": "Analyse Multiple Time Series Variables.ipynb",
      "provenance": [],
      "authorship_tag": "ABX9TyNFqH8k6we2LfYW04Wh+1iV"
    },
    "kernelspec": {
      "name": "python3",
      "display_name": "Python 3"
    }
  },
  "cells": [
    {
      "cell_type": "markdown",
      "metadata": {
        "id": "Q8G9U7en2_2_"
      },
      "source": [
        "[Reference](https://towardsdatascience.com/how-to-analyse-multiple-time-series-variable-5a8d3a242a2e)"
      ]
    },
    {
      "cell_type": "markdown",
      "metadata": {
        "id": "RsjcwGevE13x"
      },
      "source": [
        "# 1. Rolling Covariance\n",
        "Covariance is a measure of the joint linear variablility of two random variables."
      ]
    },
    {
      "cell_type": "code",
      "metadata": {
        "id": "FhTdZVj0F-p6",
        "outputId": "48bde047-94b7-4d5a-a438-03eecfd67a1b",
        "colab": {
          "base_uri": "https://localhost:8080/",
          "height": 297
        }
      },
      "source": [
        "import numpy as np\n",
        "from scipy.stats import spearmanr\n",
        "from scipy.stats import pearsonr\n",
        "import matplotlib.pyplot as plt\n",
        "\n",
        "N=20\n",
        "x = np.linspace(1,N,num=N)\n",
        "y1 = x*5 + np.random.normal(0, 3, N)\n",
        "y2 = np.exp(0.3*x) + np.random.normal(0, 3, N)\n",
        "#y2 = y1 + np.random.normal(0, 3, N)\n",
        "\n",
        "plt.scatter(x,y1,color='r',label='y1 = x*5 + np.random.normal(0, 3, N)')\n",
        "plt.scatter(x,y2,color='b',label='y2 = y1 + np.random.normal(0, 3, N)')\n",
        "plt.legend(loc='upper left')\n",
        "plt.xlabel('x')\n",
        "plt.ylabel('y')\n",
        "plt.xlim(0,N)\n",
        "plt.ylim(min(min(y1),min(y2)),max(max(y1),max(y2)))"
      ],
      "execution_count": 2,
      "outputs": [
        {
          "output_type": "execute_result",
          "data": {
            "text/plain": [
              "(0.1664071506718332, 406.617842182348)"
            ]
          },
          "metadata": {
            "tags": []
          },
          "execution_count": 2
        },
        {
          "output_type": "display_data",
          "data": {
            "image/png": "[encoded data removed]",
            "text/plain": [
              "<Figure size 432x288 with 1 Axes>"
            ]
          },
          "metadata": {
            "tags": [],
            "needs_background": "light"
          }
        }
      ]
    },
    {
      "cell_type": "markdown",
      "metadata": {
        "id": "Mt7wKF5gF5PO"
      },
      "source": [
        "# 2. Spurious Relationship and Rolling Cointegration"
      ]
    },
    {
      "cell_type": "code",
      "metadata": {
        "id": "uF8WGL6fF2Ps",
        "outputId": "cc92db83-aed6-461e-9f29-cbecd4671111",
        "colab": {
          "base_uri": "https://localhost:8080/",
          "height": 122
        }
      },
      "source": [
        "import numpy as np\n",
        "from statsmodels.tsa.stattools import coint\n",
        "\n",
        "N=20\n",
        "x = np.linspace(1,N,num=N)\n",
        "y1 = x*5 + np.random.normal(0, 3, N)\n",
        "y2 = np.exp(0.3*x) + np.random.normal(0, 3, N)\n",
        "print(f'P value is {coint(y1,y2)[1]}')"
      ],
      "execution_count": 3,
      "outputs": [
        {
          "output_type": "stream",
          "text": [
            "/usr/local/lib/python3.6/dist-packages/statsmodels/tools/_testing.py:19: FutureWarning: pandas.util.testing is deprecated. Use the functions in the public API at pandas.testing instead.\n",
            "  import pandas.util.testing as tm\n"
          ],
          "name": "stderr"
        },
        {
          "output_type": "stream",
          "text": [
            "P value is 0.9859002580259643\n"
          ],
          "name": "stdout"
        },
        {
          "output_type": "stream",
          "text": [
            "/usr/local/lib/python3.6/dist-packages/statsmodels/regression/linear_model.py:1578: RuntimeWarning: divide by zero encountered in double_scalars\n",
            "  return np.dot(wresid, wresid) / self.df_resid\n"
          ],
          "name": "stderr"
        }
      ]
    },
    {
      "cell_type": "markdown",
      "metadata": {
        "id": "560SYyk6GGwG"
      },
      "source": [
        "Because P-value is greater than 0.05 significance level, we cannot reject the null hypothesis that there is no cointegration."
      ]
    }
  ]
}