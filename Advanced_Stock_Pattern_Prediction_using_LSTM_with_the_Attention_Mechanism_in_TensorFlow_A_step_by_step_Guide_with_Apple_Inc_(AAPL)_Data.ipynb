{
  "nbformat": 4,
  "nbformat_minor": 0,
  "metadata": {
    "colab": {
      "provenance": [],
      "authorship_tag": "ABX9TyPs+u2ho3bRHEgZgHtcVUig"
    },
    "kernelspec": {
      "name": "python3",
      "display_name": "Python 3"
    },
    "language_info": {
      "name": "python"
    }
  },
  "cells": [
    {
      "cell_type": "markdown",
      "source": [
        "[Reference](https://drlee.io/advanced-stock-pattern-prediction-using-lstm-with-the-attention-mechanism-in-tensorflow-a-step-by-143a2e8b0e95)"
      ],
      "metadata": {
        "id": "hhaRW3DKyC44"
      }
    },
    {
      "cell_type": "code",
      "execution_count": 1,
      "metadata": {
        "id": "zCcwldbPx9gg"
      },
      "outputs": [],
      "source": [
        "!pip install tensorflow -qqq\n",
        "!pip install keras -qqq\n",
        "!pip install yfinance -qqq"
      ]
    },
    {
      "cell_type": "code",
      "source": [
        "import tensorflow as tf\n",
        "import keras\n",
        "import yfinance as yf\n",
        "import numpy as np\n",
        "import pandas as pd\n",
        "import matplotlib.pyplot as plt\n",
        "\n",
        "# Check TensorFlow version\n",
        "print(\"TensorFlow Version: \", tf.__version__)"
      ],
      "metadata": {
        "colab": {
          "base_uri": "https://localhost:8080/"
        },
        "id": "GFbygIPQyG1S",
        "outputId": "d914788e-ef25-4ec7-cd4f-4874b106665d"
      },
      "execution_count": 2,
      "outputs": [
        {
          "output_type": "stream",
          "name": "stdout",
          "text": [
            "TensorFlow Version:  2.15.0\n"
          ]
        }
      ]
    },
    {
      "cell_type": "code",
      "source": [
        "# Fetch AAPL data\n",
        "aapl_data = yf.download('AAPL', start='2020-01-01', end='2024-01-01')\n",
        "\n",
        "# Display the first few rows of the dataframe\n",
        "aapl_data.head()"
      ],
      "metadata": {
        "colab": {
          "base_uri": "https://localhost:8080/",
          "height": 252
        },
        "id": "Bo766UQtyHpg",
        "outputId": "b0fd8006-6cc3-49c0-eab8-1e781f21acc4"
      },
      "execution_count": 3,
      "outputs": [
        {
          "output_type": "stream",
          "name": "stderr",
          "text": [
            "\r[*********************100%%**********************]  1 of 1 completed\n"
          ]
        },
        {
          "output_type": "execute_result",
          "data": {
            "text/plain": [
              "                 Open       High        Low      Close  Adj Close     Volume\n",
              "Date                                                                        \n",
              "2020-01-02  74.059998  75.150002  73.797501  75.087502  73.059433  135480400\n",
              "2020-01-03  74.287498  75.144997  74.125000  74.357498  72.349144  146322800\n",
              "2020-01-06  73.447502  74.989998  73.187500  74.949997  72.925636  118387200\n",
              "2020-01-07  74.959999  75.224998  74.370003  74.597504  72.582649  108872000\n",
              "2020-01-08  74.290001  76.110001  74.290001  75.797501  73.750229  132079200"
            ],
            "text/html": [
              "\n",
              "  <div id=\"df-4963c2b0-79cb-4971-9175-14228af8941c\" class=\"colab-df-container\">\n",
              "    <div>\n",
              "<style scoped>\n",
              "    .dataframe tbody tr th:only-of-type {\n",
              "        vertical-align: middle;\n",
              "    }\n",
              "\n",
              "    .dataframe tbody tr th {\n",
              "        vertical-align: top;\n",
              "    }\n",
              "\n",
              "    .dataframe thead th {\n",
              "        text-align: right;\n",
              "    }\n",
              "</style>\n",
              "<table border=\"1\" class=\"dataframe\">\n",
              "  <thead>\n",
              "    <tr style=\"text-align: right;\">\n",
              "      <th></th>\n",
              "      <th>Open</th>\n",
              "      <th>High</th>\n",
              "      <th>Low</th>\n",
              "      <th>Close</th>\n",
              "      <th>Adj Close</th>\n",
              "      <th>Volume</th>\n",
              "    </tr>\n",
              "    <tr>\n",
              "      <th>Date</th>\n",
              "      <th></th>\n",
              "      <th></th>\n",
              "      <th></th>\n",
              "      <th></th>\n",
              "      <th></th>\n",
              "      <th></th>\n",
              "    </tr>\n",
              "  </thead>\n",
              "  <tbody>\n",
              "    <tr>\n",
              "      <th>2020-01-02</th>\n",
              "      <td>74.059998</td>\n",
              "      <td>75.150002</td>\n",
              "      <td>73.797501</td>\n",
              "      <td>75.087502</td>\n",
              "      <td>73.059433</td>\n",
              "      <td>135480400</td>\n",
              "    </tr>\n",
              "    <tr>\n",
              "      <th>2020-01-03</th>\n",
              "      <td>74.287498</td>\n",
              "      <td>75.144997</td>\n",
              "      <td>74.125000</td>\n",
              "      <td>74.357498</td>\n",
              "      <td>72.349144</td>\n",
              "      <td>146322800</td>\n",
              "    </tr>\n",
              "    <tr>\n",
              "      <th>2020-01-06</th>\n",
              "      <td>73.447502</td>\n",
              "      <td>74.989998</td>\n",
              "      <td>73.187500</td>\n",
              "      <td>74.949997</td>\n",
              "      <td>72.925636</td>\n",
              "      <td>118387200</td>\n",
              "    </tr>\n",
              "    <tr>\n",
              "      <th>2020-01-07</th>\n",
              "      <td>74.959999</td>\n",
              "      <td>75.224998</td>\n",
              "      <td>74.370003</td>\n",
              "      <td>74.597504</td>\n",
              "      <td>72.582649</td>\n",
              "      <td>108872000</td>\n",
              "    </tr>\n",
              "    <tr>\n",
              "      <th>2020-01-08</th>\n",
              "      <td>74.290001</td>\n",
              "      <td>76.110001</td>\n",
              "      <td>74.290001</td>\n",
              "      <td>75.797501</td>\n",
              "      <td>73.750229</td>\n",
              "      <td>132079200</td>\n",
              "    </tr>\n",
              "  </tbody>\n",
              "</table>\n",
              "</div>\n",
              "    <div class=\"colab-df-buttons\">\n",
              "\n",
              "  <div class=\"colab-df-container\">\n",
              "    <button class=\"colab-df-convert\" onclick=\"convertToInteractive('df-4963c2b0-79cb-4971-9175-14228af8941c')\"\n",
              "            title=\"Convert this dataframe to an interactive table.\"\n",
              "            style=\"display:none;\">\n",
              "\n",
              "  <svg xmlns=\"http://www.w3.org/2000/svg\" height=\"24px\" viewBox=\"0 -960 960 960\">\n",
              "    <path d=\"M120-120v-720h720v720H120Zm60-500h600v-160H180v160Zm220 220h160v-160H400v160Zm0 220h160v-160H400v160ZM180-400h160v-160H180v160Zm440 0h160v-160H620v160ZM180-180h160v-160H180v160Zm440 0h160v-160H620v160Z\"/>\n",
              "  </svg>\n",
              "    </button>\n",
              "\n",
              "  <style>\n",
              "    .colab-df-container {\n",
              "      display:flex;\n",
              "      gap: 12px;\n",
              "    }\n",
              "\n",
              "    .colab-df-convert {\n",
              "      background-color: #E8F0FE;\n",
              "      border: none;\n",
              "      border-radius: 50%;\n",
              "      cursor: pointer;\n",
              "      display: none;\n",
              "      fill: #1967D2;\n",
              "      height: 32px;\n",
              "      padding: 0 0 0 0;\n",
              "      width: 32px;\n",
              "    }\n",
              "\n",
              "    .colab-df-convert:hover {\n",
              "      background-color: #E2EBFA;\n",
              "      box-shadow: 0px 1px 2px rgba(60, 64, 67, 0.3), 0px 1px 3px 1px rgba(60, 64, 67, 0.15);\n",
              "      fill: #174EA6;\n",
              "    }\n",
              "\n",
              "    .colab-df-buttons div {\n",
              "      margin-bottom: 4px;\n",
              "    }\n",
              "\n",
              "    [theme=dark] .colab-df-convert {\n",
              "      background-color: #3B4455;\n",
              "      fill: #D2E3FC;\n",
              "    }\n",
              "\n",
              "    [theme=dark] .colab-df-convert:hover {\n",
              "      background-color: #434B5C;\n",
              "      box-shadow: 0px 1px 3px 1px rgba(0, 0, 0, 0.15);\n",
              "      filter: drop-shadow(0px 1px 2px rgba(0, 0, 0, 0.3));\n",
              "      fill: #FFFFFF;\n",
              "    }\n",
              "  </style>\n",
              "\n",
              "    <script>\n",
              "      const buttonEl =\n",
              "        document.querySelector('#df-4963c2b0-79cb-4971-9175-14228af8941c button.colab-df-convert');\n",
              "      buttonEl.style.display =\n",
              "        google.colab.kernel.accessAllowed ? 'block' : 'none';\n",
              "\n",
              "      async function convertToInteractive(key) {\n",
              "        const element = document.querySelector('#df-4963c2b0-79cb-4971-9175-14228af8941c');\n",
              "        const dataTable =\n",
              "          await google.colab.kernel.invokeFunction('convertToInteractive',\n",
              "                                                    [key], {});\n",
              "        if (!dataTable) return;\n",
              "\n",
              "        const docLinkHtml = 'Like what you see? Visit the ' +\n",
              "          '<a target=\"_blank\" href=https://colab.research.google.com/notebooks/data_table.ipynb>data table notebook</a>'\n",
              "          + ' to learn more about interactive tables.';\n",
              "        element.innerHTML = '';\n",
              "        dataTable['output_type'] = 'display_data';\n",
              "        await google.colab.output.renderOutput(dataTable, element);\n",
              "        const docLink = document.createElement('div');\n",
              "        docLink.innerHTML = docLinkHtml;\n",
              "        element.appendChild(docLink);\n",
              "      }\n",
              "    </script>\n",
              "  </div>\n",
              "\n",
              "\n",
              "<div id=\"df-f536d7e2-df75-4e65-9dce-de7053256211\">\n",
              "  <button class=\"colab-df-quickchart\" onclick=\"quickchart('df-f536d7e2-df75-4e65-9dce-de7053256211')\"\n",
              "            title=\"Suggest charts\"\n",
              "            style=\"display:none;\">\n",
              "\n",
              "<svg xmlns=\"http://www.w3.org/2000/svg\" height=\"24px\"viewBox=\"0 0 24 24\"\n",
              "     width=\"24px\">\n",
              "    <g>\n",
              "        <path d=\"M19 3H5c-1.1 0-2 .9-2 2v14c0 1.1.9 2 2 2h14c1.1 0 2-.9 2-2V5c0-1.1-.9-2-2-2zM9 17H7v-7h2v7zm4 0h-2V7h2v10zm4 0h-2v-4h2v4z\"/>\n",
              "    </g>\n",
              "</svg>\n",
              "  </button>\n",
              "\n",
              "<style>\n",
              "  .colab-df-quickchart {\n",
              "      --bg-color: #E8F0FE;\n",
              "      --fill-color: #1967D2;\n",
              "      --hover-bg-color: #E2EBFA;\n",
              "      --hover-fill-color: #174EA6;\n",
              "      --disabled-fill-color: #AAA;\n",
              "      --disabled-bg-color: #DDD;\n",
              "  }\n",
              "\n",
              "  [theme=dark] .colab-df-quickchart {\n",
              "      --bg-color: #3B4455;\n",
              "      --fill-color: #D2E3FC;\n",
              "      --hover-bg-color: #434B5C;\n",
              "      --hover-fill-color: #FFFFFF;\n",
              "      --disabled-bg-color: #3B4455;\n",
              "      --disabled-fill-color: #666;\n",
              "  }\n",
              "\n",
              "  .colab-df-quickchart {\n",
              "    background-color: var(--bg-color);\n",
              "    border: none;\n",
              "    border-radius: 50%;\n",
              "    cursor: pointer;\n",
              "    display: none;\n",
              "    fill: var(--fill-color);\n",
              "    height: 32px;\n",
              "    padding: 0;\n",
              "    width: 32px;\n",
              "  }\n",
              "\n",
              "  .colab-df-quickchart:hover {\n",
              "    background-color: var(--hover-bg-color);\n",
              "    box-shadow: 0 1px 2px rgba(60, 64, 67, 0.3), 0 1px 3px 1px rgba(60, 64, 67, 0.15);\n",
              "    fill: var(--button-hover-fill-color);\n",
              "  }\n",
              "\n",
              "  .colab-df-quickchart-complete:disabled,\n",
              "  .colab-df-quickchart-complete:disabled:hover {\n",
              "    background-color: var(--disabled-bg-color);\n",
              "    fill: var(--disabled-fill-color);\n",
              "    box-shadow: none;\n",
              "  }\n",
              "\n",
              "  .colab-df-spinner {\n",
              "    border: 2px solid var(--fill-color);\n",
              "    border-color: transparent;\n",
              "    border-bottom-color: var(--fill-color);\n",
              "    animation:\n",
              "      spin 1s steps(1) infinite;\n",
              "  }\n",
              "\n",
              "  @keyframes spin {\n",
              "    0% {\n",
              "      border-color: transparent;\n",
              "      border-bottom-color: var(--fill-color);\n",
              "      border-left-color: var(--fill-color);\n",
              "    }\n",
              "    20% {\n",
              "      border-color: transparent;\n",
              "      border-left-color: var(--fill-color);\n",
              "      border-top-color: var(--fill-color);\n",
              "    }\n",
              "    30% {\n",
              "      border-color: transparent;\n",
              "      border-left-color: var(--fill-color);\n",
              "      border-top-color: var(--fill-color);\n",
              "      border-right-color: var(--fill-color);\n",
              "    }\n",
              "    40% {\n",
              "      border-color: transparent;\n",
              "      border-right-color: var(--fill-color);\n",
              "      border-top-color: var(--fill-color);\n",
              "    }\n",
              "    60% {\n",
              "      border-color: transparent;\n",
              "      border-right-color: var(--fill-color);\n",
              "    }\n",
              "    80% {\n",
              "      border-color: transparent;\n",
              "      border-right-color: var(--fill-color);\n",
              "      border-bottom-color: var(--fill-color);\n",
              "    }\n",
              "    90% {\n",
              "      border-color: transparent;\n",
              "      border-bottom-color: var(--fill-color);\n",
              "    }\n",
              "  }\n",
              "</style>\n",
              "\n",
              "  <script>\n",
              "    async function quickchart(key) {\n",
              "      const quickchartButtonEl =\n",
              "        document.querySelector('#' + key + ' button');\n",
              "      quickchartButtonEl.disabled = true;  // To prevent multiple clicks.\n",
              "      quickchartButtonEl.classList.add('colab-df-spinner');\n",
              "      try {\n",
              "        const charts = await google.colab.kernel.invokeFunction(\n",
              "            'suggestCharts', [key], {});\n",
              "      } catch (error) {\n",
              "        console.error('Error during call to suggestCharts:', error);\n",
              "      }\n",
              "      quickchartButtonEl.classList.remove('colab-df-spinner');\n",
              "      quickchartButtonEl.classList.add('colab-df-quickchart-complete');\n",
              "    }\n",
              "    (() => {\n",
              "      let quickchartButtonEl =\n",
              "        document.querySelector('#df-f536d7e2-df75-4e65-9dce-de7053256211 button');\n",
              "      quickchartButtonEl.style.display =\n",
              "        google.colab.kernel.accessAllowed ? 'block' : 'none';\n",
              "    })();\n",
              "  </script>\n",
              "</div>\n",
              "\n",
              "    </div>\n",
              "  </div>\n"
            ],
            "application/vnd.google.colaboratory.intrinsic+json": {
              "type": "dataframe",
              "variable_name": "aapl_data",
              "summary": "{\n  \"name\": \"aapl_data\",\n  \"rows\": 1006,\n  \"fields\": [\n    {\n      \"column\": \"Date\",\n      \"properties\": {\n        \"dtype\": \"date\",\n        \"min\": \"2020-01-02 00:00:00\",\n        \"max\": \"2023-12-29 00:00:00\",\n        \"num_unique_values\": 1006,\n        \"samples\": [\n          \"2023-09-08 00:00:00\",\n          \"2022-07-05 00:00:00\",\n          \"2022-09-16 00:00:00\"\n        ],\n        \"semantic_type\": \"\",\n        \"description\": \"\"\n      }\n    },\n    {\n      \"column\": \"Open\",\n      \"properties\": {\n        \"dtype\": \"number\",\n        \"std\": 33.31001776940112,\n        \"min\": 57.02000045776367,\n        \"max\": 198.02000427246094,\n        \"num_unique_values\": 956,\n        \"samples\": [\n          127.81999969482422,\n          179.47999572753906,\n          170.97000122070312\n        ],\n        \"semantic_type\": \"\",\n        \"description\": \"\"\n      }\n    },\n    {\n      \"column\": \"High\",\n      \"properties\": {\n        \"dtype\": \"number\",\n        \"std\": 33.43057053182057,\n        \"min\": 57.125,\n        \"max\": 199.6199951171875,\n        \"num_unique_values\": 956,\n        \"samples\": [\n          128.32000732421875,\n          179.69000244140625,\n          172.9499969482422\n        ],\n        \"semantic_type\": \"\",\n        \"description\": \"\"\n      }\n    },\n    {\n      \"column\": \"Low\",\n      \"properties\": {\n        \"dtype\": \"number\",\n        \"std\": 33.17919879094591,\n        \"min\": 53.15250015258789,\n        \"max\": 197.0,\n        \"num_unique_values\": 963,\n        \"samples\": [\n          162.42999267578125,\n          125.94000244140625,\n          126.20999908447266\n        ],\n        \"semantic_type\": \"\",\n        \"description\": \"\"\n      }\n    },\n    {\n      \"column\": \"Close\",\n      \"properties\": {\n        \"dtype\": \"number\",\n        \"std\": 33.31385702299744,\n        \"min\": 56.092498779296875,\n        \"max\": 198.11000061035156,\n        \"num_unique_values\": 956,\n        \"samples\": [\n          124.8499984741211,\n          178.19000244140625,\n          168.8800048828125\n        ],\n        \"semantic_type\": \"\",\n        \"description\": \"\"\n      }\n    },\n    {\n      \"column\": \"Adj Close\",\n      \"properties\": {\n        \"dtype\": \"number\",\n        \"std\": 33.66141378379991,\n        \"min\": 54.70699691772461,\n        \"max\": 197.85752868652344,\n        \"num_unique_values\": 994,\n        \"samples\": [\n          173.75906372070312,\n          174.28829956054688,\n          165.76568603515625\n        ],\n        \"semantic_type\": \"\",\n        \"description\": \"\"\n      }\n    },\n    {\n      \"column\": \"Volume\",\n      \"properties\": {\n        \"dtype\": \"number\",\n        \"std\": 54396526,\n        \"min\": 24048300,\n        \"max\": 426510000,\n        \"num_unique_values\": 1004,\n        \"samples\": [\n          58953100,\n          74064300,\n          81474200\n        ],\n        \"semantic_type\": \"\",\n        \"description\": \"\"\n      }\n    }\n  ]\n}"
            }
          },
          "metadata": {},
          "execution_count": 3
        }
      ]
    },
    {
      "cell_type": "code",
      "source": [
        "# Checking for missing values\n",
        "aapl_data.isnull().sum()\n",
        "\n",
        "# Filling missing values, if any\n",
        "aapl_data.fillna(method='ffill', inplace=True)"
      ],
      "metadata": {
        "id": "bty3e4i6yIfK"
      },
      "execution_count": 4,
      "outputs": []
    },
    {
      "cell_type": "code",
      "source": [
        "from sklearn.preprocessing import MinMaxScaler\n",
        "\n",
        "scaler = MinMaxScaler(feature_range=(0,1))\n",
        "aapl_data_scaled = scaler.fit_transform(aapl_data['Close'].values.reshape(-1,1))"
      ],
      "metadata": {
        "id": "p64dr6E5yJjW"
      },
      "execution_count": 5,
      "outputs": []
    },
    {
      "cell_type": "code",
      "source": [
        "X = []\n",
        "y = []\n",
        "\n",
        "for i in range(60, len(aapl_data_scaled)):\n",
        "    X.append(aapl_data_scaled[i-60:i, 0])\n",
        "    y.append(aapl_data_scaled[i, 0])"
      ],
      "metadata": {
        "id": "4Lx_CbowyLdG"
      },
      "execution_count": 6,
      "outputs": []
    },
    {
      "cell_type": "code",
      "source": [
        "train_size = int(len(X) * 0.8)\n",
        "test_size = len(X) - train_size\n",
        "\n",
        "X_train, X_test = X[:train_size], X[train_size:]\n",
        "y_train, y_test = y[:train_size], y[train_size:]"
      ],
      "metadata": {
        "id": "CxxGbrWlyMQq"
      },
      "execution_count": 7,
      "outputs": []
    },
    {
      "cell_type": "code",
      "source": [
        "X_train, y_train = np.array(X_train), np.array(y_train)\n",
        "X_train = np.reshape(X_train, (X_train.shape[0], X_train.shape[1], 1))"
      ],
      "metadata": {
        "id": "XdDasAhSyNPI"
      },
      "execution_count": 8,
      "outputs": []
    },
    {
      "cell_type": "code",
      "source": [
        "from keras.models import Sequential\n",
        "from keras.layers import LSTM, Dense, Dropout, AdditiveAttention, Permute, Reshape, Multiply\n",
        "\n",
        "model = Sequential()\n",
        "\n",
        "# Adding LSTM layers with return_sequences=True\n",
        "model.add(LSTM(units=50, return_sequences=True, input_shape=(X_train.shape[1], 1)))\n",
        "model.add(LSTM(units=50, return_sequences=True))"
      ],
      "metadata": {
        "id": "--quf0OhyOWL"
      },
      "execution_count": 9,
      "outputs": []
    },
    {
      "cell_type": "code",
      "source": [
        "# Adding self-attention mechanism\n",
        "# The attention mechanism\n",
        "attention = AdditiveAttention(name='attention_weight')\n",
        "# Permute and reshape for compatibility\n",
        "model.add(Permute((2, 1)))\n",
        "model.add(Reshape((-1, X_train.shape[1])))\n",
        "attention_result = attention([model.output, model.output])\n",
        "multiply_layer = Multiply()([model.output, attention_result])\n",
        "# Return to original shape\n",
        "model.add(Permute((2, 1)))\n",
        "model.add(Reshape((-1, 50)))\n",
        "\n",
        "# Adding a Flatten layer before the final Dense layer\n",
        "model.add(tf.keras.layers.Flatten())\n",
        "\n",
        "# Final Dense layer\n",
        "model.add(Dense(1))\n",
        "\n",
        "# Compile the model\n",
        "# model.compile(optimizer='adam', loss='mean_squared_error')\n",
        "\n",
        "# Train the model\n",
        "# history = model.fit(X_train, y_train, epochs=100, batch_size=25, validation_split=0.2)"
      ],
      "metadata": {
        "id": "u_zuwGE5yPoi"
      },
      "execution_count": 10,
      "outputs": []
    },
    {
      "cell_type": "code",
      "source": [
        "from keras.layers import BatchNormalization\n",
        "\n",
        "# Adding Dropout and Batch Normalization\n",
        "model.add(Dropout(0.2))\n",
        "model.add(BatchNormalization())"
      ],
      "metadata": {
        "id": "KUAQuzwlyRkn"
      },
      "execution_count": 11,
      "outputs": []
    },
    {
      "cell_type": "code",
      "source": [
        "model.compile(optimizer='adam', loss='mean_squared_error')"
      ],
      "metadata": {
        "id": "YYOsQ1uvyTlz"
      },
      "execution_count": 12,
      "outputs": []
    },
    {
      "cell_type": "code",
      "source": [
        "model.summary()"
      ],
      "metadata": {
        "colab": {
          "base_uri": "https://localhost:8080/"
        },
        "id": "f1C_zAokyUqS",
        "outputId": "cc7ad1be-8f8a-43ef-a6be-f7ce33ab1426"
      },
      "execution_count": 13,
      "outputs": [
        {
          "output_type": "stream",
          "name": "stdout",
          "text": [
            "Model: \"sequential\"\n",
            "_________________________________________________________________\n",
            " Layer (type)                Output Shape              Param #   \n",
            "=================================================================\n",
            " lstm (LSTM)                 (None, 60, 50)            10400     \n",
            "                                                                 \n",
            " lstm_1 (LSTM)               (None, 60, 50)            20200     \n",
            "                                                                 \n",
            " permute (Permute)           (None, 50, 60)            0         \n",
            "                                                                 \n",
            " reshape (Reshape)           (None, 50, 60)            0         \n",
            "                                                                 \n",
            " permute_1 (Permute)         (None, 60, 50)            0         \n",
            "                                                                 \n",
            " reshape_1 (Reshape)         (None, 60, 50)            0         \n",
            "                                                                 \n",
            " flatten (Flatten)           (None, 3000)              0         \n",
            "                                                                 \n",
            " dense (Dense)               (None, 1)                 3001      \n",
            "                                                                 \n",
            " dropout (Dropout)           (None, 1)                 0         \n",
            "                                                                 \n",
            " batch_normalization (Batch  (None, 1)                 4         \n",
            " Normalization)                                                  \n",
            "                                                                 \n",
            "=================================================================\n",
            "Total params: 33605 (131.27 KB)\n",
            "Trainable params: 33603 (131.26 KB)\n",
            "Non-trainable params: 2 (8.00 Byte)\n",
            "_________________________________________________________________\n"
          ]
        }
      ]
    },
    {
      "cell_type": "code",
      "source": [
        "# Assuming X_train and y_train are already defined and preprocessed\n",
        "history = model.fit(X_train, y_train, epochs=100, batch_size=25, validation_split=0.2)"
      ],
      "metadata": {
        "colab": {
          "base_uri": "https://localhost:8080/"
        },
        "id": "n5m7I_QCyWnD",
        "outputId": "8ba2f510-2fb5-434b-a931-fe1d7d9ffe47"
      },
      "execution_count": 14,
      "outputs": [
        {
          "output_type": "stream",
          "name": "stdout",
          "text": [
            "Epoch 1/100\n",
            "25/25 [==============================] - 19s 225ms/step - loss: 0.4241 - val_loss: 0.3923\n",
            "Epoch 2/100\n",
            "25/25 [==============================] - 4s 138ms/step - loss: 0.2754 - val_loss: 0.3406\n",
            "Epoch 3/100\n",
            "25/25 [==============================] - 3s 134ms/step - loss: 0.2474 - val_loss: 0.3196\n",
            "Epoch 4/100\n",
            "25/25 [==============================] - 3s 114ms/step - loss: 0.2237 - val_loss: 0.2956\n",
            "Epoch 5/100\n",
            "25/25 [==============================] - 1s 57ms/step - loss: 0.2034 - val_loss: 0.2681\n",
            "Epoch 6/100\n",
            "25/25 [==============================] - 1s 55ms/step - loss: 0.1827 - val_loss: 0.2490\n",
            "Epoch 7/100\n",
            "25/25 [==============================] - 2s 79ms/step - loss: 0.1651 - val_loss: 0.2270\n",
            "Epoch 8/100\n",
            "25/25 [==============================] - 4s 146ms/step - loss: 0.1501 - val_loss: 0.2071\n",
            "Epoch 9/100\n",
            "25/25 [==============================] - 3s 136ms/step - loss: 0.1343 - val_loss: 0.1775\n",
            "Epoch 10/100\n",
            "25/25 [==============================] - 3s 125ms/step - loss: 0.1220 - val_loss: 0.1581\n",
            "Epoch 11/100\n",
            "25/25 [==============================] - 3s 139ms/step - loss: 0.1124 - val_loss: 0.1578\n",
            "Epoch 12/100\n",
            "25/25 [==============================] - 3s 128ms/step - loss: 0.0994 - val_loss: 0.1453\n",
            "Epoch 13/100\n",
            "25/25 [==============================] - 3s 122ms/step - loss: 0.0860 - val_loss: 0.1285\n",
            "Epoch 14/100\n",
            "25/25 [==============================] - 3s 105ms/step - loss: 0.0775 - val_loss: 0.1132\n",
            "Epoch 15/100\n",
            "25/25 [==============================] - 3s 122ms/step - loss: 0.0703 - val_loss: 0.0884\n",
            "Epoch 16/100\n",
            "25/25 [==============================] - 2s 100ms/step - loss: 0.0612 - val_loss: 0.0960\n",
            "Epoch 17/100\n",
            "25/25 [==============================] - 2s 97ms/step - loss: 0.0548 - val_loss: 0.0821\n",
            "Epoch 18/100\n",
            "25/25 [==============================] - 2s 66ms/step - loss: 0.0499 - val_loss: 0.0748\n",
            "Epoch 19/100\n",
            "25/25 [==============================] - 4s 159ms/step - loss: 0.0447 - val_loss: 0.0656\n",
            "Epoch 20/100\n",
            "25/25 [==============================] - 3s 128ms/step - loss: 0.0403 - val_loss: 0.0536\n",
            "Epoch 21/100\n",
            "25/25 [==============================] - 3s 129ms/step - loss: 0.0338 - val_loss: 0.0478\n",
            "Epoch 22/100\n",
            "25/25 [==============================] - 3s 124ms/step - loss: 0.0309 - val_loss: 0.0590\n",
            "Epoch 23/100\n",
            "25/25 [==============================] - 4s 155ms/step - loss: 0.0293 - val_loss: 0.0436\n",
            "Epoch 24/100\n",
            "25/25 [==============================] - 4s 155ms/step - loss: 0.0266 - val_loss: 0.0516\n",
            "Epoch 25/100\n",
            "25/25 [==============================] - 3s 133ms/step - loss: 0.0271 - val_loss: 0.0177\n",
            "Epoch 26/100\n",
            "25/25 [==============================] - 3s 103ms/step - loss: 0.0221 - val_loss: 0.0265\n",
            "Epoch 27/100\n",
            "25/25 [==============================] - 1s 56ms/step - loss: 0.0179 - val_loss: 0.0100\n",
            "Epoch 28/100\n",
            "25/25 [==============================] - 1s 56ms/step - loss: 0.0166 - val_loss: 0.0115\n",
            "Epoch 29/100\n",
            "25/25 [==============================] - 1s 53ms/step - loss: 0.0156 - val_loss: 0.0448\n",
            "Epoch 30/100\n",
            "25/25 [==============================] - 2s 82ms/step - loss: 0.0162 - val_loss: 0.0038\n",
            "Epoch 31/100\n",
            "25/25 [==============================] - 2s 81ms/step - loss: 0.0145 - val_loss: 0.0087\n",
            "Epoch 32/100\n",
            "25/25 [==============================] - 1s 56ms/step - loss: 0.0122 - val_loss: 0.0071\n",
            "Epoch 33/100\n",
            "25/25 [==============================] - 1s 55ms/step - loss: 0.0154 - val_loss: 0.0018\n",
            "Epoch 34/100\n",
            "25/25 [==============================] - 2s 62ms/step - loss: 0.0148 - val_loss: 0.0016\n",
            "Epoch 35/100\n",
            "25/25 [==============================] - 1s 58ms/step - loss: 0.0125 - val_loss: 0.0172\n",
            "Epoch 36/100\n",
            "25/25 [==============================] - 1s 55ms/step - loss: 0.0127 - val_loss: 0.0544\n",
            "Epoch 37/100\n",
            "25/25 [==============================] - 2s 64ms/step - loss: 0.0139 - val_loss: 0.0641\n",
            "Epoch 38/100\n",
            "25/25 [==============================] - 2s 77ms/step - loss: 0.0213 - val_loss: 0.0013\n",
            "Epoch 39/100\n",
            "25/25 [==============================] - 2s 76ms/step - loss: 0.0115 - val_loss: 0.0080\n",
            "Epoch 40/100\n",
            "25/25 [==============================] - 1s 59ms/step - loss: 0.0105 - val_loss: 0.0013\n",
            "Epoch 41/100\n",
            "25/25 [==============================] - 1s 56ms/step - loss: 0.0106 - val_loss: 0.0026\n",
            "Epoch 42/100\n",
            "25/25 [==============================] - 1s 55ms/step - loss: 0.0096 - val_loss: 0.0024\n",
            "Epoch 43/100\n",
            "25/25 [==============================] - 1s 52ms/step - loss: 0.0085 - val_loss: 0.0051\n",
            "Epoch 44/100\n",
            "25/25 [==============================] - 1s 54ms/step - loss: 0.0120 - val_loss: 0.0047\n",
            "Epoch 45/100\n",
            "25/25 [==============================] - 1s 53ms/step - loss: 0.0098 - val_loss: 0.0013\n",
            "Epoch 46/100\n",
            "25/25 [==============================] - 1s 55ms/step - loss: 0.0115 - val_loss: 0.0012\n",
            "Epoch 47/100\n",
            "25/25 [==============================] - 2s 98ms/step - loss: 0.0093 - val_loss: 0.0042\n",
            "Epoch 48/100\n",
            "25/25 [==============================] - 2s 61ms/step - loss: 0.0088 - val_loss: 0.0057\n",
            "Epoch 49/100\n",
            "25/25 [==============================] - 2s 62ms/step - loss: 0.0117 - val_loss: 0.0019\n",
            "Epoch 50/100\n",
            "25/25 [==============================] - 1s 54ms/step - loss: 0.0102 - val_loss: 0.0099\n",
            "Epoch 51/100\n",
            "25/25 [==============================] - 1s 59ms/step - loss: 0.0086 - val_loss: 0.0011\n",
            "Epoch 52/100\n",
            "25/25 [==============================] - 1s 55ms/step - loss: 0.0084 - val_loss: 0.0010\n",
            "Epoch 53/100\n",
            "25/25 [==============================] - 2s 78ms/step - loss: 0.0101 - val_loss: 0.0048\n",
            "Epoch 54/100\n",
            "25/25 [==============================] - 2s 79ms/step - loss: 0.0101 - val_loss: 0.0089\n",
            "Epoch 55/100\n",
            "25/25 [==============================] - 2s 84ms/step - loss: 0.0102 - val_loss: 0.0015\n",
            "Epoch 56/100\n",
            "25/25 [==============================] - 1s 55ms/step - loss: 0.0115 - val_loss: 0.0023\n",
            "Epoch 57/100\n",
            "25/25 [==============================] - 1s 57ms/step - loss: 0.0086 - val_loss: 0.0013\n",
            "Epoch 58/100\n",
            "25/25 [==============================] - 1s 56ms/step - loss: 0.0093 - val_loss: 0.0044\n",
            "Epoch 59/100\n",
            "25/25 [==============================] - 1s 55ms/step - loss: 0.0105 - val_loss: 0.0014\n",
            "Epoch 60/100\n",
            "25/25 [==============================] - 1s 54ms/step - loss: 0.0105 - val_loss: 0.0015\n",
            "Epoch 61/100\n",
            "25/25 [==============================] - 2s 61ms/step - loss: 0.0111 - val_loss: 0.0011\n",
            "Epoch 62/100\n",
            "25/25 [==============================] - 2s 68ms/step - loss: 0.0094 - val_loss: 0.0037\n",
            "Epoch 63/100\n",
            "25/25 [==============================] - 2s 82ms/step - loss: 0.0088 - val_loss: 0.0037\n",
            "Epoch 64/100\n",
            "25/25 [==============================] - 2s 63ms/step - loss: 0.0085 - val_loss: 0.0034\n",
            "Epoch 65/100\n",
            "25/25 [==============================] - 2s 77ms/step - loss: 0.0105 - val_loss: 0.0046\n",
            "Epoch 66/100\n",
            "25/25 [==============================] - 1s 56ms/step - loss: 0.0107 - val_loss: 0.0043\n",
            "Epoch 67/100\n",
            "25/25 [==============================] - 1s 54ms/step - loss: 0.0099 - val_loss: 0.0013\n",
            "Epoch 68/100\n",
            "25/25 [==============================] - 1s 54ms/step - loss: 0.0091 - val_loss: 0.0021\n",
            "Epoch 69/100\n",
            "25/25 [==============================] - 2s 64ms/step - loss: 0.0099 - val_loss: 0.0039\n",
            "Epoch 70/100\n",
            "25/25 [==============================] - 4s 168ms/step - loss: 0.0114 - val_loss: 0.0014\n",
            "Epoch 71/100\n",
            "25/25 [==============================] - 2s 63ms/step - loss: 0.0091 - val_loss: 0.0020\n",
            "Epoch 72/100\n",
            "25/25 [==============================] - 1s 55ms/step - loss: 0.0105 - val_loss: 0.0015\n",
            "Epoch 73/100\n",
            "25/25 [==============================] - 2s 63ms/step - loss: 0.0107 - val_loss: 0.0013\n",
            "Epoch 74/100\n",
            "25/25 [==============================] - 2s 61ms/step - loss: 0.0096 - val_loss: 0.0195\n",
            "Epoch 75/100\n",
            "25/25 [==============================] - 2s 63ms/step - loss: 0.0102 - val_loss: 0.0026\n",
            "Epoch 76/100\n",
            "25/25 [==============================] - 2s 61ms/step - loss: 0.0101 - val_loss: 0.0025\n",
            "Epoch 77/100\n",
            "25/25 [==============================] - 2s 75ms/step - loss: 0.0101 - val_loss: 0.0011\n",
            "Epoch 78/100\n",
            "25/25 [==============================] - 2s 83ms/step - loss: 0.0122 - val_loss: 0.0010\n",
            "Epoch 79/100\n",
            "25/25 [==============================] - 1s 56ms/step - loss: 0.0105 - val_loss: 0.0011\n",
            "Epoch 80/100\n",
            "25/25 [==============================] - 1s 57ms/step - loss: 0.0105 - val_loss: 9.3173e-04\n",
            "Epoch 81/100\n",
            "25/25 [==============================] - 1s 54ms/step - loss: 0.0098 - val_loss: 0.0010\n",
            "Epoch 82/100\n",
            "25/25 [==============================] - 1s 55ms/step - loss: 0.0097 - val_loss: 0.0070\n",
            "Epoch 83/100\n",
            "25/25 [==============================] - 1s 58ms/step - loss: 0.0098 - val_loss: 9.2280e-04\n",
            "Epoch 84/100\n",
            "25/25 [==============================] - 1s 54ms/step - loss: 0.0109 - val_loss: 0.0039\n",
            "Epoch 85/100\n",
            "25/25 [==============================] - 2s 70ms/step - loss: 0.0097 - val_loss: 0.0020\n",
            "Epoch 86/100\n",
            "25/25 [==============================] - 2s 87ms/step - loss: 0.0102 - val_loss: 9.1269e-04\n",
            "Epoch 87/100\n",
            "25/25 [==============================] - 1s 54ms/step - loss: 0.0116 - val_loss: 0.0056\n",
            "Epoch 88/100\n",
            "25/25 [==============================] - 1s 59ms/step - loss: 0.0095 - val_loss: 0.0014\n",
            "Epoch 89/100\n",
            "25/25 [==============================] - 2s 61ms/step - loss: 0.0114 - val_loss: 0.0087\n",
            "Epoch 90/100\n",
            "25/25 [==============================] - 1s 58ms/step - loss: 0.0106 - val_loss: 0.0012\n",
            "Epoch 91/100\n",
            "25/25 [==============================] - 1s 58ms/step - loss: 0.0093 - val_loss: 0.0012\n",
            "Epoch 92/100\n",
            "25/25 [==============================] - 1s 58ms/step - loss: 0.0074 - val_loss: 0.0023\n",
            "Epoch 93/100\n",
            "25/25 [==============================] - 2s 64ms/step - loss: 0.0094 - val_loss: 8.4811e-04\n",
            "Epoch 94/100\n",
            "25/25 [==============================] - 2s 89ms/step - loss: 0.0093 - val_loss: 0.0013\n",
            "Epoch 95/100\n",
            "25/25 [==============================] - 1s 56ms/step - loss: 0.0097 - val_loss: 0.0064\n",
            "Epoch 96/100\n",
            "25/25 [==============================] - 1s 59ms/step - loss: 0.0089 - val_loss: 0.0052\n",
            "Epoch 97/100\n",
            "25/25 [==============================] - 2s 63ms/step - loss: 0.0117 - val_loss: 0.0373\n",
            "Epoch 98/100\n",
            "25/25 [==============================] - 1s 58ms/step - loss: 0.0110 - val_loss: 0.0058\n",
            "Epoch 99/100\n",
            "25/25 [==============================] - 1s 54ms/step - loss: 0.0096 - val_loss: 0.0032\n",
            "Epoch 100/100\n",
            "25/25 [==============================] - 1s 54ms/step - loss: 0.0108 - val_loss: 9.6159e-04\n"
          ]
        }
      ]
    },
    {
      "cell_type": "code",
      "source": [
        "from keras.callbacks import EarlyStopping\n",
        "\n",
        "early_stopping = EarlyStopping(monitor='val_loss', patience=10)\n",
        "history = model.fit(X_train, y_train, epochs=100, batch_size=25, validation_split=0.2, callbacks=[early_stopping])"
      ],
      "metadata": {
        "colab": {
          "base_uri": "https://localhost:8080/"
        },
        "id": "-Eu6VGzEyX8x",
        "outputId": "295fac96-ca05-4886-ea06-c6aeef5ec9d0"
      },
      "execution_count": 15,
      "outputs": [
        {
          "output_type": "stream",
          "name": "stdout",
          "text": [
            "Epoch 1/100\n",
            "25/25 [==============================] - 2s 65ms/step - loss: 0.0112 - val_loss: 0.0036\n",
            "Epoch 2/100\n",
            "25/25 [==============================] - 1s 55ms/step - loss: 0.0116 - val_loss: 0.0060\n",
            "Epoch 3/100\n",
            "25/25 [==============================] - 1s 58ms/step - loss: 0.0099 - val_loss: 0.0028\n",
            "Epoch 4/100\n",
            "25/25 [==============================] - 2s 64ms/step - loss: 0.0091 - val_loss: 0.0019\n",
            "Epoch 5/100\n",
            "25/25 [==============================] - 1s 59ms/step - loss: 0.0111 - val_loss: 0.0016\n",
            "Epoch 6/100\n",
            "25/25 [==============================] - 2s 61ms/step - loss: 0.0120 - val_loss: 0.0022\n",
            "Epoch 7/100\n",
            "25/25 [==============================] - 2s 70ms/step - loss: 0.0103 - val_loss: 9.8372e-04\n",
            "Epoch 8/100\n",
            "25/25 [==============================] - 3s 100ms/step - loss: 0.0117 - val_loss: 0.0149\n",
            "Epoch 9/100\n",
            "25/25 [==============================] - 2s 65ms/step - loss: 0.0129 - val_loss: 0.0014\n",
            "Epoch 10/100\n",
            "25/25 [==============================] - 2s 66ms/step - loss: 0.0096 - val_loss: 0.0144\n",
            "Epoch 11/100\n",
            "25/25 [==============================] - 1s 57ms/step - loss: 0.0100 - val_loss: 0.0047\n",
            "Epoch 12/100\n",
            "25/25 [==============================] - 2s 64ms/step - loss: 0.0119 - val_loss: 0.0010\n",
            "Epoch 13/100\n",
            "25/25 [==============================] - 2s 63ms/step - loss: 0.0083 - val_loss: 0.0012\n",
            "Epoch 14/100\n",
            "25/25 [==============================] - 1s 58ms/step - loss: 0.0108 - val_loss: 9.0732e-04\n",
            "Epoch 15/100\n",
            "25/25 [==============================] - 2s 81ms/step - loss: 0.0121 - val_loss: 0.0012\n",
            "Epoch 16/100\n",
            "25/25 [==============================] - 2s 98ms/step - loss: 0.0125 - val_loss: 0.0031\n",
            "Epoch 17/100\n",
            "25/25 [==============================] - 1s 57ms/step - loss: 0.0111 - val_loss: 0.0011\n",
            "Epoch 18/100\n",
            "25/25 [==============================] - 2s 61ms/step - loss: 0.0116 - val_loss: 0.0014\n",
            "Epoch 19/100\n",
            "25/25 [==============================] - 1s 58ms/step - loss: 0.0127 - val_loss: 7.7678e-04\n",
            "Epoch 20/100\n",
            "25/25 [==============================] - 1s 53ms/step - loss: 0.0083 - val_loss: 8.2983e-04\n",
            "Epoch 21/100\n",
            "25/25 [==============================] - 1s 54ms/step - loss: 0.0093 - val_loss: 0.0074\n",
            "Epoch 22/100\n",
            "25/25 [==============================] - 1s 56ms/step - loss: 0.0103 - val_loss: 0.0123\n",
            "Epoch 23/100\n",
            "25/25 [==============================] - 2s 90ms/step - loss: 0.0125 - val_loss: 0.0018\n",
            "Epoch 24/100\n",
            "25/25 [==============================] - 2s 72ms/step - loss: 0.0116 - val_loss: 0.0011\n",
            "Epoch 25/100\n",
            "25/25 [==============================] - 1s 56ms/step - loss: 0.0105 - val_loss: 0.0058\n",
            "Epoch 26/100\n",
            "25/25 [==============================] - 1s 57ms/step - loss: 0.0098 - val_loss: 0.0031\n",
            "Epoch 27/100\n",
            "25/25 [==============================] - 2s 61ms/step - loss: 0.0096 - val_loss: 0.0040\n",
            "Epoch 28/100\n",
            "25/25 [==============================] - 2s 60ms/step - loss: 0.0085 - val_loss: 0.0016\n",
            "Epoch 29/100\n",
            "25/25 [==============================] - 2s 60ms/step - loss: 0.0066 - val_loss: 0.0012\n"
          ]
        }
      ]
    },
    {
      "cell_type": "code",
      "source": [
        "from keras.callbacks import ModelCheckpoint, ReduceLROnPlateau, TensorBoard, CSVLogger\n",
        "\n",
        "# Callback to save the model periodically\n",
        "model_checkpoint = ModelCheckpoint('best_model.h5', save_best_only=True, monitor='val_loss')\n",
        "\n",
        "# Callback to reduce learning rate when a metric has stopped improving\n",
        "reduce_lr = ReduceLROnPlateau(monitor='val_loss', factor=0.1, patience=5)\n",
        "\n",
        "# Callback for TensorBoard\n",
        "tensorboard = TensorBoard(log_dir='./logs')\n",
        "\n",
        "# Callback to log details to a CSV file\n",
        "csv_logger = CSVLogger('training_log.csv')\n",
        "\n",
        "# Combining all callbacks\n",
        "callbacks_list = [early_stopping, model_checkpoint, reduce_lr, tensorboard, csv_logger]\n",
        "\n",
        "# Fit the model with the callbacks\n",
        "history = model.fit(X_train, y_train, epochs=100, batch_size=25, validation_split=0.2, callbacks=callbacks_list)"
      ],
      "metadata": {
        "colab": {
          "base_uri": "https://localhost:8080/"
        },
        "id": "nmgk5BPZyZGo",
        "outputId": "74b8d568-207b-4194-b9c1-97911d567a78"
      },
      "execution_count": 16,
      "outputs": [
        {
          "output_type": "stream",
          "name": "stdout",
          "text": [
            "Epoch 1/100\n",
            "25/25 [==============================] - 2s 63ms/step - loss: 0.0089 - val_loss: 9.2646e-04 - lr: 0.0010\n",
            "Epoch 2/100\n",
            " 1/25 [>.............................] - ETA: 2s - loss: 0.0220"
          ]
        },
        {
          "output_type": "stream",
          "name": "stderr",
          "text": [
            "/usr/local/lib/python3.10/dist-packages/keras/src/engine/training.py:3103: UserWarning: You are saving your model as an HDF5 file via `model.save()`. This file format is considered legacy. We recommend using instead the native Keras format, e.g. `model.save('my_model.keras')`.\n",
            "  saving_api.save_model(\n"
          ]
        },
        {
          "output_type": "stream",
          "name": "stdout",
          "text": [
            "25/25 [==============================] - 3s 104ms/step - loss: 0.0103 - val_loss: 0.0024 - lr: 0.0010\n",
            "Epoch 3/100\n",
            "25/25 [==============================] - 2s 63ms/step - loss: 0.0107 - val_loss: 0.0033 - lr: 0.0010\n",
            "Epoch 4/100\n",
            "25/25 [==============================] - 1s 60ms/step - loss: 0.0114 - val_loss: 0.0035 - lr: 0.0010\n",
            "Epoch 5/100\n",
            "25/25 [==============================] - 1s 55ms/step - loss: 0.0115 - val_loss: 0.0012 - lr: 0.0010\n",
            "Epoch 6/100\n",
            "25/25 [==============================] - 2s 62ms/step - loss: 0.0110 - val_loss: 0.0111 - lr: 0.0010\n",
            "Epoch 7/100\n",
            "25/25 [==============================] - 1s 56ms/step - loss: 0.0093 - val_loss: 7.7308e-04 - lr: 1.0000e-04\n",
            "Epoch 8/100\n",
            "25/25 [==============================] - 1s 55ms/step - loss: 0.0092 - val_loss: 0.0013 - lr: 1.0000e-04\n",
            "Epoch 9/100\n",
            "25/25 [==============================] - 1s 52ms/step - loss: 0.0093 - val_loss: 8.3779e-04 - lr: 1.0000e-04\n",
            "Epoch 10/100\n",
            "25/25 [==============================] - 2s 100ms/step - loss: 0.0098 - val_loss: 7.6907e-04 - lr: 1.0000e-04\n",
            "Epoch 11/100\n",
            "25/25 [==============================] - 1s 56ms/step - loss: 0.0104 - val_loss: 7.9184e-04 - lr: 1.0000e-04\n",
            "Epoch 12/100\n",
            "25/25 [==============================] - 1s 56ms/step - loss: 0.0106 - val_loss: 9.5467e-04 - lr: 1.0000e-04\n",
            "Epoch 13/100\n",
            "25/25 [==============================] - 2s 64ms/step - loss: 0.0088 - val_loss: 7.6485e-04 - lr: 1.0000e-05\n",
            "Epoch 14/100\n",
            "25/25 [==============================] - 1s 60ms/step - loss: 0.0092 - val_loss: 0.0010 - lr: 1.0000e-05\n",
            "Epoch 15/100\n",
            "25/25 [==============================] - 1s 59ms/step - loss: 0.0083 - val_loss: 0.0012 - lr: 1.0000e-05\n",
            "Epoch 16/100\n",
            "25/25 [==============================] - 1s 56ms/step - loss: 0.0078 - val_loss: 0.0012 - lr: 1.0000e-05\n",
            "Epoch 17/100\n",
            "25/25 [==============================] - 1s 55ms/step - loss: 0.0099 - val_loss: 0.0014 - lr: 1.0000e-05\n",
            "Epoch 18/100\n",
            "25/25 [==============================] - 2s 95ms/step - loss: 0.0096 - val_loss: 0.0013 - lr: 1.0000e-06\n",
            "Epoch 19/100\n",
            "25/25 [==============================] - 2s 63ms/step - loss: 0.0082 - val_loss: 0.0012 - lr: 1.0000e-06\n",
            "Epoch 20/100\n",
            "25/25 [==============================] - 1s 58ms/step - loss: 0.0110 - val_loss: 0.0012 - lr: 1.0000e-06\n",
            "Epoch 21/100\n",
            "25/25 [==============================] - 1s 55ms/step - loss: 0.0105 - val_loss: 0.0012 - lr: 1.0000e-06\n",
            "Epoch 22/100\n",
            "25/25 [==============================] - 1s 60ms/step - loss: 0.0089 - val_loss: 0.0012 - lr: 1.0000e-06\n",
            "Epoch 23/100\n",
            "25/25 [==============================] - 1s 59ms/step - loss: 0.0105 - val_loss: 0.0012 - lr: 1.0000e-07\n"
          ]
        }
      ]
    },
    {
      "cell_type": "code",
      "source": [
        "# Convert X_test and y_test to Numpy arrays if they are not already\n",
        "X_test = np.array(X_test)\n",
        "y_test = np.array(y_test)\n",
        "\n",
        "# Ensure X_test is reshaped similarly to how X_train was reshaped\n",
        "# This depends on how you preprocessed the training data\n",
        "X_test = np.reshape(X_test, (X_test.shape[0], X_test.shape[1], 1))\n",
        "\n",
        "# Now evaluate the model on the test data\n",
        "test_loss = model.evaluate(X_test, y_test)\n",
        "print(\"Test Loss: \", test_loss)"
      ],
      "metadata": {
        "colab": {
          "base_uri": "https://localhost:8080/"
        },
        "id": "pcTciRHMyasy",
        "outputId": "fe156aa7-954d-41a1-fca3-baafbbe2e9e1"
      },
      "execution_count": 17,
      "outputs": [
        {
          "output_type": "stream",
          "name": "stdout",
          "text": [
            "6/6 [==============================] - 0s 19ms/step - loss: 0.0074\n",
            "Test Loss:  0.007372722029685974\n"
          ]
        }
      ]
    },
    {
      "cell_type": "code",
      "source": [
        "import yfinance as yf\n",
        "import numpy as np\n",
        "from sklearn.preprocessing import MinMaxScaler\n",
        "\n",
        "# Fetching the latest 60 days of AAPL stock data\n",
        "data = yf.download('AAPL', period='60d', interval='1d')\n",
        "\n",
        "# Selecting the 'Close' price and converting to numpy array\n",
        "closing_prices = data['Close'].values\n",
        "\n",
        "# Scaling the data\n",
        "scaler = MinMaxScaler(feature_range=(0,1))\n",
        "scaled_data = scaler.fit_transform(closing_prices.reshape(-1,1))\n",
        "\n",
        "# Since we need the last 60 days to predict the next day, we reshape the data accordingly\n",
        "X_latest = np.array([scaled_data[-60:].reshape(60)])\n",
        "\n",
        "# Reshaping the data for the model (adding batch dimension)\n",
        "X_latest = np.reshape(X_latest, (X_latest.shape[0], X_latest.shape[1], 1))\n",
        "\n",
        "# Making predictions for the next 4 candles\n",
        "predicted_stock_price = model.predict(X_latest)\n",
        "predicted_stock_price = scaler.inverse_transform(predicted_stock_price)\n",
        "\n",
        "print(\"Predicted Stock Prices for the next 4 days: \", predicted_stock_price)"
      ],
      "metadata": {
        "colab": {
          "base_uri": "https://localhost:8080/"
        },
        "id": "KIo7jzKTydGw",
        "outputId": "3f020905-13cb-4f95-b6bd-961301833260"
      },
      "execution_count": 19,
      "outputs": [
        {
          "output_type": "stream",
          "name": "stderr",
          "text": [
            "\r[*********************100%%**********************]  1 of 1 completed"
          ]
        },
        {
          "output_type": "stream",
          "name": "stdout",
          "text": [
            "1/1 [==============================] - 0s 44ms/step\n",
            "Predicted Stock Prices for the next 4 days:  [[170.53]]\n"
          ]
        },
        {
          "output_type": "stream",
          "name": "stderr",
          "text": [
            "\n"
          ]
        }
      ]
    },
    {
      "cell_type": "code",
      "source": [
        "import yfinance as yf\n",
        "import numpy as np\n",
        "from sklearn.preprocessing import MinMaxScaler\n",
        "\n",
        "# Fetch the latest 60 days of AAPL stock data\n",
        "data = yf.download('AAPL', period='60d', interval='1d')\n",
        "\n",
        "# Select 'Close' price and scale it\n",
        "closing_prices = data['Close'].values.reshape(-1, 1)\n",
        "scaler = MinMaxScaler(feature_range=(0, 1))\n",
        "scaled_data = scaler.fit_transform(closing_prices)\n",
        "\n",
        "# Predict the next 4 days iteratively\n",
        "predicted_prices = []\n",
        "current_batch = scaled_data[-60:].reshape(1, 60, 1)  # Most recent 60 days\n",
        "\n",
        "for i in range(4):  # Predicting 4 days\n",
        "    # Get the prediction (next day)\n",
        "    next_prediction = model.predict(current_batch)\n",
        "\n",
        "    # Reshape the prediction to fit the batch dimension\n",
        "    next_prediction_reshaped = next_prediction.reshape(1, 1, 1)\n",
        "\n",
        "    # Append the prediction to the batch used for predicting\n",
        "    current_batch = np.append(current_batch[:, 1:, :], next_prediction_reshaped, axis=1)\n",
        "\n",
        "    # Inverse transform the prediction to the original price scale\n",
        "    predicted_prices.append(scaler.inverse_transform(next_prediction)[0, 0])\n",
        "\n",
        "print(\"Predicted Stock Prices for the next 4 days: \", predicted_prices)"
      ],
      "metadata": {
        "colab": {
          "base_uri": "https://localhost:8080/"
        },
        "id": "adQMiIrzyke6",
        "outputId": "4fbeb157-5eb2-42e0-b832-2946378c5875"
      },
      "execution_count": 20,
      "outputs": [
        {
          "output_type": "stream",
          "name": "stderr",
          "text": [
            "\r[*********************100%%**********************]  1 of 1 completed\n"
          ]
        },
        {
          "output_type": "stream",
          "name": "stdout",
          "text": [
            "1/1 [==============================] - 0s 40ms/step\n",
            "1/1 [==============================] - 0s 37ms/step\n",
            "1/1 [==============================] - 0s 37ms/step\n",
            "1/1 [==============================] - 0s 38ms/step\n",
            "Predicted Stock Prices for the next 4 days:  [170.53, 170.03433, 170.64119, 171.88498]\n"
          ]
        }
      ]
    },
    {
      "cell_type": "code",
      "source": [
        "!pip install mplfinance -qqq\n",
        "import pandas as pd\n",
        "import mplfinance as mpf\n",
        "import matplotlib.dates as mpl_dates\n",
        "import matplotlib.pyplot as plt\n",
        "\n",
        "# Assuming 'data' is your DataFrame with the fetched AAPL stock data\n",
        "# Make sure it contains Open, High, Low, Close, and Volume columns\n",
        "\n",
        "# Creating a list of dates for the predictions\n",
        "last_date = data.index[-1]\n",
        "next_day = last_date + pd.Timedelta(days=1)\n",
        "prediction_dates = pd.date_range(start=next_day, periods=4)\n",
        "\n",
        "# Assuming 'predicted_prices' is your list of predicted prices for the next 4 days\n",
        "predictions_df = pd.DataFrame(index=prediction_dates, data=predicted_prices, columns=['Close'])\n",
        "\n",
        "# Plotting the actual data with mplfinance\n",
        "mpf.plot(data, type='candle', style='charles', volume=True)\n",
        "\n",
        "# Overlaying the predicted data\n",
        "plt.figure(figsize=(10,6))\n",
        "plt.plot(predictions_df.index, predictions_df['Close'], linestyle='dashed', marker='o', color='red')\n",
        "\n",
        "plt.title(\"AAPL Stock Price with Predicted Next 4 Days\")\n",
        "plt.show()"
      ],
      "metadata": {
        "colab": {
          "base_uri": "https://localhost:8080/",
          "height": 1000
        },
        "id": "wzWaLKMDym7y",
        "outputId": "13c4dc9e-331a-4fe4-c702-86b20e2e3c87"
      },
      "execution_count": 21,
      "outputs": [
        {
          "output_type": "stream",
          "name": "stdout",
          "text": [
            "\u001b[?25l     \u001b[90m━━━━━━━━━━━━━━━━━━━━━━━━━━━━━━━━━━━━━━━━\u001b[0m \u001b[32m0.0/75.0 kB\u001b[0m \u001b[31m?\u001b[0m eta \u001b[36m-:--:--\u001b[0m\r\u001b[2K     \u001b[90m━━━━━━━━━━━━━━━━━━━━━━━━━━━━━━━━━━━━━━━━\u001b[0m \u001b[32m75.0/75.0 kB\u001b[0m \u001b[31m2.1 MB/s\u001b[0m eta \u001b[36m0:00:00\u001b[0m\n",
            "\u001b[?25h"
          ]
        },
        {
          "output_type": "display_data",
          "data": {
            "text/plain": [
              "<Figure size 800x575 with 4 Axes>"
            ],
            "image/png": "[encoded data removed]"
          },
          "metadata": {}
        },
        {
          "output_type": "display_data",
          "data": {
            "text/plain": [
              "<Figure size 1000x600 with 1 Axes>"
            ],
            "image/png": "[encoded data removed]"
          },
          "metadata": {}
        }
      ]
    },
    {
      "cell_type": "code",
      "source": [
        "import pandas as pd\n",
        "import mplfinance as mpf\n",
        "import matplotlib.dates as mpl_dates\n",
        "import matplotlib.pyplot as plt\n",
        "\n",
        "# Fetch the latest 60 days of AAPL stock data\n",
        "data = yf.download('AAPL', period='64d', interval='1d') # Fetch 64 days to display last 60 days in the chart\n",
        "\n",
        "# Select 'Close' price and scale it\n",
        "closing_prices = data['Close'].values.reshape(-1, 1)\n",
        "scaler = MinMaxScaler(feature_range=(0, 1))\n",
        "scaled_data = scaler.fit_transform(closing_prices)\n",
        "\n",
        "# Predict the next 4 days iteratively\n",
        "predicted_prices = []\n",
        "current_batch = scaled_data[-60:].reshape(1, 60, 1)  # Most recent 60 days\n",
        "\n",
        "for i in range(4):  # Predicting 4 days\n",
        "    next_prediction = model.predict(current_batch)\n",
        "    next_prediction_reshaped = next_prediction.reshape(1, 1, 1)\n",
        "    current_batch = np.append(current_batch[:, 1:, :], next_prediction_reshaped, axis=1)\n",
        "    predicted_prices.append(scaler.inverse_transform(next_prediction)[0, 0])\n",
        "\n",
        "# Creating a list of dates for the predictions\n",
        "last_date = data.index[-1]\n",
        "next_day = last_date + pd.Timedelta(days=1)\n",
        "prediction_dates = pd.date_range(start=next_day, periods=4)\n",
        "\n",
        "# Adding predictions to the DataFrame\n",
        "predicted_data = pd.DataFrame(index=prediction_dates, data=predicted_prices, columns=['Close'])\n",
        "\n",
        "# Combining both actual and predicted data\n",
        "combined_data = pd.concat([data['Close'], predicted_data['Close']])\n",
        "combined_data = combined_data[-64:] # Last 60 days of actual data + 4 days of predictions\n",
        "\n",
        "# Plotting the actual data\n",
        "plt.figure(figsize=(10,6))\n",
        "plt.plot(data.index[-60:], data['Close'][-60:], linestyle='-', marker='o', color='blue', label='Actual Data')\n",
        "\n",
        "# Plotting the predicted data\n",
        "plt.plot(prediction_dates, predicted_prices, linestyle='-', marker='o', color='red', label='Predicted Data')\n",
        "\n",
        "plt.title(\"AAPL Stock Price: Last 60 Days and Next 4 Days Predicted\")\n",
        "plt.xlabel('Date')\n",
        "plt.ylabel('Price')\n",
        "plt.legend()\n",
        "plt.show()"
      ],
      "metadata": {
        "colab": {
          "base_uri": "https://localhost:8080/",
          "height": 653
        },
        "id": "1iAuesKpyoOY",
        "outputId": "4d7cc146-0def-4223-866d-e7a6e15e8649"
      },
      "execution_count": 22,
      "outputs": [
        {
          "output_type": "stream",
          "name": "stderr",
          "text": [
            "\r[*********************100%%**********************]  1 of 1 completed"
          ]
        },
        {
          "output_type": "stream",
          "name": "stdout",
          "text": [
            "1/1 [==============================] - 0s 26ms/step\n",
            "1/1 [==============================] - 0s 26ms/step\n"
          ]
        },
        {
          "output_type": "stream",
          "name": "stderr",
          "text": [
            "\n"
          ]
        },
        {
          "output_type": "stream",
          "name": "stdout",
          "text": [
            "1/1 [==============================] - 0s 27ms/step\n",
            "1/1 [==============================] - 0s 37ms/step\n"
          ]
        },
        {
          "output_type": "display_data",
          "data": {
            "text/plain": [
              "<Figure size 1000x600 with 1 Axes>"
            ],
            "image/png": "[encoded data removed]"
          },
          "metadata": {}
        }
      ]
    }
  ]
}