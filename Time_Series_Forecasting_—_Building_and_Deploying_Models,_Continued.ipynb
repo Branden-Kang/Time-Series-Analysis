{
  "nbformat": 4,
  "nbformat_minor": 0,
  "metadata": {
    "colab": {
      "name": "Time Series Forecasting — Building and Deploying Models, Continued.ipynb",
      "provenance": [],
      "authorship_tag": "ABX9TyNumo+FdCyOaBwYouhpx09H"
    },
    "kernelspec": {
      "name": "python3",
      "display_name": "Python 3"
    },
    "language_info": {
      "name": "python"
    }
  },
  "cells": [
    {
      "cell_type": "markdown",
      "source": [
        "[Reference](https://pub.towardsai.net/time-series-forecasting-building-and-deploying-models-continued-deee0588b28c)"
      ],
      "metadata": {
        "id": "7jVoLe0JCq5y"
      }
    },
    {
      "cell_type": "markdown",
      "source": [
        "# ARIMA\n"
      ],
      "metadata": {
        "id": "6KRB9ZbDCtge"
      }
    },
    {
      "cell_type": "code",
      "execution_count": 1,
      "metadata": {
        "id": "yF0mtDnrCpSQ"
      },
      "outputs": [],
      "source": [
        "# Import label data from profile.txt file in UCI repository  and name columns\n",
        "label = pd.read_csv(\".hyddata\\\\profile.txt\",delim_whitespace=True,header=None)\n",
        "label.columns = ['cooler_condition', 'valve_condition', 'pump_leak', 'hydraulic_accumulator', 'stable_flag']\n",
        "# Split label into training, then import and fit ARIMA model\n",
        "label_train, label_test = label.loc[:1000,:], label.loc[1001:,:]\n",
        "from statsmodels.tsa.arima.model import ARIMA\n",
        "hydmodel = ARIMA(label_train['hydraulic_accumulator'],order=(100,0,0))\n",
        "hydmodel_fit = hydmodel.fit()"
      ]
    },
    {
      "cell_type": "code",
      "source": [
        "resids = DataFrame(hydmodel_fit.resid)\n",
        "resids.plot(kind='kde')"
      ],
      "metadata": {
        "id": "NbG2I3gMDZR2"
      },
      "execution_count": 2,
      "outputs": []
    },
    {
      "cell_type": "code",
      "source": [
        "resids.describe()"
      ],
      "metadata": {
        "id": "gBRrTsrcDopI"
      },
      "execution_count": 3,
      "outputs": []
    },
    {
      "cell_type": "code",
      "source": [
        "preds = hydmodel_fit.forecast(100)\n",
        "\n",
        "from sklearn.metrics import mean_absolute_error\n",
        "mean_absolute_error(label_test_hyd[:100].values,preds)"
      ],
      "metadata": {
        "id": "h-eDVUdCDsCL"
      },
      "execution_count": 5,
      "outputs": []
    },
    {
      "cell_type": "code",
      "source": [
        "leakpreds = leakmodel_fit.forecast(100)\n",
        "mean_absolute_error(label_test_leak[:100].values,leakpreds)"
      ],
      "metadata": {
        "id": "HvMFD8TWD2yv"
      },
      "execution_count": 6,
      "outputs": []
    },
    {
      "cell_type": "markdown",
      "source": [
        "# Auto ML\n"
      ],
      "metadata": {
        "id": "9bp0KSgvDbDx"
      }
    },
    {
      "cell_type": "code",
      "source": [
        "%pip install h2o\n",
        "import h2o\n",
        "from h2o.automl import H2OAutoML\n",
        "h2o.init(ip=\"127.0.0.1\", port=\"8080\")"
      ],
      "metadata": {
        "id": "evmGODOwD_qL"
      },
      "execution_count": 7,
      "outputs": []
    },
    {
      "cell_type": "code",
      "source": [
        "# Creating combined dataframe of labels and features, then splitting into training and testing sets.\n",
        "combined_extracted = extracted_features.join(label)\n",
        "combined_extracted.reset_index(inplace=True)\n",
        "train_extracted = combined_extracted.iloc[:1100,:]\n",
        "test_extracted = combined_extracted.iloc[1101:,:]\n",
        "# Below: creating H2Oframes for use in modeling\n",
        "hf_train_extracted = h2o.H2OFrame(train_extracted)\n",
        "hf_test_extracted = h2o.H2OFrame(test_extracted)\n",
        "# Below: declare independent (X) and dependent (y) variables\n",
        "y = 'hydraulic_accumulator'\n",
        "X = hf_train_extracted.columns\n",
        "X.remove(y)"
      ],
      "metadata": {
        "id": "xbZihQ0WEBKI"
      },
      "execution_count": 8,
      "outputs": []
    },
    {
      "cell_type": "code",
      "source": [
        "aml_search_hyd = H2OAutoML(max_runtime_secs = 600)\n",
        "aml_search_hyd.train(x = X, \n",
        "          y = y,\n",
        "          training_frame = hf_train_extracted,\n",
        "          leaderboard_frame = hf_test_extracted)\n",
        "aml_search_hyd.leaderboard\n",
        "# Code above declares and fits H2O Auto ML model on training set, and asks for a leaderboard of top performers using test set.\n",
        "# Repeating earlier process below, but now for pump leakage as dependent variable.\n",
        "yleak = 'pump_leak'\n",
        "aml_search_pump = H2OAutoML(max_runtime_secs = 600)\n",
        "aml_search_pump.train(x = X, \n",
        "          y = yleak,\n",
        "          training_frame = hf_train_extracted,\n",
        "          leaderboard_frame = hf_test_extracted)\n",
        "aml_search_pump.leaderboard"
      ],
      "metadata": {
        "id": "KHgAUJEIEE1o"
      },
      "execution_count": 9,
      "outputs": []
    }
  ]
}