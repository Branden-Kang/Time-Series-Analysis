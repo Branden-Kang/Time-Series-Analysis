{
  "nbformat": 4,
  "nbformat_minor": 0,
  "metadata": {
    "colab": {
      "provenance": [],
      "authorship_tag": "ABX9TyPdhOUbRMObuVsozHHs+y+J"
    },
    "kernelspec": {
      "name": "python3",
      "display_name": "Python 3"
    },
    "language_info": {
      "name": "python"
    }
  },
  "cells": [
    {
      "cell_type": "markdown",
      "source": [
        "[Reference](https://medium.com/@pv1g15/predicting-stock-prices-afd6781c898e)"
      ],
      "metadata": {
        "id": "9fUFmdE_774i"
      }
    },
    {
      "cell_type": "code",
      "source": [
        "!pip install finta"
      ],
      "metadata": {
        "colab": {
          "base_uri": "https://localhost:8080/"
        },
        "id": "NP0FiqFe8FWK",
        "outputId": "1ed8a557-2e1a-4dc5-a41a-33d9f7d228e4"
      },
      "execution_count": 3,
      "outputs": [
        {
          "output_type": "stream",
          "name": "stdout",
          "text": [
            "Looking in indexes: https://pypi.org/simple, https://us-python.pkg.dev/colab-wheels/public/simple/\n",
            "Collecting finta\n",
            "  Downloading finta-1.3-py3-none-any.whl (29 kB)\n",
            "Requirement already satisfied: numpy in /usr/local/lib/python3.7/dist-packages (from finta) (1.21.6)\n",
            "Requirement already satisfied: pandas in /usr/local/lib/python3.7/dist-packages (from finta) (1.3.5)\n",
            "Requirement already satisfied: python-dateutil>=2.7.3 in /usr/local/lib/python3.7/dist-packages (from pandas->finta) (2.8.2)\n",
            "Requirement already satisfied: pytz>=2017.3 in /usr/local/lib/python3.7/dist-packages (from pandas->finta) (2022.5)\n",
            "Requirement already satisfied: six>=1.5 in /usr/local/lib/python3.7/dist-packages (from python-dateutil>=2.7.3->pandas->finta) (1.15.0)\n",
            "Installing collected packages: finta\n",
            "Successfully installed finta-1.3\n"
          ]
        }
      ]
    },
    {
      "cell_type": "code",
      "source": [
        "!pip install --upgrade pandas\n",
        "!pip install --upgrade pandas-datareader"
      ],
      "metadata": {
        "colab": {
          "base_uri": "https://localhost:8080/",
          "height": 599
        },
        "id": "PYON7stg8hE9",
        "outputId": "1ed762a7-545f-4ea8-c659-4f648ca4d800"
      },
      "execution_count": 6,
      "outputs": [
        {
          "output_type": "stream",
          "name": "stdout",
          "text": [
            "Looking in indexes: https://pypi.org/simple, https://us-python.pkg.dev/colab-wheels/public/simple/\n",
            "Requirement already satisfied: pandas in /usr/local/lib/python3.7/dist-packages (1.3.5)\n",
            "Requirement already satisfied: pytz>=2017.3 in /usr/local/lib/python3.7/dist-packages (from pandas) (2022.5)\n",
            "Requirement already satisfied: numpy>=1.17.3 in /usr/local/lib/python3.7/dist-packages (from pandas) (1.21.6)\n",
            "Requirement already satisfied: python-dateutil>=2.7.3 in /usr/local/lib/python3.7/dist-packages (from pandas) (2.8.2)\n",
            "Requirement already satisfied: six>=1.5 in /usr/local/lib/python3.7/dist-packages (from python-dateutil>=2.7.3->pandas) (1.15.0)\n",
            "Looking in indexes: https://pypi.org/simple, https://us-python.pkg.dev/colab-wheels/public/simple/\n",
            "Requirement already satisfied: pandas-datareader in /usr/local/lib/python3.7/dist-packages (0.9.0)\n",
            "Collecting pandas-datareader\n",
            "  Downloading pandas_datareader-0.10.0-py3-none-any.whl (109 kB)\n",
            "\u001b[K     |████████████████████████████████| 109 kB 8.7 MB/s \n",
            "\u001b[?25hRequirement already satisfied: pandas>=0.23 in /usr/local/lib/python3.7/dist-packages (from pandas-datareader) (1.3.5)\n",
            "Requirement already satisfied: lxml in /usr/local/lib/python3.7/dist-packages (from pandas-datareader) (4.9.1)\n",
            "Requirement already satisfied: requests>=2.19.0 in /usr/local/lib/python3.7/dist-packages (from pandas-datareader) (2.23.0)\n",
            "Requirement already satisfied: python-dateutil>=2.7.3 in /usr/local/lib/python3.7/dist-packages (from pandas>=0.23->pandas-datareader) (2.8.2)\n",
            "Requirement already satisfied: pytz>=2017.3 in /usr/local/lib/python3.7/dist-packages (from pandas>=0.23->pandas-datareader) (2022.5)\n",
            "Requirement already satisfied: numpy>=1.17.3 in /usr/local/lib/python3.7/dist-packages (from pandas>=0.23->pandas-datareader) (1.21.6)\n",
            "Requirement already satisfied: six>=1.5 in /usr/local/lib/python3.7/dist-packages (from python-dateutil>=2.7.3->pandas>=0.23->pandas-datareader) (1.15.0)\n",
            "Requirement already satisfied: certifi>=2017.4.17 in /usr/local/lib/python3.7/dist-packages (from requests>=2.19.0->pandas-datareader) (2022.9.24)\n",
            "Requirement already satisfied: idna<3,>=2.5 in /usr/local/lib/python3.7/dist-packages (from requests>=2.19.0->pandas-datareader) (2.10)\n",
            "Requirement already satisfied: chardet<4,>=3.0.2 in /usr/local/lib/python3.7/dist-packages (from requests>=2.19.0->pandas-datareader) (3.0.4)\n",
            "Requirement already satisfied: urllib3!=1.25.0,!=1.25.1,<1.26,>=1.21.1 in /usr/local/lib/python3.7/dist-packages (from requests>=2.19.0->pandas-datareader) (1.24.3)\n",
            "Installing collected packages: pandas-datareader\n",
            "  Attempting uninstall: pandas-datareader\n",
            "    Found existing installation: pandas-datareader 0.9.0\n",
            "    Uninstalling pandas-datareader-0.9.0:\n",
            "      Successfully uninstalled pandas-datareader-0.9.0\n",
            "Successfully installed pandas-datareader-0.10.0\n"
          ]
        },
        {
          "output_type": "display_data",
          "data": {
            "application/vnd.colab-display-data+json": {
              "pip_warning": {
                "packages": [
                  "pandas_datareader"
                ]
              }
            }
          },
          "metadata": {}
        }
      ]
    },
    {
      "cell_type": "code",
      "source": [
        "import datetime as dt\n",
        "from finta import TA\n",
        "\n",
        "import pandas as pd\n",
        "from pandas_datareader import data as web\n",
        "import numpy as np\n",
        "\n",
        "import matplotlib.pyplot as plt\n",
        "import seaborn as sns\n",
        "\n",
        "from sklearn import preprocessing\n",
        "from sklearn.metrics import mean_squared_error\n",
        "from numpy import size\n",
        "from sklearn.model_selection import train_test_split\n",
        "from sklearn.preprocessing import MinMaxScaler\n",
        "\n",
        "import tensorflow as tf\n",
        "\n",
        "import keras\n",
        "from keras.models import Sequential\n",
        "from keras.models import Model\n",
        "from keras.layers import Dense, Dropout, LSTM, Input, Activation, concatenate\n",
        "from keras import optimizers\n",
        "from keras.callbacks import History "
      ],
      "metadata": {
        "id": "1MbEGuX28Amz"
      },
      "execution_count": 1,
      "outputs": []
    },
    {
      "cell_type": "code",
      "execution_count": 2,
      "metadata": {
        "id": "4NRvV_0u7rVH"
      },
      "outputs": [],
      "source": [
        "def get_stock_data(symbol, start_date, end_date):\n",
        "    '''\n",
        "    download stock data over from yahoo api form start date to end date\n",
        "    input\n",
        "        stock - String representing stock symbol eg APPL\n",
        "        start - datetime object represent start date; default Jan 1, 2010\n",
        "        end - datetime object represent end date; default: Jan 1, 2020\n",
        "    output\n",
        "        historical stock data pulled from yahoo finance stock api from start to end dates\n",
        "    '''\n",
        "    stockData = web.DataReader(symbol, 'yahoo', start_date, end_date)\n",
        "    \n",
        "    return stockData\n",
        "\n",
        "start_date = dt.datetime(2004, 10, 1)\n",
        "end_date = dt.datetime(2022, 10, 1)\n",
        "df_GOOG = get_stock_data('GOOG',start_date, end_date)"
      ]
    },
    {
      "cell_type": "code",
      "source": [
        "# split a multivariate sequence into samples\n",
        "def split_sequences(sequences, n_steps):\n",
        "\t'''\n",
        "\tA method for preprocessing arrays for LSTM modelling. The sequence will be split into two:\n",
        "\t- A tensor containing groups of all the variables of a user-defined set of time-steps before the price to be predicted\n",
        "\t- A matrix containing the prices to be predicted\n",
        "\n",
        "\tArgs:\n",
        "\t-sequences - the sequence to be pre-processed\n",
        "\t-n_steps - user-defined time-steps before the predicted price\n",
        "\n",
        "\tOutput:\n",
        "\tX - the tensor\n",
        "\ty - the matrix \n",
        "\t'''\n",
        "\n",
        "\tX, y = list(), list()\n",
        "\tfor i in range(len(sequences)):\n",
        "\t\t# find the end of this pattern\n",
        "\t\tend_ix = i + n_steps\n",
        "\t\t# check if we are beyond the dataset\n",
        "\t\tif end_ix > len(sequences):\n",
        "\t\t\tbreak\n",
        "\t\t# gather input and output parts of the pattern\n",
        "\t\tseq_x, seq_y = sequences[i:end_ix, :-1], sequences[end_ix-1, -1]\n",
        "\t\tX.append(seq_x)\n",
        "\t\ty.append(seq_y)\n",
        "\treturn np.array(X), np.array(y)"
      ],
      "metadata": {
        "id": "NJCrmDy68LW_"
      },
      "execution_count": 3,
      "outputs": []
    },
    {
      "cell_type": "code",
      "source": [
        "def build_lstm(X_train, y_train):\n",
        "\n",
        "    \n",
        "    '''\n",
        "    A method to train an LSTM model using 4 LSTM layers, 1 Dense layer and a relu activation function\n",
        "\n",
        "    Args:\n",
        "    X_train - training variables\n",
        "    y_train - training prices\n",
        "\n",
        "    Output:\n",
        "    model - a trained LSTM model used for predicting y_test\n",
        "    '''\n",
        "    model = Sequential()\n",
        "    #Adding the first LSTM layer and some Dropout regularisation\n",
        "    model.add(LSTM(units = 70, return_sequences = True, input_shape = (X_train.shape[1], 10)))\n",
        "    model.add(Dropout(0.2))\n",
        "    # Adding a second LSTM layer and some Dropout regularisation\n",
        "    model.add(LSTM(units = 70, return_sequences = True))\n",
        "    model.add(Dropout(0.2))\n",
        "    # Adding a third LSTM layer and some Dropout regularisation\n",
        "    model.add(LSTM(units = 70, return_sequences = True))\n",
        "    model.add(Dropout(0.2))\n",
        "    # Adding a fourth LSTM layer and some Dropout regularisation\n",
        "    model.add(LSTM(units = 70))\n",
        "    model.add(Dropout(0.2))\n",
        "    # Adding the output layer\n",
        "    model.add(Dense(units = 1))\n",
        "    model.add(Activation('relu'))\n",
        "\n",
        "    # Compiling the RNN\n",
        "    model.compile(optimizer = 'adam', loss = 'mean_squared_error')\n",
        "\n",
        "    # Fitting the RNN to the Training set\n",
        "    model.fit(X_train, y_train, epochs = 25, batch_size = 32)\n",
        "\n",
        "    return model"
      ],
      "metadata": {
        "id": "C1_OU00i8Md5"
      },
      "execution_count": 4,
      "outputs": []
    },
    {
      "cell_type": "code",
      "source": [
        "# X_train, X_test, y_train, y_test, y_test_norm, split_index, days_prior = data_preprocessing(df_GOOG, 21, 0.7)\n",
        "# model = build_lstm(X_train, y_train)\n",
        "# predicted_stock_price = model.predict(X_test)"
      ],
      "metadata": {
        "id": "vmFUjrXM8lr4"
      },
      "execution_count": 6,
      "outputs": []
    }
  ]
}