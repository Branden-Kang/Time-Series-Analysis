{
  "nbformat": 4,
  "nbformat_minor": 0,
  "metadata": {
    "colab": {
      "provenance": [],
      "collapsed_sections": [],
      "authorship_tag": "ABX9TyP8MCxcY0r8sW4K6T73I6TO"
    },
    "kernelspec": {
      "name": "python3",
      "display_name": "Python 3"
    },
    "language_info": {
      "name": "python"
    }
  },
  "cells": [
    {
      "cell_type": "markdown",
      "source": [
        "[Reference](https://moez-62905.medium.com/top-python-libraries-for-time-series-analysis-in-2022-eebe95913085)"
      ],
      "metadata": {
        "id": "tdnyKpg2VynK"
      }
    },
    {
      "cell_type": "markdown",
      "source": [
        "# sktime\n"
      ],
      "metadata": {
        "id": "fF_qsJofV31J"
      }
    },
    {
      "cell_type": "code",
      "source": [
        "!pip install sktime"
      ],
      "metadata": {
        "colab": {
          "base_uri": "https://localhost:8080/"
        },
        "id": "GNmYG7PsV9SZ",
        "outputId": "80aca007-d101-46f1-8841-c1f985ee95f5"
      },
      "execution_count": 1,
      "outputs": [
        {
          "output_type": "stream",
          "name": "stdout",
          "text": [
            "Looking in indexes: https://pypi.org/simple, https://us-python.pkg.dev/colab-wheels/public/simple/\n",
            "Collecting sktime\n",
            "  Downloading sktime-0.13.4-py3-none-any.whl (7.0 MB)\n",
            "\u001b[K     |████████████████████████████████| 7.0 MB 27.6 MB/s \n",
            "\u001b[?25hRequirement already satisfied: numba>=0.53 in /usr/local/lib/python3.7/dist-packages (from sktime) (0.56.2)\n",
            "Requirement already satisfied: scikit-learn<1.2.0,>=0.24.0 in /usr/local/lib/python3.7/dist-packages (from sktime) (1.0.2)\n",
            "Requirement already satisfied: statsmodels>=0.12.1 in /usr/local/lib/python3.7/dist-packages (from sktime) (0.12.2)\n",
            "Requirement already satisfied: pandas<1.6.0,>=1.1.0 in /usr/local/lib/python3.7/dist-packages (from sktime) (1.3.5)\n",
            "Requirement already satisfied: scipy<1.9.0 in /usr/local/lib/python3.7/dist-packages (from sktime) (1.7.3)\n",
            "Collecting deprecated>=1.2.13\n",
            "  Downloading Deprecated-1.2.13-py2.py3-none-any.whl (9.6 kB)\n",
            "Requirement already satisfied: numpy<1.23,>=1.21.0 in /usr/local/lib/python3.7/dist-packages (from sktime) (1.21.6)\n",
            "Requirement already satisfied: wrapt<2,>=1.10 in /usr/local/lib/python3.7/dist-packages (from deprecated>=1.2.13->sktime) (1.14.1)\n",
            "Requirement already satisfied: importlib-metadata in /usr/local/lib/python3.7/dist-packages (from numba>=0.53->sktime) (4.12.0)\n",
            "Requirement already satisfied: setuptools<60 in /usr/local/lib/python3.7/dist-packages (from numba>=0.53->sktime) (57.4.0)\n",
            "Requirement already satisfied: llvmlite<0.40,>=0.39.0dev0 in /usr/local/lib/python3.7/dist-packages (from numba>=0.53->sktime) (0.39.1)\n",
            "Requirement already satisfied: pytz>=2017.3 in /usr/local/lib/python3.7/dist-packages (from pandas<1.6.0,>=1.1.0->sktime) (2022.2.1)\n",
            "Requirement already satisfied: python-dateutil>=2.7.3 in /usr/local/lib/python3.7/dist-packages (from pandas<1.6.0,>=1.1.0->sktime) (2.8.2)\n",
            "Requirement already satisfied: six>=1.5 in /usr/local/lib/python3.7/dist-packages (from python-dateutil>=2.7.3->pandas<1.6.0,>=1.1.0->sktime) (1.15.0)\n",
            "Requirement already satisfied: joblib>=0.11 in /usr/local/lib/python3.7/dist-packages (from scikit-learn<1.2.0,>=0.24.0->sktime) (1.1.0)\n",
            "Requirement already satisfied: threadpoolctl>=2.0.0 in /usr/local/lib/python3.7/dist-packages (from scikit-learn<1.2.0,>=0.24.0->sktime) (3.1.0)\n",
            "Requirement already satisfied: patsy>=0.5 in /usr/local/lib/python3.7/dist-packages (from statsmodels>=0.12.1->sktime) (0.5.2)\n",
            "Requirement already satisfied: zipp>=0.5 in /usr/local/lib/python3.7/dist-packages (from importlib-metadata->numba>=0.53->sktime) (3.8.1)\n",
            "Requirement already satisfied: typing-extensions>=3.6.4 in /usr/local/lib/python3.7/dist-packages (from importlib-metadata->numba>=0.53->sktime) (4.1.1)\n",
            "Installing collected packages: deprecated, sktime\n",
            "Successfully installed deprecated-1.2.13 sktime-0.13.4\n"
          ]
        }
      ]
    },
    {
      "cell_type": "code",
      "execution_count": 2,
      "metadata": {
        "colab": {
          "base_uri": "https://localhost:8080/",
          "height": 312
        },
        "id": "4mPQqJS7VxXC",
        "outputId": "90f3d278-1e20-45a9-b626-3c875542af5e"
      },
      "outputs": [
        {
          "output_type": "execute_result",
          "data": {
            "text/plain": [
              "<matplotlib.legend.Legend at 0x7efe8da87790>"
            ]
          },
          "metadata": {},
          "execution_count": 2
        },
        {
          "output_type": "display_data",
          "data": {
            "text/plain": [
              "<Figure size 432x288 with 1 Axes>"
            ],
            "image/png": "[encoded data removed]"
          },
          "metadata": {
            "needs_background": "light"
          }
        }
      ],
      "source": [
        "from sktime.datasets import load_airline\n",
        "from sktime.forecasting.model_selection import temporal_train_test_split\n",
        "# from sktime.utils.plotting.forecasting import plot_ys\n",
        "import matplotlib.pyplot as plt\n",
        "y = load_airline()\n",
        "y_train, y_test = temporal_train_test_split(y)\n",
        "plt.title('Airline Data with Train and Test')\n",
        "y_train.plot(label = 'train')\n",
        "y_test.plot(label = 'test')\n",
        "plt.legend()"
      ]
    },
    {
      "cell_type": "markdown",
      "source": [
        "# pmdarima\n",
        "pmdarima is a Python library for statistical analysis of time series data. It is based on the ARIMA model and provides a variety of tools for analyzing, forecasting, and visualizing time series data. Pmdarima also provides a variety of tools for working with seasonal data, including a seasonality test and a seasonal decomposition tool."
      ],
      "metadata": {
        "id": "ENtXZZRsV7k2"
      }
    },
    {
      "cell_type": "markdown",
      "source": [
        "# TSFresh\n",
        "sfresh is a Python package that automates the process of feature extraction from time series. It is based on the idea that the information in a time series can be decomposed into a set of meaningful characteristics, called features. tsfresh takes care of the tedious task of manually extracting these features, and provides tools for automatic feature selection and classification. "
      ],
      "metadata": {
        "id": "b-tCTSMsWEEY"
      }
    },
    {
      "cell_type": "markdown",
      "source": [
        "# Prophet\n",
        "Facebook’s Prophet is a forecasting tool available to anyone with data in CSV format. Prophet is open source software released by Facebook’s Core Data Science team. It is based on an additive model where non-linear trends are fit with yearly, weekly, and daily seasonality, plus holiday effects. It works best with time series that have strong seasonal effects and several seasons of historical data. Prophet is robust to missing data and shifts in the trend, and typically handles outliers well."
      ],
      "metadata": {
        "id": "6fKEvpahWWQh"
      }
    },
    {
      "cell_type": "markdown",
      "source": [
        "# statsforecast\n",
        "Statsforecast offers a collection of widely used univariate time series forecasting models, including automatic ARIMA and ETS modeling optimized for high performance using numba."
      ],
      "metadata": {
        "id": "F6dhsUCUWZhp"
      }
    },
    {
      "cell_type": "markdown",
      "source": [
        "# PyCaret\n",
        "PyCaret is an open-source, low-code machine learning library in Python that automates machine learning workflows. It is an end-to-end machine learning and model management tool that speeds up the experiment cycle exponentially and makes you more productive."
      ],
      "metadata": {
        "id": "e-7lbRIoWdNI"
      }
    }
  ]
}