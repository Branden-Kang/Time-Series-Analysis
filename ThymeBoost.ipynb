{
  "nbformat": 4,
  "nbformat_minor": 0,
  "metadata": {
    "colab": {
      "name": "ThymeBoost.ipynb",
      "provenance": [],
      "authorship_tag": "ABX9TyPdwJtHvG+rE9vvqhCFwNG8"
    },
    "kernelspec": {
      "name": "python3",
      "display_name": "Python 3"
    },
    "language_info": {
      "name": "python"
    }
  },
  "cells": [
    {
      "cell_type": "markdown",
      "source": [
        "[Reference](https://bobrupakroy.medium.com/thymeboost-7248297d3165)"
      ],
      "metadata": {
        "id": "oqJduKz3Ll2b"
      }
    },
    {
      "cell_type": "code",
      "execution_count": 1,
      "metadata": {
        "colab": {
          "base_uri": "https://localhost:8080/"
        },
        "id": "DXEpFgimIBLH",
        "outputId": "72adc011-3072-42fb-f3f5-99cd915cc5e9"
      },
      "outputs": [
        {
          "output_type": "stream",
          "name": "stdout",
          "text": [
            "Collecting ThymeBoost\n",
            "  Downloading ThymeBoost-0.1.7.tar.gz (35 kB)\n",
            "Requirement already satisfied: numpy in /usr/local/lib/python3.7/dist-packages (from ThymeBoost) (1.19.5)\n",
            "Requirement already satisfied: pandas in /usr/local/lib/python3.7/dist-packages (from ThymeBoost) (1.1.5)\n",
            "Requirement already satisfied: statsmodels in /usr/local/lib/python3.7/dist-packages (from ThymeBoost) (0.10.2)\n",
            "Requirement already satisfied: scikit-learn in /usr/local/lib/python3.7/dist-packages (from ThymeBoost) (1.0.1)\n",
            "Requirement already satisfied: scipy in /usr/local/lib/python3.7/dist-packages (from ThymeBoost) (1.4.1)\n",
            "Requirement already satisfied: more-itertools in /usr/local/lib/python3.7/dist-packages (from ThymeBoost) (8.12.0)\n",
            "Requirement already satisfied: matplotlib in /usr/local/lib/python3.7/dist-packages (from ThymeBoost) (3.2.2)\n",
            "Requirement already satisfied: tqdm in /usr/local/lib/python3.7/dist-packages (from ThymeBoost) (4.62.3)\n",
            "Requirement already satisfied: cycler>=0.10 in /usr/local/lib/python3.7/dist-packages (from matplotlib->ThymeBoost) (0.11.0)\n",
            "Requirement already satisfied: python-dateutil>=2.1 in /usr/local/lib/python3.7/dist-packages (from matplotlib->ThymeBoost) (2.8.2)\n",
            "Requirement already satisfied: kiwisolver>=1.0.1 in /usr/local/lib/python3.7/dist-packages (from matplotlib->ThymeBoost) (1.3.2)\n",
            "Requirement already satisfied: pyparsing!=2.0.4,!=2.1.2,!=2.1.6,>=2.0.1 in /usr/local/lib/python3.7/dist-packages (from matplotlib->ThymeBoost) (3.0.6)\n",
            "Requirement already satisfied: six>=1.5 in /usr/local/lib/python3.7/dist-packages (from python-dateutil>=2.1->matplotlib->ThymeBoost) (1.15.0)\n",
            "Requirement already satisfied: pytz>=2017.2 in /usr/local/lib/python3.7/dist-packages (from pandas->ThymeBoost) (2018.9)\n",
            "Requirement already satisfied: joblib>=0.11 in /usr/local/lib/python3.7/dist-packages (from scikit-learn->ThymeBoost) (1.1.0)\n",
            "Requirement already satisfied: threadpoolctl>=2.0.0 in /usr/local/lib/python3.7/dist-packages (from scikit-learn->ThymeBoost) (3.0.0)\n",
            "Requirement already satisfied: patsy>=0.4.0 in /usr/local/lib/python3.7/dist-packages (from statsmodels->ThymeBoost) (0.5.2)\n",
            "Building wheels for collected packages: ThymeBoost\n",
            "  Building wheel for ThymeBoost (setup.py) ... \u001b[?25l\u001b[?25hdone\n",
            "  Created wheel for ThymeBoost: filename=ThymeBoost-0.1.7-py3-none-any.whl size=46133 sha256=9fcaf68e8c4451122f459269791124b1cec49d760605d4e8851af618153f18cf\n",
            "  Stored in directory: /root/.cache/pip/wheels/5d/67/89/34b1b84994544149cfb32ab29735b7064f0a933d0f6a9e23a6\n",
            "Successfully built ThymeBoost\n",
            "Installing collected packages: ThymeBoost\n",
            "Successfully installed ThymeBoost-0.1.7\n"
          ]
        }
      ],
      "source": [
        "pip install ThymeBoost"
      ]
    },
    {
      "cell_type": "code",
      "source": [
        "import numpy as np\n",
        "import pandas as pd \n",
        "import searborn as sns\n",
        "sns.set_style(\"darkgrid\")\n",
        "from matplotlib import pyplot as plt\n",
        "from ThymeBoost import ThymeBoost as tb\n",
        "#load the dataset\n",
        "df = pd.read_csv('AirPassengers.csv')\n",
        "df.index = pd.to_datetime(df['Month'])\n",
        "y = df['Passengers']\n",
        "#we will split the dataset into train and test\n",
        "test_len = int(len(y) * 0.3)\n",
        "al_train, al_test = y.iloc[:-test_len], y.iloc[-test_len:]"
      ],
      "metadata": {
        "id": "RPn6XdKaMRwG"
      },
      "execution_count": 2,
      "outputs": []
    },
    {
      "cell_type": "code",
      "source": [
        "boosted_model = tb.ThymeBoost(verbose=0)\n",
        "output = boosted_model.autofit(al_train,seasonal_period=12)\n",
        "predicted_output = boosted_model.predict(output, len(al_test)) #al_test* is the length of the future dataset. \n",
        "#Here we need to mention the same as test set                            #so that we can compare the predicted and the actual data\n",
        "#evaluation metrics\n",
        "tb_mae = np.mean(np.abs(al_test - predicted_output['predictions']))\n",
        "tb_rmse = (np.mean((al_test - predicted_output['predictions'])**2))**.5\n",
        "tb_mape = np.sum(np.abs(predicted_output['predictions'] - al_test)) / (np.sum((np.abs(al_test))))\n",
        "#to extract the components\n",
        "predicted_output.predicted_seasonality\n",
        "predicted_output.predicted_trend\n",
        "#Plot the components\n",
        "boosted_model.plot_components(output, predicted_output) "
      ],
      "metadata": {
        "id": "tbccNTUzPG_O"
      },
      "execution_count": 3,
      "outputs": []
    },
    {
      "cell_type": "code",
      "source": [
        "#to extract the components\n",
        "predicted_output.predicted_seasonality\n",
        "predicted_output.predicted_trend"
      ],
      "metadata": {
        "id": "ahWnTl0mPMO7"
      },
      "execution_count": 4,
      "outputs": []
    },
    {
      "cell_type": "code",
      "source": [
        "#detect outliers\n",
        "boosted_model = tb.ThymeBoost()\n",
        "output = boosted_model.detect_outliers(al_train,\n",
        "                                       trend_estimator='linear',\n",
        "                                       seasonal_estimator='fourier',\n",
        "                                       seasonal_period=25,\n",
        "                                       global_cost='maicc',\n",
        "                                       fit_type='global')\n",
        "boosted_model.plot_results(output)\n",
        "boosted_model.plot_components(output)"
      ],
      "metadata": {
        "id": "EwSqutr1POPT"
      },
      "execution_count": 5,
      "outputs": []
    },
    {
      "cell_type": "code",
      "source": [
        "#Auto Arima model\n",
        "import pmdarima as pm\n",
        "\n",
        "arima = pm.auto_arima(al_train,\n",
        "                      seasonal=True,\n",
        "                      m=12,\n",
        "                      trace=True,\n",
        "                      error_action='warn',\n",
        "                      n_fits=50)\n",
        "pmd_predictions = arima.predict(n_periods=len(al_test))\n",
        "arima_mae = np.mean(np.abs(al_test - pmd_predictions))\n",
        "arima_rmse = (np.mean((al_test - pmd_predictions)**2))**.5\n",
        "arima_mape = np.sum(np.abs(pmd_predictions - al_test)) / (np.sum((np.abs(al_test))))\n",
        "#Fbprophet\n",
        "from fbprophet import Prophet\n",
        "prophet_train_df = al_train.reset_index()\n",
        "prophet_train_df.columns = ['ds', 'y']\n",
        "prophet = Prophet(seasonality_mode='multiplicative')\n",
        "prophet.fit(prophet_train_df)\n",
        "future_df = prophet.make_future_dataframe(periods=len(al_test), freq='M')\n",
        "prophet_forecast = prophet.predict(future_df)\n",
        "prophet_predictions = prophet_forecast['yhat'].iloc[-len(al_test):]\n",
        "prophet_mae = np.mean(np.abs(al_test - prophet_predictions.values))\n",
        "prophet_rmse = (np.mean((al_test - prophet_predictions.values)**2))**.5\n",
        "prophet_mape = np.sum(np.abs(prophet_predictions.values - al_test)) / (np.sum((np.abs(al_test))))"
      ],
      "metadata": {
        "id": "7NBO1FCAPQcp"
      },
      "execution_count": 6,
      "outputs": []
    },
    {
      "cell_type": "code",
      "source": [
        "# Creating a dictionary\n",
        "d = {'mae': [tb_mae,arima_mae,prophet_mae],\n",
        "     'rmse': [tb_rmse,arima_rmse,prophet_rmse], \n",
        "     'mape': [tb_mape,arima_mape,prophet_mape]} \n",
        "performance = pd.DataFrame(d,index=[\"ThymeBoost\",\"Arima\",\"Fbprophet\"])"
      ],
      "metadata": {
        "id": "EAfyTXYJPSzd"
      },
      "execution_count": 7,
      "outputs": []
    }
  ]
}