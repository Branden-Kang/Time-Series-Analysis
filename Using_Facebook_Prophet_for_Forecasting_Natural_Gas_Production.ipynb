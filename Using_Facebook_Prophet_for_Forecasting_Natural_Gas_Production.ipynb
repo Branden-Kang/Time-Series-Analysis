{
  "nbformat": 4,
  "nbformat_minor": 0,
  "metadata": {
    "colab": {
      "name": "Using Facebook Prophet for Forecasting Natural Gas Production.ipynb",
      "provenance": [],
      "authorship_tag": "ABX9TyM7TqhKPrS4ZAA4BcOBjY1f"
    },
    "kernelspec": {
      "name": "python3",
      "display_name": "Python 3"
    },
    "language_info": {
      "name": "python"
    }
  },
  "cells": [
    {
      "cell_type": "markdown",
      "source": [
        "[Reference](https://medium.com/mlearning-ai/forecast-using-prophet-canadian-natural-gas-production-dataset-b1f9c57548d8)"
      ],
      "metadata": {
        "id": "OJf7emOxP1r9"
      }
    },
    {
      "cell_type": "code",
      "execution_count": 1,
      "metadata": {
        "id": "ox8z8UJRPzXA"
      },
      "outputs": [],
      "source": [
        "from fbprophet import Prophet\n",
        "import pandas as pd\n",
        "import numpy as np\n",
        "import matplotlib.pyplot as plt\n",
        "%matplotlib inline\n",
        "import seaborn as sns\n",
        "import warnings\n",
        "import plotly as py\n",
        "warnings.filterwarnings(\"ignore\")\n",
        "\n",
        "data = pd.read_excel(\"Canada Gas Production.xlsx\")\n",
        "# Check the first 5 elements of the dataframe\n",
        "data.head()\n",
        "\n",
        "# Check if the the data is set up in proper format and then start modeling/forecasting. \n",
        "data.dtypes\n",
        "\n",
        "#Visualize the dataframe i.e. Canadian total production in BPD \n",
        "plt.figure(figsize=(12.5,7))\n",
        "sns.lineplot(data=data, x=\"Date\", y=\"Canada Total\", color='green')\n",
        "plt.title(\"Canadian Natural Gas Production - Cubic Meters Per Day\")\n",
        "plt.grid(True)\n",
        "plt.show()\n",
        "\n",
        "data.columns = [\"ds\",\"y\"]\n",
        "model = Prophet()\n",
        "model.fit(data)\n",
        "\n",
        "future = model.make_future_dataframe(periods= 120, freq='m')\n",
        "future.tail()\n",
        "\n",
        "forecast = model.predict(future)\n",
        "forecast.tail()\n",
        "\n",
        "forecast[[\"ds\",\"yhat\",\"yhat_lower\",\"yhat_upper\"]].head()\n",
        "\n",
        "# Plot the graph of this data to get an understanding of how well forecast looks\n",
        "model.plot(forecast);\n",
        "plt.title(\"Canadian Natural Gas Production - Cubic Meters Per Day\")\n",
        "plt.show()\n",
        "\n",
        "from sklearn.metrics import mean_absolute_error, mean_squared_error, r2_score\n",
        "# calculate MAE between expected and predicted values for next 60 mont\n",
        "y_true = data['y'].values\n",
        "y_pred = forecast['yhat'][:252].values\n",
        "mae = mean_absolute_error(y_true, y_pred)\n",
        "print('MAE: %.3f' % mae)\n",
        "r = r2_score(y_true, y_pred)\n",
        "print('R-squared Score: %.3f' % r)\n",
        "\n",
        "plt.figure(figsize=(12.5,7))\n",
        "# plot expected vs actual\n",
        "plt.plot(y_true, label='Actual')\n",
        "plt.plot(y_pred, label='Predicted')\n",
        "plt.title(\"Canadian Natural Gas Production - Cubic Meters Per Day\")\n",
        "plt.grid(True)\n",
        "plt.legend()\n",
        "plt.show()"
      ]
    }
  ]
}