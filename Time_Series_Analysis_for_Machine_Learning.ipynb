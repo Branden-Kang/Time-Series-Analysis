{
  "nbformat": 4,
  "nbformat_minor": 0,
  "metadata": {
    "colab": {
      "name": "Time Series Analysis for Machine Learning.ipynb",
      "provenance": [],
      "authorship_tag": "ABX9TyNm3WRKkILd8oMssa9z5O3G"
    },
    "kernelspec": {
      "name": "python3",
      "display_name": "Python 3"
    },
    "language_info": {
      "name": "python"
    }
  },
  "cells": [
    {
      "cell_type": "markdown",
      "metadata": {
        "id": "-3Q5_Ixb3AxQ"
      },
      "source": [
        "[Reference](https://towardsdatascience.com/time-series-analysis-for-machine-learning-with-python-626bee0d0205)"
      ]
    },
    {
      "cell_type": "code",
      "metadata": {
        "colab": {
          "base_uri": "https://localhost:8080/"
        },
        "id": "6P7f5dCR1SR0",
        "outputId": "4f4071de-f59a-43be-d7e3-bfb18cb2998c"
      },
      "source": [
        "## For data\n",
        "import pandas as pd\n",
        "import numpy as np\n",
        "\n",
        "## For plotting\n",
        "import matplotlib.pyplot as plt\n",
        "\n",
        "## For outliers detection\n",
        "from sklearn import preprocessing, svm\n",
        "\n",
        "## For stationarity test and decomposition\n",
        "import statsmodels.tsa.api as smt\n",
        "import statsmodels.api as sm"
      ],
      "execution_count": 1,
      "outputs": [
        {
          "output_type": "stream",
          "text": [
            "/usr/local/lib/python3.7/dist-packages/statsmodels/tools/_testing.py:19: FutureWarning: pandas.util.testing is deprecated. Use the functions in the public API at pandas.testing instead.\n",
            "  import pandas.util.testing as tm\n"
          ],
          "name": "stderr"
        }
      ]
    },
    {
      "cell_type": "code",
      "metadata": {
        "id": "_qA0KOin3EVi"
      },
      "source": [
        "df = pd.read_csv('data.csv')\n",
        "\n",
        "df.head()"
      ],
      "execution_count": 2,
      "outputs": []
    },
    {
      "cell_type": "code",
      "metadata": {
        "id": "wy3kDZMC3KE7"
      },
      "source": [
        "## format datetime column\n",
        "df[\"date\"] = pd.to_datetime(df['date'], format='%d.%m.%Y')\n",
        "\n",
        "## create time series\n",
        "ts = df.groupby(\"date\")[\"item_cnt_day\"].sum().rename(\"sales\")\n",
        "\n",
        "ts.head()"
      ],
      "execution_count": 3,
      "outputs": []
    },
    {
      "cell_type": "code",
      "metadata": {
        "id": "RbMVdIwe3QXu"
      },
      "source": [
        "ts.tail()"
      ],
      "execution_count": 4,
      "outputs": []
    },
    {
      "cell_type": "code",
      "metadata": {
        "id": "8lZVCxcZ3Q7Z"
      },
      "source": [
        "ts.plot()"
      ],
      "execution_count": 5,
      "outputs": []
    },
    {
      "cell_type": "code",
      "metadata": {
        "id": "_IKlZEx43TLF"
      },
      "source": [
        "'''\n",
        "Plot ts with rolling mean and 95% confidence interval with rolling std.\n",
        ":parameter    \n",
        "  :param ts: pandas Series    \n",
        "  :param window: num - for rolling stats\n",
        "  :param plot_ma: bool - whether plot moving average\n",
        "  :param plot_intervals: bool - whether plot upper and lower bounds\n",
        "'''\n",
        "def plot_ts(ts, plot_ma=True, plot_intervals=True, window=30,\n",
        "            figsize=(15,5)):    \n",
        "   rolling_mean = ts.rolling(window=window).mean()    \n",
        "   rolling_std = ts.rolling(window=window).std()\n",
        "   plt.figure(figsize=figsize)    \n",
        "   plt.title(ts.name)    \n",
        "   plt.plot(ts[window:], label='Actual values', color=\"black\")    \n",
        "   if plot_ma:        \n",
        "      plt.plot(rolling_mean, 'g', label='MA'+str(window),\n",
        "               color=\"red\")    \n",
        "   if plot_intervals:\n",
        "      lower_bound = rolling_mean - (1.96 * rolling_std)\n",
        "      upper_bound = rolling_mean + (1.96 * rolling_std)\n",
        "   plt.fill_between(x=ts.index, y1=lower_bound, y2=upper_bound,\n",
        "                    color='lightskyblue', alpha=0.4)\n",
        "   plt.legend(loc='best')\n",
        "   plt.grid(True)\n",
        "   plt.show()"
      ],
      "execution_count": 6,
      "outputs": []
    },
    {
      "cell_type": "code",
      "metadata": {
        "id": "_EqfmNU33oH7"
      },
      "source": [
        "plot_ts(ts, window=30)"
      ],
      "execution_count": 7,
      "outputs": []
    },
    {
      "cell_type": "code",
      "metadata": {
        "id": "ajrO932I3rQu"
      },
      "source": [
        "plot_ts(ts, window=365)"
      ],
      "execution_count": 8,
      "outputs": []
    },
    {
      "cell_type": "markdown",
      "metadata": {
        "id": "iOcFpszW3w3B"
      },
      "source": [
        "# Outliers Detection"
      ]
    },
    {
      "cell_type": "code",
      "metadata": {
        "id": "P57UbbWT3szw"
      },
      "source": [
        "## Plot histogram\n",
        "ts.hist(color=\"black\", bins=100)"
      ],
      "execution_count": 9,
      "outputs": []
    },
    {
      "cell_type": "code",
      "metadata": {
        "id": "5bwJ6K7y3vep"
      },
      "source": [
        "## Boxplot\n",
        "ts.plot.box()"
      ],
      "execution_count": 10,
      "outputs": []
    },
    {
      "cell_type": "code",
      "metadata": {
        "id": "MGbdKTLR3ziw"
      },
      "source": [
        "'''\n",
        "Find outliers using sklearn unsupervised support vetcor machine.\n",
        ":parameter\n",
        "    :param ts: pandas Series\n",
        "    :param perc: float - percentage of outliers to look for\n",
        ":return\n",
        "    dtf with raw ts, outlier 1/0 (yes/no), numeric index\n",
        "'''\n",
        "def find_outliers(ts, perc=0.01, figsize=(15,5)):\n",
        "    ## fit svm\n",
        "    scaler = preprocessing.StandardScaler()\n",
        "    ts_scaled = scaler.fit_transform(ts.values.reshape(-1,1))\n",
        "    model = svm.OneClassSVM(nu=perc, kernel=\"rbf\", gamma=0.01)\n",
        "    model.fit(ts_scaled)    ## dtf output\n",
        "    dtf_outliers = ts.to_frame(name=\"ts\")\n",
        "    dtf_outliers[\"index\"] = range(len(ts))\n",
        "    dtf_outliers[\"outlier\"] = model.predict(ts_scaled)\n",
        "    dtf_outliers[\"outlier\"] = dtf_outliers[\"outlier\"].apply(lambda\n",
        "                                              x: 1 if x==-1 else 0)\n",
        "    ## plot\n",
        "    fig, ax = plt.subplots(figsize=figsize)\n",
        "    ax.set(title=\"Outliers detection: found\"\n",
        "           +str(sum(dtf_outliers[\"outlier\"]==1)))\n",
        "    ax.plot(dtf_outliers[\"index\"], dtf_outliers[\"ts\"],\n",
        "            color=\"black\")\n",
        "    ax.scatter(x=dtf_outliers[dtf_outliers[\"outlier\"]==1][\"index\"],\n",
        "               y=dtf_outliers[dtf_outliers[\"outlier\"]==1]['ts'],\n",
        "               color='red')\n",
        "    ax.grid(True)\n",
        "    plt.show()\n",
        "    return dtf_outliers"
      ],
      "execution_count": 11,
      "outputs": []
    },
    {
      "cell_type": "code",
      "metadata": {
        "id": "-s59d5V938Xj"
      },
      "source": [
        "'''\n",
        "Interpolate outliers in a ts.\n",
        "'''\n",
        "def remove_outliers(ts, outliers_idx, figsize=(15,5)):\n",
        "    ts_clean = ts.copy()\n",
        "    ts_clean.loc[outliers_idx] = np.nan\n",
        "    ts_clean = ts_clean.interpolate(method=\"linear\")\n",
        "    ax = ts.plot(figsize=figsize, color=\"red\", alpha=0.5,\n",
        "         title=\"Remove outliers\", label=\"original\", legend=True)\n",
        "    ts_clean.plot(ax=ax, grid=True, color=\"black\",\n",
        "                  label=\"interpolated\", legend=True)\n",
        "    plt.show()\n",
        "    return ts_clean"
      ],
      "execution_count": 12,
      "outputs": []
    },
    {
      "cell_type": "code",
      "metadata": {
        "id": "CGgFN50k4Dfi"
      },
      "source": [
        "df_outliers = find_outliers(ts, perc=0.05)"
      ],
      "execution_count": 13,
      "outputs": []
    },
    {
      "cell_type": "code",
      "metadata": {
        "id": "gDJHi49y4FnN"
      },
      "source": [
        "## outliers index position\n",
        "outliers_index_pos = df_outliers[df_outliers[\"outlier\"]==1].index## exclude outliers\n",
        "ts_clean = remove_outliers(ts, outliers_idx=outliers_index_pos)"
      ],
      "execution_count": 15,
      "outputs": []
    },
    {
      "cell_type": "code",
      "metadata": {
        "id": "76uvb94I4H3H"
      },
      "source": [
        "'''\n",
        "Test stationarity by:\n",
        "    - running Augmented Dickey-Fuller test wiht 95%\n",
        "    - plotting mean and variance of a sample from data\n",
        "    - plottig autocorrelation and partial autocorrelation\n",
        "'''\n",
        "def test_stationarity_acf_pacf(ts, sample=0.20, maxlag=30, figsize= \n",
        "                              (15,10)):\n",
        "    with plt.style.context(style='bmh'):\n",
        "        ## set figure\n",
        "        fig = plt.figure(figsize=figsize)\n",
        "        ts_ax = plt.subplot2grid(shape=(2,2), loc=(0,0), colspan=2)\n",
        "        pacf_ax = plt.subplot2grid(shape=(2,2), loc=(1,0))\n",
        "        acf_ax = plt.subplot2grid(shape=(2,2), loc=(1,1))\n",
        "        \n",
        "        ## plot ts with mean/std of a sample from the first x% \n",
        "        dtf_ts = ts.to_frame(name=\"ts\")\n",
        "        sample_size = int(len(ts)*sample)\n",
        "        dtf_ts[\"mean\"] = dtf_ts[\"ts\"].head(sample_size).mean()\n",
        "        dtf_ts[\"lower\"] = dtf_ts[\"ts\"].head(sample_size).mean() \n",
        "                          + dtf_ts[\"ts\"].head(sample_size).std()\n",
        "        dtf_ts[\"upper\"] = dtf_ts[\"ts\"].head(sample_size).mean() \n",
        "                          - dtf_ts[\"ts\"].head(sample_size).std()\n",
        "        dtf_ts[\"ts\"].plot(ax=ts_ax, color=\"black\", legend=False)\n",
        "        dtf_ts[\"mean\"].plot(ax=ts_ax, legend=False, color=\"red\",\n",
        "                            linestyle=\"--\", linewidth=0.7)\n",
        "        ts_ax.fill_between(x=dtf_ts.index, y1=dtf_ts['lower'], \n",
        "                y2=dtf_ts['upper'], color='lightskyblue', alpha=0.4)\n",
        "        dtf_ts[\"mean\"].head(sample_size).plot(ax=ts_ax,\n",
        "                legend=False, color=\"red\", linewidth=0.9)\n",
        "        ts_ax.fill_between(x=dtf_ts.head(sample_size).index, \n",
        "                           y1=dtf_ts['lower'].head(sample_size), \n",
        "                           y2=dtf_ts['upper'].head(sample_size),\n",
        "                           color='lightskyblue')\n",
        "        \n",
        "        ## test stationarity (Augmented Dickey-Fuller)\n",
        "        adfuller_test = sm.tsa.stattools.adfuller(ts, maxlag=maxlag,\n",
        "                                                  autolag=\"AIC\")\n",
        "        adf, p, critical_value = adfuller_test[0], adfuller_test[1], \n",
        "                                 adfuller_test[4][\"5%\"]\n",
        "        p = round(p, 3)\n",
        "        conclusion = \"Stationary\" if p < 0.05 else \"Non-Stationary\"\n",
        "        ts_ax.set_title('Dickey-Fuller Test 95%: '+conclusion+\n",
        "                        '(p value: '+str(p)+')')\n",
        "        \n",
        "        ## pacf (for AR) e acf (for MA) \n",
        "        smt.graphics.plot_pacf(ts, lags=maxlag, ax=pacf_ax, \n",
        "                 title=\"Partial Autocorrelation (for AR component)\")\n",
        "        smt.graphics.plot_acf(ts, lags=maxlag, ax=acf_ax,\n",
        "                 title=\"Autocorrelation (for MA component)\")\n",
        "        plt.tight_layout()"
      ],
      "execution_count": 16,
      "outputs": []
    },
    {
      "cell_type": "code",
      "metadata": {
        "id": "I8g3wDQ14T-d"
      },
      "source": [
        "test_stationarity_acf_pacf(ts, sample=0.20, maxlag=30)"
      ],
      "execution_count": 17,
      "outputs": []
    },
    {
      "cell_type": "code",
      "metadata": {
        "id": "9LnWO3GM4WAY"
      },
      "source": [
        "diff_ts = ts - ts.shift(1)\n",
        "diff_ts = diff_ts[(pd.notnull(diff_ts))]test_stationarity_acf_pacf(diff_ts, sample=0.20, maxlag=30)"
      ],
      "execution_count": 18,
      "outputs": []
    },
    {
      "cell_type": "markdown",
      "metadata": {
        "id": "5p5cja5s4jgj"
      },
      "source": [
        "# Seasonality Analysis"
      ]
    },
    {
      "cell_type": "code",
      "metadata": {
        "id": "7MXQYvjr4eie"
      },
      "source": [
        "decomposition = smt.seasonal_decompose(ts, freq=7)\n",
        "trend = decomposition.trend\n",
        "seasonal = decomposition.seasonal\n",
        "residual = decomposition.resid   \n",
        "fig, ax = plt.subplots(nrows=4, ncols=1, sharex=True, sharey=False)\n",
        "ax[0].plot(ts)\n",
        "ax[0].set_title('Original')\n",
        "ax[0].grid(True) \n",
        "ax[1].plot(trend)\n",
        "ax[1].set_title('Trend')\n",
        "ax[1].grid(True)  \n",
        "ax[2].plot(seasonal)\n",
        "ax[2].set_title('Seasonality')\n",
        "ax[2].grid(True)  \n",
        "ax[3].plot(residual)\n",
        "ax[3].set_title('Residuals')\n",
        "ax[3].grid(True)"
      ],
      "execution_count": 19,
      "outputs": []
    }
  ]
}