{
  "nbformat": 4,
  "nbformat_minor": 0,
  "metadata": {
    "colab": {
      "name": "AutoTS_Ensemble.ipynb",
      "provenance": [],
      "authorship_tag": "ABX9TyORur8YntMuQMP1LUigiDqP"
    },
    "kernelspec": {
      "name": "python3",
      "display_name": "Python 3"
    },
    "language_info": {
      "name": "python"
    }
  },
  "cells": [
    {
      "cell_type": "markdown",
      "source": [
        "[Reference](https://bobrupakroy.medium.com/auto-ts-ensemble-df045edee8c2)"
      ],
      "metadata": {
        "id": "1FAs1Y6HRqj6"
      }
    },
    {
      "cell_type": "code",
      "execution_count": 1,
      "metadata": {
        "id": "qQm6bwuORg-D"
      },
      "outputs": [],
      "source": [
        "#load the dataset\n",
        "import pandas as pd\n",
        "data = pd.read_csv(\"sample_data.csv\")"
      ]
    },
    {
      "cell_type": "code",
      "source": [
        "#Install the package\n",
        "pip install auto-ts-ensemble\n",
        "from auto_ts_ensemble_rupakbob import auto_ts_ensemble\n",
        "#call the package function 1\n",
        "results = auto_ts_ensemble.neural_analysis(data,freq=\"H\")\n",
        "###access the model\n",
        "neural_prophet = results[0]\n",
        "###access the metrics\n",
        "metrics = results[1]\n",
        "###access the predictions\n",
        "predictions = results[2]\n",
        "####plot the components\n",
        "neural_prophet.plot_components(predictions)\n",
        "#--------------------------------------------\n",
        "#call the package function 2\n",
        "results2 = auto_ts_ensemble.ts_analysis(data,n_future=7)\n",
        "#access the model\n",
        "ts_model = results2[0]\n",
        "#access the predictions\n",
        "predictions2 = results2[1]\n",
        "#plot the components\n",
        "ts_model.plot_components(predictions2)\n",
        "#---------------------------------------------------\n",
        "#call the package function 3 ensemble\n",
        "ensemble_predictions = auto_ts_ensemble.ensemble_analysis(predictions,predictions2)"
      ],
      "metadata": {
        "id": "6ZZU_Em6RtMq"
      },
      "execution_count": 2,
      "outputs": []
    }
  ]
}