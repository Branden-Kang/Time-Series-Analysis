{
  "nbformat": 4,
  "nbformat_minor": 0,
  "metadata": {
    "colab": {
      "provenance": [],
      "authorship_tag": "ABX9TyMVIudLA0e2jq6cDsMdgMtx"
    },
    "kernelspec": {
      "name": "python3",
      "display_name": "Python 3"
    },
    "language_info": {
      "name": "python"
    }
  },
  "cells": [
    {
      "cell_type": "markdown",
      "source": [
        "[Reference](https://rezayazdanfar.medium.com/how-to-code-temporal-distribution-characterization-tdc-for-time-series-916855cc2d6a)"
      ],
      "metadata": {
        "id": "c9AOjK6F-91D"
      }
    },
    {
      "cell_type": "code",
      "execution_count": 1,
      "metadata": {
        "id": "ELAm9Gl5-8ex"
      },
      "outputs": [],
      "source": [
        "import torch\n",
        "\n",
        "def CORAL(source, target):\n",
        "    d = source.size(1)\n",
        "    ns, nt = source.size(0), target.size(0)\n",
        "\n",
        "    # source covariance\n",
        "    tmp_s = torch.ones((1, ns)).cuda() @ source\n",
        "    cs = (source.t() @ source - (tmp_s.t() @ tmp_s) / ns) / (ns - 1)\n",
        "\n",
        "    # target covariance\n",
        "    tmp_t = torch.ones((1, nt)).cuda() @ target\n",
        "    ct = (target.t() @ target - (tmp_t.t() @ tmp_t) / nt) / (nt - 1)\n",
        "    \n",
        "    # frobenius norm\n",
        "    loss = (cs - ct).pow(2).sum()\n",
        "    loss = loss / (4 * d * d)\n",
        "\n",
        "    return loss"
      ]
    },
    {
      "cell_type": "code",
      "source": [
        "# import math\n",
        "# import datetime\n",
        "\n",
        "# duration = [start, end]\n",
        "\n",
        "# def TDC(duration, data, num_domain=2, dis_type='coral'):\n",
        "\n",
        "#     num_day = (duration[0]-duration[1]).end\n",
        "#     split_N = 10\n",
        "\n",
        "#     selected = [0, 10]\n",
        "#     candidate = [1, 2, 3, 4, 5, 6, 7, 8, 9]\n",
        "#     start = 0\n",
        "\n",
        "#     if num_domain in [2, 3, 5, 7, 10]:\n",
        "#         while len(selected) -2 < num_domain -1:\n",
        "#             distance_list = []\n",
        "#             for can in candidate:\n",
        "#                 selected.append(can)\n",
        "#                 selected.sort()\n",
        "#                 dis_temp = 0\n",
        "#                 for i in range(1, len(selected)-1):\n",
        "#                     for j in range(i, len(selected)-1):\n",
        "#                         index_part1_start = start + math.floor(selected[i-1] / split_N * num_day) * data.shape[1]\n",
        "#                         index_part1_end = start + math.floor(selected[i] / split_N * num_day) * data.shape[1]\n",
        "#                         feat_part1 = data[index_part1_start: index_part1_end]\n",
        "#                         index_part2_start = start + math.floor(selected[j] / split_N * num_day) * data.shape[1]\n",
        "#                         index_part2_end = start + math.floor(selected[j+1] / split_N * num_day) * data.shape[1]\n",
        "#                         feat_part2 = data[index_part2_start:index_part2_end]\n",
        "#                         criterion_transder = CORAL(input_dim=feat_part1.shape[1])\n",
        "#                         dis_temp += criterion_transder.compute(feat_part1, feat_part2)\n",
        "#                 distance_list.append(dis_temp)\n",
        "#                 selected.remove(can)\n",
        "#             can_index = distance_list.index(max(distance_list))\n",
        "#             selected.append(candidate[can_index])\n",
        "#             candidate.remove(candidate[can_index])\n",
        "#         selected.sort()\n",
        "#         res = []\n",
        "#         for i in range(1, len(selected)):\n",
        "#             if i==1:\n",
        "#                 sel_start_time = duration[0] + datetime.timedelta(days=int(num_day/split_N*selected[i - 1]), hours=0)\n",
        "#             else:\n",
        "#                 sel_start_time = duration[0] + datetime.timedelta(days=int(num_day/split_N*selected[i - 1]) + 1, hours=0)\n",
        "#             sel_end_time = duration[0] + datetime.timedelta(days=int(num_day/split_N*selected[i]), hours=23)\n",
        "#             sel_start_time = datetime.datetime.strftime(sel_start_time, '%Y-%m-%d %H:%M')\n",
        "#             sel_end_time = datetime.datetime.strftime(sel_end_time, '%Y-%m-%d %H:%M')\n",
        "#             res.append((sel_start_time, sel_end_time))\n",
        "#         return res\n",
        "#     else:\n",
        "#         print(\"error in number of domain\")"
      ],
      "metadata": {
        "id": "kF66O9Kp_Cxa"
      },
      "execution_count": 3,
      "outputs": []
    }
  ]
}