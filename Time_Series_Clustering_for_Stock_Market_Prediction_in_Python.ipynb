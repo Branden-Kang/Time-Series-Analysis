{
  "nbformat": 4,
  "nbformat_minor": 0,
  "metadata": {
    "colab": {
      "name": "Time Series Clustering for Stock Market Prediction in Python.ipynb",
      "provenance": [],
      "authorship_tag": "ABX9TyM2scaron/amsQWg3PVUZwC"
    },
    "kernelspec": {
      "name": "python3",
      "display_name": "Python 3"
    },
    "language_info": {
      "name": "python"
    }
  },
  "cells": [
    {
      "cell_type": "markdown",
      "source": [
        "[Reference](https://pub.towardsai.net/time-series-clustering-for-stock-market-prediction-in-python-part-1-738ab6462f0e)"
      ],
      "metadata": {
        "id": "TY0Uaw6aB84y"
      }
    },
    {
      "cell_type": "code",
      "source": [
        "!pip install --upgrade pandas\n",
        "!pip install --upgrade pandas-datareader"
      ],
      "metadata": {
        "colab": {
          "base_uri": "https://localhost:8080/",
          "height": 599
        },
        "id": "RxKMgPlNCOzT",
        "outputId": "a0d445d3-88eb-49ad-bb50-121762d7c54b"
      },
      "execution_count": 5,
      "outputs": [
        {
          "output_type": "stream",
          "name": "stdout",
          "text": [
            "Looking in indexes: https://pypi.org/simple, https://us-python.pkg.dev/colab-wheels/public/simple/\n",
            "Requirement already satisfied: pandas in /usr/local/lib/python3.7/dist-packages (1.3.5)\n",
            "Requirement already satisfied: pytz>=2017.3 in /usr/local/lib/python3.7/dist-packages (from pandas) (2022.1)\n",
            "Requirement already satisfied: python-dateutil>=2.7.3 in /usr/local/lib/python3.7/dist-packages (from pandas) (2.8.2)\n",
            "Requirement already satisfied: numpy>=1.17.3 in /usr/local/lib/python3.7/dist-packages (from pandas) (1.21.6)\n",
            "Requirement already satisfied: six>=1.5 in /usr/local/lib/python3.7/dist-packages (from python-dateutil>=2.7.3->pandas) (1.15.0)\n",
            "Looking in indexes: https://pypi.org/simple, https://us-python.pkg.dev/colab-wheels/public/simple/\n",
            "Requirement already satisfied: pandas-datareader in /usr/local/lib/python3.7/dist-packages (0.9.0)\n",
            "Collecting pandas-datareader\n",
            "  Downloading pandas_datareader-0.10.0-py3-none-any.whl (109 kB)\n",
            "\u001b[K     |████████████████████████████████| 109 kB 7.1 MB/s \n",
            "\u001b[?25hRequirement already satisfied: requests>=2.19.0 in /usr/local/lib/python3.7/dist-packages (from pandas-datareader) (2.23.0)\n",
            "Requirement already satisfied: pandas>=0.23 in /usr/local/lib/python3.7/dist-packages (from pandas-datareader) (1.3.5)\n",
            "Requirement already satisfied: lxml in /usr/local/lib/python3.7/dist-packages (from pandas-datareader) (4.9.1)\n",
            "Requirement already satisfied: numpy>=1.17.3 in /usr/local/lib/python3.7/dist-packages (from pandas>=0.23->pandas-datareader) (1.21.6)\n",
            "Requirement already satisfied: pytz>=2017.3 in /usr/local/lib/python3.7/dist-packages (from pandas>=0.23->pandas-datareader) (2022.1)\n",
            "Requirement already satisfied: python-dateutil>=2.7.3 in /usr/local/lib/python3.7/dist-packages (from pandas>=0.23->pandas-datareader) (2.8.2)\n",
            "Requirement already satisfied: six>=1.5 in /usr/local/lib/python3.7/dist-packages (from python-dateutil>=2.7.3->pandas>=0.23->pandas-datareader) (1.15.0)\n",
            "Requirement already satisfied: idna<3,>=2.5 in /usr/local/lib/python3.7/dist-packages (from requests>=2.19.0->pandas-datareader) (2.10)\n",
            "Requirement already satisfied: urllib3!=1.25.0,!=1.25.1,<1.26,>=1.21.1 in /usr/local/lib/python3.7/dist-packages (from requests>=2.19.0->pandas-datareader) (1.24.3)\n",
            "Requirement already satisfied: chardet<4,>=3.0.2 in /usr/local/lib/python3.7/dist-packages (from requests>=2.19.0->pandas-datareader) (3.0.4)\n",
            "Requirement already satisfied: certifi>=2017.4.17 in /usr/local/lib/python3.7/dist-packages (from requests>=2.19.0->pandas-datareader) (2022.6.15)\n",
            "Installing collected packages: pandas-datareader\n",
            "  Attempting uninstall: pandas-datareader\n",
            "    Found existing installation: pandas-datareader 0.9.0\n",
            "    Uninstalling pandas-datareader-0.9.0:\n",
            "      Successfully uninstalled pandas-datareader-0.9.0\n",
            "Successfully installed pandas-datareader-0.10.0\n"
          ]
        },
        {
          "output_type": "display_data",
          "data": {
            "application/vnd.colab-display-data+json": {
              "pip_warning": {
                "packages": [
                  "pandas_datareader"
                ]
              }
            }
          },
          "metadata": {}
        }
      ]
    },
    {
      "cell_type": "code",
      "execution_count": 1,
      "metadata": {
        "id": "xiffsDQMBMSf"
      },
      "outputs": [],
      "source": [
        "# data manipulation\n",
        "import pandas as pd \n",
        "import numpy as np\n",
        "\n",
        "# viz\n",
        "import matplotlib.pyplot as plt\n",
        "import seaborn as sns\n",
        "\n",
        "# time and date libs\n",
        "import datetime\n",
        "\n",
        "# stock data access\n",
        "import pandas_datareader as pdr"
      ]
    },
    {
      "cell_type": "code",
      "source": [
        "def get_data(ticker: str, start_date: datetime, end_date: datetime) -> pd.DataFrame:\n",
        "    \"\"\"\n",
        "    Get stock data input ticker\n",
        "    \"\"\"\n",
        "    data = pdr.get_data_yahoo(ticker, start=start_date, end=end_date)\n",
        "    return data\n",
        "  \n",
        "# get 1000 days of data for Apple starting from today\n",
        "start_date = datetime.datetime.now() - datetime.timedelta(days=1000)\n",
        "end_date = datetime.datetime.now()\n",
        "\n",
        "data = get_data('AAPL', start_date=start_date, end_date=end_date)\n",
        "\n",
        "data.head()"
      ],
      "metadata": {
        "colab": {
          "base_uri": "https://localhost:8080/",
          "height": 235
        },
        "id": "XStkYxAyCBWU",
        "outputId": "4776ef85-0480-4b7f-ab8a-86131eba7cfd"
      },
      "execution_count": 2,
      "outputs": [
        {
          "output_type": "execute_result",
          "data": {
            "text/plain": [
              "                 High        Low       Open      Close       Volume  Adj Close\n",
              "Date                                                                          \n",
              "2019-11-18  66.857498  66.057503  66.449997  66.775002   86703200.0  65.526497\n",
              "2019-11-19  67.000000  66.347504  66.974998  66.572502   76167200.0  65.327766\n",
              "2019-11-20  66.519997  65.099998  66.385002  65.797501  106234400.0  64.567284\n",
              "2019-11-21  66.002502  65.294998  65.922501  65.502502  121395200.0  64.277786\n",
              "2019-11-22  65.794998  65.209999  65.647499  65.445000   65325200.0  64.221352"
            ],
            "text/html": [
              "\n",
              "  <div id=\"df-0e67f7af-ea64-4975-875b-77e2f3b4b6ec\">\n",
              "    <div class=\"colab-df-container\">\n",
              "      <div>\n",
              "<style scoped>\n",
              "    .dataframe tbody tr th:only-of-type {\n",
              "        vertical-align: middle;\n",
              "    }\n",
              "\n",
              "    .dataframe tbody tr th {\n",
              "        vertical-align: top;\n",
              "    }\n",
              "\n",
              "    .dataframe thead th {\n",
              "        text-align: right;\n",
              "    }\n",
              "</style>\n",
              "<table border=\"1\" class=\"dataframe\">\n",
              "  <thead>\n",
              "    <tr style=\"text-align: right;\">\n",
              "      <th></th>\n",
              "      <th>High</th>\n",
              "      <th>Low</th>\n",
              "      <th>Open</th>\n",
              "      <th>Close</th>\n",
              "      <th>Volume</th>\n",
              "      <th>Adj Close</th>\n",
              "    </tr>\n",
              "    <tr>\n",
              "      <th>Date</th>\n",
              "      <th></th>\n",
              "      <th></th>\n",
              "      <th></th>\n",
              "      <th></th>\n",
              "      <th></th>\n",
              "      <th></th>\n",
              "    </tr>\n",
              "  </thead>\n",
              "  <tbody>\n",
              "    <tr>\n",
              "      <th>2019-11-18</th>\n",
              "      <td>66.857498</td>\n",
              "      <td>66.057503</td>\n",
              "      <td>66.449997</td>\n",
              "      <td>66.775002</td>\n",
              "      <td>86703200.0</td>\n",
              "      <td>65.526497</td>\n",
              "    </tr>\n",
              "    <tr>\n",
              "      <th>2019-11-19</th>\n",
              "      <td>67.000000</td>\n",
              "      <td>66.347504</td>\n",
              "      <td>66.974998</td>\n",
              "      <td>66.572502</td>\n",
              "      <td>76167200.0</td>\n",
              "      <td>65.327766</td>\n",
              "    </tr>\n",
              "    <tr>\n",
              "      <th>2019-11-20</th>\n",
              "      <td>66.519997</td>\n",
              "      <td>65.099998</td>\n",
              "      <td>66.385002</td>\n",
              "      <td>65.797501</td>\n",
              "      <td>106234400.0</td>\n",
              "      <td>64.567284</td>\n",
              "    </tr>\n",
              "    <tr>\n",
              "      <th>2019-11-21</th>\n",
              "      <td>66.002502</td>\n",
              "      <td>65.294998</td>\n",
              "      <td>65.922501</td>\n",
              "      <td>65.502502</td>\n",
              "      <td>121395200.0</td>\n",
              "      <td>64.277786</td>\n",
              "    </tr>\n",
              "    <tr>\n",
              "      <th>2019-11-22</th>\n",
              "      <td>65.794998</td>\n",
              "      <td>65.209999</td>\n",
              "      <td>65.647499</td>\n",
              "      <td>65.445000</td>\n",
              "      <td>65325200.0</td>\n",
              "      <td>64.221352</td>\n",
              "    </tr>\n",
              "  </tbody>\n",
              "</table>\n",
              "</div>\n",
              "      <button class=\"colab-df-convert\" onclick=\"convertToInteractive('df-0e67f7af-ea64-4975-875b-77e2f3b4b6ec')\"\n",
              "              title=\"Convert this dataframe to an interactive table.\"\n",
              "              style=\"display:none;\">\n",
              "        \n",
              "  <svg xmlns=\"http://www.w3.org/2000/svg\" height=\"24px\"viewBox=\"0 0 24 24\"\n",
              "       width=\"24px\">\n",
              "    <path d=\"M0 0h24v24H0V0z\" fill=\"none\"/>\n",
              "    <path d=\"M18.56 5.44l.94 2.06.94-2.06 2.06-.94-2.06-.94-.94-2.06-.94 2.06-2.06.94zm-11 1L8.5 8.5l.94-2.06 2.06-.94-2.06-.94L8.5 2.5l-.94 2.06-2.06.94zm10 10l.94 2.06.94-2.06 2.06-.94-2.06-.94-.94-2.06-.94 2.06-2.06.94z\"/><path d=\"M17.41 7.96l-1.37-1.37c-.4-.4-.92-.59-1.43-.59-.52 0-1.04.2-1.43.59L10.3 9.45l-7.72 7.72c-.78.78-.78 2.05 0 2.83L4 21.41c.39.39.9.59 1.41.59.51 0 1.02-.2 1.41-.59l7.78-7.78 2.81-2.81c.8-.78.8-2.07 0-2.86zM5.41 20L4 18.59l7.72-7.72 1.47 1.35L5.41 20z\"/>\n",
              "  </svg>\n",
              "      </button>\n",
              "      \n",
              "  <style>\n",
              "    .colab-df-container {\n",
              "      display:flex;\n",
              "      flex-wrap:wrap;\n",
              "      gap: 12px;\n",
              "    }\n",
              "\n",
              "    .colab-df-convert {\n",
              "      background-color: #E8F0FE;\n",
              "      border: none;\n",
              "      border-radius: 50%;\n",
              "      cursor: pointer;\n",
              "      display: none;\n",
              "      fill: #1967D2;\n",
              "      height: 32px;\n",
              "      padding: 0 0 0 0;\n",
              "      width: 32px;\n",
              "    }\n",
              "\n",
              "    .colab-df-convert:hover {\n",
              "      background-color: #E2EBFA;\n",
              "      box-shadow: 0px 1px 2px rgba(60, 64, 67, 0.3), 0px 1px 3px 1px rgba(60, 64, 67, 0.15);\n",
              "      fill: #174EA6;\n",
              "    }\n",
              "\n",
              "    [theme=dark] .colab-df-convert {\n",
              "      background-color: #3B4455;\n",
              "      fill: #D2E3FC;\n",
              "    }\n",
              "\n",
              "    [theme=dark] .colab-df-convert:hover {\n",
              "      background-color: #434B5C;\n",
              "      box-shadow: 0px 1px 3px 1px rgba(0, 0, 0, 0.15);\n",
              "      filter: drop-shadow(0px 1px 2px rgba(0, 0, 0, 0.3));\n",
              "      fill: #FFFFFF;\n",
              "    }\n",
              "  </style>\n",
              "\n",
              "      <script>\n",
              "        const buttonEl =\n",
              "          document.querySelector('#df-0e67f7af-ea64-4975-875b-77e2f3b4b6ec button.colab-df-convert');\n",
              "        buttonEl.style.display =\n",
              "          google.colab.kernel.accessAllowed ? 'block' : 'none';\n",
              "\n",
              "        async function convertToInteractive(key) {\n",
              "          const element = document.querySelector('#df-0e67f7af-ea64-4975-875b-77e2f3b4b6ec');\n",
              "          const dataTable =\n",
              "            await google.colab.kernel.invokeFunction('convertToInteractive',\n",
              "                                                     [key], {});\n",
              "          if (!dataTable) return;\n",
              "\n",
              "          const docLinkHtml = 'Like what you see? Visit the ' +\n",
              "            '<a target=\"_blank\" href=https://colab.research.google.com/notebooks/data_table.ipynb>data table notebook</a>'\n",
              "            + ' to learn more about interactive tables.';\n",
              "          element.innerHTML = '';\n",
              "          dataTable['output_type'] = 'display_data';\n",
              "          await google.colab.output.renderOutput(dataTable, element);\n",
              "          const docLink = document.createElement('div');\n",
              "          docLink.innerHTML = docLinkHtml;\n",
              "          element.appendChild(docLink);\n",
              "        }\n",
              "      </script>\n",
              "    </div>\n",
              "  </div>\n",
              "  "
            ]
          },
          "metadata": {},
          "execution_count": 2
        }
      ]
    },
    {
      "cell_type": "code",
      "source": [
        "def split_time_series(series, n):\n",
        "    \"\"\"\n",
        "    Split a time series into n segments of equal size\n",
        "    \"\"\"\n",
        "    split_series = [series[i:i+n] for i in range(0, len(series), n)]\n",
        "    # if the last sequence is smaller than n, we discard it\n",
        "    if len(split_series[-1]) < n:\n",
        "        split_series = split_series[:-1]\n",
        "    return np.array(split_series)"
      ],
      "metadata": {
        "id": "g55Vu3CSCCpr"
      },
      "execution_count": 3,
      "outputs": []
    },
    {
      "cell_type": "code",
      "source": [
        "def split_sequence(sequence, k):\n",
        "    \"\"\"\n",
        "    Split a sequence in two, where k is the size of the first sequence\n",
        "    \"\"\"\n",
        "    return np.array(sequence[:int(len(sequence) * k)]), np.array(sequence[int(len(sequence) * k):])\n",
        "\n",
        "\n",
        "def split_sequences(sequences, k=0.80):\n",
        "    \"\"\"\n",
        "    Applies split_sequence on all elements of a list or array\n",
        "    \"\"\"\n",
        "    return [split_sequence(sequence, k) for sequence in sequences]"
      ],
      "metadata": {
        "id": "d2ROr9tWCEPj"
      },
      "execution_count": 4,
      "outputs": []
    },
    {
      "cell_type": "code",
      "source": [
        "N = 15  # window size --> we can tweak it and test different options\n",
        "K = 0.70 # split size --> 80% of the data is in A, 20% in B\n",
        "\n",
        "SEQS = split_time_series(list(data['Close'].values), N) # creates sequences of length N\n",
        "\n",
        "SPLIT_SEQS = split_sequences(SEQS, K) # splits sequences into individual sequences\n",
        "\n",
        "A = [seq[0] for seq in SPLIT_SEQS]\n",
        "B = [seq[1] for seq in SPLIT_SEQS]"
      ],
      "metadata": {
        "id": "08IKBRJ9CRQE"
      },
      "execution_count": 5,
      "outputs": []
    },
    {
      "cell_type": "code",
      "source": [
        "def compute_correlation(a1, a2):\n",
        "    \"\"\"\n",
        "    Calculate the correlation between two vectors\n",
        "    \"\"\"\n",
        "    return np.corrcoef(a1, a2)[0, 1]\n",
        "\n",
        "def compute_dynamic_time_warping(a1, a2):\n",
        "    \"\"\"\n",
        "    Compute the dynamic time warping between two sequences\n",
        "    \"\"\"\n",
        "    \n",
        "    DTW = {}\n",
        "\n",
        "    for i in range(len(a1)):\n",
        "        DTW[(i, -1)] = float('inf')\n",
        "    for i in range(len(a2)):\n",
        "        DTW[(-1, i)] = float('inf')\n",
        "    DTW[(-1, -1)] = 0\n",
        "\n",
        "    for i in range(len(a1)):\n",
        "        for j in range(len(a2)):\n",
        "            dist = (a1[i]-a2[j])**2\n",
        "            DTW[(i, j)] = dist + min(DTW[(i-1, j)], DTW[(i, j-1)], DTW[(i-1, j-1)])\n",
        "\n",
        "    return np.sqrt(DTW[len(a1)-1, len(a2)-1])\n",
        "\n",
        "\n",
        "# create empty matrix\n",
        "S = np.zeros((len(A), len(A)))\n",
        "\n",
        "# populate S\n",
        "for i in range(len(A)):\n",
        "    for j in range(len(A)):\n",
        "        # weigh the dynamic time warping with the correlation\n",
        "        S[i, j] = compute_dynamic_time_warping(A[i], A[j]) * (1 - compute_correlation(A[i], A[j]))"
      ],
      "metadata": {
        "id": "TecqTAQTCSwk"
      },
      "execution_count": 6,
      "outputs": []
    },
    {
      "cell_type": "code",
      "source": [
        "# plot heatmap of S\n",
        "fig, ax = plt.subplots(figsize=(20, 10))  \n",
        "sns.heatmap(S, cmap='nipy_spectral_r', square=True, ax=ax)\n",
        "plt.title(\"Heatmap of sequence similarities\", fontsize=20, fontweight='bold')\n",
        "plt.xticks(range(len(A)), range(len(A)))\n",
        "plt.yticks(range(len(A)), range(len(A)))\n",
        "plt.show()"
      ],
      "metadata": {
        "colab": {
          "base_uri": "https://localhost:8080/",
          "height": 615
        },
        "id": "GeoOLoC5CXCL",
        "outputId": "fbe60821-d5e0-4e77-88f8-b635e2773b60"
      },
      "execution_count": 7,
      "outputs": [
        {
          "output_type": "display_data",
          "data": {
            "text/plain": [
              "<Figure size 1440x720 with 2 Axes>"
            ],
            "image/png": "[encoded data removed]"
          },
          "metadata": {
            "needs_background": "light"
          }
        }
      ]
    },
    {
      "cell_type": "code",
      "source": [
        "# populate G\n",
        "G = {}\n",
        "THRESHOLD = 6 # arbitrary value - tweak this to get different results\n",
        "\n",
        "for i in range(len(S)):\n",
        "    G[i] = []\n",
        "    for j in range(len(S)):\n",
        "        if S[i, j] < THRESHOLD and i != j and (i, j) not in G and (j, i) not in G and j not in G[i]:\n",
        "            G[i].append(j)\n",
        "\n",
        "# remove any empty groups\n",
        "G = {k: v for k, v in G.items() if v}"
      ],
      "metadata": {
        "id": "L0FV41UrCZMK"
      },
      "execution_count": 8,
      "outputs": []
    },
    {
      "cell_type": "code",
      "source": [
        "def classify_trend(b, threshold=0.05):\n",
        "    \"\"\"\n",
        "    Classify the trend of a vector\n",
        "    \"\"\"\n",
        "    # compute slope\n",
        "    slope = np.mean(np.diff(b) / np.diff(np.arange(len(b))))\n",
        "    # if slope is positive, the trend is upward\n",
        "    if slope + (slope * threshold) > 0:\n",
        "        return 1\n",
        "    # if slope is negative, the trend is downward\n",
        "    elif slope - (slope * threshold) < 0:\n",
        "        return -1\n",
        "    # if slope is close to 0, the trend is flat\n",
        "    else:\n",
        "        return 0\n",
        "        \n",
        "# flatten list\n",
        "flattened_G = [item for sublist in G.values() for item in sublist]\n",
        "trends = [classify_trend(B[i]) for i in flattened_G]\n",
        "\n",
        "# what is the probability of seeing a trend given the A sequence?\n",
        "PROBABILITIES = {}\n",
        "\n",
        "for k, v in G.items():\n",
        "    for seq in v:\n",
        "        total = len(v)\n",
        "        seq_trends = [classify_trend(B[seq]) for seq in v]\n",
        "        prob_up = len([t for t in seq_trends if t == 1]) / total\n",
        "        prob_down = len([t for t in seq_trends if t == -1]) / total\n",
        "        prob_stable = len([t for t in seq_trends if t == 0]) / total\n",
        "        PROBABILITIES[k] = {'up': prob_up, 'down': prob_down, 'stable': prob_stable}\n",
        "       \n",
        "# Let's pack all in a Pandas DataFrame for an easier use\n",
        "probs_df = pd.DataFrame(PROBABILITIES).T\n",
        "# create a column that contains the number of elements in the group\n",
        "probs_df['n_elements'] = probs_df.apply(lambda row: len(G[row.name]), axis=1)\n",
        "probs_df.sort_values(by=[\"n_elements\"], ascending=False, inplace=True)"
      ],
      "metadata": {
        "id": "SRc9PzsRCbAl"
      },
      "execution_count": 9,
      "outputs": []
    }
  ]
}