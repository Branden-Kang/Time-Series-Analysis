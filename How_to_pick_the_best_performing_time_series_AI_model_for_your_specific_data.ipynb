{
  "nbformat": 4,
  "nbformat_minor": 0,
  "metadata": {
    "colab": {
      "provenance": [],
      "authorship_tag": "ABX9TyPtk6lORA/VWHCaZfUEW03C"
    },
    "kernelspec": {
      "name": "python3",
      "display_name": "Python 3"
    },
    "language_info": {
      "name": "python"
    }
  },
  "cells": [
    {
      "cell_type": "markdown",
      "source": [
        "[Reference](https://medium.com/mindsdb/how-to-pick-the-best-performing-time-series-ai-model-for-your-specific-data-3480aae042da)"
      ],
      "metadata": {
        "id": "37WYmhHK-EKW"
      }
    },
    {
      "cell_type": "markdown",
      "source": [
        "```\n",
        "CREATE DATABASE mysql_demo_db\n",
        "WITH ENGINE = \"mysql\",\n",
        "PARAMETERS = {\n",
        "    \"user\": \"user\",\n",
        "    \"password\": \"MindsDBUser123!\",\n",
        "    \"host\": \"db-demo-data.cwoyhfn6bzs0.us-east-1.rds.amazonaws.com\",\n",
        "    \"port\": \"3306\",\n",
        "    \"database\": \"public\"\n",
        "    };\n",
        "\n",
        "SELECT *\n",
        "FROM mysql_demo_db.historical_expenditures\n",
        "LIMIT 10;\n",
        "\n",
        "\n",
        "CREATE VIEW training_data (\n",
        "   SELECT * FROM mysql_demo_db.historical_expenditures\n",
        "   WHERE month NOT IN ('2016-10-01', '2016-11-01', '2016-12-01',\n",
        "                       '2017-01-01', '2017-02-01', '2017-03-01',\n",
        "                       '2017-04-01', '2017-05-01', '2017-06-01',\n",
        "                       '2017-07-01', '2017-08-01', '2017-09-01')\n",
        ");\n",
        "```"
      ],
      "metadata": {
        "id": "3MWcukBA-IOu"
      }
    },
    {
      "cell_type": "markdown",
      "source": [
        "# StatsForecast\n",
        "```\n",
        "CREATE ML_ENGINE statsforecast\n",
        "FROM statsforecast;\n",
        "CREATE MODEL statsforecast_model\n",
        "FROM mindsdb\n",
        "    (SELECT * FROM training_data)\n",
        "PREDICT expenditure\n",
        "ORDER BY month\n",
        "GROUP BY category\n",
        "WINDOW 120\n",
        "HORIZON 12\n",
        "USING ENGINE = 'statsforecast';\n",
        "```"
      ],
      "metadata": {
        "id": "hqWoNpyj-P8c"
      }
    },
    {
      "cell_type": "markdown",
      "source": [
        "# NeuralForecast"
      ],
      "metadata": {
        "id": "0Gqhe-b4-T02"
      }
    },
    {
      "cell_type": "markdown",
      "source": [
        "```\n",
        "CREATE ML_ENGINE neuralforecast\n",
        "FROM neuralforecast;\n",
        "CREATE MODEL neuralforecast_model\n",
        "FROM mindsdb\n",
        "    (SELECT * FROM training_data)\n",
        "PREDICT expenditure\n",
        "ORDER BY month\n",
        "GROUP BY category\n",
        "WINDOW 120\n",
        "HORIZON 12\n",
        "USING ENGINE = 'neuralforecast';\n",
        "```"
      ],
      "metadata": {
        "id": "890UnDDz-PUt"
      }
    },
    {
      "cell_type": "markdown",
      "source": [
        "# TimeGPT"
      ],
      "metadata": {
        "id": "JFLpYOFz-Xav"
      }
    },
    {
      "cell_type": "markdown",
      "source": [
        "```\n",
        "CREATE ML_ENGINE timegpt\n",
        "FROM timegpt\n",
        "USING\n",
        "   timegpt_api_key = 'timegpt-api-key';\n",
        "\n",
        "CREATE MODEL timegpt_model\n",
        "FROM mindsdb\n",
        "    (SELECT * FROM training_data)\n",
        "PREDICT expenditure\n",
        "ORDER BY month\n",
        "GROUP BY category\n",
        "HORIZON 12\n",
        "USING ENGINE = 'timegpt';\n",
        "```"
      ],
      "metadata": {
        "id": "ut4tjB9I-Y0v"
      }
    },
    {
      "cell_type": "markdown",
      "source": [
        "# Forecasted vs. True Values\n"
      ],
      "metadata": {
        "id": "7HcCBI4w-bpP"
      }
    },
    {
      "cell_type": "markdown",
      "source": [
        "```\n",
        "SELECT substring(month, 1, 10) AS month, category, expenditure\n",
        "FROM mysql_demo_db.historical_expenditures\n",
        "WHERE category = 'industry'\n",
        "AND (month = '2016-10-01' OR month = '2016-11-01' OR month = '2016-12-01'\n",
        "     OR month = '2017-01-01' OR month = '2017-02-01' OR month = '2017-03-01'\n",
        "     OR month = '2017-04-01' OR month = '2017-05-01' OR month = '2017-06-01'\n",
        "     OR month = '2017-07-01' OR month = '2017-08-01' OR month = '2017-09-01');\n",
        "```"
      ],
      "metadata": {
        "id": "5K5bTm4_-c40"
      }
    },
    {
      "cell_type": "markdown",
      "source": [
        "```\n",
        "SELECT substring(m.month, 1, 10) AS month, m.category, m.expenditure\n",
        "FROM training_data AS d\n",
        "JOIN statsforecast_model AS m\n",
        "WHERE d.category = 'industry'\n",
        "AND d.month > LATEST\n",
        "LIMIT 12;\n",
        "```"
      ],
      "metadata": {
        "id": "bYgFBbHw-e6i"
      }
    },
    {
      "cell_type": "markdown",
      "source": [
        "```\n",
        "SELECT substring(m.month, 1, 10) AS month, m.category, m.expenditure\n",
        "FROM training_data AS d\n",
        "JOIN neuralforecast_model AS m\n",
        "WHERE d.category = 'industry'\n",
        "AND d.month > LATEST\n",
        "LIMIT 12;\n",
        "```"
      ],
      "metadata": {
        "id": "EjAWEHaS-gzs"
      }
    },
    {
      "cell_type": "markdown",
      "source": [
        "```\n",
        "SELECT substring(m.month, 1, 10) AS month, m.category, m.expenditure\n",
        "FROM training_data AS d\n",
        "JOIN timegpt_model AS m\n",
        "WHERE d.category = 'industry'\n",
        "AND d.month > LATEST\n",
        "LIMIT 12;\n",
        "```"
      ],
      "metadata": {
        "id": "ZYoHxOM--iTY"
      }
    },
    {
      "cell_type": "markdown",
      "source": [
        "# Performance Metrics to Evaluate Time-Series Models"
      ],
      "metadata": {
        "id": "PceogqbD-qrG"
      }
    },
    {
      "cell_type": "markdown",
      "source": [
        "```\n",
        "EVALUATE mean_absolute_error\n",
        "FROM (SELECT column_name_that_stores_real_value AS actual,\n",
        "             column_name_that_stores_predicted_value AS prediction\n",
        "      FROM table);\n",
        "```"
      ],
      "metadata": {
        "id": "Wc5ALwG6-nRG"
      }
    },
    {
      "cell_type": "markdown",
      "source": [
        "# Real-Time Forecasts with MindsDB"
      ],
      "metadata": {
        "id": "XDmzp1cB-s_Z"
      }
    },
    {
      "cell_type": "markdown",
      "source": [
        "```\n",
        "CREATE JOB get_real_time_forecasts (\n",
        "\n",
        "\n",
        "    -- retraining models using the latest historical data\n",
        "    RETRAIN statsforecast_model\n",
        "    FROM mysql_demo_db\n",
        "        (SELECT * FROM historical_expenditures)\n",
        "    USING\n",
        "        join_learn_process = true;\n",
        "\n",
        "\n",
        "    RETRAIN neuralforecast_model\n",
        "    FROM mysql_demo_db\n",
        "        (SELECT * FROM historical_expenditures)\n",
        "    USING\n",
        "        join_learn_process = true;\n",
        "\n",
        "\n",
        "    RETRAIN timegpt_model\n",
        "    FROM mysql_demo_db\n",
        "        (SELECT * FROM historical_expenditures)\n",
        "    USING\n",
        "        join_learn_process = true;\n",
        "\n",
        "\n",
        "    -- sending forecasts to slack\n",
        "    -- how to connect slack to mindsdb: https://docs.mindsdb.com/integrations/app-integrations/slack#method-2-chatbot-responds-on-a-defined-slack-channel\n",
        "    INSERT INTO slack_app.channels (channel, text)\n",
        "    VALUES(\"expenditure-forecasts\", \"Here are the expenditure forecasts for the next 12 months made by StatsForecast:\");\n",
        "\n",
        "\n",
        "    INSERT INTO slack_app.channels (channel, text)\n",
        "        SELECT \"expenditure-forecasts\" AS channel,\n",
        "               concat(m.month, ' --> ', m.expenditure) AS text\n",
        "        FROM mysql_demo_db.historical_expenditures\n",
        "        JOIN statsforecast_model AS m\n",
        "        WHERE d.category = 'industry'\n",
        "        AND d.month > LATEST\n",
        "        LIMIT 12;\n",
        "\n",
        "\n",
        "    INSERT INTO slack_app.channels (channel, text)\n",
        "    VALUES(\"expenditure-forecasts\", \"Here are the expenditure forecasts for the next 12 months made by NeuralForecast:\");\n",
        "\n",
        "\n",
        "    INSERT INTO slack_app.channels (channel, text)\n",
        "        SELECT \"expenditure-forecasts\" AS channel,\n",
        "               concat(m.month, ' --> ', m.expenditure) AS text\n",
        "        FROM mysql_demo_db.historical_expenditures\n",
        "        JOIN neuralforecast_model AS m\n",
        "        WHERE d.category = 'industry'\n",
        "        AND d.month > LATEST\n",
        "        LIMIT 12;\n",
        "\n",
        "\n",
        "    INSERT INTO slack_app.channels (channel, text)\n",
        "    VALUES(\"expenditure-forecasts\", \"Here are the expenditure forecasts for the next 12 months made by TimeGPT:\");\n",
        "\n",
        "\n",
        "    INSERT INTO slack_app.channels (channel, text)\n",
        "        SELECT \"expenditure-forecasts\" AS channel,\n",
        "               concat(m.month, ' --> ', m.expenditure) AS text\n",
        "        FROM mysql_demo_db.historical_expenditures\n",
        "        JOIN timegpt_model AS m\n",
        "        WHERE d.category = 'industry'\n",
        "        AND d.month > LATEST\n",
        "        LIMIT 12;\n",
        ")\n",
        "EVERY 1 month;\n",
        "```"
      ],
      "metadata": {
        "id": "qaoivoQP-vTK"
      }
    }
  ]
}