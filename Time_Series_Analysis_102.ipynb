{
  "nbformat": 4,
  "nbformat_minor": 0,
  "metadata": {
    "colab": {
      "name": "Time Series Analysis 102.ipynb",
      "provenance": [],
      "authorship_tag": "ABX9TyO/BDBM6o/RNBoHBroKfLBY"
    },
    "kernelspec": {
      "name": "python3",
      "display_name": "Python 3"
    },
    "language_info": {
      "name": "python"
    }
  },
  "cells": [
    {
      "cell_type": "markdown",
      "metadata": {
        "id": "uZvHWszdwSQ-"
      },
      "source": [
        "[Reference](https://medium.com/analytics-vidhya/time-series-analysis-102-fffe567c12a)"
      ]
    },
    {
      "cell_type": "code",
      "metadata": {
        "id": "BVEo4DLNwQMU"
      },
      "source": [
        "from statsmodels.tsa.holtwinters import ExponentialSmoothing\n",
        "import pandas as pd\n",
        "import matplotlib.pyplot as plt\n",
        "\n",
        "# Load data\n",
        "data = pd.read_csv(\"AirPassengers.csv\")\n",
        "# Instantiate Model\n",
        "# Type of trend and seasonal components can be specified if needed (multiplicative or additive)\n",
        "# If transformation is used, this is not required.\n",
        "model = ExponentialSmoothing(data[\"#Passengers\"].astype(\"double\"),\n",
        "                             seasonal_periods=12, trend=\"multiplicative\", \n",
        "                             seasonal=\"multiplicative\")\n",
        "# Fit Model\n",
        "model_fit = model.fit()\n",
        "\n",
        "# Make prediction for the next 2 years\n",
        "yhat = model_fit.forecast(steps=24)\n",
        "print(yhat)\n",
        "\n",
        "#Plot the forecasts\n",
        "fig = plt.figure(facecolor=\"w\", figsize=(13, 8))\n",
        "ax = fig.add_subplot(111)\n",
        "ax.plot(data[\"#Passengers\"], ls=\"-\", c=\"#0072B2\", label=\"Train Series\")\n",
        "ax.plot(yhat, ls=\"-\", c=\"#FFA500\", label=\"Forecasts\")\n",
        "plt.ylabel(\"#Passengers\")\n",
        "plt.legend(loc=\"best\")\n",
        "plt.title(\"Forecasts using Holt Winters method\")\n",
        "plt.show()"
      ],
      "execution_count": 1,
      "outputs": []
    },
    {
      "cell_type": "code",
      "metadata": {
        "id": "fA4BpTKbwROa"
      },
      "source": [
        "from model.AutoForecastModel import AutoARIMA\n",
        "import util.Plotter as Plotter\n",
        "\n",
        "#Train the forecasting model and make predictions\n",
        "model = AutoARIMA()\n",
        "predictions = model.fit_predict(bike_sharing[\"cnt\"], \n",
        "                                seasonal_period=365, test_ratio=0, steps=365)\n",
        "\n",
        "#Generate future index for visualization\n",
        "future_index = pd.date_range(bike_sharing[\"dteday\"].max(), periods=365)\n",
        "predictions[\"dates\"] = future_index\n",
        "predictions.set_index(predictions[\"dates\"], inplace=True)\n",
        "\n",
        "#Plot forecasts\n",
        "Plotter.plot_forecast(bike_sharing[\"cnt\"], predictions, ylabel=\"Bike Counts\")"
      ],
      "execution_count": 2,
      "outputs": []
    }
  ]
}