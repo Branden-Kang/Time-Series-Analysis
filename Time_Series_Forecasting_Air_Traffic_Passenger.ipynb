{
  "nbformat": 4,
  "nbformat_minor": 0,
  "metadata": {
    "colab": {
      "name": "Time Series Forecasting: Air Traffic Passenger.ipynb",
      "provenance": [],
      "authorship_tag": "ABX9TyNkbiN4kj5vd/mCSwpG2OL/"
    },
    "kernelspec": {
      "name": "python3",
      "display_name": "Python 3"
    },
    "language_info": {
      "name": "python"
    }
  },
  "cells": [
    {
      "cell_type": "markdown",
      "source": [
        "[Reference](https://blog.devgenius.io/time-series-forecasting-passenger-air-traffic-time-series-project-part-1-da51d4e8520a)"
      ],
      "metadata": {
        "id": "WLCok-VxuuvP"
      }
    },
    {
      "cell_type": "markdown",
      "source": [
        "prepare_data.py :"
      ],
      "metadata": {
        "id": "zrylnMQWu2oB"
      }
    },
    {
      "cell_type": "code",
      "execution_count": 1,
      "metadata": {
        "id": "05FpTqsqozff"
      },
      "outputs": [],
      "source": [
        "#inside prepare_data.py\n",
        "#import required packages\n",
        "from typing import Type\n",
        "import pandas as pd \n",
        "import os \n",
        "\n",
        "\n",
        "class DataWrangler : \n",
        "    \"\"\"\n",
        "    custom class for datawrangling the original passenger airline dataset \n",
        "    functionality : \n",
        "    1. Loading the original  dataset \n",
        "    2. Preparing EDA data \n",
        "    3. Preparing forecast data\n",
        "    \"\"\"\n",
        "    \n",
        "    def load_data(self) : \n",
        "        #reading as pandas dataframe\n",
        "        filepath = 'Air_Traffic_Passenger_Statistics.csv'\n",
        "        data = pd.read_csv(filepath)\n",
        "\n",
        "        return data \n",
        "    \n",
        "    def prepare_eda_data(self,dataframe : pd.DataFrame) : \n",
        "        \"\"\"\n",
        "        Class method for preparing EDA data, wrangling steps : converting str to pd.datetime, dropping duplicates, \n",
        "        changing value for GEO Region \n",
        "        Args:\n",
        "            dataframe (pd.DataFrame): Air_Traffic_Passenger_Statistics.csv path : data/original_data/Air_Traffic_Passenger_Statistics.csv\n",
        "        Returns:\n",
        "            data[pd.Dataframe]: Return Ready for EDA dataframe\n",
        "        \"\"\"\n",
        "        #deep copying the dataframe to avoid changes in original data\n",
        "        data = dataframe.copy(deep=True)\n",
        "        #replacing airline value\n",
        "        data = data.replace('United Airlines - Pre 07/01/2013', 'United Airlines')\n",
        "        #changing period format from string to datetime\n",
        "        data['Period'] = data['Activity Period'].astype('string')\n",
        "        data['Period'] = pd.to_datetime(data['Period'], format='%Y%m')\n",
        "        #dropping duplicates\n",
        "        data = data.drop_duplicates(keep='first')\n",
        "        #dropping Activity Period columns\n",
        "        data = data.drop(columns=['Activity Period'])\n",
        "        #replacing value of each GEO Region values for aggregation purpose \n",
        "        data['GEO Region'] = data['GEO Region'].replace('Canada', 'North America')\n",
        "        data['GEO Region'] = data['GEO Region'].replace('US', 'North America')\n",
        "        data['GEO Region'] = data['GEO Region'].replace('Australia / Oceania', 'Australia')\n",
        "        data['GEO Region'] = data['GEO Region'].replace('Middle East', 'Asia')\n",
        "        data['GEO Region'] = data['GEO Region'].replace('Central America', 'South America')\n",
        "        data['GEO Region'] = data['GEO Region'].replace('Mexico', 'South America')\n",
        "        return data\n",
        "    \n",
        "    def prepare_forecast_data(self,dataframe) : \n",
        "        \"\"\"\n",
        "        Args:\n",
        "            dataframe (pd.DataFrame): Air_Traffic_Passenger_Statistics.csv path : data/original_data/Air_Traffic_Passenger_Statistics.csv\n",
        "        Returns:\n",
        "            data[pd.Dataframe]: Return Ready for EDA dataframe\n",
        "        \"\"\"\n",
        "        #deep copying the dataframe to avoid changes in original data\n",
        "        data = dataframe.copy(deep=True)\n",
        "        #since the passenger count is not aggregated yet we need to compile it using pd.droupby\n",
        "        data = data.groupby(['Period']).agg(**{'Total Passenger': ('Passenger Count', 'sum')}).reset_index()\n",
        "        return data"
      ]
    },
    {
      "cell_type": "markdown",
      "source": [
        "generate_modified_data.py :\n"
      ],
      "metadata": {
        "id": "Yf5dAShwu7pg"
      }
    },
    {
      "cell_type": "code",
      "source": [
        "#inside generate_modified_data.py\n",
        "#importing all required packages \n",
        "import prepare_data #relative package to python file : prepare_data.py which contain our custom datawrangling tool \n",
        "from contextlib import contextmanager\n",
        "#importing tqdm for progress monitoring purpose\n",
        "from tqdm import tqdm \n",
        "\n",
        "#creating contextmanager tool to changedir whenever reading our original dataset \n",
        "@contextmanager\n",
        "def change_path(path) : \n",
        "    import os\n",
        "    #saving prev cwd before switch \n",
        "    prev_cwd = os.getcwd()\n",
        "    #changing to upper dir (data)\n",
        "    os.chdir('..')\n",
        "    #changing path \n",
        "    os.chdir(path)\n",
        "    try : \n",
        "        yield\n",
        "    finally : \n",
        "        #turning back to prev cwd path\n",
        "        os.chdir(prev_cwd) \n",
        "        \n",
        "    \n",
        "#creating a function to wrap datawrangling step followed by saving into two dataset : 1. EDA Dataset 2. Forecast Dataset\n",
        "def begin_process() : \n",
        "    #instanciating the DataWrangler class\n",
        "    pbar = tqdm(total=100)\n",
        "    wrangler = prepare_data.DataWrangler()\n",
        "    #using contextmanager to change path temporary and read the .csv file\n",
        "    with change_path('original_data') : \n",
        "        data = wrangler.load_data()\n",
        "    #prepare eda data\n",
        "    eda_data = wrangler.prepare_eda_data(data)\n",
        "    #update progress \n",
        "    pbar.update(n=50)\n",
        "    #save to ready_to_process_data folder\n",
        "    with change_path('ready_to_process_data') : \n",
        "        eda_data.to_csv('prepare_for_eda.csv',index=False)\n",
        "    print(eda_data.head(4))\n",
        "\n",
        "\n",
        "\n",
        "\n",
        "    \n",
        "\n",
        "    # the output should contain two columns : Activity Period and Passengger Total \n",
        "    forecast_data = wrangler.prepare_forecast_data(eda_data)\n",
        "    print(forecast_data.head(4))\n",
        "    #save to ready_to_process_data folder\n",
        "    with change_path('ready_to_process_data') : \n",
        "        forecast_data.to_csv('forecast_data.csv',index=False)\n",
        "    #update progress    \n",
        "    pbar.update(n=50)\n",
        "    print('\\n Successfully created prepare_for_eda.csv and forecast_data.csv')\n",
        "    \n",
        "    \n",
        "if __name__ == '__main__' : \n",
        "    begin_process()"
      ],
      "metadata": {
        "id": "RjKYG5OXu5rK"
      },
      "execution_count": 3,
      "outputs": []
    }
  ]
}