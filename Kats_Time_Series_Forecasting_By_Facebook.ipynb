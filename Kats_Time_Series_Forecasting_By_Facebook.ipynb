{
  "nbformat": 4,
  "nbformat_minor": 0,
  "metadata": {
    "colab": {
      "name": "Kats - Time Series Forecasting By Facebook.ipynb",
      "provenance": [],
      "authorship_tag": "ABX9TyPKN/FTo+/N+gmduvhw+F+y"
    },
    "kernelspec": {
      "name": "python3",
      "display_name": "Python 3"
    },
    "language_info": {
      "name": "python"
    }
  },
  "cells": [
    {
      "cell_type": "markdown",
      "metadata": {
        "id": "_UCqvEkNvONT"
      },
      "source": [
        "[Reference](https://medium.com/mlearning-ai/kats-time-series-forecasting-by-facebook-a2741794d814)"
      ]
    },
    {
      "cell_type": "code",
      "metadata": {
        "colab": {
          "base_uri": "https://localhost:8080/"
        },
        "id": "d4SBuyv3sIC8",
        "outputId": "cd1b3a1c-3dad-4bf3-d677-971d2c885df8"
      },
      "source": [
        "!pip install kats"
      ],
      "execution_count": 1,
      "outputs": [
        {
          "output_type": "stream",
          "name": "stdout",
          "text": [
            "Collecting kats\n",
            "  Downloading kats-0.1.0.tar.gz (6.3 MB)\n",
            "\u001b[K     |████████████████████████████████| 6.3 MB 6.8 MB/s \n",
            "\u001b[?25hRequirement already satisfied: LunarCalendar>=0.0.9 in /usr/local/lib/python3.7/dist-packages (from kats) (0.0.9)\n",
            "Requirement already satisfied: attrs>=21.2.0 in /usr/local/lib/python3.7/dist-packages (from kats) (21.2.0)\n",
            "Collecting ax-platform\n",
            "  Downloading ax_platform-0.2.2-py3-none-any.whl (866 kB)\n",
            "\u001b[K     |████████████████████████████████| 866 kB 55.0 MB/s \n",
            "\u001b[?25hRequirement already satisfied: convertdate>=2.1.2 in /usr/local/lib/python3.7/dist-packages (from kats) (2.3.2)\n",
            "Collecting fbprophet==0.7\n",
            "  Downloading fbprophet-0.7.tar.gz (64 kB)\n",
            "\u001b[K     |████████████████████████████████| 64 kB 2.4 MB/s \n",
            "\u001b[?25hCollecting gpytorch\n",
            "  Downloading gpytorch-1.5.1-py2.py3-none-any.whl (503 kB)\n",
            "\u001b[K     |████████████████████████████████| 503 kB 55.7 MB/s \n",
            "\u001b[?25hRequirement already satisfied: holidays>=0.10.2 in /usr/local/lib/python3.7/dist-packages (from kats) (0.10.5.2)\n",
            "Requirement already satisfied: matplotlib>=2.0.0 in /usr/local/lib/python3.7/dist-packages (from kats) (3.2.2)\n",
            "Requirement already satisfied: numpy>=1.15.4 in /usr/local/lib/python3.7/dist-packages (from kats) (1.19.5)\n",
            "Collecting numba>=0.52.0\n",
            "  Downloading numba-0.54.1-cp37-cp37m-manylinux2014_x86_64.manylinux_2_17_x86_64.whl (3.3 MB)\n",
            "\u001b[K     |████████████████████████████████| 3.3 MB 44.0 MB/s \n",
            "\u001b[?25hRequirement already satisfied: pandas>=1.0.4 in /usr/local/lib/python3.7/dist-packages (from kats) (1.1.5)\n",
            "Collecting plotly>=4.14.3\n",
            "  Downloading plotly-5.3.1-py2.py3-none-any.whl (23.9 MB)\n",
            "\u001b[K     |████████████████████████████████| 23.9 MB 1.2 MB/s \n",
            "\u001b[?25hCollecting pymannkendall>=1.4.1\n",
            "  Downloading pymannkendall-1.4.2-py3-none-any.whl (12 kB)\n",
            "Requirement already satisfied: pystan==2.19.1.1 in /usr/local/lib/python3.7/dist-packages (from kats) (2.19.1.1)\n",
            "Requirement already satisfied: python-dateutil>=2.8.0 in /usr/local/lib/python3.7/dist-packages (from kats) (2.8.2)\n",
            "Requirement already satisfied: scikit-learn>+0.24.2 in /usr/local/lib/python3.7/dist-packages (from kats) (0.22.2.post1)\n",
            "Requirement already satisfied: setuptools-git>=1.2 in /usr/local/lib/python3.7/dist-packages (from kats) (1.2)\n",
            "Requirement already satisfied: seaborn>=0.11.1 in /usr/local/lib/python3.7/dist-packages (from kats) (0.11.2)\n",
            "Collecting statsmodels>=0.12.2\n",
            "  Downloading statsmodels-0.13.1-cp37-cp37m-manylinux_2_17_x86_64.manylinux2014_x86_64.whl (9.8 MB)\n",
            "\u001b[K     |████████████████████████████████| 9.8 MB 28.6 MB/s \n",
            "\u001b[?25hRequirement already satisfied: torch>=1.8.1 in /usr/local/lib/python3.7/dist-packages (from kats) (1.10.0+cu111)\n",
            "Requirement already satisfied: tqdm>=4.36.1 in /usr/local/lib/python3.7/dist-packages (from kats) (4.62.3)\n",
            "Requirement already satisfied: Cython>=0.22 in /usr/local/lib/python3.7/dist-packages (from fbprophet==0.7->kats) (0.29.24)\n",
            "Requirement already satisfied: cmdstanpy==0.9.5 in /usr/local/lib/python3.7/dist-packages (from fbprophet==0.7->kats) (0.9.5)\n",
            "Requirement already satisfied: pymeeus<=1,>=0.3.13 in /usr/local/lib/python3.7/dist-packages (from convertdate>=2.1.2->kats) (0.5.11)\n",
            "Requirement already satisfied: pytz>=2014.10 in /usr/local/lib/python3.7/dist-packages (from convertdate>=2.1.2->kats) (2018.9)\n",
            "Requirement already satisfied: hijri-converter in /usr/local/lib/python3.7/dist-packages (from holidays>=0.10.2->kats) (2.2.2)\n",
            "Requirement already satisfied: korean-lunar-calendar in /usr/local/lib/python3.7/dist-packages (from holidays>=0.10.2->kats) (0.2.1)\n",
            "Requirement already satisfied: six in /usr/local/lib/python3.7/dist-packages (from holidays>=0.10.2->kats) (1.15.0)\n",
            "Requirement already satisfied: ephem>=3.7.5.3 in /usr/local/lib/python3.7/dist-packages (from LunarCalendar>=0.0.9->kats) (4.1)\n",
            "Requirement already satisfied: kiwisolver>=1.0.1 in /usr/local/lib/python3.7/dist-packages (from matplotlib>=2.0.0->kats) (1.3.2)\n",
            "Requirement already satisfied: pyparsing!=2.0.4,!=2.1.2,!=2.1.6,>=2.0.1 in /usr/local/lib/python3.7/dist-packages (from matplotlib>=2.0.0->kats) (2.4.7)\n",
            "Requirement already satisfied: cycler>=0.10 in /usr/local/lib/python3.7/dist-packages (from matplotlib>=2.0.0->kats) (0.11.0)\n",
            "Requirement already satisfied: setuptools in /usr/local/lib/python3.7/dist-packages (from numba>=0.52.0->kats) (57.4.0)\n",
            "Collecting llvmlite<0.38,>=0.37.0rc1\n",
            "  Downloading llvmlite-0.37.0-cp37-cp37m-manylinux2014_x86_64.whl (26.3 MB)\n",
            "\u001b[K     |████████████████████████████████| 26.3 MB 93 kB/s \n",
            "\u001b[?25hCollecting tenacity>=6.2.0\n",
            "  Downloading tenacity-8.0.1-py3-none-any.whl (24 kB)\n",
            "Requirement already satisfied: scipy in /usr/local/lib/python3.7/dist-packages (from pymannkendall>=1.4.1->kats) (1.4.1)\n",
            "Requirement already satisfied: joblib>=0.11 in /usr/local/lib/python3.7/dist-packages (from scikit-learn>+0.24.2->kats) (1.1.0)\n",
            "Requirement already satisfied: patsy>=0.5.2 in /usr/local/lib/python3.7/dist-packages (from statsmodels>=0.12.2->kats) (0.5.2)\n",
            "Requirement already satisfied: typing-extensions in /usr/local/lib/python3.7/dist-packages (from torch>=1.8.1->kats) (3.10.0.2)\n",
            "Collecting botorch==0.5.1\n",
            "  Downloading botorch-0.5.1-py3-none-any.whl (486 kB)\n",
            "\u001b[K     |████████████████████████████████| 486 kB 58.5 MB/s \n",
            "\u001b[?25hRequirement already satisfied: jinja2 in /usr/local/lib/python3.7/dist-packages (from ax-platform->kats) (2.11.3)\n",
            "Requirement already satisfied: typeguard in /usr/local/lib/python3.7/dist-packages (from ax-platform->kats) (2.7.1)\n",
            "Requirement already satisfied: MarkupSafe>=0.23 in /usr/local/lib/python3.7/dist-packages (from jinja2->ax-platform->kats) (2.0.1)\n",
            "Building wheels for collected packages: kats, fbprophet\n",
            "  Building wheel for kats (setup.py) ... \u001b[?25l\u001b[?25hdone\n",
            "  Created wheel for kats: filename=kats-0.1.0-py3-none-any.whl size=286607 sha256=fe86182b289e429bd80b2d3f9428417290b63863fb9b5975e98d9c32399a137c\n",
            "  Stored in directory: /root/.cache/pip/wheels/c8/dd/5b/cc7cb7fc37c5b838c65e504437bba4c1828a3fbb473c0c11be\n",
            "  Building wheel for fbprophet (setup.py) ... \u001b[?25l\u001b[?25hdone\n",
            "  Created wheel for fbprophet: filename=fbprophet-0.7-py3-none-any.whl size=6637890 sha256=65cfaa53886f413ce494937628b8f28cb81702598dc764c1f8e188f3bc8de2c3\n",
            "  Stored in directory: /root/.cache/pip/wheels/82/e8/a8/53f37f0a409bc51f8693e967dcce8f88bfd33632b40a594a28\n",
            "Successfully built kats fbprophet\n",
            "Installing collected packages: tenacity, gpytorch, plotly, llvmlite, botorch, statsmodels, pymannkendall, numba, fbprophet, ax-platform, kats\n",
            "  Attempting uninstall: plotly\n",
            "    Found existing installation: plotly 4.4.1\n",
            "    Uninstalling plotly-4.4.1:\n",
            "      Successfully uninstalled plotly-4.4.1\n",
            "  Attempting uninstall: llvmlite\n",
            "    Found existing installation: llvmlite 0.34.0\n",
            "    Uninstalling llvmlite-0.34.0:\n",
            "      Successfully uninstalled llvmlite-0.34.0\n",
            "  Attempting uninstall: statsmodels\n",
            "    Found existing installation: statsmodels 0.10.2\n",
            "    Uninstalling statsmodels-0.10.2:\n",
            "      Successfully uninstalled statsmodels-0.10.2\n",
            "  Attempting uninstall: numba\n",
            "    Found existing installation: numba 0.51.2\n",
            "    Uninstalling numba-0.51.2:\n",
            "      Successfully uninstalled numba-0.51.2\n",
            "  Attempting uninstall: fbprophet\n",
            "    Found existing installation: fbprophet 0.7.1\n",
            "    Uninstalling fbprophet-0.7.1:\n",
            "      Successfully uninstalled fbprophet-0.7.1\n",
            "Successfully installed ax-platform-0.2.2 botorch-0.5.1 fbprophet-0.7 gpytorch-1.5.1 kats-0.1.0 llvmlite-0.37.0 numba-0.54.1 plotly-5.3.1 pymannkendall-1.4.2 statsmodels-0.13.1 tenacity-8.0.1\n"
          ]
        }
      ]
    },
    {
      "cell_type": "markdown",
      "metadata": {
        "id": "G26Xer9WvsNW"
      },
      "source": [
        "# Importing required libraries"
      ]
    },
    {
      "cell_type": "code",
      "metadata": {
        "id": "sZHK7vour2T2"
      },
      "source": [
        "import pandas as pd\n",
        "import numpy as np\n",
        "import sys\n",
        "import matplotlib.pyplot as plt\n",
        "import warnings\n",
        "\n",
        "from kats.consts import TimeSeriesData"
      ],
      "execution_count": 3,
      "outputs": []
    },
    {
      "cell_type": "markdown",
      "metadata": {
        "id": "NFIsPCqdvuW9"
      },
      "source": [
        "# Loading Dataset"
      ]
    },
    {
      "cell_type": "code",
      "metadata": {
        "colab": {
          "base_uri": "https://localhost:8080/",
          "height": 606
        },
        "id": "QQCVUUxmvRYV",
        "outputId": "e695afe1-d495-49b9-9206-e12fe8889b7c"
      },
      "source": [
        "# take 'apple stock' data as an example\n",
        "apple_df = pd.read_csv('https://raw.githubusercontent.com/Branden-Kang/Time-Series-Analysis/master/Data/AAPL.csv')\n",
        "apple_df"
      ],
      "execution_count": 16,
      "outputs": [
        {
          "output_type": "execute_result",
          "data": {
            "text/html": [
              "<div>\n",
              "<style scoped>\n",
              "    .dataframe tbody tr th:only-of-type {\n",
              "        vertical-align: middle;\n",
              "    }\n",
              "\n",
              "    .dataframe tbody tr th {\n",
              "        vertical-align: top;\n",
              "    }\n",
              "\n",
              "    .dataframe thead th {\n",
              "        text-align: right;\n",
              "    }\n",
              "</style>\n",
              "<table border=\"1\" class=\"dataframe\">\n",
              "  <thead>\n",
              "    <tr style=\"text-align: right;\">\n",
              "      <th></th>\n",
              "      <th>Date</th>\n",
              "      <th>Open</th>\n",
              "      <th>High</th>\n",
              "      <th>Low</th>\n",
              "      <th>Close</th>\n",
              "      <th>Adj Close</th>\n",
              "      <th>Volume</th>\n",
              "    </tr>\n",
              "  </thead>\n",
              "  <tbody>\n",
              "    <tr>\n",
              "      <th>0</th>\n",
              "      <td>2019-10-01</td>\n",
              "      <td>56.267502</td>\n",
              "      <td>57.055000</td>\n",
              "      <td>56.049999</td>\n",
              "      <td>56.147499</td>\n",
              "      <td>55.595886</td>\n",
              "      <td>139223200</td>\n",
              "    </tr>\n",
              "    <tr>\n",
              "      <th>1</th>\n",
              "      <td>2019-10-02</td>\n",
              "      <td>55.764999</td>\n",
              "      <td>55.895000</td>\n",
              "      <td>54.482498</td>\n",
              "      <td>54.740002</td>\n",
              "      <td>54.202213</td>\n",
              "      <td>138449200</td>\n",
              "    </tr>\n",
              "    <tr>\n",
              "      <th>2</th>\n",
              "      <td>2019-10-03</td>\n",
              "      <td>54.607498</td>\n",
              "      <td>55.240002</td>\n",
              "      <td>53.782501</td>\n",
              "      <td>55.205002</td>\n",
              "      <td>54.662643</td>\n",
              "      <td>114426000</td>\n",
              "    </tr>\n",
              "    <tr>\n",
              "      <th>3</th>\n",
              "      <td>2019-10-04</td>\n",
              "      <td>56.410000</td>\n",
              "      <td>56.872501</td>\n",
              "      <td>55.972500</td>\n",
              "      <td>56.752499</td>\n",
              "      <td>56.194942</td>\n",
              "      <td>138478800</td>\n",
              "    </tr>\n",
              "    <tr>\n",
              "      <th>4</th>\n",
              "      <td>2019-10-07</td>\n",
              "      <td>56.567501</td>\n",
              "      <td>57.482498</td>\n",
              "      <td>56.459999</td>\n",
              "      <td>56.764999</td>\n",
              "      <td>56.207317</td>\n",
              "      <td>122306000</td>\n",
              "    </tr>\n",
              "    <tr>\n",
              "      <th>...</th>\n",
              "      <td>...</td>\n",
              "      <td>...</td>\n",
              "      <td>...</td>\n",
              "      <td>...</td>\n",
              "      <td>...</td>\n",
              "      <td>...</td>\n",
              "      <td>...</td>\n",
              "    </tr>\n",
              "    <tr>\n",
              "      <th>248</th>\n",
              "      <td>2020-09-24</td>\n",
              "      <td>105.169998</td>\n",
              "      <td>110.250000</td>\n",
              "      <td>105.000000</td>\n",
              "      <td>108.220001</td>\n",
              "      <td>108.220001</td>\n",
              "      <td>167743300</td>\n",
              "    </tr>\n",
              "    <tr>\n",
              "      <th>249</th>\n",
              "      <td>2020-09-25</td>\n",
              "      <td>108.430000</td>\n",
              "      <td>112.440002</td>\n",
              "      <td>107.669998</td>\n",
              "      <td>112.279999</td>\n",
              "      <td>112.279999</td>\n",
              "      <td>149981400</td>\n",
              "    </tr>\n",
              "    <tr>\n",
              "      <th>250</th>\n",
              "      <td>2020-09-28</td>\n",
              "      <td>115.010002</td>\n",
              "      <td>115.320000</td>\n",
              "      <td>112.779999</td>\n",
              "      <td>114.959999</td>\n",
              "      <td>114.959999</td>\n",
              "      <td>137672400</td>\n",
              "    </tr>\n",
              "    <tr>\n",
              "      <th>251</th>\n",
              "      <td>2020-09-29</td>\n",
              "      <td>114.550003</td>\n",
              "      <td>115.309998</td>\n",
              "      <td>113.570000</td>\n",
              "      <td>114.089996</td>\n",
              "      <td>114.089996</td>\n",
              "      <td>99382200</td>\n",
              "    </tr>\n",
              "    <tr>\n",
              "      <th>252</th>\n",
              "      <td>2020-09-30</td>\n",
              "      <td>113.790001</td>\n",
              "      <td>117.260002</td>\n",
              "      <td>113.620003</td>\n",
              "      <td>115.809998</td>\n",
              "      <td>115.809998</td>\n",
              "      <td>142332500</td>\n",
              "    </tr>\n",
              "  </tbody>\n",
              "</table>\n",
              "<p>253 rows × 7 columns</p>\n",
              "</div>"
            ],
            "text/plain": [
              "           Date        Open        High  ...       Close   Adj Close     Volume\n",
              "0    2019-10-01   56.267502   57.055000  ...   56.147499   55.595886  139223200\n",
              "1    2019-10-02   55.764999   55.895000  ...   54.740002   54.202213  138449200\n",
              "2    2019-10-03   54.607498   55.240002  ...   55.205002   54.662643  114426000\n",
              "3    2019-10-04   56.410000   56.872501  ...   56.752499   56.194942  138478800\n",
              "4    2019-10-07   56.567501   57.482498  ...   56.764999   56.207317  122306000\n",
              "..          ...         ...         ...  ...         ...         ...        ...\n",
              "248  2020-09-24  105.169998  110.250000  ...  108.220001  108.220001  167743300\n",
              "249  2020-09-25  108.430000  112.440002  ...  112.279999  112.279999  149981400\n",
              "250  2020-09-28  115.010002  115.320000  ...  114.959999  114.959999  137672400\n",
              "251  2020-09-29  114.550003  115.309998  ...  114.089996  114.089996   99382200\n",
              "252  2020-09-30  113.790001  117.260002  ...  115.809998  115.809998  142332500\n",
              "\n",
              "[253 rows x 7 columns]"
            ]
          },
          "metadata": {},
          "execution_count": 16
        }
      ]
    },
    {
      "cell_type": "code",
      "metadata": {
        "id": "uapucKHYwAsl"
      },
      "source": [
        "apple_df = apple_df[['Date','Close']]"
      ],
      "execution_count": 17,
      "outputs": []
    },
    {
      "cell_type": "markdown",
      "metadata": {
        "id": "DEp77SemwFbD"
      },
      "source": [
        "# Forecasting\n",
        "Using Prophet model to forecast the air_passengers data set."
      ]
    },
    {
      "cell_type": "code",
      "metadata": {
        "id": "v_ZyG989wFwS"
      },
      "source": [
        "apple_df.columns = [\"time\", \"value\"]\n",
        "# convert to TimeSeriesData object\n",
        "apple_ts = TimeSeriesData(apple_df)"
      ],
      "execution_count": 18,
      "outputs": []
    },
    {
      "cell_type": "code",
      "metadata": {
        "colab": {
          "base_uri": "https://localhost:8080/",
          "height": 446
        },
        "id": "7hQJ9jvpyCSG",
        "outputId": "f30bec04-7bab-4cc2-99c9-c77b76c987ea"
      },
      "source": [
        "from kats.models.prophet import ProphetModel, ProphetParams\n",
        "warnings.simplefilter(action='ignore')\n",
        "\n",
        "# create a model param instance\n",
        "params = ProphetParams(seasonality_mode='additive') # additive mode gives worse results\n",
        "\n",
        "# create a prophet model instance\n",
        "m = ProphetModel(apple_ts, params)\n",
        "\n",
        "# fit model simply by calling m.fit()\n",
        "m.fit()\n",
        "\n",
        "# make prediction for next 30 month\n",
        "fcst = m.predict(steps=30, freq=\"MS\")\n",
        "\n",
        "# make plot to visualize\n",
        "m.plot()"
      ],
      "execution_count": 27,
      "outputs": [
        {
          "output_type": "stream",
          "name": "stderr",
          "text": [
            "INFO:fbprophet:Disabling yearly seasonality. Run prophet with yearly_seasonality=True to override this.\n",
            "INFO:fbprophet:Disabling daily seasonality. Run prophet with daily_seasonality=True to override this.\n"
          ]
        },
        {
          "output_type": "display_data",
          "data": {
            "image/png": "[encoded data removed]",
            "text/plain": [
              "<Figure size 720x432 with 1 Axes>"
            ]
          },
          "metadata": {}
        }
      ]
    },
    {
      "cell_type": "code",
      "metadata": {
        "colab": {
          "base_uri": "https://localhost:8080/",
          "height": 392
        },
        "id": "P7dsCnZYwOdi",
        "outputId": "f72ee711-9c46-4048-f846-7881c12b6107"
      },
      "source": [
        "from kats.models.sarima import SARIMAModel, SARIMAParams\n",
        "warnings.simplefilter(action='ignore')\n",
        "\n",
        "# create SARIMA param class\n",
        "params = SARIMAParams(\n",
        "    p = 2, \n",
        "    d = 1, \n",
        "    q = 1, \n",
        "    trend = 'ct', \n",
        "    seasonal_order=(1, 0, 1, 12)\n",
        "    )\n",
        "\n",
        "# initiate SARIMA model\n",
        "m = SARIMAModel(data=apple_ts, params=params)\n",
        "\n",
        "# fit SARIMA model\n",
        "m.fit()\n",
        "\n",
        "# generate forecast values\n",
        "fcst = m.predict(\n",
        "    steps = 10\n",
        "    #freq=\"MS\"\n",
        "    )\n",
        "\n",
        "# make plot to visualize\n",
        "m.plot()"
      ],
      "execution_count": 25,
      "outputs": [
        {
          "output_type": "display_data",
          "data": {
            "image/png": "[encoded data removed]",
            "text/plain": [
              "<Figure size 720x432 with 1 Axes>"
            ]
          },
          "metadata": {}
        }
      ]
    },
    {
      "cell_type": "code",
      "metadata": {
        "colab": {
          "base_uri": "https://localhost:8080/",
          "height": 392
        },
        "id": "MztlVv1twXd2",
        "outputId": "3ff3d360-3340-41b3-e395-8f15da5a16f0"
      },
      "source": [
        "from kats.models.holtwinters import HoltWintersParams, HoltWintersModel\n",
        "warnings.simplefilter(action='ignore')\n",
        "\n",
        "params = HoltWintersParams(\n",
        "            trend=\"add\",\n",
        "            #damped=False,\n",
        "            seasonal=\"mul\",\n",
        "            seasonal_periods=12,\n",
        "        )\n",
        "m = HoltWintersModel(\n",
        "    data = apple_ts, \n",
        "    params=params)\n",
        "\n",
        "m.fit()\n",
        "fcst = m.predict(steps=30, alpha = 0.1)\n",
        "m.plot()"
      ],
      "execution_count": 26,
      "outputs": [
        {
          "output_type": "display_data",
          "data": {
            "image/png": "[encoded data removed]",
            "text/plain": [
              "<Figure size 720x432 with 1 Axes>"
            ]
          },
          "metadata": {}
        }
      ]
    },
    {
      "cell_type": "markdown",
      "metadata": {
        "id": "1c_HtZ7LzQER"
      },
      "source": [
        "# Detection\n",
        "Using CUSUM detection algorithm on simulated data set."
      ]
    },
    {
      "cell_type": "code",
      "metadata": {
        "id": "bCeWVCewyHXA"
      },
      "source": [
        "# import packages\n",
        "import numpy as np\n",
        "import pandas as pd\n",
        "\n",
        "from kats.consts import TimeSeriesData\n",
        "from kats.detectors.cusum_detection import CUSUMDetector\n",
        "\n",
        "# simulate time series with increase\n",
        "np.random.seed(10)\n",
        "df_increase = pd.DataFrame(\n",
        "    {\n",
        "        'time': pd.date_range('2019-01-01', '2019-03-01'),\n",
        "        'increase':np.concatenate([np.random.normal(1,0.2,30), np.random.normal(2,0.2,30)]),\n",
        "    }\n",
        ")\n",
        "\n",
        "# convert to TimeSeriesData object\n",
        "timeseries = TimeSeriesData(df_increase)\n",
        "\n",
        "# run detector and find change points\n",
        "change_points = CUSUMDetector(timeseries).detector()"
      ],
      "execution_count": 28,
      "outputs": []
    },
    {
      "cell_type": "markdown",
      "metadata": {
        "id": "LG-4Vze5zXT2"
      },
      "source": [
        "# TSFeatures\n",
        "We can extract meaningful features from the given time series data"
      ]
    },
    {
      "cell_type": "code",
      "metadata": {
        "colab": {
          "base_uri": "https://localhost:8080/",
          "height": 412
        },
        "id": "CHoHEdEe2DiX",
        "outputId": "d8827d74-f337-4fe0-80b4-5a352a9ba904"
      },
      "source": [
        "!pip install statsmodels==0.12.2"
      ],
      "execution_count": 40,
      "outputs": [
        {
          "output_type": "stream",
          "name": "stdout",
          "text": [
            "Collecting statsmodels==0.12.2\n",
            "  Downloading statsmodels-0.12.2-cp37-cp37m-manylinux1_x86_64.whl (9.5 MB)\n",
            "     |████████████████████████████████| 9.5 MB 8.6 MB/s            \n",
            "\u001b[?25hRequirement already satisfied: scipy>=1.1 in /usr/local/lib/python3.7/dist-packages (from statsmodels==0.12.2) (1.4.1)\n",
            "Requirement already satisfied: pandas>=0.21 in /usr/local/lib/python3.7/dist-packages (from statsmodels==0.12.2) (1.1.5)\n",
            "Requirement already satisfied: numpy>=1.15 in /usr/local/lib/python3.7/dist-packages (from statsmodels==0.12.2) (1.19.5)\n",
            "Requirement already satisfied: patsy>=0.5 in /usr/local/lib/python3.7/dist-packages (from statsmodels==0.12.2) (0.5.2)\n",
            "Requirement already satisfied: python-dateutil>=2.7.3 in /usr/local/lib/python3.7/dist-packages (from pandas>=0.21->statsmodels==0.12.2) (2.8.2)\n",
            "Requirement already satisfied: pytz>=2017.2 in /usr/local/lib/python3.7/dist-packages (from pandas>=0.21->statsmodels==0.12.2) (2018.9)\n",
            "Requirement already satisfied: six in /usr/local/lib/python3.7/dist-packages (from patsy>=0.5->statsmodels==0.12.2) (1.15.0)\n",
            "Installing collected packages: statsmodels\n",
            "  Attempting uninstall: statsmodels\n",
            "    Found existing installation: statsmodels 0.13.1\n",
            "    Uninstalling statsmodels-0.13.1:\n",
            "      Successfully uninstalled statsmodels-0.13.1\n",
            "Successfully installed statsmodels-0.12.2\n",
            "\u001b[33mWARNING: Running pip as the 'root' user can result in broken permissions and conflicting behaviour with the system package manager. It is recommended to use a virtual environment instead: https://pip.pypa.io/warnings/venv\u001b[0m\n"
          ]
        },
        {
          "output_type": "display_data",
          "data": {
            "application/vnd.colab-display-data+json": {
              "pip_warning": {
                "packages": [
                  "statsmodels"
                ]
              }
            }
          },
          "metadata": {}
        }
      ]
    },
    {
      "cell_type": "code",
      "metadata": {
        "id": "8E0YYvw_zTO3"
      },
      "source": [
        "# Initiate feature extraction class\n",
        "import pandas as pd\n",
        "from kats.consts import TimeSeriesData\n",
        "from kats.tsfeatures.tsfeatures import TsFeatures\n",
        "\n",
        "# take `air_passengers` data as an example\n",
        "apple_df = pd.read_csv('https://raw.githubusercontent.com/Branden-Kang/Time-Series-Analysis/master/Data/AAPL.csv')\n",
        "apple_df = apple_df[['Date','Close']]\n",
        "apple_df.columns = [\"time\", \"value\"]\n",
        "\n",
        "# convert to TimeSeriesData object\n",
        "apple_ts = TimeSeriesData(apple_df)\n",
        "model = TsFeatures()\n",
        "\n",
        "# calculate the TsFeatures\n",
        "features = model.transform(apple_ts)\n",
        "features"
      ],
      "execution_count": 42,
      "outputs": []
    }
  ]
}