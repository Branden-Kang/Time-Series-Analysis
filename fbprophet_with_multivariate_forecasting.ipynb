{
  "nbformat": 4,
  "nbformat_minor": 0,
  "metadata": {
    "colab": {
      "name": "fbprophet with multivariate forecasting.ipynb",
      "provenance": [],
      "authorship_tag": "ABX9TyPtY7++CyHR3taERYvDM80v"
    },
    "kernelspec": {
      "name": "python3",
      "display_name": "Python 3"
    },
    "language_info": {
      "name": "python"
    }
  },
  "cells": [
    {
      "cell_type": "markdown",
      "source": [
        "[Reference](https://bobrupakroy.medium.com/yes-our-favorite-fbprophet-is-back-with-multivariate-forecasting-785fbe412731)"
      ],
      "metadata": {
        "id": "d2CFiBMETNFP"
      }
    },
    {
      "cell_type": "markdown",
      "source": [
        "# Import Dataset"
      ],
      "metadata": {
        "id": "2wajfXBQTU-w"
      }
    },
    {
      "cell_type": "code",
      "execution_count": 5,
      "metadata": {
        "id": "fWcHAINiSqk2"
      },
      "outputs": [],
      "source": [
        "import pandas as pd\n",
        "import numpy as np\n",
        "import matplotlib.pyplot as plt\n",
        "from fbprophet import Prophet\n",
        "\n",
        "df = pd.read_csv(\"https://raw.githubusercontent.com/Branden-Kang/Time-Series-Analysis/master/Data/stock_trading_data.csv\")\n",
        "#we will take only 5 columns\n",
        "df = df.iloc[:,:5]\n",
        "\n",
        "#fixed the datetime column\n",
        "df[\"Date\"] = pd.to_datetime(df[\"Date\"])"
      ]
    },
    {
      "cell_type": "code",
      "source": [
        "df"
      ],
      "metadata": {
        "colab": {
          "base_uri": "https://localhost:8080/",
          "height": 419
        },
        "id": "wzxIyLQ2TJvE",
        "outputId": "177450d3-bbf5-4208-e0c2-451c4f81318b"
      },
      "execution_count": 6,
      "outputs": [
        {
          "output_type": "execute_result",
          "data": {
            "text/plain": [
              "           Date         Open         High          Low        Close\n",
              "0    2016-06-06   724.909973   724.909973   714.609985   716.549988\n",
              "1    2016-06-07   719.840027   721.979980   716.549988   716.650024\n",
              "2    2016-06-08   723.960022   728.570007   720.580017   728.280029\n",
              "3    2016-06-09   722.869995   729.539978   722.335999   728.580017\n",
              "4    2016-06-10   719.469971   725.890015   716.429993   719.409973\n",
              "...         ...          ...          ...          ...          ...\n",
              "1253 2021-05-27  2436.939941  2440.000000  2402.000000  2402.510010\n",
              "1254 2021-05-28  2421.959961  2428.139893  2407.689941  2411.560059\n",
              "1255 2021-06-01  2422.000000  2437.970947  2404.879883  2429.810059\n",
              "1256 2021-06-02  2435.310059  2442.000000  2404.199951  2421.280029\n",
              "1257 2021-06-03  2395.020020  2409.745117  2382.830078  2404.610107\n",
              "\n",
              "[1258 rows x 5 columns]"
            ],
            "text/html": [
              "\n",
              "  <div id=\"df-fc3cad36-3778-4c78-9e80-949263a93064\">\n",
              "    <div class=\"colab-df-container\">\n",
              "      <div>\n",
              "<style scoped>\n",
              "    .dataframe tbody tr th:only-of-type {\n",
              "        vertical-align: middle;\n",
              "    }\n",
              "\n",
              "    .dataframe tbody tr th {\n",
              "        vertical-align: top;\n",
              "    }\n",
              "\n",
              "    .dataframe thead th {\n",
              "        text-align: right;\n",
              "    }\n",
              "</style>\n",
              "<table border=\"1\" class=\"dataframe\">\n",
              "  <thead>\n",
              "    <tr style=\"text-align: right;\">\n",
              "      <th></th>\n",
              "      <th>Date</th>\n",
              "      <th>Open</th>\n",
              "      <th>High</th>\n",
              "      <th>Low</th>\n",
              "      <th>Close</th>\n",
              "    </tr>\n",
              "  </thead>\n",
              "  <tbody>\n",
              "    <tr>\n",
              "      <th>0</th>\n",
              "      <td>2016-06-06</td>\n",
              "      <td>724.909973</td>\n",
              "      <td>724.909973</td>\n",
              "      <td>714.609985</td>\n",
              "      <td>716.549988</td>\n",
              "    </tr>\n",
              "    <tr>\n",
              "      <th>1</th>\n",
              "      <td>2016-06-07</td>\n",
              "      <td>719.840027</td>\n",
              "      <td>721.979980</td>\n",
              "      <td>716.549988</td>\n",
              "      <td>716.650024</td>\n",
              "    </tr>\n",
              "    <tr>\n",
              "      <th>2</th>\n",
              "      <td>2016-06-08</td>\n",
              "      <td>723.960022</td>\n",
              "      <td>728.570007</td>\n",
              "      <td>720.580017</td>\n",
              "      <td>728.280029</td>\n",
              "    </tr>\n",
              "    <tr>\n",
              "      <th>3</th>\n",
              "      <td>2016-06-09</td>\n",
              "      <td>722.869995</td>\n",
              "      <td>729.539978</td>\n",
              "      <td>722.335999</td>\n",
              "      <td>728.580017</td>\n",
              "    </tr>\n",
              "    <tr>\n",
              "      <th>4</th>\n",
              "      <td>2016-06-10</td>\n",
              "      <td>719.469971</td>\n",
              "      <td>725.890015</td>\n",
              "      <td>716.429993</td>\n",
              "      <td>719.409973</td>\n",
              "    </tr>\n",
              "    <tr>\n",
              "      <th>...</th>\n",
              "      <td>...</td>\n",
              "      <td>...</td>\n",
              "      <td>...</td>\n",
              "      <td>...</td>\n",
              "      <td>...</td>\n",
              "    </tr>\n",
              "    <tr>\n",
              "      <th>1253</th>\n",
              "      <td>2021-05-27</td>\n",
              "      <td>2436.939941</td>\n",
              "      <td>2440.000000</td>\n",
              "      <td>2402.000000</td>\n",
              "      <td>2402.510010</td>\n",
              "    </tr>\n",
              "    <tr>\n",
              "      <th>1254</th>\n",
              "      <td>2021-05-28</td>\n",
              "      <td>2421.959961</td>\n",
              "      <td>2428.139893</td>\n",
              "      <td>2407.689941</td>\n",
              "      <td>2411.560059</td>\n",
              "    </tr>\n",
              "    <tr>\n",
              "      <th>1255</th>\n",
              "      <td>2021-06-01</td>\n",
              "      <td>2422.000000</td>\n",
              "      <td>2437.970947</td>\n",
              "      <td>2404.879883</td>\n",
              "      <td>2429.810059</td>\n",
              "    </tr>\n",
              "    <tr>\n",
              "      <th>1256</th>\n",
              "      <td>2021-06-02</td>\n",
              "      <td>2435.310059</td>\n",
              "      <td>2442.000000</td>\n",
              "      <td>2404.199951</td>\n",
              "      <td>2421.280029</td>\n",
              "    </tr>\n",
              "    <tr>\n",
              "      <th>1257</th>\n",
              "      <td>2021-06-03</td>\n",
              "      <td>2395.020020</td>\n",
              "      <td>2409.745117</td>\n",
              "      <td>2382.830078</td>\n",
              "      <td>2404.610107</td>\n",
              "    </tr>\n",
              "  </tbody>\n",
              "</table>\n",
              "<p>1258 rows × 5 columns</p>\n",
              "</div>\n",
              "      <button class=\"colab-df-convert\" onclick=\"convertToInteractive('df-fc3cad36-3778-4c78-9e80-949263a93064')\"\n",
              "              title=\"Convert this dataframe to an interactive table.\"\n",
              "              style=\"display:none;\">\n",
              "        \n",
              "  <svg xmlns=\"http://www.w3.org/2000/svg\" height=\"24px\"viewBox=\"0 0 24 24\"\n",
              "       width=\"24px\">\n",
              "    <path d=\"M0 0h24v24H0V0z\" fill=\"none\"/>\n",
              "    <path d=\"M18.56 5.44l.94 2.06.94-2.06 2.06-.94-2.06-.94-.94-2.06-.94 2.06-2.06.94zm-11 1L8.5 8.5l.94-2.06 2.06-.94-2.06-.94L8.5 2.5l-.94 2.06-2.06.94zm10 10l.94 2.06.94-2.06 2.06-.94-2.06-.94-.94-2.06-.94 2.06-2.06.94z\"/><path d=\"M17.41 7.96l-1.37-1.37c-.4-.4-.92-.59-1.43-.59-.52 0-1.04.2-1.43.59L10.3 9.45l-7.72 7.72c-.78.78-.78 2.05 0 2.83L4 21.41c.39.39.9.59 1.41.59.51 0 1.02-.2 1.41-.59l7.78-7.78 2.81-2.81c.8-.78.8-2.07 0-2.86zM5.41 20L4 18.59l7.72-7.72 1.47 1.35L5.41 20z\"/>\n",
              "  </svg>\n",
              "      </button>\n",
              "      \n",
              "  <style>\n",
              "    .colab-df-container {\n",
              "      display:flex;\n",
              "      flex-wrap:wrap;\n",
              "      gap: 12px;\n",
              "    }\n",
              "\n",
              "    .colab-df-convert {\n",
              "      background-color: #E8F0FE;\n",
              "      border: none;\n",
              "      border-radius: 50%;\n",
              "      cursor: pointer;\n",
              "      display: none;\n",
              "      fill: #1967D2;\n",
              "      height: 32px;\n",
              "      padding: 0 0 0 0;\n",
              "      width: 32px;\n",
              "    }\n",
              "\n",
              "    .colab-df-convert:hover {\n",
              "      background-color: #E2EBFA;\n",
              "      box-shadow: 0px 1px 2px rgba(60, 64, 67, 0.3), 0px 1px 3px 1px rgba(60, 64, 67, 0.15);\n",
              "      fill: #174EA6;\n",
              "    }\n",
              "\n",
              "    [theme=dark] .colab-df-convert {\n",
              "      background-color: #3B4455;\n",
              "      fill: #D2E3FC;\n",
              "    }\n",
              "\n",
              "    [theme=dark] .colab-df-convert:hover {\n",
              "      background-color: #434B5C;\n",
              "      box-shadow: 0px 1px 3px 1px rgba(0, 0, 0, 0.15);\n",
              "      filter: drop-shadow(0px 1px 2px rgba(0, 0, 0, 0.3));\n",
              "      fill: #FFFFFF;\n",
              "    }\n",
              "  </style>\n",
              "\n",
              "      <script>\n",
              "        const buttonEl =\n",
              "          document.querySelector('#df-fc3cad36-3778-4c78-9e80-949263a93064 button.colab-df-convert');\n",
              "        buttonEl.style.display =\n",
              "          google.colab.kernel.accessAllowed ? 'block' : 'none';\n",
              "\n",
              "        async function convertToInteractive(key) {\n",
              "          const element = document.querySelector('#df-fc3cad36-3778-4c78-9e80-949263a93064');\n",
              "          const dataTable =\n",
              "            await google.colab.kernel.invokeFunction('convertToInteractive',\n",
              "                                                     [key], {});\n",
              "          if (!dataTable) return;\n",
              "\n",
              "          const docLinkHtml = 'Like what you see? Visit the ' +\n",
              "            '<a target=\"_blank\" href=https://colab.research.google.com/notebooks/data_table.ipynb>data table notebook</a>'\n",
              "            + ' to learn more about interactive tables.';\n",
              "          element.innerHTML = '';\n",
              "          dataTable['output_type'] = 'display_data';\n",
              "          await google.colab.output.renderOutput(dataTable, element);\n",
              "          const docLink = document.createElement('div');\n",
              "          docLink.innerHTML = docLinkHtml;\n",
              "          element.appendChild(docLink);\n",
              "        }\n",
              "      </script>\n",
              "    </div>\n",
              "  </div>\n",
              "  "
            ]
          },
          "metadata": {},
          "execution_count": 6
        }
      ]
    },
    {
      "cell_type": "markdown",
      "source": [
        "# Divide the dataset into 2 parts Train and Test 70:30 ratio"
      ],
      "metadata": {
        "id": "j0saXcoUTStZ"
      }
    },
    {
      "cell_type": "code",
      "source": [
        "# Divide the data into train and test\n",
        "test_size =np.round(df.shape[0] *30/100).astype(int)\n",
        "df1_train = df.iloc[test_size:,:]\n",
        "df1_test = df.iloc[:test_size,:]\n",
        "df1_train.dtypes"
      ],
      "metadata": {
        "colab": {
          "base_uri": "https://localhost:8080/"
        },
        "id": "C6lweKbrTPl4",
        "outputId": "e77167f4-e7c0-4ad8-c695-9d46569bcc24"
      },
      "execution_count": 7,
      "outputs": [
        {
          "output_type": "execute_result",
          "data": {
            "text/plain": [
              "Date     datetime64[ns]\n",
              "Open            float64\n",
              "High            float64\n",
              "Low             float64\n",
              "Close           float64\n",
              "dtype: object"
            ]
          },
          "metadata": {},
          "execution_count": 7
        }
      ]
    },
    {
      "cell_type": "code",
      "source": [
        "plt.figure(figsize=(10,8))\n",
        "figure,axes = plt.subplots(nrows=2,ncols=2)\n",
        "axes[0,0].plot(df1_train[\"Date\"],df1_train[\"Open\"],label=\"Open\")\n",
        "axes[0,1].plot(df1_train[\"Date\"],df1_train[\"High\"],label=\"High\")\n",
        "axes[1,0].plot(df1_train[\"Date\"],df1_train[\"Low\"],label=\"Low\")\n",
        "axes[1,1].plot(df1_train[\"Date\"],df1_train[\"Close\"],label=\"Close\")\n",
        "plt.legend()"
      ],
      "metadata": {
        "colab": {
          "base_uri": "https://localhost:8080/",
          "height": 303
        },
        "id": "BDcQwPeCTYai",
        "outputId": "4f74113e-eb26-4332-ab00-8349981360be"
      },
      "execution_count": 8,
      "outputs": [
        {
          "output_type": "execute_result",
          "data": {
            "text/plain": [
              "<matplotlib.legend.Legend at 0x7f9154b99bd0>"
            ]
          },
          "metadata": {},
          "execution_count": 8
        },
        {
          "output_type": "display_data",
          "data": {
            "text/plain": [
              "<Figure size 720x576 with 0 Axes>"
            ]
          },
          "metadata": {}
        },
        {
          "output_type": "display_data",
          "data": {
            "text/plain": [
              "<Figure size 432x288 with 4 Axes>"
            ],
            "image/png": "[encoded data removed]"
          },
          "metadata": {
            "needs_background": "light"
          }
        }
      ]
    },
    {
      "cell_type": "markdown",
      "source": [
        "# Date -> ds, Open -> y"
      ],
      "metadata": {
        "id": "m0ISLk7ETnDh"
      }
    },
    {
      "cell_type": "code",
      "source": [
        "#prepare the dateset for FBprophet\n",
        "df1_train.rename(columns={\"Open\":'y',\"Date\":'ds'},inplace=True)\n",
        "df1_train.head(5)"
      ],
      "metadata": {
        "colab": {
          "base_uri": "https://localhost:8080/",
          "height": 289
        },
        "id": "nI8x2qQ5Tbe3",
        "outputId": "5fc872ae-b1e0-40ad-bc81-a8e6200e5297"
      },
      "execution_count": 9,
      "outputs": [
        {
          "output_type": "stream",
          "name": "stderr",
          "text": [
            "/usr/local/lib/python3.7/dist-packages/pandas/core/frame.py:5047: SettingWithCopyWarning: \n",
            "A value is trying to be set on a copy of a slice from a DataFrame\n",
            "\n",
            "See the caveats in the documentation: https://pandas.pydata.org/pandas-docs/stable/user_guide/indexing.html#returning-a-view-versus-a-copy\n",
            "  errors=errors,\n"
          ]
        },
        {
          "output_type": "execute_result",
          "data": {
            "text/plain": [
              "            ds            y         High          Low        Close\n",
              "377 2017-12-01  1015.799988  1022.489990  1002.020020  1010.169983\n",
              "378 2017-12-04  1012.659973  1016.099976   995.570007   998.679993\n",
              "379 2017-12-05   995.940002  1020.609985   988.280029  1005.150024\n",
              "380 2017-12-06  1001.500000  1024.969971  1001.140015  1018.380005\n",
              "381 2017-12-07  1020.429993  1034.239990  1018.070984  1030.930054"
            ],
            "text/html": [
              "\n",
              "  <div id=\"df-5fabc58b-8650-44e1-acd3-7ffa40327607\">\n",
              "    <div class=\"colab-df-container\">\n",
              "      <div>\n",
              "<style scoped>\n",
              "    .dataframe tbody tr th:only-of-type {\n",
              "        vertical-align: middle;\n",
              "    }\n",
              "\n",
              "    .dataframe tbody tr th {\n",
              "        vertical-align: top;\n",
              "    }\n",
              "\n",
              "    .dataframe thead th {\n",
              "        text-align: right;\n",
              "    }\n",
              "</style>\n",
              "<table border=\"1\" class=\"dataframe\">\n",
              "  <thead>\n",
              "    <tr style=\"text-align: right;\">\n",
              "      <th></th>\n",
              "      <th>ds</th>\n",
              "      <th>y</th>\n",
              "      <th>High</th>\n",
              "      <th>Low</th>\n",
              "      <th>Close</th>\n",
              "    </tr>\n",
              "  </thead>\n",
              "  <tbody>\n",
              "    <tr>\n",
              "      <th>377</th>\n",
              "      <td>2017-12-01</td>\n",
              "      <td>1015.799988</td>\n",
              "      <td>1022.489990</td>\n",
              "      <td>1002.020020</td>\n",
              "      <td>1010.169983</td>\n",
              "    </tr>\n",
              "    <tr>\n",
              "      <th>378</th>\n",
              "      <td>2017-12-04</td>\n",
              "      <td>1012.659973</td>\n",
              "      <td>1016.099976</td>\n",
              "      <td>995.570007</td>\n",
              "      <td>998.679993</td>\n",
              "    </tr>\n",
              "    <tr>\n",
              "      <th>379</th>\n",
              "      <td>2017-12-05</td>\n",
              "      <td>995.940002</td>\n",
              "      <td>1020.609985</td>\n",
              "      <td>988.280029</td>\n",
              "      <td>1005.150024</td>\n",
              "    </tr>\n",
              "    <tr>\n",
              "      <th>380</th>\n",
              "      <td>2017-12-06</td>\n",
              "      <td>1001.500000</td>\n",
              "      <td>1024.969971</td>\n",
              "      <td>1001.140015</td>\n",
              "      <td>1018.380005</td>\n",
              "    </tr>\n",
              "    <tr>\n",
              "      <th>381</th>\n",
              "      <td>2017-12-07</td>\n",
              "      <td>1020.429993</td>\n",
              "      <td>1034.239990</td>\n",
              "      <td>1018.070984</td>\n",
              "      <td>1030.930054</td>\n",
              "    </tr>\n",
              "  </tbody>\n",
              "</table>\n",
              "</div>\n",
              "      <button class=\"colab-df-convert\" onclick=\"convertToInteractive('df-5fabc58b-8650-44e1-acd3-7ffa40327607')\"\n",
              "              title=\"Convert this dataframe to an interactive table.\"\n",
              "              style=\"display:none;\">\n",
              "        \n",
              "  <svg xmlns=\"http://www.w3.org/2000/svg\" height=\"24px\"viewBox=\"0 0 24 24\"\n",
              "       width=\"24px\">\n",
              "    <path d=\"M0 0h24v24H0V0z\" fill=\"none\"/>\n",
              "    <path d=\"M18.56 5.44l.94 2.06.94-2.06 2.06-.94-2.06-.94-.94-2.06-.94 2.06-2.06.94zm-11 1L8.5 8.5l.94-2.06 2.06-.94-2.06-.94L8.5 2.5l-.94 2.06-2.06.94zm10 10l.94 2.06.94-2.06 2.06-.94-2.06-.94-.94-2.06-.94 2.06-2.06.94z\"/><path d=\"M17.41 7.96l-1.37-1.37c-.4-.4-.92-.59-1.43-.59-.52 0-1.04.2-1.43.59L10.3 9.45l-7.72 7.72c-.78.78-.78 2.05 0 2.83L4 21.41c.39.39.9.59 1.41.59.51 0 1.02-.2 1.41-.59l7.78-7.78 2.81-2.81c.8-.78.8-2.07 0-2.86zM5.41 20L4 18.59l7.72-7.72 1.47 1.35L5.41 20z\"/>\n",
              "  </svg>\n",
              "      </button>\n",
              "      \n",
              "  <style>\n",
              "    .colab-df-container {\n",
              "      display:flex;\n",
              "      flex-wrap:wrap;\n",
              "      gap: 12px;\n",
              "    }\n",
              "\n",
              "    .colab-df-convert {\n",
              "      background-color: #E8F0FE;\n",
              "      border: none;\n",
              "      border-radius: 50%;\n",
              "      cursor: pointer;\n",
              "      display: none;\n",
              "      fill: #1967D2;\n",
              "      height: 32px;\n",
              "      padding: 0 0 0 0;\n",
              "      width: 32px;\n",
              "    }\n",
              "\n",
              "    .colab-df-convert:hover {\n",
              "      background-color: #E2EBFA;\n",
              "      box-shadow: 0px 1px 2px rgba(60, 64, 67, 0.3), 0px 1px 3px 1px rgba(60, 64, 67, 0.15);\n",
              "      fill: #174EA6;\n",
              "    }\n",
              "\n",
              "    [theme=dark] .colab-df-convert {\n",
              "      background-color: #3B4455;\n",
              "      fill: #D2E3FC;\n",
              "    }\n",
              "\n",
              "    [theme=dark] .colab-df-convert:hover {\n",
              "      background-color: #434B5C;\n",
              "      box-shadow: 0px 1px 3px 1px rgba(0, 0, 0, 0.15);\n",
              "      filter: drop-shadow(0px 1px 2px rgba(0, 0, 0, 0.3));\n",
              "      fill: #FFFFFF;\n",
              "    }\n",
              "  </style>\n",
              "\n",
              "      <script>\n",
              "        const buttonEl =\n",
              "          document.querySelector('#df-5fabc58b-8650-44e1-acd3-7ffa40327607 button.colab-df-convert');\n",
              "        buttonEl.style.display =\n",
              "          google.colab.kernel.accessAllowed ? 'block' : 'none';\n",
              "\n",
              "        async function convertToInteractive(key) {\n",
              "          const element = document.querySelector('#df-5fabc58b-8650-44e1-acd3-7ffa40327607');\n",
              "          const dataTable =\n",
              "            await google.colab.kernel.invokeFunction('convertToInteractive',\n",
              "                                                     [key], {});\n",
              "          if (!dataTable) return;\n",
              "\n",
              "          const docLinkHtml = 'Like what you see? Visit the ' +\n",
              "            '<a target=\"_blank\" href=https://colab.research.google.com/notebooks/data_table.ipynb>data table notebook</a>'\n",
              "            + ' to learn more about interactive tables.';\n",
              "          element.innerHTML = '';\n",
              "          dataTable['output_type'] = 'display_data';\n",
              "          await google.colab.output.renderOutput(dataTable, element);\n",
              "          const docLink = document.createElement('div');\n",
              "          docLink.innerHTML = docLinkHtml;\n",
              "          element.appendChild(docLink);\n",
              "        }\n",
              "      </script>\n",
              "    </div>\n",
              "  </div>\n",
              "  "
            ]
          },
          "metadata": {},
          "execution_count": 9
        }
      ]
    },
    {
      "cell_type": "markdown",
      "source": [
        "# Build the model"
      ],
      "metadata": {
        "id": "2-8kMmIdTreJ"
      }
    },
    {
      "cell_type": "code",
      "source": [
        "model = Prophet(interval_width=0.9)\n",
        "model.add_regressor('High',standardize=False)\n",
        "model.add_regressor('Low',standardize=False)\n",
        "model.add_regressor('Close', standardize=False)\n",
        "model.fit(df1_train)"
      ],
      "metadata": {
        "colab": {
          "base_uri": "https://localhost:8080/"
        },
        "id": "Qjen4aY0ThyL",
        "outputId": "6440d297-1f7f-4f0b-b1cd-bd12ccdb35d7"
      },
      "execution_count": 10,
      "outputs": [
        {
          "output_type": "stream",
          "name": "stderr",
          "text": [
            "INFO:fbprophet:Disabling daily seasonality. Run prophet with daily_seasonality=True to override this.\n"
          ]
        },
        {
          "output_type": "execute_result",
          "data": {
            "text/plain": [
              "<fbprophet.forecaster.Prophet at 0x7f9154c26e50>"
            ]
          },
          "metadata": {},
          "execution_count": 10
        }
      ]
    },
    {
      "cell_type": "markdown",
      "source": [
        "Autoregressor itself is multivariate in the sense it computes t+1 with its lag version of itself and this is how time series works! now adding results of each different multiple variables like ‘High’, ‘Low’, ‘Close’ we can compute multivariate time series"
      ],
      "metadata": {
        "id": "Nz2xe1sqT1aI"
      }
    },
    {
      "cell_type": "code",
      "source": [
        "# To view the model parameters \n",
        "model.params"
      ],
      "metadata": {
        "colab": {
          "base_uri": "https://localhost:8080/"
        },
        "id": "SRpl54D5Tt9L",
        "outputId": "4e7ff4a0-38ee-4b30-a612-6cbd1abff8a3"
      },
      "execution_count": 11,
      "outputs": [
        {
          "output_type": "execute_result",
          "data": {
            "text/plain": [
              "{'beta': array([[ 2.45533151e-03,  1.20760867e-03,  2.04697751e-03,\n",
              "          3.29714318e-03, -9.85940313e-05,  1.25015097e-03,\n",
              "         -7.78927567e-04,  1.24494878e-03, -7.76500587e-04,\n",
              "         -3.65912200e-04, -1.00957783e-03, -1.50327745e-04,\n",
              "         -4.03351782e-04, -3.41309570e-04, -5.54247850e-04,\n",
              "         -1.18135684e-03,  8.77423249e-05, -3.28775982e-04,\n",
              "         -6.11053792e-05, -5.07123909e-04,  1.07217640e-01,\n",
              "         -8.37764040e-02, -9.12363151e-02, -2.11293084e-02,\n",
              "          1.52273814e-02,  2.96852107e-02,  4.23253986e-04,\n",
              "          2.51763278e-04, -2.69121524e-04]]),\n",
              " 'delta': array([[-0.09299166, -0.07598855, -0.05984106, -0.04621794, -0.03693899,\n",
              "         -0.02735735, -0.01599459, -0.01841057, -0.00358586, -0.00736728,\n",
              "         -0.00192268,  0.00053776,  0.00591848,  0.01053368, -0.03086234,\n",
              "         -0.02903923, -0.02522102, -0.02359958, -0.01251031,  0.00299371,\n",
              "          0.02039357,  0.03069381,  0.03688516,  0.0425177 ,  0.044198  ]]),\n",
              " 'k': array([[0.3927839]]),\n",
              " 'm': array([[0.03996314]]),\n",
              " 'sigma_obs': array([[0.02249324]]),\n",
              " 'trend': array([[0.03996314, 0.04088373, 0.04119059, 0.04149746, 0.04180432,\n",
              "         0.04211118, 0.04303177, 0.04333863, 0.04364549, 0.04395236,\n",
              "         0.04425922, 0.0451798 , 0.04548667, 0.04579353, 0.04610039,\n",
              "         0.04640725, 0.0476347 , 0.04794157, 0.04824843, 0.04855529,\n",
              "         0.04978274, 0.0500896 , 0.05039647, 0.05070333, 0.05162392,\n",
              "         0.05193078, 0.05223764, 0.0525445 , 0.05285137, 0.05378822,\n",
              "         0.05402243, 0.05425664, 0.05449085, 0.05519349, 0.0554277 ,\n",
              "         0.05566192, 0.05589613, 0.05613034, 0.05683298, 0.05706719,\n",
              "         0.05730141, 0.05753562, 0.05776983, 0.05847247, 0.05870668,\n",
              "         0.0589409 , 0.05917511, 0.05940932, 0.06011196, 0.06034617,\n",
              "         0.06058038, 0.0608146 , 0.06104881, 0.06198566, 0.06221987,\n",
              "         0.06245409, 0.0626883 , 0.06321284, 0.06338768, 0.06356253,\n",
              "         0.06373738, 0.06391222, 0.06443676, 0.06461161, 0.06478646,\n",
              "         0.0649613 , 0.06513615, 0.06566069, 0.06583554, 0.06601038,\n",
              "         0.06618523, 0.06636008, 0.06688462, 0.06705946, 0.06723431,\n",
              "         0.06740916, 0.067584  , 0.06810854, 0.06828339, 0.06845824,\n",
              "         0.06863308, 0.06933247, 0.06950732, 0.06968216, 0.06985701,\n",
              "         0.06998511, 0.07036939, 0.07049749, 0.07062559, 0.07075368,\n",
              "         0.07088178, 0.07126606, 0.07139416, 0.07152226, 0.07165035,\n",
              "         0.07177845, 0.07216273, 0.07229083, 0.07241893, 0.07254702,\n",
              "         0.07267512, 0.07305941, 0.0731875 , 0.0733156 , 0.07344369,\n",
              "         0.07357179, 0.07395608, 0.07408417, 0.07421227, 0.07434036,\n",
              "         0.07446846, 0.07485275, 0.07498084, 0.07507283, 0.07516482,\n",
              "         0.07525681, 0.07553277, 0.07562476, 0.07571675, 0.07580873,\n",
              "         0.07590072, 0.07626867, 0.07636066, 0.07645265, 0.07654464,\n",
              "         0.0768206 , 0.07691259, 0.07700458, 0.07709657, 0.07718856,\n",
              "         0.07746452, 0.07755651, 0.0776485 , 0.07774048, 0.07783247,\n",
              "         0.07810844, 0.07820042, 0.07829241, 0.0783844 , 0.07847639,\n",
              "         0.07875235, 0.07884434, 0.07890747, 0.0789706 , 0.07903373,\n",
              "         0.07922312, 0.07928625, 0.07941251, 0.07947563, 0.07966502,\n",
              "         0.07972815, 0.07979128, 0.07985441, 0.07991754, 0.08010693,\n",
              "         0.08017006, 0.08023319, 0.08029632, 0.08035945, 0.08054884,\n",
              "         0.08061196, 0.08067509, 0.08073822, 0.08080135, 0.08099074,\n",
              "         0.08105387, 0.081117  , 0.08118013, 0.08124326, 0.08143265,\n",
              "         0.0814744 , 0.08151616, 0.08155792, 0.08159967, 0.08172494,\n",
              "         0.0817667 , 0.08180846, 0.08185021, 0.08189197, 0.08201724,\n",
              "         0.082059  , 0.08210075, 0.08214251, 0.08218427, 0.08230953,\n",
              "         0.08235129, 0.08239305, 0.0824348 , 0.08247656, 0.08264359,\n",
              "         0.08268534, 0.0827271 , 0.08276886, 0.08289413, 0.08293588,\n",
              "         0.08297764, 0.0830194 , 0.08306115, 0.08314893, 0.0831782 ,\n",
              "         0.08320746, 0.08323672, 0.08326598, 0.08335376, 0.08338302,\n",
              "         0.08341228, 0.08344154, 0.0834708 , 0.08355859, 0.08358785,\n",
              "         0.08361711, 0.08364637, 0.08367563, 0.08376341, 0.08379267,\n",
              "         0.08382193, 0.08385119, 0.08388045, 0.08396824, 0.0839975 ,\n",
              "         0.08402676, 0.08405602, 0.08408528, 0.08417306, 0.08420232,\n",
              "         0.08423158, 0.08424646, 0.08426134, 0.08430597, 0.08432085,\n",
              "         0.08433572, 0.0843506 , 0.08436548, 0.08441011, 0.08442499,\n",
              "         0.08443987, 0.08445474, 0.08446962, 0.08451425, 0.08452913,\n",
              "         0.08454401, 0.08455889, 0.08457376, 0.0846184 , 0.08463327,\n",
              "         0.08464815, 0.08467791, 0.08472254, 0.08473742, 0.08475229,\n",
              "         0.08476717, 0.08478205, 0.08482668, 0.08484156, 0.08486571,\n",
              "         0.08487779, 0.08491402, 0.08492609, 0.08493817, 0.08495024,\n",
              "         0.08496232, 0.08499855, 0.08501062, 0.0850227 , 0.08503478,\n",
              "         0.08504685, 0.08508308, 0.08510723, 0.08511931, 0.08513138,\n",
              "         0.08516761, 0.08519176, 0.08520384, 0.08521592, 0.08525215,\n",
              "         0.08526422, 0.0852763 , 0.08528837, 0.08530045, 0.08533668,\n",
              "         0.08534875, 0.08536083, 0.08536715, 0.08537347, 0.08539875,\n",
              "         0.08540507, 0.08541139, 0.08541771, 0.08543667, 0.08544299,\n",
              "         0.08544931, 0.08545563, 0.08546196, 0.08548092, 0.08548724,\n",
              "         0.08549356, 0.08549988, 0.0855062 , 0.08552516, 0.08553148,\n",
              "         0.0855378 , 0.08554412, 0.08555044, 0.08557572, 0.08558204,\n",
              "         0.08558836, 0.08559468, 0.08561364, 0.08561996, 0.08562628,\n",
              "         0.0856311 , 0.08563592, 0.08565038, 0.08565519, 0.08566001,\n",
              "         0.08566483, 0.08566965, 0.0856841 , 0.08568892, 0.08569374,\n",
              "         0.08569856, 0.08570338, 0.08571783, 0.08572265, 0.08572747,\n",
              "         0.08573229, 0.0857371 , 0.08575156, 0.08575638, 0.0857612 ,\n",
              "         0.08576601, 0.08577083, 0.08578529, 0.08579011, 0.08579492,\n",
              "         0.08579974, 0.08580456, 0.08581901, 0.08582425, 0.08582949,\n",
              "         0.08583473, 0.08583997, 0.08585568, 0.08586092, 0.08586616,\n",
              "         0.0858714 , 0.08589235, 0.08589759, 0.08590283, 0.08590807,\n",
              "         0.08591331, 0.08592902, 0.08593426, 0.0859395 , 0.08594474,\n",
              "         0.08594997, 0.08596569, 0.08597093, 0.08597617, 0.0859814 ,\n",
              "         0.08598664, 0.08600236, 0.0860076 , 0.08601283, 0.08601807,\n",
              "         0.08602331, 0.08603903, 0.08604889, 0.08605875, 0.08606861,\n",
              "         0.08607848, 0.08611792, 0.08612779, 0.08613765, 0.08614751,\n",
              "         0.0861771 , 0.08618696, 0.08619682, 0.08620668, 0.08621655,\n",
              "         0.08624613, 0.08625599, 0.08626586, 0.08627572, 0.08628558,\n",
              "         0.08631517, 0.08632503, 0.08633489, 0.08634475, 0.08635462,\n",
              "         0.0863842 , 0.08639407, 0.08640393, 0.08641379, 0.08642365,\n",
              "         0.08647793, 0.08649602, 0.08651411, 0.08655029, 0.08660457,\n",
              "         0.08662266, 0.08664075, 0.08665884, 0.08667694, 0.08673121,\n",
              "         0.0867493 , 0.08676739, 0.08678548, 0.08680358, 0.08685785,\n",
              "         0.08687594, 0.08689403, 0.08691213, 0.08693022, 0.08698449,\n",
              "         0.08700258, 0.08702068, 0.08703877, 0.08705686, 0.08711113,\n",
              "         0.08712923, 0.08714732, 0.08716541, 0.08715939, 0.08714133,\n",
              "         0.08713531, 0.08712929, 0.08712327, 0.08711725, 0.08709919,\n",
              "         0.08709317, 0.08708715, 0.08708114, 0.08707512, 0.08705706,\n",
              "         0.08705104, 0.08704502, 0.087039  , 0.08703298, 0.0870089 ,\n",
              "         0.08700288, 0.08699686, 0.08699084, 0.08697278, 0.08696676,\n",
              "         0.08696074, 0.08695472, 0.0869487 , 0.08693065, 0.08692463,\n",
              "         0.08691861, 0.0868899 , 0.08686119, 0.08677507, 0.08674637,\n",
              "         0.08671766, 0.08668896, 0.08666025, 0.08657413, 0.08654542,\n",
              "         0.08651672, 0.08648801, 0.0864593 , 0.08637318, 0.08634448,\n",
              "         0.08631577, 0.08628706, 0.08625836, 0.08617224, 0.08614353,\n",
              "         0.08611483, 0.08608612, 0.08605741, 0.08597129, 0.08594259,\n",
              "         0.08591388, 0.08588517, 0.08585647, 0.08577035, 0.08572194,\n",
              "         0.08567353, 0.08562512, 0.08557671, 0.08543148, 0.08538306,\n",
              "         0.08533465, 0.08528624, 0.08523783, 0.0850926 , 0.08504419,\n",
              "         0.08499578, 0.08494737, 0.08489896, 0.08475373, 0.08470532,\n",
              "         0.08465691, 0.0846085 , 0.08456009, 0.08441486, 0.08436645,\n",
              "         0.08431804, 0.08422122, 0.08407598, 0.08402757, 0.08397916,\n",
              "         0.08393075, 0.08388234, 0.0836818 , 0.08361495, 0.0835481 ,\n",
              "         0.08348126, 0.08341441, 0.08321387, 0.08314702, 0.08308017,\n",
              "         0.08301332, 0.08294648, 0.08274593, 0.08267909, 0.08254539,\n",
              "         0.08247854, 0.082278  , 0.08221115, 0.08207746, 0.08201061,\n",
              "         0.08181007, 0.08174322, 0.08167637, 0.08160953, 0.08154268,\n",
              "         0.08134214, 0.08127529, 0.08120844, 0.08114159, 0.08107475,\n",
              "         0.08076826, 0.08069164, 0.08061502, 0.0805384 , 0.08030853,\n",
              "         0.08023191, 0.08015529, 0.08007867, 0.08000205, 0.07977218,\n",
              "         0.07969556, 0.07961894, 0.07954232, 0.0794657 , 0.07923584,\n",
              "         0.07915921, 0.07908259, 0.07900597, 0.07892935, 0.07862287,\n",
              "         0.07854624, 0.07846962, 0.078393  , 0.07816314, 0.07808652,\n",
              "         0.0780099 , 0.07793327, 0.07785665, 0.07763381, 0.07755952,\n",
              "         0.07748524, 0.07741096, 0.07733668, 0.07711383, 0.07703955,\n",
              "         0.07696526, 0.07689098, 0.0768167 , 0.07659385, 0.07651957,\n",
              "         0.07644529, 0.076371  , 0.07629672, 0.07607388, 0.07599959,\n",
              "         0.07592531, 0.07585103, 0.07577675, 0.0755539 , 0.07547962,\n",
              "         0.07540533, 0.07533105, 0.07525677, 0.07503392, 0.07495964,\n",
              "         0.07488536, 0.07481107, 0.07457767, 0.07451932, 0.07446097,\n",
              "         0.07440262, 0.07434427, 0.07416923, 0.07411088, 0.07405253,\n",
              "         0.07399418, 0.07393583, 0.07376078, 0.07370243, 0.07364408,\n",
              "         0.07358573, 0.07352738, 0.07335233, 0.07329398, 0.07323563,\n",
              "         0.07317728, 0.07311893, 0.07294388, 0.07288553, 0.07282718,\n",
              "         0.07276883, 0.07271048, 0.07253543, 0.07247708, 0.07241873,\n",
              "         0.07238436, 0.07234999, 0.0722125 , 0.07217813, 0.07214376,\n",
              "         0.07210939, 0.07200628, 0.07197191, 0.07193754, 0.07190317,\n",
              "         0.0718688 , 0.07176569, 0.07173132, 0.07169695, 0.07166258,\n",
              "         0.07162821, 0.0715251 , 0.07149073, 0.07145636, 0.07142199,\n",
              "         0.07138762, 0.0712845 , 0.07125013, 0.07121576, 0.07118139,\n",
              "         0.07114702, 0.07104391, 0.07100954, 0.07100399, 0.07099843,\n",
              "         0.07097622, 0.07097066, 0.07096511, 0.07095956, 0.070954  ,\n",
              "         0.07093734, 0.07093179, 0.07092623, 0.07092068, 0.07091513,\n",
              "         0.07089846, 0.07089291, 0.07088736, 0.0708818 , 0.07087625,\n",
              "         0.07085959, 0.07085403, 0.07084848, 0.07084293, 0.07083737,\n",
              "         0.07082071, 0.07081516, 0.0708096 , 0.07080405, 0.07079849,\n",
              "         0.07078183, 0.0708095 , 0.07083716, 0.07086482, 0.07089249,\n",
              "         0.07097547, 0.07100314, 0.0710308 , 0.07105846, 0.07108613,\n",
              "         0.07116912, 0.07119678, 0.07122444, 0.07125211, 0.07127977,\n",
              "         0.07136276, 0.07139042, 0.07141808, 0.07144575, 0.07147341,\n",
              "         0.07158406, 0.07161173, 0.07163939, 0.07166705, 0.07175004,\n",
              "         0.0717777 , 0.07180537, 0.07183303, 0.07186069, 0.07204727,\n",
              "         0.07210947, 0.07217166, 0.07223385, 0.07229604, 0.07248262,\n",
              "         0.07254481, 0.07260701, 0.0726692 , 0.07273139, 0.07291797,\n",
              "         0.07298016, 0.07304236, 0.07310455, 0.07316674, 0.07335332,\n",
              "         0.07341551, 0.07347771, 0.0735399 , 0.07360209, 0.07378867,\n",
              "         0.07385086, 0.07391306, 0.07397525, 0.07403744, 0.07422402,\n",
              "         0.07428621, 0.07434841, 0.0744106 , 0.07447279, 0.07465937,\n",
              "         0.07472156, 0.07478375, 0.07484595, 0.07490814, 0.07509472,\n",
              "         0.07515691, 0.0752191 , 0.0752813 , 0.07534349, 0.07553007,\n",
              "         0.07559226, 0.07565445, 0.07571665, 0.07577884, 0.07596542,\n",
              "         0.07602761, 0.0760898 , 0.07621419, 0.07640077, 0.07646296,\n",
              "         0.07652515, 0.07658735, 0.07664954, 0.07683612, 0.07689831,\n",
              "         0.0769605 , 0.0770227 , 0.07708489, 0.07727147, 0.07733366,\n",
              "         0.07739585, 0.07745804, 0.07752024, 0.07770682, 0.07776901,\n",
              "         0.0778312 , 0.07789339, 0.07814217, 0.07820436, 0.07826655,\n",
              "         0.07832874, 0.07857751, 0.07863971, 0.0787019 , 0.07876409,\n",
              "         0.07882629, 0.07901286, 0.07907506, 0.07913725, 0.07919944,\n",
              "         0.07926164, 0.07951041, 0.0795726 , 0.07963479, 0.07969698,\n",
              "         0.07988356, 0.07994576, 0.08000795, 0.08007014, 0.08013233,\n",
              "         0.08031891, 0.08038111, 0.0804433 , 0.08050549, 0.08056768,\n",
              "         0.08075426, 0.08081645, 0.08087865, 0.08094084, 0.08100303,\n",
              "         0.0812518 , 0.081314  , 0.08137619, 0.08143838, 0.08162496,\n",
              "         0.08168715, 0.08174935, 0.08181154, 0.08187373, 0.08206031,\n",
              "         0.0821225 , 0.0821847 , 0.08224689, 0.08230908, 0.08249566,\n",
              "         0.08255785, 0.08262005, 0.08268224, 0.08274443, 0.08293101,\n",
              "         0.0829932 , 0.0830554 , 0.08311759, 0.08317978, 0.08336636,\n",
              "         0.08342855, 0.08349074, 0.08355294, 0.08361513, 0.08380171,\n",
              "         0.0838639 , 0.08392609, 0.08398829, 0.08423706, 0.08429925,\n",
              "         0.08436144, 0.08442364, 0.08448583, 0.08467241, 0.0847346 ,\n",
              "         0.08479679, 0.08485899, 0.08492118, 0.08510776, 0.08516995,\n",
              "         0.08523214, 0.08529434, 0.08535653, 0.08554311, 0.0856053 ,\n",
              "         0.08566749, 0.08572968, 0.08579188, 0.08597846, 0.08604065,\n",
              "         0.08610284, 0.08616503, 0.08622723, 0.08641381, 0.086476  ,\n",
              "         0.08653819, 0.08660038, 0.08666258, 0.08684916, 0.08691135,\n",
              "         0.08697354, 0.08703573, 0.08709793, 0.0872845 , 0.0873467 ,\n",
              "         0.08740889, 0.08747108, 0.08753328, 0.08778205, 0.08784424,\n",
              "         0.08790643]])}"
            ]
          },
          "metadata": {},
          "execution_count": 11
        }
      ]
    },
    {
      "cell_type": "code",
      "source": [
        "#understanding the model fit---------\n",
        "df1_train_2 = df1_train[[\"ds\",\"High\",\"Low\",\"Close\"]] \n",
        "#we will be predicting 'y' i.e.\"Open\"\n",
        "forecast1_train = model.predict(df1_train_2)\n",
        "forecast1_train = forecast1_train[['ds','yhat']]\n",
        "df_model_fit = pd.concat((forecast1_train['yhat'],df1_train.reset_index()),axis=1)"
      ],
      "metadata": {
        "id": "kjofIfQwT35j"
      },
      "execution_count": 12,
      "outputs": []
    },
    {
      "cell_type": "code",
      "source": [
        "#Visualize it \n",
        "plt.figure(figsize=(8,6))\n",
        "plt.plot(df_model_fit['ds'],df_model_fit['y'],color='red',label='actual')\n",
        "plt.plot(df_model_fit['ds'],df_model_fit['yhat'],color='blue',label='Forecasted')\n",
        "plt.legend()"
      ],
      "metadata": {
        "colab": {
          "base_uri": "https://localhost:8080/",
          "height": 391
        },
        "id": "IGWNAUusUS6k",
        "outputId": "3cb87374-dbfb-4dc0-882f-964153df9e33"
      },
      "execution_count": 13,
      "outputs": [
        {
          "output_type": "execute_result",
          "data": {
            "text/plain": [
              "<matplotlib.legend.Legend at 0x7f914458ea90>"
            ]
          },
          "metadata": {},
          "execution_count": 13
        },
        {
          "output_type": "display_data",
          "data": {
            "text/plain": [
              "<Figure size 576x432 with 1 Axes>"
            ],
            "image/png": "[encoded data removed]"
          },
          "metadata": {
            "needs_background": "light"
          }
        }
      ]
    },
    {
      "cell_type": "code",
      "source": [
        "#create an test dataframe\n",
        "df1_test.rename(columns={\"Open\":'y',\"Date\":'ds'},inplace=True)\n",
        "df1_test.head(5)\n",
        "df1_test_2 = df1_test[[\"ds\",\"High\",\"Low\",\"Close\"]]                \n",
        "#we will be predicting 'y'i.e.\"Open\"\n",
        "df1_test_2\n",
        "forecast1_test=model.predict(df1_test_2)\n",
        "forecast1_test = forecast1_test[['ds','yhat']]\n",
        "df_testdata_fit = pd.concat((forecast1_test['yhat'],df1_test.reset_index()),axis=1).reset_index()"
      ],
      "metadata": {
        "colab": {
          "base_uri": "https://localhost:8080/"
        },
        "id": "DxbauRr1UVhY",
        "outputId": "ff8c3b4a-24b4-4582-8ed8-d9ef0abcef39"
      },
      "execution_count": 18,
      "outputs": [
        {
          "output_type": "stream",
          "name": "stderr",
          "text": [
            "/usr/local/lib/python3.7/dist-packages/pandas/core/frame.py:5047: SettingWithCopyWarning: \n",
            "A value is trying to be set on a copy of a slice from a DataFrame\n",
            "\n",
            "See the caveats in the documentation: https://pandas.pydata.org/pandas-docs/stable/user_guide/indexing.html#returning-a-view-versus-a-copy\n",
            "  errors=errors,\n"
          ]
        }
      ]
    },
    {
      "cell_type": "code",
      "source": [
        "#Visualize it \n",
        "plt.figure(figsize=(8,6))\n",
        "plt.plot(df_testdata_fit['ds'],df_testdata_fit['y'],color='red',label='actual')\n",
        "plt.plot(df_testdata_fit['ds'],df_testdata_fit['yhat'],color='red',label='Forecasted')\n",
        "plt.legend()"
      ],
      "metadata": {
        "colab": {
          "base_uri": "https://localhost:8080/",
          "height": 391
        },
        "id": "x4dOcmYTU69-",
        "outputId": "07e69433-964c-4b28-ca28-14d2e0bf5b7f"
      },
      "execution_count": 19,
      "outputs": [
        {
          "output_type": "execute_result",
          "data": {
            "text/plain": [
              "<matplotlib.legend.Legend at 0x7f91444eb850>"
            ]
          },
          "metadata": {},
          "execution_count": 19
        },
        {
          "output_type": "display_data",
          "data": {
            "text/plain": [
              "<Figure size 576x432 with 1 Axes>"
            ],
            "image/png": "[encoded data removed]"
          },
          "metadata": {
            "needs_background": "light"
          }
        }
      ]
    },
    {
      "cell_type": "code",
      "source": [
        "#make futuredate Approach--------------------\n",
        "future = model.make_future_dataframe(periods=377)\n",
        "future.tail()\n",
        "future_prediction = model.predict(future)"
      ],
      "metadata": {
        "colab": {
          "base_uri": "https://localhost:8080/",
          "height": 341
        },
        "id": "lQcmW_hyUgqE",
        "outputId": "36b2fd1d-2250-4de0-f0b4-f607c6803cfc"
      },
      "execution_count": 17,
      "outputs": [
        {
          "output_type": "error",
          "ename": "ValueError",
          "evalue": "ignored",
          "traceback": [
            "\u001b[0;31m---------------------------------------------------------------------------\u001b[0m",
            "\u001b[0;31mValueError\u001b[0m                                Traceback (most recent call last)",
            "\u001b[0;32m<ipython-input-17-73cbc8a82584>\u001b[0m in \u001b[0;36m<module>\u001b[0;34m()\u001b[0m\n\u001b[1;32m      2\u001b[0m \u001b[0mfuture\u001b[0m \u001b[0;34m=\u001b[0m \u001b[0mmodel\u001b[0m\u001b[0;34m.\u001b[0m\u001b[0mmake_future_dataframe\u001b[0m\u001b[0;34m(\u001b[0m\u001b[0mperiods\u001b[0m\u001b[0;34m=\u001b[0m\u001b[0;36m377\u001b[0m\u001b[0;34m)\u001b[0m\u001b[0;34m\u001b[0m\u001b[0;34m\u001b[0m\u001b[0m\n\u001b[1;32m      3\u001b[0m \u001b[0mfuture\u001b[0m\u001b[0;34m.\u001b[0m\u001b[0mtail\u001b[0m\u001b[0;34m(\u001b[0m\u001b[0;34m)\u001b[0m\u001b[0;34m\u001b[0m\u001b[0;34m\u001b[0m\u001b[0m\n\u001b[0;32m----> 4\u001b[0;31m \u001b[0mfuture_prediction\u001b[0m \u001b[0;34m=\u001b[0m \u001b[0mmodel\u001b[0m\u001b[0;34m.\u001b[0m\u001b[0mpredict\u001b[0m\u001b[0;34m(\u001b[0m\u001b[0mfuture\u001b[0m\u001b[0;34m)\u001b[0m\u001b[0;34m\u001b[0m\u001b[0;34m\u001b[0m\u001b[0m\n\u001b[0m",
            "\u001b[0;32m/usr/local/lib/python3.7/dist-packages/fbprophet/forecaster.py\u001b[0m in \u001b[0;36mpredict\u001b[0;34m(self, df)\u001b[0m\n\u001b[1;32m   1197\u001b[0m             \u001b[0;32mif\u001b[0m \u001b[0mdf\u001b[0m\u001b[0;34m.\u001b[0m\u001b[0mshape\u001b[0m\u001b[0;34m[\u001b[0m\u001b[0;36m0\u001b[0m\u001b[0;34m]\u001b[0m \u001b[0;34m==\u001b[0m \u001b[0;36m0\u001b[0m\u001b[0;34m:\u001b[0m\u001b[0;34m\u001b[0m\u001b[0;34m\u001b[0m\u001b[0m\n\u001b[1;32m   1198\u001b[0m                 \u001b[0;32mraise\u001b[0m \u001b[0mValueError\u001b[0m\u001b[0;34m(\u001b[0m\u001b[0;34m'Dataframe has no rows.'\u001b[0m\u001b[0;34m)\u001b[0m\u001b[0;34m\u001b[0m\u001b[0;34m\u001b[0m\u001b[0m\n\u001b[0;32m-> 1199\u001b[0;31m             \u001b[0mdf\u001b[0m \u001b[0;34m=\u001b[0m \u001b[0mself\u001b[0m\u001b[0;34m.\u001b[0m\u001b[0msetup_dataframe\u001b[0m\u001b[0;34m(\u001b[0m\u001b[0mdf\u001b[0m\u001b[0;34m.\u001b[0m\u001b[0mcopy\u001b[0m\u001b[0;34m(\u001b[0m\u001b[0;34m)\u001b[0m\u001b[0;34m)\u001b[0m\u001b[0;34m\u001b[0m\u001b[0;34m\u001b[0m\u001b[0m\n\u001b[0m\u001b[1;32m   1200\u001b[0m \u001b[0;34m\u001b[0m\u001b[0m\n\u001b[1;32m   1201\u001b[0m         \u001b[0mdf\u001b[0m\u001b[0;34m[\u001b[0m\u001b[0;34m'trend'\u001b[0m\u001b[0;34m]\u001b[0m \u001b[0;34m=\u001b[0m \u001b[0mself\u001b[0m\u001b[0;34m.\u001b[0m\u001b[0mpredict_trend\u001b[0m\u001b[0;34m(\u001b[0m\u001b[0mdf\u001b[0m\u001b[0;34m)\u001b[0m\u001b[0;34m\u001b[0m\u001b[0;34m\u001b[0m\u001b[0m\n",
            "\u001b[0;32m/usr/local/lib/python3.7/dist-packages/fbprophet/forecaster.py\u001b[0m in \u001b[0;36msetup_dataframe\u001b[0;34m(self, df, initialize_scales)\u001b[0m\n\u001b[1;32m    272\u001b[0m                 raise ValueError(\n\u001b[1;32m    273\u001b[0m                     \u001b[0;34m'Regressor {name!r} missing from dataframe'\u001b[0m\u001b[0;34m\u001b[0m\u001b[0;34m\u001b[0m\u001b[0m\n\u001b[0;32m--> 274\u001b[0;31m                     \u001b[0;34m.\u001b[0m\u001b[0mformat\u001b[0m\u001b[0;34m(\u001b[0m\u001b[0mname\u001b[0m\u001b[0;34m=\u001b[0m\u001b[0mname\u001b[0m\u001b[0;34m)\u001b[0m\u001b[0;34m\u001b[0m\u001b[0;34m\u001b[0m\u001b[0m\n\u001b[0m\u001b[1;32m    275\u001b[0m                 )\n\u001b[1;32m    276\u001b[0m             \u001b[0mdf\u001b[0m\u001b[0;34m[\u001b[0m\u001b[0mname\u001b[0m\u001b[0;34m]\u001b[0m \u001b[0;34m=\u001b[0m \u001b[0mpd\u001b[0m\u001b[0;34m.\u001b[0m\u001b[0mto_numeric\u001b[0m\u001b[0;34m(\u001b[0m\u001b[0mdf\u001b[0m\u001b[0;34m[\u001b[0m\u001b[0mname\u001b[0m\u001b[0;34m]\u001b[0m\u001b[0;34m)\u001b[0m\u001b[0;34m\u001b[0m\u001b[0;34m\u001b[0m\u001b[0m\n",
            "\u001b[0;31mValueError\u001b[0m: Regressor 'High' missing from dataframe"
          ]
        }
      ]
    }
  ]
}