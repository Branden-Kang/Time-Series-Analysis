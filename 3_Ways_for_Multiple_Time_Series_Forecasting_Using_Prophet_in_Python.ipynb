{
  "nbformat": 4,
  "nbformat_minor": 0,
  "metadata": {
    "colab": {
      "name": "3 Ways for Multiple Time Series Forecasting Using Prophet in Python.ipynb",
      "provenance": [],
      "authorship_tag": "ABX9TyMmKOflY+BD+JdhAg1T83Q3"
    },
    "kernelspec": {
      "name": "python3",
      "display_name": "Python 3"
    },
    "language_info": {
      "name": "python"
    }
  },
  "cells": [
    {
      "cell_type": "markdown",
      "source": [
        "[Reference](https://medium.com/grabngoinfo/3-ways-for-multiple-time-series-forecasting-using-prophet-in-python-7a0709a117f9)"
      ],
      "metadata": {
        "id": "DJZauPOywNz7"
      }
    },
    {
      "cell_type": "markdown",
      "source": [
        "# Step 1: Install and Import Libraries"
      ],
      "metadata": {
        "id": "iVDxpniPwQC5"
      }
    },
    {
      "cell_type": "code",
      "execution_count": 1,
      "metadata": {
        "colab": {
          "base_uri": "https://localhost:8080/"
        },
        "id": "BS-foIMnv_RE",
        "outputId": "e1c44046-c2e3-45f9-e7f9-b53f7ba60c34"
      },
      "outputs": [
        {
          "output_type": "stream",
          "name": "stdout",
          "text": [
            "Looking in indexes: https://pypi.org/simple, https://us-python.pkg.dev/colab-wheels/public/simple/\n",
            "Collecting yfinance\n",
            "  Downloading yfinance-0.1.74-py2.py3-none-any.whl (27 kB)\n",
            "Requirement already satisfied: prophet in /usr/local/lib/python3.7/dist-packages (1.1)\n",
            "Collecting pyspark\n",
            "  Downloading pyspark-3.3.0.tar.gz (281.3 MB)\n",
            "\u001b[K     |████████████████████████████████| 281.3 MB 52 kB/s \n",
            "\u001b[?25hRequirement already satisfied: lxml>=4.5.1 in /usr/local/lib/python3.7/dist-packages (from yfinance) (4.9.1)\n",
            "Requirement already satisfied: multitasking>=0.0.7 in /usr/local/lib/python3.7/dist-packages (from yfinance) (0.0.11)\n",
            "Collecting requests>=2.26\n",
            "  Downloading requests-2.28.1-py3-none-any.whl (62 kB)\n",
            "\u001b[K     |████████████████████████████████| 62 kB 1.5 MB/s \n",
            "\u001b[?25hRequirement already satisfied: pandas>=0.24.0 in /usr/local/lib/python3.7/dist-packages (from yfinance) (1.3.5)\n",
            "Requirement already satisfied: numpy>=1.15 in /usr/local/lib/python3.7/dist-packages (from yfinance) (1.21.6)\n",
            "Requirement already satisfied: pytz>=2017.3 in /usr/local/lib/python3.7/dist-packages (from pandas>=0.24.0->yfinance) (2022.2.1)\n",
            "Requirement already satisfied: python-dateutil>=2.7.3 in /usr/local/lib/python3.7/dist-packages (from pandas>=0.24.0->yfinance) (2.8.2)\n",
            "Requirement already satisfied: six>=1.5 in /usr/local/lib/python3.7/dist-packages (from python-dateutil>=2.7.3->pandas>=0.24.0->yfinance) (1.15.0)\n",
            "Requirement already satisfied: certifi>=2017.4.17 in /usr/local/lib/python3.7/dist-packages (from requests>=2.26->yfinance) (2022.6.15)\n",
            "Requirement already satisfied: urllib3<1.27,>=1.21.1 in /usr/local/lib/python3.7/dist-packages (from requests>=2.26->yfinance) (1.24.3)\n",
            "Requirement already satisfied: idna<4,>=2.5 in /usr/local/lib/python3.7/dist-packages (from requests>=2.26->yfinance) (2.10)\n",
            "Requirement already satisfied: charset-normalizer<3,>=2 in /usr/local/lib/python3.7/dist-packages (from requests>=2.26->yfinance) (2.1.0)\n",
            "Requirement already satisfied: setuptools-git>=1.2 in /usr/local/lib/python3.7/dist-packages (from prophet) (1.2)\n",
            "Requirement already satisfied: LunarCalendar>=0.0.9 in /usr/local/lib/python3.7/dist-packages (from prophet) (0.0.9)\n",
            "Requirement already satisfied: wheel>=0.37.0 in /usr/local/lib/python3.7/dist-packages (from prophet) (0.37.1)\n",
            "Requirement already satisfied: Cython>=0.22 in /usr/local/lib/python3.7/dist-packages (from prophet) (0.29.32)\n",
            "Requirement already satisfied: matplotlib>=2.0.0 in /usr/local/lib/python3.7/dist-packages (from prophet) (3.2.2)\n",
            "Requirement already satisfied: cmdstanpy>=1.0.1 in /usr/local/lib/python3.7/dist-packages (from prophet) (1.0.4)\n",
            "Requirement already satisfied: convertdate>=2.1.2 in /usr/local/lib/python3.7/dist-packages (from prophet) (2.4.0)\n",
            "Requirement already satisfied: holidays>=0.13 in /usr/local/lib/python3.7/dist-packages (from prophet) (0.14.2)\n",
            "Requirement already satisfied: tqdm>=4.36.1 in /usr/local/lib/python3.7/dist-packages (from prophet) (4.64.0)\n",
            "Requirement already satisfied: setuptools>=42 in /usr/local/lib/python3.7/dist-packages (from prophet) (57.4.0)\n",
            "Requirement already satisfied: ujson in /usr/local/lib/python3.7/dist-packages (from cmdstanpy>=1.0.1->prophet) (5.4.0)\n",
            "Requirement already satisfied: pymeeus<=1,>=0.3.13 in /usr/local/lib/python3.7/dist-packages (from convertdate>=2.1.2->prophet) (0.5.11)\n",
            "Requirement already satisfied: korean-lunar-calendar in /usr/local/lib/python3.7/dist-packages (from holidays>=0.13->prophet) (0.2.1)\n",
            "Requirement already satisfied: hijri-converter in /usr/local/lib/python3.7/dist-packages (from holidays>=0.13->prophet) (2.2.4)\n",
            "Requirement already satisfied: ephem>=3.7.5.3 in /usr/local/lib/python3.7/dist-packages (from LunarCalendar>=0.0.9->prophet) (4.1.3)\n",
            "Requirement already satisfied: kiwisolver>=1.0.1 in /usr/local/lib/python3.7/dist-packages (from matplotlib>=2.0.0->prophet) (1.4.4)\n",
            "Requirement already satisfied: pyparsing!=2.0.4,!=2.1.2,!=2.1.6,>=2.0.1 in /usr/local/lib/python3.7/dist-packages (from matplotlib>=2.0.0->prophet) (3.0.9)\n",
            "Requirement already satisfied: cycler>=0.10 in /usr/local/lib/python3.7/dist-packages (from matplotlib>=2.0.0->prophet) (0.11.0)\n",
            "Requirement already satisfied: typing-extensions in /usr/local/lib/python3.7/dist-packages (from kiwisolver>=1.0.1->matplotlib>=2.0.0->prophet) (4.1.1)\n",
            "Collecting py4j==0.10.9.5\n",
            "  Downloading py4j-0.10.9.5-py2.py3-none-any.whl (199 kB)\n",
            "\u001b[K     |████████████████████████████████| 199 kB 73.8 MB/s \n",
            "\u001b[?25hBuilding wheels for collected packages: pyspark\n",
            "  Building wheel for pyspark (setup.py) ... \u001b[?25l\u001b[?25hdone\n",
            "  Created wheel for pyspark: filename=pyspark-3.3.0-py2.py3-none-any.whl size=281764026 sha256=c11a95c2b83058bfe8649b77d0121f789e29f28d5d790651af655c821543ad9f\n",
            "  Stored in directory: /root/.cache/pip/wheels/7a/8e/1b/f73a52650d2e5f337708d9f6a1750d451a7349a867f928b885\n",
            "Successfully built pyspark\n",
            "Installing collected packages: requests, py4j, yfinance, pyspark\n",
            "  Attempting uninstall: requests\n",
            "    Found existing installation: requests 2.23.0\n",
            "    Uninstalling requests-2.23.0:\n",
            "      Successfully uninstalled requests-2.23.0\n",
            "Successfully installed py4j-0.10.9.5 pyspark-3.3.0 requests-2.28.1 yfinance-0.1.74\n"
          ]
        }
      ],
      "source": [
        "# Install libraries\n",
        "!pip install yfinance prophet pyspark"
      ]
    },
    {
      "cell_type": "code",
      "source": [
        "# Data processing\n",
        "import pandas as pd\n",
        "import numpy as np\n",
        "\n",
        "# Get time series data\n",
        "import yfinance as yf\n",
        "\n",
        "# Prophet model for time series forecast\n",
        "from prophet import Prophet\n",
        "\n",
        "# Visualization\n",
        "import seaborn as sns\n",
        "import matplotlib.pyplot as plt\n",
        "\n",
        "# Multi-processing\n",
        "from multiprocessing import Pool, cpu_count\n",
        "\n",
        "# Spark\n",
        "from pyspark.sql.types import *\n",
        "from pyspark.sql.functions import pandas_udf, PandasUDFType\n",
        "\n",
        "# Process bar\n",
        "from tqdm import tqdm\n",
        "\n",
        "# Tracking time\n",
        "from time import time"
      ],
      "metadata": {
        "id": "tB-jk5jWwRKi"
      },
      "execution_count": 2,
      "outputs": []
    },
    {
      "cell_type": "markdown",
      "source": [
        "# Step 2: Pull Data"
      ],
      "metadata": {
        "id": "cEdIRyQ-wXz8"
      }
    },
    {
      "cell_type": "code",
      "source": [
        "# Data start date\n",
        "start_date = '2020-01-02'\n",
        "\n",
        "# Data end date\n",
        "end_date = '2022-01-01' # yfinance excludes the end date, so we need to add one day to the last day of data"
      ],
      "metadata": {
        "id": "tU8BaUB0wSvF"
      },
      "execution_count": 3,
      "outputs": []
    },
    {
      "cell_type": "code",
      "source": [
        "# Download data\n",
        "ticker_list = ['META', 'GOOG', 'ORCL', 'MSFT', 'AMZN']\n",
        "data = yf.download(ticker_list, start=start_date, end=end_date)[['Close']]\n",
        "\n",
        "# Drop the top level column name\n",
        "data.columns = data.columns.droplevel()\n",
        "\n",
        "# Take a look at the data\n",
        "data.head()"
      ],
      "metadata": {
        "colab": {
          "base_uri": "https://localhost:8080/",
          "height": 252
        },
        "id": "W2nq1yTIwb7K",
        "outputId": "a7bb7829-b285-4b1c-eca1-c8839e6d7f43"
      },
      "execution_count": 16,
      "outputs": [
        {
          "output_type": "stream",
          "name": "stdout",
          "text": [
            "[*********************100%***********************]  5 of 5 completed\n"
          ]
        },
        {
          "output_type": "execute_result",
          "data": {
            "text/plain": [
              "                 AMZN       GOOG        META        MSFT       ORCL\n",
              "Date                                                               \n",
              "2020-01-02  94.900497  68.368500  209.779999  160.619995  53.950001\n",
              "2020-01-03  93.748497  68.032997  208.669998  158.619995  53.759998\n",
              "2020-01-06  95.143997  69.710503  212.600006  159.029999  54.040001\n",
              "2020-01-07  95.343002  69.667000  213.059998  157.580002  54.160000\n",
              "2020-01-08  94.598503  70.216003  215.220001  160.089996  54.130001"
            ],
            "text/html": [
              "\n",
              "  <div id=\"df-9d30087d-866f-4e33-9615-b64b02a6876a\">\n",
              "    <div class=\"colab-df-container\">\n",
              "      <div>\n",
              "<style scoped>\n",
              "    .dataframe tbody tr th:only-of-type {\n",
              "        vertical-align: middle;\n",
              "    }\n",
              "\n",
              "    .dataframe tbody tr th {\n",
              "        vertical-align: top;\n",
              "    }\n",
              "\n",
              "    .dataframe thead th {\n",
              "        text-align: right;\n",
              "    }\n",
              "</style>\n",
              "<table border=\"1\" class=\"dataframe\">\n",
              "  <thead>\n",
              "    <tr style=\"text-align: right;\">\n",
              "      <th></th>\n",
              "      <th>AMZN</th>\n",
              "      <th>GOOG</th>\n",
              "      <th>META</th>\n",
              "      <th>MSFT</th>\n",
              "      <th>ORCL</th>\n",
              "    </tr>\n",
              "    <tr>\n",
              "      <th>Date</th>\n",
              "      <th></th>\n",
              "      <th></th>\n",
              "      <th></th>\n",
              "      <th></th>\n",
              "      <th></th>\n",
              "    </tr>\n",
              "  </thead>\n",
              "  <tbody>\n",
              "    <tr>\n",
              "      <th>2020-01-02</th>\n",
              "      <td>94.900497</td>\n",
              "      <td>68.368500</td>\n",
              "      <td>209.779999</td>\n",
              "      <td>160.619995</td>\n",
              "      <td>53.950001</td>\n",
              "    </tr>\n",
              "    <tr>\n",
              "      <th>2020-01-03</th>\n",
              "      <td>93.748497</td>\n",
              "      <td>68.032997</td>\n",
              "      <td>208.669998</td>\n",
              "      <td>158.619995</td>\n",
              "      <td>53.759998</td>\n",
              "    </tr>\n",
              "    <tr>\n",
              "      <th>2020-01-06</th>\n",
              "      <td>95.143997</td>\n",
              "      <td>69.710503</td>\n",
              "      <td>212.600006</td>\n",
              "      <td>159.029999</td>\n",
              "      <td>54.040001</td>\n",
              "    </tr>\n",
              "    <tr>\n",
              "      <th>2020-01-07</th>\n",
              "      <td>95.343002</td>\n",
              "      <td>69.667000</td>\n",
              "      <td>213.059998</td>\n",
              "      <td>157.580002</td>\n",
              "      <td>54.160000</td>\n",
              "    </tr>\n",
              "    <tr>\n",
              "      <th>2020-01-08</th>\n",
              "      <td>94.598503</td>\n",
              "      <td>70.216003</td>\n",
              "      <td>215.220001</td>\n",
              "      <td>160.089996</td>\n",
              "      <td>54.130001</td>\n",
              "    </tr>\n",
              "  </tbody>\n",
              "</table>\n",
              "</div>\n",
              "      <button class=\"colab-df-convert\" onclick=\"convertToInteractive('df-9d30087d-866f-4e33-9615-b64b02a6876a')\"\n",
              "              title=\"Convert this dataframe to an interactive table.\"\n",
              "              style=\"display:none;\">\n",
              "        \n",
              "  <svg xmlns=\"http://www.w3.org/2000/svg\" height=\"24px\"viewBox=\"0 0 24 24\"\n",
              "       width=\"24px\">\n",
              "    <path d=\"M0 0h24v24H0V0z\" fill=\"none\"/>\n",
              "    <path d=\"M18.56 5.44l.94 2.06.94-2.06 2.06-.94-2.06-.94-.94-2.06-.94 2.06-2.06.94zm-11 1L8.5 8.5l.94-2.06 2.06-.94-2.06-.94L8.5 2.5l-.94 2.06-2.06.94zm10 10l.94 2.06.94-2.06 2.06-.94-2.06-.94-.94-2.06-.94 2.06-2.06.94z\"/><path d=\"M17.41 7.96l-1.37-1.37c-.4-.4-.92-.59-1.43-.59-.52 0-1.04.2-1.43.59L10.3 9.45l-7.72 7.72c-.78.78-.78 2.05 0 2.83L4 21.41c.39.39.9.59 1.41.59.51 0 1.02-.2 1.41-.59l7.78-7.78 2.81-2.81c.8-.78.8-2.07 0-2.86zM5.41 20L4 18.59l7.72-7.72 1.47 1.35L5.41 20z\"/>\n",
              "  </svg>\n",
              "      </button>\n",
              "      \n",
              "  <style>\n",
              "    .colab-df-container {\n",
              "      display:flex;\n",
              "      flex-wrap:wrap;\n",
              "      gap: 12px;\n",
              "    }\n",
              "\n",
              "    .colab-df-convert {\n",
              "      background-color: #E8F0FE;\n",
              "      border: none;\n",
              "      border-radius: 50%;\n",
              "      cursor: pointer;\n",
              "      display: none;\n",
              "      fill: #1967D2;\n",
              "      height: 32px;\n",
              "      padding: 0 0 0 0;\n",
              "      width: 32px;\n",
              "    }\n",
              "\n",
              "    .colab-df-convert:hover {\n",
              "      background-color: #E2EBFA;\n",
              "      box-shadow: 0px 1px 2px rgba(60, 64, 67, 0.3), 0px 1px 3px 1px rgba(60, 64, 67, 0.15);\n",
              "      fill: #174EA6;\n",
              "    }\n",
              "\n",
              "    [theme=dark] .colab-df-convert {\n",
              "      background-color: #3B4455;\n",
              "      fill: #D2E3FC;\n",
              "    }\n",
              "\n",
              "    [theme=dark] .colab-df-convert:hover {\n",
              "      background-color: #434B5C;\n",
              "      box-shadow: 0px 1px 3px 1px rgba(0, 0, 0, 0.15);\n",
              "      filter: drop-shadow(0px 1px 2px rgba(0, 0, 0, 0.3));\n",
              "      fill: #FFFFFF;\n",
              "    }\n",
              "  </style>\n",
              "\n",
              "      <script>\n",
              "        const buttonEl =\n",
              "          document.querySelector('#df-9d30087d-866f-4e33-9615-b64b02a6876a button.colab-df-convert');\n",
              "        buttonEl.style.display =\n",
              "          google.colab.kernel.accessAllowed ? 'block' : 'none';\n",
              "\n",
              "        async function convertToInteractive(key) {\n",
              "          const element = document.querySelector('#df-9d30087d-866f-4e33-9615-b64b02a6876a');\n",
              "          const dataTable =\n",
              "            await google.colab.kernel.invokeFunction('convertToInteractive',\n",
              "                                                     [key], {});\n",
              "          if (!dataTable) return;\n",
              "\n",
              "          const docLinkHtml = 'Like what you see? Visit the ' +\n",
              "            '<a target=\"_blank\" href=https://colab.research.google.com/notebooks/data_table.ipynb>data table notebook</a>'\n",
              "            + ' to learn more about interactive tables.';\n",
              "          element.innerHTML = '';\n",
              "          dataTable['output_type'] = 'display_data';\n",
              "          await google.colab.output.renderOutput(dataTable, element);\n",
              "          const docLink = document.createElement('div');\n",
              "          docLink.innerHTML = docLinkHtml;\n",
              "          element.appendChild(docLink);\n",
              "        }\n",
              "      </script>\n",
              "    </div>\n",
              "  </div>\n",
              "  "
            ]
          },
          "metadata": {},
          "execution_count": 16
        }
      ]
    },
    {
      "cell_type": "code",
      "source": [
        "# Visualize data using seaborn\n",
        "sns.set(rc={'figure.figsize':(12,8)})\n",
        "sns.lineplot(x=data.index, y=data['META'])\n",
        "sns.lineplot(x=data.index, y=data['AMZN'])\n",
        "sns.lineplot(x=data.index, y=data['GOOG'])\n",
        "sns.lineplot(x=data.index, y=data['MSFT'])\n",
        "sns.lineplot(x=data.index, y=data['ORCL'])\n",
        "plt.legend(labels = ['Meta', 'Amazon', 'Google', 'Microsoft', 'Oracle'])"
      ],
      "metadata": {
        "colab": {
          "base_uri": "https://localhost:8080/",
          "height": 437
        },
        "id": "wqWVwW3KweFu",
        "outputId": "5c8ca14f-f82e-45ce-bbde-e35184ce43d5"
      },
      "execution_count": 22,
      "outputs": [
        {
          "output_type": "execute_result",
          "data": {
            "text/plain": [
              "<matplotlib.legend.Legend at 0x7f9982785d10>"
            ]
          },
          "metadata": {},
          "execution_count": 22
        },
        {
          "output_type": "display_data",
          "data": {
            "text/plain": [
              "<Figure size 864x576 with 1 Axes>"
            ],
            "image/png": "[encoded data removed]"
          },
          "metadata": {}
        }
      ]
    },
    {
      "cell_type": "code",
      "source": [
        "# Data information\n",
        "data.info()"
      ],
      "metadata": {
        "colab": {
          "base_uri": "https://localhost:8080/"
        },
        "id": "u0r-sQUJwfry",
        "outputId": "84052758-1cf4-4de2-cc35-79dbaf1365c1"
      },
      "execution_count": 23,
      "outputs": [
        {
          "output_type": "stream",
          "name": "stdout",
          "text": [
            "<class 'pandas.core.frame.DataFrame'>\n",
            "RangeIndex: 505 entries, 0 to 504\n",
            "Data columns (total 6 columns):\n",
            " #   Column  Non-Null Count  Dtype         \n",
            "---  ------  --------------  -----         \n",
            " 0   Date    505 non-null    datetime64[ns]\n",
            " 1   AMZN    505 non-null    float64       \n",
            " 2   GOOG    505 non-null    float64       \n",
            " 3   META    505 non-null    float64       \n",
            " 4   MSFT    505 non-null    float64       \n",
            " 5   ORCL    505 non-null    float64       \n",
            "dtypes: datetime64[ns](1), float64(5)\n",
            "memory usage: 23.8 KB\n"
          ]
        }
      ]
    },
    {
      "cell_type": "markdown",
      "source": [
        "# Step 3: Data Processing"
      ],
      "metadata": {
        "id": "O3Hmyn2twhrM"
      }
    },
    {
      "cell_type": "code",
      "source": [
        "# Release Date from the index\n",
        "data = data.reset_index()\n",
        "\n",
        "# Change data from the wide format to the long format\n",
        "df = pd.melt(data, id_vars='Date', value_vars=['AMZN', 'META', 'GOOG', 'MSFT', 'ORCL'])\n",
        "df.columns = ['ds', 'ticker', 'y']\n",
        "df.head()"
      ],
      "metadata": {
        "colab": {
          "base_uri": "https://localhost:8080/",
          "height": 204
        },
        "id": "193wmJgRwgya",
        "outputId": "2441cf54-e921-4320-c375-e74c9765aed9"
      },
      "execution_count": 24,
      "outputs": [
        {
          "output_type": "execute_result",
          "data": {
            "text/plain": [
              "          ds ticker          y\n",
              "0 2020-01-02   AMZN  94.900497\n",
              "1 2020-01-03   AMZN  93.748497\n",
              "2 2020-01-06   AMZN  95.143997\n",
              "3 2020-01-07   AMZN  95.343002\n",
              "4 2020-01-08   AMZN  94.598503"
            ],
            "text/html": [
              "\n",
              "  <div id=\"df-e102ed02-e965-444b-a5db-021289bd71c8\">\n",
              "    <div class=\"colab-df-container\">\n",
              "      <div>\n",
              "<style scoped>\n",
              "    .dataframe tbody tr th:only-of-type {\n",
              "        vertical-align: middle;\n",
              "    }\n",
              "\n",
              "    .dataframe tbody tr th {\n",
              "        vertical-align: top;\n",
              "    }\n",
              "\n",
              "    .dataframe thead th {\n",
              "        text-align: right;\n",
              "    }\n",
              "</style>\n",
              "<table border=\"1\" class=\"dataframe\">\n",
              "  <thead>\n",
              "    <tr style=\"text-align: right;\">\n",
              "      <th></th>\n",
              "      <th>ds</th>\n",
              "      <th>ticker</th>\n",
              "      <th>y</th>\n",
              "    </tr>\n",
              "  </thead>\n",
              "  <tbody>\n",
              "    <tr>\n",
              "      <th>0</th>\n",
              "      <td>2020-01-02</td>\n",
              "      <td>AMZN</td>\n",
              "      <td>94.900497</td>\n",
              "    </tr>\n",
              "    <tr>\n",
              "      <th>1</th>\n",
              "      <td>2020-01-03</td>\n",
              "      <td>AMZN</td>\n",
              "      <td>93.748497</td>\n",
              "    </tr>\n",
              "    <tr>\n",
              "      <th>2</th>\n",
              "      <td>2020-01-06</td>\n",
              "      <td>AMZN</td>\n",
              "      <td>95.143997</td>\n",
              "    </tr>\n",
              "    <tr>\n",
              "      <th>3</th>\n",
              "      <td>2020-01-07</td>\n",
              "      <td>AMZN</td>\n",
              "      <td>95.343002</td>\n",
              "    </tr>\n",
              "    <tr>\n",
              "      <th>4</th>\n",
              "      <td>2020-01-08</td>\n",
              "      <td>AMZN</td>\n",
              "      <td>94.598503</td>\n",
              "    </tr>\n",
              "  </tbody>\n",
              "</table>\n",
              "</div>\n",
              "      <button class=\"colab-df-convert\" onclick=\"convertToInteractive('df-e102ed02-e965-444b-a5db-021289bd71c8')\"\n",
              "              title=\"Convert this dataframe to an interactive table.\"\n",
              "              style=\"display:none;\">\n",
              "        \n",
              "  <svg xmlns=\"http://www.w3.org/2000/svg\" height=\"24px\"viewBox=\"0 0 24 24\"\n",
              "       width=\"24px\">\n",
              "    <path d=\"M0 0h24v24H0V0z\" fill=\"none\"/>\n",
              "    <path d=\"M18.56 5.44l.94 2.06.94-2.06 2.06-.94-2.06-.94-.94-2.06-.94 2.06-2.06.94zm-11 1L8.5 8.5l.94-2.06 2.06-.94-2.06-.94L8.5 2.5l-.94 2.06-2.06.94zm10 10l.94 2.06.94-2.06 2.06-.94-2.06-.94-.94-2.06-.94 2.06-2.06.94z\"/><path d=\"M17.41 7.96l-1.37-1.37c-.4-.4-.92-.59-1.43-.59-.52 0-1.04.2-1.43.59L10.3 9.45l-7.72 7.72c-.78.78-.78 2.05 0 2.83L4 21.41c.39.39.9.59 1.41.59.51 0 1.02-.2 1.41-.59l7.78-7.78 2.81-2.81c.8-.78.8-2.07 0-2.86zM5.41 20L4 18.59l7.72-7.72 1.47 1.35L5.41 20z\"/>\n",
              "  </svg>\n",
              "      </button>\n",
              "      \n",
              "  <style>\n",
              "    .colab-df-container {\n",
              "      display:flex;\n",
              "      flex-wrap:wrap;\n",
              "      gap: 12px;\n",
              "    }\n",
              "\n",
              "    .colab-df-convert {\n",
              "      background-color: #E8F0FE;\n",
              "      border: none;\n",
              "      border-radius: 50%;\n",
              "      cursor: pointer;\n",
              "      display: none;\n",
              "      fill: #1967D2;\n",
              "      height: 32px;\n",
              "      padding: 0 0 0 0;\n",
              "      width: 32px;\n",
              "    }\n",
              "\n",
              "    .colab-df-convert:hover {\n",
              "      background-color: #E2EBFA;\n",
              "      box-shadow: 0px 1px 2px rgba(60, 64, 67, 0.3), 0px 1px 3px 1px rgba(60, 64, 67, 0.15);\n",
              "      fill: #174EA6;\n",
              "    }\n",
              "\n",
              "    [theme=dark] .colab-df-convert {\n",
              "      background-color: #3B4455;\n",
              "      fill: #D2E3FC;\n",
              "    }\n",
              "\n",
              "    [theme=dark] .colab-df-convert:hover {\n",
              "      background-color: #434B5C;\n",
              "      box-shadow: 0px 1px 3px 1px rgba(0, 0, 0, 0.15);\n",
              "      filter: drop-shadow(0px 1px 2px rgba(0, 0, 0, 0.3));\n",
              "      fill: #FFFFFF;\n",
              "    }\n",
              "  </style>\n",
              "\n",
              "      <script>\n",
              "        const buttonEl =\n",
              "          document.querySelector('#df-e102ed02-e965-444b-a5db-021289bd71c8 button.colab-df-convert');\n",
              "        buttonEl.style.display =\n",
              "          google.colab.kernel.accessAllowed ? 'block' : 'none';\n",
              "\n",
              "        async function convertToInteractive(key) {\n",
              "          const element = document.querySelector('#df-e102ed02-e965-444b-a5db-021289bd71c8');\n",
              "          const dataTable =\n",
              "            await google.colab.kernel.invokeFunction('convertToInteractive',\n",
              "                                                     [key], {});\n",
              "          if (!dataTable) return;\n",
              "\n",
              "          const docLinkHtml = 'Like what you see? Visit the ' +\n",
              "            '<a target=\"_blank\" href=https://colab.research.google.com/notebooks/data_table.ipynb>data table notebook</a>'\n",
              "            + ' to learn more about interactive tables.';\n",
              "          element.innerHTML = '';\n",
              "          dataTable['output_type'] = 'display_data';\n",
              "          await google.colab.output.renderOutput(dataTable, element);\n",
              "          const docLink = document.createElement('div');\n",
              "          docLink.innerHTML = docLinkHtml;\n",
              "          element.appendChild(docLink);\n",
              "        }\n",
              "      </script>\n",
              "    </div>\n",
              "  </div>\n",
              "  "
            ]
          },
          "metadata": {},
          "execution_count": 24
        }
      ]
    },
    {
      "cell_type": "code",
      "source": [
        "# Check the dataset information\n",
        "df.info()"
      ],
      "metadata": {
        "colab": {
          "base_uri": "https://localhost:8080/"
        },
        "id": "ww3ONGx_wjOc",
        "outputId": "1b484e27-7139-4568-ddf7-d71c99f3c91e"
      },
      "execution_count": 25,
      "outputs": [
        {
          "output_type": "stream",
          "name": "stdout",
          "text": [
            "<class 'pandas.core.frame.DataFrame'>\n",
            "RangeIndex: 2525 entries, 0 to 2524\n",
            "Data columns (total 3 columns):\n",
            " #   Column  Non-Null Count  Dtype         \n",
            "---  ------  --------------  -----         \n",
            " 0   ds      2525 non-null   datetime64[ns]\n",
            " 1   ticker  2525 non-null   object        \n",
            " 2   y       2525 non-null   float64       \n",
            "dtypes: datetime64[ns](1), float64(1), object(1)\n",
            "memory usage: 59.3+ KB\n"
          ]
        }
      ]
    },
    {
      "cell_type": "code",
      "source": [
        "# Group the data by ticker\n",
        "groups_by_ticker = df.groupby('ticker')\n",
        "\n",
        "# Check the groups in the dataframe\n",
        "groups_by_ticker.groups.keys()"
      ],
      "metadata": {
        "colab": {
          "base_uri": "https://localhost:8080/"
        },
        "id": "4YNecPp4wkif",
        "outputId": "3873ece6-bb28-4b56-df29-788f502d32bc"
      },
      "execution_count": 26,
      "outputs": [
        {
          "output_type": "execute_result",
          "data": {
            "text/plain": [
              "dict_keys(['AMZN', 'GOOG', 'META', 'MSFT', 'ORCL'])"
            ]
          },
          "metadata": {},
          "execution_count": 26
        }
      ]
    },
    {
      "cell_type": "markdown",
      "source": [
        "# Step 4: Define Function"
      ],
      "metadata": {
        "id": "jDLeyZ0nwnRW"
      }
    },
    {
      "cell_type": "code",
      "source": [
        "def train_and_forecast(group):  \n",
        "  \n",
        "  # Initiate the model\n",
        "  m = Prophet()\n",
        "  \n",
        "  # Fit the model\n",
        "  m.fit(group)  \n",
        "  \n",
        "  # Make predictions\n",
        "  future = m.make_future_dataframe(periods=15)\n",
        "  forecast = m.predict(future)[['ds', 'yhat', 'yhat_lower', 'yhat_upper']]\n",
        "  forecast['ticker'] = group['ticker'].iloc[0]\n",
        "  \n",
        "  # Return the forecasted results\n",
        "  return forecast[['ds', 'ticker', 'yhat', 'yhat_upper', 'yhat_lower']]"
      ],
      "metadata": {
        "id": "A5K73yyVwmVK"
      },
      "execution_count": 27,
      "outputs": []
    },
    {
      "cell_type": "markdown",
      "source": [
        "# Step 5: Multiple Time Series Forecast Using For-Loop"
      ],
      "metadata": {
        "id": "AUZISaTJwsqK"
      }
    },
    {
      "cell_type": "code",
      "source": [
        "# Start time\n",
        "start_time = time()\n",
        "\n",
        "# Create an empty dataframe\n",
        "for_loop_forecast = pd.DataFrame()\n",
        "\n",
        "# Loop through each ticker\n",
        "for ticker in ticker_list:\n",
        "  # Get the data for the ticker\n",
        "  group = groups_by_ticker.get_group(ticker)  \n",
        "  # Make forecast\n",
        "  forecast = train_and_forecast(group)\n",
        "  # Add the forecast results to the dataframe\n",
        "  for_loop_forecast = pd.concat((for_loop_forecast, forecast))\n",
        "  \n",
        "print('The time used for the for-loop forecast is ', time()-start_time)\n",
        "\n",
        "# Take a look at the data\n",
        "for_loop_forecast.head()"
      ],
      "metadata": {
        "colab": {
          "base_uri": "https://localhost:8080/",
          "height": 1000
        },
        "id": "_o-qcF9JwqIl",
        "outputId": "c8b8e9e4-e412-4b31-a105-039c26d6b3e4"
      },
      "execution_count": 28,
      "outputs": [
        {
          "output_type": "stream",
          "name": "stderr",
          "text": [
            "INFO:prophet:Disabling yearly seasonality. Run prophet with yearly_seasonality=True to override this.\n",
            "INFO:prophet:Disabling daily seasonality. Run prophet with daily_seasonality=True to override this.\n",
            "DEBUG:cmdstanpy:input tempfile: /tmp/tmpmwfsi_di/r84tjf73.json\n",
            "DEBUG:cmdstanpy:input tempfile: /tmp/tmpmwfsi_di/ktu7dd8z.json\n",
            "DEBUG:cmdstanpy:idx 0\n",
            "DEBUG:cmdstanpy:running CmdStan, num_threads: None\n",
            "DEBUG:cmdstanpy:CmdStan args: ['/usr/local/lib/python3.7/dist-packages/prophet/stan_model/prophet_model.bin', 'random', 'seed=8429', 'data', 'file=/tmp/tmpmwfsi_di/r84tjf73.json', 'init=/tmp/tmpmwfsi_di/ktu7dd8z.json', 'output', 'file=/tmp/tmpvioayhir/prophet_model-20220824121337.csv', 'method=optimize', 'algorithm=lbfgs', 'iter=10000']\n",
            "12:13:37 - cmdstanpy - INFO - Chain [1] start processing\n",
            "INFO:cmdstanpy:Chain [1] start processing\n",
            "12:13:37 - cmdstanpy - INFO - Chain [1] done processing\n",
            "INFO:cmdstanpy:Chain [1] done processing\n",
            "INFO:prophet:Disabling yearly seasonality. Run prophet with yearly_seasonality=True to override this.\n",
            "INFO:prophet:Disabling daily seasonality. Run prophet with daily_seasonality=True to override this.\n",
            "DEBUG:cmdstanpy:input tempfile: /tmp/tmpmwfsi_di/jhvthni0.json\n",
            "DEBUG:cmdstanpy:input tempfile: /tmp/tmpmwfsi_di/_gsokap0.json\n",
            "DEBUG:cmdstanpy:idx 0\n",
            "DEBUG:cmdstanpy:running CmdStan, num_threads: None\n",
            "DEBUG:cmdstanpy:CmdStan args: ['/usr/local/lib/python3.7/dist-packages/prophet/stan_model/prophet_model.bin', 'random', 'seed=190', 'data', 'file=/tmp/tmpmwfsi_di/jhvthni0.json', 'init=/tmp/tmpmwfsi_di/_gsokap0.json', 'output', 'file=/tmp/tmpwiiwdow9/prophet_model-20220824121340.csv', 'method=optimize', 'algorithm=lbfgs', 'iter=10000']\n",
            "12:13:40 - cmdstanpy - INFO - Chain [1] start processing\n",
            "INFO:cmdstanpy:Chain [1] start processing\n",
            "12:13:40 - cmdstanpy - INFO - Chain [1] done processing\n",
            "INFO:cmdstanpy:Chain [1] done processing\n",
            "INFO:prophet:Disabling yearly seasonality. Run prophet with yearly_seasonality=True to override this.\n",
            "INFO:prophet:Disabling daily seasonality. Run prophet with daily_seasonality=True to override this.\n",
            "DEBUG:cmdstanpy:input tempfile: /tmp/tmpmwfsi_di/9ujwn_n7.json\n",
            "DEBUG:cmdstanpy:input tempfile: /tmp/tmpmwfsi_di/ylbtgzli.json\n",
            "DEBUG:cmdstanpy:idx 0\n",
            "DEBUG:cmdstanpy:running CmdStan, num_threads: None\n",
            "DEBUG:cmdstanpy:CmdStan args: ['/usr/local/lib/python3.7/dist-packages/prophet/stan_model/prophet_model.bin', 'random', 'seed=33476', 'data', 'file=/tmp/tmpmwfsi_di/9ujwn_n7.json', 'init=/tmp/tmpmwfsi_di/ylbtgzli.json', 'output', 'file=/tmp/tmpam76wm51/prophet_model-20220824121342.csv', 'method=optimize', 'algorithm=lbfgs', 'iter=10000']\n",
            "12:13:42 - cmdstanpy - INFO - Chain [1] start processing\n",
            "INFO:cmdstanpy:Chain [1] start processing\n",
            "12:13:42 - cmdstanpy - INFO - Chain [1] done processing\n",
            "INFO:cmdstanpy:Chain [1] done processing\n",
            "INFO:prophet:Disabling yearly seasonality. Run prophet with yearly_seasonality=True to override this.\n",
            "INFO:prophet:Disabling daily seasonality. Run prophet with daily_seasonality=True to override this.\n",
            "DEBUG:cmdstanpy:input tempfile: /tmp/tmpmwfsi_di/3qa842tr.json\n",
            "DEBUG:cmdstanpy:input tempfile: /tmp/tmpmwfsi_di/pa92rcd0.json\n",
            "DEBUG:cmdstanpy:idx 0\n",
            "DEBUG:cmdstanpy:running CmdStan, num_threads: None\n",
            "DEBUG:cmdstanpy:CmdStan args: ['/usr/local/lib/python3.7/dist-packages/prophet/stan_model/prophet_model.bin', 'random', 'seed=5232', 'data', 'file=/tmp/tmpmwfsi_di/3qa842tr.json', 'init=/tmp/tmpmwfsi_di/pa92rcd0.json', 'output', 'file=/tmp/tmp7r9i9muh/prophet_model-20220824121344.csv', 'method=optimize', 'algorithm=lbfgs', 'iter=10000']\n",
            "12:13:44 - cmdstanpy - INFO - Chain [1] start processing\n",
            "INFO:cmdstanpy:Chain [1] start processing\n",
            "12:13:44 - cmdstanpy - INFO - Chain [1] done processing\n",
            "INFO:cmdstanpy:Chain [1] done processing\n",
            "INFO:prophet:Disabling yearly seasonality. Run prophet with yearly_seasonality=True to override this.\n",
            "INFO:prophet:Disabling daily seasonality. Run prophet with daily_seasonality=True to override this.\n",
            "DEBUG:cmdstanpy:input tempfile: /tmp/tmpmwfsi_di/898zkvou.json\n",
            "DEBUG:cmdstanpy:input tempfile: /tmp/tmpmwfsi_di/sdnpgqnm.json\n",
            "DEBUG:cmdstanpy:idx 0\n",
            "DEBUG:cmdstanpy:running CmdStan, num_threads: None\n",
            "DEBUG:cmdstanpy:CmdStan args: ['/usr/local/lib/python3.7/dist-packages/prophet/stan_model/prophet_model.bin', 'random', 'seed=974', 'data', 'file=/tmp/tmpmwfsi_di/898zkvou.json', 'init=/tmp/tmpmwfsi_di/sdnpgqnm.json', 'output', 'file=/tmp/tmp_9lv8qi2/prophet_model-20220824121346.csv', 'method=optimize', 'algorithm=lbfgs', 'iter=10000']\n",
            "12:13:46 - cmdstanpy - INFO - Chain [1] start processing\n",
            "INFO:cmdstanpy:Chain [1] start processing\n",
            "12:13:46 - cmdstanpy - INFO - Chain [1] done processing\n",
            "INFO:cmdstanpy:Chain [1] done processing\n"
          ]
        },
        {
          "output_type": "stream",
          "name": "stdout",
          "text": [
            "The time used for the for-loop forecast is  11.810548305511475\n"
          ]
        },
        {
          "output_type": "execute_result",
          "data": {
            "text/plain": [
              "          ds ticker        yhat  yhat_upper  yhat_lower\n",
              "0 2020-01-02   META  224.550138  239.864454  210.401204\n",
              "1 2020-01-03   META  224.069484  239.729622  209.483101\n",
              "2 2020-01-06   META  221.447529  235.708652  206.190588\n",
              "3 2020-01-07   META  221.791034  236.144077  206.322130\n",
              "4 2020-01-08   META  221.152171  235.305116  205.114905"
            ],
            "text/html": [
              "\n",
              "  <div id=\"df-491c54f0-9d59-4ca3-bf44-84692df3e28a\">\n",
              "    <div class=\"colab-df-container\">\n",
              "      <div>\n",
              "<style scoped>\n",
              "    .dataframe tbody tr th:only-of-type {\n",
              "        vertical-align: middle;\n",
              "    }\n",
              "\n",
              "    .dataframe tbody tr th {\n",
              "        vertical-align: top;\n",
              "    }\n",
              "\n",
              "    .dataframe thead th {\n",
              "        text-align: right;\n",
              "    }\n",
              "</style>\n",
              "<table border=\"1\" class=\"dataframe\">\n",
              "  <thead>\n",
              "    <tr style=\"text-align: right;\">\n",
              "      <th></th>\n",
              "      <th>ds</th>\n",
              "      <th>ticker</th>\n",
              "      <th>yhat</th>\n",
              "      <th>yhat_upper</th>\n",
              "      <th>yhat_lower</th>\n",
              "    </tr>\n",
              "  </thead>\n",
              "  <tbody>\n",
              "    <tr>\n",
              "      <th>0</th>\n",
              "      <td>2020-01-02</td>\n",
              "      <td>META</td>\n",
              "      <td>224.550138</td>\n",
              "      <td>239.864454</td>\n",
              "      <td>210.401204</td>\n",
              "    </tr>\n",
              "    <tr>\n",
              "      <th>1</th>\n",
              "      <td>2020-01-03</td>\n",
              "      <td>META</td>\n",
              "      <td>224.069484</td>\n",
              "      <td>239.729622</td>\n",
              "      <td>209.483101</td>\n",
              "    </tr>\n",
              "    <tr>\n",
              "      <th>2</th>\n",
              "      <td>2020-01-06</td>\n",
              "      <td>META</td>\n",
              "      <td>221.447529</td>\n",
              "      <td>235.708652</td>\n",
              "      <td>206.190588</td>\n",
              "    </tr>\n",
              "    <tr>\n",
              "      <th>3</th>\n",
              "      <td>2020-01-07</td>\n",
              "      <td>META</td>\n",
              "      <td>221.791034</td>\n",
              "      <td>236.144077</td>\n",
              "      <td>206.322130</td>\n",
              "    </tr>\n",
              "    <tr>\n",
              "      <th>4</th>\n",
              "      <td>2020-01-08</td>\n",
              "      <td>META</td>\n",
              "      <td>221.152171</td>\n",
              "      <td>235.305116</td>\n",
              "      <td>205.114905</td>\n",
              "    </tr>\n",
              "  </tbody>\n",
              "</table>\n",
              "</div>\n",
              "      <button class=\"colab-df-convert\" onclick=\"convertToInteractive('df-491c54f0-9d59-4ca3-bf44-84692df3e28a')\"\n",
              "              title=\"Convert this dataframe to an interactive table.\"\n",
              "              style=\"display:none;\">\n",
              "        \n",
              "  <svg xmlns=\"http://www.w3.org/2000/svg\" height=\"24px\"viewBox=\"0 0 24 24\"\n",
              "       width=\"24px\">\n",
              "    <path d=\"M0 0h24v24H0V0z\" fill=\"none\"/>\n",
              "    <path d=\"M18.56 5.44l.94 2.06.94-2.06 2.06-.94-2.06-.94-.94-2.06-.94 2.06-2.06.94zm-11 1L8.5 8.5l.94-2.06 2.06-.94-2.06-.94L8.5 2.5l-.94 2.06-2.06.94zm10 10l.94 2.06.94-2.06 2.06-.94-2.06-.94-.94-2.06-.94 2.06-2.06.94z\"/><path d=\"M17.41 7.96l-1.37-1.37c-.4-.4-.92-.59-1.43-.59-.52 0-1.04.2-1.43.59L10.3 9.45l-7.72 7.72c-.78.78-.78 2.05 0 2.83L4 21.41c.39.39.9.59 1.41.59.51 0 1.02-.2 1.41-.59l7.78-7.78 2.81-2.81c.8-.78.8-2.07 0-2.86zM5.41 20L4 18.59l7.72-7.72 1.47 1.35L5.41 20z\"/>\n",
              "  </svg>\n",
              "      </button>\n",
              "      \n",
              "  <style>\n",
              "    .colab-df-container {\n",
              "      display:flex;\n",
              "      flex-wrap:wrap;\n",
              "      gap: 12px;\n",
              "    }\n",
              "\n",
              "    .colab-df-convert {\n",
              "      background-color: #E8F0FE;\n",
              "      border: none;\n",
              "      border-radius: 50%;\n",
              "      cursor: pointer;\n",
              "      display: none;\n",
              "      fill: #1967D2;\n",
              "      height: 32px;\n",
              "      padding: 0 0 0 0;\n",
              "      width: 32px;\n",
              "    }\n",
              "\n",
              "    .colab-df-convert:hover {\n",
              "      background-color: #E2EBFA;\n",
              "      box-shadow: 0px 1px 2px rgba(60, 64, 67, 0.3), 0px 1px 3px 1px rgba(60, 64, 67, 0.15);\n",
              "      fill: #174EA6;\n",
              "    }\n",
              "\n",
              "    [theme=dark] .colab-df-convert {\n",
              "      background-color: #3B4455;\n",
              "      fill: #D2E3FC;\n",
              "    }\n",
              "\n",
              "    [theme=dark] .colab-df-convert:hover {\n",
              "      background-color: #434B5C;\n",
              "      box-shadow: 0px 1px 3px 1px rgba(0, 0, 0, 0.15);\n",
              "      filter: drop-shadow(0px 1px 2px rgba(0, 0, 0, 0.3));\n",
              "      fill: #FFFFFF;\n",
              "    }\n",
              "  </style>\n",
              "\n",
              "      <script>\n",
              "        const buttonEl =\n",
              "          document.querySelector('#df-491c54f0-9d59-4ca3-bf44-84692df3e28a button.colab-df-convert');\n",
              "        buttonEl.style.display =\n",
              "          google.colab.kernel.accessAllowed ? 'block' : 'none';\n",
              "\n",
              "        async function convertToInteractive(key) {\n",
              "          const element = document.querySelector('#df-491c54f0-9d59-4ca3-bf44-84692df3e28a');\n",
              "          const dataTable =\n",
              "            await google.colab.kernel.invokeFunction('convertToInteractive',\n",
              "                                                     [key], {});\n",
              "          if (!dataTable) return;\n",
              "\n",
              "          const docLinkHtml = 'Like what you see? Visit the ' +\n",
              "            '<a target=\"_blank\" href=https://colab.research.google.com/notebooks/data_table.ipynb>data table notebook</a>'\n",
              "            + ' to learn more about interactive tables.';\n",
              "          element.innerHTML = '';\n",
              "          dataTable['output_type'] = 'display_data';\n",
              "          await google.colab.output.renderOutput(dataTable, element);\n",
              "          const docLink = document.createElement('div');\n",
              "          docLink.innerHTML = docLinkHtml;\n",
              "          element.appendChild(docLink);\n",
              "        }\n",
              "      </script>\n",
              "    </div>\n",
              "  </div>\n",
              "  "
            ]
          },
          "metadata": {},
          "execution_count": 28
        }
      ]
    },
    {
      "cell_type": "markdown",
      "source": [
        "# Step 6: Multiple Time Series Forecast Using Multi-Processing"
      ],
      "metadata": {
        "id": "lUtS-5ZfwyZq"
      }
    },
    {
      "cell_type": "code",
      "source": [
        "# Start time\n",
        "start_time = time()# Get time series data for each ticker and save in a list\n",
        "series = [groups_by_ticker.get_group(ticker) for ticker in ticker_list]# Create a pool process with the number of worker processes being the number of CPUs\n",
        "p = Pool(cpu_count())# Make predictions for each ticker and save the results to a list\n",
        "predictions = list(tqdm(p.imap(train_and_forecast, series), total=len(series)))# Terminate the pool process\n",
        "p.close()# Tell the pool to wait till all the jobs are finished before exit\n",
        "p.join()# Concatenate results\n",
        "multiprocess_forecast = pd.concat(predictions)# Get the time used for the forecast\n",
        "print('\\nThe time used for the multi-processing forecast is ', time()-start_time)"
      ],
      "metadata": {
        "colab": {
          "base_uri": "https://localhost:8080/"
        },
        "id": "INCG09EOwxHW",
        "outputId": "add7218c-9e30-4da6-faf3-921f7c5ef146"
      },
      "execution_count": 29,
      "outputs": [
        {
          "output_type": "stream",
          "name": "stderr",
          "text": [
            "\r  0%|          | 0/5 [00:00<?, ?it/s]INFO:prophet:Disabling yearly seasonality. Run prophet with yearly_seasonality=True to override this.\n",
            "INFO:prophet:Disabling daily seasonality. Run prophet with daily_seasonality=True to override this.\n",
            "INFO:prophet:Disabling yearly seasonality. Run prophet with yearly_seasonality=True to override this.\n",
            "INFO:prophet:Disabling daily seasonality. Run prophet with daily_seasonality=True to override this.\n",
            "DEBUG:cmdstanpy:input tempfile: /tmp/tmpmwfsi_di/y2_jqc11.json\n",
            "DEBUG:cmdstanpy:input tempfile: /tmp/tmpmwfsi_di/bhc3zq28.json\n",
            "DEBUG:cmdstanpy:idx 0\n",
            "DEBUG:cmdstanpy:running CmdStan, num_threads: None\n",
            "DEBUG:cmdstanpy:CmdStan args: ['/usr/local/lib/python3.7/dist-packages/prophet/stan_model/prophet_model.bin', 'random', 'seed=57154', 'data', 'file=/tmp/tmpmwfsi_di/y2_jqc11.json', 'init=/tmp/tmpmwfsi_di/bhc3zq28.json', 'output', 'file=/tmp/tmp17vezf30/prophet_model-20220824121349.csv', 'method=optimize', 'algorithm=lbfgs', 'iter=10000']\n",
            "12:13:49 - cmdstanpy - INFO - Chain [1] start processing\n",
            "INFO:cmdstanpy:Chain [1] start processing\n",
            "DEBUG:cmdstanpy:input tempfile: /tmp/tmpmwfsi_di/vupvpbkf.json\n",
            "DEBUG:cmdstanpy:input tempfile: /tmp/tmpmwfsi_di/w418bmzs.json\n",
            "DEBUG:cmdstanpy:idx 0\n",
            "DEBUG:cmdstanpy:running CmdStan, num_threads: None\n",
            "DEBUG:cmdstanpy:CmdStan args: ['/usr/local/lib/python3.7/dist-packages/prophet/stan_model/prophet_model.bin', 'random', 'seed=13128', 'data', 'file=/tmp/tmpmwfsi_di/vupvpbkf.json', 'init=/tmp/tmpmwfsi_di/w418bmzs.json', 'output', 'file=/tmp/tmpjv0ysznc/prophet_model-20220824121349.csv', 'method=optimize', 'algorithm=lbfgs', 'iter=10000']\n",
            "12:13:49 - cmdstanpy - INFO - Chain [1] start processing\n",
            "INFO:cmdstanpy:Chain [1] start processing\n",
            "12:13:49 - cmdstanpy - INFO - Chain [1] done processing\n",
            "INFO:cmdstanpy:Chain [1] done processing\n",
            "12:13:49 - cmdstanpy - INFO - Chain [1] done processing\n",
            "INFO:cmdstanpy:Chain [1] done processing\n",
            " 20%|██        | 1/5 [00:03<00:14,  3.71s/it]INFO:prophet:Disabling yearly seasonality. Run prophet with yearly_seasonality=True to override this.\n",
            "INFO:prophet:Disabling yearly seasonality. Run prophet with yearly_seasonality=True to override this.\n",
            "INFO:prophet:Disabling daily seasonality. Run prophet with daily_seasonality=True to override this.\n",
            "INFO:prophet:Disabling daily seasonality. Run prophet with daily_seasonality=True to override this.\n",
            "DEBUG:cmdstanpy:input tempfile: /tmp/tmpmwfsi_di/pcjuanvk.json\n",
            "DEBUG:cmdstanpy:input tempfile: /tmp/tmpmwfsi_di/01olbypw.json\n",
            "DEBUG:cmdstanpy:input tempfile: /tmp/tmpmwfsi_di/dzt38p4h.json\n",
            "DEBUG:cmdstanpy:input tempfile: /tmp/tmpmwfsi_di/kd2bvoei.json\n",
            "DEBUG:cmdstanpy:idx 0\n",
            "DEBUG:cmdstanpy:idx 0\n",
            "DEBUG:cmdstanpy:running CmdStan, num_threads: None\n",
            "DEBUG:cmdstanpy:running CmdStan, num_threads: None\n",
            "DEBUG:cmdstanpy:CmdStan args: ['/usr/local/lib/python3.7/dist-packages/prophet/stan_model/prophet_model.bin', 'random', 'seed=50722', 'data', 'file=/tmp/tmpmwfsi_di/pcjuanvk.json', 'init=/tmp/tmpmwfsi_di/kd2bvoei.json', 'output', 'file=/tmp/tmpff89ck7o/prophet_model-20220824121352.csv', 'method=optimize', 'algorithm=lbfgs', 'iter=10000']\n",
            "DEBUG:cmdstanpy:CmdStan args: ['/usr/local/lib/python3.7/dist-packages/prophet/stan_model/prophet_model.bin', 'random', 'seed=52282', 'data', 'file=/tmp/tmpmwfsi_di/01olbypw.json', 'init=/tmp/tmpmwfsi_di/dzt38p4h.json', 'output', 'file=/tmp/tmp6_z1v1tv/prophet_model-20220824121352.csv', 'method=optimize', 'algorithm=lbfgs', 'iter=10000']\n",
            "12:13:52 - cmdstanpy - INFO - Chain [1] start processing\n",
            "INFO:cmdstanpy:Chain [1] start processing\n",
            "12:13:52 - cmdstanpy - INFO - Chain [1] start processing\n",
            "INFO:cmdstanpy:Chain [1] start processing\n",
            "12:13:53 - cmdstanpy - INFO - Chain [1] done processing\n",
            "INFO:cmdstanpy:Chain [1] done processing\n",
            "12:13:53 - cmdstanpy - INFO - Chain [1] done processing\n",
            "INFO:cmdstanpy:Chain [1] done processing\n",
            " 60%|██████    | 3/5 [00:08<00:05,  2.56s/it]INFO:prophet:Disabling yearly seasonality. Run prophet with yearly_seasonality=True to override this.\n",
            "INFO:prophet:Disabling daily seasonality. Run prophet with daily_seasonality=True to override this.\n",
            "DEBUG:cmdstanpy:input tempfile: /tmp/tmpmwfsi_di/t7200_5t.json\n",
            "DEBUG:cmdstanpy:input tempfile: /tmp/tmpmwfsi_di/wehncblj.json\n",
            "DEBUG:cmdstanpy:idx 0\n",
            "DEBUG:cmdstanpy:running CmdStan, num_threads: None\n",
            "DEBUG:cmdstanpy:CmdStan args: ['/usr/local/lib/python3.7/dist-packages/prophet/stan_model/prophet_model.bin', 'random', 'seed=38660', 'data', 'file=/tmp/tmpmwfsi_di/t7200_5t.json', 'init=/tmp/tmpmwfsi_di/wehncblj.json', 'output', 'file=/tmp/tmpz8pjxfcq/prophet_model-20220824121357.csv', 'method=optimize', 'algorithm=lbfgs', 'iter=10000']\n",
            "12:13:57 - cmdstanpy - INFO - Chain [1] start processing\n",
            "INFO:cmdstanpy:Chain [1] start processing\n",
            "12:13:57 - cmdstanpy - INFO - Chain [1] done processing\n",
            "INFO:cmdstanpy:Chain [1] done processing\n",
            "100%|██████████| 5/5 [00:11<00:00,  2.33s/it]"
          ]
        },
        {
          "output_type": "stream",
          "name": "stdout",
          "text": [
            "\n",
            "The time used for the multi-processing forecast is  11.78057050704956\n"
          ]
        },
        {
          "output_type": "stream",
          "name": "stderr",
          "text": [
            "\n"
          ]
        }
      ]
    },
    {
      "cell_type": "markdown",
      "source": [
        "# Step 7: Multiple Time Series Forecast Using Spark"
      ],
      "metadata": {
        "id": "EHrlX-jExfFM"
      }
    },
    {
      "cell_type": "code",
      "source": [
        "# Import SparkSession\n",
        "from pyspark.sql import SparkSession\n",
        "# Create a Spark Session\n",
        "spark = SparkSession.builder.master(\"local[*]\").getOrCreate()\n",
        "# Check Spark Session Information\n",
        "spark"
      ],
      "metadata": {
        "colab": {
          "base_uri": "https://localhost:8080/",
          "height": 216
        },
        "id": "R37takj3xbfO",
        "outputId": "179455f1-ff84-48ef-a8a5-9f307b9b0eea"
      },
      "execution_count": 30,
      "outputs": [
        {
          "output_type": "execute_result",
          "data": {
            "text/plain": [
              "<pyspark.sql.session.SparkSession at 0x7f998236a910>"
            ],
            "text/html": [
              "\n",
              "            <div>\n",
              "                <p><b>SparkSession - in-memory</b></p>\n",
              "                \n",
              "        <div>\n",
              "            <p><b>SparkContext</b></p>\n",
              "\n",
              "            <p><a href=\"http://0bca63ce03eb:4040\">Spark UI</a></p>\n",
              "\n",
              "            <dl>\n",
              "              <dt>Version</dt>\n",
              "                <dd><code>v3.3.0</code></dd>\n",
              "              <dt>Master</dt>\n",
              "                <dd><code>local[*]</code></dd>\n",
              "              <dt>AppName</dt>\n",
              "                <dd><code>pyspark-shell</code></dd>\n",
              "            </dl>\n",
              "        </div>\n",
              "        \n",
              "            </div>\n",
              "        "
            ]
          },
          "metadata": {},
          "execution_count": 30
        }
      ]
    },
    {
      "cell_type": "code",
      "source": [
        "# Convert the pandas dataframe into a spark dataframe\n",
        "sdf = spark.createDataFrame(df)# Define the restult schema\n",
        "result_schema =StructType([\n",
        "  StructField('ds',DateType()),\n",
        "  StructField('ticker',StringType()),\n",
        "  StructField('yhat',FloatType()),\n",
        "  StructField('yhat_upper',FloatType()),\n",
        "  StructField('yhat_lower',FloatType())\n",
        "  ])# Start time\n",
        "start_time = time()# Train and forecast by ticker \n",
        "spark_forecast = sdf.groupBy('ticker').applyInPandas(train_and_forecast, schema=result_schema)# Take a look at the results\n",
        "spark_forecast.show(5)# Processing time\n",
        "print('The time used for the Spark forecast is ', time()-start_time)"
      ],
      "metadata": {
        "colab": {
          "base_uri": "https://localhost:8080/"
        },
        "id": "4VoDzpLvxgU3",
        "outputId": "1bd249c5-d7f8-4c49-c097-a8611d8a0c17"
      },
      "execution_count": 31,
      "outputs": [
        {
          "output_type": "stream",
          "name": "stdout",
          "text": [
            "+----------+------+---------+----------+----------+\n",
            "|        ds|ticker|     yhat|yhat_upper|yhat_lower|\n",
            "+----------+------+---------+----------+----------+\n",
            "|2020-01-02|  AMZN| 93.45303| 101.06227|  85.77086|\n",
            "|2020-01-03|  AMZN|93.106895| 100.55787|  85.92406|\n",
            "|2020-01-06|  AMZN| 93.19613| 100.59033|  85.62912|\n",
            "|2020-01-07|  AMZN|93.848656| 101.61394|  86.23466|\n",
            "|2020-01-08|  AMZN|94.076675| 101.46861|  86.58709|\n",
            "+----------+------+---------+----------+----------+\n",
            "only showing top 5 rows\n",
            "\n",
            "The time used for the Spark forecast is  17.81201171875\n"
          ]
        }
      ]
    },
    {
      "cell_type": "code",
      "source": [
        "@pandas_udf( result_schema, PandasUDFType.GROUPED_MAP )\n",
        "def train_and_forecast(group):  # Initiate the model\n",
        "  m = Prophet()\n",
        "  \n",
        "  # Fit the model\n",
        "  m.fit(group)  # Make predictions\n",
        "  future = m.make_future_dataframe(periods=15)\n",
        "  forecast = m.predict(future)[['ds', 'yhat', 'yhat_lower', 'yhat_upper']]\n",
        "  forecast['ticker'] = group['ticker'].iloc[0]\n",
        "  \n",
        "  # Return the forecasted results\n",
        "  return forecast[['ds', 'ticker', 'yhat', 'yhat_upper', 'yhat_lower']]  # Start time\n",
        "start_time = time()# Train and forecast by ticker \n",
        "spark_forecast = sdf.groupBy('ticker').apply(train_and_forecast)# Take a look at the results\n",
        "spark_forecast.show(5)# Processing time\n",
        "print('The time used for the Spark forecast is ', time()-start_time)"
      ],
      "metadata": {
        "colab": {
          "base_uri": "https://localhost:8080/"
        },
        "id": "pwgE2xE7xkMo",
        "outputId": "b03ac179-db69-4fa6-a42f-caaa11907f93"
      },
      "execution_count": 32,
      "outputs": [
        {
          "output_type": "stream",
          "name": "stderr",
          "text": [
            "/usr/local/lib/python3.7/dist-packages/pyspark/sql/pandas/group_ops.py:102: UserWarning: It is preferred to use 'applyInPandas' over this API. This API will be deprecated in the future releases. See SPARK-28264 for more details.\n",
            "  UserWarning,\n"
          ]
        },
        {
          "output_type": "stream",
          "name": "stdout",
          "text": [
            "+----------+------+---------+----------+----------+\n",
            "|        ds|ticker|     yhat|yhat_upper|yhat_lower|\n",
            "+----------+------+---------+----------+----------+\n",
            "|2020-01-02|  AMZN| 93.45303| 101.06227|  85.77086|\n",
            "|2020-01-03|  AMZN|93.106895| 100.55787|  85.92406|\n",
            "|2020-01-06|  AMZN| 93.19613| 100.59033|  85.62912|\n",
            "|2020-01-07|  AMZN|93.848656| 101.61394|  86.23466|\n",
            "|2020-01-08|  AMZN|94.076675| 101.46861|  86.58709|\n",
            "+----------+------+---------+----------+----------+\n",
            "only showing top 5 rows\n",
            "\n",
            "The time used for the Spark forecast is  13.491744756698608\n"
          ]
        }
      ]
    },
    {
      "cell_type": "markdown",
      "source": [
        "# Step 8: Which Method to use?\n",
        "    When the number of models is small, there is not a big difference in processing time, so any one of the three methods is good to use.\n",
        "    When the number of models is medium, use multi-processing or Spark to utilize multiple CPUs in parallel.\n",
        "    When the number of models is large, Spark is preferred."
      ],
      "metadata": {
        "id": "MtK5d7sExrLO"
      }
    }
  ]
}