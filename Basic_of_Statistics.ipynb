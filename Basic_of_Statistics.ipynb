{
  "nbformat": 4,
  "nbformat_minor": 0,
  "metadata": {
    "colab": {
      "name": "Basic of Statistics.ipynb",
      "provenance": [],
      "authorship_tag": "ABX9TyP/DA4JYvj9FV1g1GjQsIlE"
    },
    "kernelspec": {
      "name": "python3",
      "display_name": "Python 3"
    }
  },
  "cells": [
    {
      "cell_type": "markdown",
      "metadata": {
        "id": "T8MomMLcod6m"
      },
      "source": [
        "[Reference](https://towardsdatascience.com/fundamental-statistics-7770376593b)"
      ]
    },
    {
      "cell_type": "markdown",
      "metadata": {
        "id": "r8XhT5pWopCk"
      },
      "source": [
        "# 1. Population, Sample, and Estimators"
      ]
    },
    {
      "cell_type": "markdown",
      "metadata": {
        "id": "nfu-RfsaovNG"
      },
      "source": [
        "We can sample from the population to know Population and use the samples to estimate the population. There are three characteristics about a good estimator: unbiased, consistent, and efficient."
      ]
    },
    {
      "cell_type": "markdown",
      "metadata": {
        "id": "hy1io3UqpCso"
      },
      "source": [
        "![example](https://miro.medium.com/max/1400/1*zDgeEWF57Ea5ZdLS3v8AIw.png)"
      ]
    },
    {
      "cell_type": "markdown",
      "metadata": {
        "id": "Cdr9X2NZpIdh"
      },
      "source": [
        "# 2. Probability Density Distribution (PDF)"
      ]
    },
    {
      "cell_type": "markdown",
      "metadata": {
        "id": "_MBFrgH4pMsd"
      },
      "source": [
        "The probability density distribution (PDF) is used to specify the probability of the random variable falling within a particular range of values."
      ]
    },
    {
      "cell_type": "markdown",
      "metadata": {
        "id": "1NbVvZRNpN_b"
      },
      "source": [
        "![PDF](https://miro.medium.com/max/1400/1*oVsA24udJgGvt-237qAcTQ.png)"
      ]
    },
    {
      "cell_type": "markdown",
      "metadata": {
        "id": "a8vyyHF_pREz"
      },
      "source": [
        "# 3. Central Limit Theorem and Law of Large Numbers"
      ]
    },
    {
      "cell_type": "markdown",
      "metadata": {
        "id": "SP942feipS4T"
      },
      "source": [
        "Central Limit Theorem means that when the size of sample is getting larger, the sample mean of the independent random variable follows normal distribution."
      ]
    },
    {
      "cell_type": "code",
      "metadata": {
        "id": "AzB-9gapobQ6",
        "outputId": "c600252b-1aed-4682-bf97-4fa38058a2ff",
        "colab": {
          "base_uri": "https://localhost:8080/",
          "height": 265
        }
      },
      "source": [
        "import numpy as np\n",
        "import matplotlib.pyplot as plt\n",
        "from scipy.stats import norm\n",
        "\n",
        "meanList = []\n",
        "\n",
        "num_trials = 10000\n",
        "num_observations = 1000\n",
        "for i in range(num_trials):\n",
        "    # sample from uniform distribution\n",
        "    numList = np.random.randint(1,7,num_observations)\n",
        "    # sample from normal distribution\n",
        "    #numList = np.random.normal(loc=0,scale=1,size=num_observations)\n",
        "    # sample from poisson distribution\n",
        "    #numList = np.random.poisson(lam=1,size=num_observations)\n",
        "    meanList.append(np.mean(numList))\n",
        "    \n",
        "mu, std = norm.fit(meanList)\n",
        "fig, ax = plt.subplots()\n",
        "ax.hist(meanList, bins=20, density=True, alpha=1, color='#4495c9')\n",
        "\n",
        "xmin, xmax = ax.get_xlim()\n",
        "x = np.linspace(xmin, xmax, 100)\n",
        "p = norm.pdf(x, mu, std)\n",
        "ax.plot(x, p, 'k', linewidth=4)\n",
        "\n",
        "ax.spines['top'].set_visible(False)\n",
        "ax.spines['right'].set_visible(False)\n",
        "ax.spines['left'].set_visible(False)\n",
        "ax.set_yticks([])\n",
        "plt.show()"
      ],
      "execution_count": 1,
      "outputs": [
        {
          "output_type": "display_data",
          "data": {
            "image/png": "[encoded data removed]",
            "text/plain": [
              "<Figure size 432x288 with 1 Axes>"
            ]
          },
          "metadata": {
            "tags": [],
            "needs_background": "light"
          }
        }
      ]
    },
    {
      "cell_type": "markdown",
      "metadata": {
        "id": "a7MRlnlZprCX"
      },
      "source": [
        "# 4. Hypothesis Testing"
      ]
    },
    {
      "cell_type": "markdown",
      "metadata": {
        "id": "fy15plLypwQv"
      },
      "source": [
        "![HT](https://miro.medium.com/max/1400/1*obD2UZFESsHR2ITTaARD5g.png)"
      ]
    },
    {
      "cell_type": "markdown",
      "metadata": {
        "id": "TG669iLNp622"
      },
      "source": [
        "# 5. Significance Level and P Value"
      ]
    },
    {
      "cell_type": "markdown",
      "metadata": {
        "id": "vMARmkj9p-AQ"
      },
      "source": [
        "Significance level determines the level that we want to believe in the null hypothesis. If we set the significance level as 0.05, then as long as the probability of the observation is higher than 5%, we do not reject the null hypothesis. However, if the probability of the observation falls below 5%, we reject the null hypothesis and accept the alternative hypothesis. "
      ]
    },
    {
      "cell_type": "markdown",
      "metadata": {
        "id": "L_2kvBFYqCfV"
      },
      "source": [
        "The only way to reduce both Type I and Type II error is by increasing the sample size."
      ]
    },
    {
      "cell_type": "markdown",
      "metadata": {
        "id": "BVy6ofcWqFKa"
      },
      "source": [
        "The probability of the observed value is called p value. When the p value is lower than significance level, then we reject the null hypothesis. "
      ]
    },
    {
      "cell_type": "markdown",
      "metadata": {
        "id": "wfTTbEpkqLOW"
      },
      "source": [
        "![P](https://miro.medium.com/max/1400/1*Dag5SR9WD1jl_XFj5LSpKQ.png)"
      ]
    }
  ]
}