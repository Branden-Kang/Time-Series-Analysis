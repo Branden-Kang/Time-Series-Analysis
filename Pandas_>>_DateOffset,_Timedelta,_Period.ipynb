{
  "nbformat": 4,
  "nbformat_minor": 0,
  "metadata": {
    "colab": {
      "name": "Pandas >> DateOffset, Timedelta, Period.ipynb",
      "provenance": [],
      "authorship_tag": "ABX9TyO2ZKVqCHAVe8gOw3wyCI2k"
    },
    "kernelspec": {
      "name": "python3",
      "display_name": "Python 3"
    },
    "language_info": {
      "name": "python"
    }
  },
  "cells": [
    {
      "cell_type": "markdown",
      "source": [
        "[Reference](https://medium.com/@akaivdo/pandas-dateoffset-timedelta-period-4cd44874e632)"
      ],
      "metadata": {
        "id": "Q5USB0fJFU5o"
      }
    },
    {
      "cell_type": "markdown",
      "source": [
        "# 1. Basic"
      ],
      "metadata": {
        "id": "RDvkkDuiFifm"
      }
    },
    {
      "cell_type": "markdown",
      "source": [
        "# DateOffset\n"
      ],
      "metadata": {
        "id": "gC0CDhvbFYfc"
      }
    },
    {
      "cell_type": "code",
      "execution_count": 1,
      "metadata": {
        "colab": {
          "base_uri": "https://localhost:8080/"
        },
        "id": "m-YdrnAREiz-",
        "outputId": "e234ab01-ec59-4db8-893b-1032fa2a45cd"
      },
      "outputs": [
        {
          "output_type": "execute_result",
          "data": {
            "text/plain": [
              "Timestamp('2022-04-05 00:00:00')"
            ]
          },
          "metadata": {},
          "execution_count": 1
        }
      ],
      "source": [
        "import pandas as pd\n",
        "from pandas.tseries.offsets import DateOffset\n",
        "pd.Timestamp(2022,4,3) + DateOffset(days=2)"
      ]
    },
    {
      "cell_type": "markdown",
      "source": [
        "# Timedelta\n"
      ],
      "metadata": {
        "id": "snK4WGoDFbHA"
      }
    },
    {
      "cell_type": "code",
      "source": [
        "pd.Timestamp(2022,4,3) - pd.Timestamp(2022,4,2)"
      ],
      "metadata": {
        "colab": {
          "base_uri": "https://localhost:8080/"
        },
        "id": "HGXwOKrKFaGf",
        "outputId": "12b29388-02e5-41e8-93a1-1f2c431cfeec"
      },
      "execution_count": 2,
      "outputs": [
        {
          "output_type": "execute_result",
          "data": {
            "text/plain": [
              "Timedelta('1 days 00:00:00')"
            ]
          },
          "metadata": {},
          "execution_count": 2
        }
      ]
    },
    {
      "cell_type": "markdown",
      "source": [
        "# Period\n"
      ],
      "metadata": {
        "id": "z63S8bq7FfCP"
      }
    },
    {
      "cell_type": "code",
      "source": [
        "p = pd.Period(\"2022/4/8\", freq=\"2d\")\n",
        "print(p.start_time)\n",
        "print(p.end_time)"
      ],
      "metadata": {
        "colab": {
          "base_uri": "https://localhost:8080/"
        },
        "id": "MLphvWp2FeRo",
        "outputId": "d005b830-e91a-4ea9-c4a2-3d67e0a4e30e"
      },
      "execution_count": 3,
      "outputs": [
        {
          "output_type": "stream",
          "name": "stdout",
          "text": [
            "2022-04-08 00:00:00\n",
            "2022-04-09 23:59:59.999999999\n"
          ]
        }
      ]
    },
    {
      "cell_type": "markdown",
      "source": [
        "# 2. DateOffset\n"
      ],
      "metadata": {
        "id": "Gqcrd5gUFkEM"
      }
    },
    {
      "cell_type": "markdown",
      "source": [
        "## Create a DateOffset object\n"
      ],
      "metadata": {
        "id": "LF3JjzCpFlOb"
      }
    },
    {
      "cell_type": "code",
      "source": [
        "DateOffset(months=1)\n",
        "# OR\n",
        "pd.DateOffset(months=1)"
      ],
      "metadata": {
        "colab": {
          "base_uri": "https://localhost:8080/"
        },
        "id": "dXPzl3VYFgqc",
        "outputId": "91ac1cb5-92b7-49ba-9c20-eaa744af7b53"
      },
      "execution_count": 4,
      "outputs": [
        {
          "output_type": "execute_result",
          "data": {
            "text/plain": [
              "<DateOffset: months=1>"
            ]
          },
          "metadata": {},
          "execution_count": 4
        }
      ]
    },
    {
      "cell_type": "markdown",
      "source": [
        "## Adding a time duration\n"
      ],
      "metadata": {
        "id": "KT6kptRoFnnf"
      }
    },
    {
      "cell_type": "code",
      "source": [
        "pd.Timestamp(2022,4,3) + DateOffset(weeks=1)"
      ],
      "metadata": {
        "colab": {
          "base_uri": "https://localhost:8080/"
        },
        "id": "fJuTUZYSFmjo",
        "outputId": "6b4b55e6-458b-413d-94dd-63fa1534e5b7"
      },
      "execution_count": 5,
      "outputs": [
        {
          "output_type": "execute_result",
          "data": {
            "text/plain": [
              "Timestamp('2022-04-10 00:00:00')"
            ]
          },
          "metadata": {},
          "execution_count": 5
        }
      ]
    },
    {
      "cell_type": "markdown",
      "source": [
        "## Subtracting a time duration\n"
      ],
      "metadata": {
        "id": "I0Q95FlEFqh5"
      }
    },
    {
      "cell_type": "code",
      "source": [
        "pd.Timestamp(2022,4,3) - DateOffset(weeks=1)"
      ],
      "metadata": {
        "colab": {
          "base_uri": "https://localhost:8080/"
        },
        "id": "txRB-zdTFpKg",
        "outputId": "6204555d-f536-4134-9383-418f0c75851b"
      },
      "execution_count": 6,
      "outputs": [
        {
          "output_type": "execute_result",
          "data": {
            "text/plain": [
              "Timestamp('2022-03-27 00:00:00')"
            ]
          },
          "metadata": {},
          "execution_count": 6
        }
      ]
    },
    {
      "cell_type": "markdown",
      "source": [
        "## Apply operations on Series\n"
      ],
      "metadata": {
        "id": "qBmnbKsFFs4e"
      }
    },
    {
      "cell_type": "code",
      "source": [
        "s = pd.Series([\n",
        "    pd.Timestamp(\"2021-1-1\"),\n",
        "    pd.Timestamp(\"2021-2-1\"),\n",
        "    pd.Timestamp(\"2021-3-1\"),\n",
        "])\n",
        "s + DateOffset(days=1)"
      ],
      "metadata": {
        "colab": {
          "base_uri": "https://localhost:8080/"
        },
        "id": "5FqWAMnBFr6B",
        "outputId": "4318f339-7a18-4a51-b15f-f6bfdbb96331"
      },
      "execution_count": 7,
      "outputs": [
        {
          "output_type": "execute_result",
          "data": {
            "text/plain": [
              "0   2021-01-02\n",
              "1   2021-02-02\n",
              "2   2021-03-02\n",
              "dtype: datetime64[ns]"
            ]
          },
          "metadata": {},
          "execution_count": 7
        }
      ]
    },
    {
      "cell_type": "code",
      "source": [
        "s - DateOffset(weeks=1)"
      ],
      "metadata": {
        "colab": {
          "base_uri": "https://localhost:8080/"
        },
        "id": "FihQvuAdFuW0",
        "outputId": "8698a3f9-fb55-4760-b92b-0ab47bb8579b"
      },
      "execution_count": 8,
      "outputs": [
        {
          "output_type": "execute_result",
          "data": {
            "text/plain": [
              "0   2020-12-25\n",
              "1   2021-01-25\n",
              "2   2021-02-22\n",
              "dtype: datetime64[ns]"
            ]
          },
          "metadata": {},
          "execution_count": 8
        }
      ]
    },
    {
      "cell_type": "code",
      "source": [
        "offset = pd.Series([\n",
        "    DateOffset(days=1),\n",
        "    DateOffset(days=2),\n",
        "    DateOffset(days=3),\n",
        "])\n",
        "s + offset"
      ],
      "metadata": {
        "colab": {
          "base_uri": "https://localhost:8080/"
        },
        "id": "j5DOVLmtFwE8",
        "outputId": "084fb33c-d89a-42b5-b946-37b25578454e"
      },
      "execution_count": 9,
      "outputs": [
        {
          "output_type": "stream",
          "name": "stderr",
          "text": [
            "/usr/local/lib/python3.7/dist-packages/pandas/core/arrays/datetimelike.py:1190: PerformanceWarning: Adding/subtracting object-dtype array to DatetimeArray not vectorized\n",
            "  PerformanceWarning,\n"
          ]
        },
        {
          "output_type": "execute_result",
          "data": {
            "text/plain": [
              "0   2021-01-02\n",
              "1   2021-02-03\n",
              "2   2021-03-04\n",
              "dtype: datetime64[ns]"
            ]
          },
          "metadata": {},
          "execution_count": 9
        }
      ]
    },
    {
      "cell_type": "markdown",
      "source": [
        "## Get the month-start of the current month\n"
      ],
      "metadata": {
        "id": "bMUA5Ae4FyIo"
      }
    },
    {
      "cell_type": "code",
      "source": [
        "pd.Timestamp(\"2022/04/15\") - pd.offsets.MonthBegin()"
      ],
      "metadata": {
        "colab": {
          "base_uri": "https://localhost:8080/"
        },
        "id": "j3FGVaA2FxFI",
        "outputId": "0a89fba9-914d-45a2-af5e-e93d1de796f6"
      },
      "execution_count": 10,
      "outputs": [
        {
          "output_type": "execute_result",
          "data": {
            "text/plain": [
              "Timestamp('2022-04-01 00:00:00')"
            ]
          },
          "metadata": {},
          "execution_count": 10
        }
      ]
    },
    {
      "cell_type": "markdown",
      "source": [
        "## Get the month-end of the current month\n"
      ],
      "metadata": {
        "id": "hVjxYCKIF0RG"
      }
    },
    {
      "cell_type": "code",
      "source": [
        "pd.Timestamp(\"2022/04/15\") + pd.offsets.MonthEnd()"
      ],
      "metadata": {
        "colab": {
          "base_uri": "https://localhost:8080/"
        },
        "id": "O9DillqYFzMq",
        "outputId": "7ad69a13-2e46-4cdd-b21c-1f630bdf87e9"
      },
      "execution_count": 11,
      "outputs": [
        {
          "output_type": "execute_result",
          "data": {
            "text/plain": [
              "Timestamp('2022-04-30 00:00:00')"
            ]
          },
          "metadata": {},
          "execution_count": 11
        }
      ]
    },
    {
      "cell_type": "markdown",
      "source": [
        "## Get the month-start of next month\n"
      ],
      "metadata": {
        "id": "KOOG6Q7-F3HG"
      }
    },
    {
      "cell_type": "code",
      "source": [
        "pd.Timestamp(\"2022/04/15\") + pd.offsets.MonthBegin()"
      ],
      "metadata": {
        "colab": {
          "base_uri": "https://localhost:8080/"
        },
        "id": "wK3Lo7rCF1la",
        "outputId": "e5d9f767-ac34-48b2-ba1c-513f92175853"
      },
      "execution_count": 12,
      "outputs": [
        {
          "output_type": "execute_result",
          "data": {
            "text/plain": [
              "Timestamp('2022-05-01 00:00:00')"
            ]
          },
          "metadata": {},
          "execution_count": 12
        }
      ]
    },
    {
      "cell_type": "markdown",
      "source": [
        "## Get the month-end of last month\n"
      ],
      "metadata": {
        "id": "OGRLw94_F5On"
      }
    },
    {
      "cell_type": "code",
      "source": [
        "pd.Timestamp(\"2022/04/15\") - pd.offsets.MonthEnd()"
      ],
      "metadata": {
        "colab": {
          "base_uri": "https://localhost:8080/"
        },
        "id": "zEX77I2KF4aD",
        "outputId": "2f033c0f-46fd-4bb2-d408-e74141c0c0af"
      },
      "execution_count": 13,
      "outputs": [
        {
          "output_type": "execute_result",
          "data": {
            "text/plain": [
              "Timestamp('2022-03-31 00:00:00')"
            ]
          },
          "metadata": {},
          "execution_count": 13
        }
      ]
    },
    {
      "cell_type": "markdown",
      "source": [
        "## Get the month-start of last month\n"
      ],
      "metadata": {
        "id": "aHO74oH_F7mY"
      }
    },
    {
      "cell_type": "code",
      "source": [
        "pd.Timestamp(\"2022/04/15\") - pd.offsets.MonthEnd()  - pd.offsets.MonthBegin()"
      ],
      "metadata": {
        "colab": {
          "base_uri": "https://localhost:8080/"
        },
        "id": "0ZnzBmDtF6QR",
        "outputId": "8dc1e087-dbd3-4c45-c9b1-85d073652483"
      },
      "execution_count": 14,
      "outputs": [
        {
          "output_type": "execute_result",
          "data": {
            "text/plain": [
              "Timestamp('2022-03-01 00:00:00')"
            ]
          },
          "metadata": {},
          "execution_count": 14
        }
      ]
    },
    {
      "cell_type": "markdown",
      "source": [
        "## Get the month-end of next month\n"
      ],
      "metadata": {
        "id": "872lH02TF9zy"
      }
    },
    {
      "cell_type": "code",
      "source": [
        "pd.Timestamp(\"2022/04/15\") + pd.offsets.MonthBegin() + pd.offsets.MonthEnd()"
      ],
      "metadata": {
        "colab": {
          "base_uri": "https://localhost:8080/"
        },
        "id": "yfPLuLjQF9HQ",
        "outputId": "2cc8355d-4f48-482b-e5cf-e6494c0e5549"
      },
      "execution_count": 15,
      "outputs": [
        {
          "output_type": "execute_result",
          "data": {
            "text/plain": [
              "Timestamp('2022-05-31 00:00:00')"
            ]
          },
          "metadata": {},
          "execution_count": 15
        }
      ]
    },
    {
      "cell_type": "markdown",
      "source": [
        "## Get the date after 3 business days\n"
      ],
      "metadata": {
        "id": "YOUXYOvsGAQQ"
      }
    },
    {
      "cell_type": "code",
      "source": [
        "pd.Timestamp(\"2022/04/15\") + pd.offsets.BusinessDay(3)"
      ],
      "metadata": {
        "colab": {
          "base_uri": "https://localhost:8080/"
        },
        "id": "uNlGH3VlF_HO",
        "outputId": "a7679ab4-c069-4b31-9a4f-9a91527d1af1"
      },
      "execution_count": 16,
      "outputs": [
        {
          "output_type": "execute_result",
          "data": {
            "text/plain": [
              "Timestamp('2022-04-20 00:00:00')"
            ]
          },
          "metadata": {},
          "execution_count": 16
        }
      ]
    },
    {
      "cell_type": "markdown",
      "source": [
        "## Get the date after 3 business days with specifying custom holidays\n"
      ],
      "metadata": {
        "id": "jmoLP_IhGDMS"
      }
    },
    {
      "cell_type": "code",
      "source": [
        "pd.Timestamp(\"2022/04/15\") + pd.offsets.CustomBusinessDay(3, holidays=[\n",
        "    \"2022-04-18\",\n",
        "    \"2022-05-18\",\n",
        "    \"2022-06-18\",\n",
        "])"
      ],
      "metadata": {
        "colab": {
          "base_uri": "https://localhost:8080/"
        },
        "id": "EZGE-MSzGBlU",
        "outputId": "950e54ea-7e6f-4f66-df90-0a64f8258d1f"
      },
      "execution_count": 17,
      "outputs": [
        {
          "output_type": "execute_result",
          "data": {
            "text/plain": [
              "Timestamp('2022-04-21 00:00:00')"
            ]
          },
          "metadata": {},
          "execution_count": 17
        }
      ]
    },
    {
      "cell_type": "markdown",
      "source": [
        "## Customize working days of a week\n"
      ],
      "metadata": {
        "id": "703OgDd9GGIr"
      }
    },
    {
      "cell_type": "code",
      "source": [
        "pd.Timestamp(\"2022/04/15\") + pd.offsets.CustomBusinessDay(3, weekmask='Mon Tue Thu Fri Sat')"
      ],
      "metadata": {
        "colab": {
          "base_uri": "https://localhost:8080/"
        },
        "id": "zreUB1WVGEnV",
        "outputId": "4b0b303f-02b3-4af6-c904-9fedde7fe51c"
      },
      "execution_count": 18,
      "outputs": [
        {
          "output_type": "execute_result",
          "data": {
            "text/plain": [
              "Timestamp('2022-04-19 00:00:00')"
            ]
          },
          "metadata": {},
          "execution_count": 18
        }
      ]
    },
    {
      "cell_type": "markdown",
      "source": [
        "# 3. Timedelta\n"
      ],
      "metadata": {
        "id": "HkrCuhKlGM3S"
      }
    },
    {
      "cell_type": "markdown",
      "source": [
        "## Create a Timedelta object\n"
      ],
      "metadata": {
        "id": "tD8eshVQGN8r"
      }
    },
    {
      "cell_type": "code",
      "source": [
        "pd.Timedelta(2, unit=\"days\")"
      ],
      "metadata": {
        "colab": {
          "base_uri": "https://localhost:8080/"
        },
        "id": "d9D-v2X_GHc0",
        "outputId": "344aa36e-3be0-42e2-c400-95904b39df46"
      },
      "execution_count": 19,
      "outputs": [
        {
          "output_type": "execute_result",
          "data": {
            "text/plain": [
              "Timedelta('2 days 00:00:00')"
            ]
          },
          "metadata": {},
          "execution_count": 19
        }
      ]
    },
    {
      "cell_type": "code",
      "source": [
        "pd.Timedelta(weeks=1)"
      ],
      "metadata": {
        "colab": {
          "base_uri": "https://localhost:8080/"
        },
        "id": "Cte4Goc1GPG3",
        "outputId": "539b4038-aa57-47f3-d40f-d9a686563c53"
      },
      "execution_count": 20,
      "outputs": [
        {
          "output_type": "execute_result",
          "data": {
            "text/plain": [
              "Timedelta('7 days 00:00:00')"
            ]
          },
          "metadata": {},
          "execution_count": 20
        }
      ]
    },
    {
      "cell_type": "code",
      "source": [
        "pd.Timestamp(\"2022/04/23\") - pd.Timestamp(\"2022/04/15\")"
      ],
      "metadata": {
        "colab": {
          "base_uri": "https://localhost:8080/"
        },
        "id": "_gndHw9mGQN5",
        "outputId": "57b31bc9-e157-4217-96cd-91bb15734544"
      },
      "execution_count": 21,
      "outputs": [
        {
          "output_type": "execute_result",
          "data": {
            "text/plain": [
              "Timedelta('8 days 00:00:00')"
            ]
          },
          "metadata": {},
          "execution_count": 21
        }
      ]
    },
    {
      "cell_type": "markdown",
      "source": [
        "## Convert the Timedelta to Python’s datetime.timedelta object\n"
      ],
      "metadata": {
        "id": "9JqobNk0GR5R"
      }
    },
    {
      "cell_type": "code",
      "source": [
        "pd.Timedelta(3, unit=\"days\").to_pytimedelta()"
      ],
      "metadata": {
        "colab": {
          "base_uri": "https://localhost:8080/"
        },
        "id": "HCYmcSFKGRBY",
        "outputId": "f4fd8f38-b5fd-4e6a-8fce-fdc1a433fddd"
      },
      "execution_count": 22,
      "outputs": [
        {
          "output_type": "execute_result",
          "data": {
            "text/plain": [
              "datetime.timedelta(days=3)"
            ]
          },
          "metadata": {},
          "execution_count": 22
        }
      ]
    },
    {
      "cell_type": "markdown",
      "source": [
        "## Adding or subtracting the Timedelta\n"
      ],
      "metadata": {
        "id": "J1DuQaHLGT-o"
      }
    },
    {
      "cell_type": "code",
      "source": [
        "pd.Timestamp(\"2022-04-15 08:00:00\") + pd.Timedelta(1, unit=\"hour\")"
      ],
      "metadata": {
        "colab": {
          "base_uri": "https://localhost:8080/"
        },
        "id": "qqnUSl_cGS-U",
        "outputId": "69bbb26f-3109-4860-fb69-fd5850cca058"
      },
      "execution_count": 23,
      "outputs": [
        {
          "output_type": "execute_result",
          "data": {
            "text/plain": [
              "Timestamp('2022-04-15 09:00:00')"
            ]
          },
          "metadata": {},
          "execution_count": 23
        }
      ]
    },
    {
      "cell_type": "code",
      "source": [
        "pd.Timestamp(\"2022-04-15 08:00:00\") - pd.Timedelta(30, unit=\"minutes\")"
      ],
      "metadata": {
        "colab": {
          "base_uri": "https://localhost:8080/"
        },
        "id": "FW3aA5DqGVOG",
        "outputId": "50d2ea00-7041-4609-a773-e67505bd0c31"
      },
      "execution_count": 24,
      "outputs": [
        {
          "output_type": "execute_result",
          "data": {
            "text/plain": [
              "Timestamp('2022-04-15 07:30:00')"
            ]
          },
          "metadata": {},
          "execution_count": 24
        }
      ]
    },
    {
      "cell_type": "markdown",
      "source": [
        "## Calculating the difference of two date columns of DataFrame\n"
      ],
      "metadata": {
        "id": "k2xDE7KYGX-E"
      }
    },
    {
      "cell_type": "code",
      "source": [
        "df = pd.DataFrame(data={\n",
        "    \"date_col1\":[\n",
        "        pd.Timestamp(\"2022-04-01\"),\n",
        "        pd.Timestamp(\"2022-04-05\"),\n",
        "        pd.Timestamp(\"2022-04-08\"),\n",
        "    ],\n",
        "    \"date_col2\":[\n",
        "        pd.Timestamp(\"2022-04-10\"),\n",
        "        pd.Timestamp(\"2022-04-09\"),\n",
        "        pd.Timestamp(\"2022-04-07\"),\n",
        "    ],\n",
        "})\n",
        "df"
      ],
      "metadata": {
        "colab": {
          "base_uri": "https://localhost:8080/",
          "height": 142
        },
        "id": "9WHR_cRLGWws",
        "outputId": "ed4f1743-ac32-4bd0-9b8c-be0f567af2c4"
      },
      "execution_count": 25,
      "outputs": [
        {
          "output_type": "execute_result",
          "data": {
            "text/plain": [
              "   date_col1  date_col2\n",
              "0 2022-04-01 2022-04-10\n",
              "1 2022-04-05 2022-04-09\n",
              "2 2022-04-08 2022-04-07"
            ],
            "text/html": [
              "\n",
              "  <div id=\"df-ba26dab7-c864-4687-bb59-eea4caae6c31\">\n",
              "    <div class=\"colab-df-container\">\n",
              "      <div>\n",
              "<style scoped>\n",
              "    .dataframe tbody tr th:only-of-type {\n",
              "        vertical-align: middle;\n",
              "    }\n",
              "\n",
              "    .dataframe tbody tr th {\n",
              "        vertical-align: top;\n",
              "    }\n",
              "\n",
              "    .dataframe thead th {\n",
              "        text-align: right;\n",
              "    }\n",
              "</style>\n",
              "<table border=\"1\" class=\"dataframe\">\n",
              "  <thead>\n",
              "    <tr style=\"text-align: right;\">\n",
              "      <th></th>\n",
              "      <th>date_col1</th>\n",
              "      <th>date_col2</th>\n",
              "    </tr>\n",
              "  </thead>\n",
              "  <tbody>\n",
              "    <tr>\n",
              "      <th>0</th>\n",
              "      <td>2022-04-01</td>\n",
              "      <td>2022-04-10</td>\n",
              "    </tr>\n",
              "    <tr>\n",
              "      <th>1</th>\n",
              "      <td>2022-04-05</td>\n",
              "      <td>2022-04-09</td>\n",
              "    </tr>\n",
              "    <tr>\n",
              "      <th>2</th>\n",
              "      <td>2022-04-08</td>\n",
              "      <td>2022-04-07</td>\n",
              "    </tr>\n",
              "  </tbody>\n",
              "</table>\n",
              "</div>\n",
              "      <button class=\"colab-df-convert\" onclick=\"convertToInteractive('df-ba26dab7-c864-4687-bb59-eea4caae6c31')\"\n",
              "              title=\"Convert this dataframe to an interactive table.\"\n",
              "              style=\"display:none;\">\n",
              "        \n",
              "  <svg xmlns=\"http://www.w3.org/2000/svg\" height=\"24px\"viewBox=\"0 0 24 24\"\n",
              "       width=\"24px\">\n",
              "    <path d=\"M0 0h24v24H0V0z\" fill=\"none\"/>\n",
              "    <path d=\"M18.56 5.44l.94 2.06.94-2.06 2.06-.94-2.06-.94-.94-2.06-.94 2.06-2.06.94zm-11 1L8.5 8.5l.94-2.06 2.06-.94-2.06-.94L8.5 2.5l-.94 2.06-2.06.94zm10 10l.94 2.06.94-2.06 2.06-.94-2.06-.94-.94-2.06-.94 2.06-2.06.94z\"/><path d=\"M17.41 7.96l-1.37-1.37c-.4-.4-.92-.59-1.43-.59-.52 0-1.04.2-1.43.59L10.3 9.45l-7.72 7.72c-.78.78-.78 2.05 0 2.83L4 21.41c.39.39.9.59 1.41.59.51 0 1.02-.2 1.41-.59l7.78-7.78 2.81-2.81c.8-.78.8-2.07 0-2.86zM5.41 20L4 18.59l7.72-7.72 1.47 1.35L5.41 20z\"/>\n",
              "  </svg>\n",
              "      </button>\n",
              "      \n",
              "  <style>\n",
              "    .colab-df-container {\n",
              "      display:flex;\n",
              "      flex-wrap:wrap;\n",
              "      gap: 12px;\n",
              "    }\n",
              "\n",
              "    .colab-df-convert {\n",
              "      background-color: #E8F0FE;\n",
              "      border: none;\n",
              "      border-radius: 50%;\n",
              "      cursor: pointer;\n",
              "      display: none;\n",
              "      fill: #1967D2;\n",
              "      height: 32px;\n",
              "      padding: 0 0 0 0;\n",
              "      width: 32px;\n",
              "    }\n",
              "\n",
              "    .colab-df-convert:hover {\n",
              "      background-color: #E2EBFA;\n",
              "      box-shadow: 0px 1px 2px rgba(60, 64, 67, 0.3), 0px 1px 3px 1px rgba(60, 64, 67, 0.15);\n",
              "      fill: #174EA6;\n",
              "    }\n",
              "\n",
              "    [theme=dark] .colab-df-convert {\n",
              "      background-color: #3B4455;\n",
              "      fill: #D2E3FC;\n",
              "    }\n",
              "\n",
              "    [theme=dark] .colab-df-convert:hover {\n",
              "      background-color: #434B5C;\n",
              "      box-shadow: 0px 1px 3px 1px rgba(0, 0, 0, 0.15);\n",
              "      filter: drop-shadow(0px 1px 2px rgba(0, 0, 0, 0.3));\n",
              "      fill: #FFFFFF;\n",
              "    }\n",
              "  </style>\n",
              "\n",
              "      <script>\n",
              "        const buttonEl =\n",
              "          document.querySelector('#df-ba26dab7-c864-4687-bb59-eea4caae6c31 button.colab-df-convert');\n",
              "        buttonEl.style.display =\n",
              "          google.colab.kernel.accessAllowed ? 'block' : 'none';\n",
              "\n",
              "        async function convertToInteractive(key) {\n",
              "          const element = document.querySelector('#df-ba26dab7-c864-4687-bb59-eea4caae6c31');\n",
              "          const dataTable =\n",
              "            await google.colab.kernel.invokeFunction('convertToInteractive',\n",
              "                                                     [key], {});\n",
              "          if (!dataTable) return;\n",
              "\n",
              "          const docLinkHtml = 'Like what you see? Visit the ' +\n",
              "            '<a target=\"_blank\" href=https://colab.research.google.com/notebooks/data_table.ipynb>data table notebook</a>'\n",
              "            + ' to learn more about interactive tables.';\n",
              "          element.innerHTML = '';\n",
              "          dataTable['output_type'] = 'display_data';\n",
              "          await google.colab.output.renderOutput(dataTable, element);\n",
              "          const docLink = document.createElement('div');\n",
              "          docLink.innerHTML = docLinkHtml;\n",
              "          element.appendChild(docLink);\n",
              "        }\n",
              "      </script>\n",
              "    </div>\n",
              "  </div>\n",
              "  "
            ]
          },
          "metadata": {},
          "execution_count": 25
        }
      ]
    },
    {
      "cell_type": "code",
      "source": [
        "df[\"date_col2\"] - df[\"date_col1\"]"
      ],
      "metadata": {
        "colab": {
          "base_uri": "https://localhost:8080/"
        },
        "id": "pqllysoIGbJw",
        "outputId": "820d02b0-0ca3-4e9b-fb77-db07fd1e8ee5"
      },
      "execution_count": 26,
      "outputs": [
        {
          "output_type": "execute_result",
          "data": {
            "text/plain": [
              "0    9 days\n",
              "1    4 days\n",
              "2   -1 days\n",
              "dtype: timedelta64[ns]"
            ]
          },
          "metadata": {},
          "execution_count": 26
        }
      ]
    },
    {
      "cell_type": "markdown",
      "source": [
        "# 4. Period\n"
      ],
      "metadata": {
        "id": "9Ny_j6UBGdIC"
      }
    },
    {
      "cell_type": "markdown",
      "source": [
        "## Create a Period\n"
      ],
      "metadata": {
        "id": "kW6hXerbGenM"
      }
    },
    {
      "cell_type": "code",
      "source": [
        "print(f\"Start: {pd.Period('2022/4/15').start_time}\")\n",
        "print(f\"End: {pd.Period('2022/4/15').end_time}\")\n",
        "pd.Period(\"2022/4/15\")"
      ],
      "metadata": {
        "colab": {
          "base_uri": "https://localhost:8080/"
        },
        "id": "Yi1dM7pQGaF6",
        "outputId": "03c3db54-826b-4e17-96c7-5db55158c915"
      },
      "execution_count": 27,
      "outputs": [
        {
          "output_type": "stream",
          "name": "stdout",
          "text": [
            "Start: 2022-04-15 00:00:00\n",
            "End: 2022-04-15 23:59:59.999999999\n"
          ]
        },
        {
          "output_type": "execute_result",
          "data": {
            "text/plain": [
              "Period('2022-04-15', 'D')"
            ]
          },
          "metadata": {},
          "execution_count": 27
        }
      ]
    },
    {
      "cell_type": "markdown",
      "source": [
        "## Create a 3-day period from 2022/4/15\n"
      ],
      "metadata": {
        "id": "1WAn2MhpGgw1"
      }
    },
    {
      "cell_type": "code",
      "source": [
        "print(f\"Start: {pd.Period('2022/4/15', freq='3D').start_time}\")\n",
        "print(f\"End: {pd.Period('2022/4/15', freq='3D').end_time}\")\n",
        "pd.Period('2022/4/15', freq='3D')"
      ],
      "metadata": {
        "colab": {
          "base_uri": "https://localhost:8080/"
        },
        "id": "55tkZLHoGf2V",
        "outputId": "9819ae19-8a3b-4b46-e87d-b43f4fcd41dc"
      },
      "execution_count": 28,
      "outputs": [
        {
          "output_type": "stream",
          "name": "stdout",
          "text": [
            "Start: 2022-04-15 00:00:00\n",
            "End: 2022-04-17 23:59:59.999999999\n"
          ]
        },
        {
          "output_type": "execute_result",
          "data": {
            "text/plain": [
              "Period('2022-04-15', '3D')"
            ]
          },
          "metadata": {},
          "execution_count": 28
        }
      ]
    },
    {
      "cell_type": "markdown",
      "source": [
        "## Create a 2-month period based on the month of 2022/4/15\n"
      ],
      "metadata": {
        "id": "Vmp6t9ucGi7J"
      }
    },
    {
      "cell_type": "code",
      "source": [
        "print(f\"Start: {pd.Period('2022/4/15', freq='2M').start_time}\")\n",
        "print(f\"End: {pd.Period('2022/4/15', freq='2M').end_time}\")\n",
        "pd.Period('2022/4/15', freq='2M')"
      ],
      "metadata": {
        "colab": {
          "base_uri": "https://localhost:8080/"
        },
        "id": "lg_xFISFGiE1",
        "outputId": "af1cd504-3eca-42ec-bc00-78cc2a609d3b"
      },
      "execution_count": 29,
      "outputs": [
        {
          "output_type": "stream",
          "name": "stdout",
          "text": [
            "Start: 2022-04-01 00:00:00\n",
            "End: 2022-05-31 23:59:59.999999999\n"
          ]
        },
        {
          "output_type": "execute_result",
          "data": {
            "text/plain": [
              "Period('2022-04', '2M')"
            ]
          },
          "metadata": {},
          "execution_count": 29
        }
      ]
    },
    {
      "cell_type": "markdown",
      "source": [
        "## Create a 5-year period based on the year 2022/4/15\n"
      ],
      "metadata": {
        "id": "FlJC9-7xGonX"
      }
    },
    {
      "cell_type": "code",
      "source": [
        "print(f\"Start: {pd.Period('2022/4/15', freq='5Y').start_time}\")\n",
        "print(f\"End: {pd.Period('2022/4/15', freq='5Y').end_time}\")\n",
        "pd.Period('2022/4/15', freq='5Y')"
      ],
      "metadata": {
        "colab": {
          "base_uri": "https://localhost:8080/"
        },
        "id": "T-QCVlohGk3h",
        "outputId": "61123595-652c-4d11-ccce-e3fb06805ab0"
      },
      "execution_count": 30,
      "outputs": [
        {
          "output_type": "stream",
          "name": "stdout",
          "text": [
            "Start: 2022-01-01 00:00:00\n",
            "End: 2026-12-31 23:59:59.999999999\n"
          ]
        },
        {
          "output_type": "execute_result",
          "data": {
            "text/plain": [
              "Period('2022', '5A-DEC')"
            ]
          },
          "metadata": {},
          "execution_count": 30
        }
      ]
    },
    {
      "cell_type": "markdown",
      "source": [
        "## Create a 2-hour period based on the hour of 2022/4/15\n"
      ],
      "metadata": {
        "id": "a5P9dZTrGrMR"
      }
    },
    {
      "cell_type": "code",
      "source": [
        "print(f\"Start: {pd.Period('2022/4/15', freq='2H').start_time}\")\n",
        "print(f\"End: {pd.Period('2022/4/15', freq='2H').end_time}\")\n",
        "pd.Period('2022/4/15', freq='2H')"
      ],
      "metadata": {
        "colab": {
          "base_uri": "https://localhost:8080/"
        },
        "id": "X46zLjW7GqX7",
        "outputId": "cd01b67a-4358-47ba-a790-0d512c97611d"
      },
      "execution_count": 31,
      "outputs": [
        {
          "output_type": "stream",
          "name": "stdout",
          "text": [
            "Start: 2022-04-15 00:00:00\n",
            "End: 2022-04-15 01:59:59.999999999\n"
          ]
        },
        {
          "output_type": "execute_result",
          "data": {
            "text/plain": [
              "Period('2022-04-15 00:00', '2H')"
            ]
          },
          "metadata": {},
          "execution_count": 31
        }
      ]
    },
    {
      "cell_type": "markdown",
      "source": [
        "## Create a 1-day 2-hour 30-minute period based on 2022/4/15\n"
      ],
      "metadata": {
        "id": "wKULDexsGtEk"
      }
    },
    {
      "cell_type": "code",
      "source": [
        "print(f\"Start: {pd.Period('2022/4/15', freq='1D2H30T').start_time}\")\n",
        "print(f\"End: {pd.Period('2022/4/15', freq='1D2H30T').end_time}\")\n",
        "pd.Period('2022/4/15', freq='1D2H30T')"
      ],
      "metadata": {
        "colab": {
          "base_uri": "https://localhost:8080/"
        },
        "id": "bcKXndaRGsR0",
        "outputId": "8fda6ade-e8e7-4edf-e348-13f08d646928"
      },
      "execution_count": 32,
      "outputs": [
        {
          "output_type": "stream",
          "name": "stdout",
          "text": [
            "Start: 2022-04-15 00:00:00\n",
            "End: 2022-04-16 02:29:59.999999999\n"
          ]
        },
        {
          "output_type": "execute_result",
          "data": {
            "text/plain": [
              "Period('2022-04-15 00:00', '1590T')"
            ]
          },
          "metadata": {},
          "execution_count": 32
        }
      ]
    },
    {
      "cell_type": "markdown",
      "source": [
        "## Get the start and end of a Period\n"
      ],
      "metadata": {
        "id": "FmnyldyMGwbq"
      }
    },
    {
      "cell_type": "code",
      "source": [
        "pd.Period('2022/4/15', freq='3D').start_time"
      ],
      "metadata": {
        "colab": {
          "base_uri": "https://localhost:8080/"
        },
        "id": "yVWF75I9Gu67",
        "outputId": "f1a190ae-bfb5-4d73-a8f6-aab62e66aa6c"
      },
      "execution_count": 33,
      "outputs": [
        {
          "output_type": "execute_result",
          "data": {
            "text/plain": [
              "Timestamp('2022-04-15 00:00:00')"
            ]
          },
          "metadata": {},
          "execution_count": 33
        }
      ]
    },
    {
      "cell_type": "code",
      "source": [
        "pd.Period('2022/4/15', freq='3D').end_time"
      ],
      "metadata": {
        "colab": {
          "base_uri": "https://localhost:8080/"
        },
        "id": "zjCnhiEMGxvV",
        "outputId": "b8c87304-ce2b-486a-f760-bd2c4f7e4184"
      },
      "execution_count": 34,
      "outputs": [
        {
          "output_type": "execute_result",
          "data": {
            "text/plain": [
              "Timestamp('2022-04-17 23:59:59.999999999')"
            ]
          },
          "metadata": {},
          "execution_count": 34
        }
      ]
    },
    {
      "cell_type": "markdown",
      "source": [
        "## Check if a date falls within a Period or not\n"
      ],
      "metadata": {
        "id": "8_iHvhq4Gzpn"
      }
    },
    {
      "cell_type": "code",
      "source": [
        "p = pd.Period('2022/4/15 00:00:00', freq='1D2H30T')\n",
        "print(f\"Start: {p.start_time}\")\n",
        "print(f\"End: {p.end_time}\")\n",
        "p"
      ],
      "metadata": {
        "colab": {
          "base_uri": "https://localhost:8080/"
        },
        "id": "Z8kl1kbzGyo1",
        "outputId": "8283534a-7d06-4ff3-d387-5377c7bce4c5"
      },
      "execution_count": 35,
      "outputs": [
        {
          "output_type": "stream",
          "name": "stdout",
          "text": [
            "Start: 2022-04-15 00:00:00\n",
            "End: 2022-04-16 02:29:59.999999999\n"
          ]
        },
        {
          "output_type": "execute_result",
          "data": {
            "text/plain": [
              "Period('2022-04-15 00:00', '1590T')"
            ]
          },
          "metadata": {},
          "execution_count": 35
        }
      ]
    },
    {
      "cell_type": "code",
      "source": [
        "date1 = pd.Timestamp(\"2022-04-14 3:00:00\")\n",
        "date2 = pd.Timestamp(\"2022-04-15 12:00:00\")\n",
        "date3 = pd.Timestamp(\"2022-04-23 1:00:00\")"
      ],
      "metadata": {
        "id": "6hCp4GgsG0yc"
      },
      "execution_count": 36,
      "outputs": []
    },
    {
      "cell_type": "code",
      "source": [
        "print(f\"Before the period: {date1 < p.start_time}\")\n",
        "print(f\"Within the period: {p.start_time <= date1 <= p.end_time}\")\n",
        "print(f\"After the period: {date1 > p.end_time}\")"
      ],
      "metadata": {
        "colab": {
          "base_uri": "https://localhost:8080/"
        },
        "id": "YxrK1aaFG2Sn",
        "outputId": "132e7f69-8548-4952-d95b-6d78245c171d"
      },
      "execution_count": 37,
      "outputs": [
        {
          "output_type": "stream",
          "name": "stdout",
          "text": [
            "Before the period: True\n",
            "Within the period: False\n",
            "After the period: False\n"
          ]
        }
      ]
    },
    {
      "cell_type": "code",
      "source": [
        "print(f\"Before the period: {date2 < p.start_time}\")\n",
        "print(f\"Within the period: {p.start_time <= date2 <= p.end_time}\")\n",
        "print(f\"After the period: {date2 > p.end_time}\")"
      ],
      "metadata": {
        "colab": {
          "base_uri": "https://localhost:8080/"
        },
        "id": "WPp4t-p1G3TY",
        "outputId": "ef790811-06a7-4631-b419-a27d43357740"
      },
      "execution_count": 38,
      "outputs": [
        {
          "output_type": "stream",
          "name": "stdout",
          "text": [
            "Before the period: False\n",
            "Within the period: True\n",
            "After the period: False\n"
          ]
        }
      ]
    },
    {
      "cell_type": "code",
      "source": [
        "print(f\"Before the period: {date3 < p.start_time}\")\n",
        "print(f\"Within the period: {p.start_time <= date3 <= p.end_time}\")\n",
        "print(f\"After the period: {date3 > p.end_time}\")"
      ],
      "metadata": {
        "colab": {
          "base_uri": "https://localhost:8080/"
        },
        "id": "Zor6BcEXG4Wu",
        "outputId": "5097b947-77da-4acc-a097-e5056c30603e"
      },
      "execution_count": 39,
      "outputs": [
        {
          "output_type": "stream",
          "name": "stdout",
          "text": [
            "Before the period: False\n",
            "Within the period: False\n",
            "After the period: True\n"
          ]
        }
      ]
    }
  ]
}