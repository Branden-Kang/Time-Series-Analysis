{
  "nbformat": 4,
  "nbformat_minor": 0,
  "metadata": {
    "colab": {
      "name": "Multivariate Timeseries Forecast with Lead and Lag Timesteps Using LSTM.ipynb",
      "provenance": [],
      "authorship_tag": "ABX9TyO19hZZscROrlb6n94Zec2c"
    },
    "kernelspec": {
      "name": "python3",
      "display_name": "Python 3"
    },
    "language_info": {
      "name": "python"
    }
  },
  "cells": [
    {
      "cell_type": "markdown",
      "source": [
        "[Reference](https://nandakishorej8.medium.com/multivariate-timeseries-forecast-with-lead-and-lag-timesteps-using-lstm-1a34915f08a)"
      ],
      "metadata": {
        "id": "-uHYEnvurAVf"
      }
    },
    {
      "cell_type": "code",
      "execution_count": 2,
      "metadata": {
        "id": "w5oHFGXeqyZi"
      },
      "outputs": [],
      "source": [
        "# convert series to supervised learning\n",
        "def series_to_supervised(data, n_lag=1, n_lead=1, dropnan=True):\n",
        " n_vars = 1 if type(data) is list else data.shape[1]\n",
        " df = DataFrame(data)\n",
        " cols, names = list(), list()\n",
        " # input sequence (t-n, … t-1)\n",
        " for i in range(n_lag, 0, -1):\n",
        " cols.append(df.shift(i))\n",
        " names += [(‘var%d(t-%d)’ % (j+1, i)) for j in range(n_vars)]\n",
        " # forecast sequence (t, t+1, … t+n)\n",
        " for i in range(0, n_lead):\n",
        " cols.append(df.shift(-i))\n",
        " if i == 0:\n",
        " names += [(‘var%d(t)’ % (j+1)) for j in range(n_vars)]\n",
        " else:\n",
        " names += [(‘var%d(t+%d)’ % (j+1, i)) for j in range(n_vars)]\n",
        " # put it all together\n",
        " agg = concat(cols, axis=1)\n",
        " agg.columns = names\n",
        " # drop rows with NaN values\n",
        " if dropnan:\n",
        " agg.dropna(inplace=True)\n",
        " return agg\n",
        "\n",
        "reframed = series_to_supervised(values, n_lag, (n_lead+1))\n",
        "#removing the future (t+n) dependent variable (Y)\n",
        "if n_lead>0:\n",
        "  reframed= reframed.drop(reframed.iloc[:,[i for i in range(df_no.shape[1]*(n_lag+1),reframed.shape[1],df_no.shape[1])]],axis=1)"
      ]
    },
    {
      "cell_type": "code",
      "source": [
        "# splitting reframed to X and Y considering the first column to be out target feature\n",
        "X=reframed.drop(['var1(t)'],axis=1)\n",
        "Y=reframed['var1(t)']\n",
        "X_values=X.values\n",
        "Y_values=Y.values\n",
        "#n_preduct being the test length\n",
        "train_X,train_Y = X_values[:(X_values.shape[0]-n_predict),:],Y_values[:(X_values.shape[0]-n_predict)]\n",
        "test_X,test_Y = X_values[(X_values.shape[0]-n_predict):,:],Y_values[(X_values.shape[0]-n_predict):]\n",
        "#reshaping train and test to feed to LSTM\n",
        "train_X = train_X.reshape((train_X.shape[0], 1, train_X.shape[1]))\n",
        "test_X = test_X.reshape((test_X.shape[0], 1, test_X.shape[1]))\n",
        "\n",
        "opt = Adam(lr=0.001, beta_1=0.9, beta_2=0.999, decay=0.01)\n",
        "model = Sequential()\n",
        "model.add(LSTM(100,return_sequences=True, input_shape=(train_X.shape[1], train_X.shape[2])))\n",
        "model.add(Dropout(0.25))\n",
        "model.add(LSTM(units=50,return_sequences=True))\n",
        "model.add(Dropout(0.20))\n",
        "model.add(LSTM(units=10,return_sequences=False))\n",
        "model.add(Dense(units=1, activation='linear'))\n",
        "model.compile(loss='mae', optimizer=opt)\n",
        "\n",
        "#adding few model check points\n",
        "es = EarlyStopping(monitor='val_loss', min_delta=1e-10, patience=10, verbose=1)\n",
        "  rlr = ReduceLROnPlateau(monitor='val_loss', factor=0.01, patience=10, verbose=1)\n",
        "  mcp = ModelCheckpoint(filepath=\"/test.h5\", monitor='val_loss', verbose=1, save_best_only=True, save_weights_only=False)\n",
        "  tb = TensorBoard('logs')\n",
        "history = model.fit(train_X, train_Y, epochs=50, batch_size=10,callbacks=[mcp,rlr],validation_data=(test_X, test_Y), verbose=2, shuffle=False)\n",
        "\n",
        "yhat = model.predict(test_X)"
      ],
      "metadata": {
        "id": "LSk84jauq3Zr"
      },
      "execution_count": 1,
      "outputs": []
    }
  ]
}