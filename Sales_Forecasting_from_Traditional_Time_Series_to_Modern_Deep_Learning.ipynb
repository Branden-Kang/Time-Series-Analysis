{
  "nbformat": 4,
  "nbformat_minor": 0,
  "metadata": {
    "colab": {
      "name": "Sales Forecasting: from Traditional Time Series to Modern Deep Learning.ipynb",
      "provenance": [],
      "authorship_tag": "ABX9TyOqjjF52n0YOEZrhQfNwTEp"
    },
    "kernelspec": {
      "name": "python3",
      "display_name": "Python 3"
    },
    "language_info": {
      "name": "python"
    }
  },
  "cells": [
    {
      "cell_type": "markdown",
      "metadata": {
        "id": "9UgGch4jkLOh"
      },
      "source": [
        "[Reference](https://towardsdatascience.com/sales-forecasting-from-time-series-to-deep-learning-5d115514bfac)"
      ]
    },
    {
      "cell_type": "markdown",
      "metadata": {
        "id": "aMZhJxpzkavh"
      },
      "source": [
        "# Repeating Patterns: Autocorrelation"
      ]
    },
    {
      "cell_type": "code",
      "metadata": {
        "id": "X66Bw-92kJPv"
      },
      "source": [
        "import pandas as pd\n",
        "import matplotlib.pyplot as plt\n",
        "import seaborn as sns\n",
        "sns.set()\n",
        "from statsmodels.graphics.tsaplots import plot_acf\n",
        "\n",
        "green = sns.color_palette(\"deep\", 8)[2]\n",
        "blue = sns.color_palette(\"deep\", 8)[0]\n",
        "\n",
        "# Loading the dataset\n",
        "df_weather = pd.read_csv(\"data/weatherHistory.csv\")\n",
        "\n",
        "#Cleaning the dates column\n",
        "df_weather['Formatted Date'] = pd.to_datetime(df_weather['Formatted Date'])\n",
        "\n",
        "#Plotting the raw weather data\n",
        "fig = plt.figure(figsize=(17,8))\n",
        "ax1 = fig.add_subplot(121)\n",
        "\n",
        "plt.scatter(df_weather[\"Formatted Date\"],df_weather[\"Temperature (C)\"], color=green,s=20)\n",
        "plt.title(\"Weather Data Time Series\",fontsize=15)\n",
        "plt.xlabel(\"Date\",fontsize=15)\n",
        "plt.ylabel(\"Temperature (C)\",fontsize=15)\n",
        "\n",
        "\n",
        "# Plotting the autocorrelation plot\n",
        "ax2 = fig.add_subplot(122)\n",
        "plot_acf(df_weather[\"Temperature (C)\"], ax=ax2,color=blue)\n",
        "plt.title(\"Autocorrelation Plot for Weather Data\", fontsize=15)\n",
        "plt.ylabel(\"Correlation\",fontsize=15)\n",
        "plt.xlabel(\"Lag\",fontsize=15)\n",
        "plt.show()\n",
        "\n",
        "png"
      ],
      "execution_count": 1,
      "outputs": []
    },
    {
      "cell_type": "code",
      "metadata": {
        "id": "4j-GSsxbkY0v"
      },
      "source": [
        "import pandas as pd\n",
        "import matplotlib.pyplot as plt\n",
        "import seaborn as sns\n",
        "sns.set()\n",
        "from statsmodels.graphics.tsaplots import plot_acf\n",
        "import matplotlib.dates as mdates\n",
        "import datetimegreen = sns.color_palette(\"deep\",8)[2]\n",
        "blue = sns.color_palette(\"deep\",8)[0]\n",
        "\n",
        "\n",
        "retail_sales = \"./sales_dataset.csv'\n",
        "df_sales  = pd.read_csv(retail_sales)fig = plt.figure(figsize=(17,8))\n",
        "ax1 = fig.add_subplot(121)\n",
        "df_sales_sum = df_sales.groupby(by=['Date'], as_index=False)['Weekly_Sales'].sum()\n",
        "df_sales_sum[\"Date\"] = pd.to_datetime(df_sales_sum[\"Date\"])\n",
        "df_sales_sum.plot(x=\"Date\",y=\"Weekly_Sales\",color=\"g\",ax=ax1, fontsize=15)\n",
        "plt.xlabel(\"Date\",fontsize=15)\n",
        "plt.title(\"Total Sales Volume\", fontsize=15)\n",
        "plt.ylabel(\"Sales\", fontsize=15)\n",
        "date_form = mdates.DateFormatter(\"%Y-%m-%d\")\n",
        "year_locator = mdates.YearLocator()\n",
        "ax1.xaxis.set_major_locator(year_locator)ax2 = fig.add_subplot(122)\n",
        "plot_acf(df_sales_sum.Weekly_Sales,ax=ax2)\n",
        "plt.title(\"Autocorrelation\", fontsize=15)\n",
        "plt.xlabel(\"Lag\",fontsize=15)\n",
        "plt.ylabel(\"Correlation\", fontsize=15)\n",
        "plt.show()"
      ],
      "execution_count": 2,
      "outputs": []
    },
    {
      "cell_type": "markdown",
      "metadata": {
        "id": "NHLu2Gqokpwi"
      },
      "source": [
        "# Static patterns"
      ]
    },
    {
      "cell_type": "code",
      "metadata": {
        "id": "jPAKg3n9kjP7"
      },
      "source": [
        "from statsmodels.tsa.stattools import adfuller\n",
        "\n",
        "adf_test_sales = adfuller(list(df_sales_sum[\"Weekly_Sales\"]))\n",
        "\n",
        "adf_test_weather = adfuller(list(df_weather[\"Temperature (C)\"]))\n",
        "\n",
        "print(\"Weather Results:\")\n",
        "print(\"ADF = \" + str(adf_test_weather[0]))\n",
        "print(\"p-value = \" +str(adf_test_weather[1]))\n",
        "\n",
        "print(\"Retail sales results:\")\n",
        "\n",
        "print(\"ADF = \" + str(adf_test_sales[0]))\n",
        "\n",
        "print(\"p-value = \" +str(adf_test_sales[1]))"
      ],
      "execution_count": 3,
      "outputs": []
    },
    {
      "cell_type": "markdown",
      "metadata": {
        "id": "ms3k8ziykvV2"
      },
      "source": [
        "# Trends"
      ]
    },
    {
      "cell_type": "code",
      "metadata": {
        "id": "qSfGiH6Gkr-n"
      },
      "source": [
        "from fbprophet import Prophet\n",
        "from datetime import datetime\n",
        "\n",
        "start_date = \"2007-01-01\"\n",
        "end_date = \"2008-12-31\"\n",
        "df_weather[\"Formatted Date\"] = pd.to_datetime(df_weather[\"Formatted Date\"], utc=True)\n",
        "\n",
        "date_range = (df_weather[\"Formatted Date\"] > start_date) & (df_weather[\"Formatted Date\"] < end_date)\n",
        "\n",
        "df_prophet = df_weather.loc[date_range]\n",
        "\n",
        "m = Prophet()\n",
        "\n",
        "\n",
        "ds = df_prophet[\"Formatted Date\"].dt.tz_localize(None)\n",
        "y = df_prophet[\"Temperature (C)\"]\n",
        "df_for_prophet = pd.DataFrame(dict(ds=ds,y=y))\n",
        "m.fit(df_for_prophet)\n",
        "\n",
        "future = m.make_future_dataframe(periods=120)\n",
        "\n",
        "\n",
        "forecast = m.predict(future)\n",
        "forecast = forecast[[\"ds\",\"trend\", \"trend_lower\", \"trend_upper\"]]\n",
        "fig = m.plot_components(forecast,plot_cap=False)\n",
        "trend_ax = fig.axes[0]\n",
        "\n",
        "\n",
        "trend_ax.plot()\n",
        "plt.title(\"Trend for Weather Data\", fontsize=15)\n",
        "plt.xlabel(\"Date\", fontsize=15)\n",
        "plt.ylabel(\"Weather Trend\", fontsize=15)\n",
        "plt.show()"
      ],
      "execution_count": 4,
      "outputs": []
    },
    {
      "cell_type": "code",
      "metadata": {
        "id": "neXd4E0-k2gv"
      },
      "source": [
        "from fbprophet import Prophet\n",
        "\n",
        "\n",
        "m = Prophet()\n",
        "# Selecting one store\n",
        "df_store_1 = df_sales[df_sales[\"Store\"]==1]\n",
        "\n",
        "df_store_1[\"Date\"] = pd.to_datetime(df_store_1[\"Date\"])\n",
        "ds = df_store_1[\"Date\"].dt.tz_localize(None)\n",
        "y = df_store_1[\"Weekly_Sales\"]\n",
        "df_for_prophet = pd.DataFrame(dict(ds=ds,y=y))\n",
        "m.fit(df_for_prophet)\n",
        "future = m.make_future_dataframe(periods=15)\n",
        "forecast = m.predict(future)\n",
        "forecast = forecast[[\"ds\",\"trend\", \"trend_lower\", \"trend_upper\"]]\n",
        "fig = m.plot_components(forecast,plot_cap=False)\n",
        "trend_ax = fig.axes[0]\n",
        "trend_ax.plot()\n",
        "plt.title(\"Trend for Retail Data\", fontsize=15)\n",
        "plt.xlabel(\"Date\", fontsize=15)\n",
        "plt.ylabel(\"Sales Trend\", fontsize=15)\n",
        "\n",
        "plt.show()"
      ],
      "execution_count": 5,
      "outputs": []
    },
    {
      "cell_type": "markdown",
      "metadata": {
        "id": "8Xsl87ZvlJ0T"
      },
      "source": [
        "# Traditional Time Series Models to Sales Forecasting"
      ]
    },
    {
      "cell_type": "markdown",
      "metadata": {
        "id": "jagWpbcalLMr"
      },
      "source": [
        "- Moving Average\n",
        "- Exponential smoothing\n",
        "- ARIMA"
      ]
    },
    {
      "cell_type": "markdown",
      "metadata": {
        "id": "yB3upiPmlaLe"
      },
      "source": [
        "## Moving Average"
      ]
    },
    {
      "cell_type": "code",
      "metadata": {
        "id": "wxLwmdNIlIKi"
      },
      "source": [
        "from sklearn.metrics import mean_absolute_error\n",
        "\n",
        "green = sns.color_palette(\"deep\", 8)[2]\n",
        "blue = sns.color_palette(\"deep\", 8)[0]\n",
        "\n",
        "start_date = \"2007-01-01\"\n",
        "end_date = \"2008-12-31\"\n",
        "df_weather[\"Formatted Date\"] = pd.to_datetime(df_weather[\"Formatted Date\"], utc=True)\n",
        "date_range = (df_weather[\"Formatted Date\"] > start_date) & (df_weather[\"Formatted Date\"] < end_date)\n",
        "df_weather_ma = df_weather.loc[date_range]\n",
        "series = df_weather_ma[\"Temperature (C)\"]\n",
        "\n",
        "window=90\n",
        "rolling_mean = series.rolling(window=window).mean()\n",
        "fig,ax = plt.subplots(figsize=(17,8))\n",
        "\n",
        "plt.title('Moving Average Model for Weather Dataset',fontsize=15)\n",
        "plt.plot(rolling_mean, color=green, label='Rolling mean trend')\n",
        "#Plot confidence intervals for smoothed values\n",
        "mae = mean_absolute_error(series[window:], rolling_mean[window:])\n",
        "deviation = np.std(series[window:] - rolling_mean[window:])\n",
        "lower_bound = rolling_mean - (mae + 2 * deviation)\n",
        "upper_bound = rolling_mean + (mae + 2 * deviation)\n",
        "plt.plot(upper_bound, 'r--', label='Upper bound / Lower bound')\n",
        "plt.plot(lower_bound, 'r--')\n",
        "plt.plot(series[window:],color=blue, label=\"Actual Values\")\n",
        "\n",
        "plt.legend(loc='best')\n",
        "plt.grid(True)\n",
        "plt.xticks([])\n",
        "\n",
        "plt.show()"
      ],
      "execution_count": 6,
      "outputs": []
    },
    {
      "cell_type": "code",
      "metadata": {
        "id": "TT8DsJdSlT9E"
      },
      "source": [
        "series = df_sales_sum.Weekly_Sales\n",
        "window=15\n",
        "\n",
        "rolling_mean = series.rolling(window=window).mean()\n",
        "fig,ax = plt.subplots(figsize=(17,8))\n",
        "\n",
        "\n",
        "plt.title('Moving Average Model for Retail Sales',fontsize=15)\n",
        "\n",
        "plt.plot(rolling_mean, color=green, label='Rolling mean trend')\n",
        "\n",
        "#Plot confidence intervals for smoothed values\n",
        "mae = mean_absolute_error(series[window:], rolling_mean[window:])\n",
        "deviation = np.std(series[window:] - rolling_mean[window:])\n",
        "lower_bound = rolling_mean - (mae + 1.92 * deviation)\n",
        "upper_bound = rolling_mean + (mae + 1.92 * deviation)\n",
        "\n",
        "plt.plot(upper_bound, 'r--', label='Upper bound / Lower bound')\n",
        "plt.plot(lower_bound, 'r--')\n",
        "\n",
        "plt.plot(series[window:], color=blue,label='Actual values')\n",
        "\n",
        "\n",
        "plt.legend(loc='best')\n",
        "plt.grid(True)\n",
        "plt.xticks([])"
      ],
      "execution_count": 7,
      "outputs": []
    },
    {
      "cell_type": "markdown",
      "metadata": {
        "id": "FcAfrs0ilY_c"
      },
      "source": [
        "## Exponential Smoothing"
      ]
    },
    {
      "cell_type": "code",
      "metadata": {
        "id": "-5CWZGeHlXA3"
      },
      "source": [
        "from statsmodels.tsa.api import ExponentialSmoothing\n",
        "import matplotlib.pyplot as plt\n",
        "import matplotlib.dates as mdates\n",
        "import seaborn as sns\n",
        "sns.set()\n",
        "import pandas as pd\n",
        "\n",
        "fit1 = ExponentialSmoothing(df_weather[\"Temperature (C)\"][0:200]).fit(smoothing_level=0.1, optimized=False)\n",
        "fit2 = ExponentialSmoothing(df_weather[\"Temperature (C)\"][0:200]).fit(smoothing_level=0.5, optimized=False)\n",
        "forecast1 = fit1.forecast(3).rename(r'$\\alpha=0.1$')\n",
        "forecast2 = fit2.forecast(3).rename(r'$\\alpha=0.5$')\n",
        "plt.figure(figsize=(17,8))\n",
        "\n",
        "forecast1.plot(color='blue', legend=True)\n",
        "forecast2.plot(color='red', legend=True)\n",
        "df_weather[\"Temperature (ÂºC)\"][0:200].plot(marker='',color='green', legend=True)\n",
        "fit1.fittedvalues.plot(color='blue')\n",
        "fit2.fittedvalues.plot(color='red')\n",
        "plt.title(\"Exponential Smoothing for Weather Data\", fontsize=15)\n",
        "plt.xticks([])\n",
        "\n",
        "plt.show()"
      ],
      "execution_count": 8,
      "outputs": []
    },
    {
      "cell_type": "code",
      "metadata": {
        "id": "P5atJKvLldMy"
      },
      "source": [
        "# Put the correct dataframe here!\n",
        "\n",
        "fit1 = ExponentialSmoothing(df_sales_sum[\"Weekly_Sales\"][0:200]).fit(smoothing_level=0.1, optimized=False)\n",
        "\n",
        "fit2 = ExponentialSmoothing(df_sales_sum[\"Weekly_Sales\"][0:200]).fit(smoothing_level=0.5, optimized=False)\n",
        "\n",
        "forecast1 = fit1.forecast(3).rename(r'$\\alpha=0.1$')\n",
        "forecast2 = fit2.forecast(3).rename(r'$\\alpha=0.5$')\n",
        "plt.figure(figsize=(17,8))\n",
        "\n",
        "forecast1.plot(color='blue', legend=True)\n",
        "forecast2.plot(color='red', legend=True)\n",
        "df_sales_sum[\"Weekly_Sales\"][0:200].plot(marker='',color='green', legend=True)\n",
        "plt.ylabel(\"Sales\", fontsize=15)\n",
        "\n",
        "fit1.fittedvalues.plot(color='blue')\n",
        "fit2.fittedvalues.plot(color='red')\n",
        "\n",
        "plt.title(\"Exponential Smoothing for Retail Data\", fontsize=15)\n",
        "plt.xticks([], minor=True)\n",
        "plt.show()"
      ],
      "execution_count": 9,
      "outputs": []
    },
    {
      "cell_type": "markdown",
      "metadata": {
        "id": "ZFrJ9VAilhzZ"
      },
      "source": [
        "## Arima"
      ]
    },
    {
      "cell_type": "code",
      "metadata": {
        "id": "fqRMN-6ElgFy"
      },
      "source": [
        "from statsmodels.tsa.arima_model import ARIMA\n",
        "from sklearn.metrics import mean_squared_error\n",
        "import pandas as pd\n",
        "\n",
        "X = df_weather[\"Temperature (C)\"].values\n",
        "\n",
        "train_size = 600\n",
        "test_size = 200\n",
        "\n",
        "train, test = X[0:train_size], X[train_size:train_size+test_size]\n",
        "\n",
        "history = [x for x in train]\n",
        "predictions = []\n",
        "for t in range(len(test)):\n",
        "\tmodel = ARIMA(history, order=(5,1,0))\n",
        "\tmodel_fit = model.fit(disp=0)\n",
        "\toutput = model_fit.forecast()\n",
        "\tyhat = output[0]\n",
        "\tpredictions.append(yhat)\n",
        "\tobs = test[t]\n",
        "\thistory.append(obs)\n",
        "\n",
        "mse = mean_squared_error(test, predictions)\n",
        "print(f\"MSE error: {mse}\")\n",
        "plt.figure(figsize=(17,8))\n",
        "\n",
        "plt.plot(test)\n",
        "plt.plot(predictions, color='red')\n",
        "plt.title(\"ARIMA fit Weather Data\")\n",
        "plt.xticks([])\n",
        "plt.show()"
      ],
      "execution_count": 10,
      "outputs": []
    },
    {
      "cell_type": "code",
      "metadata": {
        "id": "WpXeMNIzllnL"
      },
      "source": [
        "from statsmodels.tsa.arima_model import ARIMA\n",
        "from sklearn.metrics import mean_squared_error\n",
        "import pandas as pd\n",
        "\n",
        "import matplotlib.pyplot as plt\n",
        "import seaborn as sns\n",
        "sns.set()\n",
        "\n",
        "\n",
        "\n",
        "X = df_sales_sum[\"Weekly_Sales\"].values\n",
        "\n",
        "split = int(0.66*len(X))\n",
        "train, test = X[0:split], X[split:]\n",
        "\n",
        "history = [x for x in train]\n",
        "predictions = []\n",
        "for t in range(len(test)):\n",
        "\tmodel = ARIMA(history, order=(5,1,0))\n",
        "\tmodel_fit = model.fit(disp=0)\n",
        "\toutput = model_fit.forecast()\n",
        "\tyhat = output[0]\n",
        "\tpredictions.append(yhat)\n",
        "    \n",
        "\tobs = test[t]\n",
        "\thistory.append(obs)\n",
        "mse = mean_squared_error(test, predictions)\n",
        "\n",
        "print(f\"MSE error: {mse}\")\n",
        "\n",
        "plt.figure(figsize=(17,8))\n",
        "plt.plot(test)\n",
        "plt.plot(predictions, color='red')\n",
        "plt.title(\"ARIMA fit to Sales Data\",fontsize=15)\n",
        "plt.xticks([])\n",
        "plt.show()"
      ],
      "execution_count": 11,
      "outputs": []
    },
    {
      "cell_type": "markdown",
      "metadata": {
        "id": "HrMgqonwlpUT"
      },
      "source": [
        "# Modern Sales Forecasting and Deep Learning\n",
        "- Amazon’s DeepAR model\n",
        "- NLP for Sales Forecasting"
      ]
    }
  ]
}