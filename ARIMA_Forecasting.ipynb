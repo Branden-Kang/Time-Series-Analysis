{
  "nbformat": 4,
  "nbformat_minor": 0,
  "metadata": {
    "colab": {
      "name": "ARIMA Forecasting.ipynb",
      "provenance": [],
      "authorship_tag": "ABX9TyMSbnZWUr3UA5rzpHQ0971r"
    },
    "kernelspec": {
      "name": "python3",
      "display_name": "Python 3"
    }
  },
  "cells": [
    {
      "cell_type": "markdown",
      "metadata": {
        "id": "bzr951WMTFla",
        "colab_type": "text"
      },
      "source": [
        "# ARIMA Forecasting"
      ]
    },
    {
      "cell_type": "code",
      "metadata": {
        "id": "EI7iOvoHTCQZ",
        "colab_type": "code",
        "colab": {}
      },
      "source": [
        "import pandas as pd"
      ],
      "execution_count": 0,
      "outputs": []
    },
    {
      "cell_type": "code",
      "metadata": {
        "id": "EBS31RQxTJxl",
        "colab_type": "code",
        "colab": {}
      },
      "source": [
        "url = \"https://raw.githubusercontent.com/hd4niel/Predict-Spotify-Top200/master/data/top_200_features.csv\"\n",
        "spotify = pd.read_csv(url)"
      ],
      "execution_count": 0,
      "outputs": []
    },
    {
      "cell_type": "code",
      "metadata": {
        "id": "GD3Wo3HyTNiR",
        "colab_type": "code",
        "colab": {
          "base_uri": "https://localhost:8080/",
          "height": 581
        },
        "outputId": "44e5132a-ceb9-4ca2-f7a3-7d931bd7ecf8"
      },
      "source": [
        "spotify.head()"
      ],
      "execution_count": 4,
      "outputs": [
        {
          "output_type": "execute_result",
          "data": {
            "text/html": [
              "<div>\n",
              "<style scoped>\n",
              "    .dataframe tbody tr th:only-of-type {\n",
              "        vertical-align: middle;\n",
              "    }\n",
              "\n",
              "    .dataframe tbody tr th {\n",
              "        vertical-align: top;\n",
              "    }\n",
              "\n",
              "    .dataframe thead th {\n",
              "        text-align: right;\n",
              "    }\n",
              "</style>\n",
              "<table border=\"1\" class=\"dataframe\">\n",
              "  <thead>\n",
              "    <tr style=\"text-align: right;\">\n",
              "      <th></th>\n",
              "      <th>Unnamed: 0</th>\n",
              "      <th>Artist</th>\n",
              "      <th>Position</th>\n",
              "      <th>Streams</th>\n",
              "      <th>Track Name</th>\n",
              "      <th>acousticness</th>\n",
              "      <th>analysis_url</th>\n",
              "      <th>danceability</th>\n",
              "      <th>date</th>\n",
              "      <th>duration_ms</th>\n",
              "      <th>energy</th>\n",
              "      <th>id_caller</th>\n",
              "      <th>id_other</th>\n",
              "      <th>instrumentalness</th>\n",
              "      <th>key</th>\n",
              "      <th>liveness</th>\n",
              "      <th>loudness</th>\n",
              "      <th>mode</th>\n",
              "      <th>region</th>\n",
              "      <th>speechiness</th>\n",
              "      <th>tempo</th>\n",
              "      <th>time_signature</th>\n",
              "      <th>track_href</th>\n",
              "      <th>type</th>\n",
              "      <th>uri</th>\n",
              "      <th>valence</th>\n",
              "    </tr>\n",
              "  </thead>\n",
              "  <tbody>\n",
              "    <tr>\n",
              "      <th>0</th>\n",
              "      <td>0</td>\n",
              "      <td>Ed Sheeran</td>\n",
              "      <td>1</td>\n",
              "      <td>51095759</td>\n",
              "      <td>Shape of You</td>\n",
              "      <td>0.5810</td>\n",
              "      <td>https://api.spotify.com/v1/audio-analysis/7qiZ...</td>\n",
              "      <td>0.825</td>\n",
              "      <td>2017-01-06--2017-01-13</td>\n",
              "      <td>233713.0</td>\n",
              "      <td>0.652</td>\n",
              "      <td>7qiZfU4dY1lWllzX7mPBI3</td>\n",
              "      <td>7qiZfU4dY1lWllzX7mPBI3</td>\n",
              "      <td>0.000000</td>\n",
              "      <td>1.0</td>\n",
              "      <td>0.0931</td>\n",
              "      <td>-3.183</td>\n",
              "      <td>0.0</td>\n",
              "      <td>global</td>\n",
              "      <td>0.0802</td>\n",
              "      <td>95.977</td>\n",
              "      <td>4.0</td>\n",
              "      <td>https://api.spotify.com/v1/tracks/7qiZfU4dY1lW...</td>\n",
              "      <td>audio_features</td>\n",
              "      <td>spotify:track:7qiZfU4dY1lWllzX7mPBI3</td>\n",
              "      <td>0.9310</td>\n",
              "    </tr>\n",
              "    <tr>\n",
              "      <th>1</th>\n",
              "      <td>1</td>\n",
              "      <td>Ed Sheeran</td>\n",
              "      <td>2</td>\n",
              "      <td>35168298</td>\n",
              "      <td>Castle on the Hill</td>\n",
              "      <td>0.0232</td>\n",
              "      <td>https://api.spotify.com/v1/audio-analysis/6PCU...</td>\n",
              "      <td>0.461</td>\n",
              "      <td>2017-01-06--2017-01-13</td>\n",
              "      <td>261154.0</td>\n",
              "      <td>0.834</td>\n",
              "      <td>6PCUP3dWmTjcTtXY02oFdT</td>\n",
              "      <td>6PCUP3dWmTjcTtXY02oFdT</td>\n",
              "      <td>0.000011</td>\n",
              "      <td>2.0</td>\n",
              "      <td>0.1400</td>\n",
              "      <td>-4.868</td>\n",
              "      <td>1.0</td>\n",
              "      <td>global</td>\n",
              "      <td>0.0989</td>\n",
              "      <td>135.007</td>\n",
              "      <td>4.0</td>\n",
              "      <td>https://api.spotify.com/v1/tracks/6PCUP3dWmTjc...</td>\n",
              "      <td>audio_features</td>\n",
              "      <td>spotify:track:6PCUP3dWmTjcTtXY02oFdT</td>\n",
              "      <td>0.4710</td>\n",
              "    </tr>\n",
              "    <tr>\n",
              "      <th>2</th>\n",
              "      <td>2</td>\n",
              "      <td>The Weeknd</td>\n",
              "      <td>3</td>\n",
              "      <td>24261229</td>\n",
              "      <td>Starboy</td>\n",
              "      <td>0.1650</td>\n",
              "      <td>https://api.spotify.com/v1/audio-analysis/5aAx...</td>\n",
              "      <td>0.681</td>\n",
              "      <td>2017-01-06--2017-01-13</td>\n",
              "      <td>230453.0</td>\n",
              "      <td>0.594</td>\n",
              "      <td>5aAx2yezTd8zXrkmtKl66Z</td>\n",
              "      <td>5aAx2yezTd8zXrkmtKl66Z</td>\n",
              "      <td>0.000003</td>\n",
              "      <td>7.0</td>\n",
              "      <td>0.1340</td>\n",
              "      <td>-7.028</td>\n",
              "      <td>1.0</td>\n",
              "      <td>global</td>\n",
              "      <td>0.2820</td>\n",
              "      <td>186.054</td>\n",
              "      <td>4.0</td>\n",
              "      <td>https://api.spotify.com/v1/tracks/5aAx2yezTd8z...</td>\n",
              "      <td>audio_features</td>\n",
              "      <td>spotify:track:5aAx2yezTd8zXrkmtKl66Z</td>\n",
              "      <td>0.5350</td>\n",
              "    </tr>\n",
              "    <tr>\n",
              "      <th>3</th>\n",
              "      <td>3</td>\n",
              "      <td>Clean Bandit</td>\n",
              "      <td>4</td>\n",
              "      <td>21671209</td>\n",
              "      <td>Rockabye (feat. Sean Paul &amp; Anne-Marie)</td>\n",
              "      <td>0.4060</td>\n",
              "      <td>https://api.spotify.com/v1/audio-analysis/5knu...</td>\n",
              "      <td>0.720</td>\n",
              "      <td>2017-01-06--2017-01-13</td>\n",
              "      <td>251088.0</td>\n",
              "      <td>0.763</td>\n",
              "      <td>5knuzwU65gJK7IF5yJsuaW</td>\n",
              "      <td>5knuzwU65gJK7IF5yJsuaW</td>\n",
              "      <td>0.000000</td>\n",
              "      <td>9.0</td>\n",
              "      <td>0.1800</td>\n",
              "      <td>-4.068</td>\n",
              "      <td>0.0</td>\n",
              "      <td>global</td>\n",
              "      <td>0.0523</td>\n",
              "      <td>101.965</td>\n",
              "      <td>4.0</td>\n",
              "      <td>https://api.spotify.com/v1/tracks/5knuzwU65gJK...</td>\n",
              "      <td>audio_features</td>\n",
              "      <td>spotify:track:5knuzwU65gJK7IF5yJsuaW</td>\n",
              "      <td>0.7420</td>\n",
              "    </tr>\n",
              "    <tr>\n",
              "      <th>4</th>\n",
              "      <td>4</td>\n",
              "      <td>ZAYN</td>\n",
              "      <td>5</td>\n",
              "      <td>21513043</td>\n",
              "      <td>I Don’t Wanna Live Forever (Fifty Shades Darke...</td>\n",
              "      <td>0.0631</td>\n",
              "      <td>https://api.spotify.com/v1/audio-analysis/3NdD...</td>\n",
              "      <td>0.735</td>\n",
              "      <td>2017-01-06--2017-01-13</td>\n",
              "      <td>245200.0</td>\n",
              "      <td>0.451</td>\n",
              "      <td>3NdDpSvN911VPGivFlV5d0</td>\n",
              "      <td>3NdDpSvN911VPGivFlV5d0</td>\n",
              "      <td>0.000013</td>\n",
              "      <td>0.0</td>\n",
              "      <td>0.3250</td>\n",
              "      <td>-8.374</td>\n",
              "      <td>1.0</td>\n",
              "      <td>global</td>\n",
              "      <td>0.0585</td>\n",
              "      <td>117.973</td>\n",
              "      <td>4.0</td>\n",
              "      <td>https://api.spotify.com/v1/tracks/3NdDpSvN911V...</td>\n",
              "      <td>audio_features</td>\n",
              "      <td>spotify:track:3NdDpSvN911VPGivFlV5d0</td>\n",
              "      <td>0.0862</td>\n",
              "    </tr>\n",
              "  </tbody>\n",
              "</table>\n",
              "</div>"
            ],
            "text/plain": [
              "   Unnamed: 0        Artist  ...                                   uri valence\n",
              "0           0    Ed Sheeran  ...  spotify:track:7qiZfU4dY1lWllzX7mPBI3  0.9310\n",
              "1           1    Ed Sheeran  ...  spotify:track:6PCUP3dWmTjcTtXY02oFdT  0.4710\n",
              "2           2    The Weeknd  ...  spotify:track:5aAx2yezTd8zXrkmtKl66Z  0.5350\n",
              "3           3  Clean Bandit  ...  spotify:track:5knuzwU65gJK7IF5yJsuaW  0.7420\n",
              "4           4          ZAYN  ...  spotify:track:3NdDpSvN911VPGivFlV5d0  0.0862\n",
              "\n",
              "[5 rows x 26 columns]"
            ]
          },
          "metadata": {
            "tags": []
          },
          "execution_count": 4
        }
      ]
    },
    {
      "cell_type": "code",
      "metadata": {
        "id": "DjOi6k8hTTR_",
        "colab_type": "code",
        "colab": {
          "base_uri": "https://localhost:8080/",
          "height": 119
        },
        "outputId": "1bd63547-4212-4974-81a5-a923466ba25c"
      },
      "source": [
        "spotify.columns"
      ],
      "execution_count": 5,
      "outputs": [
        {
          "output_type": "execute_result",
          "data": {
            "text/plain": [
              "Index(['Unnamed: 0', 'Artist', 'Position', 'Streams', 'Track Name',\n",
              "       'acousticness', 'analysis_url', 'danceability', 'date', 'duration_ms',\n",
              "       'energy', 'id_caller', 'id_other', 'instrumentalness', 'key',\n",
              "       'liveness', 'loudness', 'mode', 'region', 'speechiness', 'tempo',\n",
              "       'time_signature', 'track_href', 'type', 'uri', 'valence'],\n",
              "      dtype='object')"
            ]
          },
          "metadata": {
            "tags": []
          },
          "execution_count": 5
        }
      ]
    },
    {
      "cell_type": "markdown",
      "metadata": {
        "id": "ltFf6JbXUcK8",
        "colab_type": "text"
      },
      "source": [
        "## Drop the missing features"
      ]
    },
    {
      "cell_type": "code",
      "metadata": {
        "id": "TbSZs92LTYC7",
        "colab_type": "code",
        "colab": {}
      },
      "source": [
        "s = spotify[\"danceability\"].isna()\n",
        "indices = s[s == True].index.values.tolist()\n",
        "spotify = spotify.drop(index=indices)\n",
        "spotify = spotify.reset_index()"
      ],
      "execution_count": 0,
      "outputs": []
    },
    {
      "cell_type": "markdown",
      "metadata": {
        "id": "gDz7nsahUYDl",
        "colab_type": "text"
      },
      "source": [
        "## Extract numerical features"
      ]
    },
    {
      "cell_type": "code",
      "metadata": {
        "id": "hu-8_qPiTjRB",
        "colab_type": "code",
        "colab": {}
      },
      "source": [
        "features = spotify.select_dtypes(include=[\"float64\"])"
      ],
      "execution_count": 0,
      "outputs": []
    },
    {
      "cell_type": "markdown",
      "metadata": {
        "id": "HRtRUaE1USKN",
        "colab_type": "text"
      },
      "source": [
        "## Extract the date of every top 200 list"
      ]
    },
    {
      "cell_type": "code",
      "metadata": {
        "id": "NVT9SgaUT5W2",
        "colab_type": "code",
        "colab": {}
      },
      "source": [
        "dates = []\n",
        "for i in range(0, spotify.shape[0], 200):\n",
        "    dates.append(spotify[\"date\"][i][:10])"
      ],
      "execution_count": 0,
      "outputs": []
    },
    {
      "cell_type": "code",
      "metadata": {
        "id": "b806cUUPT87G",
        "colab_type": "code",
        "colab": {}
      },
      "source": [
        "feature_mean = pd.DataFrame(columns=features.columns, index=pd.to_datetime(dates))\n",
        "for feature in features.columns:\n",
        "    average = []\n",
        "    for i in range(0, spotify.shape[0], 200):\n",
        "        average.append(spotify[feature][i:i+200].mean())\n",
        "    feature_mean[feature] = average"
      ],
      "execution_count": 0,
      "outputs": []
    },
    {
      "cell_type": "code",
      "metadata": {
        "id": "Z8rp-GIsUEaL",
        "colab_type": "code",
        "colab": {}
      },
      "source": [
        "feature_mean = feature_mean.asfreq(freq=\"W\", method='bfill')"
      ],
      "execution_count": 0,
      "outputs": []
    },
    {
      "cell_type": "code",
      "metadata": {
        "id": "eOrvO1ZSUGDu",
        "colab_type": "code",
        "colab": {
          "base_uri": "https://localhost:8080/",
          "height": 204
        },
        "outputId": "f2d6d7e8-ee12-489a-fd2d-ca930492ecab"
      },
      "source": [
        "feature_mean.head()"
      ],
      "execution_count": 11,
      "outputs": [
        {
          "output_type": "execute_result",
          "data": {
            "text/html": [
              "<div>\n",
              "<style scoped>\n",
              "    .dataframe tbody tr th:only-of-type {\n",
              "        vertical-align: middle;\n",
              "    }\n",
              "\n",
              "    .dataframe tbody tr th {\n",
              "        vertical-align: top;\n",
              "    }\n",
              "\n",
              "    .dataframe thead th {\n",
              "        text-align: right;\n",
              "    }\n",
              "</style>\n",
              "<table border=\"1\" class=\"dataframe\">\n",
              "  <thead>\n",
              "    <tr style=\"text-align: right;\">\n",
              "      <th></th>\n",
              "      <th>acousticness</th>\n",
              "      <th>danceability</th>\n",
              "      <th>duration_ms</th>\n",
              "      <th>energy</th>\n",
              "      <th>instrumentalness</th>\n",
              "      <th>key</th>\n",
              "      <th>liveness</th>\n",
              "      <th>loudness</th>\n",
              "      <th>mode</th>\n",
              "      <th>speechiness</th>\n",
              "      <th>tempo</th>\n",
              "      <th>time_signature</th>\n",
              "      <th>valence</th>\n",
              "    </tr>\n",
              "  </thead>\n",
              "  <tbody>\n",
              "    <tr>\n",
              "      <th>2017-01-08</th>\n",
              "      <td>0.188506</td>\n",
              "      <td>0.678070</td>\n",
              "      <td>222369.595</td>\n",
              "      <td>0.659144</td>\n",
              "      <td>0.011800</td>\n",
              "      <td>5.075</td>\n",
              "      <td>0.159478</td>\n",
              "      <td>-6.011535</td>\n",
              "      <td>0.585</td>\n",
              "      <td>0.118482</td>\n",
              "      <td>121.007170</td>\n",
              "      <td>4.010</td>\n",
              "      <td>0.489789</td>\n",
              "    </tr>\n",
              "    <tr>\n",
              "      <th>2017-01-15</th>\n",
              "      <td>0.201954</td>\n",
              "      <td>0.674755</td>\n",
              "      <td>223224.455</td>\n",
              "      <td>0.648524</td>\n",
              "      <td>0.009049</td>\n",
              "      <td>5.050</td>\n",
              "      <td>0.160663</td>\n",
              "      <td>-6.093700</td>\n",
              "      <td>0.600</td>\n",
              "      <td>0.117990</td>\n",
              "      <td>120.890135</td>\n",
              "      <td>4.010</td>\n",
              "      <td>0.481608</td>\n",
              "    </tr>\n",
              "    <tr>\n",
              "      <th>2017-01-22</th>\n",
              "      <td>0.194442</td>\n",
              "      <td>0.681720</td>\n",
              "      <td>223771.285</td>\n",
              "      <td>0.651434</td>\n",
              "      <td>0.007873</td>\n",
              "      <td>5.015</td>\n",
              "      <td>0.162028</td>\n",
              "      <td>-6.021405</td>\n",
              "      <td>0.600</td>\n",
              "      <td>0.119633</td>\n",
              "      <td>120.809115</td>\n",
              "      <td>4.010</td>\n",
              "      <td>0.485549</td>\n",
              "    </tr>\n",
              "    <tr>\n",
              "      <th>2017-01-29</th>\n",
              "      <td>0.207496</td>\n",
              "      <td>0.676025</td>\n",
              "      <td>224696.305</td>\n",
              "      <td>0.652214</td>\n",
              "      <td>0.007852</td>\n",
              "      <td>5.050</td>\n",
              "      <td>0.164080</td>\n",
              "      <td>-6.073245</td>\n",
              "      <td>0.595</td>\n",
              "      <td>0.123012</td>\n",
              "      <td>120.042640</td>\n",
              "      <td>4.015</td>\n",
              "      <td>0.482391</td>\n",
              "    </tr>\n",
              "    <tr>\n",
              "      <th>2017-02-05</th>\n",
              "      <td>0.207728</td>\n",
              "      <td>0.668920</td>\n",
              "      <td>224586.910</td>\n",
              "      <td>0.655065</td>\n",
              "      <td>0.007979</td>\n",
              "      <td>4.995</td>\n",
              "      <td>0.158538</td>\n",
              "      <td>-5.951895</td>\n",
              "      <td>0.610</td>\n",
              "      <td>0.117958</td>\n",
              "      <td>121.082985</td>\n",
              "      <td>4.010</td>\n",
              "      <td>0.479712</td>\n",
              "    </tr>\n",
              "  </tbody>\n",
              "</table>\n",
              "</div>"
            ],
            "text/plain": [
              "            acousticness  danceability  ...  time_signature   valence\n",
              "2017-01-08      0.188506      0.678070  ...           4.010  0.489789\n",
              "2017-01-15      0.201954      0.674755  ...           4.010  0.481608\n",
              "2017-01-22      0.194442      0.681720  ...           4.010  0.485549\n",
              "2017-01-29      0.207496      0.676025  ...           4.015  0.482391\n",
              "2017-02-05      0.207728      0.668920  ...           4.010  0.479712\n",
              "\n",
              "[5 rows x 13 columns]"
            ]
          },
          "metadata": {
            "tags": []
          },
          "execution_count": 11
        }
      ]
    },
    {
      "cell_type": "markdown",
      "metadata": {
        "id": "O03pF-V_UkeM",
        "colab_type": "text"
      },
      "source": [
        "## Manual ARIMA"
      ]
    },
    {
      "cell_type": "code",
      "metadata": {
        "id": "uYjwsRsdUHKm",
        "colab_type": "code",
        "colab": {
          "base_uri": "https://localhost:8080/",
          "height": 71
        },
        "outputId": "1d2a1d61-4b8f-438b-da0a-3d67b7fd8642"
      },
      "source": [
        "from statsmodels.tsa.arima_model import ARIMA\n",
        "from statsmodels.graphics.tsaplots import plot_acf\n",
        "from statsmodels.graphics.tsaplots import plot_pacf\n",
        "from statsmodels.tsa.stattools import adfuller\n",
        "import matplotlib.pyplot as plt\n",
        "import seaborn as sns\n",
        "sns.set()"
      ],
      "execution_count": 12,
      "outputs": [
        {
          "output_type": "stream",
          "text": [
            "/usr/local/lib/python3.6/dist-packages/statsmodels/tools/_testing.py:19: FutureWarning: pandas.util.testing is deprecated. Use the functions in the public API at pandas.testing instead.\n",
            "  import pandas.util.testing as tm\n"
          ],
          "name": "stderr"
        }
      ]
    },
    {
      "cell_type": "code",
      "metadata": {
        "id": "PnupfxrCUqsm",
        "colab_type": "code",
        "colab": {}
      },
      "source": [
        "timeseries = feature_mean[\"acousticness\"]"
      ],
      "execution_count": 0,
      "outputs": []
    },
    {
      "cell_type": "code",
      "metadata": {
        "id": "vU2Omf6mUrVh",
        "colab_type": "code",
        "colab": {
          "base_uri": "https://localhost:8080/",
          "height": 34
        },
        "outputId": "3b105afe-6efc-437a-d695-3025531058aa"
      },
      "source": [
        "print(\"p-value:\", adfuller(timeseries.dropna())[1])"
      ],
      "execution_count": 14,
      "outputs": [
        {
          "output_type": "stream",
          "text": [
            "p-value: 0.43453119367672177\n"
          ],
          "name": "stdout"
        }
      ]
    },
    {
      "cell_type": "markdown",
      "metadata": {
        "id": "LMM0z_jtUt0H",
        "colab_type": "text"
      },
      "source": [
        "When we check Augmented Dickey Fuller (ADF) test, the time series is stationary."
      ]
    },
    {
      "cell_type": "markdown",
      "metadata": {
        "id": "-VROHkMGU5dE",
        "colab_type": "text"
      },
      "source": [
        "### Find a \"d\" value using autocorrelation."
      ]
    },
    {
      "cell_type": "code",
      "metadata": {
        "id": "IN812tlwUtJy",
        "colab_type": "code",
        "colab": {
          "base_uri": "https://localhost:8080/",
          "height": 610
        },
        "outputId": "c8a5c1ae-37e6-4f32-bac2-84d0670cb438"
      },
      "source": [
        "fig = plt.figure(figsize=(10,10))\n",
        "ax1 = fig.add_subplot(311)\n",
        "fig = plot_acf(timeseries, ax=ax1, title=\"Autocorrelation on Original Series\") \n",
        "ax2 = fig.add_subplot(312)\n",
        "fig = plot_acf(timeseries.diff().dropna(), ax=ax2, title=\"1st Order Differencing\")\n",
        "ax3 = fig.add_subplot(313)\n",
        "fig = plot_acf(timeseries.diff().diff().dropna(), ax=ax3, title=\"2nd Order Differencing\")"
      ],
      "execution_count": 15,
      "outputs": [
        {
          "output_type": "display_data",
          "data": {
            "image/png": "[encoded data removed]",
            "text/plain": [
              "<Figure size 720x720 with 3 Axes>"
            ]
          },
          "metadata": {
            "tags": []
          }
        }
      ]
    },
    {
      "cell_type": "markdown",
      "metadata": {
        "id": "dQbHQoDsVFct",
        "colab_type": "text"
      },
      "source": [
        "The timeseries is stationary at d = 1."
      ]
    },
    {
      "cell_type": "code",
      "metadata": {
        "id": "IbagdC7rVFIP",
        "colab_type": "code",
        "colab": {
          "base_uri": "https://localhost:8080/",
          "height": 284
        },
        "outputId": "70e37329-0f72-4def-a0c7-e0cdf6be18e3"
      },
      "source": [
        "plot_pacf(timeseries.diff().dropna(), lags=40) #knowing d=1 we apply diff() once\n",
        "plt.show()"
      ],
      "execution_count": 16,
      "outputs": [
        {
          "output_type": "display_data",
          "data": {
            "image/png": "[encoded data removed]",
            "text/plain": [
              "<Figure size 432x288 with 1 Axes>"
            ]
          },
          "metadata": {
            "tags": []
          }
        }
      ]
    },
    {
      "cell_type": "markdown",
      "metadata": {
        "id": "sWina1xiVSCm",
        "colab_type": "text"
      },
      "source": [
        "Lag 1 is above the significance level and so p = 1."
      ]
    },
    {
      "cell_type": "code",
      "metadata": {
        "id": "gcZF4MqcVBHG",
        "colab_type": "code",
        "colab": {
          "base_uri": "https://localhost:8080/",
          "height": 284
        },
        "outputId": "9f702b51-34a3-4d46-9fd3-b0c14e48b458"
      },
      "source": [
        "plot_acf(timeseries.diff().dropna())\n",
        "plt.show()"
      ],
      "execution_count": 17,
      "outputs": [
        {
          "output_type": "display_data",
          "data": {
            "image/png": "[encoded data removed]",
            "text/plain": [
              "<Figure size 432x288 with 1 Axes>"
            ]
          },
          "metadata": {
            "tags": []
          }
        }
      ]
    },
    {
      "cell_type": "markdown",
      "metadata": {
        "id": "zO6NrNARVdd5",
        "colab_type": "text"
      },
      "source": [
        "Lag 1 is above the significance level and so q = 1."
      ]
    },
    {
      "cell_type": "markdown",
      "metadata": {
        "id": "61b1iDLYVqFK",
        "colab_type": "text"
      },
      "source": [
        "### Our model"
      ]
    },
    {
      "cell_type": "code",
      "metadata": {
        "id": "tEdHaKX5VbaN",
        "colab_type": "code",
        "colab": {
          "base_uri": "https://localhost:8080/",
          "height": 351
        },
        "outputId": "603bdbf6-f84d-42f2-eb22-4537a644d0d6"
      },
      "source": [
        "model = ARIMA(timeseries, order=(1, 1, 1))\n",
        "results = model.fit()\n",
        "results.summary()"
      ],
      "execution_count": 18,
      "outputs": [
        {
          "output_type": "execute_result",
          "data": {
            "text/html": [
              "<table class=\"simpletable\">\n",
              "<caption>ARIMA Model Results</caption>\n",
              "<tr>\n",
              "  <th>Dep. Variable:</th>  <td>D.acousticness</td>  <th>  No. Observations:  </th>    <td>139</td>  \n",
              "</tr>\n",
              "<tr>\n",
              "  <th>Model:</th>          <td>ARIMA(1, 1, 1)</td>  <th>  Log Likelihood     </th>  <td>407.424</td>\n",
              "</tr>\n",
              "<tr>\n",
              "  <th>Method:</th>             <td>css-mle</td>     <th>  S.D. of innovations</th>   <td>0.013</td> \n",
              "</tr>\n",
              "<tr>\n",
              "  <th>Date:</th>          <td>Tue, 02 Jun 2020</td> <th>  AIC                </th> <td>-806.848</td>\n",
              "</tr>\n",
              "<tr>\n",
              "  <th>Time:</th>              <td>00:03:05</td>     <th>  BIC                </th> <td>-795.110</td>\n",
              "</tr>\n",
              "<tr>\n",
              "  <th>Sample:</th>           <td>01-15-2017</td>    <th>  HQIC               </th> <td>-802.078</td>\n",
              "</tr>\n",
              "<tr>\n",
              "  <th></th>                 <td>- 09-08-2019</td>   <th>                     </th>     <td> </td>   \n",
              "</tr>\n",
              "</table>\n",
              "<table class=\"simpletable\">\n",
              "<tr>\n",
              "            <td></td>              <th>coef</th>     <th>std err</th>      <th>z</th>      <th>P>|z|</th>  <th>[0.025</th>    <th>0.975]</th>  \n",
              "</tr>\n",
              "<tr>\n",
              "  <th>const</th>                <td>    0.0005</td> <td>    0.000</td> <td>    1.407</td> <td> 0.162</td> <td>   -0.000</td> <td>    0.001</td>\n",
              "</tr>\n",
              "<tr>\n",
              "  <th>ar.L1.D.acousticness</th> <td>    0.7630</td> <td>    0.141</td> <td>    5.427</td> <td> 0.000</td> <td>    0.487</td> <td>    1.039</td>\n",
              "</tr>\n",
              "<tr>\n",
              "  <th>ma.L1.D.acousticness</th> <td>   -0.9335</td> <td>    0.094</td> <td>   -9.967</td> <td> 0.000</td> <td>   -1.117</td> <td>   -0.750</td>\n",
              "</tr>\n",
              "</table>\n",
              "<table class=\"simpletable\">\n",
              "<caption>Roots</caption>\n",
              "<tr>\n",
              "    <td></td>   <th>            Real</th>  <th>         Imaginary</th> <th>         Modulus</th>  <th>        Frequency</th>\n",
              "</tr>\n",
              "<tr>\n",
              "  <th>AR.1</th> <td>           1.3106</td> <td>          +0.0000j</td> <td>           1.3106</td> <td>           0.0000</td>\n",
              "</tr>\n",
              "<tr>\n",
              "  <th>MA.1</th> <td>           1.0712</td> <td>          +0.0000j</td> <td>           1.0712</td> <td>           0.0000</td>\n",
              "</tr>\n",
              "</table>"
            ],
            "text/plain": [
              "<class 'statsmodels.iolib.summary.Summary'>\n",
              "\"\"\"\n",
              "                             ARIMA Model Results                              \n",
              "==============================================================================\n",
              "Dep. Variable:         D.acousticness   No. Observations:                  139\n",
              "Model:                 ARIMA(1, 1, 1)   Log Likelihood                 407.424\n",
              "Method:                       css-mle   S.D. of innovations              0.013\n",
              "Date:                Tue, 02 Jun 2020   AIC                           -806.848\n",
              "Time:                        00:03:05   BIC                           -795.110\n",
              "Sample:                    01-15-2017   HQIC                          -802.078\n",
              "                         - 09-08-2019                                         \n",
              "========================================================================================\n",
              "                           coef    std err          z      P>|z|      [0.025      0.975]\n",
              "----------------------------------------------------------------------------------------\n",
              "const                    0.0005      0.000      1.407      0.162      -0.000       0.001\n",
              "ar.L1.D.acousticness     0.7630      0.141      5.427      0.000       0.487       1.039\n",
              "ma.L1.D.acousticness    -0.9335      0.094     -9.967      0.000      -1.117      -0.750\n",
              "                                    Roots                                    \n",
              "=============================================================================\n",
              "                  Real          Imaginary           Modulus         Frequency\n",
              "-----------------------------------------------------------------------------\n",
              "AR.1            1.3106           +0.0000j            1.3106            0.0000\n",
              "MA.1            1.0712           +0.0000j            1.0712            0.0000\n",
              "-----------------------------------------------------------------------------\n",
              "\"\"\""
            ]
          },
          "metadata": {
            "tags": []
          },
          "execution_count": 18
        }
      ]
    },
    {
      "cell_type": "markdown",
      "metadata": {
        "id": "XcWira9JVve7",
        "colab_type": "text"
      },
      "source": [
        "The less AIC is, the better model is."
      ]
    },
    {
      "cell_type": "code",
      "metadata": {
        "id": "Bhh6OdYJVrkZ",
        "colab_type": "code",
        "colab": {
          "base_uri": "https://localhost:8080/",
          "height": 268
        },
        "outputId": "ac739a19-9f1e-49cd-eb26-abe774195bb4"
      },
      "source": [
        "graph = results.plot_predict(1, 210)\n",
        "plt.show()"
      ],
      "execution_count": 19,
      "outputs": [
        {
          "output_type": "display_data",
          "data": {
            "image/png": "[encoded data removed]",
            "text/plain": [
              "<Figure size 432x288 with 1 Axes>"
            ]
          },
          "metadata": {
            "tags": []
          }
        }
      ]
    },
    {
      "cell_type": "markdown",
      "metadata": {
        "id": "FBfppRWZV3a_",
        "colab_type": "text"
      },
      "source": [
        "## Auto ARIMA"
      ]
    },
    {
      "cell_type": "code",
      "metadata": {
        "id": "qXgJk3NFV148",
        "colab_type": "code",
        "colab": {
          "base_uri": "https://localhost:8080/",
          "height": 1000
        },
        "outputId": "016a737a-9235-4a43-f427-34197bc8ae2e"
      },
      "source": [
        "!pip install pmdarima\n",
        "import pmdarima as pm"
      ],
      "execution_count": 21,
      "outputs": [
        {
          "output_type": "stream",
          "text": [
            "Collecting pmdarima\n",
            "\u001b[?25l  Downloading https://files.pythonhosted.org/packages/4b/15/0dfc38deb2f5582b79baff6523b245d6a3dbe877e3fb96a1ee39ec63b626/pmdarima-1.6.1-cp36-cp36m-manylinux1_x86_64.whl (1.5MB)\n",
            "\u001b[K     |████████████████████████████████| 1.5MB 2.7MB/s \n",
            "\u001b[?25hRequirement already satisfied: urllib3 in /usr/local/lib/python3.6/dist-packages (from pmdarima) (1.24.3)\n",
            "Collecting Cython<0.29.18,>=0.29\n",
            "\u001b[?25l  Downloading https://files.pythonhosted.org/packages/e7/d7/510ddef0248f3e1e91f9cc7e31c0f35f8954d0af92c5c3fd4c853e859ebe/Cython-0.29.17-cp36-cp36m-manylinux1_x86_64.whl (2.1MB)\n",
            "\u001b[K     |████████████████████████████████| 2.1MB 13.1MB/s \n",
            "\u001b[?25hCollecting statsmodels>=0.11\n",
            "\u001b[?25l  Downloading https://files.pythonhosted.org/packages/cb/83/540fd83238a18abe6c2d280fa8e489ac5fcefa1f370f0ca1acd16ae1b860/statsmodels-0.11.1-cp36-cp36m-manylinux1_x86_64.whl (8.7MB)\n",
            "\u001b[K     |████████████████████████████████| 8.7MB 27.5MB/s \n",
            "\u001b[?25hRequirement already satisfied: scikit-learn>=0.22 in /usr/local/lib/python3.6/dist-packages (from pmdarima) (0.22.2.post1)\n",
            "Requirement already satisfied: numpy>=1.17.3 in /usr/local/lib/python3.6/dist-packages (from pmdarima) (1.18.4)\n",
            "Requirement already satisfied: joblib>=0.11 in /usr/local/lib/python3.6/dist-packages (from pmdarima) (0.15.1)\n",
            "Requirement already satisfied: pandas>=0.19 in /usr/local/lib/python3.6/dist-packages (from pmdarima) (1.0.3)\n",
            "Requirement already satisfied: scipy>=1.3.2 in /usr/local/lib/python3.6/dist-packages (from pmdarima) (1.4.1)\n",
            "Requirement already satisfied: patsy>=0.5 in /usr/local/lib/python3.6/dist-packages (from statsmodels>=0.11->pmdarima) (0.5.1)\n",
            "Requirement already satisfied: pytz>=2017.2 in /usr/local/lib/python3.6/dist-packages (from pandas>=0.19->pmdarima) (2018.9)\n",
            "Requirement already satisfied: python-dateutil>=2.6.1 in /usr/local/lib/python3.6/dist-packages (from pandas>=0.19->pmdarima) (2.8.1)\n",
            "Requirement already satisfied: six in /usr/local/lib/python3.6/dist-packages (from patsy>=0.5->statsmodels>=0.11->pmdarima) (1.12.0)\n",
            "Installing collected packages: Cython, statsmodels, pmdarima\n",
            "  Found existing installation: Cython 0.29.18\n",
            "    Uninstalling Cython-0.29.18:\n",
            "      Successfully uninstalled Cython-0.29.18\n",
            "  Found existing installation: statsmodels 0.10.2\n",
            "    Uninstalling statsmodels-0.10.2:\n",
            "      Successfully uninstalled statsmodels-0.10.2\n",
            "Successfully installed Cython-0.29.17 pmdarima-1.6.1 statsmodels-0.11.1\n"
          ],
          "name": "stdout"
        },
        {
          "output_type": "display_data",
          "data": {
            "application/vnd.colab-display-data+json": {
              "pip_warning": {
                "packages": [
                  "statsmodels"
                ]
              }
            }
          },
          "metadata": {
            "tags": []
          }
        },
        {
          "output_type": "error",
          "ename": "ImportError",
          "evalue": "ignored",
          "traceback": [
            "\u001b[0;31m---------------------------------------------------------------------------\u001b[0m",
            "\u001b[0;31mImportError\u001b[0m                               Traceback (most recent call last)",
            "\u001b[0;32m<ipython-input-21-d988a6a2fdf6>\u001b[0m in \u001b[0;36m<module>\u001b[0;34m()\u001b[0m\n\u001b[1;32m      1\u001b[0m \u001b[0mget_ipython\u001b[0m\u001b[0;34m(\u001b[0m\u001b[0;34m)\u001b[0m\u001b[0;34m.\u001b[0m\u001b[0msystem\u001b[0m\u001b[0;34m(\u001b[0m\u001b[0;34m'pip install pmdarima'\u001b[0m\u001b[0;34m)\u001b[0m\u001b[0;34m\u001b[0m\u001b[0;34m\u001b[0m\u001b[0m\n\u001b[0;32m----> 2\u001b[0;31m \u001b[0;32mimport\u001b[0m \u001b[0mpmdarima\u001b[0m \u001b[0;32mas\u001b[0m \u001b[0mpm\u001b[0m\u001b[0;34m\u001b[0m\u001b[0;34m\u001b[0m\u001b[0m\n\u001b[0m",
            "\u001b[0;32m/usr/local/lib/python3.6/dist-packages/pmdarima/__init__.py\u001b[0m in \u001b[0;36m<module>\u001b[0;34m()\u001b[0m\n\u001b[1;32m     47\u001b[0m \u001b[0;34m\u001b[0m\u001b[0m\n\u001b[1;32m     48\u001b[0m     \u001b[0;31m# Stuff we want at top-level\u001b[0m\u001b[0;34m\u001b[0m\u001b[0;34m\u001b[0m\u001b[0;34m\u001b[0m\u001b[0m\n\u001b[0;32m---> 49\u001b[0;31m     \u001b[0;32mfrom\u001b[0m \u001b[0;34m.\u001b[0m\u001b[0marima\u001b[0m \u001b[0;32mimport\u001b[0m \u001b[0mauto_arima\u001b[0m\u001b[0;34m,\u001b[0m \u001b[0mARIMA\u001b[0m\u001b[0;34m,\u001b[0m \u001b[0mAutoARIMA\u001b[0m\u001b[0;34m,\u001b[0m \u001b[0mStepwiseContext\u001b[0m\u001b[0;34m,\u001b[0m \u001b[0mdecompose\u001b[0m\u001b[0;34m\u001b[0m\u001b[0;34m\u001b[0m\u001b[0m\n\u001b[0m\u001b[1;32m     50\u001b[0m     \u001b[0;32mfrom\u001b[0m \u001b[0;34m.\u001b[0m\u001b[0mutils\u001b[0m \u001b[0;32mimport\u001b[0m \u001b[0macf\u001b[0m\u001b[0;34m,\u001b[0m \u001b[0mautocorr_plot\u001b[0m\u001b[0;34m,\u001b[0m \u001b[0mc\u001b[0m\u001b[0;34m,\u001b[0m \u001b[0mpacf\u001b[0m\u001b[0;34m,\u001b[0m \u001b[0mplot_acf\u001b[0m\u001b[0;34m,\u001b[0m \u001b[0mplot_pacf\u001b[0m\u001b[0;34m,\u001b[0m\u001b[0;31m \u001b[0m\u001b[0;31m\\\u001b[0m\u001b[0;34m\u001b[0m\u001b[0;34m\u001b[0m\u001b[0m\n\u001b[1;32m     51\u001b[0m         \u001b[0mtsdisplay\u001b[0m\u001b[0;34m\u001b[0m\u001b[0;34m\u001b[0m\u001b[0m\n",
            "\u001b[0;32m/usr/local/lib/python3.6/dist-packages/pmdarima/arima/__init__.py\u001b[0m in \u001b[0;36m<module>\u001b[0;34m()\u001b[0m\n\u001b[1;32m      4\u001b[0m \u001b[0;34m\u001b[0m\u001b[0m\n\u001b[1;32m      5\u001b[0m \u001b[0;32mfrom\u001b[0m \u001b[0;34m.\u001b[0m\u001b[0mapprox\u001b[0m \u001b[0;32mimport\u001b[0m \u001b[0;34m*\u001b[0m\u001b[0;34m\u001b[0m\u001b[0;34m\u001b[0m\u001b[0m\n\u001b[0;32m----> 6\u001b[0;31m \u001b[0;32mfrom\u001b[0m \u001b[0;34m.\u001b[0m\u001b[0marima\u001b[0m \u001b[0;32mimport\u001b[0m \u001b[0;34m*\u001b[0m\u001b[0;34m\u001b[0m\u001b[0;34m\u001b[0m\u001b[0m\n\u001b[0m\u001b[1;32m      7\u001b[0m \u001b[0;32mfrom\u001b[0m \u001b[0;34m.\u001b[0m\u001b[0mauto\u001b[0m \u001b[0;32mimport\u001b[0m \u001b[0;34m*\u001b[0m\u001b[0;34m\u001b[0m\u001b[0;34m\u001b[0m\u001b[0m\n\u001b[1;32m      8\u001b[0m \u001b[0;32mfrom\u001b[0m \u001b[0;34m.\u001b[0m\u001b[0mutils\u001b[0m \u001b[0;32mimport\u001b[0m \u001b[0;34m*\u001b[0m\u001b[0;34m\u001b[0m\u001b[0;34m\u001b[0m\u001b[0m\n",
            "\u001b[0;32m/usr/local/lib/python3.6/dist-packages/pmdarima/arima/arima.py\u001b[0m in \u001b[0;36m<module>\u001b[0;34m()\u001b[0m\n\u001b[1;32m     11\u001b[0m \u001b[0;34m\u001b[0m\u001b[0m\n\u001b[1;32m     12\u001b[0m \u001b[0;32mfrom\u001b[0m \u001b[0mstatsmodels\u001b[0m\u001b[0;34m.\u001b[0m\u001b[0mtsa\u001b[0m\u001b[0;34m.\u001b[0m\u001b[0mbase\u001b[0m\u001b[0;34m.\u001b[0m\u001b[0mtsa_model\u001b[0m \u001b[0;32mimport\u001b[0m \u001b[0mTimeSeriesModelResults\u001b[0m\u001b[0;34m\u001b[0m\u001b[0;34m\u001b[0m\u001b[0m\n\u001b[0;32m---> 13\u001b[0;31m \u001b[0;32mfrom\u001b[0m \u001b[0mstatsmodels\u001b[0m \u001b[0;32mimport\u001b[0m \u001b[0mapi\u001b[0m \u001b[0;32mas\u001b[0m \u001b[0msm\u001b[0m\u001b[0;34m\u001b[0m\u001b[0;34m\u001b[0m\u001b[0m\n\u001b[0m\u001b[1;32m     14\u001b[0m \u001b[0;34m\u001b[0m\u001b[0m\n\u001b[1;32m     15\u001b[0m \u001b[0;32mfrom\u001b[0m \u001b[0mscipy\u001b[0m\u001b[0;34m.\u001b[0m\u001b[0mstats\u001b[0m \u001b[0;32mimport\u001b[0m \u001b[0mgaussian_kde\u001b[0m\u001b[0;34m,\u001b[0m \u001b[0mnorm\u001b[0m\u001b[0;34m\u001b[0m\u001b[0;34m\u001b[0m\u001b[0m\n",
            "\u001b[0;32m/usr/local/lib/python3.6/dist-packages/statsmodels/api.py\u001b[0m in \u001b[0;36m<module>\u001b[0;34m()\u001b[0m\n\u001b[1;32m      9\u001b[0m \u001b[0;32mfrom\u001b[0m \u001b[0;34m.\u001b[0m \u001b[0;32mimport\u001b[0m \u001b[0mregression\u001b[0m\u001b[0;34m\u001b[0m\u001b[0;34m\u001b[0m\u001b[0m\n\u001b[1;32m     10\u001b[0m \u001b[0;32mfrom\u001b[0m \u001b[0;34m.\u001b[0m\u001b[0mregression\u001b[0m\u001b[0;34m.\u001b[0m\u001b[0mlinear_model\u001b[0m \u001b[0;32mimport\u001b[0m \u001b[0mOLS\u001b[0m\u001b[0;34m,\u001b[0m \u001b[0mGLS\u001b[0m\u001b[0;34m,\u001b[0m \u001b[0mWLS\u001b[0m\u001b[0;34m,\u001b[0m \u001b[0mGLSAR\u001b[0m\u001b[0;34m\u001b[0m\u001b[0;34m\u001b[0m\u001b[0m\n\u001b[0;32m---> 11\u001b[0;31m \u001b[0;32mfrom\u001b[0m \u001b[0;34m.\u001b[0m\u001b[0mregression\u001b[0m\u001b[0;34m.\u001b[0m\u001b[0mrecursive_ls\u001b[0m \u001b[0;32mimport\u001b[0m \u001b[0mRecursiveLS\u001b[0m\u001b[0;34m\u001b[0m\u001b[0;34m\u001b[0m\u001b[0m\n\u001b[0m\u001b[1;32m     12\u001b[0m \u001b[0;32mfrom\u001b[0m \u001b[0;34m.\u001b[0m\u001b[0mregression\u001b[0m\u001b[0;34m.\u001b[0m\u001b[0mquantile_regression\u001b[0m \u001b[0;32mimport\u001b[0m \u001b[0mQuantReg\u001b[0m\u001b[0;34m\u001b[0m\u001b[0;34m\u001b[0m\u001b[0m\n\u001b[1;32m     13\u001b[0m \u001b[0;32mfrom\u001b[0m \u001b[0;34m.\u001b[0m\u001b[0mregression\u001b[0m\u001b[0;34m.\u001b[0m\u001b[0mmixed_linear_model\u001b[0m \u001b[0;32mimport\u001b[0m \u001b[0mMixedLM\u001b[0m\u001b[0;34m\u001b[0m\u001b[0;34m\u001b[0m\u001b[0m\n",
            "\u001b[0;32m/usr/local/lib/python3.6/dist-packages/statsmodels/regression/recursive_ls.py\u001b[0m in \u001b[0;36m<module>\u001b[0;34m()\u001b[0m\n\u001b[1;32m      9\u001b[0m \u001b[0;32mimport\u001b[0m \u001b[0mpandas\u001b[0m \u001b[0;32mas\u001b[0m \u001b[0mpd\u001b[0m\u001b[0;34m\u001b[0m\u001b[0;34m\u001b[0m\u001b[0m\n\u001b[1;32m     10\u001b[0m \u001b[0;34m\u001b[0m\u001b[0m\n\u001b[0;32m---> 11\u001b[0;31m \u001b[0;32mfrom\u001b[0m \u001b[0mstatsmodels\u001b[0m\u001b[0;34m.\u001b[0m\u001b[0mcompat\u001b[0m\u001b[0;34m.\u001b[0m\u001b[0mpandas\u001b[0m \u001b[0;32mimport\u001b[0m \u001b[0mAppender\u001b[0m\u001b[0;34m\u001b[0m\u001b[0;34m\u001b[0m\u001b[0m\n\u001b[0m\u001b[1;32m     12\u001b[0m \u001b[0;34m\u001b[0m\u001b[0m\n\u001b[1;32m     13\u001b[0m \u001b[0;32mfrom\u001b[0m \u001b[0mstatsmodels\u001b[0m\u001b[0;34m.\u001b[0m\u001b[0mtools\u001b[0m\u001b[0;34m.\u001b[0m\u001b[0mdata\u001b[0m \u001b[0;32mimport\u001b[0m \u001b[0m_is_using_pandas\u001b[0m\u001b[0;34m\u001b[0m\u001b[0;34m\u001b[0m\u001b[0m\n",
            "\u001b[0;31mImportError\u001b[0m: cannot import name 'Appender'",
            "",
            "\u001b[0;31m---------------------------------------------------------------------------\u001b[0;32m\nNOTE: If your import is failing due to a missing package, you can\nmanually install dependencies using either !pip or !apt.\n\nTo view examples of installing some common dependencies, click the\n\"Open Examples\" button below.\n\u001b[0;31m---------------------------------------------------------------------------\u001b[0m\n"
          ]
        }
      ]
    },
    {
      "cell_type": "code",
      "metadata": {
        "id": "qIfb3-iSV7fl",
        "colab_type": "code",
        "colab": {}
      },
      "source": [
        "def arimamodel(timeseries):\n",
        "    automodel = pm.auto_arima(timeseries, \n",
        "                              start_p=1, \n",
        "                              start_q=1,\n",
        "                              test=\"adf\",\n",
        "                              seasonal=False,\n",
        "                              trace=True)\n",
        "    return automodel"
      ],
      "execution_count": 0,
      "outputs": []
    },
    {
      "cell_type": "code",
      "metadata": {
        "id": "ratUW-xEWDNa",
        "colab_type": "code",
        "colab": {}
      },
      "source": [
        "def plotarima(n_periods, timeseries, automodel):\n",
        "    # Forecast\n",
        "    fc, confint = automodel.predict(n_periods=n_periods, return_conf_int=True)\n",
        "    # Weekly index\n",
        "    fc_ind = pd.date_range(timeseries.index[timeseries.shape[0]-1], periods=n_periods, freq=\"W\")\n",
        "    # Forecast series\n",
        "    fc_series = pd.Series(fc, index=fc_ind)\n",
        "    # Upper and lower confidence bounds\n",
        "    lower_series = pd.Series(confint[:, 0], index=fc_ind)\n",
        "    upper_series = pd.Series(confint[:, 1], index=fc_ind)\n",
        "    # Create plot\n",
        "    plt.figure(figsize=(10, 6))\n",
        "    plt.plot(timeseries)\n",
        "    plt.plot(fc_series, color=\"red\")\n",
        "    plt.xlabel(\"date\")\n",
        "    plt.ylabel(timeseries.name)\n",
        "    plt.fill_between(lower_series.index, \n",
        "                     lower_series, \n",
        "                     upper_series, \n",
        "                     color=\"k\", alpha=.25)\n",
        "    plt.legend((\"past\", \"forecast\", \"95% confidence interval\"), loc=\"upper left\")\n",
        "    plt.show()"
      ],
      "execution_count": 0,
      "outputs": []
    }
  ]
}