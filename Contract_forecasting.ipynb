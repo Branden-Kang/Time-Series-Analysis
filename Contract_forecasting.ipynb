{
  "nbformat": 4,
  "nbformat_minor": 0,
  "metadata": {
    "colab": {
      "provenance": [],
      "authorship_tag": "ABX9TyO/d1CY2G1g/RsQCAwJBgBH"
    },
    "kernelspec": {
      "name": "python3",
      "display_name": "Python 3"
    },
    "language_info": {
      "name": "python"
    }
  },
  "cells": [
    {
      "cell_type": "markdown",
      "source": [
        "# 시계열 분석"
      ],
      "metadata": {
        "id": "vo-LfxUNwg25"
      }
    },
    {
      "cell_type": "markdown",
      "source": [
        "```sql\n",
        "-- 1.1. 월별 계약 발생 건수 집계\n",
        "-- 월별 계약 발생 건수\n",
        "SELECT\n",
        "    DATE_TRUNC('month', issue_date) AS month,\n",
        "    COUNT(*) AS contract_issued\n",
        "FROM contract_basic\n",
        "GROUP BY DATE_TRUNC('month', issue_date)\n",
        "ORDER BY month;\n",
        "\n",
        "-- 1.2. 월별 계약 종료 건수 집계\n",
        "-- 월별 계약 종료 건수\n",
        "SELECT\n",
        "    DATE_TRUNC('month', expiry_date) AS month,\n",
        "    COUNT(*) AS contract_expired\n",
        "FROM contract_basic\n",
        "WHERE expiry_date IS NOT NULL\n",
        "GROUP BY DATE_TRUNC('month', expiry_date)\n",
        "ORDER BY month;\n",
        "\n",
        "-- 1.3. 발생 및 종료 건수를 통합\n",
        "-- 계약 발생 및 종료 건수 통합\n",
        "WITH issued AS (\n",
        "    SELECT\n",
        "        DATE_TRUNC('month', issue_date) AS month,\n",
        "        COUNT(*) AS contract_issued\n",
        "    FROM contract_basic\n",
        "    GROUP BY DATE_TRUNC('month', issue_date)\n",
        "),\n",
        "expired AS (\n",
        "    SELECT\n",
        "        DATE_TRUNC('month', expiry_date) AS month,\n",
        "        COUNT(*) AS contract_expired\n",
        "    FROM contract_basic\n",
        "    WHERE expiry_date IS NOT NULL\n",
        "    GROUP BY DATE_TRUNC('month', expiry_date)\n",
        ")\n",
        "SELECT\n",
        "    COALESCE(issued.month, expired.month) AS month,\n",
        "    COALESCE(contract_issued, 0) AS contract_issued,\n",
        "    COALESCE(contract_expired, 0) AS contract_expired\n",
        "FROM issued\n",
        "FULL OUTER JOIN expired\n",
        "ON issued.month = expired.month\n",
        "ORDER BY month;\n",
        "```"
      ],
      "metadata": {
        "id": "S7tGgxAJwpJY"
      }
    },
    {
      "cell_type": "code",
      "execution_count": null,
      "metadata": {
        "id": "aRkh0BD5vHgt"
      },
      "outputs": [],
      "source": [
        "import pandas as pd\n",
        "import matplotlib.pyplot as plt\n",
        "from prophet import Prophet\n",
        "\n",
        "# 데이터 로드\n",
        "data = pd.read_csv('contract_trends.csv')  # SQL 쿼리 결과 파일\n",
        "data['month'] = pd.to_datetime(data['month'])\n",
        "\n",
        "# 계약 발생 및 종료 시각화\n",
        "plt.figure(figsize=(12, 6))\n",
        "plt.plot(data['month'], data['contract_issued'], label='Contracts Issued', marker='o')\n",
        "plt.plot(data['month'], data['contract_expired'], label='Contracts Expired', marker='x')\n",
        "plt.title('Contract Trends Over Time')\n",
        "plt.xlabel('Month')\n",
        "plt.ylabel('Number of Contracts')\n",
        "plt.legend()\n",
        "plt.grid()\n",
        "plt.show()\n",
        "\n",
        "# Prophet 모델 적용 (계약 발생 예측)\n",
        "issued = data[['month', 'contract_issued']].rename(columns={'month': 'ds', 'contract_issued': 'y'})\n",
        "model = Prophet()\n",
        "model.fit(issued)\n",
        "\n",
        "# 미래 데이터 프레임 생성 및 예측\n",
        "future = model.make_future_dataframe(periods=12, freq='M')\n",
        "forecast = model.predict(future)\n",
        "\n",
        "# 예측 시각화\n",
        "fig = model.plot(forecast)\n",
        "plt.title('Forecast of Contracts Issued')\n",
        "plt.show()\n"
      ]
    },
    {
      "cell_type": "markdown",
      "source": [
        "결과 해석\n",
        "* 시각화 결과: 월별 계약 발생 및 종료 추세를 명확히 확인할 수 있습니다.\n",
        "* 예측 결과: Prophet 모델을 통해 향후 12개월 동안 계약 발생 건수를 예측.\n",
        "* 응용 가능성:\n",
        "    * 비즈니스 전략: 계약 증가/감소 시기에 따른 마케팅 및 운영 계획 조정.\n",
        "    * 리소스 할당: 계약 종료 증가 시점에 리소스를 집중적으로 배치."
      ],
      "metadata": {
        "id": "-mAmaZu3w2Z1"
      }
    },
    {
      "cell_type": "markdown",
      "source": [
        "# 1. 계절성 분석\n",
        "계약이 특정 시점(예: 분기, 연말)에 집중되는지 확인하여 마케팅 및 운영 전략에 활용합니다."
      ],
      "metadata": {
        "id": "pA58msz1vP8x"
      }
    },
    {
      "cell_type": "markdown",
      "source": [
        "```sql\n",
        "-- 분기별 계약 발생 건수\n",
        "SELECT\n",
        "    CONCAT(YEAR(issue_date), ' Q', QUARTER(issue_date)) AS quarter,\n",
        "    COUNT(*) AS contract_issued\n",
        "FROM contract_basic\n",
        "GROUP BY YEAR(issue_date), QUARTER(issue_date)\n",
        "ORDER BY quarter;\n",
        "\n",
        "-- 월별 계약 발생 평균\n",
        "SELECT\n",
        "    MONTH(issue_date) AS month,\n",
        "    COUNT(*) AS contract_issued\n",
        "FROM contract_basic\n",
        "GROUP BY MONTH(issue_date)\n",
        "ORDER BY month;\n",
        "```"
      ],
      "metadata": {
        "id": "4oUiGx2hw-UV"
      }
    },
    {
      "cell_type": "code",
      "source": [
        "import pandas as pd\n",
        "import matplotlib.pyplot as plt\n",
        "\n",
        "# 데이터 로드\n",
        "data = pd.read_csv('contract_trends.csv')\n",
        "data['month'] = pd.to_datetime(data['month'])\n",
        "data['quarter'] = data['month'].dt.to_period('Q')\n",
        "\n",
        "# 분기별 계약 건수 집계\n",
        "quarterly_data = data.groupby('quarter')['contract_issued'].sum()\n",
        "\n",
        "# 시각화\n",
        "plt.figure(figsize=(10, 5))\n",
        "quarterly_data.plot(kind='bar', color='skyblue', edgecolor='black')\n",
        "plt.title('Contracts Issued by Quarter')\n",
        "plt.ylabel('Number of Contracts')\n",
        "plt.xlabel('Quarter')\n",
        "plt.grid(axis='y')\n",
        "plt.show()\n"
      ],
      "metadata": {
        "id": "PiiSONXfvKD_"
      },
      "execution_count": null,
      "outputs": []
    },
    {
      "cell_type": "markdown",
      "source": [
        "# 2. 지역별 분석\n",
        "지역별 계약 발생 및 종료를 분석하여 시장 성과를 평가합니다."
      ],
      "metadata": {
        "id": "ub-6gzbEv0Rl"
      }
    },
    {
      "cell_type": "markdown",
      "source": [
        "```sql\n",
        "-- 지역별 계약 발생 건수\n",
        "SELECT\n",
        "    region_code,\n",
        "    COUNT(*) AS contract_issued\n",
        "FROM contract_basic\n",
        "GROUP BY region_code\n",
        "ORDER BY contract_issued DESC;\n",
        "```"
      ],
      "metadata": {
        "id": "lcEBwtaMxkmE"
      }
    },
    {
      "cell_type": "code",
      "source": [
        "region_data = data.groupby('org_code')['contract_issued'].sum()\n",
        "\n",
        "# 시각화\n",
        "plt.figure(figsize=(12, 6))\n",
        "region_data.sort_values().plot(kind='barh', color='orange', edgecolor='black')\n",
        "plt.title('Contracts Issued by Region')\n",
        "plt.xlabel('Number of Contracts')\n",
        "plt.ylabel('Region')\n",
        "plt.grid(axis='x')\n",
        "plt.show()"
      ],
      "metadata": {
        "id": "ooQUVQcAv2-9"
      },
      "execution_count": null,
      "outputs": []
    },
    {
      "cell_type": "markdown",
      "source": [
        "# 3. 고객 세분화와 행동 분석\n",
        "가입자 행동 패턴(대면/CM/TM)을 분석하여 사용자 선호도를 파악합니다."
      ],
      "metadata": {
        "id": "RgqaWQzwwMdZ"
      }
    },
    {
      "cell_type": "markdown",
      "source": [
        "```sql\n",
        "-- 채널별 계약 건수\n",
        "SELECT\n",
        "    insurance_type_code, -- 예: 대면, CM, TM\n",
        "    COUNT(*) AS contract_issued\n",
        "FROM contract_basic\n",
        "GROUP BY insurance_type_code\n",
        "ORDER BY contract_issued DESC;\n",
        "```"
      ],
      "metadata": {
        "id": "naCPq23Sxui4"
      }
    },
    {
      "cell_type": "code",
      "source": [
        "channel_data = data.groupby('insurance_type_code')['contract_issued'].sum()\n",
        "\n",
        "# 시각화\n",
        "plt.figure(figsize=(8, 4))\n",
        "channel_data.plot(kind='pie', autopct='%1.1f%%', startangle=90, colors=['#ff9999','#66b3ff','#99ff99'])\n",
        "plt.title('Contracts by Channel')\n",
        "plt.ylabel('')\n",
        "plt.show()"
      ],
      "metadata": {
        "id": "oBVEzYGxwO2Z"
      },
      "execution_count": null,
      "outputs": []
    },
    {
      "cell_type": "markdown",
      "source": [
        "# 4. 예측 분석\n",
        "계약 건수의 향후 추세를 예측하여 전략적 의사결정을 지원합니다."
      ],
      "metadata": {
        "id": "smRjeWyJwT8L"
      }
    },
    {
      "cell_type": "code",
      "source": [
        "from prophet import Prophet\n",
        "\n",
        "# Prophet 모델 초기화\n",
        "model = Prophet()\n",
        "issued_data = data[['month', 'contract_issued']].rename(columns={'month': 'ds', 'contract_issued': 'y'})\n",
        "model.fit(issued_data)\n",
        "\n",
        "# 예측 및 시각화\n",
        "future = model.make_future_dataframe(periods=12, freq='M')\n",
        "forecast = model.predict(future)\n",
        "model.plot(forecast)\n",
        "plt.title('Forecast of Contract Issued')\n",
        "plt.show()\n"
      ],
      "metadata": {
        "id": "L6GpbLtNwWIt"
      },
      "execution_count": null,
      "outputs": []
    },
    {
      "cell_type": "markdown",
      "source": [
        "해석: 예측 결과를 기반으로 향후 계약 발생 증가 시기에 대비한 리소스 배분 계획을 수립할 수 있습니다."
      ],
      "metadata": {
        "id": "IcqIRgYNwaEh"
      }
    }
  ]
}