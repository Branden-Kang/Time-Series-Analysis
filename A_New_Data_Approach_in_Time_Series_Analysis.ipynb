{
  "nbformat": 4,
  "nbformat_minor": 0,
  "metadata": {
    "colab": {
      "name": "A New Data Approach in Time Series Analysis.ipynb",
      "provenance": [],
      "collapsed_sections": [],
      "authorship_tag": "ABX9TyPa8g3h5/r6yXcYc86Mrzd4"
    },
    "kernelspec": {
      "name": "python3",
      "display_name": "Python 3"
    },
    "language_info": {
      "name": "python"
    }
  },
  "cells": [
    {
      "cell_type": "markdown",
      "source": [
        "[Reference](https://jchiang1225.medium.com/a-new-data-approach-in-time-series-analysis-2d6c97f209cd)"
      ],
      "metadata": {
        "id": "Sae7yEFhoS3B"
      }
    },
    {
      "cell_type": "code",
      "source": [
        "pip install time-series-transform"
      ],
      "metadata": {
        "colab": {
          "base_uri": "https://localhost:8080/",
          "height": 1000
        },
        "id": "_LiRZ6kHoY4r",
        "outputId": "72c874b2-181c-4ba7-8d3e-98f160028777"
      },
      "execution_count": 1,
      "outputs": [
        {
          "output_type": "stream",
          "name": "stdout",
          "text": [
            "Looking in indexes: https://pypi.org/simple, https://us-python.pkg.dev/colab-wheels/public/simple/\n",
            "Collecting time-series-transform\n",
            "  Downloading time_series_transform-1.1.3.tar.gz (66 kB)\n",
            "\u001b[K     |████████████████████████████████| 66 kB 2.1 MB/s \n",
            "\u001b[?25hRequirement already satisfied: numpy in /usr/local/lib/python3.7/dist-packages (from time-series-transform) (1.21.6)\n",
            "Requirement already satisfied: pandas in /usr/local/lib/python3.7/dist-packages (from time-series-transform) (1.3.5)\n",
            "Requirement already satisfied: pyarrow in /usr/local/lib/python3.7/dist-packages (from time-series-transform) (6.0.1)\n",
            "Collecting yfinance\n",
            "  Downloading yfinance-0.1.70-py2.py3-none-any.whl (26 kB)\n",
            "Requirement already satisfied: scipy in /usr/local/lib/python3.7/dist-packages (from time-series-transform) (1.4.1)\n",
            "Requirement already satisfied: PyWavelets in /usr/local/lib/python3.7/dist-packages (from time-series-transform) (1.3.0)\n",
            "Requirement already satisfied: Sphinx in /usr/local/lib/python3.7/dist-packages (from time-series-transform) (1.8.6)\n",
            "Collecting rinohtype\n",
            "  Downloading rinohtype-0.5.3-py3-none-any.whl (603 kB)\n",
            "\u001b[K     |████████████████████████████████| 603 kB 24.0 MB/s \n",
            "\u001b[?25hCollecting nbsphinx\n",
            "  Downloading nbsphinx-0.8.8-py3-none-any.whl (25 kB)\n",
            "Collecting pytest-dependency\n",
            "  Downloading pytest-dependency-0.5.1.tar.gz (27 kB)\n",
            "Requirement already satisfied: matplotlib in /usr/local/lib/python3.7/dist-packages (from time-series-transform) (3.2.2)\n",
            "Requirement already satisfied: sklearn in /usr/local/lib/python3.7/dist-packages (from time-series-transform) (0.0)\n",
            "Requirement already satisfied: joblib in /usr/local/lib/python3.7/dist-packages (from time-series-transform) (1.1.0)\n",
            "Requirement already satisfied: python-dateutil>=2.1 in /usr/local/lib/python3.7/dist-packages (from matplotlib->time-series-transform) (2.8.2)\n",
            "Requirement already satisfied: pyparsing!=2.0.4,!=2.1.2,!=2.1.6,>=2.0.1 in /usr/local/lib/python3.7/dist-packages (from matplotlib->time-series-transform) (3.0.9)\n",
            "Requirement already satisfied: kiwisolver>=1.0.1 in /usr/local/lib/python3.7/dist-packages (from matplotlib->time-series-transform) (1.4.2)\n",
            "Requirement already satisfied: cycler>=0.10 in /usr/local/lib/python3.7/dist-packages (from matplotlib->time-series-transform) (0.11.0)\n",
            "Requirement already satisfied: typing-extensions in /usr/local/lib/python3.7/dist-packages (from kiwisolver>=1.0.1->matplotlib->time-series-transform) (4.2.0)\n",
            "Requirement already satisfied: six>=1.5 in /usr/local/lib/python3.7/dist-packages (from python-dateutil>=2.1->matplotlib->time-series-transform) (1.15.0)\n",
            "Requirement already satisfied: nbformat in /usr/local/lib/python3.7/dist-packages (from nbsphinx->time-series-transform) (5.4.0)\n",
            "Requirement already satisfied: jinja2 in /usr/local/lib/python3.7/dist-packages (from nbsphinx->time-series-transform) (2.11.3)\n",
            "Requirement already satisfied: nbconvert!=5.4 in /usr/local/lib/python3.7/dist-packages (from nbsphinx->time-series-transform) (5.6.1)\n",
            "Requirement already satisfied: docutils in /usr/local/lib/python3.7/dist-packages (from nbsphinx->time-series-transform) (0.17.1)\n",
            "Requirement already satisfied: traitlets in /usr/local/lib/python3.7/dist-packages (from nbsphinx->time-series-transform) (5.1.1)\n",
            "Requirement already satisfied: pandocfilters>=1.4.1 in /usr/local/lib/python3.7/dist-packages (from nbconvert!=5.4->nbsphinx->time-series-transform) (1.5.0)\n",
            "Requirement already satisfied: mistune<2,>=0.8.1 in /usr/local/lib/python3.7/dist-packages (from nbconvert!=5.4->nbsphinx->time-series-transform) (0.8.4)\n",
            "Requirement already satisfied: entrypoints>=0.2.2 in /usr/local/lib/python3.7/dist-packages (from nbconvert!=5.4->nbsphinx->time-series-transform) (0.4)\n",
            "Requirement already satisfied: testpath in /usr/local/lib/python3.7/dist-packages (from nbconvert!=5.4->nbsphinx->time-series-transform) (0.6.0)\n",
            "Requirement already satisfied: pygments in /usr/local/lib/python3.7/dist-packages (from nbconvert!=5.4->nbsphinx->time-series-transform) (2.6.1)\n",
            "Requirement already satisfied: bleach in /usr/local/lib/python3.7/dist-packages (from nbconvert!=5.4->nbsphinx->time-series-transform) (5.0.0)\n",
            "Requirement already satisfied: defusedxml in /usr/local/lib/python3.7/dist-packages (from nbconvert!=5.4->nbsphinx->time-series-transform) (0.7.1)\n",
            "Requirement already satisfied: jupyter-core in /usr/local/lib/python3.7/dist-packages (from nbconvert!=5.4->nbsphinx->time-series-transform) (4.10.0)\n",
            "Requirement already satisfied: MarkupSafe>=0.23 in /usr/local/lib/python3.7/dist-packages (from jinja2->nbsphinx->time-series-transform) (2.0.1)\n",
            "Requirement already satisfied: jsonschema>=2.6 in /usr/local/lib/python3.7/dist-packages (from nbformat->nbsphinx->time-series-transform) (4.3.3)\n",
            "Requirement already satisfied: fastjsonschema in /usr/local/lib/python3.7/dist-packages (from nbformat->nbsphinx->time-series-transform) (2.15.3)\n",
            "Requirement already satisfied: pyrsistent!=0.17.0,!=0.17.1,!=0.17.2,>=0.14.0 in /usr/local/lib/python3.7/dist-packages (from jsonschema>=2.6->nbformat->nbsphinx->time-series-transform) (0.18.1)\n",
            "Requirement already satisfied: importlib-metadata in /usr/local/lib/python3.7/dist-packages (from jsonschema>=2.6->nbformat->nbsphinx->time-series-transform) (4.11.3)\n",
            "Requirement already satisfied: attrs>=17.4.0 in /usr/local/lib/python3.7/dist-packages (from jsonschema>=2.6->nbformat->nbsphinx->time-series-transform) (21.4.0)\n",
            "Requirement already satisfied: importlib-resources>=1.4.0 in /usr/local/lib/python3.7/dist-packages (from jsonschema>=2.6->nbformat->nbsphinx->time-series-transform) (5.7.1)\n",
            "Requirement already satisfied: zipp>=3.1.0 in /usr/local/lib/python3.7/dist-packages (from importlib-resources>=1.4.0->jsonschema>=2.6->nbformat->nbsphinx->time-series-transform) (3.8.0)\n",
            "Requirement already satisfied: requests>=2.0.0 in /usr/local/lib/python3.7/dist-packages (from Sphinx->time-series-transform) (2.23.0)\n",
            "Requirement already satisfied: alabaster<0.8,>=0.7 in /usr/local/lib/python3.7/dist-packages (from Sphinx->time-series-transform) (0.7.12)\n",
            "Requirement already satisfied: imagesize in /usr/local/lib/python3.7/dist-packages (from Sphinx->time-series-transform) (1.3.0)\n",
            "Requirement already satisfied: sphinxcontrib-websupport in /usr/local/lib/python3.7/dist-packages (from Sphinx->time-series-transform) (1.2.4)\n",
            "Requirement already satisfied: setuptools in /usr/local/lib/python3.7/dist-packages (from Sphinx->time-series-transform) (57.4.0)\n",
            "Requirement already satisfied: babel!=2.0,>=1.3 in /usr/local/lib/python3.7/dist-packages (from Sphinx->time-series-transform) (2.10.1)\n",
            "Requirement already satisfied: snowballstemmer>=1.1 in /usr/local/lib/python3.7/dist-packages (from Sphinx->time-series-transform) (2.2.0)\n",
            "Requirement already satisfied: packaging in /usr/local/lib/python3.7/dist-packages (from Sphinx->time-series-transform) (21.3)\n",
            "Requirement already satisfied: pytz>=2015.7 in /usr/local/lib/python3.7/dist-packages (from babel!=2.0,>=1.3->Sphinx->time-series-transform) (2022.1)\n",
            "Requirement already satisfied: idna<3,>=2.5 in /usr/local/lib/python3.7/dist-packages (from requests>=2.0.0->Sphinx->time-series-transform) (2.10)\n",
            "Requirement already satisfied: urllib3!=1.25.0,!=1.25.1,<1.26,>=1.21.1 in /usr/local/lib/python3.7/dist-packages (from requests>=2.0.0->Sphinx->time-series-transform) (1.24.3)\n",
            "Requirement already satisfied: certifi>=2017.4.17 in /usr/local/lib/python3.7/dist-packages (from requests>=2.0.0->Sphinx->time-series-transform) (2022.5.18.1)\n",
            "Requirement already satisfied: chardet<4,>=3.0.2 in /usr/local/lib/python3.7/dist-packages (from requests>=2.0.0->Sphinx->time-series-transform) (3.0.4)\n",
            "Requirement already satisfied: webencodings in /usr/local/lib/python3.7/dist-packages (from bleach->nbconvert!=5.4->nbsphinx->time-series-transform) (0.5.1)\n",
            "Requirement already satisfied: pytest>=3.6.0 in /usr/local/lib/python3.7/dist-packages (from pytest-dependency->time-series-transform) (3.6.4)\n",
            "Requirement already satisfied: atomicwrites>=1.0 in /usr/local/lib/python3.7/dist-packages (from pytest>=3.6.0->pytest-dependency->time-series-transform) (1.4.0)\n",
            "Requirement already satisfied: more-itertools>=4.0.0 in /usr/local/lib/python3.7/dist-packages (from pytest>=3.6.0->pytest-dependency->time-series-transform) (8.13.0)\n",
            "Requirement already satisfied: pluggy<0.8,>=0.5 in /usr/local/lib/python3.7/dist-packages (from pytest>=3.6.0->pytest-dependency->time-series-transform) (0.7.1)\n",
            "Requirement already satisfied: py>=1.5.0 in /usr/local/lib/python3.7/dist-packages (from pytest>=3.6.0->pytest-dependency->time-series-transform) (1.11.0)\n",
            "Collecting Sphinx\n",
            "  Downloading Sphinx-5.0.0-py3-none-any.whl (3.1 MB)\n",
            "\u001b[K     |████████████████████████████████| 3.1 MB 40.3 MB/s \n",
            "\u001b[?25hCollecting rinoh-typeface-texgyrecursor<0.2.0,>=0.1.1\n",
            "  Downloading rinoh_typeface_texgyrecursor-0.1.1-py3-none-any.whl (242 kB)\n",
            "\u001b[K     |████████████████████████████████| 242 kB 11.0 MB/s \n",
            "\u001b[?25hCollecting recommonmark>=0.6.0\n",
            "  Downloading recommonmark-0.7.1-py2.py3-none-any.whl (10 kB)\n",
            "Collecting rinoh-typeface-dejavuserif<0.2.0,>=0.1.3\n",
            "  Downloading rinoh_typeface_dejavuserif-0.1.3-py3-none-any.whl (1.7 MB)\n",
            "\u001b[K     |████████████████████████████████| 1.7 MB 37.8 MB/s \n",
            "\u001b[?25hCollecting rinoh-typeface-texgyrepagella<0.2.0,>=0.1.1\n",
            "  Downloading rinoh_typeface_texgyrepagella-0.1.1-py3-none-any.whl (321 kB)\n",
            "\u001b[K     |████████████████████████████████| 321 kB 36.5 MB/s \n",
            "\u001b[?25hCollecting rinoh-typeface-texgyreheros<0.2.0,>=0.1.1\n",
            "  Downloading rinoh_typeface_texgyreheros-0.1.1-py3-none-any.whl (523 kB)\n",
            "\u001b[K     |████████████████████████████████| 523 kB 41.1 MB/s \n",
            "\u001b[?25hRequirement already satisfied: appdirs<2.0.0,>=1.4.3 in /usr/local/lib/python3.7/dist-packages (from rinohtype->time-series-transform) (1.4.4)\n",
            "Collecting commonmark>=0.8.1\n",
            "  Downloading commonmark-0.9.1-py2.py3-none-any.whl (51 kB)\n",
            "\u001b[K     |████████████████████████████████| 51 kB 8.1 MB/s \n",
            "\u001b[?25hCollecting sphinxcontrib-devhelp\n",
            "  Downloading sphinxcontrib_devhelp-1.0.2-py2.py3-none-any.whl (84 kB)\n",
            "\u001b[K     |████████████████████████████████| 84 kB 4.3 MB/s \n",
            "\u001b[?25hRequirement already satisfied: sphinxcontrib-serializinghtml>=1.1.5 in /usr/local/lib/python3.7/dist-packages (from Sphinx->time-series-transform) (1.1.5)\n",
            "Collecting sphinxcontrib-htmlhelp>=2.0.0\n",
            "  Downloading sphinxcontrib_htmlhelp-2.0.0-py2.py3-none-any.whl (100 kB)\n",
            "\u001b[K     |████████████████████████████████| 100 kB 13.2 MB/s \n",
            "\u001b[?25hCollecting sphinxcontrib-jsmath\n",
            "  Downloading sphinxcontrib_jsmath-1.0.1-py2.py3-none-any.whl (5.1 kB)\n",
            "Collecting sphinxcontrib-applehelp\n",
            "  Downloading sphinxcontrib_applehelp-1.0.2-py2.py3-none-any.whl (121 kB)\n",
            "\u001b[K     |████████████████████████████████| 121 kB 76.4 MB/s \n",
            "\u001b[?25hCollecting sphinxcontrib-qthelp\n",
            "  Downloading sphinxcontrib_qthelp-1.0.3-py2.py3-none-any.whl (90 kB)\n",
            "\u001b[K     |████████████████████████████████| 90 kB 13.1 MB/s \n",
            "\u001b[?25hRequirement already satisfied: scikit-learn in /usr/local/lib/python3.7/dist-packages (from sklearn->time-series-transform) (1.0.2)\n",
            "Requirement already satisfied: threadpoolctl>=2.0.0 in /usr/local/lib/python3.7/dist-packages (from scikit-learn->sklearn->time-series-transform) (3.1.0)\n",
            "Collecting requests>=2.0.0\n",
            "  Downloading requests-2.27.1-py2.py3-none-any.whl (63 kB)\n",
            "\u001b[K     |████████████████████████████████| 63 kB 2.3 MB/s \n",
            "\u001b[?25hRequirement already satisfied: multitasking>=0.0.7 in /usr/local/lib/python3.7/dist-packages (from yfinance->time-series-transform) (0.0.10)\n",
            "Collecting lxml>=4.5.1\n",
            "  Downloading lxml-4.8.0-cp37-cp37m-manylinux_2_17_x86_64.manylinux2014_x86_64.manylinux_2_24_x86_64.whl (6.4 MB)\n",
            "\u001b[K     |████████████████████████████████| 6.4 MB 50.6 MB/s \n",
            "\u001b[?25hRequirement already satisfied: charset-normalizer~=2.0.0 in /usr/local/lib/python3.7/dist-packages (from requests>=2.0.0->Sphinx->time-series-transform) (2.0.12)\n",
            "Building wheels for collected packages: time-series-transform, pytest-dependency\n",
            "  Building wheel for time-series-transform (setup.py) ... \u001b[?25l\u001b[?25hdone\n",
            "  Created wheel for time-series-transform: filename=time_series_transform-1.1.3-py3-none-any.whl size=75734 sha256=e7462a880851ee7f23398c17c13609a4ca33ea46d29a47fb579c1216cb4d5589\n",
            "  Stored in directory: /root/.cache/pip/wheels/c3/0f/0f/ece16277c1536300b123de906144ce9704ec4bdb29dbae2a5a\n",
            "  Building wheel for pytest-dependency (setup.py) ... \u001b[?25l\u001b[?25hdone\n",
            "  Created wheel for pytest-dependency: filename=pytest_dependency-0.5.1-py3-none-any.whl size=8218 sha256=8f0d91ecd8f0192bfbc184690ec4bff4c9417c80ab8c11f9736545b499dc109a\n",
            "  Stored in directory: /root/.cache/pip/wheels/7e/72/eb/c96a0b4b22f42d092914ba8fe7b4c639443ef02b529dbbefcf\n",
            "Successfully built time-series-transform pytest-dependency\n",
            "Installing collected packages: sphinxcontrib-qthelp, sphinxcontrib-jsmath, sphinxcontrib-htmlhelp, sphinxcontrib-devhelp, sphinxcontrib-applehelp, requests, Sphinx, commonmark, rinoh-typeface-texgyrepagella, rinoh-typeface-texgyreheros, rinoh-typeface-texgyrecursor, rinoh-typeface-dejavuserif, recommonmark, lxml, yfinance, rinohtype, pytest-dependency, nbsphinx, time-series-transform\n",
            "  Attempting uninstall: requests\n",
            "    Found existing installation: requests 2.23.0\n",
            "    Uninstalling requests-2.23.0:\n",
            "      Successfully uninstalled requests-2.23.0\n",
            "  Attempting uninstall: Sphinx\n",
            "    Found existing installation: Sphinx 1.8.6\n",
            "    Uninstalling Sphinx-1.8.6:\n",
            "      Successfully uninstalled Sphinx-1.8.6\n",
            "  Attempting uninstall: lxml\n",
            "    Found existing installation: lxml 4.2.6\n",
            "    Uninstalling lxml-4.2.6:\n",
            "      Successfully uninstalled lxml-4.2.6\n",
            "\u001b[31mERROR: pip's dependency resolver does not currently take into account all the packages that are installed. This behaviour is the source of the following dependency conflicts.\n",
            "google-colab 1.0.0 requires requests~=2.23.0, but you have requests 2.27.1 which is incompatible.\n",
            "datascience 0.10.6 requires folium==0.2.1, but you have folium 0.8.3 which is incompatible.\u001b[0m\n",
            "Successfully installed Sphinx-5.0.0 commonmark-0.9.1 lxml-4.8.0 nbsphinx-0.8.8 pytest-dependency-0.5.1 recommonmark-0.7.1 requests-2.27.1 rinoh-typeface-dejavuserif-0.1.3 rinoh-typeface-texgyrecursor-0.1.1 rinoh-typeface-texgyreheros-0.1.1 rinoh-typeface-texgyrepagella-0.1.1 rinohtype-0.5.3 sphinxcontrib-applehelp-1.0.2 sphinxcontrib-devhelp-1.0.2 sphinxcontrib-htmlhelp-2.0.0 sphinxcontrib-jsmath-1.0.1 sphinxcontrib-qthelp-1.0.3 time-series-transform-1.1.3 yfinance-0.1.70\n"
          ]
        },
        {
          "output_type": "display_data",
          "data": {
            "application/vnd.colab-display-data+json": {
              "pip_warning": {
                "packages": [
                  "sphinxcontrib"
                ]
              }
            }
          },
          "metadata": {}
        }
      ]
    },
    {
      "cell_type": "code",
      "source": [
        "!pip install pandas_ta"
      ],
      "metadata": {
        "colab": {
          "base_uri": "https://localhost:8080/"
        },
        "id": "BK8B4KqNojGy",
        "outputId": "f1701f03-95ac-4f4e-fb62-ec8f837be4d9"
      },
      "execution_count": 2,
      "outputs": [
        {
          "output_type": "stream",
          "name": "stdout",
          "text": [
            "Looking in indexes: https://pypi.org/simple, https://us-python.pkg.dev/colab-wheels/public/simple/\n",
            "Collecting pandas_ta\n",
            "  Downloading pandas_ta-0.3.14b.tar.gz (115 kB)\n",
            "\u001b[K     |████████████████████████████████| 115 kB 28.1 MB/s \n",
            "\u001b[?25hRequirement already satisfied: pandas in /usr/local/lib/python3.7/dist-packages (from pandas_ta) (1.3.5)\n",
            "Requirement already satisfied: numpy>=1.17.3 in /usr/local/lib/python3.7/dist-packages (from pandas->pandas_ta) (1.21.6)\n",
            "Requirement already satisfied: pytz>=2017.3 in /usr/local/lib/python3.7/dist-packages (from pandas->pandas_ta) (2022.1)\n",
            "Requirement already satisfied: python-dateutil>=2.7.3 in /usr/local/lib/python3.7/dist-packages (from pandas->pandas_ta) (2.8.2)\n",
            "Requirement already satisfied: six>=1.5 in /usr/local/lib/python3.7/dist-packages (from python-dateutil>=2.7.3->pandas->pandas_ta) (1.15.0)\n",
            "Building wheels for collected packages: pandas-ta\n",
            "  Building wheel for pandas-ta (setup.py) ... \u001b[?25l\u001b[?25hdone\n",
            "  Created wheel for pandas-ta: filename=pandas_ta-0.3.14b0-py3-none-any.whl size=218923 sha256=07f529371ad1649388c8aa9478f3700ce3e9d0ee52a71df9e259f10cac6fa3d1\n",
            "  Stored in directory: /root/.cache/pip/wheels/0b/81/f0/cca85757840e4616a2c6b9fe12569d97d324c27cac60724c58\n",
            "Successfully built pandas-ta\n",
            "Installing collected packages: pandas-ta\n",
            "Successfully installed pandas-ta-0.3.14b0\n"
          ]
        }
      ]
    },
    {
      "cell_type": "code",
      "source": [
        "!pip install investpy"
      ],
      "metadata": {
        "colab": {
          "base_uri": "https://localhost:8080/"
        },
        "id": "e3chbVHuosnF",
        "outputId": "6bc9b8f0-4f73-4c3a-b941-8264eefa1fc5"
      },
      "execution_count": 3,
      "outputs": [
        {
          "output_type": "stream",
          "name": "stdout",
          "text": [
            "Looking in indexes: https://pypi.org/simple, https://us-python.pkg.dev/colab-wheels/public/simple/\n",
            "Collecting investpy\n",
            "  Downloading investpy-1.0.8.tar.gz (4.4 MB)\n",
            "\u001b[K     |████████████████████████████████| 4.4 MB 26.9 MB/s \n",
            "\u001b[?25hCollecting Unidecode>=1.1.1\n",
            "  Downloading Unidecode-1.3.4-py3-none-any.whl (235 kB)\n",
            "\u001b[K     |████████████████████████████████| 235 kB 59.9 MB/s \n",
            "\u001b[?25hRequirement already satisfied: setuptools>=41.2.0 in /usr/local/lib/python3.7/dist-packages (from investpy) (57.4.0)\n",
            "Requirement already satisfied: numpy>=1.17.2 in /usr/local/lib/python3.7/dist-packages (from investpy) (1.21.6)\n",
            "Requirement already satisfied: pandas>=0.25.1 in /usr/local/lib/python3.7/dist-packages (from investpy) (1.3.5)\n",
            "Requirement already satisfied: lxml>=4.4.1 in /usr/local/lib/python3.7/dist-packages (from investpy) (4.8.0)\n",
            "Requirement already satisfied: requests>=2.22.0 in /usr/local/lib/python3.7/dist-packages (from investpy) (2.27.1)\n",
            "Requirement already satisfied: pytz>=2019.3 in /usr/local/lib/python3.7/dist-packages (from investpy) (2022.1)\n",
            "Requirement already satisfied: python-dateutil>=2.7.3 in /usr/local/lib/python3.7/dist-packages (from pandas>=0.25.1->investpy) (2.8.2)\n",
            "Requirement already satisfied: six>=1.5 in /usr/local/lib/python3.7/dist-packages (from python-dateutil>=2.7.3->pandas>=0.25.1->investpy) (1.15.0)\n",
            "Requirement already satisfied: idna<4,>=2.5 in /usr/local/lib/python3.7/dist-packages (from requests>=2.22.0->investpy) (2.10)\n",
            "Requirement already satisfied: charset-normalizer~=2.0.0 in /usr/local/lib/python3.7/dist-packages (from requests>=2.22.0->investpy) (2.0.12)\n",
            "Requirement already satisfied: certifi>=2017.4.17 in /usr/local/lib/python3.7/dist-packages (from requests>=2.22.0->investpy) (2022.5.18.1)\n",
            "Requirement already satisfied: urllib3<1.27,>=1.21.1 in /usr/local/lib/python3.7/dist-packages (from requests>=2.22.0->investpy) (1.24.3)\n",
            "Building wheels for collected packages: investpy\n",
            "  Building wheel for investpy (setup.py) ... \u001b[?25l\u001b[?25hdone\n",
            "  Created wheel for investpy: filename=investpy-1.0.8-py3-none-any.whl size=4481592 sha256=52dc53878acfd85625954d8ee89c6e62b92aba89b86751d0a682cd055ec86e40\n",
            "  Stored in directory: /root/.cache/pip/wheels/96/a8/a5/0d33c72eaf00b41df7b9dc1e15d2b7c7154b3f1379ed350211\n",
            "Successfully built investpy\n",
            "Installing collected packages: Unidecode, investpy\n",
            "Successfully installed Unidecode-1.3.4 investpy-1.0.8\n"
          ]
        }
      ]
    },
    {
      "cell_type": "code",
      "source": [
        "!pip install time_series_transform.sklearn"
      ],
      "metadata": {
        "colab": {
          "base_uri": "https://localhost:8080/"
        },
        "id": "hTfPKhrtozTA",
        "outputId": "b7cf908e-f739-42fb-c276-0588e17fc644"
      },
      "execution_count": 4,
      "outputs": [
        {
          "output_type": "stream",
          "name": "stdout",
          "text": [
            "Looking in indexes: https://pypi.org/simple, https://us-python.pkg.dev/colab-wheels/public/simple/\n",
            "\u001b[31mERROR: Could not find a version that satisfies the requirement time_series_transform.sklearn (from versions: none)\u001b[0m\n",
            "\u001b[31mERROR: No matching distribution found for time_series_transform.sklearn\u001b[0m\n"
          ]
        }
      ]
    },
    {
      "cell_type": "code",
      "source": [
        "import pandas as pd\n",
        "import numpy as np\n",
        "from time_series_transform import Time_Series_Transformer\n",
        "from time_series_transform import Stock_Transformer\n",
        "from time_series_transform.transform_core_api.util import moving_average, rfft_transform, madev, wavelet_denoising, differencing, ema, geometric_ma\n",
        "\n",
        "import time_series_transform as tst"
      ],
      "metadata": {
        "id": "p7kBsGODoan1"
      },
      "execution_count": 5,
      "outputs": []
    },
    {
      "cell_type": "code",
      "execution_count": 6,
      "metadata": {
        "colab": {
          "base_uri": "https://localhost:8080/"
        },
        "id": "PIGUr-OWl_JA",
        "outputId": "a1207b4a-d271-46f9-d3c0-070666108fd3"
      },
      "outputs": [
        {
          "output_type": "execute_result",
          "data": {
            "text/plain": [
              "data column\n",
              "-----------\n",
              "time\n",
              "data1\n",
              "data2\n",
              "time length: 5\n",
              "category: None\n"
            ]
          },
          "metadata": {},
          "execution_count": 6
        }
      ],
      "source": [
        "data = {\n",
        "    'time':[1,2,3,4,5],\n",
        "    'data1':[1,2,3,4,5],\n",
        "    'data2':[6,7,8,9,10]\n",
        "}\n",
        "trans = tst.Time_Series_Transformer(data,timeSeriesCol='time')\n",
        "trans"
      ]
    },
    {
      "cell_type": "code",
      "source": [
        "trans = tst.Time_Series_Transformer(data,timeSeriesCol='time')\n",
        "trans = trans.make_lag(\n",
        "    inputLabels = ['data1','data2'],\n",
        "    lagNum = 1,\n",
        "    suffix = '_lag_',\n",
        "    fillMissing = np.nan\n",
        "            )\n",
        "print(trans.to_pandas())"
      ],
      "metadata": {
        "colab": {
          "base_uri": "https://localhost:8080/"
        },
        "id": "6_foa_KmobZn",
        "outputId": "d957497e-2594-4980-8ad7-e227c60bb602"
      },
      "execution_count": 7,
      "outputs": [
        {
          "output_type": "stream",
          "name": "stdout",
          "text": [
            "   time  data1  data2  data1_lag_1  data2_lag_1\n",
            "0     1      1      6          NaN          NaN\n",
            "1     2      2      7          1.0          6.0\n",
            "2     3      3      8          2.0          7.0\n",
            "3     4      4      9          3.0          8.0\n",
            "4     5      5     10          4.0          9.0\n"
          ]
        }
      ]
    },
    {
      "cell_type": "code",
      "source": [
        "trans = tst.Time_Series_Transformer(data,timeSeriesCol='time')\n",
        "trans = trans.make_lag_sequence(\n",
        "    inputLabels = ['data1','data2'],\n",
        "    windowSize = 2,\n",
        "    lagNum =1,\n",
        "    suffix = '_lag_seq_'\n",
        ")\n",
        "print(trans.to_pandas())"
      ],
      "metadata": {
        "colab": {
          "base_uri": "https://localhost:8080/"
        },
        "id": "yB8HDYNUodth",
        "outputId": "273e8d4f-c50b-4841-c5ec-754923d7ab70"
      },
      "execution_count": 8,
      "outputs": [
        {
          "output_type": "stream",
          "name": "stdout",
          "text": [
            "   time  data1  data2 data1_lag_seq_2 data2_lag_seq_2\n",
            "0     1      1      6      [nan, nan]      [nan, nan]\n",
            "1     2      2      7      [nan, 1.0]      [nan, 6.0]\n",
            "2     3      3      8      [1.0, 2.0]      [6.0, 7.0]\n",
            "3     4      4      9      [2.0, 3.0]      [7.0, 8.0]\n",
            "4     5      5     10      [3.0, 4.0]      [8.0, 9.0]\n"
          ]
        }
      ]
    },
    {
      "cell_type": "code",
      "source": [
        "trans = tst.Time_Series_Transformer(data,timeSeriesCol='time')\n",
        "trans = trans.make_lead_sequence(\n",
        "    inputLabels = ['data1','data2'],\n",
        "    windowSize = 2,\n",
        "    leadNum =1,\n",
        "    suffix = '_lead_seq_'\n",
        ")\n",
        "print(trans.to_pandas())"
      ],
      "metadata": {
        "colab": {
          "base_uri": "https://localhost:8080/"
        },
        "id": "bF-avS64o6rW",
        "outputId": "e2ad7ff8-8adc-433a-bc88-abd3f0640056"
      },
      "execution_count": 9,
      "outputs": [
        {
          "output_type": "stream",
          "name": "stdout",
          "text": [
            "   time  data1  data2 data1_lead_seq_2 data2_lead_seq_2\n",
            "0     1      1      6       [2.0, 3.0]       [7.0, 8.0]\n",
            "1     2      2      7       [3.0, 4.0]       [8.0, 9.0]\n",
            "2     3      3      8       [4.0, 5.0]      [9.0, 10.0]\n",
            "3     4      4      9       [nan, nan]       [nan, nan]\n",
            "4     5      5     10       [nan, nan]       [nan, nan]\n"
          ]
        }
      ]
    }
  ]
}