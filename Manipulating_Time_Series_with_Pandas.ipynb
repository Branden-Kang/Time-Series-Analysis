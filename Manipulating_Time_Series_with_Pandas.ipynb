{
  "nbformat": 4,
  "nbformat_minor": 0,
  "metadata": {
    "colab": {
      "name": "Manipulating Time Series with Pandas.ipynb",
      "provenance": [],
      "authorship_tag": "ABX9TyMQ0bU65xlQj3a1JbwB/mzK"
    },
    "kernelspec": {
      "name": "python3",
      "display_name": "Python 3"
    },
    "language_info": {
      "name": "python"
    }
  },
  "cells": [
    {
      "cell_type": "markdown",
      "source": [
        "[Reference](https://psrivasin.medium.com/manipulating-datetime-series-with-pandas-57a20aab3952)"
      ],
      "metadata": {
        "id": "LYkURpoe5t0u"
      }
    },
    {
      "cell_type": "code",
      "execution_count": 1,
      "metadata": {
        "id": "o5b-mCNm5qL7"
      },
      "outputs": [],
      "source": [
        "import pandas as pd\n",
        "import matplotlib.pyplot as plt"
      ]
    },
    {
      "cell_type": "code",
      "source": [
        "pd.date_range('2021-01-01', periods = 10, freq = 'D')"
      ],
      "metadata": {
        "colab": {
          "base_uri": "https://localhost:8080/"
        },
        "id": "2sBTreyX5wiM",
        "outputId": "1cac8ac0-b42c-4ddf-f112-64ba02eeb215"
      },
      "execution_count": 2,
      "outputs": [
        {
          "output_type": "execute_result",
          "data": {
            "text/plain": [
              "DatetimeIndex(['2021-01-01', '2021-01-02', '2021-01-03', '2021-01-04',\n",
              "               '2021-01-05', '2021-01-06', '2021-01-07', '2021-01-08',\n",
              "               '2021-01-09', '2021-01-10'],\n",
              "              dtype='datetime64[ns]', freq='D')"
            ]
          },
          "metadata": {},
          "execution_count": 2
        }
      ]
    },
    {
      "cell_type": "code",
      "source": [
        "pd.to_datetime(['2/1/18', '3/1/18'],format = '%d/%m/%y')"
      ],
      "metadata": {
        "colab": {
          "base_uri": "https://localhost:8080/"
        },
        "id": "plxDIg-C5xaz",
        "outputId": "ce3e24ed-5443-414d-a8ac-1ab8b943e5de"
      },
      "execution_count": 3,
      "outputs": [
        {
          "output_type": "execute_result",
          "data": {
            "text/plain": [
              "DatetimeIndex(['2018-01-02', '2018-01-03'], dtype='datetime64[ns]', freq=None)"
            ]
          },
          "metadata": {},
          "execution_count": 3
        }
      ]
    },
    {
      "cell_type": "markdown",
      "source": [
        "# Time shifting\n"
      ],
      "metadata": {
        "id": "2vtltEud5_C9"
      }
    },
    {
      "cell_type": "code",
      "source": [
        "df.shift(periods=1,freq='D')"
      ],
      "metadata": {
        "id": "uWQ0ocku5_g8"
      },
      "execution_count": 5,
      "outputs": []
    },
    {
      "cell_type": "markdown",
      "source": [
        "# Rolling mean\n"
      ],
      "metadata": {
        "id": "nFX_IowS5930"
      }
    },
    {
      "cell_type": "code",
      "source": [
        "df.rolling(window=30).mean()"
      ],
      "metadata": {
        "id": "qZpMkU8N59IG"
      },
      "execution_count": 6,
      "outputs": []
    },
    {
      "cell_type": "markdown",
      "source": [
        "# Expanding\n"
      ],
      "metadata": {
        "id": "FtsGkrNv57l9"
      }
    },
    {
      "cell_type": "code",
      "source": [
        "df['column'].expanding().mean()"
      ],
      "metadata": {
        "id": "lMXDED4752C3"
      },
      "execution_count": 4,
      "outputs": []
    }
  ]
}