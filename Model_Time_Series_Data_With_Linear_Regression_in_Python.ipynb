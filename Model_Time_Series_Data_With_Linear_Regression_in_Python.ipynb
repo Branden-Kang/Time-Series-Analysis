{
  "nbformat": 4,
  "nbformat_minor": 0,
  "metadata": {
    "colab": {
      "name": "Model Time Series Data With Linear Regression in Python.ipynb",
      "provenance": [],
      "authorship_tag": "ABX9TyPLxCiA09IgJHNtmFqaE+Jk"
    },
    "kernelspec": {
      "name": "python3",
      "display_name": "Python 3"
    }
  },
  "cells": [
    {
      "cell_type": "markdown",
      "metadata": {
        "id": "iymqD4IWiPYB"
      },
      "source": [
        "[Reference](https://towardsdatascience.com/how-to-model-time-series-data-with-linear-regression-cd94d1d901c0)"
      ]
    },
    {
      "cell_type": "markdown",
      "metadata": {
        "id": "tOGtZuXZiUea"
      },
      "source": [
        "# 1. Ordinary Least Squares (OLS)"
      ]
    },
    {
      "cell_type": "markdown",
      "metadata": {
        "id": "brK3tvHUinWJ"
      },
      "source": [
        "It is difficult to quantify the evaluation of linear regreesion. But, OLS can help it evaluate the model."
      ]
    },
    {
      "cell_type": "markdown",
      "metadata": {
        "id": "IXTcQfzti0aF"
      },
      "source": [
        "![OLS](https://miro.medium.com/max/1400/1*cfD_EOOIo6sG1Thch6QeTQ.png)"
      ]
    },
    {
      "cell_type": "markdown",
      "metadata": {
        "id": "6S7THjyri8Vd"
      },
      "source": [
        "# 2. Gauss-Marcov Assumptions"
      ]
    },
    {
      "cell_type": "markdown",
      "metadata": {
        "id": "Y10kJ_U7i-3_"
      },
      "source": [
        "Here is the general format of OLS:\n",
        "![GMA](https://miro.medium.com/max/1400/1*BsIOb5DT_4L6ZOqsyK7M7A.png)"
      ]
    },
    {
      "cell_type": "markdown",
      "metadata": {
        "id": "lLCNJEXTjQRe"
      },
      "source": [
        "If there is an outlier, it is not easy to evaluate the model.\n",
        "![outlier](https://miro.medium.com/max/1400/1*zvhHrnoVtF8QZrS-tfnIiQ.png)"
      ]
    },
    {
      "cell_type": "markdown",
      "metadata": {
        "id": "8JkbdA1djeC_"
      },
      "source": [
        "Gauss-Marcov assumptions have six assumptions:\n",
        "1. Linearity in parameters.\n",
        "2. The independent variable x and dependent variable y are both random variables.\n",
        "3. No perfect collinearity between multiple independent variables x₁ and x₂.\n",
        "4. The residual term μ is endogenous.\n",
        "5. Homoscedasticity in residual term μᵢ.\n",
        "6. No autocorrelation of the residual term μᵢ.\n",
        "\n"
      ]
    },
    {
      "cell_type": "markdown",
      "metadata": {
        "id": "aeKsVuz4kUKC"
      },
      "source": [
        "Gauss-Markov assumptions are stricter for time series data in terms of endogeneity, homoscedasticity, and no autocorrelation."
      ]
    },
    {
      "cell_type": "markdown",
      "metadata": {
        "id": "X-i5pO97lVPD"
      },
      "source": [
        "The dataset can be found [here](https://sg.finance.yahoo.com/quote/SPY/history?p=SPY&.tsrc=fin-srch)"
      ]
    },
    {
      "cell_type": "code",
      "metadata": {
        "id": "vNcqPp68nFoK",
        "outputId": "ace6741e-16eb-4ad5-a463-c8e99c26f25f",
        "colab": {
          "base_uri": "https://localhost:8080/",
          "height": 775
        }
      },
      "source": [
        "import numpy as np\n",
        "import pandas as pd\n",
        "import matplotlib.pyplot as plt\n",
        "import statsmodels.api as sm\n",
        "\n",
        "AAPL_price = pd.read_csv('https://raw.githubusercontent.com/Branden-Kang/Time-Series-Analysis/master/Data/AAPL.csv',usecols=['Date', 'Close'])\n",
        "SPY_price = pd.read_csv('https://raw.githubusercontent.com/Branden-Kang/Time-Series-Analysis/master/Data/SPY.csv',usecols=['Date', 'Close'])\n",
        "\n",
        "X = sm.add_constant(SPY_price['Close'])\n",
        "model = sm.OLS(AAPL_price['Close'],X)\n",
        "results = model.fit()\n",
        "\n",
        "plt.scatter(SPY_price['Close'],AAPL_price['Close'],alpha=0.3)\n",
        "y_predict = results.params[0] + results.params[1]*SPY_price['Close']\n",
        "plt.plot(SPY_price['Close'],y_predict, linewidth=3)\n",
        "\n",
        "plt.xlim(240,350)\n",
        "plt.ylim(100,350)\n",
        "plt.xlabel('SPY_price')\n",
        "plt.ylabel('AAPL_price')\n",
        "plt.title('OLS Regression')\n",
        "\n",
        "print(results.summary())"
      ],
      "execution_count": 4,
      "outputs": [
        {
          "output_type": "stream",
          "text": [
            "                            OLS Regression Results                            \n",
            "==============================================================================\n",
            "Dep. Variable:                  Close   R-squared:                       0.463\n",
            "Model:                            OLS   Adj. R-squared:                  0.461\n",
            "Method:                 Least Squares   F-statistic:                     216.1\n",
            "Date:                Thu, 01 Oct 2020   Prob (F-statistic):           1.03e-35\n",
            "Time:                        10:01:53   Log-Likelihood:                -1023.3\n",
            "No. Observations:                 253   AIC:                             2051.\n",
            "Df Residuals:                     251   BIC:                             2058.\n",
            "Df Model:                           1                                         \n",
            "Covariance Type:            nonrobust                                         \n",
            "==============================================================================\n",
            "                 coef    std err          t      P>|t|      [0.025      0.975]\n",
            "------------------------------------------------------------------------------\n",
            "const        -79.1177     10.939     -7.232      0.000    -100.662     -57.573\n",
            "Close          0.5182      0.035     14.701      0.000       0.449       0.588\n",
            "==============================================================================\n",
            "Omnibus:                      334.954   Durbin-Watson:                   0.019\n",
            "Prob(Omnibus):                  0.000   Jarque-Bera (JB):               19.943\n",
            "Skew:                           0.177   Prob(JB):                     4.67e-05\n",
            "Kurtosis:                       1.671   Cond. No.                     3.89e+03\n",
            "==============================================================================\n",
            "\n",
            "Warnings:\n",
            "[1] Standard Errors assume that the covariance matrix of the errors is correctly specified.\n",
            "[2] The condition number is large, 3.89e+03. This might indicate that there are\n",
            "strong multicollinearity or other numerical problems.\n"
          ],
          "name": "stdout"
        },
        {
          "output_type": "display_data",
          "data": {
            "image/png": "[encoded data removed]",
            "text/plain": [
              "<Figure size 432x288 with 1 Axes>"
            ]
          },
          "metadata": {
            "tags": [],
            "needs_background": "light"
          }
        }
      ]
    },
    {
      "cell_type": "markdown",
      "metadata": {
        "id": "0r8eKj11mIYz"
      },
      "source": [
        "Let's check R² and F-statistic first. A larger R² indicates the dependent variable is better explained by the independent variables. If we add more independent variables, the resulting R² can be overfitting. So, Adjusted R² can be suggested for a solution."
      ]
    },
    {
      "cell_type": "markdown",
      "metadata": {
        "id": "hoFKN6RFmhiZ"
      },
      "source": [
        "F statistic tests against the joint effect of the independent variables. A low p-value of F statistic test indicates that the independent variables do not explain the dependent variable well."
      ]
    },
    {
      "cell_type": "markdown",
      "metadata": {
        "id": "i3bgHVc9mjkg"
      },
      "source": [
        "And, we can check t-statistic. A good F-statistic and poor t-statistic indicates collinearity."
      ]
    },
    {
      "cell_type": "markdown",
      "metadata": {
        "id": "eiS7uFFTmoR1"
      },
      "source": [
        "Lastly, let's check Durbin-Watson and Jarque-Bera. It measures the stationarity and normality of the residual term."
      ]
    },
    {
      "cell_type": "markdown",
      "metadata": {
        "id": "_16Gp_1-nJ69"
      },
      "source": [
        "##  Normality test"
      ]
    },
    {
      "cell_type": "code",
      "metadata": {
        "id": "GazgCBrSmF6i",
        "outputId": "f4f42c8e-de7b-467b-ca88-1c9eb4fb11fb",
        "colab": {
          "base_uri": "https://localhost:8080/",
          "height": 68
        }
      },
      "source": [
        "import pandas as pd\n",
        "import statsmodels.api as sm\n",
        "from scipy import stats\n",
        "\n",
        "AAPL_price = pd.read_csv('https://raw.githubusercontent.com/Branden-Kang/Time-Series-Analysis/master/Data/AAPL.csv',usecols=['Date', 'Close'])\n",
        "SPY_price = pd.read_csv('https://raw.githubusercontent.com/Branden-Kang/Time-Series-Analysis/master/Data/SPY.csv',usecols=['Date', 'Close'])\n",
        "\n",
        "X = sm.add_constant(SPY_price['Close'])\n",
        "model = sm.OLS(AAPL_price['Close'],X)\n",
        "results = model.fit()\n",
        "\n",
        "residual = AAPL_price['Close']-results.params[0] - results.params[1]*SPY_price['Close']\n",
        "\n",
        "print('p value of Jarque-Bera test is: ', stats.jarque_bera(residual)[1])\n",
        "print('p value of Shapiro-Wilk test is: ', stats.shapiro(residual)[1])\n",
        "print('p value of Kolmogorov-Smirnov test is: ', stats.kstest(residual, 'norm')[1])"
      ],
      "execution_count": 3,
      "outputs": [
        {
          "output_type": "stream",
          "text": [
            "p value of Jarque-Bera test is:  4.670524825145517e-05\n",
            "p value of Shapiro-Wilk test is:  4.6942762177426545e-12\n",
            "p value of Kolmogorov-Smirnov test is:  2.2065887467772694e-57\n"
          ],
          "name": "stdout"
        }
      ]
    },
    {
      "cell_type": "markdown",
      "metadata": {
        "id": "0pjd5FyKnL9f"
      },
      "source": [
        "## Homogeneity test"
      ]
    },
    {
      "cell_type": "code",
      "metadata": {
        "id": "mQ7Rs2apnD58",
        "outputId": "9c58f532-bbaa-4cb9-9a86-2647ccd7c443",
        "colab": {
          "base_uri": "https://localhost:8080/",
          "height": 68
        }
      },
      "source": [
        "import numpy as np\n",
        "import pandas as pd\n",
        "import matplotlib.pyplot as plt\n",
        "import statsmodels.api as sm\n",
        "import statsmodels.stats.api as sms\n",
        "\n",
        "AAPL_price = pd.read_csv('https://raw.githubusercontent.com/Branden-Kang/Time-Series-Analysis/master/Data/AAPL.csv',usecols=['Date', 'Close'])\n",
        "SPY_price = pd.read_csv('https://raw.githubusercontent.com/Branden-Kang/Time-Series-Analysis/master/Data/SPY.csv',usecols=['Date', 'Close'])\n",
        "\n",
        "X = sm.add_constant(SPY_price['Close'])\n",
        "model = sm.OLS(AAPL_price['Close'],X)\n",
        "results = model.fit()\n",
        "\n",
        "residual = AAPL_price['Close']-results.params[0] - results.params[1]*SPY_price['Close']\n",
        "\n",
        "print('p value of Goldfeld–Quandt test is: ', sms.het_goldfeldquandt(results.resid, results.model.exog)[1])\n",
        "print('p value of Breusch–Pagan test is: ', sms.het_breuschpagan(results.resid, results.model.exog)[1])\n",
        "print('p value of White test is: ', sms.het_white(results.resid, results.model.exog)[1])"
      ],
      "execution_count": 5,
      "outputs": [
        {
          "output_type": "stream",
          "text": [
            "p value of Goldfeld–Quandt test is:  0.2648006449672276\n",
            "p value of Breusch–Pagan test is:  4.4163662028973546e-13\n",
            "p value of White test is:  3.02702047119378e-26\n"
          ],
          "name": "stdout"
        }
      ]
    },
    {
      "cell_type": "markdown",
      "metadata": {
        "id": "YmWR2cL7nbU2"
      },
      "source": [
        "## Stationarity test"
      ]
    },
    {
      "cell_type": "code",
      "metadata": {
        "id": "FHJRBEGonZYg",
        "outputId": "b3512ddb-5ebc-429c-fc10-650f8b098a80",
        "colab": {
          "base_uri": "https://localhost:8080/",
          "height": 51
        }
      },
      "source": [
        "import numpy as np\n",
        "import pandas as pd\n",
        "import matplotlib.pyplot as plt\n",
        "import statsmodels.api as sm\n",
        "import statsmodels.stats.api as sms\n",
        "\n",
        "AAPL_price = pd.read_csv('https://raw.githubusercontent.com/Branden-Kang/Time-Series-Analysis/master/Data/AAPL.csv',usecols=['Date', 'Close'])\n",
        "SPY_price = pd.read_csv('https://raw.githubusercontent.com/Branden-Kang/Time-Series-Analysis/master/Data/SPY.csv',usecols=['Date', 'Close'])\n",
        "\n",
        "X = sm.add_constant(SPY_price['Close'])\n",
        "model = sm.OLS(AAPL_price['Close'],X)\n",
        "results = model.fit()\n",
        "\n",
        "import statsmodels.stats.api as sms\n",
        "print('The Durbin-Watson statistic is: ', sms.durbin_watson(results.resid))\n",
        "print('p value of Breusch-Godfrey test is: ', sms.acorr_breusch_godfrey(results,nlags=1)[3])"
      ],
      "execution_count": 6,
      "outputs": [
        {
          "output_type": "stream",
          "text": [
            "The Durbin-Watson statistic is:  0.018711843498063648\n",
            "p value of Breusch-Godfrey test is:  1.0540769873752407e-203\n"
          ],
          "name": "stdout"
        }
      ]
    },
    {
      "cell_type": "markdown",
      "metadata": {
        "id": "Qi3JsXSenm05"
      },
      "source": [
        "When Durbin-Watson statistic is 2, there is no autocorrelation. When Durbin-Watson statistic is towards 0, there is positive autocorrelation."
      ]
    },
    {
      "cell_type": "markdown",
      "metadata": {
        "id": "d5UCaCIfnvQ_"
      },
      "source": [
        "To explain heteroscedastic error, Weighted Least Squares (WLS) can be used. And, to account for both heteroscedastic error and serial correlated error, Generalized Least Squares (GLS) can be used. "
      ]
    }
  ]
}