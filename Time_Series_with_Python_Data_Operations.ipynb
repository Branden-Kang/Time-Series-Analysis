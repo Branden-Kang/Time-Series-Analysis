{
  "nbformat": 4,
  "nbformat_minor": 0,
  "metadata": {
    "colab": {
      "provenance": [],
      "authorship_tag": "ABX9TyMwkRu+fnI1kyxHcj45F5cI"
    },
    "kernelspec": {
      "name": "python3",
      "display_name": "Python 3"
    },
    "language_info": {
      "name": "python"
    }
  },
  "cells": [
    {
      "cell_type": "markdown",
      "source": [
        "[Reference](https://blog.devgenius.io/time-series-with-python-data-operations-f88b2e791aba)"
      ],
      "metadata": {
        "id": "PPQXdUu484sd"
      }
    },
    {
      "cell_type": "code",
      "execution_count": 1,
      "metadata": {
        "colab": {
          "base_uri": "https://localhost:8080/"
        },
        "id": "UbAhMn7R81kp",
        "outputId": "043079cd-c7cf-4d82-f5d1-9268b46b683e"
      },
      "outputs": [
        {
          "output_type": "stream",
          "name": "stdout",
          "text": [
            "type: <class 'datetime.datetime'> and t: 2022-12-28 08:58:04.349681\n"
          ]
        }
      ],
      "source": [
        "import datetime\n",
        "\n",
        "t = datetime.datetime.now()\n",
        "print(f\"type: {type(t)} and t: {t}\")"
      ]
    },
    {
      "cell_type": "code",
      "source": [
        "string = '2022-01-01 11:30:09'\n",
        "t = datetime.datetime.strptime(string, \"%Y-%m-%d %H:%M:%S\")\n",
        "print(f\"type: {type(t)} and t: {t}\")"
      ],
      "metadata": {
        "colab": {
          "base_uri": "https://localhost:8080/"
        },
        "id": "uyAA5YUQ89mu",
        "outputId": "d684b611-f013-4145-f856-472201cfa789"
      },
      "execution_count": 2,
      "outputs": [
        {
          "output_type": "stream",
          "name": "stdout",
          "text": [
            "type: <class 'datetime.datetime'> and t: 2022-01-01 11:30:09\n"
          ]
        }
      ]
    },
    {
      "cell_type": "code",
      "source": [
        "t = datetime.datetime.now()\n",
        "t_string = t.strftime(\"%m/%d/%Y, %H:%M:%S\")\n",
        "print(t)\n",
        "t_string = t.strftime(\"%b/%d/%Y, %H:%M:%S\")\n",
        "print(t)"
      ],
      "metadata": {
        "colab": {
          "base_uri": "https://localhost:8080/"
        },
        "id": "lNSyFXNZ9Aee",
        "outputId": "9f80811a-3a3c-4a0b-d2dd-21da09dfa0fa"
      },
      "execution_count": 3,
      "outputs": [
        {
          "output_type": "stream",
          "name": "stdout",
          "text": [
            "2022-12-28 08:58:24.893215\n",
            "2022-12-28 08:58:24.893215\n"
          ]
        }
      ]
    },
    {
      "cell_type": "code",
      "source": [
        "#convert datetime to unix time\n",
        "import time\n",
        "from datetime import datetime\n",
        "\n",
        "t = datetime.now()\n",
        "unix_t = int(time.mktime(t.timetuple()))\n",
        "#1672055277\n",
        "\n",
        "#convert unix time to datetime\n",
        "unix_t = 1672055277\n",
        "t = datetime.fromtimestamp(unix_t)\n",
        "#2022-12-26 14:47:57"
      ],
      "metadata": {
        "id": "BmYUixw39ERj"
      },
      "execution_count": 4,
      "outputs": []
    },
    {
      "cell_type": "code",
      "source": [
        "from dateutil import parser\n",
        "date = parser.parse(\"29th of October, 1923\")\n",
        "#datetime.datetime(1923, 10, 29, 0, 0)"
      ],
      "metadata": {
        "id": "shRQ5FMx9HBN"
      },
      "execution_count": 5,
      "outputs": []
    },
    {
      "cell_type": "code",
      "source": [
        "import pandas as pd\n",
        "\n",
        "t = pd.to_datetime(\"29/10/1923\", dayfirst=True)\n",
        "#Timestamp('1923-10-29 00:00:00')\n",
        "\n",
        "t = pd.Timestamp('2019-01-01', tz = 'Europe/Berlin')\n",
        "#Timestamp('2019-01-01 00:00:00+0100', tz='Europe/Berlin')\n",
        "\n",
        "t = pd.to_datetime([\"04/23/1920\", \"10/29/1923\"])\n",
        "#DatetimeIndex(['1920-04-23', '1923-10-29'], dtype='datetime64[ns]', freq=None)"
      ],
      "metadata": {
        "id": "Y63naTbV9IEt"
      },
      "execution_count": 7,
      "outputs": []
    },
    {
      "cell_type": "code",
      "source": [
        "t = pd.to_datetime([\"04/23/1920\", \"10/29/1923\"])\n",
        "period = t.to_period(\"D\")"
      ],
      "metadata": {
        "id": "9FLxOAjp9KEK"
      },
      "execution_count": 8,
      "outputs": []
    },
    {
      "cell_type": "code",
      "source": [
        "delta = pd.TimedeltaIndex(data =['1 days 03:00:00', \n",
        "                                '2 days 09:05:01.000030'])\n",
        "\n",
        "delta"
      ],
      "metadata": {
        "colab": {
          "base_uri": "https://localhost:8080/"
        },
        "id": "JqwyJskI9PK2",
        "outputId": "e7b7bc22-2968-49a9-804b-747de204bba8"
      },
      "execution_count": 9,
      "outputs": [
        {
          "output_type": "execute_result",
          "data": {
            "text/plain": [
              "TimedeltaIndex(['1 days 03:00:00', '2 days 09:05:01.000030'], dtype='timedelta64[ns]', freq=None)"
            ]
          },
          "metadata": {},
          "execution_count": 9
        }
      ]
    },
    {
      "cell_type": "code",
      "source": [
        "!pip install yfinance"
      ],
      "metadata": {
        "colab": {
          "base_uri": "https://localhost:8080/"
        },
        "id": "fIGikFfy9sTI",
        "outputId": "af4ad0f4-b28a-4bf2-8a6c-6279db51a5c7"
      },
      "execution_count": 11,
      "outputs": [
        {
          "output_type": "stream",
          "name": "stdout",
          "text": [
            "Looking in indexes: https://pypi.org/simple, https://us-python.pkg.dev/colab-wheels/public/simple/\n",
            "Collecting yfinance\n",
            "  Downloading yfinance-0.2.3-py2.py3-none-any.whl (50 kB)\n",
            "\u001b[K     |████████████████████████████████| 50 kB 3.1 MB/s \n",
            "\u001b[?25hRequirement already satisfied: multitasking>=0.0.7 in /usr/local/lib/python3.8/dist-packages (from yfinance) (0.0.11)\n",
            "Collecting requests>=2.26\n",
            "  Downloading requests-2.28.1-py3-none-any.whl (62 kB)\n",
            "\u001b[K     |████████████████████████████████| 62 kB 1.4 MB/s \n",
            "\u001b[?25hRequirement already satisfied: numpy>=1.16.5 in /usr/local/lib/python3.8/dist-packages (from yfinance) (1.21.6)\n",
            "Requirement already satisfied: pytz>=2022.5 in /usr/local/lib/python3.8/dist-packages (from yfinance) (2022.6)\n",
            "Collecting frozendict>=2.3.4\n",
            "  Downloading frozendict-2.3.4-cp38-cp38-manylinux_2_17_x86_64.manylinux2014_x86_64.whl (110 kB)\n",
            "\u001b[K     |████████████████████████████████| 110 kB 50.9 MB/s \n",
            "\u001b[?25hCollecting cryptography>=3.3.2\n",
            "  Downloading cryptography-38.0.4-cp36-abi3-manylinux_2_24_x86_64.whl (4.0 MB)\n",
            "\u001b[K     |████████████████████████████████| 4.0 MB 58.9 MB/s \n",
            "\u001b[?25hRequirement already satisfied: appdirs>=1.4.4 in /usr/local/lib/python3.8/dist-packages (from yfinance) (1.4.4)\n",
            "Collecting beautifulsoup4>=4.11.1\n",
            "  Downloading beautifulsoup4-4.11.1-py3-none-any.whl (128 kB)\n",
            "\u001b[K     |████████████████████████████████| 128 kB 74.8 MB/s \n",
            "\u001b[?25hRequirement already satisfied: lxml>=4.9.1 in /usr/local/lib/python3.8/dist-packages (from yfinance) (4.9.2)\n",
            "Requirement already satisfied: pandas>=1.3.0 in /usr/local/lib/python3.8/dist-packages (from yfinance) (1.3.5)\n",
            "Collecting html5lib>=1.1\n",
            "  Downloading html5lib-1.1-py2.py3-none-any.whl (112 kB)\n",
            "\u001b[K     |████████████████████████████████| 112 kB 66.0 MB/s \n",
            "\u001b[?25hCollecting soupsieve>1.2\n",
            "  Downloading soupsieve-2.3.2.post1-py3-none-any.whl (37 kB)\n",
            "Requirement already satisfied: cffi>=1.12 in /usr/local/lib/python3.8/dist-packages (from cryptography>=3.3.2->yfinance) (1.15.1)\n",
            "Requirement already satisfied: pycparser in /usr/local/lib/python3.8/dist-packages (from cffi>=1.12->cryptography>=3.3.2->yfinance) (2.21)\n",
            "Requirement already satisfied: webencodings in /usr/local/lib/python3.8/dist-packages (from html5lib>=1.1->yfinance) (0.5.1)\n",
            "Requirement already satisfied: six>=1.9 in /usr/local/lib/python3.8/dist-packages (from html5lib>=1.1->yfinance) (1.15.0)\n",
            "Requirement already satisfied: python-dateutil>=2.7.3 in /usr/local/lib/python3.8/dist-packages (from pandas>=1.3.0->yfinance) (2.8.2)\n",
            "Requirement already satisfied: certifi>=2017.4.17 in /usr/local/lib/python3.8/dist-packages (from requests>=2.26->yfinance) (2022.12.7)\n",
            "Requirement already satisfied: idna<4,>=2.5 in /usr/local/lib/python3.8/dist-packages (from requests>=2.26->yfinance) (2.10)\n",
            "Requirement already satisfied: charset-normalizer<3,>=2 in /usr/local/lib/python3.8/dist-packages (from requests>=2.26->yfinance) (2.1.1)\n",
            "Requirement already satisfied: urllib3<1.27,>=1.21.1 in /usr/local/lib/python3.8/dist-packages (from requests>=2.26->yfinance) (1.24.3)\n",
            "Installing collected packages: soupsieve, requests, html5lib, frozendict, cryptography, beautifulsoup4, yfinance\n",
            "  Attempting uninstall: requests\n",
            "    Found existing installation: requests 2.23.0\n",
            "    Uninstalling requests-2.23.0:\n",
            "      Successfully uninstalled requests-2.23.0\n",
            "  Attempting uninstall: html5lib\n",
            "    Found existing installation: html5lib 1.0.1\n",
            "    Uninstalling html5lib-1.0.1:\n",
            "      Successfully uninstalled html5lib-1.0.1\n",
            "  Attempting uninstall: beautifulsoup4\n",
            "    Found existing installation: beautifulsoup4 4.6.3\n",
            "    Uninstalling beautifulsoup4-4.6.3:\n",
            "      Successfully uninstalled beautifulsoup4-4.6.3\n",
            "Successfully installed beautifulsoup4-4.11.1 cryptography-38.0.4 frozendict-2.3.4 html5lib-1.1 requests-2.28.1 soupsieve-2.3.2.post1 yfinance-0.2.3\n"
          ]
        }
      ]
    },
    {
      "cell_type": "code",
      "source": [
        "#get google stock price data\n",
        "import yfinance as yf\n",
        "start_date = '2020-01-01'\n",
        "end_date = '2023-01-01'\n",
        "ticker = 'GOOGL'\n",
        "df = yf.download(ticker, start_date, end_date)\n",
        "df.head()"
      ],
      "metadata": {
        "colab": {
          "base_uri": "https://localhost:8080/",
          "height": 252
        },
        "id": "ImLZKbzM9Q4l",
        "outputId": "eb1264d0-4b46-46f1-abb3-a5d284672b03"
      },
      "execution_count": 12,
      "outputs": [
        {
          "output_type": "stream",
          "name": "stdout",
          "text": [
            "\r[*********************100%***********************]  1 of 1 completed\n"
          ]
        },
        {
          "output_type": "execute_result",
          "data": {
            "text/plain": [
              "                 Open       High        Low      Close  Adj Close    Volume\n",
              "Date                                                                       \n",
              "2020-01-02  67.420502  68.433998  67.324501  68.433998  68.433998  27278000\n",
              "2020-01-03  67.400002  68.687500  67.365997  68.075996  68.075996  23408000\n",
              "2020-01-06  67.581497  69.916000  67.550003  69.890503  69.890503  46768000\n",
              "2020-01-07  70.023003  70.175003  69.578003  69.755501  69.755501  34330000\n",
              "2020-01-08  69.740997  70.592499  69.631500  70.251999  70.251999  35314000"
            ],
            "text/html": [
              "\n",
              "  <div id=\"df-f085ae42-a1cb-4383-885b-67d5ba54efe6\">\n",
              "    <div class=\"colab-df-container\">\n",
              "      <div>\n",
              "<style scoped>\n",
              "    .dataframe tbody tr th:only-of-type {\n",
              "        vertical-align: middle;\n",
              "    }\n",
              "\n",
              "    .dataframe tbody tr th {\n",
              "        vertical-align: top;\n",
              "    }\n",
              "\n",
              "    .dataframe thead th {\n",
              "        text-align: right;\n",
              "    }\n",
              "</style>\n",
              "<table border=\"1\" class=\"dataframe\">\n",
              "  <thead>\n",
              "    <tr style=\"text-align: right;\">\n",
              "      <th></th>\n",
              "      <th>Open</th>\n",
              "      <th>High</th>\n",
              "      <th>Low</th>\n",
              "      <th>Close</th>\n",
              "      <th>Adj Close</th>\n",
              "      <th>Volume</th>\n",
              "    </tr>\n",
              "    <tr>\n",
              "      <th>Date</th>\n",
              "      <th></th>\n",
              "      <th></th>\n",
              "      <th></th>\n",
              "      <th></th>\n",
              "      <th></th>\n",
              "      <th></th>\n",
              "    </tr>\n",
              "  </thead>\n",
              "  <tbody>\n",
              "    <tr>\n",
              "      <th>2020-01-02</th>\n",
              "      <td>67.420502</td>\n",
              "      <td>68.433998</td>\n",
              "      <td>67.324501</td>\n",
              "      <td>68.433998</td>\n",
              "      <td>68.433998</td>\n",
              "      <td>27278000</td>\n",
              "    </tr>\n",
              "    <tr>\n",
              "      <th>2020-01-03</th>\n",
              "      <td>67.400002</td>\n",
              "      <td>68.687500</td>\n",
              "      <td>67.365997</td>\n",
              "      <td>68.075996</td>\n",
              "      <td>68.075996</td>\n",
              "      <td>23408000</td>\n",
              "    </tr>\n",
              "    <tr>\n",
              "      <th>2020-01-06</th>\n",
              "      <td>67.581497</td>\n",
              "      <td>69.916000</td>\n",
              "      <td>67.550003</td>\n",
              "      <td>69.890503</td>\n",
              "      <td>69.890503</td>\n",
              "      <td>46768000</td>\n",
              "    </tr>\n",
              "    <tr>\n",
              "      <th>2020-01-07</th>\n",
              "      <td>70.023003</td>\n",
              "      <td>70.175003</td>\n",
              "      <td>69.578003</td>\n",
              "      <td>69.755501</td>\n",
              "      <td>69.755501</td>\n",
              "      <td>34330000</td>\n",
              "    </tr>\n",
              "    <tr>\n",
              "      <th>2020-01-08</th>\n",
              "      <td>69.740997</td>\n",
              "      <td>70.592499</td>\n",
              "      <td>69.631500</td>\n",
              "      <td>70.251999</td>\n",
              "      <td>70.251999</td>\n",
              "      <td>35314000</td>\n",
              "    </tr>\n",
              "  </tbody>\n",
              "</table>\n",
              "</div>\n",
              "      <button class=\"colab-df-convert\" onclick=\"convertToInteractive('df-f085ae42-a1cb-4383-885b-67d5ba54efe6')\"\n",
              "              title=\"Convert this dataframe to an interactive table.\"\n",
              "              style=\"display:none;\">\n",
              "        \n",
              "  <svg xmlns=\"http://www.w3.org/2000/svg\" height=\"24px\"viewBox=\"0 0 24 24\"\n",
              "       width=\"24px\">\n",
              "    <path d=\"M0 0h24v24H0V0z\" fill=\"none\"/>\n",
              "    <path d=\"M18.56 5.44l.94 2.06.94-2.06 2.06-.94-2.06-.94-.94-2.06-.94 2.06-2.06.94zm-11 1L8.5 8.5l.94-2.06 2.06-.94-2.06-.94L8.5 2.5l-.94 2.06-2.06.94zm10 10l.94 2.06.94-2.06 2.06-.94-2.06-.94-.94-2.06-.94 2.06-2.06.94z\"/><path d=\"M17.41 7.96l-1.37-1.37c-.4-.4-.92-.59-1.43-.59-.52 0-1.04.2-1.43.59L10.3 9.45l-7.72 7.72c-.78.78-.78 2.05 0 2.83L4 21.41c.39.39.9.59 1.41.59.51 0 1.02-.2 1.41-.59l7.78-7.78 2.81-2.81c.8-.78.8-2.07 0-2.86zM5.41 20L4 18.59l7.72-7.72 1.47 1.35L5.41 20z\"/>\n",
              "  </svg>\n",
              "      </button>\n",
              "      \n",
              "  <style>\n",
              "    .colab-df-container {\n",
              "      display:flex;\n",
              "      flex-wrap:wrap;\n",
              "      gap: 12px;\n",
              "    }\n",
              "\n",
              "    .colab-df-convert {\n",
              "      background-color: #E8F0FE;\n",
              "      border: none;\n",
              "      border-radius: 50%;\n",
              "      cursor: pointer;\n",
              "      display: none;\n",
              "      fill: #1967D2;\n",
              "      height: 32px;\n",
              "      padding: 0 0 0 0;\n",
              "      width: 32px;\n",
              "    }\n",
              "\n",
              "    .colab-df-convert:hover {\n",
              "      background-color: #E2EBFA;\n",
              "      box-shadow: 0px 1px 2px rgba(60, 64, 67, 0.3), 0px 1px 3px 1px rgba(60, 64, 67, 0.15);\n",
              "      fill: #174EA6;\n",
              "    }\n",
              "\n",
              "    [theme=dark] .colab-df-convert {\n",
              "      background-color: #3B4455;\n",
              "      fill: #D2E3FC;\n",
              "    }\n",
              "\n",
              "    [theme=dark] .colab-df-convert:hover {\n",
              "      background-color: #434B5C;\n",
              "      box-shadow: 0px 1px 3px 1px rgba(0, 0, 0, 0.15);\n",
              "      filter: drop-shadow(0px 1px 2px rgba(0, 0, 0, 0.3));\n",
              "      fill: #FFFFFF;\n",
              "    }\n",
              "  </style>\n",
              "\n",
              "      <script>\n",
              "        const buttonEl =\n",
              "          document.querySelector('#df-f085ae42-a1cb-4383-885b-67d5ba54efe6 button.colab-df-convert');\n",
              "        buttonEl.style.display =\n",
              "          google.colab.kernel.accessAllowed ? 'block' : 'none';\n",
              "\n",
              "        async function convertToInteractive(key) {\n",
              "          const element = document.querySelector('#df-f085ae42-a1cb-4383-885b-67d5ba54efe6');\n",
              "          const dataTable =\n",
              "            await google.colab.kernel.invokeFunction('convertToInteractive',\n",
              "                                                     [key], {});\n",
              "          if (!dataTable) return;\n",
              "\n",
              "          const docLinkHtml = 'Like what you see? Visit the ' +\n",
              "            '<a target=\"_blank\" href=https://colab.research.google.com/notebooks/data_table.ipynb>data table notebook</a>'\n",
              "            + ' to learn more about interactive tables.';\n",
              "          element.innerHTML = '';\n",
              "          dataTable['output_type'] = 'display_data';\n",
              "          await google.colab.output.renderOutput(dataTable, element);\n",
              "          const docLink = document.createElement('div');\n",
              "          docLink.innerHTML = docLinkHtml;\n",
              "          element.appendChild(docLink);\n",
              "        }\n",
              "      </script>\n",
              "    </div>\n",
              "  </div>\n",
              "  "
            ]
          },
          "metadata": {},
          "execution_count": 12
        }
      ]
    },
    {
      "cell_type": "code",
      "source": [
        "#subtract that day's value from the previous day\n",
        "df[\"Diff_Close\"] = df[\"Close\"].diff()\n",
        "#Subtract that day's value from the day's value 2 days ago\n",
        "df[\"Diff_Close_2Days\"] = df[\"Close\"].diff(periods=2)"
      ],
      "metadata": {
        "id": "VOnhxZut9rkP"
      },
      "execution_count": 13,
      "outputs": []
    },
    {
      "cell_type": "code",
      "source": [
        "df[\"Volume_Cumulative\"] = df[\"Volume\"].cumsum()"
      ],
      "metadata": {
        "id": "qbl9M9HO9u0w"
      },
      "execution_count": 14,
      "outputs": []
    },
    {
      "cell_type": "code",
      "source": [
        "df[\"Close_Rolling_14\"] = df[\"Close\"].rolling(14).mean()\n",
        "df.tail()"
      ],
      "metadata": {
        "colab": {
          "base_uri": "https://localhost:8080/",
          "height": 401
        },
        "id": "YMth1XMu9wN9",
        "outputId": "2513d884-8fc2-41f3-bd31-4aa4f3f8f2bc"
      },
      "execution_count": 15,
      "outputs": [
        {
          "output_type": "execute_result",
          "data": {
            "text/plain": [
              "                 Open       High        Low      Close  Adj Close    Volume  \\\n",
              "Date                                                                          \n",
              "2022-12-20  88.110001  89.180000  87.440002  89.019997  89.019997  23453800   \n",
              "2022-12-21  89.080002  90.220001  88.320000  89.580002  89.580002  24745600   \n",
              "2022-12-22  88.160004  88.540001  86.320000  87.760002  87.760002  27658300   \n",
              "2022-12-23  87.110001  89.550003  87.070000  89.230003  89.230003  22994400   \n",
              "2022-12-27  88.800003  88.940002  87.010002  87.389999  87.389999  20076900   \n",
              "\n",
              "            Diff_Close  Diff_Close_2Days  Volume_Cumulative  Close_Rolling_14  \n",
              "Date                                                                           \n",
              "2022-12-20    0.579994         -1.240005        26361860000         94.425715  \n",
              "2022-12-21    0.560005          1.139999        26386605600         93.610715  \n",
              "2022-12-22   -1.820000         -1.259995        26414263900         92.705001  \n",
              "2022-12-23    1.470001         -0.349998        26437258300         91.972858  \n",
              "2022-12-27   -1.840004         -0.370003        26457335200         91.287858  "
            ],
            "text/html": [
              "\n",
              "  <div id=\"df-f1c57349-45b1-49bc-adb6-fccb721d5694\">\n",
              "    <div class=\"colab-df-container\">\n",
              "      <div>\n",
              "<style scoped>\n",
              "    .dataframe tbody tr th:only-of-type {\n",
              "        vertical-align: middle;\n",
              "    }\n",
              "\n",
              "    .dataframe tbody tr th {\n",
              "        vertical-align: top;\n",
              "    }\n",
              "\n",
              "    .dataframe thead th {\n",
              "        text-align: right;\n",
              "    }\n",
              "</style>\n",
              "<table border=\"1\" class=\"dataframe\">\n",
              "  <thead>\n",
              "    <tr style=\"text-align: right;\">\n",
              "      <th></th>\n",
              "      <th>Open</th>\n",
              "      <th>High</th>\n",
              "      <th>Low</th>\n",
              "      <th>Close</th>\n",
              "      <th>Adj Close</th>\n",
              "      <th>Volume</th>\n",
              "      <th>Diff_Close</th>\n",
              "      <th>Diff_Close_2Days</th>\n",
              "      <th>Volume_Cumulative</th>\n",
              "      <th>Close_Rolling_14</th>\n",
              "    </tr>\n",
              "    <tr>\n",
              "      <th>Date</th>\n",
              "      <th></th>\n",
              "      <th></th>\n",
              "      <th></th>\n",
              "      <th></th>\n",
              "      <th></th>\n",
              "      <th></th>\n",
              "      <th></th>\n",
              "      <th></th>\n",
              "      <th></th>\n",
              "      <th></th>\n",
              "    </tr>\n",
              "  </thead>\n",
              "  <tbody>\n",
              "    <tr>\n",
              "      <th>2022-12-20</th>\n",
              "      <td>88.110001</td>\n",
              "      <td>89.180000</td>\n",
              "      <td>87.440002</td>\n",
              "      <td>89.019997</td>\n",
              "      <td>89.019997</td>\n",
              "      <td>23453800</td>\n",
              "      <td>0.579994</td>\n",
              "      <td>-1.240005</td>\n",
              "      <td>26361860000</td>\n",
              "      <td>94.425715</td>\n",
              "    </tr>\n",
              "    <tr>\n",
              "      <th>2022-12-21</th>\n",
              "      <td>89.080002</td>\n",
              "      <td>90.220001</td>\n",
              "      <td>88.320000</td>\n",
              "      <td>89.580002</td>\n",
              "      <td>89.580002</td>\n",
              "      <td>24745600</td>\n",
              "      <td>0.560005</td>\n",
              "      <td>1.139999</td>\n",
              "      <td>26386605600</td>\n",
              "      <td>93.610715</td>\n",
              "    </tr>\n",
              "    <tr>\n",
              "      <th>2022-12-22</th>\n",
              "      <td>88.160004</td>\n",
              "      <td>88.540001</td>\n",
              "      <td>86.320000</td>\n",
              "      <td>87.760002</td>\n",
              "      <td>87.760002</td>\n",
              "      <td>27658300</td>\n",
              "      <td>-1.820000</td>\n",
              "      <td>-1.259995</td>\n",
              "      <td>26414263900</td>\n",
              "      <td>92.705001</td>\n",
              "    </tr>\n",
              "    <tr>\n",
              "      <th>2022-12-23</th>\n",
              "      <td>87.110001</td>\n",
              "      <td>89.550003</td>\n",
              "      <td>87.070000</td>\n",
              "      <td>89.230003</td>\n",
              "      <td>89.230003</td>\n",
              "      <td>22994400</td>\n",
              "      <td>1.470001</td>\n",
              "      <td>-0.349998</td>\n",
              "      <td>26437258300</td>\n",
              "      <td>91.972858</td>\n",
              "    </tr>\n",
              "    <tr>\n",
              "      <th>2022-12-27</th>\n",
              "      <td>88.800003</td>\n",
              "      <td>88.940002</td>\n",
              "      <td>87.010002</td>\n",
              "      <td>87.389999</td>\n",
              "      <td>87.389999</td>\n",
              "      <td>20076900</td>\n",
              "      <td>-1.840004</td>\n",
              "      <td>-0.370003</td>\n",
              "      <td>26457335200</td>\n",
              "      <td>91.287858</td>\n",
              "    </tr>\n",
              "  </tbody>\n",
              "</table>\n",
              "</div>\n",
              "      <button class=\"colab-df-convert\" onclick=\"convertToInteractive('df-f1c57349-45b1-49bc-adb6-fccb721d5694')\"\n",
              "              title=\"Convert this dataframe to an interactive table.\"\n",
              "              style=\"display:none;\">\n",
              "        \n",
              "  <svg xmlns=\"http://www.w3.org/2000/svg\" height=\"24px\"viewBox=\"0 0 24 24\"\n",
              "       width=\"24px\">\n",
              "    <path d=\"M0 0h24v24H0V0z\" fill=\"none\"/>\n",
              "    <path d=\"M18.56 5.44l.94 2.06.94-2.06 2.06-.94-2.06-.94-.94-2.06-.94 2.06-2.06.94zm-11 1L8.5 8.5l.94-2.06 2.06-.94-2.06-.94L8.5 2.5l-.94 2.06-2.06.94zm10 10l.94 2.06.94-2.06 2.06-.94-2.06-.94-.94-2.06-.94 2.06-2.06.94z\"/><path d=\"M17.41 7.96l-1.37-1.37c-.4-.4-.92-.59-1.43-.59-.52 0-1.04.2-1.43.59L10.3 9.45l-7.72 7.72c-.78.78-.78 2.05 0 2.83L4 21.41c.39.39.9.59 1.41.59.51 0 1.02-.2 1.41-.59l7.78-7.78 2.81-2.81c.8-.78.8-2.07 0-2.86zM5.41 20L4 18.59l7.72-7.72 1.47 1.35L5.41 20z\"/>\n",
              "  </svg>\n",
              "      </button>\n",
              "      \n",
              "  <style>\n",
              "    .colab-df-container {\n",
              "      display:flex;\n",
              "      flex-wrap:wrap;\n",
              "      gap: 12px;\n",
              "    }\n",
              "\n",
              "    .colab-df-convert {\n",
              "      background-color: #E8F0FE;\n",
              "      border: none;\n",
              "      border-radius: 50%;\n",
              "      cursor: pointer;\n",
              "      display: none;\n",
              "      fill: #1967D2;\n",
              "      height: 32px;\n",
              "      padding: 0 0 0 0;\n",
              "      width: 32px;\n",
              "    }\n",
              "\n",
              "    .colab-df-convert:hover {\n",
              "      background-color: #E2EBFA;\n",
              "      box-shadow: 0px 1px 2px rgba(60, 64, 67, 0.3), 0px 1px 3px 1px rgba(60, 64, 67, 0.15);\n",
              "      fill: #174EA6;\n",
              "    }\n",
              "\n",
              "    [theme=dark] .colab-df-convert {\n",
              "      background-color: #3B4455;\n",
              "      fill: #D2E3FC;\n",
              "    }\n",
              "\n",
              "    [theme=dark] .colab-df-convert:hover {\n",
              "      background-color: #434B5C;\n",
              "      box-shadow: 0px 1px 3px 1px rgba(0, 0, 0, 0.15);\n",
              "      filter: drop-shadow(0px 1px 2px rgba(0, 0, 0, 0.3));\n",
              "      fill: #FFFFFF;\n",
              "    }\n",
              "  </style>\n",
              "\n",
              "      <script>\n",
              "        const buttonEl =\n",
              "          document.querySelector('#df-f1c57349-45b1-49bc-adb6-fccb721d5694 button.colab-df-convert');\n",
              "        buttonEl.style.display =\n",
              "          google.colab.kernel.accessAllowed ? 'block' : 'none';\n",
              "\n",
              "        async function convertToInteractive(key) {\n",
              "          const element = document.querySelector('#df-f1c57349-45b1-49bc-adb6-fccb721d5694');\n",
              "          const dataTable =\n",
              "            await google.colab.kernel.invokeFunction('convertToInteractive',\n",
              "                                                     [key], {});\n",
              "          if (!dataTable) return;\n",
              "\n",
              "          const docLinkHtml = 'Like what you see? Visit the ' +\n",
              "            '<a target=\"_blank\" href=https://colab.research.google.com/notebooks/data_table.ipynb>data table notebook</a>'\n",
              "            + ' to learn more about interactive tables.';\n",
              "          element.innerHTML = '';\n",
              "          dataTable['output_type'] = 'display_data';\n",
              "          await google.colab.output.renderOutput(dataTable, element);\n",
              "          const docLink = document.createElement('div');\n",
              "          docLink.innerHTML = docLinkHtml;\n",
              "          element.appendChild(docLink);\n",
              "        }\n",
              "      </script>\n",
              "    </div>\n",
              "  </div>\n",
              "  "
            ]
          },
          "metadata": {},
          "execution_count": 15
        }
      ]
    },
    {
      "cell_type": "code",
      "source": [
        "import seaborn as sns\n",
        "import matplotlib.pyplot as plt\n",
        "fig = plt.figure(figsize = (14, 8))\n",
        "ax = sns.lineplot(df.index,df[\"Close\"])\n",
        "ax = sns.lineplot(df.index,df[\"Close_Rolling_14\"])\n",
        "ax.set(xlabel='date', ylabel='Close Price', title='Google Stock Close Price & 14 Moving Average')\n",
        "plt.show()"
      ],
      "metadata": {
        "colab": {
          "base_uri": "https://localhost:8080/",
          "height": 479
        },
        "id": "BPaQQUpM9xOy",
        "outputId": "d753864b-2c8a-4d5e-f9d4-2b36c8f07ee3"
      },
      "execution_count": 16,
      "outputs": [
        {
          "output_type": "stream",
          "name": "stderr",
          "text": [
            "/usr/local/lib/python3.8/dist-packages/seaborn/_decorators.py:36: FutureWarning: Pass the following variables as keyword args: x, y. From version 0.12, the only valid positional argument will be `data`, and passing other arguments without an explicit keyword will result in an error or misinterpretation.\n",
            "  warnings.warn(\n",
            "/usr/local/lib/python3.8/dist-packages/seaborn/_decorators.py:36: FutureWarning: Pass the following variables as keyword args: x, y. From version 0.12, the only valid positional argument will be `data`, and passing other arguments without an explicit keyword will result in an error or misinterpretation.\n",
            "  warnings.warn(\n"
          ]
        },
        {
          "output_type": "display_data",
          "data": {
            "text/plain": [
              "<Figure size 1008x576 with 1 Axes>"
            ],
            "image/png": "[encoded data removed]"
          },
          "metadata": {
            "needs_background": "light"
          }
        }
      ]
    },
    {
      "cell_type": "code",
      "source": [
        "s = pd.Series([1, 2, 3, 4, 5])\n",
        "\n",
        "#the rolling window will be centered on each observation\n",
        "rolling_mean = s.rolling(window=3, center=True).mean()\n",
        "\n",
        "# the rolling window will not be centered, \n",
        "#and will instead be anchored to the left side of the window\n",
        "rolling_mean = s.rolling(window=3, center=False).mean()"
      ],
      "metadata": {
        "id": "3PBwT8Bk9ydp"
      },
      "execution_count": 17,
      "outputs": []
    },
    {
      "cell_type": "code",
      "source": [
        "#shift the data\n",
        "df_shifted = df.shift(5,axis=0)\n",
        "df_shifted.head(10)\n",
        "\n",
        "#shift the indexes\n",
        "df_tshifted = df.tshift(periods = 4, freq = 'D')\n",
        "df_tshifted.head(10)"
      ],
      "metadata": {
        "colab": {
          "base_uri": "https://localhost:8080/",
          "height": 675
        },
        "id": "mJZPIB6Q91Mp",
        "outputId": "cecaae5e-932d-4634-a539-b6ba86e8c5b0"
      },
      "execution_count": 18,
      "outputs": [
        {
          "output_type": "stream",
          "name": "stderr",
          "text": [
            "<ipython-input-18-437fd330fa7c>:6: FutureWarning: tshift is deprecated and will be removed in a future version. Please use shift instead.\n",
            "  df_tshifted = df.tshift(periods = 4, freq = 'D')\n"
          ]
        },
        {
          "output_type": "execute_result",
          "data": {
            "text/plain": [
              "                 Open       High        Low      Close  Adj Close    Volume  \\\n",
              "Date                                                                          \n",
              "2020-01-06  67.420502  68.433998  67.324501  68.433998  68.433998  27278000   \n",
              "2020-01-07  67.400002  68.687500  67.365997  68.075996  68.075996  23408000   \n",
              "2020-01-10  67.581497  69.916000  67.550003  69.890503  69.890503  46768000   \n",
              "2020-01-11  70.023003  70.175003  69.578003  69.755501  69.755501  34330000   \n",
              "2020-01-12  69.740997  70.592499  69.631500  70.251999  70.251999  35314000   \n",
              "2020-01-13  71.096497  71.433998  70.510498  70.989502  70.989502  33200000   \n",
              "2020-01-14  71.473503  71.747002  70.980003  71.447998  71.447998  26258000   \n",
              "2020-01-17  71.762497  72.073997  71.268501  72.001503  72.001503  30730000   \n",
              "2020-01-18  72.000000  72.131500  71.388496  71.529503  71.529503  26076000   \n",
              "2020-01-19  71.651001  72.039001  71.583000  71.959999  71.959999  21550000   \n",
              "\n",
              "            Diff_Close  Diff_Close_2Days  Volume_Cumulative  Close_Rolling_14  \n",
              "Date                                                                           \n",
              "2020-01-06         NaN               NaN           27278000               NaN  \n",
              "2020-01-07   -0.358002               NaN           50686000               NaN  \n",
              "2020-01-10    1.814507          1.456505           97454000               NaN  \n",
              "2020-01-11   -0.135002          1.679504          131784000               NaN  \n",
              "2020-01-12    0.496498          0.361496          167098000               NaN  \n",
              "2020-01-13    0.737503          1.234001          200298000               NaN  \n",
              "2020-01-14    0.458496          1.195999          226556000               NaN  \n",
              "2020-01-17    0.553505          1.012001          257286000               NaN  \n",
              "2020-01-18   -0.472000          0.081505          283362000               NaN  \n",
              "2020-01-19    0.430496         -0.041504          304912000               NaN  "
            ],
            "text/html": [
              "\n",
              "  <div id=\"df-4d36a9ea-f172-4226-90ba-3851dcabe8cd\">\n",
              "    <div class=\"colab-df-container\">\n",
              "      <div>\n",
              "<style scoped>\n",
              "    .dataframe tbody tr th:only-of-type {\n",
              "        vertical-align: middle;\n",
              "    }\n",
              "\n",
              "    .dataframe tbody tr th {\n",
              "        vertical-align: top;\n",
              "    }\n",
              "\n",
              "    .dataframe thead th {\n",
              "        text-align: right;\n",
              "    }\n",
              "</style>\n",
              "<table border=\"1\" class=\"dataframe\">\n",
              "  <thead>\n",
              "    <tr style=\"text-align: right;\">\n",
              "      <th></th>\n",
              "      <th>Open</th>\n",
              "      <th>High</th>\n",
              "      <th>Low</th>\n",
              "      <th>Close</th>\n",
              "      <th>Adj Close</th>\n",
              "      <th>Volume</th>\n",
              "      <th>Diff_Close</th>\n",
              "      <th>Diff_Close_2Days</th>\n",
              "      <th>Volume_Cumulative</th>\n",
              "      <th>Close_Rolling_14</th>\n",
              "    </tr>\n",
              "    <tr>\n",
              "      <th>Date</th>\n",
              "      <th></th>\n",
              "      <th></th>\n",
              "      <th></th>\n",
              "      <th></th>\n",
              "      <th></th>\n",
              "      <th></th>\n",
              "      <th></th>\n",
              "      <th></th>\n",
              "      <th></th>\n",
              "      <th></th>\n",
              "    </tr>\n",
              "  </thead>\n",
              "  <tbody>\n",
              "    <tr>\n",
              "      <th>2020-01-06</th>\n",
              "      <td>67.420502</td>\n",
              "      <td>68.433998</td>\n",
              "      <td>67.324501</td>\n",
              "      <td>68.433998</td>\n",
              "      <td>68.433998</td>\n",
              "      <td>27278000</td>\n",
              "      <td>NaN</td>\n",
              "      <td>NaN</td>\n",
              "      <td>27278000</td>\n",
              "      <td>NaN</td>\n",
              "    </tr>\n",
              "    <tr>\n",
              "      <th>2020-01-07</th>\n",
              "      <td>67.400002</td>\n",
              "      <td>68.687500</td>\n",
              "      <td>67.365997</td>\n",
              "      <td>68.075996</td>\n",
              "      <td>68.075996</td>\n",
              "      <td>23408000</td>\n",
              "      <td>-0.358002</td>\n",
              "      <td>NaN</td>\n",
              "      <td>50686000</td>\n",
              "      <td>NaN</td>\n",
              "    </tr>\n",
              "    <tr>\n",
              "      <th>2020-01-10</th>\n",
              "      <td>67.581497</td>\n",
              "      <td>69.916000</td>\n",
              "      <td>67.550003</td>\n",
              "      <td>69.890503</td>\n",
              "      <td>69.890503</td>\n",
              "      <td>46768000</td>\n",
              "      <td>1.814507</td>\n",
              "      <td>1.456505</td>\n",
              "      <td>97454000</td>\n",
              "      <td>NaN</td>\n",
              "    </tr>\n",
              "    <tr>\n",
              "      <th>2020-01-11</th>\n",
              "      <td>70.023003</td>\n",
              "      <td>70.175003</td>\n",
              "      <td>69.578003</td>\n",
              "      <td>69.755501</td>\n",
              "      <td>69.755501</td>\n",
              "      <td>34330000</td>\n",
              "      <td>-0.135002</td>\n",
              "      <td>1.679504</td>\n",
              "      <td>131784000</td>\n",
              "      <td>NaN</td>\n",
              "    </tr>\n",
              "    <tr>\n",
              "      <th>2020-01-12</th>\n",
              "      <td>69.740997</td>\n",
              "      <td>70.592499</td>\n",
              "      <td>69.631500</td>\n",
              "      <td>70.251999</td>\n",
              "      <td>70.251999</td>\n",
              "      <td>35314000</td>\n",
              "      <td>0.496498</td>\n",
              "      <td>0.361496</td>\n",
              "      <td>167098000</td>\n",
              "      <td>NaN</td>\n",
              "    </tr>\n",
              "    <tr>\n",
              "      <th>2020-01-13</th>\n",
              "      <td>71.096497</td>\n",
              "      <td>71.433998</td>\n",
              "      <td>70.510498</td>\n",
              "      <td>70.989502</td>\n",
              "      <td>70.989502</td>\n",
              "      <td>33200000</td>\n",
              "      <td>0.737503</td>\n",
              "      <td>1.234001</td>\n",
              "      <td>200298000</td>\n",
              "      <td>NaN</td>\n",
              "    </tr>\n",
              "    <tr>\n",
              "      <th>2020-01-14</th>\n",
              "      <td>71.473503</td>\n",
              "      <td>71.747002</td>\n",
              "      <td>70.980003</td>\n",
              "      <td>71.447998</td>\n",
              "      <td>71.447998</td>\n",
              "      <td>26258000</td>\n",
              "      <td>0.458496</td>\n",
              "      <td>1.195999</td>\n",
              "      <td>226556000</td>\n",
              "      <td>NaN</td>\n",
              "    </tr>\n",
              "    <tr>\n",
              "      <th>2020-01-17</th>\n",
              "      <td>71.762497</td>\n",
              "      <td>72.073997</td>\n",
              "      <td>71.268501</td>\n",
              "      <td>72.001503</td>\n",
              "      <td>72.001503</td>\n",
              "      <td>30730000</td>\n",
              "      <td>0.553505</td>\n",
              "      <td>1.012001</td>\n",
              "      <td>257286000</td>\n",
              "      <td>NaN</td>\n",
              "    </tr>\n",
              "    <tr>\n",
              "      <th>2020-01-18</th>\n",
              "      <td>72.000000</td>\n",
              "      <td>72.131500</td>\n",
              "      <td>71.388496</td>\n",
              "      <td>71.529503</td>\n",
              "      <td>71.529503</td>\n",
              "      <td>26076000</td>\n",
              "      <td>-0.472000</td>\n",
              "      <td>0.081505</td>\n",
              "      <td>283362000</td>\n",
              "      <td>NaN</td>\n",
              "    </tr>\n",
              "    <tr>\n",
              "      <th>2020-01-19</th>\n",
              "      <td>71.651001</td>\n",
              "      <td>72.039001</td>\n",
              "      <td>71.583000</td>\n",
              "      <td>71.959999</td>\n",
              "      <td>71.959999</td>\n",
              "      <td>21550000</td>\n",
              "      <td>0.430496</td>\n",
              "      <td>-0.041504</td>\n",
              "      <td>304912000</td>\n",
              "      <td>NaN</td>\n",
              "    </tr>\n",
              "  </tbody>\n",
              "</table>\n",
              "</div>\n",
              "      <button class=\"colab-df-convert\" onclick=\"convertToInteractive('df-4d36a9ea-f172-4226-90ba-3851dcabe8cd')\"\n",
              "              title=\"Convert this dataframe to an interactive table.\"\n",
              "              style=\"display:none;\">\n",
              "        \n",
              "  <svg xmlns=\"http://www.w3.org/2000/svg\" height=\"24px\"viewBox=\"0 0 24 24\"\n",
              "       width=\"24px\">\n",
              "    <path d=\"M0 0h24v24H0V0z\" fill=\"none\"/>\n",
              "    <path d=\"M18.56 5.44l.94 2.06.94-2.06 2.06-.94-2.06-.94-.94-2.06-.94 2.06-2.06.94zm-11 1L8.5 8.5l.94-2.06 2.06-.94-2.06-.94L8.5 2.5l-.94 2.06-2.06.94zm10 10l.94 2.06.94-2.06 2.06-.94-2.06-.94-.94-2.06-.94 2.06-2.06.94z\"/><path d=\"M17.41 7.96l-1.37-1.37c-.4-.4-.92-.59-1.43-.59-.52 0-1.04.2-1.43.59L10.3 9.45l-7.72 7.72c-.78.78-.78 2.05 0 2.83L4 21.41c.39.39.9.59 1.41.59.51 0 1.02-.2 1.41-.59l7.78-7.78 2.81-2.81c.8-.78.8-2.07 0-2.86zM5.41 20L4 18.59l7.72-7.72 1.47 1.35L5.41 20z\"/>\n",
              "  </svg>\n",
              "      </button>\n",
              "      \n",
              "  <style>\n",
              "    .colab-df-container {\n",
              "      display:flex;\n",
              "      flex-wrap:wrap;\n",
              "      gap: 12px;\n",
              "    }\n",
              "\n",
              "    .colab-df-convert {\n",
              "      background-color: #E8F0FE;\n",
              "      border: none;\n",
              "      border-radius: 50%;\n",
              "      cursor: pointer;\n",
              "      display: none;\n",
              "      fill: #1967D2;\n",
              "      height: 32px;\n",
              "      padding: 0 0 0 0;\n",
              "      width: 32px;\n",
              "    }\n",
              "\n",
              "    .colab-df-convert:hover {\n",
              "      background-color: #E2EBFA;\n",
              "      box-shadow: 0px 1px 2px rgba(60, 64, 67, 0.3), 0px 1px 3px 1px rgba(60, 64, 67, 0.15);\n",
              "      fill: #174EA6;\n",
              "    }\n",
              "\n",
              "    [theme=dark] .colab-df-convert {\n",
              "      background-color: #3B4455;\n",
              "      fill: #D2E3FC;\n",
              "    }\n",
              "\n",
              "    [theme=dark] .colab-df-convert:hover {\n",
              "      background-color: #434B5C;\n",
              "      box-shadow: 0px 1px 3px 1px rgba(0, 0, 0, 0.15);\n",
              "      filter: drop-shadow(0px 1px 2px rgba(0, 0, 0, 0.3));\n",
              "      fill: #FFFFFF;\n",
              "    }\n",
              "  </style>\n",
              "\n",
              "      <script>\n",
              "        const buttonEl =\n",
              "          document.querySelector('#df-4d36a9ea-f172-4226-90ba-3851dcabe8cd button.colab-df-convert');\n",
              "        buttonEl.style.display =\n",
              "          google.colab.kernel.accessAllowed ? 'block' : 'none';\n",
              "\n",
              "        async function convertToInteractive(key) {\n",
              "          const element = document.querySelector('#df-4d36a9ea-f172-4226-90ba-3851dcabe8cd');\n",
              "          const dataTable =\n",
              "            await google.colab.kernel.invokeFunction('convertToInteractive',\n",
              "                                                     [key], {});\n",
              "          if (!dataTable) return;\n",
              "\n",
              "          const docLinkHtml = 'Like what you see? Visit the ' +\n",
              "            '<a target=\"_blank\" href=https://colab.research.google.com/notebooks/data_table.ipynb>data table notebook</a>'\n",
              "            + ' to learn more about interactive tables.';\n",
              "          element.innerHTML = '';\n",
              "          dataTable['output_type'] = 'display_data';\n",
              "          await google.colab.output.renderOutput(dataTable, element);\n",
              "          const docLink = document.createElement('div');\n",
              "          docLink.innerHTML = docLinkHtml;\n",
              "          element.appendChild(docLink);\n",
              "        }\n",
              "      </script>\n",
              "    </div>\n",
              "  </div>\n",
              "  "
            ]
          },
          "metadata": {},
          "execution_count": 18
        }
      ]
    },
    {
      "cell_type": "code",
      "source": [
        "# df[\"Period\"] = df[\"Date\"].dt.to_period('W')"
      ],
      "metadata": {
        "id": "41Kfg3t_92S3"
      },
      "execution_count": 20,
      "outputs": []
    },
    {
      "cell_type": "code",
      "source": [
        "monthly_data = df.asfreq('M', method='ffill')"
      ],
      "metadata": {
        "id": "6_ZePpvK93tP"
      },
      "execution_count": 21,
      "outputs": []
    },
    {
      "cell_type": "code",
      "source": [
        "#down sample\n",
        "monthly_data = df.resample('M').mean()\n",
        "#up sample\n",
        "minute_data = df.resample('T').ffill()"
      ],
      "metadata": {
        "id": "TLpGugOG954D"
      },
      "execution_count": 23,
      "outputs": []
    },
    {
      "cell_type": "code",
      "source": [
        "df[\"PCT\"] = df[\"Close\"].pct_change(periods=2)\n",
        "print(df[\"PCT\"])"
      ],
      "metadata": {
        "colab": {
          "base_uri": "https://localhost:8080/"
        },
        "id": "2vB4Ao9397dD",
        "outputId": "1f36353e-436e-4897-829a-701c074339f3"
      },
      "execution_count": 24,
      "outputs": [
        {
          "output_type": "stream",
          "name": "stdout",
          "text": [
            "Date\n",
            "2020-01-02         NaN\n",
            "2020-01-03         NaN\n",
            "2020-01-06    0.021283\n",
            "2020-01-07    0.024671\n",
            "2020-01-08    0.005172\n",
            "                ...   \n",
            "2022-12-20   -0.013738\n",
            "2022-12-21    0.012890\n",
            "2022-12-22   -0.014154\n",
            "2022-12-23   -0.003907\n",
            "2022-12-27   -0.004216\n",
            "Name: PCT, Length: 753, dtype: float64\n"
          ]
        }
      ]
    }
  ]
}