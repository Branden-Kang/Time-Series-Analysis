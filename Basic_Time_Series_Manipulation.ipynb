{
  "nbformat": 4,
  "nbformat_minor": 0,
  "metadata": {
    "colab": {
      "name": "Basic Time Series Manipulation.ipynb",
      "provenance": [],
      "authorship_tag": "ABX9TyNYOMyJiAzNLmWcuc54RXv+"
    },
    "kernelspec": {
      "name": "python3",
      "display_name": "Python 3"
    }
  },
  "cells": [
    {
      "cell_type": "code",
      "metadata": {
        "id": "4id1EG4PXyW8",
        "colab_type": "code",
        "colab": {}
      },
      "source": [
        "import pandas as pd\n",
        "from datetime import datetime\n",
        "import numpy as np"
      ],
      "execution_count": 0,
      "outputs": []
    },
    {
      "cell_type": "code",
      "metadata": {
        "id": "9sEH5O_9X6HY",
        "colab_type": "code",
        "colab": {}
      },
      "source": [
        "date_rng = pd.date_range(start='1/1/2018', end='1/08/2018', freq='H')"
      ],
      "execution_count": 0,
      "outputs": []
    },
    {
      "cell_type": "code",
      "metadata": {
        "id": "6H8EZeVmX7VR",
        "colab_type": "code",
        "colab": {
          "base_uri": "https://localhost:8080/",
          "height": 221
        },
        "outputId": "6dddd2e7-d3e2-4bc5-cb4f-a38e2621e631"
      },
      "source": [
        "date_rng"
      ],
      "execution_count": 3,
      "outputs": [
        {
          "output_type": "execute_result",
          "data": {
            "text/plain": [
              "DatetimeIndex(['2018-01-01 00:00:00', '2018-01-01 01:00:00',\n",
              "               '2018-01-01 02:00:00', '2018-01-01 03:00:00',\n",
              "               '2018-01-01 04:00:00', '2018-01-01 05:00:00',\n",
              "               '2018-01-01 06:00:00', '2018-01-01 07:00:00',\n",
              "               '2018-01-01 08:00:00', '2018-01-01 09:00:00',\n",
              "               ...\n",
              "               '2018-01-07 15:00:00', '2018-01-07 16:00:00',\n",
              "               '2018-01-07 17:00:00', '2018-01-07 18:00:00',\n",
              "               '2018-01-07 19:00:00', '2018-01-07 20:00:00',\n",
              "               '2018-01-07 21:00:00', '2018-01-07 22:00:00',\n",
              "               '2018-01-07 23:00:00', '2018-01-08 00:00:00'],\n",
              "              dtype='datetime64[ns]', length=169, freq='H')"
            ]
          },
          "metadata": {
            "tags": []
          },
          "execution_count": 3
        }
      ]
    },
    {
      "cell_type": "code",
      "metadata": {
        "id": "d8gWu58YX955",
        "colab_type": "code",
        "colab": {
          "base_uri": "https://localhost:8080/",
          "height": 34
        },
        "outputId": "9d0c5b2f-6337-4d37-c17e-57ab3209d5ee"
      },
      "source": [
        "type(date_rng[0])"
      ],
      "execution_count": 4,
      "outputs": [
        {
          "output_type": "execute_result",
          "data": {
            "text/plain": [
              "pandas._libs.tslibs.timestamps.Timestamp"
            ]
          },
          "metadata": {
            "tags": []
          },
          "execution_count": 4
        }
      ]
    },
    {
      "cell_type": "code",
      "metadata": {
        "id": "VN1b12rbX_R6",
        "colab_type": "code",
        "colab": {
          "base_uri": "https://localhost:8080/",
          "height": 514
        },
        "outputId": "c252faf9-9314-499c-dde2-b73d209b2d74"
      },
      "source": [
        "df = pd.DataFrame(date_rng, columns=['date'])\n",
        "df['data'] = np.random.randint(0,100,size=(len(date_rng)))\n",
        "df.head(15)"
      ],
      "execution_count": 5,
      "outputs": [
        {
          "output_type": "execute_result",
          "data": {
            "text/html": [
              "<div>\n",
              "<style scoped>\n",
              "    .dataframe tbody tr th:only-of-type {\n",
              "        vertical-align: middle;\n",
              "    }\n",
              "\n",
              "    .dataframe tbody tr th {\n",
              "        vertical-align: top;\n",
              "    }\n",
              "\n",
              "    .dataframe thead th {\n",
              "        text-align: right;\n",
              "    }\n",
              "</style>\n",
              "<table border=\"1\" class=\"dataframe\">\n",
              "  <thead>\n",
              "    <tr style=\"text-align: right;\">\n",
              "      <th></th>\n",
              "      <th>date</th>\n",
              "      <th>data</th>\n",
              "    </tr>\n",
              "  </thead>\n",
              "  <tbody>\n",
              "    <tr>\n",
              "      <th>0</th>\n",
              "      <td>2018-01-01 00:00:00</td>\n",
              "      <td>25</td>\n",
              "    </tr>\n",
              "    <tr>\n",
              "      <th>1</th>\n",
              "      <td>2018-01-01 01:00:00</td>\n",
              "      <td>35</td>\n",
              "    </tr>\n",
              "    <tr>\n",
              "      <th>2</th>\n",
              "      <td>2018-01-01 02:00:00</td>\n",
              "      <td>72</td>\n",
              "    </tr>\n",
              "    <tr>\n",
              "      <th>3</th>\n",
              "      <td>2018-01-01 03:00:00</td>\n",
              "      <td>2</td>\n",
              "    </tr>\n",
              "    <tr>\n",
              "      <th>4</th>\n",
              "      <td>2018-01-01 04:00:00</td>\n",
              "      <td>47</td>\n",
              "    </tr>\n",
              "    <tr>\n",
              "      <th>5</th>\n",
              "      <td>2018-01-01 05:00:00</td>\n",
              "      <td>99</td>\n",
              "    </tr>\n",
              "    <tr>\n",
              "      <th>6</th>\n",
              "      <td>2018-01-01 06:00:00</td>\n",
              "      <td>23</td>\n",
              "    </tr>\n",
              "    <tr>\n",
              "      <th>7</th>\n",
              "      <td>2018-01-01 07:00:00</td>\n",
              "      <td>63</td>\n",
              "    </tr>\n",
              "    <tr>\n",
              "      <th>8</th>\n",
              "      <td>2018-01-01 08:00:00</td>\n",
              "      <td>43</td>\n",
              "    </tr>\n",
              "    <tr>\n",
              "      <th>9</th>\n",
              "      <td>2018-01-01 09:00:00</td>\n",
              "      <td>90</td>\n",
              "    </tr>\n",
              "    <tr>\n",
              "      <th>10</th>\n",
              "      <td>2018-01-01 10:00:00</td>\n",
              "      <td>62</td>\n",
              "    </tr>\n",
              "    <tr>\n",
              "      <th>11</th>\n",
              "      <td>2018-01-01 11:00:00</td>\n",
              "      <td>12</td>\n",
              "    </tr>\n",
              "    <tr>\n",
              "      <th>12</th>\n",
              "      <td>2018-01-01 12:00:00</td>\n",
              "      <td>34</td>\n",
              "    </tr>\n",
              "    <tr>\n",
              "      <th>13</th>\n",
              "      <td>2018-01-01 13:00:00</td>\n",
              "      <td>37</td>\n",
              "    </tr>\n",
              "    <tr>\n",
              "      <th>14</th>\n",
              "      <td>2018-01-01 14:00:00</td>\n",
              "      <td>82</td>\n",
              "    </tr>\n",
              "  </tbody>\n",
              "</table>\n",
              "</div>"
            ],
            "text/plain": [
              "                  date  data\n",
              "0  2018-01-01 00:00:00    25\n",
              "1  2018-01-01 01:00:00    35\n",
              "2  2018-01-01 02:00:00    72\n",
              "3  2018-01-01 03:00:00     2\n",
              "4  2018-01-01 04:00:00    47\n",
              "5  2018-01-01 05:00:00    99\n",
              "6  2018-01-01 06:00:00    23\n",
              "7  2018-01-01 07:00:00    63\n",
              "8  2018-01-01 08:00:00    43\n",
              "9  2018-01-01 09:00:00    90\n",
              "10 2018-01-01 10:00:00    62\n",
              "11 2018-01-01 11:00:00    12\n",
              "12 2018-01-01 12:00:00    34\n",
              "13 2018-01-01 13:00:00    37\n",
              "14 2018-01-01 14:00:00    82"
            ]
          },
          "metadata": {
            "tags": []
          },
          "execution_count": 5
        }
      ]
    },
    {
      "cell_type": "code",
      "metadata": {
        "id": "xn7yXzzRYAyO",
        "colab_type": "code",
        "colab": {
          "base_uri": "https://localhost:8080/",
          "height": 235
        },
        "outputId": "d206e789-312c-46d3-fec5-24ec4c7de5a8"
      },
      "source": [
        "df['datetime'] = pd.to_datetime(df['date'])\n",
        "df = df.set_index('datetime')\n",
        "df.drop(['date'], axis=1, inplace=True)\n",
        "df.head()"
      ],
      "execution_count": 6,
      "outputs": [
        {
          "output_type": "execute_result",
          "data": {
            "text/html": [
              "<div>\n",
              "<style scoped>\n",
              "    .dataframe tbody tr th:only-of-type {\n",
              "        vertical-align: middle;\n",
              "    }\n",
              "\n",
              "    .dataframe tbody tr th {\n",
              "        vertical-align: top;\n",
              "    }\n",
              "\n",
              "    .dataframe thead th {\n",
              "        text-align: right;\n",
              "    }\n",
              "</style>\n",
              "<table border=\"1\" class=\"dataframe\">\n",
              "  <thead>\n",
              "    <tr style=\"text-align: right;\">\n",
              "      <th></th>\n",
              "      <th>data</th>\n",
              "    </tr>\n",
              "    <tr>\n",
              "      <th>datetime</th>\n",
              "      <th></th>\n",
              "    </tr>\n",
              "  </thead>\n",
              "  <tbody>\n",
              "    <tr>\n",
              "      <th>2018-01-01 00:00:00</th>\n",
              "      <td>25</td>\n",
              "    </tr>\n",
              "    <tr>\n",
              "      <th>2018-01-01 01:00:00</th>\n",
              "      <td>35</td>\n",
              "    </tr>\n",
              "    <tr>\n",
              "      <th>2018-01-01 02:00:00</th>\n",
              "      <td>72</td>\n",
              "    </tr>\n",
              "    <tr>\n",
              "      <th>2018-01-01 03:00:00</th>\n",
              "      <td>2</td>\n",
              "    </tr>\n",
              "    <tr>\n",
              "      <th>2018-01-01 04:00:00</th>\n",
              "      <td>47</td>\n",
              "    </tr>\n",
              "  </tbody>\n",
              "</table>\n",
              "</div>"
            ],
            "text/plain": [
              "                     data\n",
              "datetime                 \n",
              "2018-01-01 00:00:00    25\n",
              "2018-01-01 01:00:00    35\n",
              "2018-01-01 02:00:00    72\n",
              "2018-01-01 03:00:00     2\n",
              "2018-01-01 04:00:00    47"
            ]
          },
          "metadata": {
            "tags": []
          },
          "execution_count": 6
        }
      ]
    },
    {
      "cell_type": "code",
      "metadata": {
        "id": "_7LczkIQYE96",
        "colab_type": "code",
        "colab": {
          "base_uri": "https://localhost:8080/",
          "height": 1000
        },
        "outputId": "080e025d-be0d-4b92-c543-01d5607ed847"
      },
      "source": [
        "string_date_rng = [str(x) for x in date_rng]\n",
        "string_date_rng"
      ],
      "execution_count": 7,
      "outputs": [
        {
          "output_type": "execute_result",
          "data": {
            "text/plain": [
              "['2018-01-01 00:00:00',\n",
              " '2018-01-01 01:00:00',\n",
              " '2018-01-01 02:00:00',\n",
              " '2018-01-01 03:00:00',\n",
              " '2018-01-01 04:00:00',\n",
              " '2018-01-01 05:00:00',\n",
              " '2018-01-01 06:00:00',\n",
              " '2018-01-01 07:00:00',\n",
              " '2018-01-01 08:00:00',\n",
              " '2018-01-01 09:00:00',\n",
              " '2018-01-01 10:00:00',\n",
              " '2018-01-01 11:00:00',\n",
              " '2018-01-01 12:00:00',\n",
              " '2018-01-01 13:00:00',\n",
              " '2018-01-01 14:00:00',\n",
              " '2018-01-01 15:00:00',\n",
              " '2018-01-01 16:00:00',\n",
              " '2018-01-01 17:00:00',\n",
              " '2018-01-01 18:00:00',\n",
              " '2018-01-01 19:00:00',\n",
              " '2018-01-01 20:00:00',\n",
              " '2018-01-01 21:00:00',\n",
              " '2018-01-01 22:00:00',\n",
              " '2018-01-01 23:00:00',\n",
              " '2018-01-02 00:00:00',\n",
              " '2018-01-02 01:00:00',\n",
              " '2018-01-02 02:00:00',\n",
              " '2018-01-02 03:00:00',\n",
              " '2018-01-02 04:00:00',\n",
              " '2018-01-02 05:00:00',\n",
              " '2018-01-02 06:00:00',\n",
              " '2018-01-02 07:00:00',\n",
              " '2018-01-02 08:00:00',\n",
              " '2018-01-02 09:00:00',\n",
              " '2018-01-02 10:00:00',\n",
              " '2018-01-02 11:00:00',\n",
              " '2018-01-02 12:00:00',\n",
              " '2018-01-02 13:00:00',\n",
              " '2018-01-02 14:00:00',\n",
              " '2018-01-02 15:00:00',\n",
              " '2018-01-02 16:00:00',\n",
              " '2018-01-02 17:00:00',\n",
              " '2018-01-02 18:00:00',\n",
              " '2018-01-02 19:00:00',\n",
              " '2018-01-02 20:00:00',\n",
              " '2018-01-02 21:00:00',\n",
              " '2018-01-02 22:00:00',\n",
              " '2018-01-02 23:00:00',\n",
              " '2018-01-03 00:00:00',\n",
              " '2018-01-03 01:00:00',\n",
              " '2018-01-03 02:00:00',\n",
              " '2018-01-03 03:00:00',\n",
              " '2018-01-03 04:00:00',\n",
              " '2018-01-03 05:00:00',\n",
              " '2018-01-03 06:00:00',\n",
              " '2018-01-03 07:00:00',\n",
              " '2018-01-03 08:00:00',\n",
              " '2018-01-03 09:00:00',\n",
              " '2018-01-03 10:00:00',\n",
              " '2018-01-03 11:00:00',\n",
              " '2018-01-03 12:00:00',\n",
              " '2018-01-03 13:00:00',\n",
              " '2018-01-03 14:00:00',\n",
              " '2018-01-03 15:00:00',\n",
              " '2018-01-03 16:00:00',\n",
              " '2018-01-03 17:00:00',\n",
              " '2018-01-03 18:00:00',\n",
              " '2018-01-03 19:00:00',\n",
              " '2018-01-03 20:00:00',\n",
              " '2018-01-03 21:00:00',\n",
              " '2018-01-03 22:00:00',\n",
              " '2018-01-03 23:00:00',\n",
              " '2018-01-04 00:00:00',\n",
              " '2018-01-04 01:00:00',\n",
              " '2018-01-04 02:00:00',\n",
              " '2018-01-04 03:00:00',\n",
              " '2018-01-04 04:00:00',\n",
              " '2018-01-04 05:00:00',\n",
              " '2018-01-04 06:00:00',\n",
              " '2018-01-04 07:00:00',\n",
              " '2018-01-04 08:00:00',\n",
              " '2018-01-04 09:00:00',\n",
              " '2018-01-04 10:00:00',\n",
              " '2018-01-04 11:00:00',\n",
              " '2018-01-04 12:00:00',\n",
              " '2018-01-04 13:00:00',\n",
              " '2018-01-04 14:00:00',\n",
              " '2018-01-04 15:00:00',\n",
              " '2018-01-04 16:00:00',\n",
              " '2018-01-04 17:00:00',\n",
              " '2018-01-04 18:00:00',\n",
              " '2018-01-04 19:00:00',\n",
              " '2018-01-04 20:00:00',\n",
              " '2018-01-04 21:00:00',\n",
              " '2018-01-04 22:00:00',\n",
              " '2018-01-04 23:00:00',\n",
              " '2018-01-05 00:00:00',\n",
              " '2018-01-05 01:00:00',\n",
              " '2018-01-05 02:00:00',\n",
              " '2018-01-05 03:00:00',\n",
              " '2018-01-05 04:00:00',\n",
              " '2018-01-05 05:00:00',\n",
              " '2018-01-05 06:00:00',\n",
              " '2018-01-05 07:00:00',\n",
              " '2018-01-05 08:00:00',\n",
              " '2018-01-05 09:00:00',\n",
              " '2018-01-05 10:00:00',\n",
              " '2018-01-05 11:00:00',\n",
              " '2018-01-05 12:00:00',\n",
              " '2018-01-05 13:00:00',\n",
              " '2018-01-05 14:00:00',\n",
              " '2018-01-05 15:00:00',\n",
              " '2018-01-05 16:00:00',\n",
              " '2018-01-05 17:00:00',\n",
              " '2018-01-05 18:00:00',\n",
              " '2018-01-05 19:00:00',\n",
              " '2018-01-05 20:00:00',\n",
              " '2018-01-05 21:00:00',\n",
              " '2018-01-05 22:00:00',\n",
              " '2018-01-05 23:00:00',\n",
              " '2018-01-06 00:00:00',\n",
              " '2018-01-06 01:00:00',\n",
              " '2018-01-06 02:00:00',\n",
              " '2018-01-06 03:00:00',\n",
              " '2018-01-06 04:00:00',\n",
              " '2018-01-06 05:00:00',\n",
              " '2018-01-06 06:00:00',\n",
              " '2018-01-06 07:00:00',\n",
              " '2018-01-06 08:00:00',\n",
              " '2018-01-06 09:00:00',\n",
              " '2018-01-06 10:00:00',\n",
              " '2018-01-06 11:00:00',\n",
              " '2018-01-06 12:00:00',\n",
              " '2018-01-06 13:00:00',\n",
              " '2018-01-06 14:00:00',\n",
              " '2018-01-06 15:00:00',\n",
              " '2018-01-06 16:00:00',\n",
              " '2018-01-06 17:00:00',\n",
              " '2018-01-06 18:00:00',\n",
              " '2018-01-06 19:00:00',\n",
              " '2018-01-06 20:00:00',\n",
              " '2018-01-06 21:00:00',\n",
              " '2018-01-06 22:00:00',\n",
              " '2018-01-06 23:00:00',\n",
              " '2018-01-07 00:00:00',\n",
              " '2018-01-07 01:00:00',\n",
              " '2018-01-07 02:00:00',\n",
              " '2018-01-07 03:00:00',\n",
              " '2018-01-07 04:00:00',\n",
              " '2018-01-07 05:00:00',\n",
              " '2018-01-07 06:00:00',\n",
              " '2018-01-07 07:00:00',\n",
              " '2018-01-07 08:00:00',\n",
              " '2018-01-07 09:00:00',\n",
              " '2018-01-07 10:00:00',\n",
              " '2018-01-07 11:00:00',\n",
              " '2018-01-07 12:00:00',\n",
              " '2018-01-07 13:00:00',\n",
              " '2018-01-07 14:00:00',\n",
              " '2018-01-07 15:00:00',\n",
              " '2018-01-07 16:00:00',\n",
              " '2018-01-07 17:00:00',\n",
              " '2018-01-07 18:00:00',\n",
              " '2018-01-07 19:00:00',\n",
              " '2018-01-07 20:00:00',\n",
              " '2018-01-07 21:00:00',\n",
              " '2018-01-07 22:00:00',\n",
              " '2018-01-07 23:00:00',\n",
              " '2018-01-08 00:00:00']"
            ]
          },
          "metadata": {
            "tags": []
          },
          "execution_count": 7
        }
      ]
    },
    {
      "cell_type": "code",
      "metadata": {
        "id": "UQrl8VXUYI4K",
        "colab_type": "code",
        "colab": {
          "base_uri": "https://localhost:8080/",
          "height": 221
        },
        "outputId": "272396bf-acb9-4a7f-9d48-b2e10d1450e8"
      },
      "source": [
        "timestamp_date_rng = pd.to_datetime(string_date_rng, infer_datetime_format=True)\n",
        "timestamp_date_rng"
      ],
      "execution_count": 8,
      "outputs": [
        {
          "output_type": "execute_result",
          "data": {
            "text/plain": [
              "DatetimeIndex(['2018-01-01 00:00:00', '2018-01-01 01:00:00',\n",
              "               '2018-01-01 02:00:00', '2018-01-01 03:00:00',\n",
              "               '2018-01-01 04:00:00', '2018-01-01 05:00:00',\n",
              "               '2018-01-01 06:00:00', '2018-01-01 07:00:00',\n",
              "               '2018-01-01 08:00:00', '2018-01-01 09:00:00',\n",
              "               ...\n",
              "               '2018-01-07 15:00:00', '2018-01-07 16:00:00',\n",
              "               '2018-01-07 17:00:00', '2018-01-07 18:00:00',\n",
              "               '2018-01-07 19:00:00', '2018-01-07 20:00:00',\n",
              "               '2018-01-07 21:00:00', '2018-01-07 22:00:00',\n",
              "               '2018-01-07 23:00:00', '2018-01-08 00:00:00'],\n",
              "              dtype='datetime64[ns]', length=169, freq=None)"
            ]
          },
          "metadata": {
            "tags": []
          },
          "execution_count": 8
        }
      ]
    },
    {
      "cell_type": "code",
      "metadata": {
        "id": "PRQJ7NcJYK9v",
        "colab_type": "code",
        "colab": {
          "base_uri": "https://localhost:8080/",
          "height": 68
        },
        "outputId": "bd61783a-6fdf-42cb-de09-dfb3c6c8ee6b"
      },
      "source": [
        "string_date_rng_2 = ['June-01-2018', 'June-02-2018', 'June-03-2018']\n",
        "timestamp_date_rng_2 = [datetime.strptime(x,'%B-%d-%Y') for x in string_date_rng_2]\n",
        "timestamp_date_rng_2"
      ],
      "execution_count": 9,
      "outputs": [
        {
          "output_type": "execute_result",
          "data": {
            "text/plain": [
              "[datetime.datetime(2018, 6, 1, 0, 0),\n",
              " datetime.datetime(2018, 6, 2, 0, 0),\n",
              " datetime.datetime(2018, 6, 3, 0, 0)]"
            ]
          },
          "metadata": {
            "tags": []
          },
          "execution_count": 9
        }
      ]
    },
    {
      "cell_type": "code",
      "metadata": {
        "id": "dQK-YwqAYNmK",
        "colab_type": "code",
        "colab": {
          "base_uri": "https://localhost:8080/",
          "height": 142
        },
        "outputId": "09614428-7701-483e-e24a-b718b4734f17"
      },
      "source": [
        "df2 = pd.DataFrame(timestamp_date_rng_2, columns=['date'])\n",
        "df2"
      ],
      "execution_count": 10,
      "outputs": [
        {
          "output_type": "execute_result",
          "data": {
            "text/html": [
              "<div>\n",
              "<style scoped>\n",
              "    .dataframe tbody tr th:only-of-type {\n",
              "        vertical-align: middle;\n",
              "    }\n",
              "\n",
              "    .dataframe tbody tr th {\n",
              "        vertical-align: top;\n",
              "    }\n",
              "\n",
              "    .dataframe thead th {\n",
              "        text-align: right;\n",
              "    }\n",
              "</style>\n",
              "<table border=\"1\" class=\"dataframe\">\n",
              "  <thead>\n",
              "    <tr style=\"text-align: right;\">\n",
              "      <th></th>\n",
              "      <th>date</th>\n",
              "    </tr>\n",
              "  </thead>\n",
              "  <tbody>\n",
              "    <tr>\n",
              "      <th>0</th>\n",
              "      <td>2018-06-01</td>\n",
              "    </tr>\n",
              "    <tr>\n",
              "      <th>1</th>\n",
              "      <td>2018-06-02</td>\n",
              "    </tr>\n",
              "    <tr>\n",
              "      <th>2</th>\n",
              "      <td>2018-06-03</td>\n",
              "    </tr>\n",
              "  </tbody>\n",
              "</table>\n",
              "</div>"
            ],
            "text/plain": [
              "        date\n",
              "0 2018-06-01\n",
              "1 2018-06-02\n",
              "2 2018-06-03"
            ]
          },
          "metadata": {
            "tags": []
          },
          "execution_count": 10
        }
      ]
    },
    {
      "cell_type": "code",
      "metadata": {
        "id": "yqfoibd-YPQE",
        "colab_type": "code",
        "colab": {
          "base_uri": "https://localhost:8080/",
          "height": 824
        },
        "outputId": "0ded627f-a05b-452c-b307-d563c38c8526"
      },
      "source": [
        "df[df.index.day == 2]"
      ],
      "execution_count": 11,
      "outputs": [
        {
          "output_type": "execute_result",
          "data": {
            "text/html": [
              "<div>\n",
              "<style scoped>\n",
              "    .dataframe tbody tr th:only-of-type {\n",
              "        vertical-align: middle;\n",
              "    }\n",
              "\n",
              "    .dataframe tbody tr th {\n",
              "        vertical-align: top;\n",
              "    }\n",
              "\n",
              "    .dataframe thead th {\n",
              "        text-align: right;\n",
              "    }\n",
              "</style>\n",
              "<table border=\"1\" class=\"dataframe\">\n",
              "  <thead>\n",
              "    <tr style=\"text-align: right;\">\n",
              "      <th></th>\n",
              "      <th>data</th>\n",
              "    </tr>\n",
              "    <tr>\n",
              "      <th>datetime</th>\n",
              "      <th></th>\n",
              "    </tr>\n",
              "  </thead>\n",
              "  <tbody>\n",
              "    <tr>\n",
              "      <th>2018-01-02 00:00:00</th>\n",
              "      <td>17</td>\n",
              "    </tr>\n",
              "    <tr>\n",
              "      <th>2018-01-02 01:00:00</th>\n",
              "      <td>55</td>\n",
              "    </tr>\n",
              "    <tr>\n",
              "      <th>2018-01-02 02:00:00</th>\n",
              "      <td>70</td>\n",
              "    </tr>\n",
              "    <tr>\n",
              "      <th>2018-01-02 03:00:00</th>\n",
              "      <td>72</td>\n",
              "    </tr>\n",
              "    <tr>\n",
              "      <th>2018-01-02 04:00:00</th>\n",
              "      <td>32</td>\n",
              "    </tr>\n",
              "    <tr>\n",
              "      <th>2018-01-02 05:00:00</th>\n",
              "      <td>4</td>\n",
              "    </tr>\n",
              "    <tr>\n",
              "      <th>2018-01-02 06:00:00</th>\n",
              "      <td>78</td>\n",
              "    </tr>\n",
              "    <tr>\n",
              "      <th>2018-01-02 07:00:00</th>\n",
              "      <td>31</td>\n",
              "    </tr>\n",
              "    <tr>\n",
              "      <th>2018-01-02 08:00:00</th>\n",
              "      <td>84</td>\n",
              "    </tr>\n",
              "    <tr>\n",
              "      <th>2018-01-02 09:00:00</th>\n",
              "      <td>55</td>\n",
              "    </tr>\n",
              "    <tr>\n",
              "      <th>2018-01-02 10:00:00</th>\n",
              "      <td>8</td>\n",
              "    </tr>\n",
              "    <tr>\n",
              "      <th>2018-01-02 11:00:00</th>\n",
              "      <td>42</td>\n",
              "    </tr>\n",
              "    <tr>\n",
              "      <th>2018-01-02 12:00:00</th>\n",
              "      <td>66</td>\n",
              "    </tr>\n",
              "    <tr>\n",
              "      <th>2018-01-02 13:00:00</th>\n",
              "      <td>86</td>\n",
              "    </tr>\n",
              "    <tr>\n",
              "      <th>2018-01-02 14:00:00</th>\n",
              "      <td>4</td>\n",
              "    </tr>\n",
              "    <tr>\n",
              "      <th>2018-01-02 15:00:00</th>\n",
              "      <td>63</td>\n",
              "    </tr>\n",
              "    <tr>\n",
              "      <th>2018-01-02 16:00:00</th>\n",
              "      <td>64</td>\n",
              "    </tr>\n",
              "    <tr>\n",
              "      <th>2018-01-02 17:00:00</th>\n",
              "      <td>99</td>\n",
              "    </tr>\n",
              "    <tr>\n",
              "      <th>2018-01-02 18:00:00</th>\n",
              "      <td>25</td>\n",
              "    </tr>\n",
              "    <tr>\n",
              "      <th>2018-01-02 19:00:00</th>\n",
              "      <td>88</td>\n",
              "    </tr>\n",
              "    <tr>\n",
              "      <th>2018-01-02 20:00:00</th>\n",
              "      <td>80</td>\n",
              "    </tr>\n",
              "    <tr>\n",
              "      <th>2018-01-02 21:00:00</th>\n",
              "      <td>13</td>\n",
              "    </tr>\n",
              "    <tr>\n",
              "      <th>2018-01-02 22:00:00</th>\n",
              "      <td>15</td>\n",
              "    </tr>\n",
              "    <tr>\n",
              "      <th>2018-01-02 23:00:00</th>\n",
              "      <td>62</td>\n",
              "    </tr>\n",
              "  </tbody>\n",
              "</table>\n",
              "</div>"
            ],
            "text/plain": [
              "                     data\n",
              "datetime                 \n",
              "2018-01-02 00:00:00    17\n",
              "2018-01-02 01:00:00    55\n",
              "2018-01-02 02:00:00    70\n",
              "2018-01-02 03:00:00    72\n",
              "2018-01-02 04:00:00    32\n",
              "2018-01-02 05:00:00     4\n",
              "2018-01-02 06:00:00    78\n",
              "2018-01-02 07:00:00    31\n",
              "2018-01-02 08:00:00    84\n",
              "2018-01-02 09:00:00    55\n",
              "2018-01-02 10:00:00     8\n",
              "2018-01-02 11:00:00    42\n",
              "2018-01-02 12:00:00    66\n",
              "2018-01-02 13:00:00    86\n",
              "2018-01-02 14:00:00     4\n",
              "2018-01-02 15:00:00    63\n",
              "2018-01-02 16:00:00    64\n",
              "2018-01-02 17:00:00    99\n",
              "2018-01-02 18:00:00    25\n",
              "2018-01-02 19:00:00    88\n",
              "2018-01-02 20:00:00    80\n",
              "2018-01-02 21:00:00    13\n",
              "2018-01-02 22:00:00    15\n",
              "2018-01-02 23:00:00    62"
            ]
          },
          "metadata": {
            "tags": []
          },
          "execution_count": 11
        }
      ]
    },
    {
      "cell_type": "code",
      "metadata": {
        "id": "UK3YIoQgYQ0I",
        "colab_type": "code",
        "colab": {
          "base_uri": "https://localhost:8080/",
          "height": 824
        },
        "outputId": "afac0b53-8f64-437b-ddaa-825d1a8f7703"
      },
      "source": [
        "df['2018-01-03']"
      ],
      "execution_count": 12,
      "outputs": [
        {
          "output_type": "execute_result",
          "data": {
            "text/html": [
              "<div>\n",
              "<style scoped>\n",
              "    .dataframe tbody tr th:only-of-type {\n",
              "        vertical-align: middle;\n",
              "    }\n",
              "\n",
              "    .dataframe tbody tr th {\n",
              "        vertical-align: top;\n",
              "    }\n",
              "\n",
              "    .dataframe thead th {\n",
              "        text-align: right;\n",
              "    }\n",
              "</style>\n",
              "<table border=\"1\" class=\"dataframe\">\n",
              "  <thead>\n",
              "    <tr style=\"text-align: right;\">\n",
              "      <th></th>\n",
              "      <th>data</th>\n",
              "    </tr>\n",
              "    <tr>\n",
              "      <th>datetime</th>\n",
              "      <th></th>\n",
              "    </tr>\n",
              "  </thead>\n",
              "  <tbody>\n",
              "    <tr>\n",
              "      <th>2018-01-03 00:00:00</th>\n",
              "      <td>17</td>\n",
              "    </tr>\n",
              "    <tr>\n",
              "      <th>2018-01-03 01:00:00</th>\n",
              "      <td>73</td>\n",
              "    </tr>\n",
              "    <tr>\n",
              "      <th>2018-01-03 02:00:00</th>\n",
              "      <td>7</td>\n",
              "    </tr>\n",
              "    <tr>\n",
              "      <th>2018-01-03 03:00:00</th>\n",
              "      <td>49</td>\n",
              "    </tr>\n",
              "    <tr>\n",
              "      <th>2018-01-03 04:00:00</th>\n",
              "      <td>33</td>\n",
              "    </tr>\n",
              "    <tr>\n",
              "      <th>2018-01-03 05:00:00</th>\n",
              "      <td>84</td>\n",
              "    </tr>\n",
              "    <tr>\n",
              "      <th>2018-01-03 06:00:00</th>\n",
              "      <td>32</td>\n",
              "    </tr>\n",
              "    <tr>\n",
              "      <th>2018-01-03 07:00:00</th>\n",
              "      <td>24</td>\n",
              "    </tr>\n",
              "    <tr>\n",
              "      <th>2018-01-03 08:00:00</th>\n",
              "      <td>60</td>\n",
              "    </tr>\n",
              "    <tr>\n",
              "      <th>2018-01-03 09:00:00</th>\n",
              "      <td>61</td>\n",
              "    </tr>\n",
              "    <tr>\n",
              "      <th>2018-01-03 10:00:00</th>\n",
              "      <td>63</td>\n",
              "    </tr>\n",
              "    <tr>\n",
              "      <th>2018-01-03 11:00:00</th>\n",
              "      <td>44</td>\n",
              "    </tr>\n",
              "    <tr>\n",
              "      <th>2018-01-03 12:00:00</th>\n",
              "      <td>0</td>\n",
              "    </tr>\n",
              "    <tr>\n",
              "      <th>2018-01-03 13:00:00</th>\n",
              "      <td>61</td>\n",
              "    </tr>\n",
              "    <tr>\n",
              "      <th>2018-01-03 14:00:00</th>\n",
              "      <td>97</td>\n",
              "    </tr>\n",
              "    <tr>\n",
              "      <th>2018-01-03 15:00:00</th>\n",
              "      <td>7</td>\n",
              "    </tr>\n",
              "    <tr>\n",
              "      <th>2018-01-03 16:00:00</th>\n",
              "      <td>46</td>\n",
              "    </tr>\n",
              "    <tr>\n",
              "      <th>2018-01-03 17:00:00</th>\n",
              "      <td>15</td>\n",
              "    </tr>\n",
              "    <tr>\n",
              "      <th>2018-01-03 18:00:00</th>\n",
              "      <td>93</td>\n",
              "    </tr>\n",
              "    <tr>\n",
              "      <th>2018-01-03 19:00:00</th>\n",
              "      <td>86</td>\n",
              "    </tr>\n",
              "    <tr>\n",
              "      <th>2018-01-03 20:00:00</th>\n",
              "      <td>77</td>\n",
              "    </tr>\n",
              "    <tr>\n",
              "      <th>2018-01-03 21:00:00</th>\n",
              "      <td>54</td>\n",
              "    </tr>\n",
              "    <tr>\n",
              "      <th>2018-01-03 22:00:00</th>\n",
              "      <td>4</td>\n",
              "    </tr>\n",
              "    <tr>\n",
              "      <th>2018-01-03 23:00:00</th>\n",
              "      <td>16</td>\n",
              "    </tr>\n",
              "  </tbody>\n",
              "</table>\n",
              "</div>"
            ],
            "text/plain": [
              "                     data\n",
              "datetime                 \n",
              "2018-01-03 00:00:00    17\n",
              "2018-01-03 01:00:00    73\n",
              "2018-01-03 02:00:00     7\n",
              "2018-01-03 03:00:00    49\n",
              "2018-01-03 04:00:00    33\n",
              "2018-01-03 05:00:00    84\n",
              "2018-01-03 06:00:00    32\n",
              "2018-01-03 07:00:00    24\n",
              "2018-01-03 08:00:00    60\n",
              "2018-01-03 09:00:00    61\n",
              "2018-01-03 10:00:00    63\n",
              "2018-01-03 11:00:00    44\n",
              "2018-01-03 12:00:00     0\n",
              "2018-01-03 13:00:00    61\n",
              "2018-01-03 14:00:00    97\n",
              "2018-01-03 15:00:00     7\n",
              "2018-01-03 16:00:00    46\n",
              "2018-01-03 17:00:00    15\n",
              "2018-01-03 18:00:00    93\n",
              "2018-01-03 19:00:00    86\n",
              "2018-01-03 20:00:00    77\n",
              "2018-01-03 21:00:00    54\n",
              "2018-01-03 22:00:00     4\n",
              "2018-01-03 23:00:00    16"
            ]
          },
          "metadata": {
            "tags": []
          },
          "execution_count": 12
        }
      ]
    },
    {
      "cell_type": "code",
      "metadata": {
        "id": "kELO4A32YSQQ",
        "colab_type": "code",
        "colab": {
          "base_uri": "https://localhost:8080/",
          "height": 450
        },
        "outputId": "5d0981d0-8820-4502-ba16-7fd3fca485c3"
      },
      "source": [
        "df['2018-01-04':'2018-01-06']"
      ],
      "execution_count": 13,
      "outputs": [
        {
          "output_type": "execute_result",
          "data": {
            "text/html": [
              "<div>\n",
              "<style scoped>\n",
              "    .dataframe tbody tr th:only-of-type {\n",
              "        vertical-align: middle;\n",
              "    }\n",
              "\n",
              "    .dataframe tbody tr th {\n",
              "        vertical-align: top;\n",
              "    }\n",
              "\n",
              "    .dataframe thead th {\n",
              "        text-align: right;\n",
              "    }\n",
              "</style>\n",
              "<table border=\"1\" class=\"dataframe\">\n",
              "  <thead>\n",
              "    <tr style=\"text-align: right;\">\n",
              "      <th></th>\n",
              "      <th>data</th>\n",
              "    </tr>\n",
              "    <tr>\n",
              "      <th>datetime</th>\n",
              "      <th></th>\n",
              "    </tr>\n",
              "  </thead>\n",
              "  <tbody>\n",
              "    <tr>\n",
              "      <th>2018-01-04 00:00:00</th>\n",
              "      <td>27</td>\n",
              "    </tr>\n",
              "    <tr>\n",
              "      <th>2018-01-04 01:00:00</th>\n",
              "      <td>67</td>\n",
              "    </tr>\n",
              "    <tr>\n",
              "      <th>2018-01-04 02:00:00</th>\n",
              "      <td>43</td>\n",
              "    </tr>\n",
              "    <tr>\n",
              "      <th>2018-01-04 03:00:00</th>\n",
              "      <td>86</td>\n",
              "    </tr>\n",
              "    <tr>\n",
              "      <th>2018-01-04 04:00:00</th>\n",
              "      <td>65</td>\n",
              "    </tr>\n",
              "    <tr>\n",
              "      <th>...</th>\n",
              "      <td>...</td>\n",
              "    </tr>\n",
              "    <tr>\n",
              "      <th>2018-01-06 19:00:00</th>\n",
              "      <td>47</td>\n",
              "    </tr>\n",
              "    <tr>\n",
              "      <th>2018-01-06 20:00:00</th>\n",
              "      <td>2</td>\n",
              "    </tr>\n",
              "    <tr>\n",
              "      <th>2018-01-06 21:00:00</th>\n",
              "      <td>64</td>\n",
              "    </tr>\n",
              "    <tr>\n",
              "      <th>2018-01-06 22:00:00</th>\n",
              "      <td>88</td>\n",
              "    </tr>\n",
              "    <tr>\n",
              "      <th>2018-01-06 23:00:00</th>\n",
              "      <td>76</td>\n",
              "    </tr>\n",
              "  </tbody>\n",
              "</table>\n",
              "<p>72 rows × 1 columns</p>\n",
              "</div>"
            ],
            "text/plain": [
              "                     data\n",
              "datetime                 \n",
              "2018-01-04 00:00:00    27\n",
              "2018-01-04 01:00:00    67\n",
              "2018-01-04 02:00:00    43\n",
              "2018-01-04 03:00:00    86\n",
              "2018-01-04 04:00:00    65\n",
              "...                   ...\n",
              "2018-01-06 19:00:00    47\n",
              "2018-01-06 20:00:00     2\n",
              "2018-01-06 21:00:00    64\n",
              "2018-01-06 22:00:00    88\n",
              "2018-01-06 23:00:00    76\n",
              "\n",
              "[72 rows x 1 columns]"
            ]
          },
          "metadata": {
            "tags": []
          },
          "execution_count": 13
        }
      ]
    },
    {
      "cell_type": "code",
      "metadata": {
        "id": "Qzp8EpZGYTxs",
        "colab_type": "code",
        "colab": {
          "base_uri": "https://localhost:8080/",
          "height": 328
        },
        "outputId": "536498d1-66e1-4864-e36a-2c9ac2bd860c"
      },
      "source": [
        "# resample the data at a different frequency\n",
        "df.resample('D').mean()"
      ],
      "execution_count": 14,
      "outputs": [
        {
          "output_type": "execute_result",
          "data": {
            "text/html": [
              "<div>\n",
              "<style scoped>\n",
              "    .dataframe tbody tr th:only-of-type {\n",
              "        vertical-align: middle;\n",
              "    }\n",
              "\n",
              "    .dataframe tbody tr th {\n",
              "        vertical-align: top;\n",
              "    }\n",
              "\n",
              "    .dataframe thead th {\n",
              "        text-align: right;\n",
              "    }\n",
              "</style>\n",
              "<table border=\"1\" class=\"dataframe\">\n",
              "  <thead>\n",
              "    <tr style=\"text-align: right;\">\n",
              "      <th></th>\n",
              "      <th>data</th>\n",
              "    </tr>\n",
              "    <tr>\n",
              "      <th>datetime</th>\n",
              "      <th></th>\n",
              "    </tr>\n",
              "  </thead>\n",
              "  <tbody>\n",
              "    <tr>\n",
              "      <th>2018-01-01</th>\n",
              "      <td>52.875000</td>\n",
              "    </tr>\n",
              "    <tr>\n",
              "      <th>2018-01-02</th>\n",
              "      <td>50.541667</td>\n",
              "    </tr>\n",
              "    <tr>\n",
              "      <th>2018-01-03</th>\n",
              "      <td>45.958333</td>\n",
              "    </tr>\n",
              "    <tr>\n",
              "      <th>2018-01-04</th>\n",
              "      <td>50.708333</td>\n",
              "    </tr>\n",
              "    <tr>\n",
              "      <th>2018-01-05</th>\n",
              "      <td>51.875000</td>\n",
              "    </tr>\n",
              "    <tr>\n",
              "      <th>2018-01-06</th>\n",
              "      <td>37.750000</td>\n",
              "    </tr>\n",
              "    <tr>\n",
              "      <th>2018-01-07</th>\n",
              "      <td>55.083333</td>\n",
              "    </tr>\n",
              "    <tr>\n",
              "      <th>2018-01-08</th>\n",
              "      <td>53.000000</td>\n",
              "    </tr>\n",
              "  </tbody>\n",
              "</table>\n",
              "</div>"
            ],
            "text/plain": [
              "                 data\n",
              "datetime             \n",
              "2018-01-01  52.875000\n",
              "2018-01-02  50.541667\n",
              "2018-01-03  45.958333\n",
              "2018-01-04  50.708333\n",
              "2018-01-05  51.875000\n",
              "2018-01-06  37.750000\n",
              "2018-01-07  55.083333\n",
              "2018-01-08  53.000000"
            ]
          },
          "metadata": {
            "tags": []
          },
          "execution_count": 14
        }
      ]
    },
    {
      "cell_type": "code",
      "metadata": {
        "id": "vqVudmI1YVat",
        "colab_type": "code",
        "colab": {
          "base_uri": "https://localhost:8080/",
          "height": 390
        },
        "outputId": "b89ca4d4-2a93-409e-f942-2a418438f321"
      },
      "source": [
        "# Window Statistics such as a rolling mean or a rolling sum\n",
        "df['rolling_sum'] = df.rolling(3).sum()\n",
        "df.head(10)"
      ],
      "execution_count": 15,
      "outputs": [
        {
          "output_type": "execute_result",
          "data": {
            "text/html": [
              "<div>\n",
              "<style scoped>\n",
              "    .dataframe tbody tr th:only-of-type {\n",
              "        vertical-align: middle;\n",
              "    }\n",
              "\n",
              "    .dataframe tbody tr th {\n",
              "        vertical-align: top;\n",
              "    }\n",
              "\n",
              "    .dataframe thead th {\n",
              "        text-align: right;\n",
              "    }\n",
              "</style>\n",
              "<table border=\"1\" class=\"dataframe\">\n",
              "  <thead>\n",
              "    <tr style=\"text-align: right;\">\n",
              "      <th></th>\n",
              "      <th>data</th>\n",
              "      <th>rolling_sum</th>\n",
              "    </tr>\n",
              "    <tr>\n",
              "      <th>datetime</th>\n",
              "      <th></th>\n",
              "      <th></th>\n",
              "    </tr>\n",
              "  </thead>\n",
              "  <tbody>\n",
              "    <tr>\n",
              "      <th>2018-01-01 00:00:00</th>\n",
              "      <td>25</td>\n",
              "      <td>NaN</td>\n",
              "    </tr>\n",
              "    <tr>\n",
              "      <th>2018-01-01 01:00:00</th>\n",
              "      <td>35</td>\n",
              "      <td>NaN</td>\n",
              "    </tr>\n",
              "    <tr>\n",
              "      <th>2018-01-01 02:00:00</th>\n",
              "      <td>72</td>\n",
              "      <td>132.0</td>\n",
              "    </tr>\n",
              "    <tr>\n",
              "      <th>2018-01-01 03:00:00</th>\n",
              "      <td>2</td>\n",
              "      <td>109.0</td>\n",
              "    </tr>\n",
              "    <tr>\n",
              "      <th>2018-01-01 04:00:00</th>\n",
              "      <td>47</td>\n",
              "      <td>121.0</td>\n",
              "    </tr>\n",
              "    <tr>\n",
              "      <th>2018-01-01 05:00:00</th>\n",
              "      <td>99</td>\n",
              "      <td>148.0</td>\n",
              "    </tr>\n",
              "    <tr>\n",
              "      <th>2018-01-01 06:00:00</th>\n",
              "      <td>23</td>\n",
              "      <td>169.0</td>\n",
              "    </tr>\n",
              "    <tr>\n",
              "      <th>2018-01-01 07:00:00</th>\n",
              "      <td>63</td>\n",
              "      <td>185.0</td>\n",
              "    </tr>\n",
              "    <tr>\n",
              "      <th>2018-01-01 08:00:00</th>\n",
              "      <td>43</td>\n",
              "      <td>129.0</td>\n",
              "    </tr>\n",
              "    <tr>\n",
              "      <th>2018-01-01 09:00:00</th>\n",
              "      <td>90</td>\n",
              "      <td>196.0</td>\n",
              "    </tr>\n",
              "  </tbody>\n",
              "</table>\n",
              "</div>"
            ],
            "text/plain": [
              "                     data  rolling_sum\n",
              "datetime                              \n",
              "2018-01-01 00:00:00    25          NaN\n",
              "2018-01-01 01:00:00    35          NaN\n",
              "2018-01-01 02:00:00    72        132.0\n",
              "2018-01-01 03:00:00     2        109.0\n",
              "2018-01-01 04:00:00    47        121.0\n",
              "2018-01-01 05:00:00    99        148.0\n",
              "2018-01-01 06:00:00    23        169.0\n",
              "2018-01-01 07:00:00    63        185.0\n",
              "2018-01-01 08:00:00    43        129.0\n",
              "2018-01-01 09:00:00    90        196.0"
            ]
          },
          "metadata": {
            "tags": []
          },
          "execution_count": 15
        }
      ]
    },
    {
      "cell_type": "code",
      "metadata": {
        "id": "IhkJaYd8Yd0q",
        "colab_type": "code",
        "colab": {
          "base_uri": "https://localhost:8080/",
          "height": 390
        },
        "outputId": "05b5637a-4a84-4d90-e83e-ff79a6c37acd"
      },
      "source": [
        "df['rolling_sum_backfilled'] = df['rolling_sum'].fillna(method='backfill')\n",
        "df.head(10)"
      ],
      "execution_count": 16,
      "outputs": [
        {
          "output_type": "execute_result",
          "data": {
            "text/html": [
              "<div>\n",
              "<style scoped>\n",
              "    .dataframe tbody tr th:only-of-type {\n",
              "        vertical-align: middle;\n",
              "    }\n",
              "\n",
              "    .dataframe tbody tr th {\n",
              "        vertical-align: top;\n",
              "    }\n",
              "\n",
              "    .dataframe thead th {\n",
              "        text-align: right;\n",
              "    }\n",
              "</style>\n",
              "<table border=\"1\" class=\"dataframe\">\n",
              "  <thead>\n",
              "    <tr style=\"text-align: right;\">\n",
              "      <th></th>\n",
              "      <th>data</th>\n",
              "      <th>rolling_sum</th>\n",
              "      <th>rolling_sum_backfilled</th>\n",
              "    </tr>\n",
              "    <tr>\n",
              "      <th>datetime</th>\n",
              "      <th></th>\n",
              "      <th></th>\n",
              "      <th></th>\n",
              "    </tr>\n",
              "  </thead>\n",
              "  <tbody>\n",
              "    <tr>\n",
              "      <th>2018-01-01 00:00:00</th>\n",
              "      <td>25</td>\n",
              "      <td>NaN</td>\n",
              "      <td>132.0</td>\n",
              "    </tr>\n",
              "    <tr>\n",
              "      <th>2018-01-01 01:00:00</th>\n",
              "      <td>35</td>\n",
              "      <td>NaN</td>\n",
              "      <td>132.0</td>\n",
              "    </tr>\n",
              "    <tr>\n",
              "      <th>2018-01-01 02:00:00</th>\n",
              "      <td>72</td>\n",
              "      <td>132.0</td>\n",
              "      <td>132.0</td>\n",
              "    </tr>\n",
              "    <tr>\n",
              "      <th>2018-01-01 03:00:00</th>\n",
              "      <td>2</td>\n",
              "      <td>109.0</td>\n",
              "      <td>109.0</td>\n",
              "    </tr>\n",
              "    <tr>\n",
              "      <th>2018-01-01 04:00:00</th>\n",
              "      <td>47</td>\n",
              "      <td>121.0</td>\n",
              "      <td>121.0</td>\n",
              "    </tr>\n",
              "    <tr>\n",
              "      <th>2018-01-01 05:00:00</th>\n",
              "      <td>99</td>\n",
              "      <td>148.0</td>\n",
              "      <td>148.0</td>\n",
              "    </tr>\n",
              "    <tr>\n",
              "      <th>2018-01-01 06:00:00</th>\n",
              "      <td>23</td>\n",
              "      <td>169.0</td>\n",
              "      <td>169.0</td>\n",
              "    </tr>\n",
              "    <tr>\n",
              "      <th>2018-01-01 07:00:00</th>\n",
              "      <td>63</td>\n",
              "      <td>185.0</td>\n",
              "      <td>185.0</td>\n",
              "    </tr>\n",
              "    <tr>\n",
              "      <th>2018-01-01 08:00:00</th>\n",
              "      <td>43</td>\n",
              "      <td>129.0</td>\n",
              "      <td>129.0</td>\n",
              "    </tr>\n",
              "    <tr>\n",
              "      <th>2018-01-01 09:00:00</th>\n",
              "      <td>90</td>\n",
              "      <td>196.0</td>\n",
              "      <td>196.0</td>\n",
              "    </tr>\n",
              "  </tbody>\n",
              "</table>\n",
              "</div>"
            ],
            "text/plain": [
              "                     data  rolling_sum  rolling_sum_backfilled\n",
              "datetime                                                      \n",
              "2018-01-01 00:00:00    25          NaN                   132.0\n",
              "2018-01-01 01:00:00    35          NaN                   132.0\n",
              "2018-01-01 02:00:00    72        132.0                   132.0\n",
              "2018-01-01 03:00:00     2        109.0                   109.0\n",
              "2018-01-01 04:00:00    47        121.0                   121.0\n",
              "2018-01-01 05:00:00    99        148.0                   148.0\n",
              "2018-01-01 06:00:00    23        169.0                   169.0\n",
              "2018-01-01 07:00:00    63        185.0                   185.0\n",
              "2018-01-01 08:00:00    43        129.0                   129.0\n",
              "2018-01-01 09:00:00    90        196.0                   196.0"
            ]
          },
          "metadata": {
            "tags": []
          },
          "execution_count": 16
        }
      ]
    },
    {
      "cell_type": "code",
      "metadata": {
        "id": "eqiJ6eimYhEN",
        "colab_type": "code",
        "colab": {
          "base_uri": "https://localhost:8080/",
          "height": 34
        },
        "outputId": "f572d448-e3c9-46c0-b390-537d22201a02"
      },
      "source": [
        "epoch_t = 1529272655\n",
        "real_t = pd.to_datetime(epoch_t, unit='s')\n",
        "real_t"
      ],
      "execution_count": 17,
      "outputs": [
        {
          "output_type": "execute_result",
          "data": {
            "text/plain": [
              "Timestamp('2018-06-17 21:57:35')"
            ]
          },
          "metadata": {
            "tags": []
          },
          "execution_count": 17
        }
      ]
    },
    {
      "cell_type": "code",
      "metadata": {
        "id": "IC-0LUdPYqJv",
        "colab_type": "code",
        "colab": {
          "base_uri": "https://localhost:8080/",
          "height": 34
        },
        "outputId": "e73e141f-b16a-447a-eaaf-839f9428f12f"
      },
      "source": [
        "real_t.tz_localize('UTC').tz_convert('US/Pacific')"
      ],
      "execution_count": 19,
      "outputs": [
        {
          "output_type": "execute_result",
          "data": {
            "text/plain": [
              "Timestamp('2018-06-17 14:57:35-0700', tz='US/Pacific')"
            ]
          },
          "metadata": {
            "tags": []
          },
          "execution_count": 19
        }
      ]
    }
  ]
}