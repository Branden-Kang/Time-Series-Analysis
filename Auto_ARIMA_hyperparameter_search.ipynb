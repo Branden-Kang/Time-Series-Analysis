{
  "nbformat": 4,
  "nbformat_minor": 0,
  "metadata": {
    "colab": {
      "name": "Auto ARIMA hyperparameter search.ipynb",
      "provenance": [],
      "authorship_tag": "ABX9TyNx/fJpi3HLrq0ml19Fd0t2"
    },
    "kernelspec": {
      "name": "python3",
      "display_name": "Python 3"
    },
    "language_info": {
      "name": "python"
    }
  },
  "cells": [
    {
      "cell_type": "markdown",
      "source": [
        "[Reference](https://vitomirj.medium.com/auto-arima-hyperparameter-search-ab991a21c2bd)"
      ],
      "metadata": {
        "id": "lq6gnPGdAWc0"
      }
    },
    {
      "cell_type": "markdown",
      "source": [
        "# Example with CO2 data\n"
      ],
      "metadata": {
        "id": "ROxd1y6sA4Vj"
      }
    },
    {
      "cell_type": "code",
      "source": [
        "!pip install git+https://github.com/statsmodels/statsmodels.git"
      ],
      "metadata": {
        "id": "aLntPuiCAjGX"
      },
      "execution_count": 5,
      "outputs": []
    },
    {
      "cell_type": "code",
      "execution_count": 4,
      "metadata": {
        "id": "fulLgbAE_W3s"
      },
      "outputs": [],
      "source": [
        "import pandas as pd\n",
        "import numpy as np\n",
        "from statsmodels.tsa.seasonal import STL\n",
        "import matplotlib.pyplot as plt\n",
        "from statsmodels.tsa.stattools import adfuller\n",
        "import statsmodels.api as sm\n",
        "plt.rc('figure',figsize=(10,6))\n",
        "plt.rc('font',size=13)\n",
        "stl = STL(co2, seasonal=7)\n",
        "res = stl.fit()\n",
        "fig = res.plot()"
      ]
    },
    {
      "cell_type": "code",
      "source": [
        "def test_stationarity(timeseries, rolling=12):\n",
        "    \n",
        "    #Determing rolling statistics\n",
        "    rolmean = timeseries.rolling(rolling).mean()\n",
        "    rolstd = timeseries.rolling(rolling).std()\n",
        "\n",
        "    #Plot rolling statistics:\n",
        "    plt.figure(figsize=(10, 5))\n",
        "    orig = plt.plot(timeseries, color='blue',label='Original')\n",
        "    mean = plt.plot(rolmean, color='red', label='Rolling Mean')\n",
        "    std = plt.plot(rolstd, color='black', label = 'Rolling Std')\n",
        "    plt.title('Power consumption Old data')\n",
        "    plt.xlabel('Time - periods(30s)')\n",
        "    plt.ylabel('Power consumption in Watts')\n",
        "    plt.legend(loc='best')\n",
        "    plt.title('Rolling Mean & Standard Deviation')\n",
        "    plt.show()\n",
        "\n",
        "    \n",
        "    #Perform Dickey-Fuller test:\n",
        "    print ('Results of Dickey-Fuller Test:') \n",
        "    dftest = adfuller(timeseries, autolag='AIC')\n",
        "    dfoutput = pd.Series(dftest[0:4], index=['Test Statistic','p-value','#Lags Used','Number of Observations Used'])\n",
        "    for key,value in dftest[4].items():\n",
        "        dfoutput['Critical Value (%s)'%key] = value\n",
        "    print (dfoutput)\n",
        "    if dfoutput['p-value'] < 0.05:\n",
        "        print('The time series is stationary at 95% level of confidence')\n",
        "    else:\n",
        "        print('The time series is not stationary at 95% level of confidence')\n",
        "co2_diff = co2 - co2.shift(1)\n",
        "co2_diff = co2_diff.dropna()\n",
        "test_stationarity(co2_diff, rolling=12)"
      ],
      "metadata": {
        "id": "C8qqJJvvAZX8"
      },
      "execution_count": 6,
      "outputs": []
    },
    {
      "cell_type": "code",
      "source": [
        "fig, axes = plt.subplots(1, 2, figsize=(15,4))\n",
        "\n",
        "fig = sm.graphics.tsa.plot_acf(co2, \n",
        "                               lags=40, \n",
        "                               ax=axes[0])\n",
        "fig = sm.graphics.tsa.plot_pacf(co2, \n",
        "                                lags=40, \n",
        "                                ax=axes[1])"
      ],
      "metadata": {
        "id": "d_hq3-8AAn4T"
      },
      "execution_count": 7,
      "outputs": []
    },
    {
      "cell_type": "code",
      "source": [
        "import itertools\n",
        "import warnings\n",
        "warnings.filterwarnings('ignore')\n",
        "# Grid Search\n",
        "p = d = q = range(0,3) # p, d, and q can be either 0, 1, or 2\n",
        "pdq = list(itertools.product(p,d,q)) # gets all possible combinations of p, d, and q \n",
        "p2 = d2 = q2 = range(0, 2) # second set of p's, d's, and q's for seasonal parameters\n",
        "pdq2 = list(itertools.product(p2,d2,q2)) # similar to code above but for seasonal parameters\n",
        "s = 12 # here I use twelve but the number here is representative of the periodicity of the seasonal cycle\n",
        "pdqs2 = [(c[0], c[1], c[2], s) for c in pdq2]\n",
        "combs = {}\n",
        "aics = []\n",
        "# Grid Search Continued\n",
        "for combination in pdq:\n",
        "    for seasonal_combination in pdqs2:\n",
        "        try:\n",
        "            model = sm.tsa.statespace.SARIMAX(co2, order=combination, seasonal_order=seasonal_combination,\n",
        "                                             enforce_stationarity=True,\n",
        "                                             enforce_invertibility=True)\n",
        "            model = model.fit(disp=False)\n",
        "            combs.update({model.aic : [combination, seasonal_combination]})\n",
        "            aics.append(model.aic)\n",
        "            \n",
        "        except:\n",
        "            continue\n",
        "            \n",
        "best_aic = min(aics)"
      ],
      "metadata": {
        "id": "JIqEV2vYApip"
      },
      "execution_count": 8,
      "outputs": []
    },
    {
      "cell_type": "code",
      "source": [
        "print('best aic is: ', round(best_aic, 3))\n",
        "print(40*'==')\n",
        "print ('ARIMA parameters: ', '\\n', 'AR: ', combs[best_aic][0][0], '\\n', 'I: ',combs[best_aic][0][1], '\\n', 'MA: ',combs[best_aic][0][2])\n",
        "print('Seasonal parameters:', combs[best_aic][1])"
      ],
      "metadata": {
        "id": "yY6CpTTzAvyU"
      },
      "execution_count": 9,
      "outputs": []
    },
    {
      "cell_type": "markdown",
      "source": [
        "# Forecasting with selected hyperparameters\n"
      ],
      "metadata": {
        "id": "5a75m5h0AyCH"
      }
    },
    {
      "cell_type": "code",
      "source": [
        "def train_test_split(timeseries, lags_for_prediction=12):\n",
        "    split=len(timeseries)-lags_for_prediction\n",
        "    train=timeseries[:split]\n",
        "    test=timeseries[split:]\n",
        "    return train, test\n",
        "train_series, test_series = train_test_split(co2, 12)"
      ],
      "metadata": {
        "id": "IGPv3iS6AxGZ"
      },
      "execution_count": 10,
      "outputs": []
    },
    {
      "cell_type": "code",
      "source": [
        "def forecasting (p,d,q, season, lags_for_forecast, train_series):\n",
        "\n",
        "    model = sm.tsa.statespace.SARIMAX(train_series, order=(p,d,q), seasonal_order=(p,d,q,season),\n",
        "                                             simple_differencing=0, #if True  time series provided as endog is literally differenced and an ARMA model is fit to the resulting new time series\n",
        "                                             enforce_stationarity=True,\n",
        "                                             enforce_invertibility=False)\n",
        "    fitted = model.fit(disp=-1)  \n",
        "\n",
        "    # Forecast\n",
        "    forecast = fitted.forecast(lags_for_forecast)\n",
        "\n",
        "    # Plot\n",
        "    plt.figure(figsize=(12,5), dpi=100)\n",
        "    plt.plot(train_series, color='blue', label='train')\n",
        "    plt.plot(test_series, color='green', label='test', alpha=0.6)\n",
        "    plt.plot(forecast, color='red', label='forecast')\n",
        "    plt.title('Forecast vs Actuals')\n",
        "    plt.legend(loc='upper left', fontsize=8)\n",
        "    plt.show()\n",
        "    RSS=np.sqrt(sum(forecast.values-test_series.values.reshape(-1))**2)/lags_for_forecast\n",
        "    print(\"\\n\", '\\033[1m' +'Root Squared Error (RSS) of SARIMAX model(p,d,q)(p,d,q,s)' + '\\033[0m',(p,d,q),season,':', round(RSS, 3),\"\\n\")\n",
        "    print(fitted.summary())\n",
        "forecasting (2,1,1, 12, 12, train_series)"
      ],
      "metadata": {
        "id": "RDsFEIEEAzV8"
      },
      "execution_count": 11,
      "outputs": []
    }
  ]
}