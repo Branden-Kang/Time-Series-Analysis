{
  "nbformat": 4,
  "nbformat_minor": 0,
  "metadata": {
    "colab": {
      "name": "Time Series with Statsmodels: Basic Concepts Needed for Forecasting.ipynb",
      "provenance": [],
      "authorship_tag": "ABX9TyMSJuot0Hn14TFLClyc6AV7"
    },
    "kernelspec": {
      "name": "python3",
      "display_name": "Python 3"
    },
    "language_info": {
      "name": "python"
    }
  },
  "cells": [
    {
      "cell_type": "markdown",
      "source": [
        "[Reference](https://towardsdev.com/time-series-with-statsmodels-basic-concepts-needed-for-forecasting-1-af058aaaea0e)"
      ],
      "metadata": {
        "id": "VN4POmxeoGzY"
      }
    },
    {
      "cell_type": "code",
      "execution_count": 1,
      "metadata": {
        "id": "uMeN8ggkn0EY"
      },
      "outputs": [],
      "source": [
        "from statsmodels.tsa.seasonal import seasonal_decompose\n",
        "\n",
        "def decomposition(timeseries, period):\n",
        "    decomposition = seasonal_decompose(timeseries, period=period)\n",
        "    trend = decomposition.trend\n",
        "    seasonal = decomposition.seasonal\n",
        "    residual = decomposition.resid\n",
        "\n",
        "    plt.figure(figsize=(10, 5))\n",
        "    plt.subplot(411)\n",
        "    plt.plot(timeseries, label='Original')\n",
        "    plt.legend(loc='best')\n",
        "    plt.subplot(412)\n",
        "    plt.plot(trend, label='Trend')\n",
        "    plt.legend()\n",
        "    plt.subplot(413)\n",
        "    plt.plot(seasonal,label='Seasonality')\n",
        "    plt.legend()\n",
        "    plt.subplot(414)\n",
        "    plt.plot(residual, label='Residuals')\n",
        "    plt.legend()\n",
        "    plt.tight_layout()\n",
        "    plt.show(block=False)\n",
        "decomposition(data, 12)"
      ]
    },
    {
      "cell_type": "code",
      "source": [
        "from statsmodels.tsa.stattools import adfuller\n",
        "def test_stationarity(timeseries, rolling=12):\n",
        "    \n",
        "    #Determing rolling statistics\n",
        "    rolmean = timeseries.rolling(rolling).mean()\n",
        "    rolstd = timeseries.rolling(rolling).std()\n",
        "\n",
        "    #Plot rolling statistics:\n",
        "    plt.figure(figsize=(10, 5))\n",
        "    orig = plt.plot(timeseries, color='blue',label='Original')\n",
        "    mean = plt.plot(rolmean, color='red', label='Rolling Mean')\n",
        "    std = plt.plot(rolstd, color='black', label = 'Rolling Std')\n",
        "    plt.title('Power consumption Old data')\n",
        "    plt.xlabel('Time - periods(30s)')\n",
        "    plt.ylabel('Power consumption in Watts')\n",
        "    plt.legend(loc='best')\n",
        "    plt.title('Rolling Mean & Standard Deviation')\n",
        "    plt.show()\n",
        "\n",
        "    \n",
        "    #Perform Dickey-Fuller test:\n",
        "    print ('Results of Dickey-Fuller Test:') \n",
        "    dftest = adfuller(timeseries, autolag='AIC')\n",
        "    dfoutput = pd.Series(dftest[0:4], index=['Test Statistic','p-value','#Lags Used','Number of Observations Used'])\n",
        "    for key,value in dftest[4].items():\n",
        "        dfoutput['Critical Value (%s)'%key] = value\n",
        "    print (dfoutput)\n",
        "    if dfoutput['p-value'] < 0.05:\n",
        "        print('The timeseries is stationary at 95% level of confidence')\n",
        "    else:\n",
        "        print('The timeseries is not stationary at 95% level of confidence')\n",
        "test_stationarity(data, rolling=12)"
      ],
      "metadata": {
        "id": "ofUnAzHKoJUG"
      },
      "execution_count": 2,
      "outputs": []
    },
    {
      "cell_type": "code",
      "source": [
        "def differencing(timeseries, second_order=False):\n",
        "    diff = timeseries - timeseries.shift(1)\n",
        "    diff=diff.dropna()\n",
        "    print('Results of stationarity of the first ordered differencing')\n",
        "    test_stationarity(diff)\n",
        "    if second_order:\n",
        "        diff_sec = diff - diff.shift(1)\n",
        "        diff_sec=diff_sec.dropna()\n",
        "        print('\\n', 'Results of stationarity of the SECOND ordered differencing')\n",
        "        test_stationarity(diff_sec)\n",
        "differencing(data, False)"
      ],
      "metadata": {
        "id": "kEC5yG4uoLdW"
      },
      "execution_count": 3,
      "outputs": []
    },
    {
      "cell_type": "code",
      "source": [
        "differencing(data, True)"
      ],
      "metadata": {
        "id": "8CGId67ooNXq"
      },
      "execution_count": 4,
      "outputs": []
    }
  ]
}