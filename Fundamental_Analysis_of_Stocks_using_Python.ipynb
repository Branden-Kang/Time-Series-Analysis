{
  "nbformat": 4,
  "nbformat_minor": 0,
  "metadata": {
    "colab": {
      "name": "Fundamental Analysis of Stocks using Python.ipynb",
      "provenance": [],
      "authorship_tag": "ABX9TyMMeYuXpo+vNn4HNeNh/ujE"
    },
    "kernelspec": {
      "name": "python3",
      "display_name": "Python 3"
    },
    "language_info": {
      "name": "python"
    }
  },
  "cells": [
    {
      "cell_type": "markdown",
      "source": [
        "[Reference](https://medium.com/geekculture/fundamental-analysis-of-stocks-using-python-d5ad050e6372)"
      ],
      "metadata": {
        "id": "dlaQQhj30rQY"
      }
    },
    {
      "cell_type": "code",
      "execution_count": null,
      "metadata": {
        "colab": {
          "base_uri": "https://localhost:8080/"
        },
        "id": "NfrtHdB8zH4_",
        "outputId": "2da601b6-0344-4f89-d160-5a562d9d2af8"
      },
      "outputs": [
        {
          "output_type": "stream",
          "name": "stdout",
          "text": [
            "MARKET CAPITILIZATION - INFY: 606360.0 Cr\n"
          ]
        }
      ],
      "source": [
        "from bs4 import BeautifulSoup\n",
        "from urllib.request import urlopen, Request\n",
        "\n",
        "SCRIP = 'INFY'\n",
        "link = f'https://www.screener.in/company/{SCRIP}'\n",
        "hdr = {'User-Agent':'Mozilla/5.0'}\n",
        "req = Request(link,headers=hdr)\n",
        " \n",
        "try:\n",
        "    page=urlopen(req)\n",
        "    soup = BeautifulSoup(page)\n",
        "    \n",
        "    div_html = soup.find('div',{'class': 'company-ratios'})\n",
        "    ul_html = div_html.find('ul',{'id': 'top-ratios'})\n",
        "    market_cap = 0.0\n",
        "        \n",
        "    for li in ul_html.find_all(\"li\"):\n",
        "        name_span = li.find('span',{'class':'name'})\n",
        "        if 'Market Cap' in name_span.text: \n",
        "            num_span = li.find('span',{'class':'number'})\n",
        "            num_span = num_span.text.replace(',', '')\n",
        "            market_cap = float(num_span) if (num_span != '') else 0.0\n",
        "            break\n",
        "    \n",
        "    print(f'MARKET CAPITILIZATION - {SCRIP}: {market_cap} Cr')\n",
        "\n",
        "except:\n",
        "    print(f'EXCEPTION THROWN: UNABLE TO FETCH DATA FOR {SCRIP}')"
      ]
    }
  ]
}