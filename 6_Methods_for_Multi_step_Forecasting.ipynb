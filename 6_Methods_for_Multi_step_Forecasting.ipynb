{
  "nbformat": 4,
  "nbformat_minor": 0,
  "metadata": {
    "colab": {
      "provenance": [],
      "collapsed_sections": [],
      "authorship_tag": "ABX9TyNODp33xTqp/bz87m5O1QTe"
    },
    "kernelspec": {
      "name": "python3",
      "display_name": "Python 3"
    },
    "language_info": {
      "name": "python"
    }
  },
  "cells": [
    {
      "cell_type": "markdown",
      "source": [
        "[Reference](https://towardsdatascience.com/6-methods-for-multi-step-forecasting-823cbde4127a)"
      ],
      "metadata": {
        "id": "KE4eoZzqtNtg"
      }
    },
    {
      "cell_type": "code",
      "execution_count": 1,
      "metadata": {
        "id": "aehHGKL2tJqK"
      },
      "outputs": [],
      "source": [
        "import pandas as pd\n",
        "import numpy as np\n",
        "from sklearn.model_selection import train_test_split\n",
        "\n",
        "# dummy time series from 0 to 19\n",
        "tseries = pd.Series(range(20))\n",
        "\n",
        "# time series to matrix format\n",
        "tseries_df = pd.concat([tseries.shift(i) for i in range(7, -1, -1)], axis=1)\n",
        "# setting up column names and dropping invalid rows\n",
        "tseries_df.columns = ['t-' + str(i) for i in list(reversed(range(4)))] + \\\n",
        "                     ['t+' + str(i) for i in list(range(1, 5))]\n",
        "tseries_df = tseries_df.dropna().reset_index(drop=True)\n",
        "\n",
        "# splitting explanatory variables from target variables\n",
        "target_columns = tseries_df.columns.str.contains('\\+')\n",
        "X = tseries_df.iloc[:, ~target_columns]\n",
        "Y = tseries_df.iloc[:, target_columns]\n",
        "\n",
        "# train/test split\n",
        "X_tr, X_ts, Y_tr, Y_ts = train_test_split(X, Y, test_size=0.2, shuffle=False)"
      ]
    },
    {
      "cell_type": "markdown",
      "source": [
        "# 1. Recursive (a.k.a. Iterated)\n"
      ],
      "metadata": {
        "id": "KmMWPLwotbqk"
      }
    },
    {
      "cell_type": "code",
      "source": [
        "from sklearn.linear_model import LinearRegression\n",
        "# using a linear regression for simplicity. any regression will do.\n",
        "recursive = LinearRegression()\n",
        "# training it to predict the next value of the series (t+1)\n",
        "recursive.fit(X_tr, Y_tr['t+1'])\n",
        "# setting up the prediction data structure\n",
        "predictions = pd.DataFrame(np.zeros(Y_ts.shape), columns=Y_ts.columns)\n",
        "\n",
        "# making predictions for t+1\n",
        "yh = recursive.predict(X_ts)\n",
        "predictions['t+1'] = yh\n",
        "\n",
        "# iterating the model with its own predictions for multi-step forecasting\n",
        "X_ts_aux = X_ts.copy()\n",
        "for i in range(2, Y_tr.shape[1] + 1):\n",
        "    X_ts_aux.iloc[:, :-1] = X_ts_aux.iloc[:, 1:].values\n",
        "    X_ts_aux['t-0'] = yh\n",
        "\n",
        "    yh = recursive.predict(X_ts_aux)\n",
        "\n",
        "    predictions[f't+{i}'] = yh"
      ],
      "metadata": {
        "id": "rtLzmb92talN"
      },
      "execution_count": 2,
      "outputs": []
    },
    {
      "cell_type": "markdown",
      "source": [
        "# 2. Direct\n"
      ],
      "metadata": {
        "id": "PRmzrOjCtefA"
      }
    },
    {
      "cell_type": "code",
      "source": [
        "from sklearn.multioutput import MultiOutputRegressor\n",
        "\n",
        "direct = MultiOutputRegressor(LinearRegression())\n",
        "direct.fit(X_tr, Y_tr)\n",
        "direct.predict(X_ts)"
      ],
      "metadata": {
        "colab": {
          "base_uri": "https://localhost:8080/"
        },
        "id": "YBqJK60-tdW8",
        "outputId": "f0d42780-6eef-4b90-d6c0-5629337adce8"
      },
      "execution_count": 3,
      "outputs": [
        {
          "output_type": "execute_result",
          "data": {
            "text/plain": [
              "array([[14., 15., 16., 17.],\n",
              "       [15., 16., 17., 18.],\n",
              "       [16., 17., 18., 19.]])"
            ]
          },
          "metadata": {},
          "execution_count": 3
        }
      ]
    },
    {
      "cell_type": "markdown",
      "source": [
        "# 3. DirectRecursive\n"
      ],
      "metadata": {
        "id": "WU_yGlbvtjCS"
      }
    },
    {
      "cell_type": "code",
      "source": [
        "from sklearn.multioutput import RegressorChain\n",
        "\n",
        "dirrec = RegressorChain(LinearRegression())\n",
        "dirrec.fit(X_tr, Y_tr)\n",
        "dirrec.predict(X_ts)"
      ],
      "metadata": {
        "colab": {
          "base_uri": "https://localhost:8080/"
        },
        "id": "2wxuxeZqtiFh",
        "outputId": "dde681ee-d59b-43dc-8adf-e3f1ab573e2d"
      },
      "execution_count": 4,
      "outputs": [
        {
          "output_type": "execute_result",
          "data": {
            "text/plain": [
              "array([[14., 15., 16., 17.],\n",
              "       [15., 16., 17., 18.],\n",
              "       [16., 17., 18., 19.]])"
            ]
          },
          "metadata": {},
          "execution_count": 4
        }
      ]
    },
    {
      "cell_type": "markdown",
      "source": [
        "# 4. Data as Demonstrator (DaD)\n",
        "https://github.com/arunvenk/DaD"
      ],
      "metadata": {
        "id": "zPzRBAg3tmHK"
      }
    },
    {
      "cell_type": "markdown",
      "source": [
        "# 5. Dynamic Factor Machine Learning (DFML)\n"
      ],
      "metadata": {
        "id": "miSHPfYvxMhL"
      }
    },
    {
      "cell_type": "code",
      "source": [
        "from sklearn.decomposition import PCA\n",
        "from sklearn.preprocessing import StandardScaler\n",
        "\n",
        "# combining DFML with a direct approach\n",
        "model = MultiOutputRegressor(LinearRegression())\n",
        "\n",
        "scaler = StandardScaler()\n",
        "# selecting 2 components for simplicity. This depends on the data.\n",
        "pca = PCA(n_components=2)\n",
        "# transforming the training target variables\n",
        "Y_tr_t = scaler.fit_transform(Y_tr)\n",
        "Y_tr_pca = pca.fit_transform(Y_tr_t)\n",
        "\n",
        "# fitting a model with transformed targets\n",
        "model.fit(X_tr, Y_tr_pca)\n",
        "\n",
        "# getting transformed predictions and reverting to the original shape and scale\n",
        "predictions_raw = model.predict(X_ts)\n",
        "predictions = scaler.inverse_transform(pca.inverse_transform(predictions_raw))"
      ],
      "metadata": {
        "id": "P2i5tHDstldG"
      },
      "execution_count": 5,
      "outputs": []
    },
    {
      "cell_type": "markdown",
      "source": [
        "# 6. Multi output\n"
      ],
      "metadata": {
        "id": "iP4hmp9WxYKo"
      }
    },
    {
      "cell_type": "code",
      "source": [
        "# knn is one of the algorithms which handles multiple targets directly\n",
        "from sklearn.neighbors import KNeighborsRegressor\n",
        "\n",
        "model = KNeighborsRegressor()\n",
        "model.fit(X_tr, Y_tr)\n",
        "model.predict(X_ts)"
      ],
      "metadata": {
        "colab": {
          "base_uri": "https://localhost:8080/"
        },
        "id": "KYMPWqhtxS9E",
        "outputId": "d0367ed7-f6a4-440a-f154-8e829fe55011"
      },
      "execution_count": 6,
      "outputs": [
        {
          "output_type": "execute_result",
          "data": {
            "text/plain": [
              "array([[11., 12., 13., 14.],\n",
              "       [11., 12., 13., 14.],\n",
              "       [11., 12., 13., 14.]])"
            ]
          },
          "metadata": {},
          "execution_count": 6
        }
      ]
    }
  ]
}