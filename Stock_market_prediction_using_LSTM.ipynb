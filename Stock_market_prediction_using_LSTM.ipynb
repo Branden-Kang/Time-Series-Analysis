{
  "nbformat": 4,
  "nbformat_minor": 0,
  "metadata": {
    "colab": {
      "provenance": [],
      "authorship_tag": "ABX9TyOQxCuTHZZH/8QfbZYjnRVH"
    },
    "kernelspec": {
      "name": "python3",
      "display_name": "Python 3"
    },
    "language_info": {
      "name": "python"
    }
  },
  "cells": [
    {
      "cell_type": "markdown",
      "source": [
        "[Reference](https://medium.com/@nafiu.dev/stock-market-prediction-using-lstm-will-the-price-go-up-tomorrow-practical-guide-d1df2d54a517)"
      ],
      "metadata": {
        "id": "3NIZcUsaaO_t"
      }
    },
    {
      "cell_type": "code",
      "source": [
        "!pip install yfinance"
      ],
      "metadata": {
        "colab": {
          "base_uri": "https://localhost:8080/"
        },
        "id": "CxgxyawPaWP6",
        "outputId": "a1eef897-dfaa-448a-b948-8e97aac64bde"
      },
      "execution_count": 22,
      "outputs": [
        {
          "output_type": "stream",
          "name": "stdout",
          "text": [
            "Looking in indexes: https://pypi.org/simple, https://us-python.pkg.dev/colab-wheels/public/simple/\n",
            "Requirement already satisfied: yfinance in /usr/local/lib/python3.7/dist-packages (0.1.74)\n",
            "Requirement already satisfied: numpy>=1.15 in /usr/local/lib/python3.7/dist-packages (from yfinance) (1.21.6)\n",
            "Requirement already satisfied: lxml>=4.5.1 in /usr/local/lib/python3.7/dist-packages (from yfinance) (4.9.1)\n",
            "Requirement already satisfied: requests>=2.26 in /usr/local/lib/python3.7/dist-packages (from yfinance) (2.28.1)\n",
            "Requirement already satisfied: pandas>=0.24.0 in /usr/local/lib/python3.7/dist-packages (from yfinance) (1.3.5)\n",
            "Requirement already satisfied: multitasking>=0.0.7 in /usr/local/lib/python3.7/dist-packages (from yfinance) (0.0.11)\n",
            "Requirement already satisfied: python-dateutil>=2.7.3 in /usr/local/lib/python3.7/dist-packages (from pandas>=0.24.0->yfinance) (2.8.2)\n",
            "Requirement already satisfied: pytz>=2017.3 in /usr/local/lib/python3.7/dist-packages (from pandas>=0.24.0->yfinance) (2022.2.1)\n",
            "Requirement already satisfied: six>=1.5 in /usr/local/lib/python3.7/dist-packages (from python-dateutil>=2.7.3->pandas>=0.24.0->yfinance) (1.15.0)\n",
            "Requirement already satisfied: urllib3<1.27,>=1.21.1 in /usr/local/lib/python3.7/dist-packages (from requests>=2.26->yfinance) (1.24.3)\n",
            "Requirement already satisfied: charset-normalizer<3,>=2 in /usr/local/lib/python3.7/dist-packages (from requests>=2.26->yfinance) (2.1.1)\n",
            "Requirement already satisfied: idna<4,>=2.5 in /usr/local/lib/python3.7/dist-packages (from requests>=2.26->yfinance) (2.10)\n",
            "Requirement already satisfied: certifi>=2017.4.17 in /usr/local/lib/python3.7/dist-packages (from requests>=2.26->yfinance) (2022.6.15)\n"
          ]
        }
      ]
    },
    {
      "cell_type": "code",
      "execution_count": 23,
      "metadata": {
        "id": "pcwNL_Y8aNtF"
      },
      "outputs": [],
      "source": [
        "import yfinance as yf\n",
        "import numpy as np\n",
        "import pandas as pd\n",
        "import tensorflow as tf\n",
        "import matplotlib.pyplot as plt"
      ]
    },
    {
      "cell_type": "code",
      "source": [
        "data = yf.download(\"GOOGL\" , start = \"2019-01-01\" , interval = '1d')\n",
        "data.head()"
      ],
      "metadata": {
        "colab": {
          "base_uri": "https://localhost:8080/",
          "height": 252
        },
        "id": "Uky2z1PxaSD4",
        "outputId": "7d3902ca-06d1-42e3-cfaa-540c4a8541ed"
      },
      "execution_count": 24,
      "outputs": [
        {
          "output_type": "stream",
          "name": "stdout",
          "text": [
            "\r[*********************100%***********************]  1 of 1 completed\n"
          ]
        },
        {
          "output_type": "execute_result",
          "data": {
            "text/plain": [
              "                 Open       High        Low      Close  Adj Close    Volume\n",
              "Date                                                                       \n",
              "2019-01-02  51.360001  53.039501  51.264000  52.734001  52.734001  31868000\n",
              "2019-01-03  52.533501  53.313000  51.118500  51.273499  51.273499  41960000\n",
              "2019-01-04  52.127998  54.000000  51.842999  53.903500  53.903500  46022000\n",
              "2019-01-07  54.048500  54.134998  53.132000  53.796001  53.796001  47446000\n",
              "2019-01-08  54.299999  54.667500  53.417500  54.268501  54.268501  35414000"
            ],
            "text/html": [
              "\n",
              "  <div id=\"df-20bc5f9c-0c96-4ee4-bcc6-4ac87b918303\">\n",
              "    <div class=\"colab-df-container\">\n",
              "      <div>\n",
              "<style scoped>\n",
              "    .dataframe tbody tr th:only-of-type {\n",
              "        vertical-align: middle;\n",
              "    }\n",
              "\n",
              "    .dataframe tbody tr th {\n",
              "        vertical-align: top;\n",
              "    }\n",
              "\n",
              "    .dataframe thead th {\n",
              "        text-align: right;\n",
              "    }\n",
              "</style>\n",
              "<table border=\"1\" class=\"dataframe\">\n",
              "  <thead>\n",
              "    <tr style=\"text-align: right;\">\n",
              "      <th></th>\n",
              "      <th>Open</th>\n",
              "      <th>High</th>\n",
              "      <th>Low</th>\n",
              "      <th>Close</th>\n",
              "      <th>Adj Close</th>\n",
              "      <th>Volume</th>\n",
              "    </tr>\n",
              "    <tr>\n",
              "      <th>Date</th>\n",
              "      <th></th>\n",
              "      <th></th>\n",
              "      <th></th>\n",
              "      <th></th>\n",
              "      <th></th>\n",
              "      <th></th>\n",
              "    </tr>\n",
              "  </thead>\n",
              "  <tbody>\n",
              "    <tr>\n",
              "      <th>2019-01-02</th>\n",
              "      <td>51.360001</td>\n",
              "      <td>53.039501</td>\n",
              "      <td>51.264000</td>\n",
              "      <td>52.734001</td>\n",
              "      <td>52.734001</td>\n",
              "      <td>31868000</td>\n",
              "    </tr>\n",
              "    <tr>\n",
              "      <th>2019-01-03</th>\n",
              "      <td>52.533501</td>\n",
              "      <td>53.313000</td>\n",
              "      <td>51.118500</td>\n",
              "      <td>51.273499</td>\n",
              "      <td>51.273499</td>\n",
              "      <td>41960000</td>\n",
              "    </tr>\n",
              "    <tr>\n",
              "      <th>2019-01-04</th>\n",
              "      <td>52.127998</td>\n",
              "      <td>54.000000</td>\n",
              "      <td>51.842999</td>\n",
              "      <td>53.903500</td>\n",
              "      <td>53.903500</td>\n",
              "      <td>46022000</td>\n",
              "    </tr>\n",
              "    <tr>\n",
              "      <th>2019-01-07</th>\n",
              "      <td>54.048500</td>\n",
              "      <td>54.134998</td>\n",
              "      <td>53.132000</td>\n",
              "      <td>53.796001</td>\n",
              "      <td>53.796001</td>\n",
              "      <td>47446000</td>\n",
              "    </tr>\n",
              "    <tr>\n",
              "      <th>2019-01-08</th>\n",
              "      <td>54.299999</td>\n",
              "      <td>54.667500</td>\n",
              "      <td>53.417500</td>\n",
              "      <td>54.268501</td>\n",
              "      <td>54.268501</td>\n",
              "      <td>35414000</td>\n",
              "    </tr>\n",
              "  </tbody>\n",
              "</table>\n",
              "</div>\n",
              "      <button class=\"colab-df-convert\" onclick=\"convertToInteractive('df-20bc5f9c-0c96-4ee4-bcc6-4ac87b918303')\"\n",
              "              title=\"Convert this dataframe to an interactive table.\"\n",
              "              style=\"display:none;\">\n",
              "        \n",
              "  <svg xmlns=\"http://www.w3.org/2000/svg\" height=\"24px\"viewBox=\"0 0 24 24\"\n",
              "       width=\"24px\">\n",
              "    <path d=\"M0 0h24v24H0V0z\" fill=\"none\"/>\n",
              "    <path d=\"M18.56 5.44l.94 2.06.94-2.06 2.06-.94-2.06-.94-.94-2.06-.94 2.06-2.06.94zm-11 1L8.5 8.5l.94-2.06 2.06-.94-2.06-.94L8.5 2.5l-.94 2.06-2.06.94zm10 10l.94 2.06.94-2.06 2.06-.94-2.06-.94-.94-2.06-.94 2.06-2.06.94z\"/><path d=\"M17.41 7.96l-1.37-1.37c-.4-.4-.92-.59-1.43-.59-.52 0-1.04.2-1.43.59L10.3 9.45l-7.72 7.72c-.78.78-.78 2.05 0 2.83L4 21.41c.39.39.9.59 1.41.59.51 0 1.02-.2 1.41-.59l7.78-7.78 2.81-2.81c.8-.78.8-2.07 0-2.86zM5.41 20L4 18.59l7.72-7.72 1.47 1.35L5.41 20z\"/>\n",
              "  </svg>\n",
              "      </button>\n",
              "      \n",
              "  <style>\n",
              "    .colab-df-container {\n",
              "      display:flex;\n",
              "      flex-wrap:wrap;\n",
              "      gap: 12px;\n",
              "    }\n",
              "\n",
              "    .colab-df-convert {\n",
              "      background-color: #E8F0FE;\n",
              "      border: none;\n",
              "      border-radius: 50%;\n",
              "      cursor: pointer;\n",
              "      display: none;\n",
              "      fill: #1967D2;\n",
              "      height: 32px;\n",
              "      padding: 0 0 0 0;\n",
              "      width: 32px;\n",
              "    }\n",
              "\n",
              "    .colab-df-convert:hover {\n",
              "      background-color: #E2EBFA;\n",
              "      box-shadow: 0px 1px 2px rgba(60, 64, 67, 0.3), 0px 1px 3px 1px rgba(60, 64, 67, 0.15);\n",
              "      fill: #174EA6;\n",
              "    }\n",
              "\n",
              "    [theme=dark] .colab-df-convert {\n",
              "      background-color: #3B4455;\n",
              "      fill: #D2E3FC;\n",
              "    }\n",
              "\n",
              "    [theme=dark] .colab-df-convert:hover {\n",
              "      background-color: #434B5C;\n",
              "      box-shadow: 0px 1px 3px 1px rgba(0, 0, 0, 0.15);\n",
              "      filter: drop-shadow(0px 1px 2px rgba(0, 0, 0, 0.3));\n",
              "      fill: #FFFFFF;\n",
              "    }\n",
              "  </style>\n",
              "\n",
              "      <script>\n",
              "        const buttonEl =\n",
              "          document.querySelector('#df-20bc5f9c-0c96-4ee4-bcc6-4ac87b918303 button.colab-df-convert');\n",
              "        buttonEl.style.display =\n",
              "          google.colab.kernel.accessAllowed ? 'block' : 'none';\n",
              "\n",
              "        async function convertToInteractive(key) {\n",
              "          const element = document.querySelector('#df-20bc5f9c-0c96-4ee4-bcc6-4ac87b918303');\n",
              "          const dataTable =\n",
              "            await google.colab.kernel.invokeFunction('convertToInteractive',\n",
              "                                                     [key], {});\n",
              "          if (!dataTable) return;\n",
              "\n",
              "          const docLinkHtml = 'Like what you see? Visit the ' +\n",
              "            '<a target=\"_blank\" href=https://colab.research.google.com/notebooks/data_table.ipynb>data table notebook</a>'\n",
              "            + ' to learn more about interactive tables.';\n",
              "          element.innerHTML = '';\n",
              "          dataTable['output_type'] = 'display_data';\n",
              "          await google.colab.output.renderOutput(dataTable, element);\n",
              "          const docLink = document.createElement('div');\n",
              "          docLink.innerHTML = docLinkHtml;\n",
              "          element.appendChild(docLink);\n",
              "        }\n",
              "      </script>\n",
              "    </div>\n",
              "  </div>\n",
              "  "
            ]
          },
          "metadata": {},
          "execution_count": 24
        }
      ]
    },
    {
      "cell_type": "code",
      "source": [
        "data.info()"
      ],
      "metadata": {
        "colab": {
          "base_uri": "https://localhost:8080/"
        },
        "id": "ZwAh5p1TaSMV",
        "outputId": "5997222f-0b15-4d5d-e4fd-242b014565fc"
      },
      "execution_count": 25,
      "outputs": [
        {
          "output_type": "stream",
          "name": "stdout",
          "text": [
            "<class 'pandas.core.frame.DataFrame'>\n",
            "DatetimeIndex: 943 entries, 2019-01-02 to 2022-09-28\n",
            "Data columns (total 6 columns):\n",
            " #   Column     Non-Null Count  Dtype  \n",
            "---  ------     --------------  -----  \n",
            " 0   Open       943 non-null    float64\n",
            " 1   High       943 non-null    float64\n",
            " 2   Low        943 non-null    float64\n",
            " 3   Close      943 non-null    float64\n",
            " 4   Adj Close  943 non-null    float64\n",
            " 5   Volume     943 non-null    int64  \n",
            "dtypes: float64(5), int64(1)\n",
            "memory usage: 51.6 KB\n"
          ]
        }
      ]
    },
    {
      "cell_type": "code",
      "source": [
        "data[\"Close\"]=pd.to_numeric(data.Close,errors='coerce')\n",
        "data.isnull().sum().sum()"
      ],
      "metadata": {
        "colab": {
          "base_uri": "https://localhost:8080/"
        },
        "id": "8ewQKt4waS_p",
        "outputId": "52693626-fe78-476c-dac5-c59a800d3006"
      },
      "execution_count": 26,
      "outputs": [
        {
          "output_type": "execute_result",
          "data": {
            "text/plain": [
              "0"
            ]
          },
          "metadata": {},
          "execution_count": 26
        }
      ]
    },
    {
      "cell_type": "code",
      "source": [
        "data.duplicated().any()"
      ],
      "metadata": {
        "colab": {
          "base_uri": "https://localhost:8080/"
        },
        "id": "fenmTcR_aVJl",
        "outputId": "c2c2e245-03aa-4ab0-9a0f-3d44f4e98600"
      },
      "execution_count": 27,
      "outputs": [
        {
          "output_type": "execute_result",
          "data": {
            "text/plain": [
              "False"
            ]
          },
          "metadata": {},
          "execution_count": 27
        }
      ]
    },
    {
      "cell_type": "code",
      "source": [
        "data[\"Close\"]=pd.to_numeric(data.Close,errors='coerce')"
      ],
      "metadata": {
        "id": "mNYKRpBfacFE"
      },
      "execution_count": 28,
      "outputs": []
    },
    {
      "cell_type": "code",
      "source": [
        "data.isnull().sum().sum()"
      ],
      "metadata": {
        "colab": {
          "base_uri": "https://localhost:8080/"
        },
        "id": "T4JWrfaoahZC",
        "outputId": "18c147f9-2800-47d0-97bc-053935b85210"
      },
      "execution_count": 29,
      "outputs": [
        {
          "output_type": "execute_result",
          "data": {
            "text/plain": [
              "0"
            ]
          },
          "metadata": {},
          "execution_count": 29
        }
      ]
    },
    {
      "cell_type": "code",
      "source": [
        "plt.plot(data.index, data['Close'], color='green', label='Close')\n",
        "plt.show()"
      ],
      "metadata": {
        "colab": {
          "base_uri": "https://localhost:8080/",
          "height": 265
        },
        "id": "OROsJau4ajAG",
        "outputId": "111d36b6-9585-4010-e7ee-7841222c6fec"
      },
      "execution_count": 30,
      "outputs": [
        {
          "output_type": "display_data",
          "data": {
            "text/plain": [
              "<Figure size 432x288 with 1 Axes>"
            ],
            "image/png": "[encoded data removed]"
          },
          "metadata": {
            "needs_background": "light"
          }
        }
      ]
    },
    {
      "cell_type": "markdown",
      "source": [
        "# Data processing\n"
      ],
      "metadata": {
        "id": "bqCTgmNJlKJD"
      }
    },
    {
      "cell_type": "code",
      "source": [
        "dataV1 = data.iloc[:,3:4]\n",
        "dataV1 = dataV1.values"
      ],
      "metadata": {
        "id": "hjP8T5ykalFK"
      },
      "execution_count": 31,
      "outputs": []
    },
    {
      "cell_type": "code",
      "source": [
        "from sklearn.preprocessing import MinMaxScaler\n",
        "Scaler = MinMaxScaler(feature_range=(0,1))\n",
        "dataV1 = Scaler.fit_transform(dataV1)"
      ],
      "metadata": {
        "id": "yv3x5Qz6lL9k"
      },
      "execution_count": 32,
      "outputs": []
    },
    {
      "cell_type": "code",
      "source": [
        "feature_length = 100"
      ],
      "metadata": {
        "id": "SUGF4kqNlNPi"
      },
      "execution_count": 33,
      "outputs": []
    },
    {
      "cell_type": "code",
      "source": [
        "# Function to create x and y data\n",
        "def Create_Features_and_Targets(data, feature_length):\n",
        "  X = list()\n",
        "  Y = list()\n",
        "  for i in range(len(data) - feature_length -1):\n",
        "    X.append(data[i:(i + feature_length), 0])\n",
        "    Y.append(data[i + feature_length, 0])\n",
        "  X = np.array(X)\n",
        "  Y = np.array(Y)\n",
        "  return X,Y\n",
        "# calling the function\n",
        "X_train,y_train= Create_Features_and_Targets(dataV1,feature_length)"
      ],
      "metadata": {
        "id": "BFqXYY7zlNXL"
      },
      "execution_count": 34,
      "outputs": []
    },
    {
      "cell_type": "code",
      "source": [
        "X_train = np.reshape(X_train,(X_train.shape[0],X_train.shape[1],1))\n",
        "X_train.shape, y_train.shape"
      ],
      "metadata": {
        "colab": {
          "base_uri": "https://localhost:8080/"
        },
        "id": "OXjGa83VlPTA",
        "outputId": "7def4d2c-e676-4ee7-e7fe-8b2f8860a337"
      },
      "execution_count": 35,
      "outputs": [
        {
          "output_type": "execute_result",
          "data": {
            "text/plain": [
              "((842, 100, 1), (842,))"
            ]
          },
          "metadata": {},
          "execution_count": 35
        }
      ]
    },
    {
      "cell_type": "markdown",
      "source": [
        "# Creating the model\n"
      ],
      "metadata": {
        "id": "F9n6SWzslRb0"
      }
    },
    {
      "cell_type": "code",
      "source": [
        "from tensorflow.keras.models import Sequential\n",
        "from tensorflow.keras.layers import Dense , Dropout , LSTM\n",
        "\n",
        "# model\n",
        "model = Sequential([\n",
        "   LSTM(100,return_sequences=True,input_shape=(X_train.shape[1],1)),\n",
        "   Dropout(0.3),\n",
        "   LSTM(100, return_sequences = False),\n",
        "   Dropout(0.3),\n",
        "    \n",
        "   Dense(1),\n",
        "])\n",
        "model.compile(optimizer='adam',loss=\"mean_squared_error\")\n",
        "model.summary()"
      ],
      "metadata": {
        "colab": {
          "base_uri": "https://localhost:8080/"
        },
        "id": "5rgSIQhAlQWc",
        "outputId": "bef2ec33-830f-448a-cc50-f8bb5c757e23"
      },
      "execution_count": 36,
      "outputs": [
        {
          "output_type": "stream",
          "name": "stdout",
          "text": [
            "Model: \"sequential_1\"\n",
            "_________________________________________________________________\n",
            " Layer (type)                Output Shape              Param #   \n",
            "=================================================================\n",
            " lstm_2 (LSTM)               (None, 100, 100)          40800     \n",
            "                                                                 \n",
            " dropout_2 (Dropout)         (None, 100, 100)          0         \n",
            "                                                                 \n",
            " lstm_3 (LSTM)               (None, 100)               80400     \n",
            "                                                                 \n",
            " dropout_3 (Dropout)         (None, 100)               0         \n",
            "                                                                 \n",
            " dense_1 (Dense)             (None, 1)                 101       \n",
            "                                                                 \n",
            "=================================================================\n",
            "Total params: 121,301\n",
            "Trainable params: 121,301\n",
            "Non-trainable params: 0\n",
            "_________________________________________________________________\n"
          ]
        }
      ]
    },
    {
      "cell_type": "code",
      "source": [
        "# Training the model\n",
        "history = model.fit(\n",
        "    X_train, \n",
        "    y_train, \n",
        "    epochs = 100, \n",
        "    batch_size = 12, \n",
        "    verbose=1,\n",
        ")"
      ],
      "metadata": {
        "colab": {
          "base_uri": "https://localhost:8080/"
        },
        "id": "tgdT4CkJlUgN",
        "outputId": "c939edcf-1dd5-4adb-c1f0-c6f0398325cd"
      },
      "execution_count": 16,
      "outputs": [
        {
          "output_type": "stream",
          "name": "stdout",
          "text": [
            "Epoch 1/100\n",
            "71/71 [==============================] - 17s 191ms/step - loss: 0.0180\n",
            "Epoch 2/100\n",
            "71/71 [==============================] - 10s 143ms/step - loss: 0.0043\n",
            "Epoch 3/100\n",
            "71/71 [==============================] - 8s 113ms/step - loss: 0.0048\n",
            "Epoch 4/100\n",
            "71/71 [==============================] - 8s 113ms/step - loss: 0.0046\n",
            "Epoch 5/100\n",
            "71/71 [==============================] - 8s 114ms/step - loss: 0.0040\n",
            "Epoch 6/100\n",
            "71/71 [==============================] - 8s 113ms/step - loss: 0.0038\n",
            "Epoch 7/100\n",
            "71/71 [==============================] - 8s 111ms/step - loss: 0.0037\n",
            "Epoch 8/100\n",
            "71/71 [==============================] - 8s 113ms/step - loss: 0.0035\n",
            "Epoch 9/100\n",
            "71/71 [==============================] - 8s 113ms/step - loss: 0.0035\n",
            "Epoch 10/100\n",
            "71/71 [==============================] - 8s 112ms/step - loss: 0.0032\n",
            "Epoch 11/100\n",
            "71/71 [==============================] - 8s 112ms/step - loss: 0.0029\n",
            "Epoch 12/100\n",
            "71/71 [==============================] - 8s 113ms/step - loss: 0.0028\n",
            "Epoch 13/100\n",
            "71/71 [==============================] - 8s 112ms/step - loss: 0.0027\n",
            "Epoch 14/100\n",
            "71/71 [==============================] - 9s 128ms/step - loss: 0.0029\n",
            "Epoch 15/100\n",
            "71/71 [==============================] - 8s 112ms/step - loss: 0.0029\n",
            "Epoch 16/100\n",
            "71/71 [==============================] - 8s 112ms/step - loss: 0.0038\n",
            "Epoch 17/100\n",
            "71/71 [==============================] - 8s 113ms/step - loss: 0.0027\n",
            "Epoch 18/100\n",
            "71/71 [==============================] - 8s 111ms/step - loss: 0.0027\n",
            "Epoch 19/100\n",
            "71/71 [==============================] - 8s 112ms/step - loss: 0.0022\n",
            "Epoch 20/100\n",
            "71/71 [==============================] - 8s 112ms/step - loss: 0.0025\n",
            "Epoch 21/100\n",
            "71/71 [==============================] - 8s 113ms/step - loss: 0.0042\n",
            "Epoch 22/100\n",
            "71/71 [==============================] - 8s 113ms/step - loss: 0.0025\n",
            "Epoch 23/100\n",
            "71/71 [==============================] - 8s 113ms/step - loss: 0.0025\n",
            "Epoch 24/100\n",
            "71/71 [==============================] - 8s 113ms/step - loss: 0.0027\n",
            "Epoch 25/100\n",
            "71/71 [==============================] - 8s 114ms/step - loss: 0.0023\n",
            "Epoch 26/100\n",
            "71/71 [==============================] - 8s 112ms/step - loss: 0.0022\n",
            "Epoch 27/100\n",
            "71/71 [==============================] - 8s 112ms/step - loss: 0.0023\n",
            "Epoch 28/100\n",
            "71/71 [==============================] - 8s 113ms/step - loss: 0.0022\n",
            "Epoch 29/100\n",
            "71/71 [==============================] - 8s 114ms/step - loss: 0.0020\n",
            "Epoch 30/100\n",
            "71/71 [==============================] - 8s 114ms/step - loss: 0.0020\n",
            "Epoch 31/100\n",
            "71/71 [==============================] - 8s 112ms/step - loss: 0.0018\n",
            "Epoch 32/100\n",
            "71/71 [==============================] - 8s 113ms/step - loss: 0.0023\n",
            "Epoch 33/100\n",
            "71/71 [==============================] - 8s 115ms/step - loss: 0.0019\n",
            "Epoch 34/100\n",
            "71/71 [==============================] - 8s 114ms/step - loss: 0.0020\n",
            "Epoch 35/100\n",
            "71/71 [==============================] - 8s 115ms/step - loss: 0.0020\n",
            "Epoch 36/100\n",
            "71/71 [==============================] - 8s 114ms/step - loss: 0.0019\n",
            "Epoch 37/100\n",
            "71/71 [==============================] - 8s 114ms/step - loss: 0.0025\n",
            "Epoch 38/100\n",
            "71/71 [==============================] - 8s 115ms/step - loss: 0.0019\n",
            "Epoch 39/100\n",
            "71/71 [==============================] - 8s 113ms/step - loss: 0.0018\n",
            "Epoch 40/100\n",
            "71/71 [==============================] - 8s 113ms/step - loss: 0.0019\n",
            "Epoch 41/100\n",
            "71/71 [==============================] - 8s 114ms/step - loss: 0.0018\n",
            "Epoch 42/100\n",
            "71/71 [==============================] - 8s 114ms/step - loss: 0.0017\n",
            "Epoch 43/100\n",
            "71/71 [==============================] - 8s 115ms/step - loss: 0.0018\n",
            "Epoch 44/100\n",
            "71/71 [==============================] - 8s 114ms/step - loss: 0.0020\n",
            "Epoch 45/100\n",
            "71/71 [==============================] - 8s 114ms/step - loss: 0.0017\n",
            "Epoch 46/100\n",
            "71/71 [==============================] - 8s 115ms/step - loss: 0.0018\n",
            "Epoch 47/100\n",
            "71/71 [==============================] - 8s 114ms/step - loss: 0.0020\n",
            "Epoch 48/100\n",
            "71/71 [==============================] - 8s 114ms/step - loss: 0.0016\n",
            "Epoch 49/100\n",
            "71/71 [==============================] - 8s 114ms/step - loss: 0.0018\n",
            "Epoch 50/100\n",
            "71/71 [==============================] - 8s 115ms/step - loss: 0.0015\n",
            "Epoch 51/100\n",
            "71/71 [==============================] - 8s 115ms/step - loss: 0.0015\n",
            "Epoch 52/100\n",
            "71/71 [==============================] - 8s 115ms/step - loss: 0.0017\n",
            "Epoch 53/100\n",
            "71/71 [==============================] - 8s 113ms/step - loss: 0.0015\n",
            "Epoch 54/100\n",
            "71/71 [==============================] - 8s 116ms/step - loss: 0.0017\n",
            "Epoch 55/100\n",
            "71/71 [==============================] - 8s 114ms/step - loss: 0.0018\n",
            "Epoch 56/100\n",
            "71/71 [==============================] - 8s 115ms/step - loss: 0.0018\n",
            "Epoch 57/100\n",
            "71/71 [==============================] - 8s 115ms/step - loss: 0.0016\n",
            "Epoch 58/100\n",
            "71/71 [==============================] - 8s 114ms/step - loss: 0.0015\n",
            "Epoch 59/100\n",
            "71/71 [==============================] - 8s 114ms/step - loss: 0.0016\n",
            "Epoch 60/100\n",
            "71/71 [==============================] - 8s 115ms/step - loss: 0.0017\n",
            "Epoch 61/100\n",
            "71/71 [==============================] - 8s 115ms/step - loss: 0.0017\n",
            "Epoch 62/100\n",
            "71/71 [==============================] - 8s 116ms/step - loss: 0.0015\n",
            "Epoch 63/100\n",
            "71/71 [==============================] - 8s 115ms/step - loss: 0.0016\n",
            "Epoch 64/100\n",
            "71/71 [==============================] - 8s 115ms/step - loss: 0.0016\n",
            "Epoch 65/100\n",
            "71/71 [==============================] - 8s 117ms/step - loss: 0.0013\n",
            "Epoch 66/100\n",
            "71/71 [==============================] - 8s 116ms/step - loss: 0.0016\n",
            "Epoch 67/100\n",
            "71/71 [==============================] - 8s 114ms/step - loss: 0.0014\n",
            "Epoch 68/100\n",
            "71/71 [==============================] - 8s 114ms/step - loss: 0.0016\n",
            "Epoch 69/100\n",
            "71/71 [==============================] - 8s 113ms/step - loss: 0.0014\n",
            "Epoch 70/100\n",
            "71/71 [==============================] - 8s 114ms/step - loss: 0.0013\n",
            "Epoch 71/100\n",
            "71/71 [==============================] - 8s 114ms/step - loss: 0.0014\n",
            "Epoch 72/100\n",
            "71/71 [==============================] - 8s 115ms/step - loss: 0.0015\n",
            "Epoch 73/100\n",
            "71/71 [==============================] - 8s 114ms/step - loss: 0.0014\n",
            "Epoch 74/100\n",
            "71/71 [==============================] - 8s 115ms/step - loss: 0.0015\n",
            "Epoch 75/100\n",
            "71/71 [==============================] - 8s 114ms/step - loss: 0.0013\n",
            "Epoch 76/100\n",
            "71/71 [==============================] - 8s 113ms/step - loss: 0.0014\n",
            "Epoch 77/100\n",
            "71/71 [==============================] - 8s 114ms/step - loss: 0.0012\n",
            "Epoch 78/100\n",
            "71/71 [==============================] - 8s 114ms/step - loss: 0.0016\n",
            "Epoch 79/100\n",
            "71/71 [==============================] - 8s 115ms/step - loss: 0.0014\n",
            "Epoch 80/100\n",
            "71/71 [==============================] - 8s 115ms/step - loss: 0.0019\n",
            "Epoch 81/100\n",
            "71/71 [==============================] - 8s 114ms/step - loss: 0.0014\n",
            "Epoch 82/100\n",
            "71/71 [==============================] - 8s 114ms/step - loss: 0.0016\n",
            "Epoch 83/100\n",
            "71/71 [==============================] - 8s 115ms/step - loss: 0.0014\n",
            "Epoch 84/100\n",
            "71/71 [==============================] - 8s 115ms/step - loss: 0.0012\n",
            "Epoch 85/100\n",
            "71/71 [==============================] - 8s 115ms/step - loss: 0.0013\n",
            "Epoch 86/100\n",
            "71/71 [==============================] - 8s 114ms/step - loss: 0.0014\n",
            "Epoch 87/100\n",
            "71/71 [==============================] - 8s 115ms/step - loss: 0.0014\n",
            "Epoch 88/100\n",
            "71/71 [==============================] - 8s 114ms/step - loss: 0.0013\n",
            "Epoch 89/100\n",
            "71/71 [==============================] - 8s 115ms/step - loss: 0.0011\n",
            "Epoch 90/100\n",
            "71/71 [==============================] - 8s 115ms/step - loss: 0.0015\n",
            "Epoch 91/100\n",
            "71/71 [==============================] - 8s 114ms/step - loss: 0.0012\n",
            "Epoch 92/100\n",
            "71/71 [==============================] - 8s 116ms/step - loss: 0.0014\n",
            "Epoch 93/100\n",
            "71/71 [==============================] - 8s 114ms/step - loss: 0.0013\n",
            "Epoch 94/100\n",
            "71/71 [==============================] - 8s 115ms/step - loss: 0.0013\n",
            "Epoch 95/100\n",
            "71/71 [==============================] - 8s 115ms/step - loss: 0.0012\n",
            "Epoch 96/100\n",
            "71/71 [==============================] - 8s 116ms/step - loss: 0.0012\n",
            "Epoch 97/100\n",
            "71/71 [==============================] - 8s 115ms/step - loss: 0.0012\n",
            "Epoch 98/100\n",
            "71/71 [==============================] - 8s 115ms/step - loss: 0.0013\n",
            "Epoch 99/100\n",
            "71/71 [==============================] - 8s 115ms/step - loss: 0.0012\n",
            "Epoch 100/100\n",
            "71/71 [==============================] - 8s 115ms/step - loss: 0.0013\n"
          ]
        }
      ]
    },
    {
      "cell_type": "markdown",
      "source": [
        "# Testing and making predictions\n"
      ],
      "metadata": {
        "id": "9b7oYWpklWx5"
      }
    },
    {
      "cell_type": "code",
      "source": [
        "testData = data.iloc[:,3:4] # Get 'Close' feature\n",
        "y_real=testData.iloc[feature_length+1:,0:].values #Actual values\n",
        "x_test = testData.iloc[:,0:].values # data to test\n",
        "# normalizing the Data using Scaler.transform function\n",
        "x_test = Scaler.transform(x_test)\n",
        "x_test, y_test = Create_Features_and_Targets(x_test, feature_length)\n",
        "# Making data 3 dimensional\n",
        "x_test = np.reshape(x_test,(x_test.shape[0],x_test.shape[1],1))"
      ],
      "metadata": {
        "id": "VnnvsKZ5lXkr"
      },
      "execution_count": 17,
      "outputs": []
    },
    {
      "cell_type": "code",
      "source": [
        "y_pred = model.predict(x_test)\n",
        "predicted_price = Scaler.inverse_transform(y_pred)"
      ],
      "metadata": {
        "id": "GIRi3nD9lb8_"
      },
      "execution_count": 18,
      "outputs": []
    },
    {
      "cell_type": "code",
      "source": [
        "plt.plot(y_real, color = 'red', label = 'Actual')\n",
        "plt.plot(predicted_price, color = 'green', label = 'Predicted')\n",
        "plt.xlabel('Time')\n",
        "plt.ylabel('Stock')\n",
        "plt.legend()\n",
        "plt.show()"
      ],
      "metadata": {
        "colab": {
          "base_uri": "https://localhost:8080/",
          "height": 279
        },
        "id": "qPWNXhpLlcI9",
        "outputId": "476ca6e5-7913-42c6-9e17-28398d2940ff"
      },
      "execution_count": 19,
      "outputs": [
        {
          "output_type": "display_data",
          "data": {
            "text/plain": [
              "<Figure size 432x288 with 1 Axes>"
            ],
            "image/png": "[encoded data removed]"
          },
          "metadata": {
            "needs_background": "light"
          }
        }
      ]
    },
    {
      "cell_type": "code",
      "source": [
        "def predict_given_date(data, date, feature_length):\n",
        "  if date not in data.index:\n",
        "     data.loc[pd.Timestamp(date)] = 0\n",
        "  idx = data.index.get_loc(date)\n",
        "  close_col = data.iloc[:,3:4]\n",
        "  close_col = close_col.iloc[idx - feature_length : idx,:].values\n",
        "  close_col = np.expand_dims(Scaler.transform(close_col) , axis = 0)\n",
        "  Prediction = model.predict(close_col)\n",
        "  Prediction = Scaler.inverse_transform(Prediction)\n",
        "  return Prediction\n",
        "# calling the function\n",
        "predict_given_date(data, '2022-09-20', feature_length)"
      ],
      "metadata": {
        "colab": {
          "base_uri": "https://localhost:8080/"
        },
        "id": "PY9Qksq8lc0Y",
        "outputId": "5f326b7b-55c0-4560-e4b8-47d988240658"
      },
      "execution_count": 20,
      "outputs": [
        {
          "output_type": "execute_result",
          "data": {
            "text/plain": [
              "array([[103.14113]], dtype=float32)"
            ]
          },
          "metadata": {},
          "execution_count": 20
        }
      ]
    },
    {
      "cell_type": "code",
      "source": [
        "# only gives the dates that already exists in the dataset\n",
        "l = data.index.get_loc('2022-09-20')\n",
        "data.iloc[l: l+1,:]['Close']\n",
        "# well we can see the predicted value is very close"
      ],
      "metadata": {
        "colab": {
          "base_uri": "https://localhost:8080/"
        },
        "id": "WEhO-k6zlhXI",
        "outputId": "22893358-3c0d-45d7-f37f-523df9ca90fc"
      },
      "execution_count": 21,
      "outputs": [
        {
          "output_type": "execute_result",
          "data": {
            "text/plain": [
              "Date\n",
              "2022-09-20    101.139999\n",
              "Name: Close, dtype: float64"
            ]
          },
          "metadata": {},
          "execution_count": 21
        }
      ]
    }
  ]
}