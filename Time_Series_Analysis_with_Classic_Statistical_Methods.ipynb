{
  "nbformat": 4,
  "nbformat_minor": 0,
  "metadata": {
    "colab": {
      "name": "Time Series Analysis with Classic Statistical Methods.ipynb",
      "provenance": [],
      "authorship_tag": "ABX9TyOWTA1g+pCtkO8qaeWpnQZ1"
    },
    "kernelspec": {
      "name": "python3",
      "display_name": "Python 3"
    },
    "language_info": {
      "name": "python"
    }
  },
  "cells": [
    {
      "cell_type": "code",
      "source": [
        "!pip install pmdarima"
      ],
      "metadata": {
        "colab": {
          "base_uri": "https://localhost:8080/",
          "height": 582
        },
        "id": "EoN_X4eNIk1w",
        "outputId": "8b4e8835-8997-4a75-af80-7cef35ec06d5"
      },
      "execution_count": 3,
      "outputs": [
        {
          "output_type": "stream",
          "name": "stdout",
          "text": [
            "Collecting pmdarima\n",
            "  Downloading pmdarima-1.8.5-cp37-cp37m-manylinux_2_17_x86_64.manylinux2014_x86_64.manylinux_2_24_x86_64.whl (1.4 MB)\n",
            "\u001b[?25l\r\u001b[K     |▎                               | 10 kB 15.0 MB/s eta 0:00:01\r\u001b[K     |▌                               | 20 kB 18.5 MB/s eta 0:00:01\r\u001b[K     |▊                               | 30 kB 22.5 MB/s eta 0:00:01\r\u001b[K     |█                               | 40 kB 15.1 MB/s eta 0:00:01\r\u001b[K     |█▏                              | 51 kB 6.6 MB/s eta 0:00:01\r\u001b[K     |█▍                              | 61 kB 5.2 MB/s eta 0:00:01\r\u001b[K     |█▋                              | 71 kB 5.8 MB/s eta 0:00:01\r\u001b[K     |██                              | 81 kB 6.3 MB/s eta 0:00:01\r\u001b[K     |██▏                             | 92 kB 7.0 MB/s eta 0:00:01\r\u001b[K     |██▍                             | 102 kB 6.8 MB/s eta 0:00:01\r\u001b[K     |██▋                             | 112 kB 6.8 MB/s eta 0:00:01\r\u001b[K     |██▉                             | 122 kB 6.8 MB/s eta 0:00:01\r\u001b[K     |███                             | 133 kB 6.8 MB/s eta 0:00:01\r\u001b[K     |███▎                            | 143 kB 6.8 MB/s eta 0:00:01\r\u001b[K     |███▌                            | 153 kB 6.8 MB/s eta 0:00:01\r\u001b[K     |███▉                            | 163 kB 6.8 MB/s eta 0:00:01\r\u001b[K     |████                            | 174 kB 6.8 MB/s eta 0:00:01\r\u001b[K     |████▎                           | 184 kB 6.8 MB/s eta 0:00:01\r\u001b[K     |████▌                           | 194 kB 6.8 MB/s eta 0:00:01\r\u001b[K     |████▊                           | 204 kB 6.8 MB/s eta 0:00:01\r\u001b[K     |█████                           | 215 kB 6.8 MB/s eta 0:00:01\r\u001b[K     |█████▏                          | 225 kB 6.8 MB/s eta 0:00:01\r\u001b[K     |█████▍                          | 235 kB 6.8 MB/s eta 0:00:01\r\u001b[K     |█████▊                          | 245 kB 6.8 MB/s eta 0:00:01\r\u001b[K     |██████                          | 256 kB 6.8 MB/s eta 0:00:01\r\u001b[K     |██████▏                         | 266 kB 6.8 MB/s eta 0:00:01\r\u001b[K     |██████▍                         | 276 kB 6.8 MB/s eta 0:00:01\r\u001b[K     |██████▋                         | 286 kB 6.8 MB/s eta 0:00:01\r\u001b[K     |██████▉                         | 296 kB 6.8 MB/s eta 0:00:01\r\u001b[K     |███████                         | 307 kB 6.8 MB/s eta 0:00:01\r\u001b[K     |███████▎                        | 317 kB 6.8 MB/s eta 0:00:01\r\u001b[K     |███████▋                        | 327 kB 6.8 MB/s eta 0:00:01\r\u001b[K     |███████▉                        | 337 kB 6.8 MB/s eta 0:00:01\r\u001b[K     |████████                        | 348 kB 6.8 MB/s eta 0:00:01\r\u001b[K     |████████▎                       | 358 kB 6.8 MB/s eta 0:00:01\r\u001b[K     |████████▌                       | 368 kB 6.8 MB/s eta 0:00:01\r\u001b[K     |████████▊                       | 378 kB 6.8 MB/s eta 0:00:01\r\u001b[K     |█████████                       | 389 kB 6.8 MB/s eta 0:00:01\r\u001b[K     |█████████▎                      | 399 kB 6.8 MB/s eta 0:00:01\r\u001b[K     |█████████▌                      | 409 kB 6.8 MB/s eta 0:00:01\r\u001b[K     |█████████▊                      | 419 kB 6.8 MB/s eta 0:00:01\r\u001b[K     |██████████                      | 430 kB 6.8 MB/s eta 0:00:01\r\u001b[K     |██████████▏                     | 440 kB 6.8 MB/s eta 0:00:01\r\u001b[K     |██████████▍                     | 450 kB 6.8 MB/s eta 0:00:01\r\u001b[K     |██████████▋                     | 460 kB 6.8 MB/s eta 0:00:01\r\u001b[K     |██████████▉                     | 471 kB 6.8 MB/s eta 0:00:01\r\u001b[K     |███████████▏                    | 481 kB 6.8 MB/s eta 0:00:01\r\u001b[K     |███████████▍                    | 491 kB 6.8 MB/s eta 0:00:01\r\u001b[K     |███████████▋                    | 501 kB 6.8 MB/s eta 0:00:01\r\u001b[K     |███████████▉                    | 512 kB 6.8 MB/s eta 0:00:01\r\u001b[K     |████████████                    | 522 kB 6.8 MB/s eta 0:00:01\r\u001b[K     |████████████▎                   | 532 kB 6.8 MB/s eta 0:00:01\r\u001b[K     |████████████▌                   | 542 kB 6.8 MB/s eta 0:00:01\r\u001b[K     |████████████▊                   | 552 kB 6.8 MB/s eta 0:00:01\r\u001b[K     |█████████████                   | 563 kB 6.8 MB/s eta 0:00:01\r\u001b[K     |█████████████▎                  | 573 kB 6.8 MB/s eta 0:00:01\r\u001b[K     |█████████████▌                  | 583 kB 6.8 MB/s eta 0:00:01\r\u001b[K     |█████████████▊                  | 593 kB 6.8 MB/s eta 0:00:01\r\u001b[K     |██████████████                  | 604 kB 6.8 MB/s eta 0:00:01\r\u001b[K     |██████████████▏                 | 614 kB 6.8 MB/s eta 0:00:01\r\u001b[K     |██████████████▍                 | 624 kB 6.8 MB/s eta 0:00:01\r\u001b[K     |██████████████▋                 | 634 kB 6.8 MB/s eta 0:00:01\r\u001b[K     |███████████████                 | 645 kB 6.8 MB/s eta 0:00:01\r\u001b[K     |███████████████▏                | 655 kB 6.8 MB/s eta 0:00:01\r\u001b[K     |███████████████▍                | 665 kB 6.8 MB/s eta 0:00:01\r\u001b[K     |███████████████▋                | 675 kB 6.8 MB/s eta 0:00:01\r\u001b[K     |███████████████▉                | 686 kB 6.8 MB/s eta 0:00:01\r\u001b[K     |████████████████                | 696 kB 6.8 MB/s eta 0:00:01\r\u001b[K     |████████████████▎               | 706 kB 6.8 MB/s eta 0:00:01\r\u001b[K     |████████████████▋               | 716 kB 6.8 MB/s eta 0:00:01\r\u001b[K     |████████████████▉               | 727 kB 6.8 MB/s eta 0:00:01\r\u001b[K     |█████████████████               | 737 kB 6.8 MB/s eta 0:00:01\r\u001b[K     |█████████████████▎              | 747 kB 6.8 MB/s eta 0:00:01\r\u001b[K     |█████████████████▌              | 757 kB 6.8 MB/s eta 0:00:01\r\u001b[K     |█████████████████▊              | 768 kB 6.8 MB/s eta 0:00:01\r\u001b[K     |██████████████████              | 778 kB 6.8 MB/s eta 0:00:01\r\u001b[K     |██████████████████▏             | 788 kB 6.8 MB/s eta 0:00:01\r\u001b[K     |██████████████████▌             | 798 kB 6.8 MB/s eta 0:00:01\r\u001b[K     |██████████████████▊             | 808 kB 6.8 MB/s eta 0:00:01\r\u001b[K     |███████████████████             | 819 kB 6.8 MB/s eta 0:00:01\r\u001b[K     |███████████████████▏            | 829 kB 6.8 MB/s eta 0:00:01\r\u001b[K     |███████████████████▍            | 839 kB 6.8 MB/s eta 0:00:01\r\u001b[K     |███████████████████▋            | 849 kB 6.8 MB/s eta 0:00:01\r\u001b[K     |███████████████████▉            | 860 kB 6.8 MB/s eta 0:00:01\r\u001b[K     |████████████████████            | 870 kB 6.8 MB/s eta 0:00:01\r\u001b[K     |████████████████████▍           | 880 kB 6.8 MB/s eta 0:00:01\r\u001b[K     |████████████████████▋           | 890 kB 6.8 MB/s eta 0:00:01\r\u001b[K     |████████████████████▉           | 901 kB 6.8 MB/s eta 0:00:01\r\u001b[K     |█████████████████████           | 911 kB 6.8 MB/s eta 0:00:01\r\u001b[K     |█████████████████████▎          | 921 kB 6.8 MB/s eta 0:00:01\r\u001b[K     |█████████████████████▌          | 931 kB 6.8 MB/s eta 0:00:01\r\u001b[K     |█████████████████████▊          | 942 kB 6.8 MB/s eta 0:00:01\r\u001b[K     |██████████████████████          | 952 kB 6.8 MB/s eta 0:00:01\r\u001b[K     |██████████████████████▎         | 962 kB 6.8 MB/s eta 0:00:01\r\u001b[K     |██████████████████████▌         | 972 kB 6.8 MB/s eta 0:00:01\r\u001b[K     |██████████████████████▊         | 983 kB 6.8 MB/s eta 0:00:01\r\u001b[K     |███████████████████████         | 993 kB 6.8 MB/s eta 0:00:01\r\u001b[K     |███████████████████████▏        | 1.0 MB 6.8 MB/s eta 0:00:01\r\u001b[K     |███████████████████████▍        | 1.0 MB 6.8 MB/s eta 0:00:01\r\u001b[K     |███████████████████████▋        | 1.0 MB 6.8 MB/s eta 0:00:01\r\u001b[K     |████████████████████████        | 1.0 MB 6.8 MB/s eta 0:00:01\r\u001b[K     |████████████████████████▏       | 1.0 MB 6.8 MB/s eta 0:00:01\r\u001b[K     |████████████████████████▍       | 1.1 MB 6.8 MB/s eta 0:00:01\r\u001b[K     |████████████████████████▋       | 1.1 MB 6.8 MB/s eta 0:00:01\r\u001b[K     |████████████████████████▉       | 1.1 MB 6.8 MB/s eta 0:00:01\r\u001b[K     |█████████████████████████       | 1.1 MB 6.8 MB/s eta 0:00:01\r\u001b[K     |█████████████████████████▎      | 1.1 MB 6.8 MB/s eta 0:00:01\r\u001b[K     |█████████████████████████▌      | 1.1 MB 6.8 MB/s eta 0:00:01\r\u001b[K     |█████████████████████████▉      | 1.1 MB 6.8 MB/s eta 0:00:01\r\u001b[K     |██████████████████████████      | 1.1 MB 6.8 MB/s eta 0:00:01\r\u001b[K     |██████████████████████████▎     | 1.1 MB 6.8 MB/s eta 0:00:01\r\u001b[K     |██████████████████████████▌     | 1.1 MB 6.8 MB/s eta 0:00:01\r\u001b[K     |██████████████████████████▊     | 1.2 MB 6.8 MB/s eta 0:00:01\r\u001b[K     |███████████████████████████     | 1.2 MB 6.8 MB/s eta 0:00:01\r\u001b[K     |███████████████████████████▏    | 1.2 MB 6.8 MB/s eta 0:00:01\r\u001b[K     |███████████████████████████▍    | 1.2 MB 6.8 MB/s eta 0:00:01\r\u001b[K     |███████████████████████████▊    | 1.2 MB 6.8 MB/s eta 0:00:01\r\u001b[K     |████████████████████████████    | 1.2 MB 6.8 MB/s eta 0:00:01\r\u001b[K     |████████████████████████████▏   | 1.2 MB 6.8 MB/s eta 0:00:01\r\u001b[K     |████████████████████████████▍   | 1.2 MB 6.8 MB/s eta 0:00:01\r\u001b[K     |████████████████████████████▋   | 1.2 MB 6.8 MB/s eta 0:00:01\r\u001b[K     |████████████████████████████▉   | 1.2 MB 6.8 MB/s eta 0:00:01\r\u001b[K     |█████████████████████████████   | 1.3 MB 6.8 MB/s eta 0:00:01\r\u001b[K     |█████████████████████████████▎  | 1.3 MB 6.8 MB/s eta 0:00:01\r\u001b[K     |█████████████████████████████▋  | 1.3 MB 6.8 MB/s eta 0:00:01\r\u001b[K     |█████████████████████████████▉  | 1.3 MB 6.8 MB/s eta 0:00:01\r\u001b[K     |██████████████████████████████  | 1.3 MB 6.8 MB/s eta 0:00:01\r\u001b[K     |██████████████████████████████▎ | 1.3 MB 6.8 MB/s eta 0:00:01\r\u001b[K     |██████████████████████████████▌ | 1.3 MB 6.8 MB/s eta 0:00:01\r\u001b[K     |██████████████████████████████▊ | 1.3 MB 6.8 MB/s eta 0:00:01\r\u001b[K     |███████████████████████████████ | 1.3 MB 6.8 MB/s eta 0:00:01\r\u001b[K     |███████████████████████████████▎| 1.4 MB 6.8 MB/s eta 0:00:01\r\u001b[K     |███████████████████████████████▌| 1.4 MB 6.8 MB/s eta 0:00:01\r\u001b[K     |███████████████████████████████▊| 1.4 MB 6.8 MB/s eta 0:00:01\r\u001b[K     |████████████████████████████████| 1.4 MB 6.8 MB/s eta 0:00:01\r\u001b[K     |████████████████████████████████| 1.4 MB 6.8 MB/s \n",
            "\u001b[?25hRequirement already satisfied: scipy>=1.3.2 in /usr/local/lib/python3.7/dist-packages (from pmdarima) (1.4.1)\n",
            "Requirement already satisfied: setuptools!=50.0.0,>=38.6.0 in /usr/local/lib/python3.7/dist-packages (from pmdarima) (57.4.0)\n",
            "Requirement already satisfied: urllib3 in /usr/local/lib/python3.7/dist-packages (from pmdarima) (1.24.3)\n",
            "Requirement already satisfied: scikit-learn>=0.22 in /usr/local/lib/python3.7/dist-packages (from pmdarima) (1.0.2)\n",
            "Collecting statsmodels!=0.12.0,>=0.11\n",
            "  Downloading statsmodels-0.13.2-cp37-cp37m-manylinux_2_17_x86_64.manylinux2014_x86_64.whl (9.8 MB)\n",
            "\u001b[K     |████████████████████████████████| 9.8 MB 22.7 MB/s \n",
            "\u001b[?25hRequirement already satisfied: joblib>=0.11 in /usr/local/lib/python3.7/dist-packages (from pmdarima) (1.1.0)\n",
            "Requirement already satisfied: numpy>=1.19.3 in /usr/local/lib/python3.7/dist-packages (from pmdarima) (1.21.5)\n",
            "Requirement already satisfied: pandas>=0.19 in /usr/local/lib/python3.7/dist-packages (from pmdarima) (1.3.5)\n",
            "Requirement already satisfied: Cython!=0.29.18,>=0.29 in /usr/local/lib/python3.7/dist-packages (from pmdarima) (0.29.28)\n",
            "Requirement already satisfied: python-dateutil>=2.7.3 in /usr/local/lib/python3.7/dist-packages (from pandas>=0.19->pmdarima) (2.8.2)\n",
            "Requirement already satisfied: pytz>=2017.3 in /usr/local/lib/python3.7/dist-packages (from pandas>=0.19->pmdarima) (2018.9)\n",
            "Requirement already satisfied: six>=1.5 in /usr/local/lib/python3.7/dist-packages (from python-dateutil>=2.7.3->pandas>=0.19->pmdarima) (1.15.0)\n",
            "Requirement already satisfied: threadpoolctl>=2.0.0 in /usr/local/lib/python3.7/dist-packages (from scikit-learn>=0.22->pmdarima) (3.1.0)\n",
            "Requirement already satisfied: patsy>=0.5.2 in /usr/local/lib/python3.7/dist-packages (from statsmodels!=0.12.0,>=0.11->pmdarima) (0.5.2)\n",
            "Requirement already satisfied: packaging>=21.3 in /usr/local/lib/python3.7/dist-packages (from statsmodels!=0.12.0,>=0.11->pmdarima) (21.3)\n",
            "Requirement already satisfied: pyparsing!=3.0.5,>=2.0.2 in /usr/local/lib/python3.7/dist-packages (from packaging>=21.3->statsmodels!=0.12.0,>=0.11->pmdarima) (3.0.7)\n",
            "Installing collected packages: statsmodels, pmdarima\n",
            "  Attempting uninstall: statsmodels\n",
            "    Found existing installation: statsmodels 0.10.2\n",
            "    Uninstalling statsmodels-0.10.2:\n",
            "      Successfully uninstalled statsmodels-0.10.2\n",
            "Successfully installed pmdarima-1.8.5 statsmodels-0.13.2\n"
          ]
        },
        {
          "output_type": "display_data",
          "data": {
            "application/vnd.colab-display-data+json": {
              "pip_warning": {
                "packages": [
                  "statsmodels"
                ]
              }
            }
          },
          "metadata": {}
        }
      ]
    },
    {
      "cell_type": "code",
      "source": [
        "#Standard Imports\n",
        "from statsmodels.tsa.seasonal import seasonal_decompose\n",
        "from pmdarima import auto_arima\n",
        "from statsmodels.tsa.arima_model import ARIMA\n",
        "from statsmodels.tsa.statespace.sarimax import SARIMAX\n",
        "import pandas as pd\n",
        "import matplotlib.pyplot as plt\n",
        "%matplotlib inline\n",
        "plt.style.use('fivethirtyeight')"
      ],
      "metadata": {
        "id": "I5xT9MNjIek_"
      },
      "execution_count": 1,
      "outputs": []
    },
    {
      "cell_type": "code",
      "source": [
        "df = pd.read_csv('https://raw.githubusercontent.com/appravi18/TimeSeriesAnalysis_Intro/main/airline_passengers.csv',index_col='Month')\n",
        "df.index.freq = 'MS'"
      ],
      "metadata": {
        "id": "Vu6WJ3xNIgZd"
      },
      "execution_count": 2,
      "outputs": []
    },
    {
      "cell_type": "code",
      "source": [
        "am = auto_arima(\n",
        "             df['Thousands of Passengers'],\n",
        "             seasonal=True, #our data is of course seasonal\n",
        "             m=12,#this parameters sets cycle length as 12 months\n",
        "             trace=True #set this param to see what values are tried\n",
        "             )"
      ],
      "metadata": {
        "colab": {
          "base_uri": "https://localhost:8080/"
        },
        "id": "h4GAHfbJIind",
        "outputId": "73bb9c31-bdf8-4b05-8cce-32ec7815722b"
      },
      "execution_count": 3,
      "outputs": [
        {
          "output_type": "stream",
          "name": "stdout",
          "text": [
            "Performing stepwise search to minimize aic\n",
            " ARIMA(2,1,2)(1,1,1)[12]             : AIC=1020.048, Time=3.92 sec\n",
            " ARIMA(0,1,0)(0,1,0)[12]             : AIC=1031.508, Time=0.05 sec\n",
            " ARIMA(1,1,0)(1,1,0)[12]             : AIC=1020.393, Time=0.44 sec\n",
            " ARIMA(0,1,1)(0,1,1)[12]             : AIC=1021.003, Time=0.51 sec\n",
            " ARIMA(2,1,2)(0,1,1)[12]             : AIC=1019.935, Time=1.98 sec\n",
            " ARIMA(2,1,2)(0,1,0)[12]             : AIC=1019.290, Time=0.77 sec\n",
            " ARIMA(2,1,2)(1,1,0)[12]             : AIC=1019.546, Time=2.27 sec\n",
            " ARIMA(1,1,2)(0,1,0)[12]             : AIC=1024.160, Time=0.51 sec\n",
            " ARIMA(2,1,1)(0,1,0)[12]             : AIC=1017.847, Time=0.47 sec\n",
            " ARIMA(2,1,1)(1,1,0)[12]             : AIC=1017.914, Time=1.91 sec\n",
            " ARIMA(2,1,1)(0,1,1)[12]             : AIC=1018.359, Time=1.77 sec\n",
            " ARIMA(2,1,1)(1,1,1)[12]             : AIC=1018.248, Time=3.83 sec\n",
            " ARIMA(1,1,1)(0,1,0)[12]             : AIC=1022.393, Time=0.27 sec\n",
            " ARIMA(2,1,0)(0,1,0)[12]             : AIC=1022.393, Time=0.12 sec\n",
            " ARIMA(3,1,1)(0,1,0)[12]             : AIC=1019.084, Time=0.59 sec\n",
            " ARIMA(1,1,0)(0,1,0)[12]             : AIC=1020.393, Time=0.05 sec\n",
            " ARIMA(3,1,0)(0,1,0)[12]             : AIC=1023.666, Time=0.14 sec\n",
            " ARIMA(3,1,2)(0,1,0)[12]             : AIC=1021.083, Time=1.80 sec\n",
            " ARIMA(2,1,1)(0,1,0)[12] intercept   : AIC=inf, Time=3.49 sec\n",
            "\n",
            "Best model:  ARIMA(2,1,1)(0,1,0)[12]          \n",
            "Total fit time: 25.145 seconds\n"
          ]
        }
      ]
    },
    {
      "cell_type": "code",
      "source": [
        "# after the model is created, we split the dataframe \n",
        "# into train and test sets\n",
        "train = df[:120]\n",
        "test = df[120:\n",
        "]\n",
        "model = SARIMAX(train,\n",
        "                order=(2,1,1),\n",
        "                seasonal_order=(0,1,0,12)\n",
        "               )\n",
        "results = model.fit()"
      ],
      "metadata": {
        "colab": {
          "base_uri": "https://localhost:8080/"
        },
        "id": "fHV-CDHgJhNx",
        "outputId": "ae43303d-9c20-49f2-be0f-5660b624afca"
      },
      "execution_count": 4,
      "outputs": [
        {
          "output_type": "stream",
          "name": "stderr",
          "text": [
            "/usr/local/lib/python3.7/dist-packages/statsmodels/tsa/base/tsa_model.py:471: ValueWarning: No frequency information was provided, so inferred frequency MS will be used.\n",
            "  self._init_dates(dates, freq)\n",
            "/usr/local/lib/python3.7/dist-packages/statsmodels/tsa/base/tsa_model.py:471: ValueWarning: No frequency information was provided, so inferred frequency MS will be used.\n",
            "  self._init_dates(dates, freq)\n",
            "/usr/local/lib/python3.7/dist-packages/statsmodels/tsa/statespace/sarimax.py:966: UserWarning: Non-stationary starting autoregressive parameters found. Using zeros as starting parameters.\n",
            "  warn('Non-stationary starting autoregressive parameters'\n",
            "/usr/local/lib/python3.7/dist-packages/statsmodels/tsa/statespace/sarimax.py:978: UserWarning: Non-invertible starting MA parameters found. Using zeros as starting parameters.\n",
            "  warn('Non-invertible starting MA parameters found.'\n"
          ]
        }
      ]
    },
    {
      "cell_type": "code",
      "source": [
        "#run predictions now\n",
        "predictions = results.predict(\n",
        "                start=len(train),\n",
        "                end=len(train)+len(test)-1,\n",
        "                typ='levels').rename('SARIMA Predictions')\n",
        "test.plot(figsize=(15,8),legend=True)\n",
        "predictions.plot(legend=True)"
      ],
      "metadata": {
        "colab": {
          "base_uri": "https://localhost:8080/",
          "height": 328
        },
        "id": "5uZobQYUJiwN",
        "outputId": "765253b6-7924-4ca3-aae3-3d3785de335d"
      },
      "execution_count": 5,
      "outputs": [
        {
          "output_type": "execute_result",
          "data": {
            "text/plain": [
              "<matplotlib.axes._subplots.AxesSubplot at 0x7f9f8bfaf710>"
            ]
          },
          "metadata": {},
          "execution_count": 5
        },
        {
          "output_type": "display_data",
          "data": {
            "text/plain": [
              "<Figure size 1080x576 with 1 Axes>"
            ],
            "image/png": "[encoded data removed]"
          },
          "metadata": {
            "needs_background": "light"
          }
        }
      ]
    },
    {
      "cell_type": "code",
      "source": [
        "#Trying to predict the change in Passengers from previous year\n",
        "from statsmodels.tsa.statespace.tools import diff\n",
        "df_diff = pd.DataFrame(\n",
        "                 diff(\n",
        "                      df['Thousands of Passengers'],\n",
        "                      k_diff=1,\n",
        "                      seasonal_periods=12\n",
        "                )\n",
        "          )"
      ],
      "metadata": {
        "id": "ECrtKdeqJj7w"
      },
      "execution_count": 6,
      "outputs": []
    },
    {
      "cell_type": "code",
      "source": [
        "am_diff = auto_arima(\n",
        "                     df_diff['Thousands of Passengers'],\n",
        "                     seasonal=True,\n",
        "                     m=12,\n",
        "                     trace=True,\n",
        "                     stationary=True)"
      ],
      "metadata": {
        "colab": {
          "base_uri": "https://localhost:8080/"
        },
        "id": "tA55pcpvJmBy",
        "outputId": "f43d6781-2bde-4004-a459-7bee30aebd3c"
      },
      "execution_count": 8,
      "outputs": [
        {
          "output_type": "stream",
          "name": "stdout",
          "text": [
            "Performing stepwise search to minimize aic\n",
            " ARIMA(2,0,2)(1,0,1)[12] intercept   : AIC=inf, Time=6.23 sec\n",
            " ARIMA(0,0,0)(0,0,0)[12] intercept   : AIC=1415.278, Time=0.08 sec\n",
            " ARIMA(1,0,0)(1,0,0)[12] intercept   : AIC=inf, Time=1.96 sec\n",
            " ARIMA(0,0,1)(0,0,1)[12] intercept   : AIC=1299.257, Time=1.28 sec\n",
            " ARIMA(0,0,0)(0,0,0)[12]             : AIC=1413.909, Time=0.02 sec\n",
            " ARIMA(0,0,1)(0,0,0)[12] intercept   : AIC=1398.827, Time=0.61 sec\n",
            " ARIMA(0,0,1)(1,0,1)[12] intercept   : AIC=1146.801, Time=2.04 sec\n",
            " ARIMA(0,0,1)(1,0,0)[12] intercept   : AIC=1146.154, Time=1.94 sec\n",
            " ARIMA(0,0,1)(2,0,0)[12] intercept   : AIC=1146.333, Time=4.25 sec\n",
            " ARIMA(0,0,1)(2,0,1)[12] intercept   : AIC=inf, Time=4.22 sec\n",
            " ARIMA(0,0,0)(1,0,0)[12] intercept   : AIC=inf, Time=1.08 sec\n",
            " ARIMA(1,0,1)(1,0,0)[12] intercept   : AIC=inf, Time=3.03 sec\n",
            " ARIMA(0,0,2)(1,0,0)[12] intercept   : AIC=1148.149, Time=1.38 sec\n",
            " ARIMA(1,0,2)(1,0,0)[12] intercept   : AIC=inf, Time=2.64 sec\n",
            " ARIMA(0,0,1)(1,0,0)[12]             : AIC=1144.192, Time=0.54 sec\n",
            " ARIMA(0,0,1)(0,0,0)[12]             : AIC=1397.258, Time=0.12 sec\n",
            " ARIMA(0,0,1)(2,0,0)[12]             : AIC=1144.380, Time=1.24 sec\n",
            " ARIMA(0,0,1)(1,0,1)[12]             : AIC=1144.846, Time=0.92 sec\n",
            " ARIMA(0,0,1)(0,0,1)[12]             : AIC=1297.499, Time=0.55 sec\n",
            " ARIMA(0,0,1)(2,0,1)[12]             : AIC=inf, Time=3.40 sec\n",
            " ARIMA(0,0,0)(1,0,0)[12]             : AIC=inf, Time=0.17 sec\n",
            " ARIMA(1,0,1)(1,0,0)[12]             : AIC=1140.943, Time=0.99 sec\n",
            " ARIMA(1,0,1)(0,0,0)[12]             : AIC=1394.683, Time=0.11 sec\n",
            " ARIMA(1,0,1)(2,0,0)[12]             : AIC=1140.721, Time=1.78 sec\n",
            " ARIMA(1,0,1)(2,0,1)[12]             : AIC=inf, Time=4.64 sec\n",
            " ARIMA(1,0,1)(1,0,1)[12]             : AIC=1146.642, Time=1.60 sec\n",
            " ARIMA(1,0,0)(2,0,0)[12]             : AIC=inf, Time=1.61 sec\n",
            " ARIMA(2,0,1)(2,0,0)[12]             : AIC=1140.023, Time=1.88 sec\n",
            " ARIMA(2,0,1)(1,0,0)[12]             : AIC=1139.765, Time=0.51 sec\n",
            " ARIMA(2,0,1)(0,0,0)[12]             : AIC=1378.338, Time=0.24 sec\n",
            " ARIMA(2,0,1)(1,0,1)[12]             : AIC=1140.402, Time=0.75 sec\n",
            " ARIMA(2,0,1)(0,0,1)[12]             : AIC=1281.599, Time=0.50 sec\n",
            " ARIMA(2,0,1)(2,0,1)[12]             : AIC=1140.624, Time=2.24 sec\n",
            " ARIMA(2,0,0)(1,0,0)[12]             : AIC=inf, Time=0.27 sec\n",
            " ARIMA(3,0,1)(1,0,0)[12]             : AIC=1140.218, Time=0.84 sec\n",
            " ARIMA(2,0,2)(1,0,0)[12]             : AIC=1140.863, Time=1.06 sec\n",
            " ARIMA(1,0,0)(1,0,0)[12]             : AIC=inf, Time=0.27 sec\n",
            " ARIMA(1,0,2)(1,0,0)[12]             : AIC=1140.573, Time=0.47 sec\n",
            " ARIMA(3,0,0)(1,0,0)[12]             : AIC=inf, Time=0.40 sec\n"
          ]
        },
        {
          "output_type": "stream",
          "name": "stderr",
          "text": [
            "/usr/local/lib/python3.7/dist-packages/pmdarima/arima/_auto_solvers.py:522: ModelFitWarning: Error fitting  ARIMA(3,0,2)(1,0,0)[12]           (if you do not want to see these warnings, run with error_action=\"ignore\").\n",
            "Traceback:\n",
            "Traceback (most recent call last):\n",
            "  File \"/usr/local/lib/python3.7/dist-packages/pmdarima/arima/_auto_solvers.py\", line 506, in _fit_candidate_model\n",
            "    fit.fit(y, X=X, **fit_params)\n",
            "  File \"/usr/local/lib/python3.7/dist-packages/pmdarima/arima/arima.py\", line 597, in fit\n",
            "    self._fit(y, X, **fit_args)\n",
            "  File \"/usr/local/lib/python3.7/dist-packages/pmdarima/arima/arima.py\", line 518, in _fit\n",
            "    fit, self.arima_res_ = _fit_wrapper()\n",
            "  File \"/usr/local/lib/python3.7/dist-packages/pmdarima/arima/arima.py\", line 512, in _fit_wrapper\n",
            "    **fit_args)\n",
            "  File \"/usr/local/lib/python3.7/dist-packages/statsmodels/tsa/statespace/mlemodel.py\", line 709, in fit\n",
            "    skip_hessian=True, **kwargs)\n",
            "  File \"/usr/local/lib/python3.7/dist-packages/statsmodels/base/model.py\", line 571, in fit\n",
            "    full_output=full_output)\n",
            "  File \"/usr/local/lib/python3.7/dist-packages/statsmodels/base/optimizer.py\", line 244, in _fit\n",
            "    hess=hessian)\n",
            "  File \"/usr/local/lib/python3.7/dist-packages/statsmodels/base/optimizer.py\", line 654, in _fit_lbfgs\n",
            "    **extra_kwargs)\n",
            "  File \"/usr/local/lib/python3.7/dist-packages/scipy/optimize/lbfgsb.py\", line 199, in fmin_l_bfgs_b\n",
            "    **opts)\n",
            "  File \"/usr/local/lib/python3.7/dist-packages/scipy/optimize/lbfgsb.py\", line 345, in _minimize_lbfgsb\n",
            "    f, g = func_and_grad(x)\n",
            "  File \"/usr/local/lib/python3.7/dist-packages/scipy/optimize/lbfgsb.py\", line 290, in func_and_grad\n",
            "    f = fun(x, *args)\n",
            "  File \"/usr/local/lib/python3.7/dist-packages/scipy/optimize/optimize.py\", line 327, in function_wrapper\n",
            "    return function(*(wrapper_args + args))\n",
            "  File \"/usr/local/lib/python3.7/dist-packages/statsmodels/base/model.py\", line 531, in f\n",
            "    return -self.loglike(params, *args) / nobs\n",
            "  File \"/usr/local/lib/python3.7/dist-packages/statsmodels/tsa/statespace/mlemodel.py\", line 939, in loglike\n",
            "    loglike = self.ssm.loglike(complex_step=complex_step, **kwargs)\n",
            "  File \"/usr/local/lib/python3.7/dist-packages/statsmodels/tsa/statespace/kalman_filter.py\", line 983, in loglike\n",
            "    kfilter = self._filter(**kwargs)\n",
            "  File \"/usr/local/lib/python3.7/dist-packages/statsmodels/tsa/statespace/kalman_filter.py\", line 903, in _filter\n",
            "    self._initialize_state(prefix=prefix, complex_step=complex_step)\n",
            "  File \"/usr/local/lib/python3.7/dist-packages/statsmodels/tsa/statespace/representation.py\", line 984, in _initialize_state\n",
            "    complex_step=complex_step)\n",
            "  File \"statsmodels/tsa/statespace/_representation.pyx\", line 1362, in statsmodels.tsa.statespace._representation.dStatespace.initialize\n",
            "  File \"statsmodels/tsa/statespace/_initialization.pyx\", line 288, in statsmodels.tsa.statespace._initialization.dInitialization.initialize\n",
            "  File \"statsmodels/tsa/statespace/_initialization.pyx\", line 406, in statsmodels.tsa.statespace._initialization.dInitialization.initialize_stationary_stationary_cov\n",
            "  File \"statsmodels/tsa/statespace/_tools.pyx\", line 1206, in statsmodels.tsa.statespace._tools._dsolve_discrete_lyapunov\n",
            "numpy.linalg.LinAlgError: LU decomposition error.\n",
            "\n",
            "  warnings.warn(warning_str, ModelFitWarning)\n"
          ]
        },
        {
          "output_type": "stream",
          "name": "stdout",
          "text": [
            " ARIMA(3,0,2)(1,0,0)[12]             : AIC=inf, Time=nan sec\n",
            " ARIMA(2,0,1)(1,0,0)[12] intercept   : AIC=inf, Time=0.87 sec\n",
            "\n",
            "Best model:  ARIMA(2,0,1)(1,0,0)[12]          \n",
            "Total fit time: 59.240 seconds\n"
          ]
        }
      ]
    },
    {
      "cell_type": "code",
      "source": [
        "#train/test split for the df_diff\n",
        "train_diff = df_diff[:120]\n",
        "test_diff = df_diff[120:]\n",
        "#New Sarimax model\n",
        "model_diff = SARIMAX(\n",
        "                     train_diff['Thousands of Passengers'],\n",
        "                     order=(2,0,1),\n",
        "                     seasonal_order=(1,0,0,12))\n",
        "results_diff = model_diff.fit()\n",
        "#run predictions now\n",
        "predictions_diff = results_diff.predict(\n",
        "                start=len(train_diff),\n",
        "                end=len(train_diff)+len(test_diff)-1,\n",
        "                typ='levels').rename('SARIMA Predictions -- Diff')\n",
        "#plot the diffs\n",
        "test_diff.plot(figsize=(15,8),legend=True)\n",
        "predictions_diff.plot(legend=True)"
      ],
      "metadata": {
        "colab": {
          "base_uri": "https://localhost:8080/",
          "height": 447
        },
        "id": "5JgiIQj_JoWA",
        "outputId": "16d909dc-d602-43ab-89cf-fb035ae595d0"
      },
      "execution_count": 9,
      "outputs": [
        {
          "output_type": "stream",
          "name": "stderr",
          "text": [
            "/usr/local/lib/python3.7/dist-packages/statsmodels/tsa/base/tsa_model.py:471: ValueWarning: No frequency information was provided, so inferred frequency MS will be used.\n",
            "  self._init_dates(dates, freq)\n",
            "/usr/local/lib/python3.7/dist-packages/statsmodels/tsa/base/tsa_model.py:471: ValueWarning: No frequency information was provided, so inferred frequency MS will be used.\n",
            "  self._init_dates(dates, freq)\n",
            "/usr/local/lib/python3.7/dist-packages/statsmodels/tsa/statespace/sarimax.py:997: UserWarning: Non-stationary starting seasonal autoregressive Using zeros as starting parameters.\n",
            "  warn('Non-stationary starting seasonal autoregressive'\n"
          ]
        },
        {
          "output_type": "execute_result",
          "data": {
            "text/plain": [
              "<matplotlib.axes._subplots.AxesSubplot at 0x7f9f8b787c90>"
            ]
          },
          "metadata": {},
          "execution_count": 9
        },
        {
          "output_type": "display_data",
          "data": {
            "text/plain": [
              "<Figure size 1080x576 with 1 Axes>"
            ],
            "image/png": "[encoded data removed]"
          },
          "metadata": {
            "needs_background": "light"
          }
        }
      ]
    },
    {
      "cell_type": "code",
      "source": [
        "from sklearn.metrics import mean_squared_error\n",
        "from math import sqrt\n",
        "error = mean_squared_error(\n",
        "                           test['Thousands of Passengers'],\n",
        "                           predictions)\n",
        "print(f'SARIMAX: RMSE Error: {sqrt(error):5.5}')"
      ],
      "metadata": {
        "colab": {
          "base_uri": "https://localhost:8080/"
        },
        "id": "bYILX912JqgB",
        "outputId": "8d61d709-f737-4675-83d1-a410fda5c933"
      },
      "execution_count": 10,
      "outputs": [
        {
          "output_type": "stream",
          "name": "stdout",
          "text": [
            "SARIMAX: RMSE Error: 75.436\n"
          ]
        }
      ]
    },
    {
      "cell_type": "code",
      "source": [
        "error_diff = mean_squared_error(\n",
        "                               test_diff['Thousands of Passengers'], \n",
        "                               predictions_diff)\n",
        "print(f'SARIMAX-Diff: RMSE Error: {sqrt(error_diff):5.5}')"
      ],
      "metadata": {
        "colab": {
          "base_uri": "https://localhost:8080/"
        },
        "id": "xyR_NtojJr7V",
        "outputId": "9e7d58ef-a49e-480f-fbce-34e77fb58800"
      },
      "execution_count": 11,
      "outputs": [
        {
          "output_type": "stream",
          "name": "stdout",
          "text": [
            "SARIMAX-Diff: RMSE Error: 18.891\n"
          ]
        }
      ]
    }
  ]
}