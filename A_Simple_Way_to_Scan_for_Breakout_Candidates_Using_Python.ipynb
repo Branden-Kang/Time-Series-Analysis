{
  "nbformat": 4,
  "nbformat_minor": 0,
  "metadata": {
    "colab": {
      "provenance": [],
      "authorship_tag": "ABX9TyNE/qz9S+n39hGO4CrwVfVk"
    },
    "kernelspec": {
      "name": "python3",
      "display_name": "Python 3"
    },
    "language_info": {
      "name": "python"
    }
  },
  "cells": [
    {
      "cell_type": "markdown",
      "source": [
        "[Reference](https://medium.com/geekculture/a-simple-way-to-scan-for-breakout-candidates-using-python-cba10c939759)"
      ],
      "metadata": {
        "id": "0xvKF3EMLh9l"
      }
    },
    {
      "cell_type": "code",
      "source": [
        "!pip install yfinance"
      ],
      "metadata": {
        "colab": {
          "base_uri": "https://localhost:8080/"
        },
        "id": "GzMNFRPtLPls",
        "outputId": "c9eb00fb-6727-4264-eedb-8218bac599ff"
      },
      "execution_count": 1,
      "outputs": [
        {
          "output_type": "stream",
          "name": "stdout",
          "text": [
            "Looking in indexes: https://pypi.org/simple, https://us-python.pkg.dev/colab-wheels/public/simple/\n",
            "Collecting yfinance\n",
            "  Downloading yfinance-0.1.74-py2.py3-none-any.whl (27 kB)\n",
            "Requirement already satisfied: lxml>=4.5.1 in /usr/local/lib/python3.7/dist-packages (from yfinance) (4.9.1)\n",
            "Requirement already satisfied: multitasking>=0.0.7 in /usr/local/lib/python3.7/dist-packages (from yfinance) (0.0.11)\n",
            "Requirement already satisfied: pandas>=0.24.0 in /usr/local/lib/python3.7/dist-packages (from yfinance) (1.3.5)\n",
            "Collecting requests>=2.26\n",
            "  Downloading requests-2.28.1-py3-none-any.whl (62 kB)\n",
            "\u001b[K     |████████████████████████████████| 62 kB 1.2 MB/s \n",
            "\u001b[?25hRequirement already satisfied: numpy>=1.15 in /usr/local/lib/python3.7/dist-packages (from yfinance) (1.21.6)\n",
            "Requirement already satisfied: python-dateutil>=2.7.3 in /usr/local/lib/python3.7/dist-packages (from pandas>=0.24.0->yfinance) (2.8.2)\n",
            "Requirement already satisfied: pytz>=2017.3 in /usr/local/lib/python3.7/dist-packages (from pandas>=0.24.0->yfinance) (2022.2.1)\n",
            "Requirement already satisfied: six>=1.5 in /usr/local/lib/python3.7/dist-packages (from python-dateutil>=2.7.3->pandas>=0.24.0->yfinance) (1.15.0)\n",
            "Requirement already satisfied: charset-normalizer<3,>=2 in /usr/local/lib/python3.7/dist-packages (from requests>=2.26->yfinance) (2.1.1)\n",
            "Requirement already satisfied: certifi>=2017.4.17 in /usr/local/lib/python3.7/dist-packages (from requests>=2.26->yfinance) (2022.6.15)\n",
            "Requirement already satisfied: idna<4,>=2.5 in /usr/local/lib/python3.7/dist-packages (from requests>=2.26->yfinance) (2.10)\n",
            "Requirement already satisfied: urllib3<1.27,>=1.21.1 in /usr/local/lib/python3.7/dist-packages (from requests>=2.26->yfinance) (1.24.3)\n",
            "Installing collected packages: requests, yfinance\n",
            "  Attempting uninstall: requests\n",
            "    Found existing installation: requests 2.23.0\n",
            "    Uninstalling requests-2.23.0:\n",
            "      Successfully uninstalled requests-2.23.0\n",
            "Successfully installed requests-2.28.1 yfinance-0.1.74\n"
          ]
        }
      ]
    },
    {
      "cell_type": "code",
      "execution_count": 2,
      "metadata": {
        "colab": {
          "base_uri": "https://localhost:8080/"
        },
        "id": "1TcEXDPKLNij",
        "outputId": "1d75eccf-8e0e-4c44-f859-306f6c58b834"
      },
      "outputs": [
        {
          "output_type": "stream",
          "name": "stdout",
          "text": [
            "\r[*********************100%***********************]  1 of 1 completed\n"
          ]
        }
      ],
      "source": [
        "import numpy as np\n",
        "import pandas as pd\n",
        "import yfinance as yf\n",
        "\n",
        "def trend_filter(prices: pd.core.series.Series,\n",
        "                 growth_4_min: float = 25.,\n",
        "                 growth_12_min: float = 50.,\n",
        "                 growth_24_min: float = 80.) -> np.array:\n",
        "    '''\n",
        "    Take in a pandas series and output a binary array to indicate if a stock\n",
        "    fits the growth criteria (1) or not (0)\n",
        "    Parameters\n",
        "    ----------\n",
        "    prices : pd.core.series.Series\n",
        "        The prices we are using to check for growth\n",
        "    growth_4_min : float, optional\n",
        "        The minimum 4 week growth. The default is 25\n",
        "    growth_12_min : float, optional\n",
        "        The minimum 12 week growth. The default is 50\n",
        "    growth_24_min : float, optional\n",
        "        The minimum 24 week growth. The default is 80\n",
        "    Returns\n",
        "    -------\n",
        "    np.array\n",
        "        A binary array showing the positions where the growth criteria is met\n",
        "    '''\n",
        "    \n",
        "    growth_func = lambda x: 100*(x.values[-1]/x.min() - 1)\n",
        "    \n",
        "    growth_4 = df['Close'].rolling(20).apply(growth_func) > growth_4_min\n",
        "    growth_12 = df['Close'].rolling(60).apply(growth_func) > growth_12_min\n",
        "    growth_24 = df['Close'].rolling(120).apply(growth_func) > growth_24_min\n",
        "    \n",
        "    return np.where(\n",
        "        growth_4 | growth_12 | growth_24,\n",
        "        1,\n",
        "        0,\n",
        "    )\n",
        "\n",
        "if __name__ == '__main__':\n",
        "    \n",
        "    df = yf.download('TSLA')\n",
        "    df.loc[:, 'trend_filter'] = trend_filter(df['Close'])\n",
        "    df.dropna()"
      ]
    },
    {
      "cell_type": "code",
      "source": [
        "import numpy as np\n",
        "import numba as nb\n",
        "import yfinance as yf\n",
        "\n",
        "@nb.jit(nopython = True)\n",
        "def explicit_heat_smooth(prices: np.array,\n",
        "                         t_end: float = 5.0) -> np.array:\n",
        "    '''\n",
        "    Smoothen out a time series using a explicit finite difference method.\n",
        "    Parameters\n",
        "    ----------\n",
        "    prices : np.array\n",
        "        The price to smoothen\n",
        "    t_end : float\n",
        "        The time at which to terminate the smootheing (i.e. t = 2)\n",
        "    Returns\n",
        "    -------\n",
        "    P : np.array\n",
        "        The smoothened time-series\n",
        "    '''\n",
        "    \n",
        "    k = 0.1 # Time spacing, must be < 1 for numerical stability\n",
        "    \n",
        "    # Set up the initial condition\n",
        "    P = prices\n",
        "    \n",
        "    t = 0\n",
        "    while t < t_end:\n",
        "        # Solve the finite difference scheme for the next time-step\n",
        "        P = k*(P[2:] + P[:-2]) + P[1:-1]*(1-2*k)\n",
        "        \n",
        "        # Add the fixed boundary conditions since the above solves the interior\n",
        "        # points only\n",
        "        P = np.hstack((\n",
        "            np.array([prices[0]]),\n",
        "            P,\n",
        "            np.array([prices[-1]]),\n",
        "        ))\n",
        "        t += k\n",
        "\n",
        "    return P\n",
        "\n",
        "        \n",
        "@nb.jit(nopython = True)\n",
        "def check_consolidation(prices: np.array,\n",
        "                        perc_change_days: int,\n",
        "                        perc_change_thresh: float,\n",
        "                        check_days: int) -> int:\n",
        "    '''\n",
        "    Smoothen the time-series and check for consolidation, see the\n",
        "    docstring of find_consolidation for the parameters\n",
        "    '''\n",
        "    \n",
        "    # Find the smoothed representation of the time series\n",
        "    prices = explicit_heat_smooth(prices)\n",
        "    \n",
        "    # Perc change of the smoothed time series to perc_change_days days prior\n",
        "    perc_change = prices[perc_change_days:]/prices[:-perc_change_days] - 1\n",
        "    \n",
        "    consolidating = np.where(np.abs(perc_change) < perc_change_thresh, 1, 0)\n",
        "    \n",
        "    # Provided one entry in the last n days passes the consolidation check,\n",
        "    # we say that the financial instrument is in consolidation on the end day\n",
        "    if np.sum(consolidating[-check_days:]) > 0:\n",
        "        return 1\n",
        "    else:\n",
        "        return 0\n",
        "    \n",
        "    \n",
        "@nb.jit(nopython = True)\n",
        "def find_consolidation(prices: np.array,\n",
        "                       days_to_smooth: int = 50,\n",
        "                       perc_change_days: int = 5,\n",
        "                       perc_change_thresh: float = 0.015,\n",
        "                       check_days: int = 5) -> np.array:\n",
        "    '''\n",
        "    Return a binary array to indicate whether each of the data-points are\n",
        "    classed as consolidating or not\n",
        "    Parameters\n",
        "    ----------\n",
        "    prices : np.array\n",
        "        The price time series to check for consolidation\n",
        "    days_to_smooth : int, optional\n",
        "        The length of the time-series to smoothen (days). The default is 50.\n",
        "    perc_change_days : int, optional\n",
        "        The days back to % change compare against (days). The default is 5.\n",
        "    perc_change_thresh : float, optional\n",
        "        The range trading % criteria for consolidation. The default is 0.015.\n",
        "    check_days : int, optional\n",
        "        This says the number of lookback days to check for any consolidation.\n",
        "        If any days in check_days back is consolidating, then the last data\n",
        "        point is said to be consolidating. The default is 5.\n",
        "    Returns\n",
        "    -------\n",
        "    res : np.array\n",
        "        The binary array indicating consolidation (1) or not (0)\n",
        "    '''\n",
        "    \n",
        "    res = np.full(prices.shape, np.nan)\n",
        "    \n",
        "    for idx in range(days_to_smooth, prices.shape[0]):\n",
        "        res[idx] = check_consolidation(\n",
        "            prices = prices[idx-days_to_smooth:idx],\n",
        "            perc_change_days = perc_change_days,\n",
        "            perc_change_thresh = perc_change_thresh,\n",
        "            check_days = check_days,\n",
        "        )\n",
        "        \n",
        "    return res\n",
        "    \n",
        "\n",
        "if __name__ == '__main__':\n",
        "    \n",
        "    df = yf.download('TSLA')\n",
        "    df.loc[:, 'consolidating'] = find_consolidation(df['Close'].values)\n",
        "    df.dropna()"
      ],
      "metadata": {
        "colab": {
          "base_uri": "https://localhost:8080/"
        },
        "id": "eiR1IKMSLRID",
        "outputId": "7830c5ff-fff5-48b9-9a74-12151d2fffdf"
      },
      "execution_count": 3,
      "outputs": [
        {
          "output_type": "stream",
          "name": "stdout",
          "text": [
            "\r[*********************100%***********************]  1 of 1 completed\n"
          ]
        }
      ]
    },
    {
      "cell_type": "code",
      "source": [],
      "metadata": {
        "id": "j5wVAbtgLWrB"
      },
      "execution_count": null,
      "outputs": []
    }
  ]
}