{
  "nbformat": 4,
  "nbformat_minor": 0,
  "metadata": {
    "colab": {
      "provenance": [],
      "authorship_tag": "ABX9TyPmTcAioBzsPRehjqew854F"
    },
    "kernelspec": {
      "name": "python3",
      "display_name": "Python 3"
    },
    "language_info": {
      "name": "python"
    }
  },
  "cells": [
    {
      "cell_type": "markdown",
      "source": [
        "[Reference](https://medium.com/@timotheeplessy/python-date-time-complete-tutorial-handle-any-data-processing-with-datetime-module-48959dc846d8)"
      ],
      "metadata": {
        "id": "M92Iqj4mpjPT"
      }
    },
    {
      "cell_type": "code",
      "execution_count": 1,
      "metadata": {
        "id": "Yy96MnhSn8pN"
      },
      "outputs": [],
      "source": [
        "import datetime"
      ]
    },
    {
      "cell_type": "code",
      "source": [
        "datetime.MINYEAR"
      ],
      "metadata": {
        "colab": {
          "base_uri": "https://localhost:8080/"
        },
        "id": "Yeb4O1rgpm6V",
        "outputId": "019193c4-1433-49cd-d5a0-cc683c5795f7"
      },
      "execution_count": 2,
      "outputs": [
        {
          "output_type": "execute_result",
          "data": {
            "text/plain": [
              "1"
            ]
          },
          "metadata": {},
          "execution_count": 2
        }
      ]
    },
    {
      "cell_type": "code",
      "source": [
        "datetime.MAXYEAR"
      ],
      "metadata": {
        "colab": {
          "base_uri": "https://localhost:8080/"
        },
        "id": "6C-v1YaRpn2N",
        "outputId": "415e7038-defe-466a-829a-95c8283093b4"
      },
      "execution_count": 3,
      "outputs": [
        {
          "output_type": "execute_result",
          "data": {
            "text/plain": [
              "9999"
            ]
          },
          "metadata": {},
          "execution_count": 3
        }
      ]
    },
    {
      "cell_type": "code",
      "source": [
        "date_creation = datetime.date(2022, 8, 16)\n",
        "print(\"My chosen date is: \", date_creation)"
      ],
      "metadata": {
        "colab": {
          "base_uri": "https://localhost:8080/"
        },
        "id": "qY6iqggDppBs",
        "outputId": "7ffe8d78-9baa-4e84-8797-eb5d71f84bef"
      },
      "execution_count": 4,
      "outputs": [
        {
          "output_type": "stream",
          "name": "stdout",
          "text": [
            "My chosen date is:  2022-08-16\n"
          ]
        }
      ]
    },
    {
      "cell_type": "code",
      "source": [
        "print(\"The year of my date is: \", date_creation.year)\n",
        "print(\"The month of my date is: \", date_creation.month)\n",
        "print(\"The day of my date is: \", date_creation.day)"
      ],
      "metadata": {
        "colab": {
          "base_uri": "https://localhost:8080/"
        },
        "id": "Yhyffi1epvgA",
        "outputId": "0dcef447-a10a-49bb-de5a-815b671b3cdf"
      },
      "execution_count": 5,
      "outputs": [
        {
          "output_type": "stream",
          "name": "stdout",
          "text": [
            "The year of my date is:  2022\n",
            "The month of my date is:  8\n",
            "The day of my date is:  16\n"
          ]
        }
      ]
    },
    {
      "cell_type": "code",
      "source": [
        "print(\"Today's date is: \", datetime.date.today())"
      ],
      "metadata": {
        "colab": {
          "base_uri": "https://localhost:8080/"
        },
        "id": "ljmDZttBp2Ua",
        "outputId": "9e3cec2b-c406-4047-d31a-eaf5edc6e5dc"
      },
      "execution_count": 6,
      "outputs": [
        {
          "output_type": "stream",
          "name": "stdout",
          "text": [
            "Today's date is:  2022-10-27\n"
          ]
        }
      ]
    }
  ]
}