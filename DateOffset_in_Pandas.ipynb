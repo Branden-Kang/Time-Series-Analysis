{
  "nbformat": 4,
  "nbformat_minor": 0,
  "metadata": {
    "colab": {
      "provenance": [],
      "authorship_tag": "ABX9TyMhfgMmozE47OKdRq25gCvN"
    },
    "kernelspec": {
      "name": "python3",
      "display_name": "Python 3"
    },
    "language_info": {
      "name": "python"
    }
  },
  "cells": [
    {
      "cell_type": "markdown",
      "source": [
        "[Reference](https://medium.com/@anala007/what-is-a-dateoffset-in-pandas-fe2f69c02e2)"
      ],
      "metadata": {
        "id": "tJ94RZFwPAG_"
      }
    },
    {
      "cell_type": "code",
      "execution_count": null,
      "metadata": {
        "colab": {
          "base_uri": "https://localhost:8080/"
        },
        "id": "-UhFqduGO-Gx",
        "outputId": "ad908e5c-aa43-4386-efcf-169cf11b8699"
      },
      "outputs": [
        {
          "output_type": "stream",
          "name": "stdout",
          "text": [
            "Original Value:  2022-12-01 00:00:00\n",
            "Using DateOffset:  2022-12-15 00:00:00\n"
          ]
        }
      ],
      "source": [
        "import pandas as pd\n",
        "from pandas.tseries.offsets import * \n",
        "import pandas as pd\n",
        "from pandas.tseries.offsets import * \n",
        "dt = pd.to_datetime('2022-12-01')\n",
        "print('Original Value: ', dt) \n",
        "print('Using DateOffset: ', dt + DateOffset(weeks=2))"
      ]
    },
    {
      "cell_type": "code",
      "source": [
        "from dateutil.relativedelta import relativedelta\n",
        "dt = pd.to_datetime('2022-12-01')\n",
        "print('Original Value: ', dt) \n",
        "print('Using relativedelta: ', dt + relativedelta(weeks=2))"
      ],
      "metadata": {
        "colab": {
          "base_uri": "https://localhost:8080/"
        },
        "id": "PL_JRdDzPCvS",
        "outputId": "4f505558-8f6f-4e15-ee52-f8d27809e16c"
      },
      "execution_count": null,
      "outputs": [
        {
          "output_type": "stream",
          "name": "stdout",
          "text": [
            "Original Value:  2022-12-01 00:00:00\n",
            "Using relativedelta:  2022-12-15 00:00:00\n"
          ]
        }
      ]
    },
    {
      "cell_type": "code",
      "source": [
        "dt = pd.to_datetime('2022-12-05')\n",
        "print('Original Value: ', dt, ' ', dt.day_name()) \n",
        "dt_1 = dt + DateOffset(days = 4)\n",
        "print('New Value: ', dt_1, ' ', dt_1.day_name())"
      ],
      "metadata": {
        "colab": {
          "base_uri": "https://localhost:8080/"
        },
        "id": "V2FzLejsPDwF",
        "outputId": "5c636cdc-f053-46df-eda2-c03b0911ac99"
      },
      "execution_count": null,
      "outputs": [
        {
          "output_type": "stream",
          "name": "stdout",
          "text": [
            "Original Value:  2022-12-05 00:00:00   Monday\n",
            "New Value:  2022-12-09 00:00:00   Friday\n"
          ]
        }
      ]
    },
    {
      "cell_type": "code",
      "source": [
        "dt = pd.to_datetime('2022-12-05')\n",
        "print('Original Value: ', dt, ' ', dt.day_name()) \n",
        "dt_1 = dt + DateOffset(days = -2)\n",
        "print('New Value: ', dt_1, ' ', dt_1.day_name())"
      ],
      "metadata": {
        "colab": {
          "base_uri": "https://localhost:8080/"
        },
        "id": "5SYWJ7X6PEtd",
        "outputId": "e2b38cfa-138b-47ae-aef0-a3432b728dcb"
      },
      "execution_count": null,
      "outputs": [
        {
          "output_type": "stream",
          "name": "stdout",
          "text": [
            "Original Value:  2022-12-05 00:00:00   Monday\n",
            "New Value:  2022-12-03 00:00:00   Saturday\n"
          ]
        }
      ]
    }
  ]
}