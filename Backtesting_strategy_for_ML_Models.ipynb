{
  "nbformat": 4,
  "nbformat_minor": 0,
  "metadata": {
    "colab": {
      "name": "Backtesting strategy for ML Models.ipynb",
      "provenance": [],
      "authorship_tag": "ABX9TyM+aCveD59nzSfqUq4phADb"
    },
    "kernelspec": {
      "name": "python3",
      "display_name": "Python 3"
    },
    "language_info": {
      "name": "python"
    }
  },
  "cells": [
    {
      "cell_type": "markdown",
      "source": [
        "[Reference](https://medium.com/@samiran.bera/backtesting-of-ml-models-e558dbbea5c8)"
      ],
      "metadata": {
        "id": "MQeFNVAsY_LL"
      }
    },
    {
      "cell_type": "markdown",
      "source": [
        "# Simple sampling strategy\n"
      ],
      "metadata": {
        "id": "mxEW9tNCZB1C"
      }
    },
    {
      "cell_type": "code",
      "execution_count": 1,
      "metadata": {
        "id": "W9d6dXpZVguN"
      },
      "outputs": [],
      "source": [
        "def simple_batch(batch_start='2021-01-01', batch_end='2022-12-31', train_days = 30, test_days = 15 ):\n",
        "    \n",
        "    batch = []\n",
        "    \n",
        "    while True:\n",
        "        a = pd.to_datetime(batch_start) - pd.DateOffset(days=train_days)\n",
        "        b = pd.to_datetime(batch_start)\n",
        "        c = pd.to_datetime(batch_start) + pd.DateOffset(days=test_days)\n",
        "        batch.append([a, b, c])\n",
        "    \n",
        "        if  b + pd.DateOffset(days=train_days+2*test_days) > pd.to_datetime(batch_end):\n",
        "            break\n",
        "        else:\n",
        "            batch_start = b + pd.DateOffset(days=test_days+train_days)\n",
        "            \n",
        "    return batch"
      ]
    },
    {
      "cell_type": "markdown",
      "source": [
        "# Overlapped strategy\n"
      ],
      "metadata": {
        "id": "bNP97ewPZF2w"
      }
    },
    {
      "cell_type": "code",
      "source": [
        "def overlap_batch(batch_start='2021-01-01', batch_end='2022-12-31', train_days = 30, test_days = 15 ):\n",
        "    batch = []\n",
        "    \n",
        "    while True:\n",
        "        a = pd.to_datetime(batch_start) - pd.DateOffset(days=train_days)\n",
        "        b = pd.to_datetime(batch_start)\n",
        "        c = pd.to_datetime(batch_start) + pd.DateOffset(days=test_days)\n",
        "        batch.append([a, b, c])\n",
        "    \n",
        "        if  b + pd.DateOffset(days=train_days+test_days) > pd.to_datetime(batch_end):\n",
        "            break\n",
        "        else:\n",
        "            batch_start = b + pd.DateOffset(days=train_days)\n",
        "            \n",
        "    return batch"
      ],
      "metadata": {
        "id": "ZmbH0UZhZEdR"
      },
      "execution_count": 2,
      "outputs": []
    },
    {
      "cell_type": "markdown",
      "source": [
        "# Aggregate strategy\n"
      ],
      "metadata": {
        "id": "9KwiEvRvZJnU"
      }
    },
    {
      "cell_type": "code",
      "source": [
        "def aggregate_batch(batch_start='2021-01-01', batch_end='2022-12-31', train_days = 30, test_days = 15, initial_date='2020-01-01' ):\n",
        "    batch = []\n",
        "    \n",
        "    a = pd.to_datetime(initial_date)\n",
        "    while True:\n",
        "        b = pd.to_datetime(batch_start)\n",
        "        c = pd.to_datetime(batch_start) + pd.DateOffset(days=test_days)\n",
        "        batch.append([a, b, c])\n",
        "    \n",
        "        if  b + pd.DateOffset(days=train_days+test_days) > pd.to_datetime(batch_end):\n",
        "            break\n",
        "        else:\n",
        "            batch_start = b + pd.DateOffset(days=train_days)\n",
        "            \n",
        "    return batch"
      ],
      "metadata": {
        "id": "JRrA399FZIYp"
      },
      "execution_count": 3,
      "outputs": []
    }
  ]
}