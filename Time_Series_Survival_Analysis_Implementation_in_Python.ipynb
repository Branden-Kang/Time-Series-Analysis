{
  "nbformat": 4,
  "nbformat_minor": 0,
  "metadata": {
    "colab": {
      "name": "Time Series Survival Analysis: Implementation in Python.ipynb",
      "provenance": [],
      "authorship_tag": "ABX9TyOYYsEGuxP1W/OGU1AKBXPT"
    },
    "kernelspec": {
      "name": "python3",
      "display_name": "Python 3"
    },
    "language_info": {
      "name": "python"
    }
  },
  "cells": [
    {
      "cell_type": "markdown",
      "source": [
        "[Reference](https://medium.com/@boyangchen02/time-series-survival-analysis-implementation-in-python-f31c43b3099d)"
      ],
      "metadata": {
        "id": "NxaK9WAOkPyC"
      }
    },
    {
      "cell_type": "markdown",
      "source": [
        "# Import and Explore Relevant Data"
      ],
      "metadata": {
        "id": "A3QCwtkzksGM"
      }
    },
    {
      "cell_type": "code",
      "source": [
        "!pip install lifelines"
      ],
      "metadata": {
        "colab": {
          "base_uri": "https://localhost:8080/",
          "height": 837
        },
        "id": "e0Z2fZ0MkyEY",
        "outputId": "ac856e06-81ae-4b32-c82c-b539d76180e8"
      },
      "execution_count": 2,
      "outputs": [
        {
          "output_type": "stream",
          "name": "stdout",
          "text": [
            "Looking in indexes: https://pypi.org/simple, https://us-python.pkg.dev/colab-wheels/public/simple/\n",
            "Collecting lifelines\n",
            "  Downloading lifelines-0.27.0-py3-none-any.whl (349 kB)\n",
            "\u001b[K     |████████████████████████████████| 349 kB 4.8 MB/s \n",
            "\u001b[?25hRequirement already satisfied: autograd>=1.3 in /usr/local/lib/python3.7/dist-packages (from lifelines) (1.4)\n",
            "Collecting autograd-gamma>=0.3\n",
            "  Downloading autograd-gamma-0.5.0.tar.gz (4.0 kB)\n",
            "Requirement already satisfied: numpy>=1.14.0 in /usr/local/lib/python3.7/dist-packages (from lifelines) (1.21.6)\n",
            "Requirement already satisfied: matplotlib>=3.0 in /usr/local/lib/python3.7/dist-packages (from lifelines) (3.2.2)\n",
            "Requirement already satisfied: pandas>=1.0.0 in /usr/local/lib/python3.7/dist-packages (from lifelines) (1.3.5)\n",
            "Requirement already satisfied: scipy>=1.2.0 in /usr/local/lib/python3.7/dist-packages (from lifelines) (1.4.1)\n",
            "Collecting formulaic>=0.2.2\n",
            "  Downloading formulaic-0.3.4-py3-none-any.whl (68 kB)\n",
            "\u001b[K     |████████████████████████████████| 68 kB 3.7 MB/s \n",
            "\u001b[?25hRequirement already satisfied: future>=0.15.2 in /usr/local/lib/python3.7/dist-packages (from autograd>=1.3->lifelines) (0.16.0)\n",
            "Requirement already satisfied: astor>=0.8 in /usr/local/lib/python3.7/dist-packages (from formulaic>=0.2.2->lifelines) (0.8.1)\n",
            "Collecting interface-meta<2.0.0,>=1.2.0\n",
            "  Downloading interface_meta-1.3.0-py3-none-any.whl (14 kB)\n",
            "Requirement already satisfied: wrapt>=1.0 in /usr/local/lib/python3.7/dist-packages (from formulaic>=0.2.2->lifelines) (1.14.1)\n",
            "Collecting scipy>=1.2.0\n",
            "  Downloading scipy-1.7.3-cp37-cp37m-manylinux_2_12_x86_64.manylinux2010_x86_64.whl (38.1 MB)\n",
            "\u001b[K     |████████████████████████████████| 38.1 MB 1.4 MB/s \n",
            "\u001b[?25hRequirement already satisfied: pyparsing!=2.0.4,!=2.1.2,!=2.1.6,>=2.0.1 in /usr/local/lib/python3.7/dist-packages (from matplotlib>=3.0->lifelines) (3.0.9)\n",
            "Requirement already satisfied: kiwisolver>=1.0.1 in /usr/local/lib/python3.7/dist-packages (from matplotlib>=3.0->lifelines) (1.4.2)\n",
            "Requirement already satisfied: python-dateutil>=2.1 in /usr/local/lib/python3.7/dist-packages (from matplotlib>=3.0->lifelines) (2.8.2)\n",
            "Requirement already satisfied: cycler>=0.10 in /usr/local/lib/python3.7/dist-packages (from matplotlib>=3.0->lifelines) (0.11.0)\n",
            "Requirement already satisfied: typing-extensions in /usr/local/lib/python3.7/dist-packages (from kiwisolver>=1.0.1->matplotlib>=3.0->lifelines) (4.2.0)\n",
            "Requirement already satisfied: pytz>=2017.3 in /usr/local/lib/python3.7/dist-packages (from pandas>=1.0.0->lifelines) (2022.1)\n",
            "Requirement already satisfied: six>=1.5 in /usr/local/lib/python3.7/dist-packages (from python-dateutil>=2.1->matplotlib>=3.0->lifelines) (1.15.0)\n",
            "Building wheels for collected packages: autograd-gamma\n",
            "  Building wheel for autograd-gamma (setup.py) ... \u001b[?25l\u001b[?25hdone\n",
            "  Created wheel for autograd-gamma: filename=autograd_gamma-0.5.0-py3-none-any.whl size=4048 sha256=db66917b4a6508c60f535e40b9c9277a94fa3b749e0ce140012258da041f209b\n",
            "  Stored in directory: /root/.cache/pip/wheels/9f/01/ee/1331593abb5725ff7d8c1333aee93a50a1c29d6ddda9665c9f\n",
            "Successfully built autograd-gamma\n",
            "Installing collected packages: scipy, interface-meta, formulaic, autograd-gamma, lifelines\n",
            "  Attempting uninstall: scipy\n",
            "    Found existing installation: scipy 1.4.1\n",
            "    Uninstalling scipy-1.4.1:\n",
            "      Successfully uninstalled scipy-1.4.1\n",
            "\u001b[31mERROR: pip's dependency resolver does not currently take into account all the packages that are installed. This behaviour is the source of the following dependency conflicts.\n",
            "albumentations 0.1.12 requires imgaug<0.2.7,>=0.2.5, but you have imgaug 0.2.9 which is incompatible.\u001b[0m\n",
            "Successfully installed autograd-gamma-0.5.0 formulaic-0.3.4 interface-meta-1.3.0 lifelines-0.27.0 scipy-1.7.3\n"
          ]
        },
        {
          "output_type": "display_data",
          "data": {
            "application/vnd.colab-display-data+json": {
              "pip_warning": {
                "packages": [
                  "scipy"
                ]
              }
            }
          },
          "metadata": {}
        }
      ]
    },
    {
      "cell_type": "code",
      "execution_count": 3,
      "metadata": {
        "id": "RhZ2jbm2kFXm"
      },
      "outputs": [],
      "source": [
        "import pandas as pd\n",
        "import numpy as np\n",
        "import matplotlib.pyplot as plt\n",
        "import seaborn as sns\n",
        "from lifelines import KaplanMeierFitter, CoxPHFitter\n",
        "from lifelines.plotting import plot_lifetimes\n",
        "%matplotlib inline"
      ]
    },
    {
      "cell_type": "code",
      "source": [
        "data = pd.read_csv(\"https://raw.githubusercontent.com/bchen022/Machine_Learning_Deep_Learning_Projects/6fe9cc01192cadfe2ecbc79fd5b8e9270a82557c/heart_failure_clinical_records_dataset.csv\")\n",
        "# check datatype and column dtypes, non-null values\n",
        "data.info()\n",
        "# check for missing values \n",
        "data.isnull().sum()"
      ],
      "metadata": {
        "colab": {
          "base_uri": "https://localhost:8080/"
        },
        "id": "eUAZrIK4kuDo",
        "outputId": "d7d65bd0-3b81-46f3-c7af-5b2d2c5b434b"
      },
      "execution_count": 8,
      "outputs": [
        {
          "output_type": "stream",
          "name": "stdout",
          "text": [
            "<class 'pandas.core.frame.DataFrame'>\n",
            "RangeIndex: 299 entries, 0 to 298\n",
            "Data columns (total 13 columns):\n",
            " #   Column                    Non-Null Count  Dtype  \n",
            "---  ------                    --------------  -----  \n",
            " 0   age                       299 non-null    float64\n",
            " 1   anaemia                   299 non-null    int64  \n",
            " 2   creatinine_phosphokinase  299 non-null    int64  \n",
            " 3   diabetes                  299 non-null    int64  \n",
            " 4   ejection_fraction         299 non-null    int64  \n",
            " 5   high_blood_pressure       299 non-null    int64  \n",
            " 6   platelets                 299 non-null    float64\n",
            " 7   serum_creatinine          299 non-null    float64\n",
            " 8   serum_sodium              299 non-null    int64  \n",
            " 9   sex                       299 non-null    int64  \n",
            " 10  smoking                   299 non-null    int64  \n",
            " 11  time                      299 non-null    int64  \n",
            " 12  DEATH_EVENT               299 non-null    int64  \n",
            "dtypes: float64(3), int64(10)\n",
            "memory usage: 30.5 KB\n"
          ]
        },
        {
          "output_type": "execute_result",
          "data": {
            "text/plain": [
              "age                         0\n",
              "anaemia                     0\n",
              "creatinine_phosphokinase    0\n",
              "diabetes                    0\n",
              "ejection_fraction           0\n",
              "high_blood_pressure         0\n",
              "platelets                   0\n",
              "serum_creatinine            0\n",
              "serum_sodium                0\n",
              "sex                         0\n",
              "smoking                     0\n",
              "time                        0\n",
              "DEATH_EVENT                 0\n",
              "dtype: int64"
            ]
          },
          "metadata": {},
          "execution_count": 8
        }
      ]
    },
    {
      "cell_type": "markdown",
      "source": [
        "## Correlation heatmap\n"
      ],
      "metadata": {
        "id": "L7man0uCk1Um"
      }
    },
    {
      "cell_type": "code",
      "source": [
        "import seaborn as sns\n",
        "corr = data.corr().sort_values(ascending=False, key=lambda x: abs(x), by=\"DEATH_EVENT\")\n",
        "ax = sns.heatmap(corr, vmin=-1, vmax=1, center=0, cmap=sns.diverging_palette(20, 220, n=200), square=True,)\n",
        "ax.set_xticklabels(ax.get_xticklabels(), rotation=45, horizontalalignment='right')\n",
        "ax.set_title(\"Heart Failure Survival Heatmap\")"
      ],
      "metadata": {
        "colab": {
          "base_uri": "https://localhost:8080/",
          "height": 388
        },
        "id": "2tK4vRink2H_",
        "outputId": "809c15db-5d52-4411-c17a-b72f730fb68e"
      },
      "execution_count": 9,
      "outputs": [
        {
          "output_type": "execute_result",
          "data": {
            "text/plain": [
              "Text(0.5, 1.0, 'Heart Failure Survival Heatmap')"
            ]
          },
          "metadata": {},
          "execution_count": 9
        },
        {
          "output_type": "display_data",
          "data": {
            "text/plain": [
              "<Figure size 432x288 with 2 Axes>"
            ],
            "image/png": "[encoded data removed]"
          },
          "metadata": {
            "needs_background": "light"
          }
        }
      ]
    },
    {
      "cell_type": "markdown",
      "source": [
        "# Modelling Approaches\n",
        "- Kaplan-Meier Estimator:\n",
        "This estimator can be used for simple comparison of survival rates between groups (For instance, survival rates between smokers and non-smokers)\n",
        "- Cox Proportional Hazard Model:\n",
        "The Cox Proportional Hazard model can be used to model hazard rates based on multiple features, either categorical or numerical."
      ],
      "metadata": {
        "id": "eA-UST-8lD55"
      }
    },
    {
      "cell_type": "markdown",
      "source": [
        "# Plotting the Kaplan-Meier Curve"
      ],
      "metadata": {
        "id": "Ij8068-YlPXF"
      }
    },
    {
      "cell_type": "code",
      "source": [
        "kmf = KaplanMeierFitter()\n",
        "kmf.fit(data.time, data.DEATH_EVENT, label = 'Kaplan Meier Estimate, full sample')\n",
        "kmf.plot(linewidth=4, figsize=(12, 6))\n",
        "plt.title('Heart Failure Survival: Kaplan-Meier Curve')\n",
        "plt.xlabel('Tenure (Months)')\n",
        "plt.ylabel('Survival probability')"
      ],
      "metadata": {
        "colab": {
          "base_uri": "https://localhost:8080/",
          "height": 372
        },
        "id": "lK-voneAlC1O",
        "outputId": "d19e2de5-242a-4150-c282-d74484589934"
      },
      "execution_count": 10,
      "outputs": [
        {
          "output_type": "execute_result",
          "data": {
            "text/plain": [
              "Text(0, 0.5, 'Survival probability')"
            ]
          },
          "metadata": {},
          "execution_count": 10
        },
        {
          "output_type": "display_data",
          "data": {
            "text/plain": [
              "<Figure size 864x432 with 1 Axes>"
            ],
            "image/png": "[encoded data removed]"
          },
          "metadata": {
            "needs_background": "light"
          }
        }
      ]
    },
    {
      "cell_type": "code",
      "source": [
        "kmf.survival_function_"
      ],
      "metadata": {
        "colab": {
          "base_uri": "https://localhost:8080/",
          "height": 450
        },
        "id": "soUzBq9QlSBc",
        "outputId": "d0ddf64f-5a85-49d5-d452-1803378d6e14"
      },
      "execution_count": 11,
      "outputs": [
        {
          "output_type": "execute_result",
          "data": {
            "text/plain": [
              "          Kaplan Meier Estimate, full sample\n",
              "timeline                                    \n",
              "0.0                                 1.000000\n",
              "4.0                                 0.996656\n",
              "6.0                                 0.993311\n",
              "7.0                                 0.986622\n",
              "8.0                                 0.979933\n",
              "...                                      ...\n",
              "270.0                               0.575705\n",
              "271.0                               0.575705\n",
              "278.0                               0.575705\n",
              "280.0                               0.575705\n",
              "285.0                               0.575705\n",
              "\n",
              "[149 rows x 1 columns]"
            ],
            "text/html": [
              "\n",
              "  <div id=\"df-16485110-2fb2-409d-970c-f289e4acfe22\">\n",
              "    <div class=\"colab-df-container\">\n",
              "      <div>\n",
              "<style scoped>\n",
              "    .dataframe tbody tr th:only-of-type {\n",
              "        vertical-align: middle;\n",
              "    }\n",
              "\n",
              "    .dataframe tbody tr th {\n",
              "        vertical-align: top;\n",
              "    }\n",
              "\n",
              "    .dataframe thead th {\n",
              "        text-align: right;\n",
              "    }\n",
              "</style>\n",
              "<table border=\"1\" class=\"dataframe\">\n",
              "  <thead>\n",
              "    <tr style=\"text-align: right;\">\n",
              "      <th></th>\n",
              "      <th>Kaplan Meier Estimate, full sample</th>\n",
              "    </tr>\n",
              "    <tr>\n",
              "      <th>timeline</th>\n",
              "      <th></th>\n",
              "    </tr>\n",
              "  </thead>\n",
              "  <tbody>\n",
              "    <tr>\n",
              "      <th>0.0</th>\n",
              "      <td>1.000000</td>\n",
              "    </tr>\n",
              "    <tr>\n",
              "      <th>4.0</th>\n",
              "      <td>0.996656</td>\n",
              "    </tr>\n",
              "    <tr>\n",
              "      <th>6.0</th>\n",
              "      <td>0.993311</td>\n",
              "    </tr>\n",
              "    <tr>\n",
              "      <th>7.0</th>\n",
              "      <td>0.986622</td>\n",
              "    </tr>\n",
              "    <tr>\n",
              "      <th>8.0</th>\n",
              "      <td>0.979933</td>\n",
              "    </tr>\n",
              "    <tr>\n",
              "      <th>...</th>\n",
              "      <td>...</td>\n",
              "    </tr>\n",
              "    <tr>\n",
              "      <th>270.0</th>\n",
              "      <td>0.575705</td>\n",
              "    </tr>\n",
              "    <tr>\n",
              "      <th>271.0</th>\n",
              "      <td>0.575705</td>\n",
              "    </tr>\n",
              "    <tr>\n",
              "      <th>278.0</th>\n",
              "      <td>0.575705</td>\n",
              "    </tr>\n",
              "    <tr>\n",
              "      <th>280.0</th>\n",
              "      <td>0.575705</td>\n",
              "    </tr>\n",
              "    <tr>\n",
              "      <th>285.0</th>\n",
              "      <td>0.575705</td>\n",
              "    </tr>\n",
              "  </tbody>\n",
              "</table>\n",
              "<p>149 rows × 1 columns</p>\n",
              "</div>\n",
              "      <button class=\"colab-df-convert\" onclick=\"convertToInteractive('df-16485110-2fb2-409d-970c-f289e4acfe22')\"\n",
              "              title=\"Convert this dataframe to an interactive table.\"\n",
              "              style=\"display:none;\">\n",
              "        \n",
              "  <svg xmlns=\"http://www.w3.org/2000/svg\" height=\"24px\"viewBox=\"0 0 24 24\"\n",
              "       width=\"24px\">\n",
              "    <path d=\"M0 0h24v24H0V0z\" fill=\"none\"/>\n",
              "    <path d=\"M18.56 5.44l.94 2.06.94-2.06 2.06-.94-2.06-.94-.94-2.06-.94 2.06-2.06.94zm-11 1L8.5 8.5l.94-2.06 2.06-.94-2.06-.94L8.5 2.5l-.94 2.06-2.06.94zm10 10l.94 2.06.94-2.06 2.06-.94-2.06-.94-.94-2.06-.94 2.06-2.06.94z\"/><path d=\"M17.41 7.96l-1.37-1.37c-.4-.4-.92-.59-1.43-.59-.52 0-1.04.2-1.43.59L10.3 9.45l-7.72 7.72c-.78.78-.78 2.05 0 2.83L4 21.41c.39.39.9.59 1.41.59.51 0 1.02-.2 1.41-.59l7.78-7.78 2.81-2.81c.8-.78.8-2.07 0-2.86zM5.41 20L4 18.59l7.72-7.72 1.47 1.35L5.41 20z\"/>\n",
              "  </svg>\n",
              "      </button>\n",
              "      \n",
              "  <style>\n",
              "    .colab-df-container {\n",
              "      display:flex;\n",
              "      flex-wrap:wrap;\n",
              "      gap: 12px;\n",
              "    }\n",
              "\n",
              "    .colab-df-convert {\n",
              "      background-color: #E8F0FE;\n",
              "      border: none;\n",
              "      border-radius: 50%;\n",
              "      cursor: pointer;\n",
              "      display: none;\n",
              "      fill: #1967D2;\n",
              "      height: 32px;\n",
              "      padding: 0 0 0 0;\n",
              "      width: 32px;\n",
              "    }\n",
              "\n",
              "    .colab-df-convert:hover {\n",
              "      background-color: #E2EBFA;\n",
              "      box-shadow: 0px 1px 2px rgba(60, 64, 67, 0.3), 0px 1px 3px 1px rgba(60, 64, 67, 0.15);\n",
              "      fill: #174EA6;\n",
              "    }\n",
              "\n",
              "    [theme=dark] .colab-df-convert {\n",
              "      background-color: #3B4455;\n",
              "      fill: #D2E3FC;\n",
              "    }\n",
              "\n",
              "    [theme=dark] .colab-df-convert:hover {\n",
              "      background-color: #434B5C;\n",
              "      box-shadow: 0px 1px 3px 1px rgba(0, 0, 0, 0.15);\n",
              "      filter: drop-shadow(0px 1px 2px rgba(0, 0, 0, 0.3));\n",
              "      fill: #FFFFFF;\n",
              "    }\n",
              "  </style>\n",
              "\n",
              "      <script>\n",
              "        const buttonEl =\n",
              "          document.querySelector('#df-16485110-2fb2-409d-970c-f289e4acfe22 button.colab-df-convert');\n",
              "        buttonEl.style.display =\n",
              "          google.colab.kernel.accessAllowed ? 'block' : 'none';\n",
              "\n",
              "        async function convertToInteractive(key) {\n",
              "          const element = document.querySelector('#df-16485110-2fb2-409d-970c-f289e4acfe22');\n",
              "          const dataTable =\n",
              "            await google.colab.kernel.invokeFunction('convertToInteractive',\n",
              "                                                     [key], {});\n",
              "          if (!dataTable) return;\n",
              "\n",
              "          const docLinkHtml = 'Like what you see? Visit the ' +\n",
              "            '<a target=\"_blank\" href=https://colab.research.google.com/notebooks/data_table.ipynb>data table notebook</a>'\n",
              "            + ' to learn more about interactive tables.';\n",
              "          element.innerHTML = '';\n",
              "          dataTable['output_type'] = 'display_data';\n",
              "          await google.colab.output.renderOutput(dataTable, element);\n",
              "          const docLink = document.createElement('div');\n",
              "          docLink.innerHTML = docLinkHtml;\n",
              "          element.appendChild(docLink);\n",
              "        }\n",
              "      </script>\n",
              "    </div>\n",
              "  </div>\n",
              "  "
            ]
          },
          "metadata": {},
          "execution_count": 11
        }
      ]
    },
    {
      "cell_type": "markdown",
      "source": [
        "# Examining Variables"
      ],
      "metadata": {
        "id": "Oz7ZKuYMlUwc"
      }
    },
    {
      "cell_type": "code",
      "source": [
        "df1 = data[data.anaemia==1]\n",
        "df2 = data[data.anaemia==0]\n",
        "kmf.fit(df1.time, df1.DEATH_EVENT)\n",
        "kmf.plot(label='With Anaemia', figsize=(12, 6))\n",
        "kmf.fit(df2.time, df2.DEATH_EVENT)\n",
        "kmf.plot(label='Without Anaemia')\n",
        "plt.title('Anaemia and Death: Kaplan-Meier Curve')\n",
        "plt.xlabel('Months')\n",
        "plt.ylabel('Survival probability')"
      ],
      "metadata": {
        "colab": {
          "base_uri": "https://localhost:8080/",
          "height": 372
        },
        "id": "u1r2oTWIlTmp",
        "outputId": "7a9f8e59-c5ca-440e-96eb-a9428126a32d"
      },
      "execution_count": 12,
      "outputs": [
        {
          "output_type": "execute_result",
          "data": {
            "text/plain": [
              "Text(0, 0.5, 'Survival probability')"
            ]
          },
          "metadata": {},
          "execution_count": 12
        },
        {
          "output_type": "display_data",
          "data": {
            "text/plain": [
              "<Figure size 864x432 with 1 Axes>"
            ],
            "image/png": "[encoded data removed]"
          },
          "metadata": {
            "needs_background": "light"
          }
        }
      ]
    },
    {
      "cell_type": "markdown",
      "source": [
        "# Cox Proportional Hazards Model"
      ],
      "metadata": {
        "id": "73sy_2Yolkma"
      }
    },
    {
      "cell_type": "code",
      "source": [
        "# Using Cox Proportional Hazards Model\n",
        "cph = CoxPHFitter()\n",
        "cph.fit(data, duration_col='time', event_col='DEATH_EVENT')"
      ],
      "metadata": {
        "colab": {
          "base_uri": "https://localhost:8080/"
        },
        "id": "0EbUFNqrlWXf",
        "outputId": "107028d2-67d2-43e8-d8f1-2ec4697d5923"
      },
      "execution_count": 13,
      "outputs": [
        {
          "output_type": "execute_result",
          "data": {
            "text/plain": [
              "<lifelines.CoxPHFitter: fitted with 299 total observations, 203 right-censored observations>"
            ]
          },
          "metadata": {},
          "execution_count": 13
        }
      ]
    },
    {
      "cell_type": "code",
      "source": [
        "cph.plot()"
      ],
      "metadata": {
        "colab": {
          "base_uri": "https://localhost:8080/",
          "height": 296
        },
        "id": "Ats8u6VIloOx",
        "outputId": "736be08a-cf36-4afa-9058-009ed8e965c4"
      },
      "execution_count": 14,
      "outputs": [
        {
          "output_type": "execute_result",
          "data": {
            "text/plain": [
              "<matplotlib.axes._subplots.AxesSubplot at 0x7fd423c645d0>"
            ]
          },
          "metadata": {},
          "execution_count": 14
        },
        {
          "output_type": "display_data",
          "data": {
            "text/plain": [
              "<Figure size 432x288 with 1 Axes>"
            ],
            "image/png": "[encoded data removed]"
          },
          "metadata": {
            "needs_background": "light"
          }
        }
      ]
    },
    {
      "cell_type": "code",
      "source": [
        "cph.print_summary(columns=[\"coef\",\"exp(coef)\",\"exp(coef) lower 95%\",\"exp(coef) upper 95%\", \"z\", \"p\"], decimals=3)"
      ],
      "metadata": {
        "colab": {
          "base_uri": "https://localhost:8080/",
          "height": 884
        },
        "id": "E5Yzof41lpcD",
        "outputId": "68404d82-fd89-4c22-db1e-cb488d5100f2"
      },
      "execution_count": 15,
      "outputs": [
        {
          "output_type": "stream",
          "name": "stderr",
          "text": [
            "/usr/local/lib/python3.7/dist-packages/lifelines/utils/printer.py:74: FutureWarning: Index.__and__ operating as a set operation is deprecated, in the future this will be a logical operation matching Series.__and__.  Use index.intersection(other) instead\n",
            "  columns = summary_df.columns & self.columns\n",
            "/usr/local/lib/python3.7/dist-packages/lifelines/utils/printer.py:61: FutureWarning: Index.__and__ operating as a set operation is deprecated, in the future this will be a logical operation matching Series.__and__.  Use index.intersection(other) instead\n",
            "  columns = summary_df.columns & self.columns\n"
          ]
        },
        {
          "output_type": "display_data",
          "data": {
            "text/plain": [
              "<lifelines.CoxPHFitter: fitted with 299 total observations, 203 right-censored observations>\n",
              "             duration col = 'time'\n",
              "                event col = 'DEATH_EVENT'\n",
              "      baseline estimation = breslow\n",
              "   number of observations = 299\n",
              "number of events observed = 96\n",
              "   partial log-likelihood = -468.228\n",
              "         time fit was run = 2022-06-06 01:17:23 UTC\n",
              "\n",
              "---\n",
              "                           coef  exp(coef)  exp(coef) lower 95%  exp(coef) upper 95%      z       p\n",
              "covariate                                                                                          \n",
              "age                       0.046      1.048                1.029                1.067  4.977 <0.0005\n",
              "anaemia                   0.460      1.584                1.036                2.423  2.122   0.034\n",
              "creatinine_phosphokinase  0.000      1.000                1.000                1.000  2.226   0.026\n",
              "diabetes                  0.140      1.150                0.743                1.781  0.627   0.531\n",
              "ejection_fraction        -0.049      0.952                0.933                0.972 -4.672 <0.0005\n",
              "high_blood_pressure       0.476      1.609                1.053                2.458  2.201   0.028\n",
              "platelets                -0.000      1.000                1.000                1.000 -0.412   0.681\n",
              "serum_creatinine          0.321      1.379                1.201                1.582  4.575 <0.0005\n",
              "serum_sodium             -0.044      0.957                0.914                1.001 -1.899   0.058\n",
              "sex                      -0.238      0.789                0.482                1.291 -0.944   0.345\n",
              "smoking                   0.129      1.138                0.695                1.861  0.513   0.608\n",
              "---\n",
              "Concordance = 0.741\n",
              "Partial AIC = 958.456\n",
              "log-likelihood ratio test = 81.955 on 11 df\n",
              "-log2(p) of ll-ratio test = 40.559"
            ],
            "text/html": [
              "<div>\n",
              "<style scoped>\n",
              "    .dataframe tbody tr th:only-of-type {\n",
              "        vertical-align: middle;\n",
              "    }\n",
              "\n",
              "    .dataframe tbody tr th {\n",
              "        vertical-align: top;\n",
              "    }\n",
              "\n",
              "    .dataframe thead th {\n",
              "        text-align: right;\n",
              "    }\n",
              "</style>\n",
              "<table border=\"1\" class=\"dataframe\">\n",
              "  <tbody>\n",
              "    <tr>\n",
              "      <th>model</th>\n",
              "      <td>lifelines.CoxPHFitter</td>\n",
              "    </tr>\n",
              "    <tr>\n",
              "      <th>duration col</th>\n",
              "      <td>'time'</td>\n",
              "    </tr>\n",
              "    <tr>\n",
              "      <th>event col</th>\n",
              "      <td>'DEATH_EVENT'</td>\n",
              "    </tr>\n",
              "    <tr>\n",
              "      <th>baseline estimation</th>\n",
              "      <td>breslow</td>\n",
              "    </tr>\n",
              "    <tr>\n",
              "      <th>number of observations</th>\n",
              "      <td>299</td>\n",
              "    </tr>\n",
              "    <tr>\n",
              "      <th>number of events observed</th>\n",
              "      <td>96</td>\n",
              "    </tr>\n",
              "    <tr>\n",
              "      <th>partial log-likelihood</th>\n",
              "      <td>-468.228</td>\n",
              "    </tr>\n",
              "    <tr>\n",
              "      <th>time fit was run</th>\n",
              "      <td>2022-06-06 01:17:23 UTC</td>\n",
              "    </tr>\n",
              "  </tbody>\n",
              "</table>\n",
              "</div><table border=\"1\" class=\"dataframe\">\n",
              "  <thead>\n",
              "    <tr style=\"text-align: right;\">\n",
              "      <th style=\"min-width: 12px;\"></th>\n",
              "      <th style=\"min-width: 12px;\">coef</th>\n",
              "      <th style=\"min-width: 12px;\">exp(coef)</th>\n",
              "      <th style=\"min-width: 12px;\">exp(coef) lower 95%</th>\n",
              "      <th style=\"min-width: 12px;\">exp(coef) upper 95%</th>\n",
              "      <th style=\"min-width: 12px;\">z</th>\n",
              "      <th style=\"min-width: 12px;\">p</th>\n",
              "    </tr>\n",
              "  </thead>\n",
              "  <tbody>\n",
              "    <tr>\n",
              "      <th>age</th>\n",
              "      <td>0.046</td>\n",
              "      <td>1.048</td>\n",
              "      <td>1.029</td>\n",
              "      <td>1.067</td>\n",
              "      <td>4.977</td>\n",
              "      <td>&lt;0.0005</td>\n",
              "    </tr>\n",
              "    <tr>\n",
              "      <th>anaemia</th>\n",
              "      <td>0.460</td>\n",
              "      <td>1.584</td>\n",
              "      <td>1.036</td>\n",
              "      <td>2.423</td>\n",
              "      <td>2.122</td>\n",
              "      <td>0.034</td>\n",
              "    </tr>\n",
              "    <tr>\n",
              "      <th>creatinine_phosphokinase</th>\n",
              "      <td>0.000</td>\n",
              "      <td>1.000</td>\n",
              "      <td>1.000</td>\n",
              "      <td>1.000</td>\n",
              "      <td>2.226</td>\n",
              "      <td>0.026</td>\n",
              "    </tr>\n",
              "    <tr>\n",
              "      <th>diabetes</th>\n",
              "      <td>0.140</td>\n",
              "      <td>1.150</td>\n",
              "      <td>0.743</td>\n",
              "      <td>1.781</td>\n",
              "      <td>0.627</td>\n",
              "      <td>0.531</td>\n",
              "    </tr>\n",
              "    <tr>\n",
              "      <th>ejection_fraction</th>\n",
              "      <td>-0.049</td>\n",
              "      <td>0.952</td>\n",
              "      <td>0.933</td>\n",
              "      <td>0.972</td>\n",
              "      <td>-4.672</td>\n",
              "      <td>&lt;0.0005</td>\n",
              "    </tr>\n",
              "    <tr>\n",
              "      <th>high_blood_pressure</th>\n",
              "      <td>0.476</td>\n",
              "      <td>1.609</td>\n",
              "      <td>1.053</td>\n",
              "      <td>2.458</td>\n",
              "      <td>2.201</td>\n",
              "      <td>0.028</td>\n",
              "    </tr>\n",
              "    <tr>\n",
              "      <th>platelets</th>\n",
              "      <td>-0.000</td>\n",
              "      <td>1.000</td>\n",
              "      <td>1.000</td>\n",
              "      <td>1.000</td>\n",
              "      <td>-0.412</td>\n",
              "      <td>0.681</td>\n",
              "    </tr>\n",
              "    <tr>\n",
              "      <th>serum_creatinine</th>\n",
              "      <td>0.321</td>\n",
              "      <td>1.379</td>\n",
              "      <td>1.201</td>\n",
              "      <td>1.582</td>\n",
              "      <td>4.575</td>\n",
              "      <td>&lt;0.0005</td>\n",
              "    </tr>\n",
              "    <tr>\n",
              "      <th>serum_sodium</th>\n",
              "      <td>-0.044</td>\n",
              "      <td>0.957</td>\n",
              "      <td>0.914</td>\n",
              "      <td>1.001</td>\n",
              "      <td>-1.899</td>\n",
              "      <td>0.058</td>\n",
              "    </tr>\n",
              "    <tr>\n",
              "      <th>sex</th>\n",
              "      <td>-0.238</td>\n",
              "      <td>0.789</td>\n",
              "      <td>0.482</td>\n",
              "      <td>1.291</td>\n",
              "      <td>-0.944</td>\n",
              "      <td>0.345</td>\n",
              "    </tr>\n",
              "    <tr>\n",
              "      <th>smoking</th>\n",
              "      <td>0.129</td>\n",
              "      <td>1.138</td>\n",
              "      <td>0.695</td>\n",
              "      <td>1.861</td>\n",
              "      <td>0.513</td>\n",
              "      <td>0.608</td>\n",
              "    </tr>\n",
              "  </tbody>\n",
              "</table><br><div>\n",
              "<style scoped>\n",
              "    .dataframe tbody tr th:only-of-type {\n",
              "        vertical-align: middle;\n",
              "    }\n",
              "\n",
              "    .dataframe tbody tr th {\n",
              "        vertical-align: top;\n",
              "    }\n",
              "\n",
              "    .dataframe thead th {\n",
              "        text-align: right;\n",
              "    }\n",
              "</style>\n",
              "<table border=\"1\" class=\"dataframe\">\n",
              "  <tbody>\n",
              "    <tr>\n",
              "      <th>Concordance</th>\n",
              "      <td>0.741</td>\n",
              "    </tr>\n",
              "    <tr>\n",
              "      <th>Partial AIC</th>\n",
              "      <td>958.456</td>\n",
              "    </tr>\n",
              "    <tr>\n",
              "      <th>log-likelihood ratio test</th>\n",
              "      <td>81.955 on 11 df</td>\n",
              "    </tr>\n",
              "    <tr>\n",
              "      <th>-log2(p) of ll-ratio test</th>\n",
              "      <td>40.559</td>\n",
              "    </tr>\n",
              "  </tbody>\n",
              "</table>\n",
              "</div>"
            ],
            "text/latex": "\\begin{tabular}{lrrrrrr}\n\\toprule\n{} &   coef &  exp(coef) &  exp(coef) lower 95\\% &  exp(coef) upper 95\\% &      z &     p \\\\\ncovariate                &        &            &                      &                      &        &       \\\\\n\\midrule\nage                      &  0.046 &      1.048 &                1.029 &                1.067 &  4.977 & 0.000 \\\\\nanaemia                  &  0.460 &      1.584 &                1.036 &                2.423 &  2.122 & 0.034 \\\\\ncreatinine\\_phosphokinase &  0.000 &      1.000 &                1.000 &                1.000 &  2.226 & 0.026 \\\\\ndiabetes                 &  0.140 &      1.150 &                0.743 &                1.781 &  0.627 & 0.531 \\\\\nejection\\_fraction        & -0.049 &      0.952 &                0.933 &                0.972 & -4.672 & 0.000 \\\\\nhigh\\_blood\\_pressure      &  0.476 &      1.609 &                1.053 &                2.458 &  2.201 & 0.028 \\\\\nplatelets                & -0.000 &      1.000 &                1.000 &                1.000 & -0.412 & 0.681 \\\\\nserum\\_creatinine         &  0.321 &      1.379 &                1.201 &                1.582 &  4.575 & 0.000 \\\\\nserum\\_sodium             & -0.044 &      0.957 &                0.914 &                1.001 & -1.899 & 0.058 \\\\\nsex                      & -0.238 &      0.789 &                0.482 &                1.291 & -0.944 & 0.345 \\\\\nsmoking                  &  0.129 &      1.138 &                0.695 &                1.861 &  0.513 & 0.608 \\\\\n\\bottomrule\n\\end{tabular}\n"
          },
          "metadata": {}
        }
      ]
    },
    {
      "cell_type": "markdown",
      "source": [
        "# Using a survival model"
      ],
      "metadata": {
        "id": "9DXK-pQelso7"
      }
    },
    {
      "cell_type": "code",
      "source": [
        "cph.predict_survival_function(data.loc[6]).plot(title=\"Survival probability for patient 6 over time\")\n",
        "plt.xlabel(\"Time in weeks\")"
      ],
      "metadata": {
        "colab": {
          "base_uri": "https://localhost:8080/",
          "height": 312
        },
        "id": "bLcsZoQRlrf1",
        "outputId": "bb23e62b-7753-43b8-d508-0a051c062cf5"
      },
      "execution_count": 16,
      "outputs": [
        {
          "output_type": "execute_result",
          "data": {
            "text/plain": [
              "Text(0.5, 0, 'Time in weeks')"
            ]
          },
          "metadata": {},
          "execution_count": 16
        },
        {
          "output_type": "display_data",
          "data": {
            "text/plain": [
              "<Figure size 432x288 with 1 Axes>"
            ],
            "image/png": "[encoded data removed]"
          },
          "metadata": {
            "needs_background": "light"
          }
        }
      ]
    },
    {
      "cell_type": "code",
      "source": [
        "cph.predict_survival_function(data.loc[69]).plot(title=\"Survival probability for patient 69 over time\")\n",
        "plt.xlabel(\"Time in weeks\")"
      ],
      "metadata": {
        "colab": {
          "base_uri": "https://localhost:8080/",
          "height": 312
        },
        "id": "fw455Usultw9",
        "outputId": "77414a20-121d-477c-f73e-9d7229bc525b"
      },
      "execution_count": 17,
      "outputs": [
        {
          "output_type": "execute_result",
          "data": {
            "text/plain": [
              "Text(0.5, 0, 'Time in weeks')"
            ]
          },
          "metadata": {},
          "execution_count": 17
        },
        {
          "output_type": "display_data",
          "data": {
            "text/plain": [
              "<Figure size 432x288 with 1 Axes>"
            ],
            "image/png": "[encoded data removed]"
          },
          "metadata": {
            "needs_background": "light"
          }
        }
      ]
    }
  ]
}